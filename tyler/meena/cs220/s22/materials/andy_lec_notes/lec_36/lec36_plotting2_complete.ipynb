{
 "cells": [
  {
   "cell_type": "code",
   "execution_count": 1,
   "metadata": {},
   "outputs": [
    {
     "data": {
      "text/html": [
       "<style>em { color: red; }</style> <style>.container { width:100% !important; }</style>"
      ],
      "text/plain": [
       "<IPython.core.display.HTML object>"
      ]
     },
     "metadata": {},
     "output_type": "display_data"
    }
   ],
   "source": [
    "# ignore this cell (it's just to make certain text red later, but you don't need to understand it).\n",
    "from IPython.core.display import display, HTML\n",
    "display(HTML('<style>em { color: red; }</style> <style>.container { width:100% !important; }</style>'))"
   ]
  },
  {
   "cell_type": "code",
   "execution_count": 2,
   "metadata": {},
   "outputs": [],
   "source": [
    "import pandas as pd\n",
    "from pandas import DataFrame, Series\n",
    "\n",
    "import sqlite3\n",
    "import os\n",
    "\n",
    "import matplotlib\n",
    "from matplotlib import pyplot as plt\n",
    "\n",
    "import requests\n",
    "matplotlib.rcParams[\"font.size\"] = 12"
   ]
  },
  {
   "cell_type": "markdown",
   "metadata": {},
   "source": [
    "### IRIS dataset: http://archive.ics.uci.edu/ml/datasets/iris\n",
    "- This set of data is used in beginning Machine Learning Courses\n",
    "- You can train a ML algorithm to use the values to predict the class of iris\n",
    "- Dataset link: https://archive.ics.uci.edu/ml/machine-learning-databases/iris/iris.data"
   ]
  },
  {
   "cell_type": "code",
   "execution_count": 3,
   "metadata": {},
   "outputs": [],
   "source": [
    "# Warmup 1:  Requests and file writing\n",
    "\n",
    "# use requests to get this file  \"https://archive.ics.uci.edu/ml/machine-learning-databases/iris/iris.data\"\n",
    "response = requests.get(\"https://archive.ics.uci.edu/ml/machine-learning-databases/iris/iris.data\")\n",
    "\n",
    "# check that the request was successful\n",
    "response.raise_for_status()\n",
    "\n",
    "# open a file called \"iris.csv\" for writing the data locally to avoid spamming their server\n",
    "file_obj = open(\"iris.csv\", \"w\")\n",
    "\n",
    "# write the text of response to the file object\n",
    "file_obj.write(response.text)\n",
    "\n",
    "# close the file object\n",
    "file_obj.close()\n",
    "\n",
    "# Look at the file you downloaded. What's wrong with it?"
   ]
  },
  {
   "cell_type": "code",
   "execution_count": 4,
   "metadata": {},
   "outputs": [
    {
     "data": {
      "text/html": [
       "<div>\n",
       "<style scoped>\n",
       "    .dataframe tbody tr th:only-of-type {\n",
       "        vertical-align: middle;\n",
       "    }\n",
       "\n",
       "    .dataframe tbody tr th {\n",
       "        vertical-align: top;\n",
       "    }\n",
       "\n",
       "    .dataframe thead th {\n",
       "        text-align: right;\n",
       "    }\n",
       "</style>\n",
       "<table border=\"1\" class=\"dataframe\">\n",
       "  <thead>\n",
       "    <tr style=\"text-align: right;\">\n",
       "      <th></th>\n",
       "      <th>5.1</th>\n",
       "      <th>3.5</th>\n",
       "      <th>1.4</th>\n",
       "      <th>0.2</th>\n",
       "      <th>Iris-setosa</th>\n",
       "    </tr>\n",
       "  </thead>\n",
       "  <tbody>\n",
       "    <tr>\n",
       "      <th>0</th>\n",
       "      <td>4.9</td>\n",
       "      <td>3.0</td>\n",
       "      <td>1.4</td>\n",
       "      <td>0.2</td>\n",
       "      <td>Iris-setosa</td>\n",
       "    </tr>\n",
       "    <tr>\n",
       "      <th>1</th>\n",
       "      <td>4.7</td>\n",
       "      <td>3.2</td>\n",
       "      <td>1.3</td>\n",
       "      <td>0.2</td>\n",
       "      <td>Iris-setosa</td>\n",
       "    </tr>\n",
       "    <tr>\n",
       "      <th>2</th>\n",
       "      <td>4.6</td>\n",
       "      <td>3.1</td>\n",
       "      <td>1.5</td>\n",
       "      <td>0.2</td>\n",
       "      <td>Iris-setosa</td>\n",
       "    </tr>\n",
       "    <tr>\n",
       "      <th>3</th>\n",
       "      <td>5.0</td>\n",
       "      <td>3.6</td>\n",
       "      <td>1.4</td>\n",
       "      <td>0.2</td>\n",
       "      <td>Iris-setosa</td>\n",
       "    </tr>\n",
       "    <tr>\n",
       "      <th>4</th>\n",
       "      <td>5.4</td>\n",
       "      <td>3.9</td>\n",
       "      <td>1.7</td>\n",
       "      <td>0.4</td>\n",
       "      <td>Iris-setosa</td>\n",
       "    </tr>\n",
       "  </tbody>\n",
       "</table>\n",
       "</div>"
      ],
      "text/plain": [
       "   5.1  3.5  1.4  0.2  Iris-setosa\n",
       "0  4.9  3.0  1.4  0.2  Iris-setosa\n",
       "1  4.7  3.2  1.3  0.2  Iris-setosa\n",
       "2  4.6  3.1  1.5  0.2  Iris-setosa\n",
       "3  5.0  3.6  1.4  0.2  Iris-setosa\n",
       "4  5.4  3.9  1.7  0.4  Iris-setosa"
      ]
     },
     "execution_count": 4,
     "metadata": {},
     "output_type": "execute_result"
    }
   ],
   "source": [
    "# Warmup 2:  Making a DataFrame\n",
    "\n",
    "# read the \"iris.csv\" file into a Pandas dataframe\n",
    "iris_df = pd.read_csv(\"iris.csv\")\n",
    "\n",
    "# display the head of the data frame\n",
    "iris_df.head()"
   ]
  },
  {
   "cell_type": "code",
   "execution_count": 5,
   "metadata": {},
   "outputs": [
    {
     "data": {
      "text/html": [
       "<div>\n",
       "<style scoped>\n",
       "    .dataframe tbody tr th:only-of-type {\n",
       "        vertical-align: middle;\n",
       "    }\n",
       "\n",
       "    .dataframe tbody tr th {\n",
       "        vertical-align: top;\n",
       "    }\n",
       "\n",
       "    .dataframe thead th {\n",
       "        text-align: right;\n",
       "    }\n",
       "</style>\n",
       "<table border=\"1\" class=\"dataframe\">\n",
       "  <thead>\n",
       "    <tr style=\"text-align: right;\">\n",
       "      <th></th>\n",
       "      <th>sep-length</th>\n",
       "      <th>sep-width</th>\n",
       "      <th>pet-length</th>\n",
       "      <th>pet-width</th>\n",
       "      <th>class</th>\n",
       "    </tr>\n",
       "  </thead>\n",
       "  <tbody>\n",
       "    <tr>\n",
       "      <th>0</th>\n",
       "      <td>5.1</td>\n",
       "      <td>3.5</td>\n",
       "      <td>1.4</td>\n",
       "      <td>0.2</td>\n",
       "      <td>Iris-setosa</td>\n",
       "    </tr>\n",
       "    <tr>\n",
       "      <th>1</th>\n",
       "      <td>4.9</td>\n",
       "      <td>3.0</td>\n",
       "      <td>1.4</td>\n",
       "      <td>0.2</td>\n",
       "      <td>Iris-setosa</td>\n",
       "    </tr>\n",
       "    <tr>\n",
       "      <th>2</th>\n",
       "      <td>4.7</td>\n",
       "      <td>3.2</td>\n",
       "      <td>1.3</td>\n",
       "      <td>0.2</td>\n",
       "      <td>Iris-setosa</td>\n",
       "    </tr>\n",
       "    <tr>\n",
       "      <th>3</th>\n",
       "      <td>4.6</td>\n",
       "      <td>3.1</td>\n",
       "      <td>1.5</td>\n",
       "      <td>0.2</td>\n",
       "      <td>Iris-setosa</td>\n",
       "    </tr>\n",
       "    <tr>\n",
       "      <th>4</th>\n",
       "      <td>5.0</td>\n",
       "      <td>3.6</td>\n",
       "      <td>1.4</td>\n",
       "      <td>0.2</td>\n",
       "      <td>Iris-setosa</td>\n",
       "    </tr>\n",
       "  </tbody>\n",
       "</table>\n",
       "</div>"
      ],
      "text/plain": [
       "   sep-length  sep-width  pet-length  pet-width        class\n",
       "0         5.1        3.5         1.4        0.2  Iris-setosa\n",
       "1         4.9        3.0         1.4        0.2  Iris-setosa\n",
       "2         4.7        3.2         1.3        0.2  Iris-setosa\n",
       "3         4.6        3.1         1.5        0.2  Iris-setosa\n",
       "4         5.0        3.6         1.4        0.2  Iris-setosa"
      ]
     },
     "execution_count": 5,
     "metadata": {},
     "output_type": "execute_result"
    }
   ],
   "source": [
    "# Warmup 3: Our CSV file has no header....let's add column names.\n",
    "#           Refer to the documentation: https://pandas.pydata.org/docs/reference/api/pandas.read_csv.html\n",
    "\n",
    "# Attribute Information:\n",
    "# 1. sepal length in cm\n",
    "# 2. sepal width in cm\n",
    "# 3. petal length in cm\n",
    "# 4. petal width in cm\n",
    "# 5. class: Iris Setosa, Iris Versicolour, Iris Virginica\n",
    "\n",
    "# These should be our headers [\"sep-length\", \"sep-width\", \"pet-length\", \"pet-width\", \"class\"]\n",
    "\n",
    "\n",
    "iris_df = pd.read_csv(\"iris.csv\",\n",
    "                 names=[\"sep-length\", \"sep-width\", \"pet-length\", \"pet-width\", \"class\"])\n",
    "iris_df.head()"
   ]
  },
  {
   "cell_type": "code",
   "execution_count": 6,
   "metadata": {},
   "outputs": [
    {
     "data": {
      "text/html": [
       "<div>\n",
       "<style scoped>\n",
       "    .dataframe tbody tr th:only-of-type {\n",
       "        vertical-align: middle;\n",
       "    }\n",
       "\n",
       "    .dataframe tbody tr th {\n",
       "        vertical-align: top;\n",
       "    }\n",
       "\n",
       "    .dataframe thead th {\n",
       "        text-align: right;\n",
       "    }\n",
       "</style>\n",
       "<table border=\"1\" class=\"dataframe\">\n",
       "  <thead>\n",
       "    <tr style=\"text-align: right;\">\n",
       "      <th></th>\n",
       "      <th>type</th>\n",
       "      <th>name</th>\n",
       "      <th>tbl_name</th>\n",
       "      <th>rootpage</th>\n",
       "      <th>sql</th>\n",
       "    </tr>\n",
       "  </thead>\n",
       "  <tbody>\n",
       "    <tr>\n",
       "      <th>0</th>\n",
       "      <td>table</td>\n",
       "      <td>iris</td>\n",
       "      <td>iris</td>\n",
       "      <td>2</td>\n",
       "      <td>CREATE TABLE \"iris\" (\\n\"sep-length\" REAL,\\n  \"...</td>\n",
       "    </tr>\n",
       "  </tbody>\n",
       "</table>\n",
       "</div>"
      ],
      "text/plain": [
       "    type  name tbl_name  rootpage  \\\n",
       "0  table  iris     iris         2   \n",
       "\n",
       "                                                 sql  \n",
       "0  CREATE TABLE \"iris\" (\\n\"sep-length\" REAL,\\n  \"...  "
      ]
     },
     "execution_count": 6,
     "metadata": {},
     "output_type": "execute_result"
    }
   ],
   "source": [
    "# Warmup 4: Connect to our database version of this data!\n",
    "iris_conn = sqlite3.connect(\"iris-flowers.db\")\n",
    "pd.read_sql(\"SELECT * FROM sqlite_master WHERE type='table'\", iris_conn)"
   ]
  },
  {
   "cell_type": "code",
   "execution_count": 7,
   "metadata": {},
   "outputs": [
    {
     "data": {
      "text/html": [
       "<div>\n",
       "<style scoped>\n",
       "    .dataframe tbody tr th:only-of-type {\n",
       "        vertical-align: middle;\n",
       "    }\n",
       "\n",
       "    .dataframe tbody tr th {\n",
       "        vertical-align: top;\n",
       "    }\n",
       "\n",
       "    .dataframe thead th {\n",
       "        text-align: right;\n",
       "    }\n",
       "</style>\n",
       "<table border=\"1\" class=\"dataframe\">\n",
       "  <thead>\n",
       "    <tr style=\"text-align: right;\">\n",
       "      <th></th>\n",
       "      <th>sep-length</th>\n",
       "      <th>sep-width</th>\n",
       "      <th>pet-length</th>\n",
       "      <th>pet-width</th>\n",
       "      <th>class</th>\n",
       "    </tr>\n",
       "  </thead>\n",
       "  <tbody>\n",
       "    <tr>\n",
       "      <th>0</th>\n",
       "      <td>5.8</td>\n",
       "      <td>4.0</td>\n",
       "      <td>1.2</td>\n",
       "      <td>0.2</td>\n",
       "      <td>Iris-setosa</td>\n",
       "    </tr>\n",
       "    <tr>\n",
       "      <th>1</th>\n",
       "      <td>5.7</td>\n",
       "      <td>3.8</td>\n",
       "      <td>1.7</td>\n",
       "      <td>0.3</td>\n",
       "      <td>Iris-setosa</td>\n",
       "    </tr>\n",
       "    <tr>\n",
       "      <th>2</th>\n",
       "      <td>5.7</td>\n",
       "      <td>4.4</td>\n",
       "      <td>1.5</td>\n",
       "      <td>0.4</td>\n",
       "      <td>Iris-setosa</td>\n",
       "    </tr>\n",
       "    <tr>\n",
       "      <th>3</th>\n",
       "      <td>5.5</td>\n",
       "      <td>3.5</td>\n",
       "      <td>1.3</td>\n",
       "      <td>0.2</td>\n",
       "      <td>Iris-setosa</td>\n",
       "    </tr>\n",
       "    <tr>\n",
       "      <th>4</th>\n",
       "      <td>5.5</td>\n",
       "      <td>4.2</td>\n",
       "      <td>1.4</td>\n",
       "      <td>0.2</td>\n",
       "      <td>Iris-setosa</td>\n",
       "    </tr>\n",
       "    <tr>\n",
       "      <th>5</th>\n",
       "      <td>5.4</td>\n",
       "      <td>3.4</td>\n",
       "      <td>1.7</td>\n",
       "      <td>0.2</td>\n",
       "      <td>Iris-setosa</td>\n",
       "    </tr>\n",
       "    <tr>\n",
       "      <th>6</th>\n",
       "      <td>5.4</td>\n",
       "      <td>3.4</td>\n",
       "      <td>1.5</td>\n",
       "      <td>0.4</td>\n",
       "      <td>Iris-setosa</td>\n",
       "    </tr>\n",
       "    <tr>\n",
       "      <th>7</th>\n",
       "      <td>5.4</td>\n",
       "      <td>3.7</td>\n",
       "      <td>1.5</td>\n",
       "      <td>0.2</td>\n",
       "      <td>Iris-setosa</td>\n",
       "    </tr>\n",
       "    <tr>\n",
       "      <th>8</th>\n",
       "      <td>5.4</td>\n",
       "      <td>3.9</td>\n",
       "      <td>1.7</td>\n",
       "      <td>0.4</td>\n",
       "      <td>Iris-setosa</td>\n",
       "    </tr>\n",
       "    <tr>\n",
       "      <th>9</th>\n",
       "      <td>5.4</td>\n",
       "      <td>3.9</td>\n",
       "      <td>1.3</td>\n",
       "      <td>0.4</td>\n",
       "      <td>Iris-setosa</td>\n",
       "    </tr>\n",
       "  </tbody>\n",
       "</table>\n",
       "</div>"
      ],
      "text/plain": [
       "   sep-length  sep-width  pet-length  pet-width        class\n",
       "0         5.8        4.0         1.2        0.2  Iris-setosa\n",
       "1         5.7        3.8         1.7        0.3  Iris-setosa\n",
       "2         5.7        4.4         1.5        0.4  Iris-setosa\n",
       "3         5.5        3.5         1.3        0.2  Iris-setosa\n",
       "4         5.5        4.2         1.4        0.2  Iris-setosa\n",
       "5         5.4        3.4         1.7        0.2  Iris-setosa\n",
       "6         5.4        3.4         1.5        0.4  Iris-setosa\n",
       "7         5.4        3.7         1.5        0.2  Iris-setosa\n",
       "8         5.4        3.9         1.7        0.4  Iris-setosa\n",
       "9         5.4        3.9         1.3        0.4  Iris-setosa"
      ]
     },
     "execution_count": 7,
     "metadata": {},
     "output_type": "execute_result"
    }
   ],
   "source": [
    "# Warmup 5: Using SQL, get the 10 'Iris-setosa' flowers with the longest sepal length.\n",
    "#           Break any ties by ordering by the shortest sepal width.\n",
    "\n",
    "pd.read_sql(\"\"\"\n",
    "    SELECT *\n",
    "    FROM iris\n",
    "    WHERE class = 'Iris-setosa'\n",
    "    ORDER BY `sep-length` DESC, `sep-width` ASC\n",
    "    LIMIT 10\n",
    "\"\"\", iris_conn)"
   ]
  },
  {
   "cell_type": "markdown",
   "metadata": {},
   "source": [
    "# Lecture 36:  Scatter Plots\n",
    "**Learning Objectives**\n",
    "- Set the marker, color, and size of scatter plot data\n",
    "- Calculate correlation between DataFrame columns\n",
    "- Use subplots to group scatterplot data"
   ]
  },
  {
   "cell_type": "markdown",
   "metadata": {},
   "source": [
    "## Set the marker, color, and size of scatter plot data\n",
    "\n",
    "To start, let's look at some made-up data about Trees.\n",
    "The city of Madison maintains a database of all the trees they care for."
   ]
  },
  {
   "cell_type": "code",
   "execution_count": 8,
   "metadata": {},
   "outputs": [
    {
     "data": {
      "text/html": [
       "<div>\n",
       "<style scoped>\n",
       "    .dataframe tbody tr th:only-of-type {\n",
       "        vertical-align: middle;\n",
       "    }\n",
       "\n",
       "    .dataframe tbody tr th {\n",
       "        vertical-align: top;\n",
       "    }\n",
       "\n",
       "    .dataframe thead th {\n",
       "        text-align: right;\n",
       "    }\n",
       "</style>\n",
       "<table border=\"1\" class=\"dataframe\">\n",
       "  <thead>\n",
       "    <tr style=\"text-align: right;\">\n",
       "      <th></th>\n",
       "      <th>age</th>\n",
       "      <th>height</th>\n",
       "      <th>diameter</th>\n",
       "    </tr>\n",
       "  </thead>\n",
       "  <tbody>\n",
       "    <tr>\n",
       "      <th>0</th>\n",
       "      <td>1</td>\n",
       "      <td>1.5</td>\n",
       "      <td>0.8</td>\n",
       "    </tr>\n",
       "    <tr>\n",
       "      <th>1</th>\n",
       "      <td>1</td>\n",
       "      <td>1.9</td>\n",
       "      <td>1.2</td>\n",
       "    </tr>\n",
       "    <tr>\n",
       "      <th>2</th>\n",
       "      <td>1</td>\n",
       "      <td>1.8</td>\n",
       "      <td>1.4</td>\n",
       "    </tr>\n",
       "    <tr>\n",
       "      <th>3</th>\n",
       "      <td>2</td>\n",
       "      <td>1.8</td>\n",
       "      <td>0.9</td>\n",
       "    </tr>\n",
       "    <tr>\n",
       "      <th>4</th>\n",
       "      <td>2</td>\n",
       "      <td>2.5</td>\n",
       "      <td>1.5</td>\n",
       "    </tr>\n",
       "  </tbody>\n",
       "</table>\n",
       "</div>"
      ],
      "text/plain": [
       "   age  height  diameter\n",
       "0    1     1.5       0.8\n",
       "1    1     1.9       1.2\n",
       "2    1     1.8       1.4\n",
       "3    2     1.8       0.9\n",
       "4    2     2.5       1.5"
      ]
     },
     "execution_count": 8,
     "metadata": {},
     "output_type": "execute_result"
    }
   ],
   "source": [
    "trees = [\n",
    "    {\"age\": 1, \"height\": 1.5, \"diameter\": 0.8},\n",
    "    {\"age\": 1, \"height\": 1.9, \"diameter\": 1.2},\n",
    "    {\"age\": 1, \"height\": 1.8, \"diameter\": 1.4},\n",
    "    {\"age\": 2, \"height\": 1.8, \"diameter\": 0.9},\n",
    "    {\"age\": 2, \"height\": 2.5, \"diameter\": 1.5},\n",
    "    {\"age\": 2, \"height\": 3, \"diameter\": 1.8},\n",
    "    {\"age\": 2, \"height\": 2.9, \"diameter\": 1.7},\n",
    "    {\"age\": 3, \"height\": 3.2, \"diameter\": 2.1},\n",
    "    {\"age\": 3, \"height\": 3, \"diameter\": 2},\n",
    "    {\"age\": 3, \"height\": 2.4, \"diameter\": 2.2},\n",
    "    {\"age\": 2, \"height\": 3.1, \"diameter\": 2.9},\n",
    "    {\"age\": 4, \"height\": 2.5, \"diameter\": 3.1},\n",
    "    {\"age\": 4, \"height\": 3.9, \"diameter\": 3.1},\n",
    "    {\"age\": 4, \"height\": 4.9, \"diameter\": 2.8},\n",
    "    {\"age\": 4, \"height\": 5.2, \"diameter\": 3.5},\n",
    "    {\"age\": 4, \"height\": 4.8, \"diameter\": 4},\n",
    "]\n",
    "trees_df = DataFrame(trees)\n",
    "trees_df.head()"
   ]
  },
  {
   "cell_type": "markdown",
   "metadata": {},
   "source": [
    "### Scatter Plots\n",
    "We can make a scatter plot of a DataFrame using the following function...\n",
    "\n",
    "`df_name.plot.scatter(x=\"x_col_name\", y=\"y_col_name\", color=\"peachpuff\")`\n",
    "\n",
    "Plot the trees data comparing a tree's age to its height...\n",
    " - What is `df_name`?\n",
    " - What is `x_col_name`?\n",
    " - What is `y_col_name`?"
   ]
  },
  {
   "cell_type": "code",
   "execution_count": 9,
   "metadata": {},
   "outputs": [
    {
     "data": {
      "text/plain": [
       "<AxesSubplot:xlabel='age', ylabel='height'>"
      ]
     },
     "execution_count": 9,
     "metadata": {},
     "output_type": "execute_result"
    },
    {
     "data": {
      "image/png": "[encoded data removed]",
      "text/plain": [
       "<Figure size 432x288 with 1 Axes>"
      ]
     },
     "metadata": {
      "needs_background": "light"
     },
     "output_type": "display_data"
    }
   ],
   "source": [
    "trees_df.plot.scatter(x=\"age\", y=\"height\", color = \"g\")  # TODO: change y to diameter"
   ]
  },
  {
   "cell_type": "markdown",
   "metadata": {},
   "source": [
    "Now plot with a little more beautification...\n",
    " - Use a new [color](https://matplotlib.org/3.5.0/_images/sphx_glr_named_colors_003.png)\n",
    " - Use a type of [marker](https://matplotlib.org/stable/api/markers_api.html)\n",
    " - Change the size (any int)"
   ]
  },
  {
   "cell_type": "code",
   "execution_count": 10,
   "metadata": {},
   "outputs": [
    {
     "data": {
      "text/plain": [
       "<AxesSubplot:xlabel='age', ylabel='height'>"
      ]
     },
     "execution_count": 10,
     "metadata": {},
     "output_type": "execute_result"
    },
    {
     "data": {
      "image/png": "[encoded data removed]",
      "text/plain": [
       "<Figure size 432x288 with 1 Axes>"
      ]
     },
     "metadata": {
      "needs_background": "light"
     },
     "output_type": "display_data"
    }
   ],
   "source": [
    "# Plot with some more beautification options.\n",
    "trees_df.plot.scatter(x=\"age\", y=\"height\", color=\"r\",  marker = \"D\", s=50) # D for diamond"
   ]
  },
  {
   "cell_type": "code",
   "execution_count": 11,
   "metadata": {},
   "outputs": [
    {
     "data": {
      "text/plain": [
       "Text(0.5, 1.0, 'Tree Age vs Height')"
      ]
     },
     "execution_count": 11,
     "metadata": {},
     "output_type": "execute_result"
    },
    {
     "data": {
      "image/png": "[encoded data removed]",
      "text/plain": [
       "<Figure size 432x288 with 1 Axes>"
      ]
     },
     "metadata": {
      "needs_background": "light"
     },
     "output_type": "display_data"
    }
   ],
   "source": [
    "# Add a title to your plot.\n",
    "ax = trees_df.plot.scatter(x=\"age\", y=\"height\", color=\"r\", marker = \"D\", s=50) # D for diamond\n",
    "ax.set_title(\"Tree Age vs Height\")"
   ]
  },
  {
   "cell_type": "markdown",
   "metadata": {},
   "source": [
    "#### Correlation"
   ]
  },
  {
   "cell_type": "code",
   "execution_count": 12,
   "metadata": {},
   "outputs": [
    {
     "data": {
      "text/html": [
       "<div>\n",
       "<style scoped>\n",
       "    .dataframe tbody tr th:only-of-type {\n",
       "        vertical-align: middle;\n",
       "    }\n",
       "\n",
       "    .dataframe tbody tr th {\n",
       "        vertical-align: top;\n",
       "    }\n",
       "\n",
       "    .dataframe thead th {\n",
       "        text-align: right;\n",
       "    }\n",
       "</style>\n",
       "<table border=\"1\" class=\"dataframe\">\n",
       "  <thead>\n",
       "    <tr style=\"text-align: right;\">\n",
       "      <th></th>\n",
       "      <th>age</th>\n",
       "      <th>height</th>\n",
       "      <th>diameter</th>\n",
       "    </tr>\n",
       "  </thead>\n",
       "  <tbody>\n",
       "    <tr>\n",
       "      <th>age</th>\n",
       "      <td>1.000000</td>\n",
       "      <td>0.797468</td>\n",
       "      <td>0.854578</td>\n",
       "    </tr>\n",
       "    <tr>\n",
       "      <th>height</th>\n",
       "      <td>0.797468</td>\n",
       "      <td>1.000000</td>\n",
       "      <td>0.839345</td>\n",
       "    </tr>\n",
       "    <tr>\n",
       "      <th>diameter</th>\n",
       "      <td>0.854578</td>\n",
       "      <td>0.839345</td>\n",
       "      <td>1.000000</td>\n",
       "    </tr>\n",
       "  </tbody>\n",
       "</table>\n",
       "</div>"
      ],
      "text/plain": [
       "               age    height  diameter\n",
       "age       1.000000  0.797468  0.854578\n",
       "height    0.797468  1.000000  0.839345\n",
       "diameter  0.854578  0.839345  1.000000"
      ]
     },
     "execution_count": 12,
     "metadata": {},
     "output_type": "execute_result"
    }
   ],
   "source": [
    "# What is the correlation between our DataFrame columns?\n",
    "corr_df = trees_df.corr()\n",
    "corr_df"
   ]
  },
  {
   "cell_type": "code",
   "execution_count": 13,
   "metadata": {},
   "outputs": [
    {
     "data": {
      "text/plain": [
       "0.7974683544303798"
      ]
     },
     "execution_count": 13,
     "metadata": {},
     "output_type": "execute_result"
    }
   ],
   "source": [
    "# What is the correlation between age and height (don't use .iloc)\n",
    "corr_df['age']['height']"
   ]
  },
  {
   "cell_type": "markdown",
   "metadata": {},
   "source": [
    "### The Size can be based on a DataFrame value"
   ]
  },
  {
   "cell_type": "code",
   "execution_count": 14,
   "metadata": {},
   "outputs": [
    {
     "data": {
      "text/plain": [
       "<AxesSubplot:xlabel='age', ylabel='height'>"
      ]
     },
     "execution_count": 14,
     "metadata": {},
     "output_type": "execute_result"
    },
    {
     "data": {
      "image/png": "[encoded data removed]",
      "text/plain": [
       "<Figure size 432x288 with 1 Axes>"
      ]
     },
     "metadata": {
      "needs_background": "light"
     },
     "output_type": "display_data"
    }
   ],
   "source": [
    "# Option 1:\n",
    "trees_df.plot.scatter(x=\"age\", y=\"height\",  marker=\"H\", s=\"diameter\")"
   ]
  },
  {
   "cell_type": "code",
   "execution_count": 15,
   "metadata": {},
   "outputs": [
    {
     "data": {
      "text/plain": [
       "<AxesSubplot:xlabel='age', ylabel='height'>"
      ]
     },
     "execution_count": 15,
     "metadata": {},
     "output_type": "execute_result"
    },
    {
     "data": {
      "image/png": "[encoded data removed]",
      "text/plain": [
       "<Figure size 432x288 with 1 Axes>"
      ]
     },
     "metadata": {
      "needs_background": "light"
     },
     "output_type": "display_data"
    }
   ],
   "source": [
    "# Option 2:\n",
    "trees_df.plot.scatter(x=\"age\", y=\"height\", marker = \"H\", s=trees_df[\"diameter\"] * 50) # this way allows you to make it bigger"
   ]
  },
  {
   "cell_type": "markdown",
   "metadata": {},
   "source": [
    "## Use subplots to group scatterplot data"
   ]
  },
  {
   "cell_type": "markdown",
   "metadata": {},
   "source": [
    "### Re-visit the Iris Data\n"
   ]
  },
  {
   "cell_type": "code",
   "execution_count": 16,
   "metadata": {},
   "outputs": [
    {
     "data": {
      "text/html": [
       "<div>\n",
       "<style scoped>\n",
       "    .dataframe tbody tr th:only-of-type {\n",
       "        vertical-align: middle;\n",
       "    }\n",
       "\n",
       "    .dataframe tbody tr th {\n",
       "        vertical-align: top;\n",
       "    }\n",
       "\n",
       "    .dataframe thead th {\n",
       "        text-align: right;\n",
       "    }\n",
       "</style>\n",
       "<table border=\"1\" class=\"dataframe\">\n",
       "  <thead>\n",
       "    <tr style=\"text-align: right;\">\n",
       "      <th></th>\n",
       "      <th>sep-length</th>\n",
       "      <th>sep-width</th>\n",
       "      <th>pet-length</th>\n",
       "      <th>pet-width</th>\n",
       "      <th>class</th>\n",
       "    </tr>\n",
       "  </thead>\n",
       "  <tbody>\n",
       "    <tr>\n",
       "      <th>0</th>\n",
       "      <td>5.1</td>\n",
       "      <td>3.5</td>\n",
       "      <td>1.4</td>\n",
       "      <td>0.2</td>\n",
       "      <td>Iris-setosa</td>\n",
       "    </tr>\n",
       "    <tr>\n",
       "      <th>1</th>\n",
       "      <td>4.9</td>\n",
       "      <td>3.0</td>\n",
       "      <td>1.4</td>\n",
       "      <td>0.2</td>\n",
       "      <td>Iris-setosa</td>\n",
       "    </tr>\n",
       "    <tr>\n",
       "      <th>2</th>\n",
       "      <td>4.7</td>\n",
       "      <td>3.2</td>\n",
       "      <td>1.3</td>\n",
       "      <td>0.2</td>\n",
       "      <td>Iris-setosa</td>\n",
       "    </tr>\n",
       "    <tr>\n",
       "      <th>3</th>\n",
       "      <td>4.6</td>\n",
       "      <td>3.1</td>\n",
       "      <td>1.5</td>\n",
       "      <td>0.2</td>\n",
       "      <td>Iris-setosa</td>\n",
       "    </tr>\n",
       "    <tr>\n",
       "      <th>4</th>\n",
       "      <td>5.0</td>\n",
       "      <td>3.6</td>\n",
       "      <td>1.4</td>\n",
       "      <td>0.2</td>\n",
       "      <td>Iris-setosa</td>\n",
       "    </tr>\n",
       "    <tr>\n",
       "      <th>...</th>\n",
       "      <td>...</td>\n",
       "      <td>...</td>\n",
       "      <td>...</td>\n",
       "      <td>...</td>\n",
       "      <td>...</td>\n",
       "    </tr>\n",
       "    <tr>\n",
       "      <th>145</th>\n",
       "      <td>6.7</td>\n",
       "      <td>3.0</td>\n",
       "      <td>5.2</td>\n",
       "      <td>2.3</td>\n",
       "      <td>Iris-virginica</td>\n",
       "    </tr>\n",
       "    <tr>\n",
       "      <th>146</th>\n",
       "      <td>6.3</td>\n",
       "      <td>2.5</td>\n",
       "      <td>5.0</td>\n",
       "      <td>1.9</td>\n",
       "      <td>Iris-virginica</td>\n",
       "    </tr>\n",
       "    <tr>\n",
       "      <th>147</th>\n",
       "      <td>6.5</td>\n",
       "      <td>3.0</td>\n",
       "      <td>5.2</td>\n",
       "      <td>2.0</td>\n",
       "      <td>Iris-virginica</td>\n",
       "    </tr>\n",
       "    <tr>\n",
       "      <th>148</th>\n",
       "      <td>6.2</td>\n",
       "      <td>3.4</td>\n",
       "      <td>5.4</td>\n",
       "      <td>2.3</td>\n",
       "      <td>Iris-virginica</td>\n",
       "    </tr>\n",
       "    <tr>\n",
       "      <th>149</th>\n",
       "      <td>5.9</td>\n",
       "      <td>3.0</td>\n",
       "      <td>5.1</td>\n",
       "      <td>1.8</td>\n",
       "      <td>Iris-virginica</td>\n",
       "    </tr>\n",
       "  </tbody>\n",
       "</table>\n",
       "<p>150 rows × 5 columns</p>\n",
       "</div>"
      ],
      "text/plain": [
       "     sep-length  sep-width  pet-length  pet-width           class\n",
       "0           5.1        3.5         1.4        0.2     Iris-setosa\n",
       "1           4.9        3.0         1.4        0.2     Iris-setosa\n",
       "2           4.7        3.2         1.3        0.2     Iris-setosa\n",
       "3           4.6        3.1         1.5        0.2     Iris-setosa\n",
       "4           5.0        3.6         1.4        0.2     Iris-setosa\n",
       "..          ...        ...         ...        ...             ...\n",
       "145         6.7        3.0         5.2        2.3  Iris-virginica\n",
       "146         6.3        2.5         5.0        1.9  Iris-virginica\n",
       "147         6.5        3.0         5.2        2.0  Iris-virginica\n",
       "148         6.2        3.4         5.4        2.3  Iris-virginica\n",
       "149         5.9        3.0         5.1        1.8  Iris-virginica\n",
       "\n",
       "[150 rows x 5 columns]"
      ]
     },
     "execution_count": 16,
     "metadata": {},
     "output_type": "execute_result"
    }
   ],
   "source": [
    "iris_df"
   ]
  },
  {
   "cell_type": "markdown",
   "metadata": {},
   "source": [
    "### How do we create a *scatter plot* for various *class types*?\n",
    "First, gather all the class types."
   ]
  },
  {
   "cell_type": "code",
   "execution_count": 17,
   "metadata": {},
   "outputs": [
    {
     "data": {
      "text/plain": [
       "['Iris-setosa', 'Iris-versicolor', 'Iris-virginica']"
      ]
     },
     "execution_count": 17,
     "metadata": {},
     "output_type": "execute_result"
    }
   ],
   "source": [
    "# In Pandas\n",
    "varietes = list(set(iris_df[\"class\"]))\n",
    "varietes"
   ]
  },
  {
   "cell_type": "code",
   "execution_count": 18,
   "metadata": {},
   "outputs": [
    {
     "data": {
      "text/plain": [
       "['Iris-setosa', 'Iris-versicolor', 'Iris-virginica']"
      ]
     },
     "execution_count": 18,
     "metadata": {},
     "output_type": "execute_result"
    }
   ],
   "source": [
    "# In SQL\n",
    "varietes = list(pd.read_sql(\"\"\"\n",
    "    SELECT DISTINCT class\n",
    "    FROM iris\n",
    "\"\"\", iris_conn)[\"class\"])\n",
    "varietes"
   ]
  },
  {
   "cell_type": "markdown",
   "metadata": {},
   "source": [
    "In reality, you can choose to write Pandas or SQL queries (or a mix of both!). For the rest of this lecture, we'll use Pandas."
   ]
  },
  {
   "cell_type": "code",
   "execution_count": 19,
   "metadata": {},
   "outputs": [],
   "source": [
    "# If you want to continue using SQL instead, don't close the connection!\n",
    "iris_conn.close()"
   ]
  },
  {
   "cell_type": "code",
   "execution_count": 20,
   "metadata": {},
   "outputs": [
    {
     "data": {
      "text/plain": [
       "<AxesSubplot:xlabel='pet-width', ylabel='pet-length'>"
      ]
     },
     "execution_count": 20,
     "metadata": {},
     "output_type": "execute_result"
    },
    {
     "data": {
      "image/png": "[encoded data removed]",
      "text/plain": [
       "<Figure size 432x288 with 1 Axes>"
      ]
     },
     "metadata": {
      "needs_background": "light"
     },
     "output_type": "display_data"
    }
   ],
   "source": [
    "# Change this scatter plot so that the data is only for class ='Iris-setosa'\n",
    "iris_df[iris_df[\"class\"] == 'Iris-setosa'].plot.scatter(x = \"pet-width\", y = \"pet-length\")"
   ]
  },
  {
   "cell_type": "code",
   "execution_count": 21,
   "metadata": {},
   "outputs": [
    {
     "data": {
      "image/png": "[encoded data removed]",
      "text/plain": [
       "<Figure size 432x288 with 1 Axes>"
      ]
     },
     "metadata": {
      "needs_background": "light"
     },
     "output_type": "display_data"
    },
    {
     "data": {
      "image/png": "[encoded data removed]",
      "text/plain": [
       "<Figure size 432x288 with 1 Axes>"
      ]
     },
     "metadata": {
      "needs_background": "light"
     },
     "output_type": "display_data"
    },
    {
     "data": {
      "image/png": "[encoded data removed]",
      "text/plain": [
       "<Figure size 432x288 with 1 Axes>"
      ]
     },
     "metadata": {
      "needs_background": "light"
     },
     "output_type": "display_data"
    }
   ],
   "source": [
    "# Write a for loop that iterates through each variety in classes\n",
    "# and makes a plot for only that class\n",
    "\n",
    "for i in range(len(varietes)):\n",
    "    variety = varietes[i]\n",
    "    \n",
    "    # make a df just of just the data for this variety\n",
    "    variety_df = iris_df[iris_df[\"class\"] == variety] \n",
    "    \n",
    "    #make a scatter plot for this variety\n",
    "    variety_df.plot.scatter(x = \"pet-width\", y = \"pet-length\", label=variety)"
   ]
  },
  {
   "cell_type": "code",
   "execution_count": 22,
   "metadata": {},
   "outputs": [
    {
     "data": {
      "image/png": "[encoded data removed]",
      "text/plain": [
       "<Figure size 432x288 with 1 Axes>"
      ]
     },
     "metadata": {
      "needs_background": "light"
     },
     "output_type": "display_data"
    },
    {
     "data": {
      "image/png": "[encoded data removed]",
      "text/plain": [
       "<Figure size 432x288 with 1 Axes>"
      ]
     },
     "metadata": {
      "needs_background": "light"
     },
     "output_type": "display_data"
    },
    {
     "data": {
      "image/png": "[encoded data removed]",
      "text/plain": [
       "<Figure size 432x288 with 1 Axes>"
      ]
     },
     "metadata": {
      "needs_background": "light"
     },
     "output_type": "display_data"
    }
   ],
   "source": [
    "# copy/paste the code above, but this time make each plot a different color\n",
    "colors = [\"blue\", \"green\", \"red\"]\n",
    "for i in range(len(varietes)):\n",
    "    variety = varietes[i]\n",
    "    \n",
    "    # make a df just of just the data for this variety\n",
    "    variety_df = iris_df[iris_df[\"class\"] == variety] \n",
    "    \n",
    "    #make a scatter plot for this variety\n",
    "    variety_df.plot.scatter(x = \"pet-width\", y = \"pet-length\", label=variety, color=colors[i])\n"
   ]
  },
  {
   "cell_type": "code",
   "execution_count": 23,
   "metadata": {},
   "outputs": [
    {
     "data": {
      "image/png": "[encoded data removed]",
      "text/plain": [
       "<Figure size 432x288 with 1 Axes>"
      ]
     },
     "metadata": {
      "needs_background": "light"
     },
     "output_type": "display_data"
    },
    {
     "data": {
      "image/png": "[encoded data removed]",
      "text/plain": [
       "<Figure size 432x288 with 1 Axes>"
      ]
     },
     "metadata": {
      "needs_background": "light"
     },
     "output_type": "display_data"
    },
    {
     "data": {
      "image/png": "[encoded data removed]",
      "text/plain": [
       "<Figure size 432x288 with 1 Axes>"
      ]
     },
     "metadata": {
      "needs_background": "light"
     },
     "output_type": "display_data"
    }
   ],
   "source": [
    "# copy/paste the code above, but this time make each plot a different color AND marker\n",
    "colors = [\"blue\", \"green\", \"red\"]\n",
    "markers = [\"o\", \"^\", \"v\"]\n",
    "for i in range(len(varietes)):\n",
    "    variety = varietes[i]\n",
    "    \n",
    "    # make a df just of just the data for this variety\n",
    "    variety_df = iris_df[iris_df[\"class\"] == variety] \n",
    "    \n",
    "    #make a scatter plot for this variety\n",
    "    variety_df.plot.scatter(x = \"pet-width\", y = \"pet-length\", label=variety, color=colors[i], marker=markers[i])"
   ]
  },
  {
   "cell_type": "code",
   "execution_count": 24,
   "metadata": {},
   "outputs": [],
   "source": [
    "# Did you notice that it made 3 plots?!?! What's deceiving about this?"
   ]
  },
  {
   "cell_type": "code",
   "execution_count": 25,
   "metadata": {},
   "outputs": [
    {
     "data": {
      "image/png": "[encoded data removed]",
      "text/plain": [
       "<Figure size 432x288 with 1 Axes>"
      ]
     },
     "metadata": {
      "needs_background": "light"
     },
     "output_type": "display_data"
    },
    {
     "data": {
      "image/png": "[encoded data removed]",
      "text/plain": [
       "<Figure size 432x288 with 1 Axes>"
      ]
     },
     "metadata": {
      "needs_background": "light"
     },
     "output_type": "display_data"
    },
    {
     "data": {
      "image/png": "[encoded data removed]",
      "text/plain": [
       "<Figure size 432x288 with 1 Axes>"
      ]
     },
     "metadata": {
      "needs_background": "light"
     },
     "output_type": "display_data"
    }
   ],
   "source": [
    "colors = [\"blue\", \"green\", \"red\"]\n",
    "markers = [\"o\", \"^\", \"v\"]\n",
    "min_x = iris_df[\"pet-width\"].min()\n",
    "max_x = iris_df[\"pet-width\"].max()\n",
    "min_y = iris_df[\"pet-length\"].min()\n",
    "max_y = iris_df[\"pet-length\"].max()\n",
    "for i in range(len(varietes)):\n",
    "    variety = varietes[i]\n",
    "    \n",
    "    # make a df just of just the data for this variety\n",
    "    variety_df = iris_df[iris_df[\"class\"] == variety] \n",
    "    \n",
    "    #make a scatter plot for this variety\n",
    "    variety_df.plot.scatter(x = \"pet-width\", y = \"pet-length\", label=variety, color=colors[i], marker=markers[i], xlim=(min_x, max_x), ylim=(min_y, max_y))"
   ]
  },
  {
   "cell_type": "code",
   "execution_count": 26,
   "metadata": {},
   "outputs": [],
   "source": [
    "# Have to be VERY careful to not crop out data.\n",
    "# We'll talk about this next lecture."
   ]
  },
  {
   "cell_type": "code",
   "execution_count": 27,
   "metadata": {},
   "outputs": [],
   "source": [
    "# Better yet, we could combine these."
   ]
  },
  {
   "cell_type": "markdown",
   "metadata": {},
   "source": [
    "### We can make Subplots in plots, called an AxesSubplot, keyword ax\n",
    "1. if AxesSuplot ax passed, then plot in that subplot\n",
    "2. if ax is None, create a new AxesSubplot\n",
    "3. return AxesSubplot that was used"
   ]
  },
  {
   "cell_type": "code",
   "execution_count": 28,
   "metadata": {},
   "outputs": [
    {
     "data": {
      "image/png": "[encoded data removed]",
      "text/plain": [
       "<Figure size 432x288 with 1 Axes>"
      ]
     },
     "metadata": {
      "needs_background": "light"
     },
     "output_type": "display_data"
    }
   ],
   "source": [
    "# complete this code to make 3 plots in one\n",
    "\n",
    "plot_area = None   # don't change this...look at this variable in line 12\n",
    "colors = [\"blue\", \"green\", \"red\"]\n",
    "markers = [\"o\", \"^\", \"v\"]\n",
    "for i in range(len(varietes)):\n",
    "    variety = varietes[i]\n",
    "    \n",
    "    # make a df just of just the data for this variety\n",
    "    variety_df = iris_df[iris_df[\"class\"] == variety] \n",
    "    \n",
    "    #make a scatter plot for this variety\n",
    "    plot_area = variety_df.plot.scatter(x = \"pet-width\", y = \"pet-length\", label=variety, color=colors[i], marker=markers[i], ax=plot_area)"
   ]
  },
  {
   "cell_type": "markdown",
   "metadata": {},
   "source": [
    "### Time-Permitting\n",
    "Plot this data in an interesting/meaningful way & identify any correlations."
   ]
  },
  {
   "cell_type": "code",
   "execution_count": 29,
   "metadata": {},
   "outputs": [
    {
     "data": {
      "text/html": [
       "<div>\n",
       "<style scoped>\n",
       "    .dataframe tbody tr th:only-of-type {\n",
       "        vertical-align: middle;\n",
       "    }\n",
       "\n",
       "    .dataframe tbody tr th {\n",
       "        vertical-align: top;\n",
       "    }\n",
       "\n",
       "    .dataframe thead th {\n",
       "        text-align: right;\n",
       "    }\n",
       "</style>\n",
       "<table border=\"1\" class=\"dataframe\">\n",
       "  <thead>\n",
       "    <tr style=\"text-align: right;\">\n",
       "      <th></th>\n",
       "      <th>name</th>\n",
       "      <th>grade</th>\n",
       "      <th>gpa</th>\n",
       "      <th>attendance</th>\n",
       "      <th>height</th>\n",
       "    </tr>\n",
       "  </thead>\n",
       "  <tbody>\n",
       "    <tr>\n",
       "      <th>0</th>\n",
       "      <td>Cole</td>\n",
       "      <td>C</td>\n",
       "      <td>2.0</td>\n",
       "      <td>4</td>\n",
       "      <td>68</td>\n",
       "    </tr>\n",
       "    <tr>\n",
       "      <th>1</th>\n",
       "      <td>Cynthia</td>\n",
       "      <td>AB</td>\n",
       "      <td>3.5</td>\n",
       "      <td>11</td>\n",
       "      <td>66</td>\n",
       "    </tr>\n",
       "    <tr>\n",
       "      <th>2</th>\n",
       "      <td>Alice</td>\n",
       "      <td>B</td>\n",
       "      <td>3.0</td>\n",
       "      <td>10</td>\n",
       "      <td>60</td>\n",
       "    </tr>\n",
       "    <tr>\n",
       "      <th>3</th>\n",
       "      <td>Seth</td>\n",
       "      <td>BC</td>\n",
       "      <td>2.5</td>\n",
       "      <td>6</td>\n",
       "      <td>72</td>\n",
       "    </tr>\n",
       "  </tbody>\n",
       "</table>\n",
       "</div>"
      ],
      "text/plain": [
       "      name grade  gpa  attendance  height\n",
       "0     Cole     C  2.0           4      68\n",
       "1  Cynthia    AB  3.5          11      66\n",
       "2    Alice     B  3.0          10      60\n",
       "3     Seth    BC  2.5           6      72"
      ]
     },
     "execution_count": 29,
     "metadata": {},
     "output_type": "execute_result"
    }
   ],
   "source": [
    "students = pd.DataFrame({\n",
    "    \"name\": [\n",
    "        \"Cole\",\n",
    "        \"Cynthia\",\n",
    "        \"Alice\",\n",
    "        \"Seth\"\n",
    "    ],\n",
    "    \"grade\": [\n",
    "        \"C\",\n",
    "        \"AB\",\n",
    "        \"B\",\n",
    "        \"BC\"\n",
    "    ],\n",
    "    \"gpa\": [\n",
    "        2.0,\n",
    "        3.5,\n",
    "        3.0,\n",
    "        2.5\n",
    "    ],\n",
    "    \"attendance\": [\n",
    "        4,\n",
    "        11,\n",
    "        10,\n",
    "        6\n",
    "    ],\n",
    "    \"height\": [\n",
    "        68,\n",
    "        66,\n",
    "        60,\n",
    "        72\n",
    "    ]\n",
    "})\n",
    "students"
   ]
  },
  {
   "cell_type": "code",
   "execution_count": 30,
   "metadata": {},
   "outputs": [
    {
     "data": {
      "text/plain": [
       "0    0.3333333333333333\n",
       "1                  0.25\n",
       "2                   0.0\n",
       "3                   0.5\n",
       "Name: height, dtype: string"
      ]
     },
     "execution_count": 30,
     "metadata": {},
     "output_type": "execute_result"
    }
   ],
   "source": [
    "# Min, Max, and Overall Difference in Student Height\n",
    "min_height = students[\"height\"].min()\n",
    "max_height = students[\"height\"].max()\n",
    "diff_height = max_height - min_height\n",
    "\n",
    "# Normalize students heights on a scale of [0, 1] (black to white)\n",
    "height_colors = (students[\"height\"] - min_height) / diff_height\n",
    "\n",
    "# Normalize students heights on a scale of [0, 0.5] (black to gray)\n",
    "height_colors = height_colors / 2 \n",
    "\n",
    "# Color must be a string (e.g. c='0.34')\n",
    "height_colors = height_colors.astype(\"string\")\n",
    "\n",
    "height_colors"
   ]
  },
  {
   "cell_type": "code",
   "execution_count": 31,
   "metadata": {},
   "outputs": [
    {
     "data": {
      "text/plain": [
       "<AxesSubplot:xlabel='attendance', ylabel='gpa'>"
      ]
     },
     "execution_count": 31,
     "metadata": {},
     "output_type": "execute_result"
    },
    {
     "data": {
      "image/png": "[encoded data removed]",
      "text/plain": [
       "<Figure size 432x288 with 1 Axes>"
      ]
     },
     "metadata": {
      "needs_background": "light"
     },
     "output_type": "display_data"
    }
   ],
   "source": [
    "students.plot.scatter(x=\"attendance\", y=\"gpa\", c=height_colors)"
   ]
  },
  {
   "cell_type": "code",
   "execution_count": 32,
   "metadata": {},
   "outputs": [
    {
     "data": {
      "text/html": [
       "<div>\n",
       "<style scoped>\n",
       "    .dataframe tbody tr th:only-of-type {\n",
       "        vertical-align: middle;\n",
       "    }\n",
       "\n",
       "    .dataframe tbody tr th {\n",
       "        vertical-align: top;\n",
       "    }\n",
       "\n",
       "    .dataframe thead th {\n",
       "        text-align: right;\n",
       "    }\n",
       "</style>\n",
       "<table border=\"1\" class=\"dataframe\">\n",
       "  <thead>\n",
       "    <tr style=\"text-align: right;\">\n",
       "      <th></th>\n",
       "      <th>gpa</th>\n",
       "      <th>attendance</th>\n",
       "      <th>height</th>\n",
       "    </tr>\n",
       "  </thead>\n",
       "  <tbody>\n",
       "    <tr>\n",
       "      <th>gpa</th>\n",
       "      <td>1.000000</td>\n",
       "      <td>0.976831</td>\n",
       "      <td>-0.464758</td>\n",
       "    </tr>\n",
       "    <tr>\n",
       "      <th>attendance</th>\n",
       "      <td>0.976831</td>\n",
       "      <td>1.000000</td>\n",
       "      <td>-0.635586</td>\n",
       "    </tr>\n",
       "    <tr>\n",
       "      <th>height</th>\n",
       "      <td>-0.464758</td>\n",
       "      <td>-0.635586</td>\n",
       "      <td>1.000000</td>\n",
       "    </tr>\n",
       "  </tbody>\n",
       "</table>\n",
       "</div>"
      ],
      "text/plain": [
       "                 gpa  attendance    height\n",
       "gpa         1.000000    0.976831 -0.464758\n",
       "attendance  0.976831    1.000000 -0.635586\n",
       "height     -0.464758   -0.635586  1.000000"
      ]
     },
     "execution_count": 32,
     "metadata": {},
     "output_type": "execute_result"
    }
   ],
   "source": [
    "students.corr()"
   ]
  },
  {
   "attachments": {
    "image.png": {
     "image/png": "[encoded data removed]"
    }
   },
   "cell_type": "markdown",
   "metadata": {},
   "source": [
    "![image.png](attachment:image.png)"
   ]
  },
  {
   "cell_type": "markdown",
   "metadata": {},
   "source": [
    "https://www.researchgate.net/publication/247907373_Stupid_Data_Miner_Tricks_Overfitting_the_SP_500"
   ]
  }
 ],
 "metadata": {
  "kernelspec": {
   "display_name": "Python 3",
   "language": "python",
   "name": "python3"
  },
  "language_info": {
   "codemirror_mode": {
    "name": "ipython",
    "version": 3
   },
   "file_extension": ".py",
   "mimetype": "text/x-python",
   "name": "python",
   "nbconvert_exporter": "python",
   "pygments_lexer": "ipython3",
   "version": "3.9.1"
  }
 },
 "nbformat": 4,
 "nbformat_minor": 2
}

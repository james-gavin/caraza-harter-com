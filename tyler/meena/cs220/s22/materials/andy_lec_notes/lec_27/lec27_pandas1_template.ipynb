{
 "cells": [
  {
   "cell_type": "code",
   "execution_count": 6,
   "metadata": {},
   "outputs": [],
   "source": [
    "import os\n",
    "import json\n",
    "import pandas # we will learn this today !!"
   ]
  },
  {
   "cell_type": "markdown",
   "metadata": {},
   "source": [
    "### Review: Files and Exceptions"
   ]
  },
  {
   "cell_type": "markdown",
   "metadata": {},
   "source": [
    "### Exception handling with Files:\n",
    "- FileNotFoundError\n",
    "- FileExistsError\n",
    " - ironically, used for directories, when using os.mkdir()\n",
    "- JSONDecodeError\n",
    " - when json file has incorrect format"
   ]
  },
  {
   "cell_type": "code",
   "execution_count": 2,
   "metadata": {},
   "outputs": [
    {
     "name": "stdout",
     "output_type": "stream",
     "text": [
      "enter the name of the file to open:hello.py\n",
      "<class 'FileNotFoundError'>\n",
      "hello.py could not be opened\n"
     ]
    }
   ],
   "source": [
    "# Review 1:  FileNot Found Error\n",
    "path = input(\"enter the name of the file to open:\")\n",
    "try:\n",
    "    f = open(path, \"r\")  # \"r\" is for reading, but is the default\n",
    "    d = f.read()\n",
    "    print(d)\n",
    "    f.close()\n",
    "except FileNotFoundError as e:\n",
    "    print(type(e))\n",
    "    print(path, \"could not be opened\")"
   ]
  },
  {
   "cell_type": "code",
   "execution_count": 5,
   "metadata": {},
   "outputs": [
    {
     "name": "stdout",
     "output_type": "stream",
     "text": [
      "Directory already exists!\n"
     ]
    }
   ],
   "source": [
    "# Review 2: File Exists Error happens when you call os.mkdir to make the same directory twice\n",
    "# Accidental execution of code containing mkdir twice\n",
    "\n",
    "try:\n",
    "    os.mkdir('new_test_dir')\n",
    "except FileExistsError:\n",
    "    print(\"Directory already exists!\")\n",
    "f = open(os.path.join('new_test_dir', 'out.txt'), 'w')\n",
    "f.write('hi')\n",
    "f.close()\n",
    "\n",
    "# Reminder: Tell your self why you must use os.path.join\n",
    "# "
   ]
  },
  {
   "cell_type": "markdown",
   "metadata": {},
   "source": [
    "### Remember that we can use these functions to help us read/write json files"
   ]
  },
  {
   "cell_type": "code",
   "execution_count": 8,
   "metadata": {},
   "outputs": [],
   "source": [
    "def read_json(path):\n",
    "    with open(path, encoding=\"utf-8\") as f:\n",
    "        return json.load(f) # dict, list, etc\n",
    "\n",
    "# data is a dict, list, etc\n",
    "def write_json(path, data):\n",
    "    with open(path, 'w', encoding=\"utf-8\") as f:\n",
    "        json.dump(data, f, indent=2)"
   ]
  },
  {
   "cell_type": "code",
   "execution_count": 9,
   "metadata": {},
   "outputs": [
    {
     "name": "stdout",
     "output_type": "stream",
     "text": [
      "trying to read in  6.json\n",
      "trying to read in  1.json\n",
      "trying to read in  2.json\n",
      "trying to read in  3.json\n",
      "trying to read in  4.json\n",
      "trying to read in  5.json\n"
     ]
    }
   ],
   "source": [
    "# Review #3: \n",
    "# JSONDecodeError - requires import\n",
    "\n",
    "# Steps:\n",
    "# Get output of listdir\n",
    "# Check for files with json extension\n",
    "# Read each file's contents\n",
    "\n",
    "files = os.listdir(\".\")\n",
    "\n",
    "for some_file in files:\n",
    "    if some_file.endswith(\".json\"):\n",
    "        print(\"trying to read in \", some_file)\n",
    "        try:\n",
    "            read_json(some_file)\n",
    "        except json.JSONDecodeError as e:\n",
    "            continue # move on to reading next file"
   ]
  },
  {
   "cell_type": "markdown",
   "metadata": {},
   "source": [
    "## Lecture 27 : Pandas, part 1 - Series\n",
    "\n",
    "Learning Objectives:\n",
    "- Create a pandas Series from a list or from a dict\n",
    "- Use Series methods max, min, mean, median, mode, quantile, value counts\n",
    "- Extract elements from a Series using Boolean indexing\n",
    "- Access Series members using .loc, .iloc, .items, and slicing\n",
    "- Perform Series element-wise operations"
   ]
  },
  {
   "cell_type": "code",
   "execution_count": 10,
   "metadata": {},
   "outputs": [],
   "source": [
    "## What is Pandas? \n",
    "## Pandas is a package of tools for doing Data Science\n",
    "## Pandas is installed on top of Python\n",
    "## Pandas was installed with Anaconda, so its on your computers\n",
    "\n",
    "# https://en.wikipedia.org/wiki/Pandas_(software)"
   ]
  },
  {
   "cell_type": "code",
   "execution_count": 11,
   "metadata": {},
   "outputs": [],
   "source": [
    "import pandas as pd\n",
    "# why do we do this? \n",
    "# saves us typing pandas"
   ]
  },
  {
   "cell_type": "markdown",
   "metadata": {},
   "source": [
    "### Create a pandas Series from a list or from a dict"
   ]
  },
  {
   "cell_type": "code",
   "execution_count": 12,
   "metadata": {},
   "outputs": [],
   "source": [
    "## A Pandas Series is like a combination of a list and a dictionary\n",
    "# The word 'index' is used \n"
   ]
  },
  {
   "cell_type": "code",
   "execution_count": 13,
   "metadata": {},
   "outputs": [
    {
     "name": "stdout",
     "output_type": "stream",
     "text": [
      "<class 'pandas.core.series.Series'>\n"
     ]
    },
    {
     "data": {
      "text/plain": [
       "0     44\n",
       "1     32\n",
       "2     19\n",
       "3     67\n",
       "4     23\n",
       "5     23\n",
       "6     92\n",
       "7     47\n",
       "8     47\n",
       "9     78\n",
       "10    84\n",
       "dtype: int64"
      ]
     },
     "execution_count": 13,
     "metadata": {},
     "output_type": "execute_result"
    }
   ],
   "source": [
    "scores = pd.Series(   [44, 32, 19, 67, 23, 23, 92, 47, 47, 78, 84]   )\n",
    "print(type(scores))\n",
    "scores"
   ]
  },
  {
   "cell_type": "code",
   "execution_count": 14,
   "metadata": {},
   "outputs": [
    {
     "data": {
      "text/plain": [
       "3    67\n",
       "4    23\n",
       "5    23\n",
       "dtype: int64"
      ]
     },
     "execution_count": 14,
     "metadata": {},
     "output_type": "execute_result"
    }
   ],
   "source": [
    "## a Pandas series acts a lot like a list\n",
    "## you can index and slice\n",
    "\n",
    "#scores[3]\n",
    "scores[3:6]"
   ]
  },
  {
   "cell_type": "markdown",
   "metadata": {},
   "source": [
    "### Use Series methods max, min, mean, median, mode, quantile, value counts"
   ]
  },
  {
   "cell_type": "code",
   "execution_count": 15,
   "metadata": {},
   "outputs": [
    {
     "name": "stdout",
     "output_type": "stream",
     "text": [
      "50.54545454545455\t26.051347897426098\t47.0\n"
     ]
    }
   ],
   "source": [
    "## Series calculations\n",
    "## mean, median, mode, quartiles, sd, count\n",
    "print(scores.mean(), scores.std(), scores.median(), sep='\\t')\n"
   ]
  },
  {
   "cell_type": "code",
   "execution_count": 16,
   "metadata": {},
   "outputs": [
    {
     "name": "stdout",
     "output_type": "stream",
     "text": [
      "0    23\n",
      "1    47\n",
      "dtype: int64\n"
     ]
    }
   ],
   "source": [
    "# there could be multiple modes, so mode returns a Series\n",
    "print(scores.mode())"
   ]
  },
  {
   "cell_type": "code",
   "execution_count": 17,
   "metadata": {},
   "outputs": [
    {
     "name": "stdout",
     "output_type": "stream",
     "text": [
      "1.00    92.0\n",
      "0.75    72.5\n",
      "0.50    47.0\n",
      "0.25    27.5\n",
      "0.00    19.0\n",
      "dtype: float64\n"
     ]
    }
   ],
   "source": [
    "# 5-Number summary\n",
    "print(scores.quantile([1.0, 0.75, 0.5, 0.25, 0]))"
   ]
  },
  {
   "cell_type": "code",
   "execution_count": 18,
   "metadata": {},
   "outputs": [
    {
     "name": "stdout",
     "output_type": "stream",
     "text": [
      "0.9    84.0\n",
      "0.1    23.0\n",
      "dtype: float64\n"
     ]
    }
   ],
   "source": [
    "print(scores.quantile([0.9, 0.1]))"
   ]
  },
  {
   "cell_type": "code",
   "execution_count": null,
   "metadata": {},
   "outputs": [],
   "source": []
  },
  {
   "cell_type": "code",
   "execution_count": null,
   "metadata": {},
   "outputs": [],
   "source": []
  },
  {
   "cell_type": "code",
   "execution_count": 19,
   "metadata": {},
   "outputs": [
    {
     "data": {
      "text/plain": [
       "20    6\n",
       "19    4\n",
       "21    3\n",
       "18    2\n",
       "23    2\n",
       "17    1\n",
       "24    1\n",
       "25    1\n",
       "35    1\n",
       "22    1\n",
       "dtype: int64"
      ]
     },
     "execution_count": 19,
     "metadata": {},
     "output_type": "execute_result"
    }
   ],
   "source": [
    "# Series value counts create a series where \n",
    "# the key is the data, and the value is its count in the Series\n",
    "ages = pd.Series([18, 19, 20, 20, 20, 17, 18, 24, 25, 35, 22, 20, 21, 21, 20, 23, 23, 19, 19, 19, 20, 21])\n",
    "ages.value_counts()\n"
   ]
  },
  {
   "cell_type": "code",
   "execution_count": 20,
   "metadata": {},
   "outputs": [
    {
     "data": {
      "text/plain": [
       "20    6\n",
       "19    4\n",
       "21    3\n",
       "18    2\n",
       "23    2\n",
       "17    1\n",
       "24    1\n",
       "25    1\n",
       "35    1\n",
       "22    1\n",
       "dtype: int64"
      ]
     },
     "execution_count": 20,
     "metadata": {},
     "output_type": "execute_result"
    }
   ],
   "source": [
    "# A series can be sorted by index or by values\n",
    "#ages.value_counts().sort_index()\n",
    "ages.value_counts().sort_values(ascending=False)"
   ]
  },
  {
   "cell_type": "code",
   "execution_count": 21,
   "metadata": {},
   "outputs": [
    {
     "data": {
      "text/plain": [
       "[Text(0.5, 0, 'age'), Text(0, 0.5, 'count')]"
      ]
     },
     "execution_count": 21,
     "metadata": {},
     "output_type": "execute_result"
    },
    {
     "data": {
      "image/png": "[encoded data removed]",
      "text/plain": [
       "<Figure size 432x288 with 1 Axes>"
      ]
     },
     "metadata": {
      "needs_background": "light"
     },
     "output_type": "display_data"
    }
   ],
   "source": [
    "## Series bar chart\n",
    "age_plot = ages.value_counts().sort_index().plot.bar(color='magenta')\n",
    "age_plot.set(xlabel = \"age\", ylabel = \"count\")"
   ]
  },
  {
   "cell_type": "markdown",
   "metadata": {},
   "source": [
    "### Extract elements from a Series using Boolean indexing"
   ]
  },
  {
   "cell_type": "code",
   "execution_count": 22,
   "metadata": {},
   "outputs": [
    {
     "name": "stdout",
     "output_type": "stream",
     "text": [
      "0     18\n",
      "1     19\n",
      "2     20\n",
      "3     20\n",
      "4     20\n",
      "6     18\n",
      "11    20\n",
      "14    20\n",
      "17    19\n",
      "18    19\n",
      "19    19\n",
      "20    20\n",
      "dtype: int64\n",
      "0.5454545454545454\n"
     ]
    }
   ],
   "source": [
    "# ages boolean\n",
    "# what ages are in the range 18 to 20, inclusive?\n",
    "\n",
    "# & means 'and'\n",
    "# | means 'or'\n",
    "# ~ means 'not'\n",
    "# we must use () for compound boolean expressions\n",
    "\n",
    "print(ages [   (ages >= 18)     &      (ages <= 20)   ]      )\n",
    "\n",
    "\n",
    "# what percentage of students are in this age range?\n",
    "\n",
    "print(  len(   (ages[(ages >= 18) & (ages <= 20)])   )  /  len(ages) )\n",
    "\n",
    "\n"
   ]
  },
  {
   "cell_type": "code",
   "execution_count": 23,
   "metadata": {},
   "outputs": [
    {
     "name": "stdout",
     "output_type": "stream",
     "text": [
      "0.36363636363636365\n",
      "0.8181818181818182\n"
     ]
    }
   ],
   "source": [
    "# what percentage of  students are ages 18 OR 21?\n",
    "print(  len((ages[ (ages == 18) | (ages == 20)]))  /  len(ages) )\n",
    "\n",
    "# what percentage of students are NOT 19? \n",
    "print(  len(  ages [ ~(ages==19)   ] )  /  len(ages) )\n"
   ]
  },
  {
   "cell_type": "markdown",
   "metadata": {},
   "source": [
    "### Perform Series element-wise operations"
   ]
  },
  {
   "cell_type": "code",
   "execution_count": 24,
   "metadata": {},
   "outputs": [
    {
     "name": "stdout",
     "output_type": "stream",
     "text": [
      "20    6\n",
      "19    4\n",
      "21    3\n",
      "18    2\n",
      "23    2\n",
      "17    1\n",
      "24    1\n",
      "25    1\n",
      "35    1\n",
      "22    1\n",
      "dtype: int64\n",
      "21    6\n",
      "20    4\n",
      "22    3\n",
      "19    2\n",
      "24    2\n",
      "18    1\n",
      "25    1\n",
      "26    1\n",
      "36    1\n",
      "23    1\n",
      "dtype: int64\n"
     ]
    }
   ],
   "source": [
    "\n",
    "# Let's add 1 to everyone's age\n",
    "print(ages.value_counts())\n",
    "ages = ages + 1\n",
    "print(ages.value_counts())"
   ]
  },
  {
   "cell_type": "code",
   "execution_count": 318,
   "metadata": {},
   "outputs": [],
   "source": [
    "# Now let's do all this by reading in the CSV data from the class survey\n",
    "# read in all the data"
   ]
  },
  {
   "cell_type": "code",
   "execution_count": 7,
   "metadata": {},
   "outputs": [
    {
     "name": "stdout",
     "output_type": "stream",
     "text": [
      "721\n"
     ]
    },
    {
     "data": {
      "text/plain": [
       "[['LEC004',\n",
       "  '20',\n",
       "  'Mathematics/AMEP',\n",
       "  '',\n",
       "  '53711',\n",
       "  'sausage',\n",
       "  'Yes',\n",
       "  'No',\n",
       "  'night owl',\n",
       "  'Yes'],\n",
       " ['LEC003',\n",
       "  '18',\n",
       "  'Science: Physics',\n",
       "  'Data Science',\n",
       "  '53706',\n",
       "  'pepperoni',\n",
       "  'No',\n",
       "  'Yes',\n",
       "  'early bird',\n",
       "  'No'],\n",
       " ['LEC003',\n",
       "  '19',\n",
       "  'Data Science',\n",
       "  'Economics',\n",
       "  '53715',\n",
       "  'pepperoni',\n",
       "  'No',\n",
       "  'Yes',\n",
       "  'no preference',\n",
       "  'Maybe'],\n",
       " ['LEC003',\n",
       "  '19',\n",
       "  'Engineering: Mechanical',\n",
       "  'nuclear engineering',\n",
       "  '53706',\n",
       "  'sausage',\n",
       "  'Yes',\n",
       "  'No',\n",
       "  'night owl',\n",
       "  'Yes'],\n",
       " ['LEC003',\n",
       "  '21',\n",
       "  'Science: Chemistry',\n",
       "  '',\n",
       "  '',\n",
       "  'green pepper',\n",
       "  'Yes',\n",
       "  'No',\n",
       "  'early bird',\n",
       "  'Maybe']]"
      ]
     },
     "execution_count": 7,
     "metadata": {},
     "output_type": "execute_result"
    }
   ],
   "source": [
    "# Modified from https://automatetheboringstuff.com/chapter14/\n",
    "import csv\n",
    "def process_csv(filename):\n",
    "    example_file = open(filename, encoding=\"utf-8\")\n",
    "    example_reader = csv.reader(example_file)\n",
    "    example_data = list(example_reader)\n",
    "    example_file.close()\n",
    "    return example_data\n",
    "\n",
    "data = process_csv(\"cs220_survey_data.csv\")\n",
    "header = data[0]\n",
    "print(len(data))\n",
    "data = data[1:]\n",
    "data[15:20]"
   ]
  },
  {
   "cell_type": "code",
   "execution_count": 10,
   "metadata": {},
   "outputs": [
    {
     "data": {
      "text/plain": [
       "0      19\n",
       "1      20\n",
       "2      20\n",
       "3      19\n",
       "4      20\n",
       "       ..\n",
       "701    22\n",
       "702    20\n",
       "703    19\n",
       "704    21\n",
       "705    19\n",
       "Length: 706, dtype: int64"
      ]
     },
     "execution_count": 10,
     "metadata": {},
     "output_type": "execute_result"
    }
   ],
   "source": [
    "# make a list comprehension of just the ages, but some ages are ''\n",
    "age_list = [int(row[1]) for row in data if len(row[1]) > 0]\n",
    "age_list[:5]\n",
    "\n",
    "# put that into a Pandas Series\n",
    "cs220_ages = pd.Series(age_list)\n",
    "cs220_ages"
   ]
  },
  {
   "cell_type": "code",
   "execution_count": 11,
   "metadata": {},
   "outputs": [
    {
     "name": "stdout",
     "output_type": "stream",
     "text": [
      "0    19\n",
      "dtype: int64\n"
     ]
    },
    {
     "ename": "NameError",
     "evalue": "name 'ages' is not defined",
     "output_type": "error",
     "traceback": [
      "\u001b[0;31m---------------------------------------------------------------------------\u001b[0m",
      "\u001b[0;31mNameError\u001b[0m                                 Traceback (most recent call last)",
      "\u001b[0;32m<ipython-input-11-b9711561cb6c>\u001b[0m in \u001b[0;36m<module>\u001b[0;34m\u001b[0m\n\u001b[1;32m      3\u001b[0m \u001b[0;34m\u001b[0m\u001b[0m\n\u001b[1;32m      4\u001b[0m \u001b[0;31m# find the age of the 75th percentile\u001b[0m\u001b[0;34m\u001b[0m\u001b[0;34m\u001b[0m\u001b[0;34m\u001b[0m\u001b[0m\n\u001b[0;32m----> 5\u001b[0;31m \u001b[0mprint\u001b[0m\u001b[0;34m(\u001b[0m\u001b[0mages\u001b[0m\u001b[0;34m.\u001b[0m\u001b[0mquantile\u001b[0m\u001b[0;34m(\u001b[0m\u001b[0;36m.75\u001b[0m\u001b[0;34m)\u001b[0m\u001b[0;34m)\u001b[0m\u001b[0;34m\u001b[0m\u001b[0;34m\u001b[0m\u001b[0m\n\u001b[0m\u001b[1;32m      6\u001b[0m \u001b[0;34m\u001b[0m\u001b[0m\n\u001b[1;32m      7\u001b[0m \u001b[0;31m# how many ages are > 25 ?\u001b[0m\u001b[0;34m\u001b[0m\u001b[0;34m\u001b[0m\u001b[0;34m\u001b[0m\u001b[0m\n",
      "\u001b[0;31mNameError\u001b[0m: name 'ages' is not defined"
     ]
    }
   ],
   "source": [
    "# find the mode\n",
    "\n",
    "\n",
    "# find the age of the 75th percentile\n",
    "\n",
    "\n",
    "# how many ages are > 25 ? \n",
    "\n",
    "\n"
   ]
  },
  {
   "cell_type": "code",
   "execution_count": 325,
   "metadata": {},
   "outputs": [
    {
     "data": {
      "text/plain": [
       "46      1\n",
       "37      1\n",
       "35      1\n",
       "34      1\n",
       "33      1\n",
       "32      1\n",
       "31      1\n",
       "30      2\n",
       "29      2\n",
       "28      3\n",
       "27      2\n",
       "26      4\n",
       "25      7\n",
       "24      6\n",
       "23     13\n",
       "22     41\n",
       "21    101\n",
       "20    178\n",
       "19    290\n",
       "18    214\n",
       "17     11\n",
       "16      1\n",
       "dtype: int64"
      ]
     },
     "execution_count": 325,
     "metadata": {},
     "output_type": "execute_result"
    }
   ],
   "source": [
    "# make a Series of the counts of all the ages, sorted from most common to least \n",
    "#cs220_ages.value_counts().sort_values()\n",
    "\n",
    "# then sort it by index\n"
   ]
  },
  {
   "cell_type": "code",
   "execution_count": 327,
   "metadata": {},
   "outputs": [
    {
     "data": {
      "text/plain": [
       "[Text(0.5, 0, 'age'), Text(0, 0.5, 'count')]"
      ]
     },
     "execution_count": 327,
     "metadata": {},
     "output_type": "execute_result"
    },
    {
     "data": {
      "image/png": "[encoded data removed]",
      "text/plain": [
       "<Figure size 432x288 with 1 Axes>"
      ]
     },
     "metadata": {
      "needs_background": "light"
     },
     "output_type": "display_data"
    }
   ],
   "source": [
    "# make a bar chart of the ages sorted by age\n",
    "# age_plot = cs220_ages.value_counts().sort_index().plot.bar(color='magenta')\n",
    "# age_plot.set(xlabel = \"age\", ylabel = \"count\")"
   ]
  },
  {
   "cell_type": "code",
   "execution_count": null,
   "metadata": {},
   "outputs": [],
   "source": []
  },
  {
   "cell_type": "markdown",
   "metadata": {},
   "source": [
    "## A Series is a Cross between a list and a dict\n",
    "## So we can make a series from a dict as well"
   ]
  },
  {
   "cell_type": "code",
   "execution_count": 329,
   "metadata": {},
   "outputs": [
    {
     "name": "stdout",
     "output_type": "stream",
     "text": [
      "Chris      10\n",
      "Kiara       3\n",
      "Mikayla     7\n",
      "Ann         8\n",
      "Trish       6\n",
      "dtype: int64\n",
      "Kiara       7\n",
      "Chris       3\n",
      "Trish      11\n",
      "Mikayla     2\n",
      "Ann         5\n",
      "Rachel      7\n",
      "dtype: int64\n"
     ]
    }
   ],
   "source": [
    "## Series from a dict\n",
    "game1points = pd.Series({\"Chris\": 10, \"Kiara\": 3, \"Mikayla\": 7, \"Ann\": 8, \"Trish\": 6})\n",
    "print(game1points)\n",
    "game2points = pd.Series({\"Kiara\": 7, \"Chris\": 3,  \"Trish\": 11, \"Mikayla\": 2, \"Ann\": 5 , \"Rachel\": 7})\n",
    "print(game2points)\n"
   ]
  },
  {
   "cell_type": "code",
   "execution_count": 331,
   "metadata": {},
   "outputs": [
    {
     "data": {
      "text/plain": [
       "Ann        13.0\n",
       "Chris      13.0\n",
       "Kiara      10.0\n",
       "Mikayla     9.0\n",
       "Rachel      NaN\n",
       "Trish      17.0\n",
       "dtype: float64"
      ]
     },
     "execution_count": 331,
     "metadata": {},
     "output_type": "execute_result"
    }
   ],
   "source": [
    "# Pandas can perform operations on two series by matching up their indices\n",
    "total = None\n",
    "total"
   ]
  },
  {
   "cell_type": "code",
   "execution_count": 332,
   "metadata": {},
   "outputs": [
    {
     "name": "stdout",
     "output_type": "stream",
     "text": [
      "17.0\n",
      "Trish\n"
     ]
    }
   ],
   "source": [
    "## Who has the most points?\n",
    "print(total.max())\n",
    "print(total.idxmax())\n"
   ]
  },
  {
   "cell_type": "code",
   "execution_count": 290,
   "metadata": {},
   "outputs": [
    {
     "name": "stdout",
     "output_type": "stream",
     "text": [
      "10.0 10.0\n"
     ]
    }
   ],
   "source": [
    "# we can use [] to name the index or by its sequence number\n",
    "print(total['Kiara'], total[2])"
   ]
  },
  {
   "cell_type": "code",
   "execution_count": 291,
   "metadata": {},
   "outputs": [
    {
     "data": {
      "text/plain": [
       "Chris    13.0\n",
       "Trish    17.0\n",
       "dtype: float64"
      ]
     },
     "execution_count": 291,
     "metadata": {},
     "output_type": "execute_result"
    }
   ],
   "source": [
    "# we can have multi-indexing....slightly different from slicing\n",
    "total[  [\"Chris\", \"Trish\"]]"
   ]
  },
  {
   "cell_type": "code",
   "execution_count": 333,
   "metadata": {},
   "outputs": [
    {
     "data": {
      "text/plain": [
       "Trish      17.0\n",
       "Ann        13.0\n",
       "Chris      13.0\n",
       "Kiara      10.0\n",
       "Mikayla     9.0\n",
       "Rachel      NaN\n",
       "dtype: float64"
      ]
     },
     "execution_count": 333,
     "metadata": {},
     "output_type": "execute_result"
    }
   ],
   "source": [
    "total_sorted = total.sort_values(ascending=False)\n",
    "total_sorted"
   ]
  },
  {
   "cell_type": "code",
   "execution_count": null,
   "metadata": {},
   "outputs": [],
   "source": []
  },
  {
   "cell_type": "code",
   "execution_count": null,
   "metadata": {},
   "outputs": [],
   "source": []
  },
  {
   "cell_type": "code",
   "execution_count": 336,
   "metadata": {},
   "outputs": [
    {
     "data": {
      "text/plain": [
       "Text(0, 0.5, 'total points')"
      ]
     },
     "execution_count": 336,
     "metadata": {},
     "output_type": "execute_result"
    },
    {
     "data": {
      "image/png": "[encoded data removed]",
      "text/plain": [
       "<Figure size 432x288 with 1 Axes>"
      ]
     },
     "metadata": {
      "needs_background": "light"
     },
     "output_type": "display_data"
    }
   ],
   "source": [
    "#ax = total_sorted.plot.bar(color=\"green\", fontsize=16)\n",
    "#ax.set_ylabel(\"total points\", fontsize=16)"
   ]
  },
  {
   "cell_type": "code",
   "execution_count": null,
   "metadata": {},
   "outputs": [],
   "source": []
  },
  {
   "cell_type": "markdown",
   "metadata": {},
   "source": [
    "### Access Series members using .loc, .iloc, .items, and slicing\n",
    "### This is your required reading after lecture"
   ]
  },
  {
   "cell_type": "code",
   "execution_count": null,
   "metadata": {},
   "outputs": [],
   "source": []
  },
  {
   "cell_type": "code",
   "execution_count": null,
   "metadata": {},
   "outputs": [],
   "source": []
  },
  {
   "cell_type": "code",
   "execution_count": null,
   "metadata": {},
   "outputs": [],
   "source": []
  }
 ],
 "metadata": {
  "kernelspec": {
   "display_name": "Python 3",
   "language": "python",
   "name": "python3"
  },
  "language_info": {
   "codemirror_mode": {
    "name": "ipython",
    "version": 3
   },
   "file_extension": ".py",
   "mimetype": "text/x-python",
   "name": "python",
   "nbconvert_exporter": "python",
   "pygments_lexer": "ipython3",
   "version": "3.9.1"
  }
 },
 "nbformat": 4,
 "nbformat_minor": 4
}

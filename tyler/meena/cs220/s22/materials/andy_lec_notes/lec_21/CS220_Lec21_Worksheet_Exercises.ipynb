{
 "cells": [
  {
   "cell_type": "markdown",
   "id": "193622e7",
   "metadata": {},
   "source": [
    "**Q2:** [PythonTutor Link](https://pythontutor.com/visualize.html#code=x%20%3D%20%5B1,%202,%203%5D%0Ay%20%3D%20%5B1,%202,%203%5D%0Az%20%3D%20x%0Az.append%284%29&cumulative=false&curInstr=0&heapPrimitives=nevernest&mode=display&origin=opt-frontend.js&py=3&rawInputLstJSON=%5B%5D&textReferences=false)"
   ]
  },
  {
   "cell_type": "code",
   "execution_count": null,
   "id": "131b9746",
   "metadata": {},
   "outputs": [],
   "source": [
    "x = [1, 2, 3]\n",
    "y = [1, 2, 3]\n",
    "z = x\n",
    "z.append(4)"
   ]
  },
  {
   "cell_type": "markdown",
   "id": "f578b492",
   "metadata": {},
   "source": [
    "**Q3:** [PythonTutor Link](https://pythontutor.com/visualize.html#code=nums1%20%3D%20%5B1,2%5D%0Anums2%20%3D%20nums1%0Ax%20%3D%20nums2.pop%281%29&cumulative=false&curInstr=0&heapPrimitives=nevernest&mode=display&origin=opt-frontend.js&py=3&rawInputLstJSON=%5B%5D&textReferences=false)"
   ]
  },
  {
   "cell_type": "code",
   "execution_count": null,
   "id": "6d6a052b",
   "metadata": {},
   "outputs": [],
   "source": [
    "nums1 = [1,2]\n",
    "nums2 = nums1\n",
    "x = nums2.pop(1)"
   ]
  },
  {
   "cell_type": "markdown",
   "id": "0abc64c0",
   "metadata": {},
   "source": [
    "**Q4:** [PythonTutor Link](https://pythontutor.com/visualize.html#code=x%20%3D%20%5B1,%202%5D%0Ay%20%3D%20%5B3%5D%0Az%20%3D%20x%20%2B%20y%0Ay.append%284%29&cumulative=false&curInstr=0&heapPrimitives=nevernest&mode=display&origin=opt-frontend.js&py=3&rawInputLstJSON=%5B%5D&textReferences=false)"
   ]
  },
  {
   "cell_type": "code",
   "execution_count": null,
   "id": "373369b9",
   "metadata": {},
   "outputs": [],
   "source": [
    "x = [1, 2]\n",
    "y = [3]\n",
    "z = x + y\n",
    "y.append(4)"
   ]
  },
  {
   "cell_type": "markdown",
   "id": "a3eb791e",
   "metadata": {},
   "source": [
    "**Q5:** [PythonTutor Link](https://pythontutor.com/visualize.html#code=people%20%3D%20%7B%22alice%22%3A30,%20%22bob%22%3A25%7D%0Ax%20%3D%20people%0Ay%20%3D%20people%5B%22bob%22%5D%0Ax%5B%22alice%22%5D%20%3D%2031%0Ay%20%3D%2026&cumulative=false&curInstr=0&heapPrimitives=nevernest&mode=display&origin=opt-frontend.js&py=3&rawInputLstJSON=%5B%5D&textReferences=false)"
   ]
  },
  {
   "cell_type": "code",
   "execution_count": null,
   "id": "ab703ab8",
   "metadata": {},
   "outputs": [],
   "source": [
    "people = {\"alice\":30, \"bob\":25}\n",
    "x = people\n",
    "y = people[\"bob\"]\n",
    "x[\"alice\"] = 31\n",
    "y = 26"
   ]
  },
  {
   "cell_type": "markdown",
   "id": "6dd6f676",
   "metadata": {},
   "source": [
    "**Q6:** [PythonTutor Link](https://pythontutor.com/visualize.html#code=def%20f%28items%29%3A%0A%20%20%20%20return%20items.pop%280%29%0Anums%20%3D%20%5B1,2,3%5D%0Anums.append%28f%28nums%29%29&cumulative=false&curInstr=0&heapPrimitives=nevernest&mode=display&origin=opt-frontend.js&py=3&rawInputLstJSON=%5B%5D&textReferences=false)"
   ]
  },
  {
   "cell_type": "code",
   "execution_count": null,
   "id": "81a7d6d6",
   "metadata": {},
   "outputs": [],
   "source": [
    "def f(items):\n",
    "    return items.pop(0)\n",
    "nums = [1,2,3]\n",
    "nums.append(f(nums))"
   ]
  },
  {
   "cell_type": "markdown",
   "id": "5cea38e0",
   "metadata": {},
   "source": [
    "**Q7 (As Written):** [PythonTutor Link](https://pythontutor.com/visualize.html#code=import%20copy%0Ax%20%3D%20%5B2,1%5D%0Ay%20%3D%20copy.copy%28y%29%0Ay.sort%28%29&cumulative=false&curInstr=0&heapPrimitives=nevernest&mode=display&origin=opt-frontend.js&py=3&rawInputLstJSON=%5B%5D&textReferences=false)"
   ]
  },
  {
   "cell_type": "code",
   "execution_count": null,
   "id": "ed06d8b5",
   "metadata": {},
   "outputs": [],
   "source": [
    "import copy\n",
    "x = [2,1]\n",
    "y = copy.copy(y)\n",
    "y.sort()"
   ]
  },
  {
   "cell_type": "markdown",
   "id": "1499a535",
   "metadata": {},
   "source": [
    "**Q7 (As Fixed):** [PythonTutor Link](https://pythontutor.com/visualize.html#code=import%20copy%0Ax%20%3D%20%5B2,1%5D%0Ay%20%3D%20copy.copy%28x%29%0Ay.sort%28%29&cumulative=false&curInstr=0&heapPrimitives=nevernest&mode=display&origin=opt-frontend.js&py=3&rawInputLstJSON=%5B%5D&textReferences=false)"
   ]
  },
  {
   "cell_type": "code",
   "execution_count": null,
   "id": "25a014f1",
   "metadata": {},
   "outputs": [],
   "source": [
    "import copy\n",
    "x = [2,1]\n",
    "y = copy.copy(x)\n",
    "y.sort()"
   ]
  },
  {
   "cell_type": "markdown",
   "id": "88899380",
   "metadata": {},
   "source": [
    "**Q8:** [PythonTutor Link](https://pythontutor.com/visualize.html#code=import%20copy%0Adef%20biggest%28items%29%3A%0A%20%20%20%20items%20%3D%20copy.copy%28items%29%0A%20%20%20%20items.sort%28%29%0A%20%20%20%20return%20items%5B-1%5D%0Anums%20%3D%20%5B3,9,6%5D%0Ax%20%3D%20biggest%28nums%29&cumulative=false&curInstr=0&heapPrimitives=nevernest&mode=display&origin=opt-frontend.js&py=3&rawInputLstJSON=%5B%5D&textReferences=false)"
   ]
  },
  {
   "cell_type": "code",
   "execution_count": null,
   "id": "a03f0f27",
   "metadata": {},
   "outputs": [],
   "source": [
    "import copy\n",
    "def biggest(items):\n",
    "    items = copy.copy(items)\n",
    "    items.sort()\n",
    "    return items[-1]\n",
    "nums = [3,9,6]\n",
    "x = biggest(nums)"
   ]
  },
  {
   "cell_type": "markdown",
   "id": "60f15a79",
   "metadata": {},
   "source": [
    "**Q9:** [PythonTutor Link](https://pythontutor.com/visualize.html#code=import%20copy%0Ateam1%20%3D%20%5B%0A%20%20%7B%22name%22%3A%22A%22,%20%22age%22%3A7%7D%0A%5D%0Ateam2%20%3D%20copy.copy%28team1%29%0Ateam2.append%28%0A%20%20%7B%22name%22%3A%22B%22,%20%22age%22%3A9%7D%0A%29%0Ateam2%5B0%5D%5B%22age%22%5D%20%3D%208%0Ax%20%3D%20team1%5B0%5D%5B%22age%22%5D&cumulative=false&curInstr=0&heapPrimitives=nevernest&mode=display&origin=opt-frontend.js&py=3&rawInputLstJSON=%5B%5D&textReferences=false)"
   ]
  },
  {
   "cell_type": "code",
   "execution_count": null,
   "id": "ba913d5b",
   "metadata": {},
   "outputs": [],
   "source": [
    "import copy\n",
    "team1 = [\n",
    "  {\"name\":\"A\", \"age\":7}\n",
    "]\n",
    "team2 = copy.copy(team1)\n",
    "team2.append(\n",
    "  {\"name\":\"B\", \"age\":9}\n",
    ")\n",
    "team2[0][\"age\"] = 8\n",
    "x = team1[0][\"age\"]"
   ]
  },
  {
   "cell_type": "markdown",
   "id": "9e3d7dd3",
   "metadata": {},
   "source": [
    "**Q10:** [PythonTutor Link](https://pythontutor.com/visualize.html#code=import%20copy%0Ateam1%20%3D%20%5B%0A%20%20%7B%22name%22%3A%22A%22,%20%22age%22%3A7%7D%0A%5D%0Ateam2%20%3D%20copy.deepcopy%28team1%29%0Ateam2.append%28%0A%20%20%7B%22name%22%3A%22B%22,%20%22age%22%3A9%7D%0A%29%0Ateam2%5B0%5D%5B%22age%22%5D%20%3D%208%0Ax%20%3D%20team1%5B0%5D%5B%22age%22%5D&cumulative=false&curInstr=0&heapPrimitives=nevernest&mode=display&origin=opt-frontend.js&py=3&rawInputLstJSON=%5B%5D&textReferences=false)"
   ]
  },
  {
   "cell_type": "code",
   "execution_count": null,
   "id": "1c49cbcb",
   "metadata": {},
   "outputs": [],
   "source": [
    "import copy\n",
    "team1 = [\n",
    "  {\"name\":\"A\", \"age\":7}\n",
    "]\n",
    "team2 = copy.deepcopy(team1)\n",
    "team2.append(\n",
    "  {\"name\":\"B\", \"age\":9}\n",
    ")\n",
    "team2[0][\"age\"] = 8\n",
    "x = team1[0][\"age\"]"
   ]
  },
  {
   "cell_type": "markdown",
   "id": "30953821",
   "metadata": {},
   "source": [
    "**Q11:** [PythonTutor Link](https://pythontutor.com/visualize.html#code=import%20copy%0Aorig%20%3D%20%5B1,%5B2,%5B3,4%5D%5D%5D%0Ax%20%3D%20orig%0Ay%20%3D%20copy.copy%28orig%29%0Az%20%3D%20copy.deepcopy%28orig%29&cumulative=false&curInstr=0&heapPrimitives=nevernest&mode=display&origin=opt-frontend.js&py=3&rawInputLstJSON=%5B%5D&textReferences=false)"
   ]
  },
  {
   "cell_type": "code",
   "execution_count": null,
   "id": "e67ede97",
   "metadata": {},
   "outputs": [],
   "source": [
    "import copy\n",
    "orig = [1,[2,[3,4]]]\n",
    "x = orig\n",
    "y = copy.copy(orig)\n",
    "z = copy.deepcopy(orig)"
   ]
  }
 ],
 "metadata": {
  "kernelspec": {
   "display_name": "Python 3 (ipykernel)",
   "language": "python",
   "name": "python3"
  },
  "language_info": {
   "codemirror_mode": {
    "name": "ipython",
    "version": 3
   },
   "file_extension": ".py",
   "mimetype": "text/x-python",
   "name": "python",
   "nbconvert_exporter": "python",
   "pygments_lexer": "ipython3",
   "version": "3.9.7"
  }
 },
 "nbformat": 4,
 "nbformat_minor": 5
}

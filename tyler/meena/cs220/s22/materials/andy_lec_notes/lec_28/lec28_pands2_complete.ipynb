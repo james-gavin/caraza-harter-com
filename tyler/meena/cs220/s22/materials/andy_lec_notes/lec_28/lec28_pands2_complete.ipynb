{
 "cells": [
  {
   "cell_type": "code",
   "execution_count": 1,
   "metadata": {},
   "outputs": [],
   "source": [
    "import pandas as pd\n",
    "from pandas import Series, DataFrame\n",
    "# double importing allows us flexibility in writing code"
   ]
  },
  {
   "cell_type": "markdown",
   "metadata": {},
   "source": []
  },
  {
   "cell_type": "markdown",
   "metadata": {},
   "source": [
    "###  Series Review\n"
   ]
  },
  {
   "cell_type": "markdown",
   "metadata": {},
   "source": [
    "### Make a Series from scores_list"
   ]
  },
  {
   "cell_type": "code",
   "execution_count": 2,
   "metadata": {},
   "outputs": [
    {
     "data": {
      "text/plain": [
       "0    54\n",
       "1    22\n",
       "2    19\n",
       "3    73\n",
       "4    80\n",
       "dtype: int64"
      ]
     },
     "execution_count": 2,
     "metadata": {},
     "output_type": "execute_result"
    }
   ],
   "source": [
    "scores_list = [54, 22, 19, 73, 80]\n",
    "scores_series = Series(scores_list)\n",
    "scores_series\n",
    "\n",
    "# what name do we use for the  0, 1, 2, ... ??       A:  index\n",
    "# what name do we use for the  54, 22, 19, .... ??   A:  value"
   ]
  },
  {
   "cell_type": "markdown",
   "metadata": {},
   "source": [
    "### We can make a series from a dictionary"
   ]
  },
  {
   "cell_type": "code",
   "execution_count": 3,
   "metadata": {},
   "outputs": [
    {
     "name": "stdout",
     "output_type": "stream",
     "text": [
      "Rita       5\n",
      "Therese    3\n",
      "Janice     6\n",
      "dtype: int64\n",
      "Rita       3\n",
      "Therese    7\n",
      "Janice     4\n",
      "dtype: int64\n",
      "Therese    5\n",
      "Janice     5\n",
      "Rita       8\n",
      "dtype: int64\n"
     ]
    }
   ],
   "source": [
    "# imagine we hire students and track their weekly hours\n",
    "week1 = Series({\"Rita\":5, \"Therese\":3, \"Janice\": 6})\n",
    "week2 = Series({\"Rita\":3, \"Therese\":7, \"Janice\": 4})\n",
    "week3 = Series({\"Therese\":5, \"Janice\":5, \"Rita\": 8})   # wrong order!\n",
    "print(week1)\n",
    "print(week2)\n",
    "print(week3)"
   ]
  },
  {
   "cell_type": "markdown",
   "metadata": {},
   "source": [
    "###  For everyone in Week 1, add 3 to their hours "
   ]
  },
  {
   "cell_type": "code",
   "execution_count": 4,
   "metadata": {},
   "outputs": [
    {
     "data": {
      "text/plain": [
       "Rita       8\n",
       "Therese    6\n",
       "Janice     9\n",
       "dtype: int64"
      ]
     },
     "execution_count": 4,
     "metadata": {},
     "output_type": "execute_result"
    }
   ],
   "source": [
    "week1 = week1 + 3\n",
    "week1"
   ]
  },
  {
   "cell_type": "markdown",
   "metadata": {},
   "source": [
    "### Make a dataframe that stores everyone's total hours"
   ]
  },
  {
   "cell_type": "code",
   "execution_count": 5,
   "metadata": {},
   "outputs": [
    {
     "data": {
      "text/plain": [
       "Janice     18\n",
       "Rita       19\n",
       "Therese    18\n",
       "dtype: int64"
      ]
     },
     "execution_count": 5,
     "metadata": {},
     "output_type": "execute_result"
    }
   ],
   "source": [
    "total_hours = week1 + week2 + week3\n",
    "total_hours\n",
    "# the data in week 3 had its indices in a different order"
   ]
  },
  {
   "cell_type": "markdown",
   "metadata": {},
   "source": [
    "### What is week1 / week3 ?"
   ]
  },
  {
   "cell_type": "code",
   "execution_count": 6,
   "metadata": {},
   "outputs": [
    {
     "data": {
      "text/plain": [
       "Janice     1.8\n",
       "Rita       1.0\n",
       "Therese    1.2\n",
       "dtype: float64"
      ]
     },
     "execution_count": 6,
     "metadata": {},
     "output_type": "execute_result"
    }
   ],
   "source": [
    "week1 / week3\n",
    "# notice that we didn't have to worry about the order of indices"
   ]
  },
  {
   "cell_type": "markdown",
   "metadata": {},
   "source": [
    "###  What type of values are stored in  week1 > week2?"
   ]
  },
  {
   "cell_type": "code",
   "execution_count": 7,
   "metadata": {},
   "outputs": [
    {
     "name": "stdout",
     "output_type": "stream",
     "text": [
      "Rita       8\n",
      "Therese    6\n",
      "Janice     9\n",
      "dtype: int64\n",
      "Rita       3\n",
      "Therese    7\n",
      "Janice     4\n",
      "dtype: int64\n"
     ]
    },
    {
     "data": {
      "text/plain": [
       "Rita        True\n",
       "Therese    False\n",
       "Janice      True\n",
       "dtype: bool"
      ]
     },
     "execution_count": 7,
     "metadata": {},
     "output_type": "execute_result"
    }
   ],
   "source": [
    "print(week1)\n",
    "print(week2)\n",
    "week1 > week2 # indices are ordered the same"
   ]
  },
  {
   "cell_type": "markdown",
   "metadata": {},
   "source": [
    "###  What is week1 > week3?"
   ]
  },
  {
   "cell_type": "code",
   "execution_count": 8,
   "metadata": {},
   "outputs": [
    {
     "name": "stdout",
     "output_type": "stream",
     "text": [
      "Rita       8\n",
      "Therese    6\n",
      "Janice     9\n",
      "dtype: int64\n",
      "Therese    5\n",
      "Janice     5\n",
      "Rita       8\n",
      "dtype: int64\n"
     ]
    }
   ],
   "source": [
    "print(week1)\n",
    "print(week3)\n",
    "# week1 > week3 # indices not in same order"
   ]
  },
  {
   "cell_type": "code",
   "execution_count": null,
   "metadata": {},
   "outputs": [],
   "source": []
  },
  {
   "cell_type": "markdown",
   "metadata": {},
   "source": [
    "\n",
    "# Lecture 28:  Pandas 2 - DataFrames\n",
    "\n",
    "\n",
    "Learning Objectives:\n",
    "- Create a DataFrame from \n",
    " - a dictionary of Series, lists, or dicts\n",
    " - a list of Series, lists, dicts\n",
    "- Select a column, row, cell, or rectangular region of a DataFrame\n",
    "- Convert CSV files into DataFrames and DataFrames into CSV Files\n",
    "- Access the head or tail of a DataFrame"
   ]
  },
  {
   "cell_type": "markdown",
   "metadata": {},
   "source": [
    "\n",
    "### Data Frames store 2-dimensional data in tables"
   ]
  },
  {
   "cell_type": "markdown",
   "metadata": {},
   "source": [
    "## 1. Create a DataFrame a variety of ways\n",
    "### from a dictionary of Series"
   ]
  },
  {
   "cell_type": "code",
   "execution_count": 9,
   "metadata": {},
   "outputs": [
    {
     "data": {
      "text/html": [
       "<div>\n",
       "<style scoped>\n",
       "    .dataframe tbody tr th:only-of-type {\n",
       "        vertical-align: middle;\n",
       "    }\n",
       "\n",
       "    .dataframe tbody tr th {\n",
       "        vertical-align: top;\n",
       "    }\n",
       "\n",
       "    .dataframe thead th {\n",
       "        text-align: right;\n",
       "    }\n",
       "</style>\n",
       "<table border=\"1\" class=\"dataframe\">\n",
       "  <thead>\n",
       "    <tr style=\"text-align: right;\">\n",
       "      <th></th>\n",
       "      <th>Player name</th>\n",
       "      <th>Score</th>\n",
       "    </tr>\n",
       "  </thead>\n",
       "  <tbody>\n",
       "    <tr>\n",
       "      <th>0</th>\n",
       "      <td>Alice</td>\n",
       "      <td>6</td>\n",
       "    </tr>\n",
       "    <tr>\n",
       "      <th>1</th>\n",
       "      <td>Bob</td>\n",
       "      <td>7</td>\n",
       "    </tr>\n",
       "    <tr>\n",
       "      <th>2</th>\n",
       "      <td>Cindy</td>\n",
       "      <td>8</td>\n",
       "    </tr>\n",
       "    <tr>\n",
       "      <th>3</th>\n",
       "      <td>Dan</td>\n",
       "      <td>9</td>\n",
       "    </tr>\n",
       "  </tbody>\n",
       "</table>\n",
       "</div>"
      ],
      "text/plain": [
       "  Player name  Score\n",
       "0       Alice      6\n",
       "1         Bob      7\n",
       "2       Cindy      8\n",
       "3         Dan      9"
      ]
     },
     "execution_count": 9,
     "metadata": {},
     "output_type": "execute_result"
    }
   ],
   "source": [
    "names = Series([\"Alice\", \"Bob\", \"Cindy\", \"Dan\"])\n",
    "scores = Series([6, 7, 8, 9])\n",
    "\n",
    "# to make a dictionary of Series, need to write column names for the keys\n",
    "DataFrame({\n",
    "    \"Player name\": names,\n",
    "    \"Score\": scores\n",
    "})"
   ]
  },
  {
   "cell_type": "markdown",
   "metadata": {},
   "source": [
    "### Create a DataFrame from dictionary of lists"
   ]
  },
  {
   "cell_type": "code",
   "execution_count": 10,
   "metadata": {},
   "outputs": [
    {
     "data": {
      "text/html": [
       "<div>\n",
       "<style scoped>\n",
       "    .dataframe tbody tr th:only-of-type {\n",
       "        vertical-align: middle;\n",
       "    }\n",
       "\n",
       "    .dataframe tbody tr th {\n",
       "        vertical-align: top;\n",
       "    }\n",
       "\n",
       "    .dataframe thead th {\n",
       "        text-align: right;\n",
       "    }\n",
       "</style>\n",
       "<table border=\"1\" class=\"dataframe\">\n",
       "  <thead>\n",
       "    <tr style=\"text-align: right;\">\n",
       "      <th></th>\n",
       "      <th>Player name</th>\n",
       "      <th>Score</th>\n",
       "    </tr>\n",
       "  </thead>\n",
       "  <tbody>\n",
       "    <tr>\n",
       "      <th>0</th>\n",
       "      <td>Alice</td>\n",
       "      <td>6</td>\n",
       "    </tr>\n",
       "    <tr>\n",
       "      <th>1</th>\n",
       "      <td>Bob</td>\n",
       "      <td>7</td>\n",
       "    </tr>\n",
       "    <tr>\n",
       "      <th>2</th>\n",
       "      <td>Cindy</td>\n",
       "      <td>8</td>\n",
       "    </tr>\n",
       "    <tr>\n",
       "      <th>3</th>\n",
       "      <td>Dan</td>\n",
       "      <td>9</td>\n",
       "    </tr>\n",
       "  </tbody>\n",
       "</table>\n",
       "</div>"
      ],
      "text/plain": [
       "  Player name  Score\n",
       "0       Alice      6\n",
       "1         Bob      7\n",
       "2       Cindy      8\n",
       "3         Dan      9"
      ]
     },
     "execution_count": 10,
     "metadata": {},
     "output_type": "execute_result"
    }
   ],
   "source": [
    "name_list = [\"Alice\", \"Bob\", \"Cindy\", \"Dan\"]\n",
    "score_list = [6, 7, 8, 9]\n",
    "# this is the same as above, reminding us that Series act like lists\n",
    "DataFrame({\n",
    "    \"Player name\": name_list,\n",
    "    \"Score\": score_list\n",
    "})"
   ]
  },
  {
   "cell_type": "markdown",
   "metadata": {},
   "source": [
    "### Create a DataFrame from dictionary of dicts\n",
    "We need to make up keys to match the things in each column"
   ]
  },
  {
   "cell_type": "code",
   "execution_count": 11,
   "metadata": {},
   "outputs": [
    {
     "data": {
      "text/html": [
       "<div>\n",
       "<style scoped>\n",
       "    .dataframe tbody tr th:only-of-type {\n",
       "        vertical-align: middle;\n",
       "    }\n",
       "\n",
       "    .dataframe tbody tr th {\n",
       "        vertical-align: top;\n",
       "    }\n",
       "\n",
       "    .dataframe thead th {\n",
       "        text-align: right;\n",
       "    }\n",
       "</style>\n",
       "<table border=\"1\" class=\"dataframe\">\n",
       "  <thead>\n",
       "    <tr style=\"text-align: right;\">\n",
       "      <th></th>\n",
       "      <th>Player name</th>\n",
       "      <th>Score</th>\n",
       "    </tr>\n",
       "  </thead>\n",
       "  <tbody>\n",
       "    <tr>\n",
       "      <th>0</th>\n",
       "      <td>Alice</td>\n",
       "      <td>6</td>\n",
       "    </tr>\n",
       "    <tr>\n",
       "      <th>1</th>\n",
       "      <td>Bob</td>\n",
       "      <td>7</td>\n",
       "    </tr>\n",
       "    <tr>\n",
       "      <th>2</th>\n",
       "      <td>Cindy</td>\n",
       "      <td>8</td>\n",
       "    </tr>\n",
       "    <tr>\n",
       "      <th>3</th>\n",
       "      <td>Dan</td>\n",
       "      <td>9</td>\n",
       "    </tr>\n",
       "  </tbody>\n",
       "</table>\n",
       "</div>"
      ],
      "text/plain": [
       "  Player name  Score\n",
       "0       Alice      6\n",
       "1         Bob      7\n",
       "2       Cindy      8\n",
       "3         Dan      9"
      ]
     },
     "execution_count": 11,
     "metadata": {},
     "output_type": "execute_result"
    }
   ],
   "source": [
    "data = {\n",
    "    \"Player name\": {0: \"Alice\", 1: \"Bob\", 2: \"Cindy\", 3: \"Dan\"},\n",
    "    \"Score\": {0: 6, 1: 7, 2: 8, 3: 9}\n",
    "}\n",
    "DataFrame(data)"
   ]
  },
  {
   "cell_type": "markdown",
   "metadata": {},
   "source": [
    "### Create a DataFrame from list of lists\n",
    "We have to add the column names, we do this with `columns = [name1, name2, ....]` "
   ]
  },
  {
   "cell_type": "code",
   "execution_count": 12,
   "metadata": {},
   "outputs": [
    {
     "data": {
      "text/html": [
       "<div>\n",
       "<style scoped>\n",
       "    .dataframe tbody tr th:only-of-type {\n",
       "        vertical-align: middle;\n",
       "    }\n",
       "\n",
       "    .dataframe tbody tr th {\n",
       "        vertical-align: top;\n",
       "    }\n",
       "\n",
       "    .dataframe thead th {\n",
       "        text-align: right;\n",
       "    }\n",
       "</style>\n",
       "<table border=\"1\" class=\"dataframe\">\n",
       "  <thead>\n",
       "    <tr style=\"text-align: right;\">\n",
       "      <th></th>\n",
       "      <th>Player name</th>\n",
       "      <th>Score</th>\n",
       "    </tr>\n",
       "  </thead>\n",
       "  <tbody>\n",
       "    <tr>\n",
       "      <th>0</th>\n",
       "      <td>Alice</td>\n",
       "      <td>6</td>\n",
       "    </tr>\n",
       "    <tr>\n",
       "      <th>1</th>\n",
       "      <td>Bob</td>\n",
       "      <td>7</td>\n",
       "    </tr>\n",
       "    <tr>\n",
       "      <th>2</th>\n",
       "      <td>Cindy</td>\n",
       "      <td>8</td>\n",
       "    </tr>\n",
       "    <tr>\n",
       "      <th>3</th>\n",
       "      <td>Dan</td>\n",
       "      <td>9</td>\n",
       "    </tr>\n",
       "  </tbody>\n",
       "</table>\n",
       "</div>"
      ],
      "text/plain": [
       "  Player name  Score\n",
       "0       Alice      6\n",
       "1         Bob      7\n",
       "2       Cindy      8\n",
       "3         Dan      9"
      ]
     },
     "execution_count": 12,
     "metadata": {},
     "output_type": "execute_result"
    }
   ],
   "source": [
    "data = [\n",
    "    [\"Alice\", 6],\n",
    "    [\"Bob\", 7],\n",
    "    [\"Cindy\", 8],\n",
    "    [\"Dan\", 9]\n",
    "]\n",
    "data\n",
    "DataFrame(data, columns = [\"Player name\", \"Score\"])"
   ]
  },
  {
   "cell_type": "markdown",
   "metadata": {},
   "source": [
    "### Create a DataFrame from list of dicts"
   ]
  },
  {
   "cell_type": "code",
   "execution_count": 13,
   "metadata": {},
   "outputs": [
    {
     "data": {
      "text/html": [
       "<div>\n",
       "<style scoped>\n",
       "    .dataframe tbody tr th:only-of-type {\n",
       "        vertical-align: middle;\n",
       "    }\n",
       "\n",
       "    .dataframe tbody tr th {\n",
       "        vertical-align: top;\n",
       "    }\n",
       "\n",
       "    .dataframe thead th {\n",
       "        text-align: right;\n",
       "    }\n",
       "</style>\n",
       "<table border=\"1\" class=\"dataframe\">\n",
       "  <thead>\n",
       "    <tr style=\"text-align: right;\">\n",
       "      <th></th>\n",
       "      <th>Player name</th>\n",
       "      <th>Score</th>\n",
       "    </tr>\n",
       "  </thead>\n",
       "  <tbody>\n",
       "    <tr>\n",
       "      <th>0</th>\n",
       "      <td>Alice</td>\n",
       "      <td>6</td>\n",
       "    </tr>\n",
       "    <tr>\n",
       "      <th>1</th>\n",
       "      <td>Bob</td>\n",
       "      <td>7</td>\n",
       "    </tr>\n",
       "    <tr>\n",
       "      <th>2</th>\n",
       "      <td>Cindy</td>\n",
       "      <td>8</td>\n",
       "    </tr>\n",
       "    <tr>\n",
       "      <th>3</th>\n",
       "      <td>Dan</td>\n",
       "      <td>9</td>\n",
       "    </tr>\n",
       "  </tbody>\n",
       "</table>\n",
       "</div>"
      ],
      "text/plain": [
       "  Player name  Score\n",
       "0       Alice      6\n",
       "1         Bob      7\n",
       "2       Cindy      8\n",
       "3         Dan      9"
      ]
     },
     "execution_count": 13,
     "metadata": {},
     "output_type": "execute_result"
    }
   ],
   "source": [
    "data = [\n",
    "    {\"Player name\": \"Alice\", \"Score\": 6},\n",
    "    {\"Player name\": \"Bob\", \"Score\": 7},\n",
    "    {\"Player name\": \"Cindy\", \"Score\": 8},\n",
    "    {\"Player name\": \"Dan\", \"Score\": 9}\n",
    "]\n",
    "data\n",
    "DataFrame(data)"
   ]
  },
  {
   "cell_type": "markdown",
   "metadata": {},
   "source": [
    "### Same as above, but Name the Rows\n",
    "We can use `index = [name1, name2, ...]` to rename the index of each row"
   ]
  },
  {
   "cell_type": "code",
   "execution_count": 14,
   "metadata": {},
   "outputs": [
    {
     "data": {
      "text/html": [
       "<div>\n",
       "<style scoped>\n",
       "    .dataframe tbody tr th:only-of-type {\n",
       "        vertical-align: middle;\n",
       "    }\n",
       "\n",
       "    .dataframe tbody tr th {\n",
       "        vertical-align: top;\n",
       "    }\n",
       "\n",
       "    .dataframe thead th {\n",
       "        text-align: right;\n",
       "    }\n",
       "</style>\n",
       "<table border=\"1\" class=\"dataframe\">\n",
       "  <thead>\n",
       "    <tr style=\"text-align: right;\">\n",
       "      <th></th>\n",
       "      <th>Player name</th>\n",
       "      <th>Score</th>\n",
       "    </tr>\n",
       "  </thead>\n",
       "  <tbody>\n",
       "    <tr>\n",
       "      <th>A</th>\n",
       "      <td>Alice</td>\n",
       "      <td>6</td>\n",
       "    </tr>\n",
       "    <tr>\n",
       "      <th>B</th>\n",
       "      <td>Bob</td>\n",
       "      <td>7</td>\n",
       "    </tr>\n",
       "    <tr>\n",
       "      <th>C</th>\n",
       "      <td>Cindy</td>\n",
       "      <td>8</td>\n",
       "    </tr>\n",
       "    <tr>\n",
       "      <th>D</th>\n",
       "      <td>Dan</td>\n",
       "      <td>9</td>\n",
       "    </tr>\n",
       "  </tbody>\n",
       "</table>\n",
       "</div>"
      ],
      "text/plain": [
       "  Player name  Score\n",
       "A       Alice      6\n",
       "B         Bob      7\n",
       "C       Cindy      8\n",
       "D         Dan      9"
      ]
     },
     "execution_count": 14,
     "metadata": {},
     "output_type": "execute_result"
    }
   ],
   "source": [
    "# \n",
    "data = [\n",
    "    {\"Player name\": \"Alice\", \"Score\": 6},\n",
    "    {\"Player name\": \"Bob\", \"Score\": 7},\n",
    "    {\"Player name\": \"Cindy\", \"Score\": 8},\n",
    "    {\"Player name\": \"Dan\", \"Score\": 9}\n",
    "]\n",
    "data\n",
    "DataFrame(data, index=[\"A\", \"B\", \"C\", \"D\"]) # must have a name for each row"
   ]
  },
  {
   "cell_type": "markdown",
   "metadata": {},
   "source": [
    "### Naming the Columns"
   ]
  },
  {
   "cell_type": "code",
   "execution_count": 15,
   "metadata": {},
   "outputs": [
    {
     "data": {
      "text/html": [
       "<div>\n",
       "<style scoped>\n",
       "    .dataframe tbody tr th:only-of-type {\n",
       "        vertical-align: middle;\n",
       "    }\n",
       "\n",
       "    .dataframe tbody tr th {\n",
       "        vertical-align: top;\n",
       "    }\n",
       "\n",
       "    .dataframe thead th {\n",
       "        text-align: right;\n",
       "    }\n",
       "</style>\n",
       "<table border=\"1\" class=\"dataframe\">\n",
       "  <thead>\n",
       "    <tr style=\"text-align: right;\">\n",
       "      <th></th>\n",
       "      <th>Player name</th>\n",
       "      <th>Score</th>\n",
       "    </tr>\n",
       "  </thead>\n",
       "  <tbody>\n",
       "    <tr>\n",
       "      <th>0</th>\n",
       "      <td>Alice</td>\n",
       "      <td>6</td>\n",
       "    </tr>\n",
       "    <tr>\n",
       "      <th>1</th>\n",
       "      <td>Bob</td>\n",
       "      <td>7</td>\n",
       "    </tr>\n",
       "    <tr>\n",
       "      <th>2</th>\n",
       "      <td>Cindy</td>\n",
       "      <td>8</td>\n",
       "    </tr>\n",
       "    <tr>\n",
       "      <th>3</th>\n",
       "      <td>Dan</td>\n",
       "      <td>9</td>\n",
       "    </tr>\n",
       "  </tbody>\n",
       "</table>\n",
       "</div>"
      ],
      "text/plain": [
       "  Player name  Score\n",
       "0       Alice      6\n",
       "1         Bob      7\n",
       "2       Cindy      8\n",
       "3         Dan      9"
      ]
     },
     "execution_count": 15,
     "metadata": {},
     "output_type": "execute_result"
    }
   ],
   "source": [
    "data = [\n",
    "    [\"Alice\", 6],\n",
    "    [\"Bob\", 7],\n",
    "    [\"Cindy\", 8],\n",
    "    [\"Dan\", 9]\n",
    "]\n",
    "DataFrame(data, columns=[\"Player name\", \"Score\"])\n"
   ]
  },
  {
   "cell_type": "code",
   "execution_count": 16,
   "metadata": {},
   "outputs": [
    {
     "data": {
      "text/plain": [
       "[['Alice', 6], ['Bob', 7], ['Cindy', 8], ['Dan', 9]]"
      ]
     },
     "execution_count": 16,
     "metadata": {},
     "output_type": "execute_result"
    }
   ],
   "source": [
    "# You try: \n",
    "# Make a DataFrame of 4 people you know with different ages\n",
    "# Give names to both the columns and rows\n",
    "ages = [\n",
    "    [\"Alice\", 6],\n",
    "    [\"Bob\", 7],\n",
    "    [\"Cindy\", 8],\n",
    "    [\"Dan\", 9]\n",
    "]\n",
    "ages"
   ]
  },
  {
   "cell_type": "code",
   "execution_count": 17,
   "metadata": {},
   "outputs": [],
   "source": [
    "# Share how you did with this with your neighbor\n",
    "# If you both did it the same way, try it a different way"
   ]
  },
  {
   "cell_type": "markdown",
   "metadata": {},
   "source": [
    "## 2. Select a column, row, cell, or rectangular region of a DataFrame\n",
    "### Data lookup: Series\n",
    "- `s.loc[X]`   <- lookup by pandas index\n",
    "- `s.iloc[X]`  <- lookup by integer position"
   ]
  },
  {
   "cell_type": "code",
   "execution_count": 18,
   "metadata": {},
   "outputs": [
    {
     "data": {
      "text/plain": [
       "Alice    6\n",
       "Bob      7\n",
       "Cindy    8\n",
       "Dan      9\n",
       "dtype: int64"
      ]
     },
     "execution_count": 18,
     "metadata": {},
     "output_type": "execute_result"
    }
   ],
   "source": [
    "hours = Series({\"Alice\":6, \"Bob\":7, \"Cindy\":8, \"Dan\":9})\n",
    "hours"
   ]
  },
  {
   "cell_type": "code",
   "execution_count": 19,
   "metadata": {},
   "outputs": [
    {
     "data": {
      "text/plain": [
       "7"
      ]
     },
     "execution_count": 19,
     "metadata": {},
     "output_type": "execute_result"
    }
   ],
   "source": [
    "hours.loc[\"Bob\"] #Series index"
   ]
  },
  {
   "cell_type": "code",
   "execution_count": 20,
   "metadata": {},
   "outputs": [
    {
     "data": {
      "text/plain": [
       "8"
      ]
     },
     "execution_count": 20,
     "metadata": {},
     "output_type": "execute_result"
    }
   ],
   "source": [
    "hours.iloc[2] #Series integer position"
   ]
  },
  {
   "cell_type": "code",
   "execution_count": 21,
   "metadata": {},
   "outputs": [
    {
     "data": {
      "text/plain": [
       "8"
      ]
     },
     "execution_count": 21,
     "metadata": {},
     "output_type": "execute_result"
    }
   ],
   "source": [
    "hours[\"Cindy\"] #Series index"
   ]
  },
  {
   "cell_type": "markdown",
   "metadata": {},
   "source": [
    "###  Data lookup: DataFrame\n",
    "\n",
    "\n",
    "- `d.loc[r]`     lookup ROW by pandas ROW index\n",
    "- `d.iloc[r]`    lookup ROW by ROW integer position\n",
    "- `d[c]`         lookup COL by COL index\n",
    "- `d.loc[r, c]`  lookup by ROW index and COL index\n",
    "- `d.iloc[r, c]`  lookup by ROW integer position and COL integer position"
   ]
  },
  {
   "cell_type": "code",
   "execution_count": 22,
   "metadata": {},
   "outputs": [
    {
     "data": {
      "text/html": [
       "<div>\n",
       "<style scoped>\n",
       "    .dataframe tbody tr th:only-of-type {\n",
       "        vertical-align: middle;\n",
       "    }\n",
       "\n",
       "    .dataframe tbody tr th {\n",
       "        vertical-align: top;\n",
       "    }\n",
       "\n",
       "    .dataframe thead th {\n",
       "        text-align: right;\n",
       "    }\n",
       "</style>\n",
       "<table border=\"1\" class=\"dataframe\">\n",
       "  <thead>\n",
       "    <tr style=\"text-align: right;\">\n",
       "      <th></th>\n",
       "      <th>Player name</th>\n",
       "      <th>Score</th>\n",
       "    </tr>\n",
       "  </thead>\n",
       "  <tbody>\n",
       "    <tr>\n",
       "      <th>A</th>\n",
       "      <td>Alice</td>\n",
       "      <td>6</td>\n",
       "    </tr>\n",
       "    <tr>\n",
       "      <th>B</th>\n",
       "      <td>Bob</td>\n",
       "      <td>7</td>\n",
       "    </tr>\n",
       "    <tr>\n",
       "      <th>C</th>\n",
       "      <td>Cindy</td>\n",
       "      <td>8</td>\n",
       "    </tr>\n",
       "    <tr>\n",
       "      <th>D</th>\n",
       "      <td>Dan</td>\n",
       "      <td>9</td>\n",
       "    </tr>\n",
       "  </tbody>\n",
       "</table>\n",
       "</div>"
      ],
      "text/plain": [
       "  Player name  Score\n",
       "A       Alice      6\n",
       "B         Bob      7\n",
       "C       Cindy      8\n",
       "D         Dan      9"
      ]
     },
     "execution_count": 22,
     "metadata": {},
     "output_type": "execute_result"
    }
   ],
   "source": [
    "# we often call the object that we make df\n",
    "data = [\n",
    "    [\"Alice\", 6],\n",
    "    [\"Bob\", 7],\n",
    "    [\"Cindy\", 8],\n",
    "    [\"Dan\", 9]\n",
    "]\n",
    "df = DataFrame(data, index=[\"A\", \"B\", \"C\", \"D\"], columns = [\"Player name\", \"Score\"])\n",
    "df"
   ]
  },
  {
   "cell_type": "markdown",
   "metadata": {},
   "source": [
    "### What are 3 different ways of accessing row D? "
   ]
  },
  {
   "cell_type": "code",
   "execution_count": 23,
   "metadata": {},
   "outputs": [
    {
     "name": "stdout",
     "output_type": "stream",
     "text": [
      "Player name    Dan\n",
      "Score            9\n",
      "Name: D, dtype: object\n",
      "Player name    Dan\n",
      "Score            9\n",
      "Name: D, dtype: object\n",
      "Player name    Dan\n",
      "Score            9\n",
      "Name: D, dtype: object\n"
     ]
    }
   ],
   "source": [
    "#df[\"D\"] # Nope!\n",
    "print(df.loc[\"D\"])\n",
    "print(df.iloc[3])\n",
    "print(df.iloc[-1])"
   ]
  },
  {
   "cell_type": "code",
   "execution_count": 24,
   "metadata": {},
   "outputs": [
    {
     "data": {
      "text/html": [
       "<div>\n",
       "<style scoped>\n",
       "    .dataframe tbody tr th:only-of-type {\n",
       "        vertical-align: middle;\n",
       "    }\n",
       "\n",
       "    .dataframe tbody tr th {\n",
       "        vertical-align: top;\n",
       "    }\n",
       "\n",
       "    .dataframe thead th {\n",
       "        text-align: right;\n",
       "    }\n",
       "</style>\n",
       "<table border=\"1\" class=\"dataframe\">\n",
       "  <thead>\n",
       "    <tr style=\"text-align: right;\">\n",
       "      <th></th>\n",
       "      <th>Player name</th>\n",
       "      <th>Score</th>\n",
       "    </tr>\n",
       "  </thead>\n",
       "  <tbody>\n",
       "    <tr>\n",
       "      <th>A</th>\n",
       "      <td>Alice</td>\n",
       "      <td>6</td>\n",
       "    </tr>\n",
       "    <tr>\n",
       "      <th>B</th>\n",
       "      <td>Bob</td>\n",
       "      <td>7</td>\n",
       "    </tr>\n",
       "    <tr>\n",
       "      <th>C</th>\n",
       "      <td>Cindy</td>\n",
       "      <td>8</td>\n",
       "    </tr>\n",
       "    <tr>\n",
       "      <th>D</th>\n",
       "      <td>Dan</td>\n",
       "      <td>9</td>\n",
       "    </tr>\n",
       "  </tbody>\n",
       "</table>\n",
       "</div>"
      ],
      "text/plain": [
       "  Player name  Score\n",
       "A       Alice      6\n",
       "B         Bob      7\n",
       "C       Cindy      8\n",
       "D         Dan      9"
      ]
     },
     "execution_count": 24,
     "metadata": {},
     "output_type": "execute_result"
    }
   ],
   "source": [
    "df"
   ]
  },
  {
   "cell_type": "markdown",
   "metadata": {},
   "source": [
    "### What is the only  way to access a column?"
   ]
  },
  {
   "cell_type": "code",
   "execution_count": 25,
   "metadata": {},
   "outputs": [
    {
     "name": "stdout",
     "output_type": "stream",
     "text": [
      "A    Alice\n",
      "B      Bob\n",
      "C    Cindy\n",
      "D      Dan\n",
      "Name: Player name, dtype: object\n"
     ]
    }
   ],
   "source": [
    "#df[0] # Nope!\n",
    "print(df[\"Player name\"])"
   ]
  },
  {
   "cell_type": "code",
   "execution_count": null,
   "metadata": {},
   "outputs": [],
   "source": []
  },
  {
   "cell_type": "markdown",
   "metadata": {},
   "source": [
    "### What are 3 different ways to access a single cell?"
   ]
  },
  {
   "cell_type": "code",
   "execution_count": 26,
   "metadata": {
    "scrolled": true
   },
   "outputs": [
    {
     "data": {
      "text/html": [
       "<div>\n",
       "<style scoped>\n",
       "    .dataframe tbody tr th:only-of-type {\n",
       "        vertical-align: middle;\n",
       "    }\n",
       "\n",
       "    .dataframe tbody tr th {\n",
       "        vertical-align: top;\n",
       "    }\n",
       "\n",
       "    .dataframe thead th {\n",
       "        text-align: right;\n",
       "    }\n",
       "</style>\n",
       "<table border=\"1\" class=\"dataframe\">\n",
       "  <thead>\n",
       "    <tr style=\"text-align: right;\">\n",
       "      <th></th>\n",
       "      <th>Player name</th>\n",
       "      <th>Score</th>\n",
       "    </tr>\n",
       "  </thead>\n",
       "  <tbody>\n",
       "    <tr>\n",
       "      <th>A</th>\n",
       "      <td>Alice</td>\n",
       "      <td>6</td>\n",
       "    </tr>\n",
       "    <tr>\n",
       "      <th>B</th>\n",
       "      <td>Bob</td>\n",
       "      <td>7</td>\n",
       "    </tr>\n",
       "    <tr>\n",
       "      <th>C</th>\n",
       "      <td>Cindy</td>\n",
       "      <td>8</td>\n",
       "    </tr>\n",
       "    <tr>\n",
       "      <th>D</th>\n",
       "      <td>Dan</td>\n",
       "      <td>9</td>\n",
       "    </tr>\n",
       "  </tbody>\n",
       "</table>\n",
       "</div>"
      ],
      "text/plain": [
       "  Player name  Score\n",
       "A       Alice      6\n",
       "B         Bob      7\n",
       "C       Cindy      8\n",
       "D         Dan      9"
      ]
     },
     "execution_count": 26,
     "metadata": {},
     "output_type": "execute_result"
    }
   ],
   "source": [
    "df"
   ]
  },
  {
   "cell_type": "code",
   "execution_count": 27,
   "metadata": {},
   "outputs": [
    {
     "name": "stdout",
     "output_type": "stream",
     "text": [
      "Cindy\n",
      "Cindy\n",
      "Cindy\n"
     ]
    }
   ],
   "source": [
    "# How to access Cindy?\n",
    "#print(df[\"C\", \"Player name\"]) # Nope!\n",
    "print(df.loc[\"C\", \"Player name\"])\n",
    "print(df.iloc[2, 0])\n",
    "print(df.iloc[-2, 0])"
   ]
  },
  {
   "cell_type": "code",
   "execution_count": null,
   "metadata": {},
   "outputs": [],
   "source": []
  },
  {
   "cell_type": "markdown",
   "metadata": {},
   "source": [
    "## How to set values for a specific entry?\n",
    "\n",
    "- `d.loc[r, c] = new_val`\n",
    "- `d.iloc[r, c] = new_val`"
   ]
  },
  {
   "cell_type": "code",
   "execution_count": 28,
   "metadata": {},
   "outputs": [
    {
     "data": {
      "text/html": [
       "<div>\n",
       "<style scoped>\n",
       "    .dataframe tbody tr th:only-of-type {\n",
       "        vertical-align: middle;\n",
       "    }\n",
       "\n",
       "    .dataframe tbody tr th {\n",
       "        vertical-align: top;\n",
       "    }\n",
       "\n",
       "    .dataframe thead th {\n",
       "        text-align: right;\n",
       "    }\n",
       "</style>\n",
       "<table border=\"1\" class=\"dataframe\">\n",
       "  <thead>\n",
       "    <tr style=\"text-align: right;\">\n",
       "      <th></th>\n",
       "      <th>Player name</th>\n",
       "      <th>Score</th>\n",
       "    </tr>\n",
       "  </thead>\n",
       "  <tbody>\n",
       "    <tr>\n",
       "      <th>A</th>\n",
       "      <td>Alice</td>\n",
       "      <td>6</td>\n",
       "    </tr>\n",
       "    <tr>\n",
       "      <th>B</th>\n",
       "      <td>Bob</td>\n",
       "      <td>7</td>\n",
       "    </tr>\n",
       "    <tr>\n",
       "      <th>C</th>\n",
       "      <td>Cindy</td>\n",
       "      <td>8</td>\n",
       "    </tr>\n",
       "    <tr>\n",
       "      <th>D</th>\n",
       "      <td>Bianca</td>\n",
       "      <td>9</td>\n",
       "    </tr>\n",
       "  </tbody>\n",
       "</table>\n",
       "</div>"
      ],
      "text/plain": [
       "  Player name  Score\n",
       "A       Alice      6\n",
       "B         Bob      7\n",
       "C       Cindy      8\n",
       "D      Bianca      9"
      ]
     },
     "execution_count": 28,
     "metadata": {},
     "output_type": "execute_result"
    }
   ],
   "source": [
    "#change player D's name\n",
    "df.loc[\"D\", \"Player name\"] = \"Bianca\"\n",
    "df"
   ]
  },
  {
   "cell_type": "code",
   "execution_count": 29,
   "metadata": {},
   "outputs": [
    {
     "data": {
      "text/html": [
       "<div>\n",
       "<style scoped>\n",
       "    .dataframe tbody tr th:only-of-type {\n",
       "        vertical-align: middle;\n",
       "    }\n",
       "\n",
       "    .dataframe tbody tr th {\n",
       "        vertical-align: top;\n",
       "    }\n",
       "\n",
       "    .dataframe thead th {\n",
       "        text-align: right;\n",
       "    }\n",
       "</style>\n",
       "<table border=\"1\" class=\"dataframe\">\n",
       "  <thead>\n",
       "    <tr style=\"text-align: right;\">\n",
       "      <th></th>\n",
       "      <th>Player name</th>\n",
       "      <th>Score</th>\n",
       "    </tr>\n",
       "  </thead>\n",
       "  <tbody>\n",
       "    <tr>\n",
       "      <th>A</th>\n",
       "      <td>Alice</td>\n",
       "      <td>6</td>\n",
       "    </tr>\n",
       "    <tr>\n",
       "      <th>B</th>\n",
       "      <td>Bob</td>\n",
       "      <td>10</td>\n",
       "    </tr>\n",
       "    <tr>\n",
       "      <th>C</th>\n",
       "      <td>Cindy</td>\n",
       "      <td>8</td>\n",
       "    </tr>\n",
       "    <tr>\n",
       "      <th>D</th>\n",
       "      <td>Bianca</td>\n",
       "      <td>9</td>\n",
       "    </tr>\n",
       "  </tbody>\n",
       "</table>\n",
       "</div>"
      ],
      "text/plain": [
       "  Player name  Score\n",
       "A       Alice      6\n",
       "B         Bob     10\n",
       "C       Cindy      8\n",
       "D      Bianca      9"
      ]
     },
     "execution_count": 29,
     "metadata": {},
     "output_type": "execute_result"
    }
   ],
   "source": [
    "# then add 3 to that player's score using .loc\n",
    "df.loc[\"B\",\"Score\"] += 3\n",
    "df"
   ]
  },
  {
   "cell_type": "code",
   "execution_count": 30,
   "metadata": {},
   "outputs": [
    {
     "data": {
      "text/html": [
       "<div>\n",
       "<style scoped>\n",
       "    .dataframe tbody tr th:only-of-type {\n",
       "        vertical-align: middle;\n",
       "    }\n",
       "\n",
       "    .dataframe tbody tr th {\n",
       "        vertical-align: top;\n",
       "    }\n",
       "\n",
       "    .dataframe thead th {\n",
       "        text-align: right;\n",
       "    }\n",
       "</style>\n",
       "<table border=\"1\" class=\"dataframe\">\n",
       "  <thead>\n",
       "    <tr style=\"text-align: right;\">\n",
       "      <th></th>\n",
       "      <th>Player name</th>\n",
       "      <th>Score</th>\n",
       "    </tr>\n",
       "  </thead>\n",
       "  <tbody>\n",
       "    <tr>\n",
       "      <th>A</th>\n",
       "      <td>Alice</td>\n",
       "      <td>6</td>\n",
       "    </tr>\n",
       "    <tr>\n",
       "      <th>B</th>\n",
       "      <td>Bob</td>\n",
       "      <td>10</td>\n",
       "    </tr>\n",
       "    <tr>\n",
       "      <th>C</th>\n",
       "      <td>Cindy</td>\n",
       "      <td>8</td>\n",
       "    </tr>\n",
       "    <tr>\n",
       "      <th>D</th>\n",
       "      <td>Bianca</td>\n",
       "      <td>9</td>\n",
       "    </tr>\n",
       "  </tbody>\n",
       "</table>\n",
       "</div>"
      ],
      "text/plain": [
       "  Player name  Score\n",
       "A       Alice      6\n",
       "B         Bob     10\n",
       "C       Cindy      8\n",
       "D      Bianca      9"
      ]
     },
     "execution_count": 30,
     "metadata": {},
     "output_type": "execute_result"
    }
   ],
   "source": [
    "# add 7 to a different player's score using .iloc\n",
    "df"
   ]
  },
  {
   "cell_type": "markdown",
   "metadata": {},
   "source": [
    "### Find the max score and the mean score"
   ]
  },
  {
   "cell_type": "code",
   "execution_count": 31,
   "metadata": {},
   "outputs": [
    {
     "name": "stdout",
     "output_type": "stream",
     "text": [
      "10 8.25\n"
     ]
    }
   ],
   "source": [
    "# find the max and mean of the \"Score\" column\n",
    "print(df[\"Score\"].max(), df[\"Score\"].mean())\n"
   ]
  },
  {
   "cell_type": "markdown",
   "metadata": {},
   "source": [
    "##  3.  Slicing a DataFrame\n",
    "\n",
    "- `df.iloc[ROW_SLICE, COL_SLICE]` <- make a rectangular slice from the DataFrame using integer positions\n",
    "- `df.loc[ROW_SLICE, COL_SLICE]` <- make a rectangular slice from the DataFrame using index"
   ]
  },
  {
   "cell_type": "code",
   "execution_count": 32,
   "metadata": {},
   "outputs": [
    {
     "data": {
      "text/html": [
       "<div>\n",
       "<style scoped>\n",
       "    .dataframe tbody tr th:only-of-type {\n",
       "        vertical-align: middle;\n",
       "    }\n",
       "\n",
       "    .dataframe tbody tr th {\n",
       "        vertical-align: top;\n",
       "    }\n",
       "\n",
       "    .dataframe thead th {\n",
       "        text-align: right;\n",
       "    }\n",
       "</style>\n",
       "<table border=\"1\" class=\"dataframe\">\n",
       "  <thead>\n",
       "    <tr style=\"text-align: right;\">\n",
       "      <th></th>\n",
       "      <th>Player name</th>\n",
       "      <th>Score</th>\n",
       "    </tr>\n",
       "  </thead>\n",
       "  <tbody>\n",
       "    <tr>\n",
       "      <th>B</th>\n",
       "      <td>Bob</td>\n",
       "      <td>10</td>\n",
       "    </tr>\n",
       "    <tr>\n",
       "      <th>C</th>\n",
       "      <td>Cindy</td>\n",
       "      <td>8</td>\n",
       "    </tr>\n",
       "  </tbody>\n",
       "</table>\n",
       "</div>"
      ],
      "text/plain": [
       "  Player name  Score\n",
       "B         Bob     10\n",
       "C       Cindy      8"
      ]
     },
     "execution_count": 32,
     "metadata": {},
     "output_type": "execute_result"
    }
   ],
   "source": [
    "df.iloc[1:3, 0:2]"
   ]
  },
  {
   "cell_type": "code",
   "execution_count": 33,
   "metadata": {},
   "outputs": [
    {
     "data": {
      "text/html": [
       "<div>\n",
       "<style scoped>\n",
       "    .dataframe tbody tr th:only-of-type {\n",
       "        vertical-align: middle;\n",
       "    }\n",
       "\n",
       "    .dataframe tbody tr th {\n",
       "        vertical-align: top;\n",
       "    }\n",
       "\n",
       "    .dataframe thead th {\n",
       "        text-align: right;\n",
       "    }\n",
       "</style>\n",
       "<table border=\"1\" class=\"dataframe\">\n",
       "  <thead>\n",
       "    <tr style=\"text-align: right;\">\n",
       "      <th></th>\n",
       "      <th>Player name</th>\n",
       "      <th>Score</th>\n",
       "    </tr>\n",
       "  </thead>\n",
       "  <tbody>\n",
       "    <tr>\n",
       "      <th>B</th>\n",
       "      <td>Bob</td>\n",
       "      <td>10</td>\n",
       "    </tr>\n",
       "    <tr>\n",
       "      <th>C</th>\n",
       "      <td>Cindy</td>\n",
       "      <td>8</td>\n",
       "    </tr>\n",
       "  </tbody>\n",
       "</table>\n",
       "</div>"
      ],
      "text/plain": [
       "  Player name  Score\n",
       "B         Bob     10\n",
       "C       Cindy      8"
      ]
     },
     "execution_count": 33,
     "metadata": {},
     "output_type": "execute_result"
    }
   ],
   "source": [
    "df.loc[\"B\":\"C\", \"Player name\":\"Score\"] # notice that this way is inclusive of endpoints"
   ]
  },
  {
   "cell_type": "markdown",
   "metadata": {},
   "source": [
    "## Set values for sliced DataFrame\n",
    "\n",
    "- `d.loc[ROW_SLICE, COL_SLICE] = new_val` <- set value by ROW INDEX and COL INDEX\n",
    "- `d.iloc[ROW_SLICE, COL_SLICE] = new_val` <- set value by ROW Integer position and COL Integer position"
   ]
  },
  {
   "cell_type": "code",
   "execution_count": 34,
   "metadata": {},
   "outputs": [
    {
     "data": {
      "text/html": [
       "<div>\n",
       "<style scoped>\n",
       "    .dataframe tbody tr th:only-of-type {\n",
       "        vertical-align: middle;\n",
       "    }\n",
       "\n",
       "    .dataframe tbody tr th {\n",
       "        vertical-align: top;\n",
       "    }\n",
       "\n",
       "    .dataframe thead th {\n",
       "        text-align: right;\n",
       "    }\n",
       "</style>\n",
       "<table border=\"1\" class=\"dataframe\">\n",
       "  <thead>\n",
       "    <tr style=\"text-align: right;\">\n",
       "      <th></th>\n",
       "      <th>Player name</th>\n",
       "      <th>Score</th>\n",
       "    </tr>\n",
       "  </thead>\n",
       "  <tbody>\n",
       "    <tr>\n",
       "      <th>A</th>\n",
       "      <td>Alice</td>\n",
       "      <td>6</td>\n",
       "    </tr>\n",
       "    <tr>\n",
       "      <th>B</th>\n",
       "      <td>Bob</td>\n",
       "      <td>10</td>\n",
       "    </tr>\n",
       "    <tr>\n",
       "      <th>C</th>\n",
       "      <td>Cindy</td>\n",
       "      <td>8</td>\n",
       "    </tr>\n",
       "    <tr>\n",
       "      <th>D</th>\n",
       "      <td>Bianca</td>\n",
       "      <td>9</td>\n",
       "    </tr>\n",
       "  </tbody>\n",
       "</table>\n",
       "</div>"
      ],
      "text/plain": [
       "  Player name  Score\n",
       "A       Alice      6\n",
       "B         Bob     10\n",
       "C       Cindy      8\n",
       "D      Bianca      9"
      ]
     },
     "execution_count": 34,
     "metadata": {},
     "output_type": "execute_result"
    }
   ],
   "source": [
    "df"
   ]
  },
  {
   "cell_type": "code",
   "execution_count": 35,
   "metadata": {},
   "outputs": [
    {
     "data": {
      "text/html": [
       "<div>\n",
       "<style scoped>\n",
       "    .dataframe tbody tr th:only-of-type {\n",
       "        vertical-align: middle;\n",
       "    }\n",
       "\n",
       "    .dataframe tbody tr th {\n",
       "        vertical-align: top;\n",
       "    }\n",
       "\n",
       "    .dataframe thead th {\n",
       "        text-align: right;\n",
       "    }\n",
       "</style>\n",
       "<table border=\"1\" class=\"dataframe\">\n",
       "  <thead>\n",
       "    <tr style=\"text-align: right;\">\n",
       "      <th></th>\n",
       "      <th>Player name</th>\n",
       "      <th>Score</th>\n",
       "    </tr>\n",
       "  </thead>\n",
       "  <tbody>\n",
       "    <tr>\n",
       "      <th>A</th>\n",
       "      <td>Alice</td>\n",
       "      <td>6</td>\n",
       "    </tr>\n",
       "    <tr>\n",
       "      <th>B</th>\n",
       "      <td>Bob</td>\n",
       "      <td>15</td>\n",
       "    </tr>\n",
       "    <tr>\n",
       "      <th>C</th>\n",
       "      <td>Cindy</td>\n",
       "      <td>13</td>\n",
       "    </tr>\n",
       "    <tr>\n",
       "      <th>D</th>\n",
       "      <td>Bianca</td>\n",
       "      <td>9</td>\n",
       "    </tr>\n",
       "  </tbody>\n",
       "</table>\n",
       "</div>"
      ],
      "text/plain": [
       "  Player name  Score\n",
       "A       Alice      6\n",
       "B         Bob     15\n",
       "C       Cindy     13\n",
       "D      Bianca      9"
      ]
     },
     "execution_count": 35,
     "metadata": {},
     "output_type": "execute_result"
    }
   ],
   "source": [
    "\n",
    "df.loc[\"B\":\"C\", \"Score\"] += 5\n",
    "df"
   ]
  },
  {
   "cell_type": "markdown",
   "metadata": {},
   "source": [
    "### Pandas allows slicing of non-contiguous columns"
   ]
  },
  {
   "cell_type": "code",
   "execution_count": 36,
   "metadata": {},
   "outputs": [
    {
     "data": {
      "text/plain": [
       "B       Bob\n",
       "D    Bianca\n",
       "Name: Player name, dtype: object"
      ]
     },
     "execution_count": 36,
     "metadata": {},
     "output_type": "execute_result"
    }
   ],
   "source": [
    "# just get Player name for Index B and D\n",
    "df.loc[[\"B\", \"D\"],\"Player name\"]"
   ]
  },
  {
   "cell_type": "code",
   "execution_count": 37,
   "metadata": {},
   "outputs": [],
   "source": [
    "# add 2 to the people in rows B and D\n",
    "df.loc[[\"B\", \"D\"],\"Score\"] += 2"
   ]
  },
  {
   "cell_type": "markdown",
   "metadata": {},
   "source": [
    "## Boolean indexing on a DataFrame\n",
    "\n",
    "- `d[BOOL SERIES]`  <- makes a new DF of all rows that lined up were True"
   ]
  },
  {
   "cell_type": "code",
   "execution_count": 38,
   "metadata": {},
   "outputs": [
    {
     "data": {
      "text/html": [
       "<div>\n",
       "<style scoped>\n",
       "    .dataframe tbody tr th:only-of-type {\n",
       "        vertical-align: middle;\n",
       "    }\n",
       "\n",
       "    .dataframe tbody tr th {\n",
       "        vertical-align: top;\n",
       "    }\n",
       "\n",
       "    .dataframe thead th {\n",
       "        text-align: right;\n",
       "    }\n",
       "</style>\n",
       "<table border=\"1\" class=\"dataframe\">\n",
       "  <thead>\n",
       "    <tr style=\"text-align: right;\">\n",
       "      <th></th>\n",
       "      <th>Player name</th>\n",
       "      <th>Score</th>\n",
       "    </tr>\n",
       "  </thead>\n",
       "  <tbody>\n",
       "    <tr>\n",
       "      <th>A</th>\n",
       "      <td>Alice</td>\n",
       "      <td>6</td>\n",
       "    </tr>\n",
       "    <tr>\n",
       "      <th>B</th>\n",
       "      <td>Bob</td>\n",
       "      <td>17</td>\n",
       "    </tr>\n",
       "    <tr>\n",
       "      <th>C</th>\n",
       "      <td>Cindy</td>\n",
       "      <td>13</td>\n",
       "    </tr>\n",
       "    <tr>\n",
       "      <th>D</th>\n",
       "      <td>Bianca</td>\n",
       "      <td>11</td>\n",
       "    </tr>\n",
       "  </tbody>\n",
       "</table>\n",
       "</div>"
      ],
      "text/plain": [
       "  Player name  Score\n",
       "A       Alice      6\n",
       "B         Bob     17\n",
       "C       Cindy     13\n",
       "D      Bianca     11"
      ]
     },
     "execution_count": 38,
     "metadata": {},
     "output_type": "execute_result"
    }
   ],
   "source": [
    "df"
   ]
  },
  {
   "cell_type": "markdown",
   "metadata": {},
   "source": [
    "### make a Series of Booleans based on Score >= 15"
   ]
  },
  {
   "cell_type": "code",
   "execution_count": 39,
   "metadata": {},
   "outputs": [
    {
     "data": {
      "text/plain": [
       "A    False\n",
       "B     True\n",
       "C    False\n",
       "D    False\n",
       "Name: Score, dtype: bool"
      ]
     },
     "execution_count": 39,
     "metadata": {},
     "output_type": "execute_result"
    }
   ],
   "source": [
    "b = df[\"Score\"] >= 15\n",
    "b\n"
   ]
  },
  {
   "cell_type": "markdown",
   "metadata": {},
   "source": [
    "### use b to slice the DataFrame\n",
    "if b is true, include this row in the new df"
   ]
  },
  {
   "cell_type": "code",
   "execution_count": 40,
   "metadata": {},
   "outputs": [
    {
     "data": {
      "text/html": [
       "<div>\n",
       "<style scoped>\n",
       "    .dataframe tbody tr th:only-of-type {\n",
       "        vertical-align: middle;\n",
       "    }\n",
       "\n",
       "    .dataframe tbody tr th {\n",
       "        vertical-align: top;\n",
       "    }\n",
       "\n",
       "    .dataframe thead th {\n",
       "        text-align: right;\n",
       "    }\n",
       "</style>\n",
       "<table border=\"1\" class=\"dataframe\">\n",
       "  <thead>\n",
       "    <tr style=\"text-align: right;\">\n",
       "      <th></th>\n",
       "      <th>Player name</th>\n",
       "      <th>Score</th>\n",
       "    </tr>\n",
       "  </thead>\n",
       "  <tbody>\n",
       "    <tr>\n",
       "      <th>B</th>\n",
       "      <td>Bob</td>\n",
       "      <td>17</td>\n",
       "    </tr>\n",
       "  </tbody>\n",
       "</table>\n",
       "</div>"
      ],
      "text/plain": [
       "  Player name  Score\n",
       "B         Bob     17"
      ]
     },
     "execution_count": 40,
     "metadata": {},
     "output_type": "execute_result"
    }
   ],
   "source": [
    "df[b]"
   ]
  },
  {
   "cell_type": "markdown",
   "metadata": {},
   "source": [
    "### do the last two things in a single step"
   ]
  },
  {
   "cell_type": "code",
   "execution_count": 41,
   "metadata": {},
   "outputs": [
    {
     "data": {
      "text/html": [
       "<div>\n",
       "<style scoped>\n",
       "    .dataframe tbody tr th:only-of-type {\n",
       "        vertical-align: middle;\n",
       "    }\n",
       "\n",
       "    .dataframe tbody tr th {\n",
       "        vertical-align: top;\n",
       "    }\n",
       "\n",
       "    .dataframe thead th {\n",
       "        text-align: right;\n",
       "    }\n",
       "</style>\n",
       "<table border=\"1\" class=\"dataframe\">\n",
       "  <thead>\n",
       "    <tr style=\"text-align: right;\">\n",
       "      <th></th>\n",
       "      <th>Player name</th>\n",
       "      <th>Score</th>\n",
       "    </tr>\n",
       "  </thead>\n",
       "  <tbody>\n",
       "    <tr>\n",
       "      <th>B</th>\n",
       "      <td>Bob</td>\n",
       "      <td>17</td>\n",
       "    </tr>\n",
       "  </tbody>\n",
       "</table>\n",
       "</div>"
      ],
      "text/plain": [
       "  Player name  Score\n",
       "B         Bob     17"
      ]
     },
     "execution_count": 41,
     "metadata": {},
     "output_type": "execute_result"
    }
   ],
   "source": [
    "df[df[\"Score\"] >= 15]"
   ]
  },
  {
   "cell_type": "markdown",
   "metadata": {},
   "source": [
    "## 4. Creating DataFrame from csv"
   ]
  },
  {
   "cell_type": "code",
   "execution_count": 42,
   "metadata": {},
   "outputs": [
    {
     "data": {
      "text/html": [
       "<div>\n",
       "<style scoped>\n",
       "    .dataframe tbody tr th:only-of-type {\n",
       "        vertical-align: middle;\n",
       "    }\n",
       "\n",
       "    .dataframe tbody tr th {\n",
       "        vertical-align: top;\n",
       "    }\n",
       "\n",
       "    .dataframe thead th {\n",
       "        text-align: right;\n",
       "    }\n",
       "</style>\n",
       "<table border=\"1\" class=\"dataframe\">\n",
       "  <thead>\n",
       "    <tr style=\"text-align: right;\">\n",
       "      <th></th>\n",
       "      <th>Index</th>\n",
       "      <th>Title</th>\n",
       "      <th>Genre</th>\n",
       "      <th>Director</th>\n",
       "      <th>Cast</th>\n",
       "      <th>Year</th>\n",
       "      <th>Runtime</th>\n",
       "      <th>Rating</th>\n",
       "      <th>Revenue</th>\n",
       "    </tr>\n",
       "  </thead>\n",
       "  <tbody>\n",
       "    <tr>\n",
       "      <th>0</th>\n",
       "      <td>0</td>\n",
       "      <td>Guardians of the Galaxy</td>\n",
       "      <td>Action,Adventure,Sci-Fi</td>\n",
       "      <td>James Gunn</td>\n",
       "      <td>Chris Pratt, Vin Diesel, Bradley Cooper, Zoe S...</td>\n",
       "      <td>2014</td>\n",
       "      <td>121</td>\n",
       "      <td>8.1</td>\n",
       "      <td>333.13</td>\n",
       "    </tr>\n",
       "    <tr>\n",
       "      <th>1</th>\n",
       "      <td>1</td>\n",
       "      <td>Prometheus</td>\n",
       "      <td>Adventure,Mystery,Sci-Fi</td>\n",
       "      <td>Ridley Scott</td>\n",
       "      <td>Noomi Rapace, Logan Marshall-Green, Michael   ...</td>\n",
       "      <td>2012</td>\n",
       "      <td>124</td>\n",
       "      <td>7.0</td>\n",
       "      <td>126.46M</td>\n",
       "    </tr>\n",
       "    <tr>\n",
       "      <th>2</th>\n",
       "      <td>2</td>\n",
       "      <td>Split</td>\n",
       "      <td>Horror,Thriller</td>\n",
       "      <td>M. Night Shyamalan</td>\n",
       "      <td>James McAvoy, Anya Taylor-Joy, Haley Lu Richar...</td>\n",
       "      <td>2016</td>\n",
       "      <td>117</td>\n",
       "      <td>7.3</td>\n",
       "      <td>138.12M</td>\n",
       "    </tr>\n",
       "    <tr>\n",
       "      <th>3</th>\n",
       "      <td>3</td>\n",
       "      <td>Sing</td>\n",
       "      <td>Animation,Comedy,Family</td>\n",
       "      <td>Christophe Lourdelet</td>\n",
       "      <td>Matthew McConaughey,Reese Witherspoon, Seth Ma...</td>\n",
       "      <td>2016</td>\n",
       "      <td>108</td>\n",
       "      <td>7.2</td>\n",
       "      <td>270.32</td>\n",
       "    </tr>\n",
       "    <tr>\n",
       "      <th>4</th>\n",
       "      <td>4</td>\n",
       "      <td>Suicide Squad</td>\n",
       "      <td>Action,Adventure,Fantasy</td>\n",
       "      <td>David Ayer</td>\n",
       "      <td>Will Smith, Jared Leto, Margot Robbie, Viola D...</td>\n",
       "      <td>2016</td>\n",
       "      <td>123</td>\n",
       "      <td>6.2</td>\n",
       "      <td>325.02</td>\n",
       "    </tr>\n",
       "    <tr>\n",
       "      <th>...</th>\n",
       "      <td>...</td>\n",
       "      <td>...</td>\n",
       "      <td>...</td>\n",
       "      <td>...</td>\n",
       "      <td>...</td>\n",
       "      <td>...</td>\n",
       "      <td>...</td>\n",
       "      <td>...</td>\n",
       "      <td>...</td>\n",
       "    </tr>\n",
       "    <tr>\n",
       "      <th>1063</th>\n",
       "      <td>1063</td>\n",
       "      <td>Guardians of the Galaxy Vol. 2</td>\n",
       "      <td>Action, Adventure, Comedy</td>\n",
       "      <td>James Gunn</td>\n",
       "      <td>Chris Pratt, Zoe Saldana, Dave Bautista, Vin D...</td>\n",
       "      <td>2017</td>\n",
       "      <td>136</td>\n",
       "      <td>7.6</td>\n",
       "      <td>389.81 M</td>\n",
       "    </tr>\n",
       "    <tr>\n",
       "      <th>1064</th>\n",
       "      <td>1064</td>\n",
       "      <td>Baby Driver</td>\n",
       "      <td>Action, Crime, Drama</td>\n",
       "      <td>Edgar Wright</td>\n",
       "      <td>Ansel Elgort, Jon Bernthal, Jon Hamm, Eiza Gon...</td>\n",
       "      <td>2017</td>\n",
       "      <td>113</td>\n",
       "      <td>7.6</td>\n",
       "      <td>107.83 M</td>\n",
       "    </tr>\n",
       "    <tr>\n",
       "      <th>1065</th>\n",
       "      <td>1065</td>\n",
       "      <td>Only the Brave</td>\n",
       "      <td>Action, Biography, Drama</td>\n",
       "      <td>Joseph Kosinski</td>\n",
       "      <td>Josh Brolin, Miles Teller, Jeff Bridges, Jenni...</td>\n",
       "      <td>2017</td>\n",
       "      <td>134</td>\n",
       "      <td>7.6</td>\n",
       "      <td>18.34 M</td>\n",
       "    </tr>\n",
       "    <tr>\n",
       "      <th>1066</th>\n",
       "      <td>1066</td>\n",
       "      <td>Incredibles 2</td>\n",
       "      <td>Animation, Action, Adventure</td>\n",
       "      <td>Brad Bird</td>\n",
       "      <td>Craig T. Nelson, Holly Hunter, Sarah Vowell, H...</td>\n",
       "      <td>2018</td>\n",
       "      <td>118</td>\n",
       "      <td>7.6</td>\n",
       "      <td>608.58 M</td>\n",
       "    </tr>\n",
       "    <tr>\n",
       "      <th>1067</th>\n",
       "      <td>1067</td>\n",
       "      <td>A Star Is Born</td>\n",
       "      <td>Drama, Music, Romance</td>\n",
       "      <td>Bradley Cooper</td>\n",
       "      <td>Lady Gaga, Bradley Cooper, Sam Elliott, Greg G...</td>\n",
       "      <td>2018</td>\n",
       "      <td>136</td>\n",
       "      <td>7.6</td>\n",
       "      <td>215.29 M</td>\n",
       "    </tr>\n",
       "  </tbody>\n",
       "</table>\n",
       "<p>1068 rows × 9 columns</p>\n",
       "</div>"
      ],
      "text/plain": [
       "      Index                           Title                         Genre  \\\n",
       "0         0         Guardians of the Galaxy       Action,Adventure,Sci-Fi   \n",
       "1         1                      Prometheus      Adventure,Mystery,Sci-Fi   \n",
       "2         2                           Split               Horror,Thriller   \n",
       "3         3                            Sing       Animation,Comedy,Family   \n",
       "4         4                   Suicide Squad      Action,Adventure,Fantasy   \n",
       "...     ...                             ...                           ...   \n",
       "1063   1063  Guardians of the Galaxy Vol. 2     Action, Adventure, Comedy   \n",
       "1064   1064                     Baby Driver          Action, Crime, Drama   \n",
       "1065   1065                  Only the Brave      Action, Biography, Drama   \n",
       "1066   1066                   Incredibles 2  Animation, Action, Adventure   \n",
       "1067   1067                  A Star Is Born         Drama, Music, Romance   \n",
       "\n",
       "                  Director                                               Cast  \\\n",
       "0               James Gunn  Chris Pratt, Vin Diesel, Bradley Cooper, Zoe S...   \n",
       "1             Ridley Scott  Noomi Rapace, Logan Marshall-Green, Michael   ...   \n",
       "2       M. Night Shyamalan  James McAvoy, Anya Taylor-Joy, Haley Lu Richar...   \n",
       "3     Christophe Lourdelet  Matthew McConaughey,Reese Witherspoon, Seth Ma...   \n",
       "4               David Ayer  Will Smith, Jared Leto, Margot Robbie, Viola D...   \n",
       "...                    ...                                                ...   \n",
       "1063            James Gunn  Chris Pratt, Zoe Saldana, Dave Bautista, Vin D...   \n",
       "1064          Edgar Wright  Ansel Elgort, Jon Bernthal, Jon Hamm, Eiza Gon...   \n",
       "1065       Joseph Kosinski  Josh Brolin, Miles Teller, Jeff Bridges, Jenni...   \n",
       "1066             Brad Bird  Craig T. Nelson, Holly Hunter, Sarah Vowell, H...   \n",
       "1067        Bradley Cooper  Lady Gaga, Bradley Cooper, Sam Elliott, Greg G...   \n",
       "\n",
       "      Year  Runtime  Rating   Revenue  \n",
       "0     2014      121     8.1    333.13  \n",
       "1     2012      124     7.0   126.46M  \n",
       "2     2016      117     7.3   138.12M  \n",
       "3     2016      108     7.2    270.32  \n",
       "4     2016      123     6.2    325.02  \n",
       "...    ...      ...     ...       ...  \n",
       "1063  2017      136     7.6  389.81 M  \n",
       "1064  2017      113     7.6  107.83 M  \n",
       "1065  2017      134     7.6   18.34 M  \n",
       "1066  2018      118     7.6  608.58 M  \n",
       "1067  2018      136     7.6  215.29 M  \n",
       "\n",
       "[1068 rows x 9 columns]"
      ]
     },
     "execution_count": 42,
     "metadata": {},
     "output_type": "execute_result"
    }
   ],
   "source": [
    "# it's that easy!  \n",
    "df = pd.read_csv(\"IMDB-Movie-Data.csv\")\n",
    "df"
   ]
  },
  {
   "cell_type": "markdown",
   "metadata": {},
   "source": [
    "###   View the first few lines of the DataFrame\n",
    "- `.head(n)` gets the first n lines, 5 is the default"
   ]
  },
  {
   "cell_type": "code",
   "execution_count": 43,
   "metadata": {},
   "outputs": [
    {
     "data": {
      "text/html": [
       "<div>\n",
       "<style scoped>\n",
       "    .dataframe tbody tr th:only-of-type {\n",
       "        vertical-align: middle;\n",
       "    }\n",
       "\n",
       "    .dataframe tbody tr th {\n",
       "        vertical-align: top;\n",
       "    }\n",
       "\n",
       "    .dataframe thead th {\n",
       "        text-align: right;\n",
       "    }\n",
       "</style>\n",
       "<table border=\"1\" class=\"dataframe\">\n",
       "  <thead>\n",
       "    <tr style=\"text-align: right;\">\n",
       "      <th></th>\n",
       "      <th>Index</th>\n",
       "      <th>Title</th>\n",
       "      <th>Genre</th>\n",
       "      <th>Director</th>\n",
       "      <th>Cast</th>\n",
       "      <th>Year</th>\n",
       "      <th>Runtime</th>\n",
       "      <th>Rating</th>\n",
       "      <th>Revenue</th>\n",
       "    </tr>\n",
       "  </thead>\n",
       "  <tbody>\n",
       "    <tr>\n",
       "      <th>0</th>\n",
       "      <td>0</td>\n",
       "      <td>Guardians of the Galaxy</td>\n",
       "      <td>Action,Adventure,Sci-Fi</td>\n",
       "      <td>James Gunn</td>\n",
       "      <td>Chris Pratt, Vin Diesel, Bradley Cooper, Zoe S...</td>\n",
       "      <td>2014</td>\n",
       "      <td>121</td>\n",
       "      <td>8.1</td>\n",
       "      <td>333.13</td>\n",
       "    </tr>\n",
       "    <tr>\n",
       "      <th>1</th>\n",
       "      <td>1</td>\n",
       "      <td>Prometheus</td>\n",
       "      <td>Adventure,Mystery,Sci-Fi</td>\n",
       "      <td>Ridley Scott</td>\n",
       "      <td>Noomi Rapace, Logan Marshall-Green, Michael   ...</td>\n",
       "      <td>2012</td>\n",
       "      <td>124</td>\n",
       "      <td>7.0</td>\n",
       "      <td>126.46M</td>\n",
       "    </tr>\n",
       "    <tr>\n",
       "      <th>2</th>\n",
       "      <td>2</td>\n",
       "      <td>Split</td>\n",
       "      <td>Horror,Thriller</td>\n",
       "      <td>M. Night Shyamalan</td>\n",
       "      <td>James McAvoy, Anya Taylor-Joy, Haley Lu Richar...</td>\n",
       "      <td>2016</td>\n",
       "      <td>117</td>\n",
       "      <td>7.3</td>\n",
       "      <td>138.12M</td>\n",
       "    </tr>\n",
       "    <tr>\n",
       "      <th>3</th>\n",
       "      <td>3</td>\n",
       "      <td>Sing</td>\n",
       "      <td>Animation,Comedy,Family</td>\n",
       "      <td>Christophe Lourdelet</td>\n",
       "      <td>Matthew McConaughey,Reese Witherspoon, Seth Ma...</td>\n",
       "      <td>2016</td>\n",
       "      <td>108</td>\n",
       "      <td>7.2</td>\n",
       "      <td>270.32</td>\n",
       "    </tr>\n",
       "    <tr>\n",
       "      <th>4</th>\n",
       "      <td>4</td>\n",
       "      <td>Suicide Squad</td>\n",
       "      <td>Action,Adventure,Fantasy</td>\n",
       "      <td>David Ayer</td>\n",
       "      <td>Will Smith, Jared Leto, Margot Robbie, Viola D...</td>\n",
       "      <td>2016</td>\n",
       "      <td>123</td>\n",
       "      <td>6.2</td>\n",
       "      <td>325.02</td>\n",
       "    </tr>\n",
       "  </tbody>\n",
       "</table>\n",
       "</div>"
      ],
      "text/plain": [
       "   Index                    Title                     Genre  \\\n",
       "0      0  Guardians of the Galaxy   Action,Adventure,Sci-Fi   \n",
       "1      1               Prometheus  Adventure,Mystery,Sci-Fi   \n",
       "2      2                    Split           Horror,Thriller   \n",
       "3      3                     Sing   Animation,Comedy,Family   \n",
       "4      4            Suicide Squad  Action,Adventure,Fantasy   \n",
       "\n",
       "               Director                                               Cast  \\\n",
       "0            James Gunn  Chris Pratt, Vin Diesel, Bradley Cooper, Zoe S...   \n",
       "1          Ridley Scott  Noomi Rapace, Logan Marshall-Green, Michael   ...   \n",
       "2    M. Night Shyamalan  James McAvoy, Anya Taylor-Joy, Haley Lu Richar...   \n",
       "3  Christophe Lourdelet  Matthew McConaughey,Reese Witherspoon, Seth Ma...   \n",
       "4            David Ayer  Will Smith, Jared Leto, Margot Robbie, Viola D...   \n",
       "\n",
       "   Year  Runtime  Rating  Revenue  \n",
       "0  2014      121     8.1   333.13  \n",
       "1  2012      124     7.0  126.46M  \n",
       "2  2016      117     7.3  138.12M  \n",
       "3  2016      108     7.2   270.32  \n",
       "4  2016      123     6.2   325.02  "
      ]
     },
     "execution_count": 43,
     "metadata": {},
     "output_type": "execute_result"
    }
   ],
   "source": [
    "df.head()"
   ]
  },
  {
   "cell_type": "markdown",
   "metadata": {},
   "source": [
    "### get the first 2 rows"
   ]
  },
  {
   "cell_type": "code",
   "execution_count": 44,
   "metadata": {},
   "outputs": [
    {
     "data": {
      "text/html": [
       "<div>\n",
       "<style scoped>\n",
       "    .dataframe tbody tr th:only-of-type {\n",
       "        vertical-align: middle;\n",
       "    }\n",
       "\n",
       "    .dataframe tbody tr th {\n",
       "        vertical-align: top;\n",
       "    }\n",
       "\n",
       "    .dataframe thead th {\n",
       "        text-align: right;\n",
       "    }\n",
       "</style>\n",
       "<table border=\"1\" class=\"dataframe\">\n",
       "  <thead>\n",
       "    <tr style=\"text-align: right;\">\n",
       "      <th></th>\n",
       "      <th>Index</th>\n",
       "      <th>Title</th>\n",
       "      <th>Genre</th>\n",
       "      <th>Director</th>\n",
       "      <th>Cast</th>\n",
       "      <th>Year</th>\n",
       "      <th>Runtime</th>\n",
       "      <th>Rating</th>\n",
       "      <th>Revenue</th>\n",
       "    </tr>\n",
       "  </thead>\n",
       "  <tbody>\n",
       "    <tr>\n",
       "      <th>0</th>\n",
       "      <td>0</td>\n",
       "      <td>Guardians of the Galaxy</td>\n",
       "      <td>Action,Adventure,Sci-Fi</td>\n",
       "      <td>James Gunn</td>\n",
       "      <td>Chris Pratt, Vin Diesel, Bradley Cooper, Zoe S...</td>\n",
       "      <td>2014</td>\n",
       "      <td>121</td>\n",
       "      <td>8.1</td>\n",
       "      <td>333.13</td>\n",
       "    </tr>\n",
       "    <tr>\n",
       "      <th>1</th>\n",
       "      <td>1</td>\n",
       "      <td>Prometheus</td>\n",
       "      <td>Adventure,Mystery,Sci-Fi</td>\n",
       "      <td>Ridley Scott</td>\n",
       "      <td>Noomi Rapace, Logan Marshall-Green, Michael   ...</td>\n",
       "      <td>2012</td>\n",
       "      <td>124</td>\n",
       "      <td>7.0</td>\n",
       "      <td>126.46M</td>\n",
       "    </tr>\n",
       "  </tbody>\n",
       "</table>\n",
       "</div>"
      ],
      "text/plain": [
       "   Index                    Title                     Genre      Director  \\\n",
       "0      0  Guardians of the Galaxy   Action,Adventure,Sci-Fi    James Gunn   \n",
       "1      1               Prometheus  Adventure,Mystery,Sci-Fi  Ridley Scott   \n",
       "\n",
       "                                                Cast  Year  Runtime  Rating  \\\n",
       "0  Chris Pratt, Vin Diesel, Bradley Cooper, Zoe S...  2014      121     8.1   \n",
       "1  Noomi Rapace, Logan Marshall-Green, Michael   ...  2012      124     7.0   \n",
       "\n",
       "   Revenue  \n",
       "0   333.13  \n",
       "1  126.46M  "
      ]
     },
     "execution_count": 44,
     "metadata": {},
     "output_type": "execute_result"
    }
   ],
   "source": [
    "df.head(2)"
   ]
  },
  {
   "cell_type": "markdown",
   "metadata": {},
   "source": [
    "###   View the first few lines of the DataFrame\n",
    "- `.tail(n)` gets the last n lines, 5 is the default"
   ]
  },
  {
   "cell_type": "code",
   "execution_count": 45,
   "metadata": {},
   "outputs": [
    {
     "data": {
      "text/html": [
       "<div>\n",
       "<style scoped>\n",
       "    .dataframe tbody tr th:only-of-type {\n",
       "        vertical-align: middle;\n",
       "    }\n",
       "\n",
       "    .dataframe tbody tr th {\n",
       "        vertical-align: top;\n",
       "    }\n",
       "\n",
       "    .dataframe thead th {\n",
       "        text-align: right;\n",
       "    }\n",
       "</style>\n",
       "<table border=\"1\" class=\"dataframe\">\n",
       "  <thead>\n",
       "    <tr style=\"text-align: right;\">\n",
       "      <th></th>\n",
       "      <th>Index</th>\n",
       "      <th>Title</th>\n",
       "      <th>Genre</th>\n",
       "      <th>Director</th>\n",
       "      <th>Cast</th>\n",
       "      <th>Year</th>\n",
       "      <th>Runtime</th>\n",
       "      <th>Rating</th>\n",
       "      <th>Revenue</th>\n",
       "    </tr>\n",
       "  </thead>\n",
       "  <tbody>\n",
       "    <tr>\n",
       "      <th>1063</th>\n",
       "      <td>1063</td>\n",
       "      <td>Guardians of the Galaxy Vol. 2</td>\n",
       "      <td>Action, Adventure, Comedy</td>\n",
       "      <td>James Gunn</td>\n",
       "      <td>Chris Pratt, Zoe Saldana, Dave Bautista, Vin D...</td>\n",
       "      <td>2017</td>\n",
       "      <td>136</td>\n",
       "      <td>7.6</td>\n",
       "      <td>389.81 M</td>\n",
       "    </tr>\n",
       "    <tr>\n",
       "      <th>1064</th>\n",
       "      <td>1064</td>\n",
       "      <td>Baby Driver</td>\n",
       "      <td>Action, Crime, Drama</td>\n",
       "      <td>Edgar Wright</td>\n",
       "      <td>Ansel Elgort, Jon Bernthal, Jon Hamm, Eiza Gon...</td>\n",
       "      <td>2017</td>\n",
       "      <td>113</td>\n",
       "      <td>7.6</td>\n",
       "      <td>107.83 M</td>\n",
       "    </tr>\n",
       "    <tr>\n",
       "      <th>1065</th>\n",
       "      <td>1065</td>\n",
       "      <td>Only the Brave</td>\n",
       "      <td>Action, Biography, Drama</td>\n",
       "      <td>Joseph Kosinski</td>\n",
       "      <td>Josh Brolin, Miles Teller, Jeff Bridges, Jenni...</td>\n",
       "      <td>2017</td>\n",
       "      <td>134</td>\n",
       "      <td>7.6</td>\n",
       "      <td>18.34 M</td>\n",
       "    </tr>\n",
       "    <tr>\n",
       "      <th>1066</th>\n",
       "      <td>1066</td>\n",
       "      <td>Incredibles 2</td>\n",
       "      <td>Animation, Action, Adventure</td>\n",
       "      <td>Brad Bird</td>\n",
       "      <td>Craig T. Nelson, Holly Hunter, Sarah Vowell, H...</td>\n",
       "      <td>2018</td>\n",
       "      <td>118</td>\n",
       "      <td>7.6</td>\n",
       "      <td>608.58 M</td>\n",
       "    </tr>\n",
       "    <tr>\n",
       "      <th>1067</th>\n",
       "      <td>1067</td>\n",
       "      <td>A Star Is Born</td>\n",
       "      <td>Drama, Music, Romance</td>\n",
       "      <td>Bradley Cooper</td>\n",
       "      <td>Lady Gaga, Bradley Cooper, Sam Elliott, Greg G...</td>\n",
       "      <td>2018</td>\n",
       "      <td>136</td>\n",
       "      <td>7.6</td>\n",
       "      <td>215.29 M</td>\n",
       "    </tr>\n",
       "  </tbody>\n",
       "</table>\n",
       "</div>"
      ],
      "text/plain": [
       "      Index                           Title                         Genre  \\\n",
       "1063   1063  Guardians of the Galaxy Vol. 2     Action, Adventure, Comedy   \n",
       "1064   1064                     Baby Driver          Action, Crime, Drama   \n",
       "1065   1065                  Only the Brave      Action, Biography, Drama   \n",
       "1066   1066                   Incredibles 2  Animation, Action, Adventure   \n",
       "1067   1067                  A Star Is Born         Drama, Music, Romance   \n",
       "\n",
       "             Director                                               Cast  \\\n",
       "1063       James Gunn  Chris Pratt, Zoe Saldana, Dave Bautista, Vin D...   \n",
       "1064     Edgar Wright  Ansel Elgort, Jon Bernthal, Jon Hamm, Eiza Gon...   \n",
       "1065  Joseph Kosinski  Josh Brolin, Miles Teller, Jeff Bridges, Jenni...   \n",
       "1066        Brad Bird  Craig T. Nelson, Holly Hunter, Sarah Vowell, H...   \n",
       "1067   Bradley Cooper  Lady Gaga, Bradley Cooper, Sam Elliott, Greg G...   \n",
       "\n",
       "      Year  Runtime  Rating   Revenue  \n",
       "1063  2017      136     7.6  389.81 M  \n",
       "1064  2017      113     7.6  107.83 M  \n",
       "1065  2017      134     7.6   18.34 M  \n",
       "1066  2018      118     7.6  608.58 M  \n",
       "1067  2018      136     7.6  215.29 M  "
      ]
     },
     "execution_count": 45,
     "metadata": {},
     "output_type": "execute_result"
    }
   ],
   "source": [
    "df.tail()"
   ]
  },
  {
   "cell_type": "code",
   "execution_count": 46,
   "metadata": {},
   "outputs": [
    {
     "data": {
      "text/html": [
       "<div>\n",
       "<style scoped>\n",
       "    .dataframe tbody tr th:only-of-type {\n",
       "        vertical-align: middle;\n",
       "    }\n",
       "\n",
       "    .dataframe tbody tr th {\n",
       "        vertical-align: top;\n",
       "    }\n",
       "\n",
       "    .dataframe thead th {\n",
       "        text-align: right;\n",
       "    }\n",
       "</style>\n",
       "<table border=\"1\" class=\"dataframe\">\n",
       "  <thead>\n",
       "    <tr style=\"text-align: right;\">\n",
       "      <th></th>\n",
       "      <th>Index</th>\n",
       "      <th>Title</th>\n",
       "      <th>Genre</th>\n",
       "      <th>Director</th>\n",
       "      <th>Cast</th>\n",
       "      <th>Year</th>\n",
       "      <th>Runtime</th>\n",
       "      <th>Rating</th>\n",
       "      <th>Revenue</th>\n",
       "    </tr>\n",
       "  </thead>\n",
       "  <tbody>\n",
       "    <tr>\n",
       "      <th>1065</th>\n",
       "      <td>1065</td>\n",
       "      <td>Only the Brave</td>\n",
       "      <td>Action, Biography, Drama</td>\n",
       "      <td>Joseph Kosinski</td>\n",
       "      <td>Josh Brolin, Miles Teller, Jeff Bridges, Jenni...</td>\n",
       "      <td>2017</td>\n",
       "      <td>134</td>\n",
       "      <td>7.6</td>\n",
       "      <td>18.34 M</td>\n",
       "    </tr>\n",
       "    <tr>\n",
       "      <th>1066</th>\n",
       "      <td>1066</td>\n",
       "      <td>Incredibles 2</td>\n",
       "      <td>Animation, Action, Adventure</td>\n",
       "      <td>Brad Bird</td>\n",
       "      <td>Craig T. Nelson, Holly Hunter, Sarah Vowell, H...</td>\n",
       "      <td>2018</td>\n",
       "      <td>118</td>\n",
       "      <td>7.6</td>\n",
       "      <td>608.58 M</td>\n",
       "    </tr>\n",
       "    <tr>\n",
       "      <th>1067</th>\n",
       "      <td>1067</td>\n",
       "      <td>A Star Is Born</td>\n",
       "      <td>Drama, Music, Romance</td>\n",
       "      <td>Bradley Cooper</td>\n",
       "      <td>Lady Gaga, Bradley Cooper, Sam Elliott, Greg G...</td>\n",
       "      <td>2018</td>\n",
       "      <td>136</td>\n",
       "      <td>7.6</td>\n",
       "      <td>215.29 M</td>\n",
       "    </tr>\n",
       "  </tbody>\n",
       "</table>\n",
       "</div>"
      ],
      "text/plain": [
       "      Index           Title                         Genre         Director  \\\n",
       "1065   1065  Only the Brave      Action, Biography, Drama  Joseph Kosinski   \n",
       "1066   1066   Incredibles 2  Animation, Action, Adventure        Brad Bird   \n",
       "1067   1067  A Star Is Born         Drama, Music, Romance   Bradley Cooper   \n",
       "\n",
       "                                                   Cast  Year  Runtime  \\\n",
       "1065  Josh Brolin, Miles Teller, Jeff Bridges, Jenni...  2017      134   \n",
       "1066  Craig T. Nelson, Holly Hunter, Sarah Vowell, H...  2018      118   \n",
       "1067  Lady Gaga, Bradley Cooper, Sam Elliott, Greg G...  2018      136   \n",
       "\n",
       "      Rating   Revenue  \n",
       "1065     7.6   18.34 M  \n",
       "1066     7.6  608.58 M  \n",
       "1067     7.6  215.29 M  "
      ]
     },
     "execution_count": 46,
     "metadata": {},
     "output_type": "execute_result"
    }
   ],
   "source": [
    "df.tail(3)"
   ]
  },
  {
   "cell_type": "markdown",
   "metadata": {},
   "source": [
    "### what is the min and max year in our DataFrame?"
   ]
  },
  {
   "cell_type": "code",
   "execution_count": 47,
   "metadata": {},
   "outputs": [
    {
     "name": "stdout",
     "output_type": "stream",
     "text": [
      "2006\t2020\n"
     ]
    }
   ],
   "source": [
    "print(df[\"Year\"].min(), df[\"Year\"].max(), sep=\"\\t\")"
   ]
  },
  {
   "cell_type": "code",
   "execution_count": 48,
   "metadata": {},
   "outputs": [],
   "source": [
    "### what is the rows correspond to movies whose title contains \"Harry\" ? "
   ]
  },
  {
   "cell_type": "code",
   "execution_count": 49,
   "metadata": {},
   "outputs": [
    {
     "data": {
      "text/html": [
       "<div>\n",
       "<style scoped>\n",
       "    .dataframe tbody tr th:only-of-type {\n",
       "        vertical-align: middle;\n",
       "    }\n",
       "\n",
       "    .dataframe tbody tr th {\n",
       "        vertical-align: top;\n",
       "    }\n",
       "\n",
       "    .dataframe thead th {\n",
       "        text-align: right;\n",
       "    }\n",
       "</style>\n",
       "<table border=\"1\" class=\"dataframe\">\n",
       "  <thead>\n",
       "    <tr style=\"text-align: right;\">\n",
       "      <th></th>\n",
       "      <th>Index</th>\n",
       "      <th>Title</th>\n",
       "      <th>Genre</th>\n",
       "      <th>Director</th>\n",
       "      <th>Cast</th>\n",
       "      <th>Year</th>\n",
       "      <th>Runtime</th>\n",
       "      <th>Rating</th>\n",
       "      <th>Revenue</th>\n",
       "    </tr>\n",
       "  </thead>\n",
       "  <tbody>\n",
       "    <tr>\n",
       "      <th>114</th>\n",
       "      <td>114</td>\n",
       "      <td>Harry Potter and the Deathly Hallows: Part 2</td>\n",
       "      <td>Adventure,Drama,Fantasy</td>\n",
       "      <td>David Yates</td>\n",
       "      <td>Daniel Radcliffe, Emma Watson, Rupert Grint, M...</td>\n",
       "      <td>2011</td>\n",
       "      <td>130</td>\n",
       "      <td>8.1</td>\n",
       "      <td>380.96</td>\n",
       "    </tr>\n",
       "    <tr>\n",
       "      <th>314</th>\n",
       "      <td>314</td>\n",
       "      <td>Harry Potter and the Order of the Phoenix</td>\n",
       "      <td>Adventure,Family,Fantasy</td>\n",
       "      <td>David Yates</td>\n",
       "      <td>Daniel Radcliffe, Emma Watson, Rupert Grint, B...</td>\n",
       "      <td>2007</td>\n",
       "      <td>138</td>\n",
       "      <td>7.5</td>\n",
       "      <td>292</td>\n",
       "    </tr>\n",
       "    <tr>\n",
       "      <th>417</th>\n",
       "      <td>417</td>\n",
       "      <td>Harry Potter and the Deathly Hallows: Part 1</td>\n",
       "      <td>Adventure,Family,Fantasy</td>\n",
       "      <td>David Yates</td>\n",
       "      <td>Daniel Radcliffe, Emma Watson, Rupert Grint, B...</td>\n",
       "      <td>2010</td>\n",
       "      <td>146</td>\n",
       "      <td>7.7</td>\n",
       "      <td>294.98</td>\n",
       "    </tr>\n",
       "    <tr>\n",
       "      <th>472</th>\n",
       "      <td>472</td>\n",
       "      <td>Harry Potter and the Half-Blood Prince</td>\n",
       "      <td>Adventure,Family,Fantasy</td>\n",
       "      <td>David Yates</td>\n",
       "      <td>Daniel Radcliffe, Emma Watson, Rupert Grint, M...</td>\n",
       "      <td>2009</td>\n",
       "      <td>153</td>\n",
       "      <td>7.5</td>\n",
       "      <td>301.96</td>\n",
       "    </tr>\n",
       "  </tbody>\n",
       "</table>\n",
       "</div>"
      ],
      "text/plain": [
       "     Index                                         Title  \\\n",
       "114    114  Harry Potter and the Deathly Hallows: Part 2   \n",
       "314    314     Harry Potter and the Order of the Phoenix   \n",
       "417    417  Harry Potter and the Deathly Hallows: Part 1   \n",
       "472    472        Harry Potter and the Half-Blood Prince   \n",
       "\n",
       "                        Genre     Director  \\\n",
       "114   Adventure,Drama,Fantasy  David Yates   \n",
       "314  Adventure,Family,Fantasy  David Yates   \n",
       "417  Adventure,Family,Fantasy  David Yates   \n",
       "472  Adventure,Family,Fantasy  David Yates   \n",
       "\n",
       "                                                  Cast  Year  Runtime  Rating  \\\n",
       "114  Daniel Radcliffe, Emma Watson, Rupert Grint, M...  2011      130     8.1   \n",
       "314  Daniel Radcliffe, Emma Watson, Rupert Grint, B...  2007      138     7.5   \n",
       "417  Daniel Radcliffe, Emma Watson, Rupert Grint, B...  2010      146     7.7   \n",
       "472  Daniel Radcliffe, Emma Watson, Rupert Grint, M...  2009      153     7.5   \n",
       "\n",
       "    Revenue  \n",
       "114  380.96  \n",
       "314     292  \n",
       "417  294.98  \n",
       "472  301.96  "
      ]
     },
     "execution_count": 49,
     "metadata": {},
     "output_type": "execute_result"
    }
   ],
   "source": [
    "df   [   df[\"Title\"].str.contains(\"Harry\") ]"
   ]
  },
  {
   "cell_type": "markdown",
   "metadata": {},
   "source": [
    "### what is the movie at index 6 ? "
   ]
  },
  {
   "cell_type": "code",
   "execution_count": 50,
   "metadata": {},
   "outputs": [
    {
     "data": {
      "text/plain": [
       "Index                                                       6\n",
       "Title                                              La La Land\n",
       "Genre                                      Comedy,Drama,Music\n",
       "Director                                      Damien Chazelle\n",
       "Cast        Ryan Gosling, Emma Stone, Rosemarie DeWitt, J....\n",
       "Year                                                     2016\n",
       "Runtime                                                   128\n",
       "Rating                                                    8.3\n",
       "Revenue                                               151.06M\n",
       "Name: 6, dtype: object"
      ]
     },
     "execution_count": 50,
     "metadata": {},
     "output_type": "execute_result"
    }
   ],
   "source": [
    "df.iloc[6]"
   ]
  },
  {
   "cell_type": "code",
   "execution_count": 51,
   "metadata": {},
   "outputs": [
    {
     "data": {
      "text/html": [
       "<div>\n",
       "<style scoped>\n",
       "    .dataframe tbody tr th:only-of-type {\n",
       "        vertical-align: middle;\n",
       "    }\n",
       "\n",
       "    .dataframe tbody tr th {\n",
       "        vertical-align: top;\n",
       "    }\n",
       "\n",
       "    .dataframe thead th {\n",
       "        text-align: right;\n",
       "    }\n",
       "</style>\n",
       "<table border=\"1\" class=\"dataframe\">\n",
       "  <thead>\n",
       "    <tr style=\"text-align: right;\">\n",
       "      <th></th>\n",
       "      <th>Index</th>\n",
       "      <th>Title</th>\n",
       "      <th>Genre</th>\n",
       "      <th>Director</th>\n",
       "      <th>Cast</th>\n",
       "      <th>Year</th>\n",
       "      <th>Runtime</th>\n",
       "      <th>Rating</th>\n",
       "      <th>Revenue</th>\n",
       "    </tr>\n",
       "  </thead>\n",
       "  <tbody>\n",
       "    <tr>\n",
       "      <th>0</th>\n",
       "      <td>0</td>\n",
       "      <td>Guardians of the Galaxy</td>\n",
       "      <td>Action,Adventure,Sci-Fi</td>\n",
       "      <td>James Gunn</td>\n",
       "      <td>Chris Pratt, Vin Diesel, Bradley Cooper, Zoe S...</td>\n",
       "      <td>2014</td>\n",
       "      <td>121</td>\n",
       "      <td>8.1</td>\n",
       "      <td>333.13</td>\n",
       "    </tr>\n",
       "    <tr>\n",
       "      <th>1</th>\n",
       "      <td>1</td>\n",
       "      <td>Prometheus</td>\n",
       "      <td>Adventure,Mystery,Sci-Fi</td>\n",
       "      <td>Ridley Scott</td>\n",
       "      <td>Noomi Rapace, Logan Marshall-Green, Michael   ...</td>\n",
       "      <td>2012</td>\n",
       "      <td>124</td>\n",
       "      <td>7.0</td>\n",
       "      <td>126.46M</td>\n",
       "    </tr>\n",
       "    <tr>\n",
       "      <th>2</th>\n",
       "      <td>2</td>\n",
       "      <td>Split</td>\n",
       "      <td>Horror,Thriller</td>\n",
       "      <td>M. Night Shyamalan</td>\n",
       "      <td>James McAvoy, Anya Taylor-Joy, Haley Lu Richar...</td>\n",
       "      <td>2016</td>\n",
       "      <td>117</td>\n",
       "      <td>7.3</td>\n",
       "      <td>138.12M</td>\n",
       "    </tr>\n",
       "    <tr>\n",
       "      <th>3</th>\n",
       "      <td>3</td>\n",
       "      <td>Sing</td>\n",
       "      <td>Animation,Comedy,Family</td>\n",
       "      <td>Christophe Lourdelet</td>\n",
       "      <td>Matthew McConaughey,Reese Witherspoon, Seth Ma...</td>\n",
       "      <td>2016</td>\n",
       "      <td>108</td>\n",
       "      <td>7.2</td>\n",
       "      <td>270.32</td>\n",
       "    </tr>\n",
       "    <tr>\n",
       "      <th>4</th>\n",
       "      <td>4</td>\n",
       "      <td>Suicide Squad</td>\n",
       "      <td>Action,Adventure,Fantasy</td>\n",
       "      <td>David Ayer</td>\n",
       "      <td>Will Smith, Jared Leto, Margot Robbie, Viola D...</td>\n",
       "      <td>2016</td>\n",
       "      <td>123</td>\n",
       "      <td>6.2</td>\n",
       "      <td>325.02</td>\n",
       "    </tr>\n",
       "    <tr>\n",
       "      <th>...</th>\n",
       "      <td>...</td>\n",
       "      <td>...</td>\n",
       "      <td>...</td>\n",
       "      <td>...</td>\n",
       "      <td>...</td>\n",
       "      <td>...</td>\n",
       "      <td>...</td>\n",
       "      <td>...</td>\n",
       "      <td>...</td>\n",
       "    </tr>\n",
       "    <tr>\n",
       "      <th>1063</th>\n",
       "      <td>1063</td>\n",
       "      <td>Guardians of the Galaxy Vol. 2</td>\n",
       "      <td>Action, Adventure, Comedy</td>\n",
       "      <td>James Gunn</td>\n",
       "      <td>Chris Pratt, Zoe Saldana, Dave Bautista, Vin D...</td>\n",
       "      <td>2017</td>\n",
       "      <td>136</td>\n",
       "      <td>7.6</td>\n",
       "      <td>389.81 M</td>\n",
       "    </tr>\n",
       "    <tr>\n",
       "      <th>1064</th>\n",
       "      <td>1064</td>\n",
       "      <td>Baby Driver</td>\n",
       "      <td>Action, Crime, Drama</td>\n",
       "      <td>Edgar Wright</td>\n",
       "      <td>Ansel Elgort, Jon Bernthal, Jon Hamm, Eiza Gon...</td>\n",
       "      <td>2017</td>\n",
       "      <td>113</td>\n",
       "      <td>7.6</td>\n",
       "      <td>107.83 M</td>\n",
       "    </tr>\n",
       "    <tr>\n",
       "      <th>1065</th>\n",
       "      <td>1065</td>\n",
       "      <td>Only the Brave</td>\n",
       "      <td>Action, Biography, Drama</td>\n",
       "      <td>Joseph Kosinski</td>\n",
       "      <td>Josh Brolin, Miles Teller, Jeff Bridges, Jenni...</td>\n",
       "      <td>2017</td>\n",
       "      <td>134</td>\n",
       "      <td>7.6</td>\n",
       "      <td>18.34 M</td>\n",
       "    </tr>\n",
       "    <tr>\n",
       "      <th>1066</th>\n",
       "      <td>1066</td>\n",
       "      <td>Incredibles 2</td>\n",
       "      <td>Animation, Action, Adventure</td>\n",
       "      <td>Brad Bird</td>\n",
       "      <td>Craig T. Nelson, Holly Hunter, Sarah Vowell, H...</td>\n",
       "      <td>2018</td>\n",
       "      <td>118</td>\n",
       "      <td>7.6</td>\n",
       "      <td>608.58 M</td>\n",
       "    </tr>\n",
       "    <tr>\n",
       "      <th>1067</th>\n",
       "      <td>1067</td>\n",
       "      <td>A Star Is Born</td>\n",
       "      <td>Drama, Music, Romance</td>\n",
       "      <td>Bradley Cooper</td>\n",
       "      <td>Lady Gaga, Bradley Cooper, Sam Elliott, Greg G...</td>\n",
       "      <td>2018</td>\n",
       "      <td>136</td>\n",
       "      <td>7.6</td>\n",
       "      <td>215.29 M</td>\n",
       "    </tr>\n",
       "  </tbody>\n",
       "</table>\n",
       "<p>1068 rows × 9 columns</p>\n",
       "</div>"
      ],
      "text/plain": [
       "      Index                           Title                         Genre  \\\n",
       "0         0         Guardians of the Galaxy       Action,Adventure,Sci-Fi   \n",
       "1         1                      Prometheus      Adventure,Mystery,Sci-Fi   \n",
       "2         2                           Split               Horror,Thriller   \n",
       "3         3                            Sing       Animation,Comedy,Family   \n",
       "4         4                   Suicide Squad      Action,Adventure,Fantasy   \n",
       "...     ...                             ...                           ...   \n",
       "1063   1063  Guardians of the Galaxy Vol. 2     Action, Adventure, Comedy   \n",
       "1064   1064                     Baby Driver          Action, Crime, Drama   \n",
       "1065   1065                  Only the Brave      Action, Biography, Drama   \n",
       "1066   1066                   Incredibles 2  Animation, Action, Adventure   \n",
       "1067   1067                  A Star Is Born         Drama, Music, Romance   \n",
       "\n",
       "                  Director                                               Cast  \\\n",
       "0               James Gunn  Chris Pratt, Vin Diesel, Bradley Cooper, Zoe S...   \n",
       "1             Ridley Scott  Noomi Rapace, Logan Marshall-Green, Michael   ...   \n",
       "2       M. Night Shyamalan  James McAvoy, Anya Taylor-Joy, Haley Lu Richar...   \n",
       "3     Christophe Lourdelet  Matthew McConaughey,Reese Witherspoon, Seth Ma...   \n",
       "4               David Ayer  Will Smith, Jared Leto, Margot Robbie, Viola D...   \n",
       "...                    ...                                                ...   \n",
       "1063            James Gunn  Chris Pratt, Zoe Saldana, Dave Bautista, Vin D...   \n",
       "1064          Edgar Wright  Ansel Elgort, Jon Bernthal, Jon Hamm, Eiza Gon...   \n",
       "1065       Joseph Kosinski  Josh Brolin, Miles Teller, Jeff Bridges, Jenni...   \n",
       "1066             Brad Bird  Craig T. Nelson, Holly Hunter, Sarah Vowell, H...   \n",
       "1067        Bradley Cooper  Lady Gaga, Bradley Cooper, Sam Elliott, Greg G...   \n",
       "\n",
       "      Year  Runtime  Rating   Revenue  \n",
       "0     2014      121     8.1    333.13  \n",
       "1     2012      124     7.0   126.46M  \n",
       "2     2016      117     7.3   138.12M  \n",
       "3     2016      108     7.2    270.32  \n",
       "4     2016      123     6.2    325.02  \n",
       "...    ...      ...     ...       ...  \n",
       "1063  2017      136     7.6  389.81 M  \n",
       "1064  2017      113     7.6  107.83 M  \n",
       "1065  2017      134     7.6   18.34 M  \n",
       "1066  2018      118     7.6  608.58 M  \n",
       "1067  2018      136     7.6  215.29 M  \n",
       "\n",
       "[1068 rows x 9 columns]"
      ]
     },
     "execution_count": 51,
     "metadata": {},
     "output_type": "execute_result"
    }
   ],
   "source": [
    "df"
   ]
  },
  {
   "cell_type": "markdown",
   "metadata": {},
   "source": [
    "## Notice that there are two index columns\n",
    "- That happened because when you write a csv from pandas to a file, it writes a new index column\n",
    "- So if the dataFrame already contains an index, you are going to get two index columns\n",
    "- Let's fix that problem"
   ]
  },
  {
   "cell_type": "markdown",
   "metadata": {},
   "source": [
    "### How can you use slicing to get just columns with Title and Year?"
   ]
  },
  {
   "cell_type": "code",
   "execution_count": 52,
   "metadata": {},
   "outputs": [
    {
     "data": {
      "text/html": [
       "<div>\n",
       "<style scoped>\n",
       "    .dataframe tbody tr th:only-of-type {\n",
       "        vertical-align: middle;\n",
       "    }\n",
       "\n",
       "    .dataframe tbody tr th {\n",
       "        vertical-align: top;\n",
       "    }\n",
       "\n",
       "    .dataframe thead th {\n",
       "        text-align: right;\n",
       "    }\n",
       "</style>\n",
       "<table border=\"1\" class=\"dataframe\">\n",
       "  <thead>\n",
       "    <tr style=\"text-align: right;\">\n",
       "      <th></th>\n",
       "      <th>Title</th>\n",
       "      <th>Year</th>\n",
       "    </tr>\n",
       "  </thead>\n",
       "  <tbody>\n",
       "    <tr>\n",
       "      <th>0</th>\n",
       "      <td>Guardians of the Galaxy</td>\n",
       "      <td>2014</td>\n",
       "    </tr>\n",
       "    <tr>\n",
       "      <th>1</th>\n",
       "      <td>Prometheus</td>\n",
       "      <td>2012</td>\n",
       "    </tr>\n",
       "    <tr>\n",
       "      <th>2</th>\n",
       "      <td>Split</td>\n",
       "      <td>2016</td>\n",
       "    </tr>\n",
       "    <tr>\n",
       "      <th>3</th>\n",
       "      <td>Sing</td>\n",
       "      <td>2016</td>\n",
       "    </tr>\n",
       "    <tr>\n",
       "      <th>4</th>\n",
       "      <td>Suicide Squad</td>\n",
       "      <td>2016</td>\n",
       "    </tr>\n",
       "    <tr>\n",
       "      <th>...</th>\n",
       "      <td>...</td>\n",
       "      <td>...</td>\n",
       "    </tr>\n",
       "    <tr>\n",
       "      <th>1063</th>\n",
       "      <td>Guardians of the Galaxy Vol. 2</td>\n",
       "      <td>2017</td>\n",
       "    </tr>\n",
       "    <tr>\n",
       "      <th>1064</th>\n",
       "      <td>Baby Driver</td>\n",
       "      <td>2017</td>\n",
       "    </tr>\n",
       "    <tr>\n",
       "      <th>1065</th>\n",
       "      <td>Only the Brave</td>\n",
       "      <td>2017</td>\n",
       "    </tr>\n",
       "    <tr>\n",
       "      <th>1066</th>\n",
       "      <td>Incredibles 2</td>\n",
       "      <td>2018</td>\n",
       "    </tr>\n",
       "    <tr>\n",
       "      <th>1067</th>\n",
       "      <td>A Star Is Born</td>\n",
       "      <td>2018</td>\n",
       "    </tr>\n",
       "  </tbody>\n",
       "</table>\n",
       "<p>1068 rows × 2 columns</p>\n",
       "</div>"
      ],
      "text/plain": [
       "                               Title  Year\n",
       "0            Guardians of the Galaxy  2014\n",
       "1                         Prometheus  2012\n",
       "2                              Split  2016\n",
       "3                               Sing  2016\n",
       "4                      Suicide Squad  2016\n",
       "...                              ...   ...\n",
       "1063  Guardians of the Galaxy Vol. 2  2017\n",
       "1064                     Baby Driver  2017\n",
       "1065                  Only the Brave  2017\n",
       "1066                   Incredibles 2  2018\n",
       "1067                  A Star Is Born  2018\n",
       "\n",
       "[1068 rows x 2 columns]"
      ]
     },
     "execution_count": 52,
     "metadata": {},
     "output_type": "execute_result"
    }
   ],
   "source": [
    "df3 = df[[\"Title\", \"Year\"]]\n",
    "df3\n",
    "# notice that this does not have the 'index' column"
   ]
  },
  {
   "cell_type": "markdown",
   "metadata": {},
   "source": [
    "### How can you use slicing to get rid of the first column?"
   ]
  },
  {
   "cell_type": "code",
   "execution_count": 53,
   "metadata": {},
   "outputs": [
    {
     "data": {
      "text/html": [
       "<div>\n",
       "<style scoped>\n",
       "    .dataframe tbody tr th:only-of-type {\n",
       "        vertical-align: middle;\n",
       "    }\n",
       "\n",
       "    .dataframe tbody tr th {\n",
       "        vertical-align: top;\n",
       "    }\n",
       "\n",
       "    .dataframe thead th {\n",
       "        text-align: right;\n",
       "    }\n",
       "</style>\n",
       "<table border=\"1\" class=\"dataframe\">\n",
       "  <thead>\n",
       "    <tr style=\"text-align: right;\">\n",
       "      <th></th>\n",
       "      <th>Title</th>\n",
       "      <th>Genre</th>\n",
       "      <th>Director</th>\n",
       "      <th>Cast</th>\n",
       "      <th>Year</th>\n",
       "      <th>Runtime</th>\n",
       "      <th>Rating</th>\n",
       "      <th>Revenue</th>\n",
       "    </tr>\n",
       "  </thead>\n",
       "  <tbody>\n",
       "    <tr>\n",
       "      <th>0</th>\n",
       "      <td>Guardians of the Galaxy</td>\n",
       "      <td>Action,Adventure,Sci-Fi</td>\n",
       "      <td>James Gunn</td>\n",
       "      <td>Chris Pratt, Vin Diesel, Bradley Cooper, Zoe S...</td>\n",
       "      <td>2014</td>\n",
       "      <td>121</td>\n",
       "      <td>8.1</td>\n",
       "      <td>333.13</td>\n",
       "    </tr>\n",
       "    <tr>\n",
       "      <th>1</th>\n",
       "      <td>Prometheus</td>\n",
       "      <td>Adventure,Mystery,Sci-Fi</td>\n",
       "      <td>Ridley Scott</td>\n",
       "      <td>Noomi Rapace, Logan Marshall-Green, Michael   ...</td>\n",
       "      <td>2012</td>\n",
       "      <td>124</td>\n",
       "      <td>7.0</td>\n",
       "      <td>126.46M</td>\n",
       "    </tr>\n",
       "    <tr>\n",
       "      <th>2</th>\n",
       "      <td>Split</td>\n",
       "      <td>Horror,Thriller</td>\n",
       "      <td>M. Night Shyamalan</td>\n",
       "      <td>James McAvoy, Anya Taylor-Joy, Haley Lu Richar...</td>\n",
       "      <td>2016</td>\n",
       "      <td>117</td>\n",
       "      <td>7.3</td>\n",
       "      <td>138.12M</td>\n",
       "    </tr>\n",
       "    <tr>\n",
       "      <th>3</th>\n",
       "      <td>Sing</td>\n",
       "      <td>Animation,Comedy,Family</td>\n",
       "      <td>Christophe Lourdelet</td>\n",
       "      <td>Matthew McConaughey,Reese Witherspoon, Seth Ma...</td>\n",
       "      <td>2016</td>\n",
       "      <td>108</td>\n",
       "      <td>7.2</td>\n",
       "      <td>270.32</td>\n",
       "    </tr>\n",
       "    <tr>\n",
       "      <th>4</th>\n",
       "      <td>Suicide Squad</td>\n",
       "      <td>Action,Adventure,Fantasy</td>\n",
       "      <td>David Ayer</td>\n",
       "      <td>Will Smith, Jared Leto, Margot Robbie, Viola D...</td>\n",
       "      <td>2016</td>\n",
       "      <td>123</td>\n",
       "      <td>6.2</td>\n",
       "      <td>325.02</td>\n",
       "    </tr>\n",
       "    <tr>\n",
       "      <th>...</th>\n",
       "      <td>...</td>\n",
       "      <td>...</td>\n",
       "      <td>...</td>\n",
       "      <td>...</td>\n",
       "      <td>...</td>\n",
       "      <td>...</td>\n",
       "      <td>...</td>\n",
       "      <td>...</td>\n",
       "    </tr>\n",
       "    <tr>\n",
       "      <th>1063</th>\n",
       "      <td>Guardians of the Galaxy Vol. 2</td>\n",
       "      <td>Action, Adventure, Comedy</td>\n",
       "      <td>James Gunn</td>\n",
       "      <td>Chris Pratt, Zoe Saldana, Dave Bautista, Vin D...</td>\n",
       "      <td>2017</td>\n",
       "      <td>136</td>\n",
       "      <td>7.6</td>\n",
       "      <td>389.81 M</td>\n",
       "    </tr>\n",
       "    <tr>\n",
       "      <th>1064</th>\n",
       "      <td>Baby Driver</td>\n",
       "      <td>Action, Crime, Drama</td>\n",
       "      <td>Edgar Wright</td>\n",
       "      <td>Ansel Elgort, Jon Bernthal, Jon Hamm, Eiza Gon...</td>\n",
       "      <td>2017</td>\n",
       "      <td>113</td>\n",
       "      <td>7.6</td>\n",
       "      <td>107.83 M</td>\n",
       "    </tr>\n",
       "    <tr>\n",
       "      <th>1065</th>\n",
       "      <td>Only the Brave</td>\n",
       "      <td>Action, Biography, Drama</td>\n",
       "      <td>Joseph Kosinski</td>\n",
       "      <td>Josh Brolin, Miles Teller, Jeff Bridges, Jenni...</td>\n",
       "      <td>2017</td>\n",
       "      <td>134</td>\n",
       "      <td>7.6</td>\n",
       "      <td>18.34 M</td>\n",
       "    </tr>\n",
       "    <tr>\n",
       "      <th>1066</th>\n",
       "      <td>Incredibles 2</td>\n",
       "      <td>Animation, Action, Adventure</td>\n",
       "      <td>Brad Bird</td>\n",
       "      <td>Craig T. Nelson, Holly Hunter, Sarah Vowell, H...</td>\n",
       "      <td>2018</td>\n",
       "      <td>118</td>\n",
       "      <td>7.6</td>\n",
       "      <td>608.58 M</td>\n",
       "    </tr>\n",
       "    <tr>\n",
       "      <th>1067</th>\n",
       "      <td>A Star Is Born</td>\n",
       "      <td>Drama, Music, Romance</td>\n",
       "      <td>Bradley Cooper</td>\n",
       "      <td>Lady Gaga, Bradley Cooper, Sam Elliott, Greg G...</td>\n",
       "      <td>2018</td>\n",
       "      <td>136</td>\n",
       "      <td>7.6</td>\n",
       "      <td>215.29 M</td>\n",
       "    </tr>\n",
       "  </tbody>\n",
       "</table>\n",
       "<p>1068 rows × 8 columns</p>\n",
       "</div>"
      ],
      "text/plain": [
       "                               Title                         Genre  \\\n",
       "0            Guardians of the Galaxy       Action,Adventure,Sci-Fi   \n",
       "1                         Prometheus      Adventure,Mystery,Sci-Fi   \n",
       "2                              Split               Horror,Thriller   \n",
       "3                               Sing       Animation,Comedy,Family   \n",
       "4                      Suicide Squad      Action,Adventure,Fantasy   \n",
       "...                              ...                           ...   \n",
       "1063  Guardians of the Galaxy Vol. 2     Action, Adventure, Comedy   \n",
       "1064                     Baby Driver          Action, Crime, Drama   \n",
       "1065                  Only the Brave      Action, Biography, Drama   \n",
       "1066                   Incredibles 2  Animation, Action, Adventure   \n",
       "1067                  A Star Is Born         Drama, Music, Romance   \n",
       "\n",
       "                  Director                                               Cast  \\\n",
       "0               James Gunn  Chris Pratt, Vin Diesel, Bradley Cooper, Zoe S...   \n",
       "1             Ridley Scott  Noomi Rapace, Logan Marshall-Green, Michael   ...   \n",
       "2       M. Night Shyamalan  James McAvoy, Anya Taylor-Joy, Haley Lu Richar...   \n",
       "3     Christophe Lourdelet  Matthew McConaughey,Reese Witherspoon, Seth Ma...   \n",
       "4               David Ayer  Will Smith, Jared Leto, Margot Robbie, Viola D...   \n",
       "...                    ...                                                ...   \n",
       "1063            James Gunn  Chris Pratt, Zoe Saldana, Dave Bautista, Vin D...   \n",
       "1064          Edgar Wright  Ansel Elgort, Jon Bernthal, Jon Hamm, Eiza Gon...   \n",
       "1065       Joseph Kosinski  Josh Brolin, Miles Teller, Jeff Bridges, Jenni...   \n",
       "1066             Brad Bird  Craig T. Nelson, Holly Hunter, Sarah Vowell, H...   \n",
       "1067        Bradley Cooper  Lady Gaga, Bradley Cooper, Sam Elliott, Greg G...   \n",
       "\n",
       "      Year  Runtime  Rating   Revenue  \n",
       "0     2014      121     8.1    333.13  \n",
       "1     2012      124     7.0   126.46M  \n",
       "2     2016      117     7.3   138.12M  \n",
       "3     2016      108     7.2    270.32  \n",
       "4     2016      123     6.2    325.02  \n",
       "...    ...      ...     ...       ...  \n",
       "1063  2017      136     7.6  389.81 M  \n",
       "1064  2017      113     7.6  107.83 M  \n",
       "1065  2017      134     7.6   18.34 M  \n",
       "1066  2018      118     7.6  608.58 M  \n",
       "1067  2018      136     7.6  215.29 M  \n",
       "\n",
       "[1068 rows x 8 columns]"
      ]
     },
     "execution_count": 53,
     "metadata": {},
     "output_type": "execute_result"
    }
   ],
   "source": [
    "df2 =  df.iloc[:, 1:] #all the rows, not column 0\n",
    "df2"
   ]
  },
  {
   "cell_type": "markdown",
   "metadata": {},
   "source": [
    "### Wrong way to write a df to a csv file"
   ]
  },
  {
   "cell_type": "code",
   "execution_count": 54,
   "metadata": {},
   "outputs": [],
   "source": [
    "df2.to_csv(\"wrong_movies.csv\")"
   ]
  },
  {
   "cell_type": "markdown",
   "metadata": {},
   "source": [
    "### Correct way to write a df to a csv file"
   ]
  },
  {
   "cell_type": "code",
   "execution_count": 55,
   "metadata": {},
   "outputs": [],
   "source": [
    "df2.to_csv(\"better_movies.csv\", index = False)"
   ]
  },
  {
   "cell_type": "markdown",
   "metadata": {},
   "source": [
    "## 5. Practice on your own.....Data Analysis with Data Frames\n"
   ]
  },
  {
   "cell_type": "code",
   "execution_count": 56,
   "metadata": {},
   "outputs": [
    {
     "data": {
      "text/html": [
       "<div>\n",
       "<style scoped>\n",
       "    .dataframe tbody tr th:only-of-type {\n",
       "        vertical-align: middle;\n",
       "    }\n",
       "\n",
       "    .dataframe tbody tr th {\n",
       "        vertical-align: top;\n",
       "    }\n",
       "\n",
       "    .dataframe thead th {\n",
       "        text-align: right;\n",
       "    }\n",
       "</style>\n",
       "<table border=\"1\" class=\"dataframe\">\n",
       "  <thead>\n",
       "    <tr style=\"text-align: right;\">\n",
       "      <th></th>\n",
       "      <th>Index</th>\n",
       "      <th>Title</th>\n",
       "      <th>Genre</th>\n",
       "      <th>Director</th>\n",
       "      <th>Cast</th>\n",
       "      <th>Year</th>\n",
       "      <th>Runtime</th>\n",
       "      <th>Rating</th>\n",
       "      <th>Revenue</th>\n",
       "    </tr>\n",
       "  </thead>\n",
       "  <tbody>\n",
       "    <tr>\n",
       "      <th>0</th>\n",
       "      <td>0</td>\n",
       "      <td>Guardians of the Galaxy</td>\n",
       "      <td>Action,Adventure,Sci-Fi</td>\n",
       "      <td>James Gunn</td>\n",
       "      <td>Chris Pratt, Vin Diesel, Bradley Cooper, Zoe S...</td>\n",
       "      <td>2014</td>\n",
       "      <td>121</td>\n",
       "      <td>8.1</td>\n",
       "      <td>333.13</td>\n",
       "    </tr>\n",
       "    <tr>\n",
       "      <th>1</th>\n",
       "      <td>1</td>\n",
       "      <td>Prometheus</td>\n",
       "      <td>Adventure,Mystery,Sci-Fi</td>\n",
       "      <td>Ridley Scott</td>\n",
       "      <td>Noomi Rapace, Logan Marshall-Green, Michael   ...</td>\n",
       "      <td>2012</td>\n",
       "      <td>124</td>\n",
       "      <td>7.0</td>\n",
       "      <td>126.46M</td>\n",
       "    </tr>\n",
       "    <tr>\n",
       "      <th>2</th>\n",
       "      <td>2</td>\n",
       "      <td>Split</td>\n",
       "      <td>Horror,Thriller</td>\n",
       "      <td>M. Night Shyamalan</td>\n",
       "      <td>James McAvoy, Anya Taylor-Joy, Haley Lu Richar...</td>\n",
       "      <td>2016</td>\n",
       "      <td>117</td>\n",
       "      <td>7.3</td>\n",
       "      <td>138.12M</td>\n",
       "    </tr>\n",
       "    <tr>\n",
       "      <th>4</th>\n",
       "      <td>4</td>\n",
       "      <td>Suicide Squad</td>\n",
       "      <td>Action,Adventure,Fantasy</td>\n",
       "      <td>David Ayer</td>\n",
       "      <td>Will Smith, Jared Leto, Margot Robbie, Viola D...</td>\n",
       "      <td>2016</td>\n",
       "      <td>123</td>\n",
       "      <td>6.2</td>\n",
       "      <td>325.02</td>\n",
       "    </tr>\n",
       "    <tr>\n",
       "      <th>6</th>\n",
       "      <td>6</td>\n",
       "      <td>La La Land</td>\n",
       "      <td>Comedy,Drama,Music</td>\n",
       "      <td>Damien Chazelle</td>\n",
       "      <td>Ryan Gosling, Emma Stone, Rosemarie DeWitt, J....</td>\n",
       "      <td>2016</td>\n",
       "      <td>128</td>\n",
       "      <td>8.3</td>\n",
       "      <td>151.06M</td>\n",
       "    </tr>\n",
       "  </tbody>\n",
       "</table>\n",
       "</div>"
      ],
      "text/plain": [
       "   Index                    Title                     Genre  \\\n",
       "0      0  Guardians of the Galaxy   Action,Adventure,Sci-Fi   \n",
       "1      1               Prometheus  Adventure,Mystery,Sci-Fi   \n",
       "2      2                    Split           Horror,Thriller   \n",
       "4      4            Suicide Squad  Action,Adventure,Fantasy   \n",
       "6      6               La La Land        Comedy,Drama,Music   \n",
       "\n",
       "             Director                                               Cast  \\\n",
       "0          James Gunn  Chris Pratt, Vin Diesel, Bradley Cooper, Zoe S...   \n",
       "1        Ridley Scott  Noomi Rapace, Logan Marshall-Green, Michael   ...   \n",
       "2  M. Night Shyamalan  James McAvoy, Anya Taylor-Joy, Haley Lu Richar...   \n",
       "4          David Ayer  Will Smith, Jared Leto, Margot Robbie, Viola D...   \n",
       "6     Damien Chazelle  Ryan Gosling, Emma Stone, Rosemarie DeWitt, J....   \n",
       "\n",
       "   Year  Runtime  Rating  Revenue  \n",
       "0  2014      121     8.1   333.13  \n",
       "1  2012      124     7.0  126.46M  \n",
       "2  2016      117     7.3  138.12M  \n",
       "4  2016      123     6.2   325.02  \n",
       "6  2016      128     8.3  151.06M  "
      ]
     },
     "execution_count": 56,
     "metadata": {},
     "output_type": "execute_result"
    }
   ],
   "source": [
    "# What are all the movies that have a runtime greater than the mean? \n",
    "long_movies = df [df[\"Runtime\"] > df[\"Runtime\"].mean() ]\n",
    "long_movies.head()"
   ]
  },
  {
   "cell_type": "code",
   "execution_count": null,
   "metadata": {},
   "outputs": [],
   "source": []
  },
  {
   "cell_type": "code",
   "execution_count": 57,
   "metadata": {},
   "outputs": [
    {
     "data": {
      "text/plain": [
       "3.2"
      ]
     },
     "execution_count": 57,
     "metadata": {},
     "output_type": "execute_result"
    }
   ],
   "source": [
    "# of these movies, what was the min rating? \n",
    "min_rating = long_movies[\"Rating\"].min()\n",
    "min_rating"
   ]
  },
  {
   "cell_type": "code",
   "execution_count": 58,
   "metadata": {},
   "outputs": [
    {
     "data": {
      "text/html": [
       "<div>\n",
       "<style scoped>\n",
       "    .dataframe tbody tr th:only-of-type {\n",
       "        vertical-align: middle;\n",
       "    }\n",
       "\n",
       "    .dataframe tbody tr th {\n",
       "        vertical-align: top;\n",
       "    }\n",
       "\n",
       "    .dataframe thead th {\n",
       "        text-align: right;\n",
       "    }\n",
       "</style>\n",
       "<table border=\"1\" class=\"dataframe\">\n",
       "  <thead>\n",
       "    <tr style=\"text-align: right;\">\n",
       "      <th></th>\n",
       "      <th>Index</th>\n",
       "      <th>Title</th>\n",
       "      <th>Genre</th>\n",
       "      <th>Director</th>\n",
       "      <th>Cast</th>\n",
       "      <th>Year</th>\n",
       "      <th>Runtime</th>\n",
       "      <th>Rating</th>\n",
       "      <th>Revenue</th>\n",
       "    </tr>\n",
       "  </thead>\n",
       "  <tbody>\n",
       "    <tr>\n",
       "      <th>646</th>\n",
       "      <td>646</td>\n",
       "      <td>Tall Men</td>\n",
       "      <td>Fantasy,Horror,Thriller</td>\n",
       "      <td>Jonathan Holbrook</td>\n",
       "      <td>Dan Crisafulli, Kay Whitney, Richard Garcia, P...</td>\n",
       "      <td>2016</td>\n",
       "      <td>133</td>\n",
       "      <td>3.2</td>\n",
       "      <td>0</td>\n",
       "    </tr>\n",
       "  </tbody>\n",
       "</table>\n",
       "</div>"
      ],
      "text/plain": [
       "     Index     Title                    Genre           Director  \\\n",
       "646    646  Tall Men  Fantasy,Horror,Thriller  Jonathan Holbrook   \n",
       "\n",
       "                                                  Cast  Year  Runtime  Rating  \\\n",
       "646  Dan Crisafulli, Kay Whitney, Richard Garcia, P...  2016      133     3.2   \n",
       "\n",
       "    Revenue  \n",
       "646       0  "
      ]
     },
     "execution_count": 58,
     "metadata": {},
     "output_type": "execute_result"
    }
   ],
   "source": [
    "# which movies had this min rating?\n",
    "long_movies[long_movies[\"Rating\"] == min_rating]"
   ]
  },
  {
   "cell_type": "markdown",
   "metadata": {},
   "source": [
    "### what are all long_movies with someone in the cast named \"Emma\" ? "
   ]
  },
  {
   "cell_type": "code",
   "execution_count": 59,
   "metadata": {},
   "outputs": [
    {
     "data": {
      "text/html": [
       "<div>\n",
       "<style scoped>\n",
       "    .dataframe tbody tr th:only-of-type {\n",
       "        vertical-align: middle;\n",
       "    }\n",
       "\n",
       "    .dataframe tbody tr th {\n",
       "        vertical-align: top;\n",
       "    }\n",
       "\n",
       "    .dataframe thead th {\n",
       "        text-align: right;\n",
       "    }\n",
       "</style>\n",
       "<table border=\"1\" class=\"dataframe\">\n",
       "  <thead>\n",
       "    <tr style=\"text-align: right;\">\n",
       "      <th></th>\n",
       "      <th>Index</th>\n",
       "      <th>Title</th>\n",
       "      <th>Genre</th>\n",
       "      <th>Director</th>\n",
       "      <th>Cast</th>\n",
       "      <th>Year</th>\n",
       "      <th>Runtime</th>\n",
       "      <th>Rating</th>\n",
       "      <th>Revenue</th>\n",
       "    </tr>\n",
       "  </thead>\n",
       "  <tbody>\n",
       "    <tr>\n",
       "      <th>6</th>\n",
       "      <td>6</td>\n",
       "      <td>La La Land</td>\n",
       "      <td>Comedy,Drama,Music</td>\n",
       "      <td>Damien Chazelle</td>\n",
       "      <td>Ryan Gosling, Emma Stone, Rosemarie DeWitt, J....</td>\n",
       "      <td>2016</td>\n",
       "      <td>128</td>\n",
       "      <td>8.3</td>\n",
       "      <td>151.06M</td>\n",
       "    </tr>\n",
       "    <tr>\n",
       "      <th>92</th>\n",
       "      <td>92</td>\n",
       "      <td>The Help</td>\n",
       "      <td>Drama</td>\n",
       "      <td>Tate Taylor</td>\n",
       "      <td>Emma Stone, Viola Davis, Octavia Spencer, Bryc...</td>\n",
       "      <td>2011</td>\n",
       "      <td>146</td>\n",
       "      <td>8.1</td>\n",
       "      <td>169.71M</td>\n",
       "    </tr>\n",
       "    <tr>\n",
       "      <th>114</th>\n",
       "      <td>114</td>\n",
       "      <td>Harry Potter and the Deathly Hallows: Part 2</td>\n",
       "      <td>Adventure,Drama,Fantasy</td>\n",
       "      <td>David Yates</td>\n",
       "      <td>Daniel Radcliffe, Emma Watson, Rupert Grint, M...</td>\n",
       "      <td>2011</td>\n",
       "      <td>130</td>\n",
       "      <td>8.1</td>\n",
       "      <td>380.96</td>\n",
       "    </tr>\n",
       "    <tr>\n",
       "      <th>157</th>\n",
       "      <td>157</td>\n",
       "      <td>Crazy, Stupid, Love.</td>\n",
       "      <td>Comedy,Drama,Romance</td>\n",
       "      <td>Glenn Ficarra</td>\n",
       "      <td>Steve Carell, Ryan Gosling, Julianne Moore, Em...</td>\n",
       "      <td>2011</td>\n",
       "      <td>118</td>\n",
       "      <td>7.4</td>\n",
       "      <td>84.24</td>\n",
       "    </tr>\n",
       "    <tr>\n",
       "      <th>253</th>\n",
       "      <td>253</td>\n",
       "      <td>The Amazing Spider-Man 2</td>\n",
       "      <td>Action,Adventure,Sci-Fi</td>\n",
       "      <td>Marc Webb</td>\n",
       "      <td>Andrew Garfield, Emma Stone, Jamie Foxx, Paul ...</td>\n",
       "      <td>2014</td>\n",
       "      <td>142</td>\n",
       "      <td>6.7</td>\n",
       "      <td>202.85</td>\n",
       "    </tr>\n",
       "    <tr>\n",
       "      <th>314</th>\n",
       "      <td>314</td>\n",
       "      <td>Harry Potter and the Order of the Phoenix</td>\n",
       "      <td>Adventure,Family,Fantasy</td>\n",
       "      <td>David Yates</td>\n",
       "      <td>Daniel Radcliffe, Emma Watson, Rupert Grint, B...</td>\n",
       "      <td>2007</td>\n",
       "      <td>138</td>\n",
       "      <td>7.5</td>\n",
       "      <td>292</td>\n",
       "    </tr>\n",
       "    <tr>\n",
       "      <th>367</th>\n",
       "      <td>367</td>\n",
       "      <td>The Amazing Spider-Man</td>\n",
       "      <td>Action,Adventure</td>\n",
       "      <td>Marc Webb</td>\n",
       "      <td>Andrew Garfield, Emma Stone, Rhys Ifans, Irrfa...</td>\n",
       "      <td>2012</td>\n",
       "      <td>136</td>\n",
       "      <td>7.0</td>\n",
       "      <td>262.03</td>\n",
       "    </tr>\n",
       "    <tr>\n",
       "      <th>417</th>\n",
       "      <td>417</td>\n",
       "      <td>Harry Potter and the Deathly Hallows: Part 1</td>\n",
       "      <td>Adventure,Family,Fantasy</td>\n",
       "      <td>David Yates</td>\n",
       "      <td>Daniel Radcliffe, Emma Watson, Rupert Grint, B...</td>\n",
       "      <td>2010</td>\n",
       "      <td>146</td>\n",
       "      <td>7.7</td>\n",
       "      <td>294.98</td>\n",
       "    </tr>\n",
       "    <tr>\n",
       "      <th>472</th>\n",
       "      <td>472</td>\n",
       "      <td>Harry Potter and the Half-Blood Prince</td>\n",
       "      <td>Adventure,Family,Fantasy</td>\n",
       "      <td>David Yates</td>\n",
       "      <td>Daniel Radcliffe, Emma Watson, Rupert Grint, M...</td>\n",
       "      <td>2009</td>\n",
       "      <td>153</td>\n",
       "      <td>7.5</td>\n",
       "      <td>301.96</td>\n",
       "    </tr>\n",
       "    <tr>\n",
       "      <th>609</th>\n",
       "      <td>609</td>\n",
       "      <td>Beautiful Creatures</td>\n",
       "      <td>Drama,Fantasy,Romance</td>\n",
       "      <td>Richard LaGravenese</td>\n",
       "      <td>Alice Englert, Viola Davis, Emma Thompson,Alde...</td>\n",
       "      <td>2013</td>\n",
       "      <td>124</td>\n",
       "      <td>6.2</td>\n",
       "      <td>19.45</td>\n",
       "    </tr>\n",
       "    <tr>\n",
       "      <th>717</th>\n",
       "      <td>717</td>\n",
       "      <td>Noah</td>\n",
       "      <td>Action,Adventure,Drama</td>\n",
       "      <td>Darren Aronofsky</td>\n",
       "      <td>Russell Crowe, Jennifer Connelly, Anthony Hopk...</td>\n",
       "      <td>2014</td>\n",
       "      <td>138</td>\n",
       "      <td>5.8</td>\n",
       "      <td>101.16M</td>\n",
       "    </tr>\n",
       "    <tr>\n",
       "      <th>879</th>\n",
       "      <td>879</td>\n",
       "      <td>Saving Mr. Banks</td>\n",
       "      <td>Biography,Comedy,Drama</td>\n",
       "      <td>John Lee Hancock</td>\n",
       "      <td>Emma Thompson, Tom Hanks, Annie Rose Buckley, ...</td>\n",
       "      <td>2013</td>\n",
       "      <td>125</td>\n",
       "      <td>7.5</td>\n",
       "      <td>83.3</td>\n",
       "    </tr>\n",
       "    <tr>\n",
       "      <th>1044</th>\n",
       "      <td>1044</td>\n",
       "      <td>Little Women</td>\n",
       "      <td>Drama, Romance</td>\n",
       "      <td>Greta Gerwig</td>\n",
       "      <td>Saoirse Ronan, Emma Watson, Florence Pugh, Eli...</td>\n",
       "      <td>2019</td>\n",
       "      <td>135</td>\n",
       "      <td>7.8</td>\n",
       "      <td>108.1 M</td>\n",
       "    </tr>\n",
       "  </tbody>\n",
       "</table>\n",
       "</div>"
      ],
      "text/plain": [
       "      Index                                         Title  \\\n",
       "6         6                                    La La Land   \n",
       "92       92                                      The Help   \n",
       "114     114  Harry Potter and the Deathly Hallows: Part 2   \n",
       "157     157                          Crazy, Stupid, Love.   \n",
       "253     253                      The Amazing Spider-Man 2   \n",
       "314     314     Harry Potter and the Order of the Phoenix   \n",
       "367     367                        The Amazing Spider-Man   \n",
       "417     417  Harry Potter and the Deathly Hallows: Part 1   \n",
       "472     472        Harry Potter and the Half-Blood Prince   \n",
       "609     609                           Beautiful Creatures   \n",
       "717     717                                          Noah   \n",
       "879     879                              Saving Mr. Banks   \n",
       "1044   1044                                  Little Women   \n",
       "\n",
       "                         Genre             Director  \\\n",
       "6           Comedy,Drama,Music      Damien Chazelle   \n",
       "92                       Drama          Tate Taylor   \n",
       "114    Adventure,Drama,Fantasy          David Yates   \n",
       "157       Comedy,Drama,Romance        Glenn Ficarra   \n",
       "253    Action,Adventure,Sci-Fi            Marc Webb   \n",
       "314   Adventure,Family,Fantasy          David Yates   \n",
       "367           Action,Adventure            Marc Webb   \n",
       "417   Adventure,Family,Fantasy          David Yates   \n",
       "472   Adventure,Family,Fantasy          David Yates   \n",
       "609      Drama,Fantasy,Romance  Richard LaGravenese   \n",
       "717     Action,Adventure,Drama     Darren Aronofsky   \n",
       "879     Biography,Comedy,Drama     John Lee Hancock   \n",
       "1044            Drama, Romance         Greta Gerwig   \n",
       "\n",
       "                                                   Cast  Year  Runtime  \\\n",
       "6     Ryan Gosling, Emma Stone, Rosemarie DeWitt, J....  2016      128   \n",
       "92    Emma Stone, Viola Davis, Octavia Spencer, Bryc...  2011      146   \n",
       "114   Daniel Radcliffe, Emma Watson, Rupert Grint, M...  2011      130   \n",
       "157   Steve Carell, Ryan Gosling, Julianne Moore, Em...  2011      118   \n",
       "253   Andrew Garfield, Emma Stone, Jamie Foxx, Paul ...  2014      142   \n",
       "314   Daniel Radcliffe, Emma Watson, Rupert Grint, B...  2007      138   \n",
       "367   Andrew Garfield, Emma Stone, Rhys Ifans, Irrfa...  2012      136   \n",
       "417   Daniel Radcliffe, Emma Watson, Rupert Grint, B...  2010      146   \n",
       "472   Daniel Radcliffe, Emma Watson, Rupert Grint, M...  2009      153   \n",
       "609   Alice Englert, Viola Davis, Emma Thompson,Alde...  2013      124   \n",
       "717   Russell Crowe, Jennifer Connelly, Anthony Hopk...  2014      138   \n",
       "879   Emma Thompson, Tom Hanks, Annie Rose Buckley, ...  2013      125   \n",
       "1044  Saoirse Ronan, Emma Watson, Florence Pugh, Eli...  2019      135   \n",
       "\n",
       "      Rating  Revenue  \n",
       "6        8.3  151.06M  \n",
       "92       8.1  169.71M  \n",
       "114      8.1   380.96  \n",
       "157      7.4    84.24  \n",
       "253      6.7   202.85  \n",
       "314      7.5      292  \n",
       "367      7.0   262.03  \n",
       "417      7.7   294.98  \n",
       "472      7.5   301.96  \n",
       "609      6.2    19.45  \n",
       "717      5.8  101.16M  \n",
       "879      7.5     83.3  \n",
       "1044     7.8  108.1 M  "
      ]
     },
     "execution_count": 59,
     "metadata": {},
     "output_type": "execute_result"
    }
   ],
   "source": [
    "long_movies[long_movies[\"Cast\"].str.contains(\"Emma\")]"
   ]
  },
  {
   "cell_type": "code",
   "execution_count": 60,
   "metadata": {},
   "outputs": [
    {
     "data": {
      "text/plain": [
       "792    Ma vie de Courgette\n",
       "Name: Title, dtype: object"
      ]
     },
     "execution_count": 60,
     "metadata": {},
     "output_type": "execute_result"
    }
   ],
   "source": [
    "# What is the title of the shortest movie?\n",
    "df[df[\"Runtime\"] == df[\"Runtime\"].min()]  [\"Title\"]"
   ]
  },
  {
   "cell_type": "code",
   "execution_count": 61,
   "metadata": {},
   "outputs": [],
   "source": [
    "\n",
    "# What movie had the highest revenue?\n",
    "# df[\"Revnue\"].max() did not work\n",
    "# we need to clean our data\n",
    "\n",
    "def format_revenue(revenue):\n",
    "    #TODO: Check the last character of the string\n",
    "    if type(revenue) == float: # need this in here if we run code multiple times\n",
    "        return revenue\n",
    "    if revenue[-1] == 'M':\n",
    "        return float(revenue[:-1]) * 1e6\n",
    "    elif revenue[-1] == 'K':\n",
    "        return float(revenue[:-1]) * 1e3\n",
    "    else:\n",
    "        return float(revenue)"
   ]
  },
  {
   "cell_type": "code",
   "execution_count": 62,
   "metadata": {},
   "outputs": [
    {
     "name": "stdout",
     "output_type": "stream",
     "text": [
      "0    3.331300e+02\n",
      "1    1.264600e+08\n",
      "2    1.381200e+08\n",
      "3    2.703200e+02\n",
      "4    3.250200e+02\n",
      "Name: Revenue, dtype: float64\n"
     ]
    },
    {
     "data": {
      "text/html": [
       "<div>\n",
       "<style scoped>\n",
       "    .dataframe tbody tr th:only-of-type {\n",
       "        vertical-align: middle;\n",
       "    }\n",
       "\n",
       "    .dataframe tbody tr th {\n",
       "        vertical-align: top;\n",
       "    }\n",
       "\n",
       "    .dataframe thead th {\n",
       "        text-align: right;\n",
       "    }\n",
       "</style>\n",
       "<table border=\"1\" class=\"dataframe\">\n",
       "  <thead>\n",
       "    <tr style=\"text-align: right;\">\n",
       "      <th></th>\n",
       "      <th>Index</th>\n",
       "      <th>Title</th>\n",
       "      <th>Genre</th>\n",
       "      <th>Director</th>\n",
       "      <th>Cast</th>\n",
       "      <th>Year</th>\n",
       "      <th>Runtime</th>\n",
       "      <th>Rating</th>\n",
       "      <th>Revenue</th>\n",
       "      <th>Rev as fl</th>\n",
       "    </tr>\n",
       "  </thead>\n",
       "  <tbody>\n",
       "    <tr>\n",
       "      <th>1006</th>\n",
       "      <td>1006</td>\n",
       "      <td>Avengers: Endgame</td>\n",
       "      <td>Action, Adventure, Drama</td>\n",
       "      <td>Anthony Russo</td>\n",
       "      <td>Joe Russo, Robert Downey Jr., Chris Evans, Mar...</td>\n",
       "      <td>2019</td>\n",
       "      <td>181</td>\n",
       "      <td>8.4</td>\n",
       "      <td>858.37 M</td>\n",
       "      <td>858370000.0</td>\n",
       "    </tr>\n",
       "  </tbody>\n",
       "</table>\n",
       "</div>"
      ],
      "text/plain": [
       "      Index              Title                     Genre       Director  \\\n",
       "1006   1006  Avengers: Endgame  Action, Adventure, Drama  Anthony Russo   \n",
       "\n",
       "                                                   Cast  Year  Runtime  \\\n",
       "1006  Joe Russo, Robert Downey Jr., Chris Evans, Mar...  2019      181   \n",
       "\n",
       "      Rating   Revenue    Rev as fl  \n",
       "1006     8.4  858.37 M  858370000.0  "
      ]
     },
     "execution_count": 62,
     "metadata": {},
     "output_type": "execute_result"
    }
   ],
   "source": [
    "# What movie had the highest revenue?\n",
    "revenue = df[\"Revenue\"].apply(format_revenue) # apply a function to a column\n",
    "print(revenue.head())\n",
    "max_revenue = revenue.max()\n",
    "\n",
    "# make a copy of our df\n",
    "rev_df = df.copy()\n",
    "rev_df[\"Rev as fl\"] = revenue\n",
    "rev_df[rev_df[\"Rev as fl\"] == max_revenue]"
   ]
  },
  {
   "cell_type": "code",
   "execution_count": 63,
   "metadata": {},
   "outputs": [
    {
     "data": {
      "text/plain": [
       "126.75"
      ]
     },
     "execution_count": 63,
     "metadata": {},
     "output_type": "execute_result"
    }
   ],
   "source": [
    "# For a certain director, what is the average runtime? \n",
    "fl_movies = df [df[\"Director\"] == \"Francis Lawrence\"]\n",
    "fl_movies[\"Runtime\"].mean()\n"
   ]
  },
  {
   "cell_type": "code",
   "execution_count": 64,
   "metadata": {},
   "outputs": [
    {
     "data": {
      "text/html": [
       "<div>\n",
       "<style scoped>\n",
       "    .dataframe tbody tr th:only-of-type {\n",
       "        vertical-align: middle;\n",
       "    }\n",
       "\n",
       "    .dataframe tbody tr th {\n",
       "        vertical-align: top;\n",
       "    }\n",
       "\n",
       "    .dataframe thead th {\n",
       "        text-align: right;\n",
       "    }\n",
       "</style>\n",
       "<table border=\"1\" class=\"dataframe\">\n",
       "  <thead>\n",
       "    <tr style=\"text-align: right;\">\n",
       "      <th></th>\n",
       "      <th>Index</th>\n",
       "      <th>Title</th>\n",
       "      <th>Genre</th>\n",
       "      <th>Director</th>\n",
       "      <th>Cast</th>\n",
       "      <th>Year</th>\n",
       "      <th>Runtime</th>\n",
       "      <th>Rating</th>\n",
       "      <th>Revenue</th>\n",
       "    </tr>\n",
       "  </thead>\n",
       "  <tbody>\n",
       "    <tr>\n",
       "      <th>0</th>\n",
       "      <td>0</td>\n",
       "      <td>Guardians of the Galaxy</td>\n",
       "      <td>Action,Adventure,Sci-Fi</td>\n",
       "      <td>James Gunn</td>\n",
       "      <td>Chris Pratt, Vin Diesel, Bradley Cooper, Zoe S...</td>\n",
       "      <td>2014</td>\n",
       "      <td>121</td>\n",
       "      <td>8.1</td>\n",
       "      <td>333.13</td>\n",
       "    </tr>\n",
       "    <tr>\n",
       "      <th>1</th>\n",
       "      <td>1</td>\n",
       "      <td>Prometheus</td>\n",
       "      <td>Adventure,Mystery,Sci-Fi</td>\n",
       "      <td>Ridley Scott</td>\n",
       "      <td>Noomi Rapace, Logan Marshall-Green, Michael   ...</td>\n",
       "      <td>2012</td>\n",
       "      <td>124</td>\n",
       "      <td>7.0</td>\n",
       "      <td>126.46M</td>\n",
       "    </tr>\n",
       "    <tr>\n",
       "      <th>2</th>\n",
       "      <td>2</td>\n",
       "      <td>Split</td>\n",
       "      <td>Horror,Thriller</td>\n",
       "      <td>M. Night Shyamalan</td>\n",
       "      <td>James McAvoy, Anya Taylor-Joy, Haley Lu Richar...</td>\n",
       "      <td>2016</td>\n",
       "      <td>117</td>\n",
       "      <td>7.3</td>\n",
       "      <td>138.12M</td>\n",
       "    </tr>\n",
       "    <tr>\n",
       "      <th>3</th>\n",
       "      <td>3</td>\n",
       "      <td>Sing</td>\n",
       "      <td>Animation,Comedy,Family</td>\n",
       "      <td>Christophe Lourdelet</td>\n",
       "      <td>Matthew McConaughey,Reese Witherspoon, Seth Ma...</td>\n",
       "      <td>2016</td>\n",
       "      <td>108</td>\n",
       "      <td>7.2</td>\n",
       "      <td>270.32</td>\n",
       "    </tr>\n",
       "    <tr>\n",
       "      <th>4</th>\n",
       "      <td>4</td>\n",
       "      <td>Suicide Squad</td>\n",
       "      <td>Action,Adventure,Fantasy</td>\n",
       "      <td>David Ayer</td>\n",
       "      <td>Will Smith, Jared Leto, Margot Robbie, Viola D...</td>\n",
       "      <td>2016</td>\n",
       "      <td>123</td>\n",
       "      <td>6.2</td>\n",
       "      <td>325.02</td>\n",
       "    </tr>\n",
       "    <tr>\n",
       "      <th>...</th>\n",
       "      <td>...</td>\n",
       "      <td>...</td>\n",
       "      <td>...</td>\n",
       "      <td>...</td>\n",
       "      <td>...</td>\n",
       "      <td>...</td>\n",
       "      <td>...</td>\n",
       "      <td>...</td>\n",
       "      <td>...</td>\n",
       "    </tr>\n",
       "    <tr>\n",
       "      <th>1063</th>\n",
       "      <td>1063</td>\n",
       "      <td>Guardians of the Galaxy Vol. 2</td>\n",
       "      <td>Action, Adventure, Comedy</td>\n",
       "      <td>James Gunn</td>\n",
       "      <td>Chris Pratt, Zoe Saldana, Dave Bautista, Vin D...</td>\n",
       "      <td>2017</td>\n",
       "      <td>136</td>\n",
       "      <td>7.6</td>\n",
       "      <td>389.81 M</td>\n",
       "    </tr>\n",
       "    <tr>\n",
       "      <th>1064</th>\n",
       "      <td>1064</td>\n",
       "      <td>Baby Driver</td>\n",
       "      <td>Action, Crime, Drama</td>\n",
       "      <td>Edgar Wright</td>\n",
       "      <td>Ansel Elgort, Jon Bernthal, Jon Hamm, Eiza Gon...</td>\n",
       "      <td>2017</td>\n",
       "      <td>113</td>\n",
       "      <td>7.6</td>\n",
       "      <td>107.83 M</td>\n",
       "    </tr>\n",
       "    <tr>\n",
       "      <th>1065</th>\n",
       "      <td>1065</td>\n",
       "      <td>Only the Brave</td>\n",
       "      <td>Action, Biography, Drama</td>\n",
       "      <td>Joseph Kosinski</td>\n",
       "      <td>Josh Brolin, Miles Teller, Jeff Bridges, Jenni...</td>\n",
       "      <td>2017</td>\n",
       "      <td>134</td>\n",
       "      <td>7.6</td>\n",
       "      <td>18.34 M</td>\n",
       "    </tr>\n",
       "    <tr>\n",
       "      <th>1066</th>\n",
       "      <td>1066</td>\n",
       "      <td>Incredibles 2</td>\n",
       "      <td>Animation, Action, Adventure</td>\n",
       "      <td>Brad Bird</td>\n",
       "      <td>Craig T. Nelson, Holly Hunter, Sarah Vowell, H...</td>\n",
       "      <td>2018</td>\n",
       "      <td>118</td>\n",
       "      <td>7.6</td>\n",
       "      <td>608.58 M</td>\n",
       "    </tr>\n",
       "    <tr>\n",
       "      <th>1067</th>\n",
       "      <td>1067</td>\n",
       "      <td>A Star Is Born</td>\n",
       "      <td>Drama, Music, Romance</td>\n",
       "      <td>Bradley Cooper</td>\n",
       "      <td>Lady Gaga, Bradley Cooper, Sam Elliott, Greg G...</td>\n",
       "      <td>2018</td>\n",
       "      <td>136</td>\n",
       "      <td>7.6</td>\n",
       "      <td>215.29 M</td>\n",
       "    </tr>\n",
       "  </tbody>\n",
       "</table>\n",
       "<p>1068 rows × 9 columns</p>\n",
       "</div>"
      ],
      "text/plain": [
       "      Index                           Title                         Genre  \\\n",
       "0         0         Guardians of the Galaxy       Action,Adventure,Sci-Fi   \n",
       "1         1                      Prometheus      Adventure,Mystery,Sci-Fi   \n",
       "2         2                           Split               Horror,Thriller   \n",
       "3         3                            Sing       Animation,Comedy,Family   \n",
       "4         4                   Suicide Squad      Action,Adventure,Fantasy   \n",
       "...     ...                             ...                           ...   \n",
       "1063   1063  Guardians of the Galaxy Vol. 2     Action, Adventure, Comedy   \n",
       "1064   1064                     Baby Driver          Action, Crime, Drama   \n",
       "1065   1065                  Only the Brave      Action, Biography, Drama   \n",
       "1066   1066                   Incredibles 2  Animation, Action, Adventure   \n",
       "1067   1067                  A Star Is Born         Drama, Music, Romance   \n",
       "\n",
       "                  Director                                               Cast  \\\n",
       "0               James Gunn  Chris Pratt, Vin Diesel, Bradley Cooper, Zoe S...   \n",
       "1             Ridley Scott  Noomi Rapace, Logan Marshall-Green, Michael   ...   \n",
       "2       M. Night Shyamalan  James McAvoy, Anya Taylor-Joy, Haley Lu Richar...   \n",
       "3     Christophe Lourdelet  Matthew McConaughey,Reese Witherspoon, Seth Ma...   \n",
       "4               David Ayer  Will Smith, Jared Leto, Margot Robbie, Viola D...   \n",
       "...                    ...                                                ...   \n",
       "1063            James Gunn  Chris Pratt, Zoe Saldana, Dave Bautista, Vin D...   \n",
       "1064          Edgar Wright  Ansel Elgort, Jon Bernthal, Jon Hamm, Eiza Gon...   \n",
       "1065       Joseph Kosinski  Josh Brolin, Miles Teller, Jeff Bridges, Jenni...   \n",
       "1066             Brad Bird  Craig T. Nelson, Holly Hunter, Sarah Vowell, H...   \n",
       "1067        Bradley Cooper  Lady Gaga, Bradley Cooper, Sam Elliott, Greg G...   \n",
       "\n",
       "      Year  Runtime  Rating   Revenue  \n",
       "0     2014      121     8.1    333.13  \n",
       "1     2012      124     7.0   126.46M  \n",
       "2     2016      117     7.3   138.12M  \n",
       "3     2016      108     7.2    270.32  \n",
       "4     2016      123     6.2    325.02  \n",
       "...    ...      ...     ...       ...  \n",
       "1063  2017      136     7.6  389.81 M  \n",
       "1064  2017      113     7.6  107.83 M  \n",
       "1065  2017      134     7.6   18.34 M  \n",
       "1066  2018      118     7.6  608.58 M  \n",
       "1067  2018      136     7.6  215.29 M  \n",
       "\n",
       "[1068 rows x 9 columns]"
      ]
     },
     "execution_count": 64,
     "metadata": {},
     "output_type": "execute_result"
    }
   ],
   "source": [
    "df"
   ]
  },
  {
   "cell_type": "code",
   "execution_count": 65,
   "metadata": {},
   "outputs": [
    {
     "data": {
      "text/plain": [
       "{'Christopher Nolan': 8.533333333333333,\n",
       " 'Martin Scorsese': 7.916666666666667,\n",
       " 'Quentin Tarantino': 7.840000000000001,\n",
       " 'David Fincher': 7.8199999999999985,\n",
       " 'Denis Villeneuve': 7.8,\n",
       " 'J.J. Abrams': 7.58,\n",
       " 'Guy Ritchie': 7.5,\n",
       " 'David Yates': 7.433333333333334,\n",
       " 'Danny Boyle': 7.42,\n",
       " 'Antoine Fuqua': 7.040000000000001,\n",
       " 'Zack Snyder': 7.040000000000001,\n",
       " 'Woody Allen': 7.019999999999999,\n",
       " 'Peter Berg': 6.860000000000001,\n",
       " 'Ridley Scott': 6.85,\n",
       " 'Justin Lin': 6.82,\n",
       " 'Michael Bay': 6.483333333333334,\n",
       " 'Paul W.S. Anderson': 5.766666666666666,\n",
       " 'M. Night Shyamalan': 5.533333333333332}"
      ]
     },
     "execution_count": 65,
     "metadata": {},
     "output_type": "execute_result"
    }
   ],
   "source": [
    "# which director had the highest average rating? \n",
    "\n",
    "# one way is to make a python dict of director, list of ratings\n",
    "director_dict = dict()\n",
    "\n",
    "# make the dictionary: key is director, value is list of ratings\n",
    "for i in range(len(df)):\n",
    "    director = df.loc[i, \"Director\"]\n",
    "    rating = df.loc[i, \"Rating\"]\n",
    "    #print(i, director, rating)\n",
    "    if director not in director_dict:\n",
    "        director_dict[director] = []\n",
    "    director_dict[director].append(rating)\n",
    "\n",
    "# make a ratings dict key is directory, value is average\n",
    "# only include directors with > 4 movies\n",
    "ratings_dict = {k:sum(v)/len(v) for (k,v) in director_dict.items() if len(v) > 4}\n",
    "\n",
    "#sort a dict by values\n",
    "dict(sorted(ratings_dict.items(), key=lambda t:t[-1], reverse=True))\n",
    "    "
   ]
  },
  {
   "cell_type": "code",
   "execution_count": 66,
   "metadata": {},
   "outputs": [],
   "source": [
    "# Extra Practice: Make up some of your own questions about the movies"
   ]
  },
  {
   "cell_type": "code",
   "execution_count": null,
   "metadata": {},
   "outputs": [],
   "source": []
  }
 ],
 "metadata": {
  "kernelspec": {
   "display_name": "Python 3 (ipykernel)",
   "language": "python",
   "name": "python3"
  },
  "language_info": {
   "codemirror_mode": {
    "name": "ipython",
    "version": 3
   },
   "file_extension": ".py",
   "mimetype": "text/x-python",
   "name": "python",
   "nbconvert_exporter": "python",
   "pygments_lexer": "ipython3",
   "version": "3.9.7"
  }
 },
 "nbformat": 4,
 "nbformat_minor": 4
}

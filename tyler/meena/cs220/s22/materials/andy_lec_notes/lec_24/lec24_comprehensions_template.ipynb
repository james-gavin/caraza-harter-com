{
 "cells": [
  {
   "cell_type": "code",
   "execution_count": 1,
   "metadata": {},
   "outputs": [
    {
     "data": {
      "text/plain": [
       "{'Illinois': 52331,\n",
       " 'Iowa': 30448,\n",
       " 'Michigan': 47907,\n",
       " 'Minnesota': 52017,\n",
       " 'Northwestern': 22316,\n",
       " 'Ohio State': 61369,\n",
       " 'Wisconsin': 45540}"
      ]
     },
     "execution_count": 1,
     "metadata": {},
     "output_type": "execute_result"
    }
   ],
   "source": [
    "# Warmup 1: Sort this dictionary by keys\n",
    "\n",
    "# source: https://en.wikipedia.org/wiki/Big_Ten_Conference#Members (2021)\n",
    "\n",
    "enrollments = { \"Wisconsin\": 45540, \"Michigan\": 47907, \"Illinois\": 52331,\n",
    "        \"Iowa\": 30448, \"Minnesota\": 52017, \"Ohio State\": 61369, \"Northwestern\": 22316}\n",
    "\n",
    "# your answer here:\n"
   ]
  },
  {
   "cell_type": "code",
   "execution_count": 2,
   "metadata": {},
   "outputs": [
    {
     "data": {
      "text/plain": [
       "['Illinois',\n",
       " 'Iowa',\n",
       " 'Michigan',\n",
       " 'Minnesota',\n",
       " 'Northwestern',\n",
       " 'Ohio State',\n",
       " 'Wisconsin']"
      ]
     },
     "execution_count": 2,
     "metadata": {},
     "output_type": "execute_result"
    }
   ],
   "source": [
    "# wrong way #1a\n"
   ]
  },
  {
   "cell_type": "code",
   "execution_count": 3,
   "metadata": {},
   "outputs": [
    {
     "ename": "ValueError",
     "evalue": "dictionary update sequence element #0 has length 8; 2 is required",
     "output_type": "error",
     "traceback": [
      "\u001b[0;31m---------------------------------------------------------------------------\u001b[0m",
      "\u001b[0;31mValueError\u001b[0m                                Traceback (most recent call last)",
      "\u001b[0;32m<ipython-input-3-a3dbbd71dd1d>\u001b[0m in \u001b[0;36m<module>\u001b[0;34m\u001b[0m\n\u001b[1;32m      1\u001b[0m \u001b[0;31m# wrong way #2\u001b[0m\u001b[0;34m\u001b[0m\u001b[0;34m\u001b[0m\u001b[0;34m\u001b[0m\u001b[0m\n\u001b[0;32m----> 2\u001b[0;31m \u001b[0mdict\u001b[0m\u001b[0;34m(\u001b[0m\u001b[0msorted\u001b[0m\u001b[0;34m(\u001b[0m\u001b[0menrollments\u001b[0m\u001b[0;34m)\u001b[0m\u001b[0;34m)\u001b[0m\u001b[0;34m\u001b[0m\u001b[0;34m\u001b[0m\u001b[0m\n\u001b[0m",
      "\u001b[0;31mValueError\u001b[0m: dictionary update sequence element #0 has length 8; 2 is required"
     ]
    }
   ],
   "source": [
    "# wrong way #1b\n"
   ]
  },
  {
   "cell_type": "code",
   "execution_count": 6,
   "metadata": {},
   "outputs": [
    {
     "data": {
      "text/plain": [
       "[('Illinois', 52331),\n",
       " ('Iowa', 30448),\n",
       " ('Michigan', 47907),\n",
       " ('Minnesota', 52017),\n",
       " ('Northwestern', 22316),\n",
       " ('Ohio State', 61369),\n",
       " ('Wisconsin', 45540)]"
      ]
     },
     "execution_count": 6,
     "metadata": {},
     "output_type": "execute_result"
    }
   ],
   "source": [
    "# wrong way #1c\n"
   ]
  },
  {
   "cell_type": "code",
   "execution_count": 7,
   "metadata": {},
   "outputs": [
    {
     "data": {
      "text/plain": [
       "{'Illinois': 52331,\n",
       " 'Iowa': 30448,\n",
       " 'Michigan': 47907,\n",
       " 'Minnesota': 52017,\n",
       " 'Northwestern': 22316,\n",
       " 'Ohio State': 61369,\n",
       " 'Wisconsin': 45540}"
      ]
     },
     "execution_count": 7,
     "metadata": {},
     "output_type": "execute_result"
    }
   ],
   "source": [
    "# correct way:\n"
   ]
  },
  {
   "cell_type": "code",
   "execution_count": 10,
   "metadata": {},
   "outputs": [
    {
     "name": "stdout",
     "output_type": "stream",
     "text": [
      "{'Wisconsin': 45540, 'Michigan': 47907, 'Illinois': 52331, 'Iowa': 30448, 'Minnesota': 52017, 'Ohio State': 61369, 'Northwestern': 22316}\n"
     ]
    },
    {
     "data": {
      "text/plain": [
       "{'Northwestern': 22316,\n",
       " 'Iowa': 30448,\n",
       " 'Wisconsin': 45540,\n",
       " 'Michigan': 47907,\n",
       " 'Minnesota': 52017,\n",
       " 'Illinois': 52331,\n",
       " 'Ohio State': 61369}"
      ]
     },
     "execution_count": 10,
     "metadata": {},
     "output_type": "execute_result"
    }
   ],
   "source": [
    "# Warmup 2: Sort enrollments by values ....use `extract`\n",
    "print(enrollments)\n",
    "\n",
    "def extract(s):\n",
    "    return s[-1]\n",
    "\n"
   ]
  },
  {
   "cell_type": "code",
   "execution_count": 1,
   "metadata": {},
   "outputs": [],
   "source": [
    "# alternate way to do the same thing with lambdas:\n"
   ]
  },
  {
   "cell_type": "code",
   "execution_count": 14,
   "metadata": {},
   "outputs": [
    {
     "data": {
      "text/plain": [
       "[{'name': 'Gabriella', 'hours': 45},\n",
       " {'name': 'Jayden', 'hours': 62},\n",
       " {'name': 'Patrice', 'hours': 72},\n",
       " {'name': 'Skylar', 'hours': 53}]"
      ]
     },
     "execution_count": 14,
     "metadata": {},
     "output_type": "execute_result"
    }
   ],
   "source": [
    "# Warmup 3: Sort this list of dictionaries by 'name'\n",
    "volunteers = [  {\"name\": \"Skylar\", \"hours\": 53}, \n",
    "             {\"name\":\"Patrice\", \"hours\": 72},\n",
    "              {\"name\":\"Gabriella\", \"hours\": 45},\n",
    "              {\"name\": \"Jayden\", \"hours\": 62} ]\n",
    "\n",
    "def extract_name(d):\n",
    "    return d['name']\n",
    "\n"
   ]
  },
  {
   "cell_type": "code",
   "execution_count": 16,
   "metadata": {},
   "outputs": [
    {
     "data": {
      "text/plain": [
       "[{'name': 'Gabriella', 'hours': 45},\n",
       " {'name': 'Jayden', 'hours': 62},\n",
       " {'name': 'Patrice', 'hours': 72},\n",
       " {'name': 'Skylar', 'hours': 53}]"
      ]
     },
     "execution_count": 16,
     "metadata": {},
     "output_type": "execute_result"
    }
   ],
   "source": [
    "# alternate way with lambda:\n"
   ]
  },
  {
   "cell_type": "code",
   "execution_count": null,
   "metadata": {},
   "outputs": [],
   "source": [
    "# What is a lambda function? \n",
    "# an abstraction (shortcut) for a function\n",
    "# remove the def, name, and return statement\n",
    "# just describe the parameter and the return value"
   ]
  },
  {
   "cell_type": "code",
   "execution_count": null,
   "metadata": {},
   "outputs": [],
   "source": []
  },
  {
   "cell_type": "code",
   "execution_count": 17,
   "metadata": {},
   "outputs": [
    {
     "data": {
      "text/plain": [
       "[{'name': 'Gabriella', 'hours': 45},\n",
       " {'name': 'Skylar', 'hours': 53},\n",
       " {'name': 'Jayden', 'hours': 62},\n",
       " {'name': 'Patrice', 'hours': 72}]"
      ]
     },
     "execution_count": 17,
     "metadata": {},
     "output_type": "execute_result"
    }
   ],
   "source": [
    "# Warmup 4: Sort the above list of dictionaries by 'hours' \n"
   ]
  },
  {
   "cell_type": "code",
   "execution_count": null,
   "metadata": {},
   "outputs": [],
   "source": []
  },
  {
   "cell_type": "code",
   "execution_count": 19,
   "metadata": {},
   "outputs": [
    {
     "data": {
      "text/plain": [
       "['fig', 'date', 'apple', 'cherry', 'blueberry', 'grapefruit']"
      ]
     },
     "execution_count": 19,
     "metadata": {},
     "output_type": "execute_result"
    }
   ],
   "source": [
    "# Warmup 5: Sort this lists of strings by length of string\n",
    "fruits = [\"apple\", \"blueberry\", \"cherry\", \"date\", \"fig\", \"grapefruit\"]\n",
    "\n"
   ]
  },
  {
   "cell_type": "code",
   "execution_count": 22,
   "metadata": {},
   "outputs": [
    {
     "data": {
      "text/plain": [
       "{'Waukesha': ['Brookfield'],\n",
       " 'Rock': ['Janesville', 'Beloit'],\n",
       " 'Milwaukee': ['Milwaukee', 'West Allis', 'Wauwatosa'],\n",
       " 'Dane': ['Madison', 'Sun Prairie', 'Middleton', 'Waunakee']}"
      ]
     },
     "execution_count": 22,
     "metadata": {},
     "output_type": "execute_result"
    }
   ],
   "source": [
    "# Warmup 6: Sort this dictionary of lists by length of list\n",
    "cities_by_county = {\"Dane\": [\"Madison\", \"Sun Prairie\", \"Middleton\", \"Waunakee\"],\n",
    "                   \"Milwaukee\": [\"Milwaukee\", \"West Allis\", \"Wauwatosa\"],\n",
    "                   \"Rock\": [\"Janesville\", \"Beloit\"],\n",
    "                   \"Waukesha\": [\"Brookfield\"]}\n",
    "\n"
   ]
  },
  {
   "cell_type": "code",
   "execution_count": null,
   "metadata": {},
   "outputs": [],
   "source": []
  },
  {
   "cell_type": "markdown",
   "metadata": {},
   "source": [
    "## Lecture 25:  Comprehensions\n",
    "\n",
    "Learning Objectives:\n",
    "\n",
    "- Create list and dictionary comprehensions\n",
    "\n",
    "\n"
   ]
  },
  {
   "cell_type": "markdown",
   "metadata": {},
   "source": [
    "### 25.1 Create list and dictionary comprehensions\n",
    "\n",
    "\n",
    "Python frequently gives us ways to shorten code\n",
    "\n",
    "A comprehension is a shortcut to using a for loop\n"
   ]
  },
  {
   "cell_type": "code",
   "execution_count": 24,
   "metadata": {},
   "outputs": [],
   "source": [
    "# Given this list what kind of filtered list could we make from it? \n",
    "# By filtered, think about keeping certain words\n",
    "fruits = [\"apple\", \"blueberry\", \"cherry\", \"DATE\", \"FIG\", \"grapefruit\"]\n",
    "# Talk to your partner and come up with different ideas\n",
    "\n",
    "# just words that all uppercase\n",
    "\n",
    "\n",
    "# just the lengths of each word\n",
    "\n",
    "\n",
    "# keep the short words"
   ]
  },
  {
   "cell_type": "code",
   "execution_count": null,
   "metadata": {},
   "outputs": [],
   "source": [
    "# long way: using a for loop\n",
    "new_list = []\n",
    "for w in fruits:\n",
    "    if len(w) > 5:\n",
    "        new_list.append(w)"
   ]
  },
  {
   "cell_type": "code",
   "execution_count": 25,
   "metadata": {},
   "outputs": [],
   "source": [
    "# Do the same thing using a comprehension\n",
    "# Tip:  Write them in reverse, naming the variable last\n"
   ]
  },
  {
   "cell_type": "code",
   "execution_count": 27,
   "metadata": {},
   "outputs": [
    {
     "data": {
      "text/plain": [
       "['DATE', 'FIG']"
      ]
     },
     "execution_count": 27,
     "metadata": {},
     "output_type": "execute_result"
    }
   ],
   "source": [
    "# list of words in fruits that are all uppercase\n",
    "fruits = [\"apple\", \"blueberry\", \"cherry\", \"DATE\", \"FIG\", \"grapefruit\"]\n",
    "\n"
   ]
  },
  {
   "cell_type": "code",
   "execution_count": 28,
   "metadata": {},
   "outputs": [
    {
     "data": {
      "text/plain": [
       "[5, 9, 6, 4, 3, 10]"
      ]
     },
     "execution_count": 28,
     "metadata": {},
     "output_type": "execute_result"
    }
   ],
   "source": [
    "# list of just the lengths of each word\n"
   ]
  },
  {
   "cell_type": "code",
   "execution_count": 33,
   "metadata": {},
   "outputs": [
    {
     "data": {
      "text/plain": [
       "['APPLE', 'DATE', 'FIG']"
      ]
     },
     "execution_count": 33,
     "metadata": {},
     "output_type": "execute_result"
    }
   ],
   "source": [
    "# list of all the short words,  but make them uppercase\n"
   ]
  },
  {
   "cell_type": "code",
   "execution_count": null,
   "metadata": {},
   "outputs": [],
   "source": [
    "# list of words that contain the letter \"A\" or \"a\"\n"
   ]
  },
  {
   "cell_type": "code",
   "execution_count": 10,
   "metadata": {},
   "outputs": [],
   "source": [
    "# Given this list of dictionaries, what kind of lists could we make from it?\n",
    "# Talk to your partner and come up with different ideas\n",
    "volunteers = [  {\"name\": \"Skylar\", \"hours\": 53}, \n",
    "             {\"name\":\"Patrice\", \"hours\": 72},\n",
    "              {\"name\":\"Gabriella\", \"hours\": 45},\n",
    "              {\"name\": \"Jayden\", \"hours\": 62}\n",
    "             ]"
   ]
  },
  {
   "cell_type": "code",
   "execution_count": null,
   "metadata": {},
   "outputs": [],
   "source": [
    "\n"
   ]
  },
  {
   "cell_type": "code",
   "execution_count": null,
   "metadata": {},
   "outputs": [],
   "source": []
  },
  {
   "cell_type": "code",
   "execution_count": 11,
   "metadata": {},
   "outputs": [],
   "source": [
    "# Given this dictionary, what list could we make?\n",
    "cities_by_county = {\"Dane\": [\"Madison\", \"Sun Prairie\", \"Middleton\", \"Waunakee\"],\n",
    "                   \"Milwaukee\": [\"Milwaukee\", \"West Allis\", \"Wauwatosa\"],\n",
    "                   \"Rock\": [\"Janesville\", \"Beloit\"],\n",
    "                   \"Waukesha\": [\"Brookfield\"]}\n",
    "\n"
   ]
  },
  {
   "cell_type": "markdown",
   "metadata": {},
   "source": [
    "### The syntax of Comprehensions"
   ]
  },
  {
   "attachments": {
    "comprehensions.png": {
     "image/png": "[encoded data removed]"
    }
   },
   "cell_type": "markdown",
   "metadata": {},
   "source": [
    "![comprehensions.png](attachment:comprehensions.png)"
   ]
  },
  {
   "cell_type": "markdown",
   "metadata": {},
   "source": [
    "### if/else in a comprehension has a different ordering"
   ]
  },
  {
   "cell_type": "code",
   "execution_count": 4,
   "metadata": {},
   "outputs": [
    {
     "data": {
      "text/plain": [
       "[0.0, 7.222222222222222, 32.22222222222222, 100.0]"
      ]
     },
     "execution_count": 4,
     "metadata": {},
     "output_type": "execute_result"
    }
   ],
   "source": [
    "# If/else...\n",
    "# convert these Fahrenheit temps to an int in Celsius using C = 5/9 * (F-32)\n",
    "temps = [\"32\", \"45\", \"90\", \"212\"]\n",
    "\n",
    "[5/9 * (int(f)-32) for f in temps]"
   ]
  },
  {
   "cell_type": "code",
   "execution_count": 6,
   "metadata": {},
   "outputs": [
    {
     "data": {
      "text/plain": [
       "[0.0, 7.222222222222222, 32.22222222222222, None, 100.0]"
      ]
     },
     "execution_count": 6,
     "metadata": {},
     "output_type": "execute_result"
    }
   ],
   "source": [
    "# do it again, but change empty strings to None\n",
    "# need to use an if else clause which must come before the 'for'\n",
    "# new_list = [expression if conditional_expression else alternate_expression for val in iterable ]\n",
    "\n",
    "temps = [\"32\", \"45\", \"90\", \"\", \"212\"]\n"
   ]
  },
  {
   "cell_type": "code",
   "execution_count": null,
   "metadata": {},
   "outputs": [],
   "source": []
  },
  {
   "cell_type": "markdown",
   "metadata": {},
   "source": [
    "### Dictionary Comprehensions\n",
    "\n",
    "We use a for loop that iterates over dict.items() \n",
    "\n",
    "We use the concept of 'tuple unpacking' by writing a `for (k,v) in dictname.items()`"
   ]
  },
  {
   "cell_type": "code",
   "execution_count": null,
   "metadata": {},
   "outputs": [],
   "source": [
    "scores_dict = {\"Bob\": [18, 72, 83], \n",
    "               \"Cindy\" : [27, 11, 55, 73, 87], \n",
    "               \"Alice\": [16, 33, 42, 89, 90], \n",
    "               \"Meena\": [39, 93, 9, 3, 55, 72, 19]}\n",
    "\n",
    "# Create a dictionary where the key is the same, but the value is the max score in each list\n",
    "{k:v for (k,v) in scores_dict.items()}\n"
   ]
  },
  {
   "cell_type": "code",
   "execution_count": 2,
   "metadata": {},
   "outputs": [],
   "source": [
    "\n",
    "# Create a dictionary where the key is the same, but the value is the average score\n"
   ]
  },
  {
   "cell_type": "code",
   "execution_count": 11,
   "metadata": {},
   "outputs": [
    {
     "data": {
      "text/plain": [
       "{'Skylar': 53, 'Patrice': 72, 'Gabriella': 45, 'Jayden': 62}"
      ]
     },
     "execution_count": 11,
     "metadata": {},
     "output_type": "execute_result"
    }
   ],
   "source": [
    "# Create a single dictionary where the key is the name and the value is the hours.\n",
    "volunteers = [  {\"name\": \"Skylar\", \"hours\": 53}, \n",
    "             {\"name\":\"Patrice\", \"hours\": 72},\n",
    "              {\"name\":\"Gabriella\", \"hours\": 45},\n",
    "              {\"name\": \"Jayden\", \"hours\": 62} ]\n",
    "\n",
    "\n"
   ]
  },
  {
   "cell_type": "code",
   "execution_count": null,
   "metadata": {},
   "outputs": [],
   "source": [
    "\n",
    "\n"
   ]
  },
  {
   "cell_type": "code",
   "execution_count": null,
   "metadata": {},
   "outputs": [],
   "source": [
    "# For more reference\n",
    "# https://www.w3schools.com/python/python_lists_comprehension.asp\n",
    "# https://www.datacamp.com/community/tutorials/python-dictionary-comprehension"
   ]
  },
  {
   "cell_type": "code",
   "execution_count": null,
   "metadata": {},
   "outputs": [],
   "source": []
  },
  {
   "cell_type": "code",
   "execution_count": null,
   "metadata": {},
   "outputs": [],
   "source": []
  }
 ],
 "metadata": {
  "kernelspec": {
   "display_name": "Python 3",
   "language": "python",
   "name": "python3"
  },
  "language_info": {
   "codemirror_mode": {
    "name": "ipython",
    "version": 3
   },
   "file_extension": ".py",
   "mimetype": "text/x-python",
   "name": "python",
   "nbconvert_exporter": "python",
   "pygments_lexer": "ipython3",
   "version": "3.9.1"
  }
 },
 "nbformat": 4,
 "nbformat_minor": 4
}

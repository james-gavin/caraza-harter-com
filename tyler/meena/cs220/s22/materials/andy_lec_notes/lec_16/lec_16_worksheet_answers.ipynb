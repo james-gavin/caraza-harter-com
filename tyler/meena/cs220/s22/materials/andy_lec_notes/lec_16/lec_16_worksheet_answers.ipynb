{
 "cells": [
  {
   "cell_type": "code",
   "execution_count": 10,
   "metadata": {},
   "outputs": [],
   "source": [
    "# Lecture 16 worksheet answers\n",
    "# https://www.msyamkumar.com/cs220/f21/materials/lec-17-worksheet.pdf\n",
    "# The purpose of this worksheet is to prepare you for exam questions.\n",
    "# You should do the worksheet by hand, then check your work.\n",
    "\n",
    "# If you have questions please make a public post on Piazza and include the Given\n",
    "# Students, feel free to answer each other's questions"
   ]
  },
  {
   "cell_type": "code",
   "execution_count": 1,
   "metadata": {},
   "outputs": [],
   "source": [
    "# Problem 1 Given:\n",
    "nums = [100, 2, 3, 40, 99]\n",
    "words = [\"three\", \"two\", \"one\"]\n"
   ]
  },
  {
   "cell_type": "code",
   "execution_count": 2,
   "metadata": {},
   "outputs": [
    {
     "name": "stdout",
     "output_type": "stream",
     "text": [
      "99\n",
      "[2, 3]\n",
      "two\n",
      "w\n",
      "www\n",
      "\n",
      "1\n",
      "2\n",
      "[100, 'three']\n",
      "three,two,one\n",
      "e,t\n"
     ]
    }
   ],
   "source": [
    "# Problem 1 answers\n",
    "print(nums[-1])\n",
    "print(nums[1:3])\n",
    "print(words[1])\n",
    "print(words[1][1])\n",
    "print(words[1][-2] * nums[2])\n",
    "print()\n",
    "print(words.index(\"two\"))\n",
    "print(nums[words.index(\"two\")])\n",
    "print(nums[:1] + words[:1])\n",
    "print(\",\".join(words))\n",
    "print((\",\".join(words))[4:7])"
   ]
  },
  {
   "cell_type": "code",
   "execution_count": null,
   "metadata": {},
   "outputs": [],
   "source": []
  },
  {
   "cell_type": "code",
   "execution_count": 3,
   "metadata": {},
   "outputs": [],
   "source": [
    "# Problem 2 Given:\n",
    "rows = [[\"x\", \"y\",\"name\"], [3,4,\"Alice\"], [9,1,\"Bob\"], [-3,4,\"Cindy\"]]\n",
    "header = rows[0]\n",
    "data = rows[1:]\n",
    "X = 0\n",
    "Y = 1\n",
    "NAME = 2\n"
   ]
  },
  {
   "cell_type": "code",
   "execution_count": 5,
   "metadata": {},
   "outputs": [
    {
     "name": "stdout",
     "output_type": "stream",
     "text": [
      "4\n",
      "3\n",
      "3\n",
      "Alice\n",
      "Bob\n",
      "\n",
      "2\n",
      "Cindy\n",
      "3.0\n",
      "5.0\n",
      "Alice\n"
     ]
    }
   ],
   "source": [
    "# Problem 2 answers\n",
    "print(len(rows))\n",
    "print(len(data))\n",
    "print(len(header))\n",
    "print(rows[1][-1])\n",
    "print(data[1][-1])\n",
    "print()\n",
    "print(header.index(\"name\"))\n",
    "print(data[-1][header.index(\"name\")])\n",
    "print((data[0][X] + data[1][X] + data[2][X]) / 3)\n",
    "print((data[-1][X] ** 2 + data[-1][Y] ** 2) ** 0.5)\n",
    "print(min(data[0][NAME], data[1][NAME], data[2][NAME]))"
   ]
  },
  {
   "cell_type": "code",
   "execution_count": null,
   "metadata": {},
   "outputs": [],
   "source": []
  },
  {
   "cell_type": "code",
   "execution_count": 6,
   "metadata": {},
   "outputs": [],
   "source": [
    "# Problem 3 Given:\n",
    "rows = [ [\"Food Science\", \"24000\", \"0.049188446\", \"62000\"],\n",
    "         [\"CS\", \"783000\", \"0.049518657\", \"78000\"],\n",
    "         [\"Microbiology\", \"70000\", \"0.050880749\", \"60000\"],\n",
    "         [\"Math\", \"433000\", \"0.05293608\", \"66000\"] ]\n",
    "hd = [\"major\", \"students\", \"unemployed\", \"salary\"]\n"
   ]
  },
  {
   "cell_type": "code",
   "execution_count": 7,
   "metadata": {},
   "outputs": [
    {
     "name": "stdout",
     "output_type": "stream",
     "text": [
      "CS\n",
      "433000\n",
      "True\n",
      "2400070000\n"
     ]
    }
   ],
   "source": [
    "# Problem 3 answers\n",
    "print(rows[1][0])\n",
    "print(rows[3][hd.index(\"students\")])\n",
    "print(len(hd) == len(rows[1]))\n",
    "print(rows[0][1] + rows[2][1])"
   ]
  },
  {
   "cell_type": "code",
   "execution_count": null,
   "metadata": {},
   "outputs": [],
   "source": []
  },
  {
   "cell_type": "code",
   "execution_count": 8,
   "metadata": {},
   "outputs": [],
   "source": [
    "# Problem 4 Given:\n",
    "rows = [ [\"city\", \"state\", \"y14\", \"y15\"],\n",
    "         [\"Chicago\", \"Illinois\", \"411\", \"478\"],\n",
    "         [\"Milwaukee\", \"Wisconsin\", \"90\", \"145\"],\n",
    "         [\"Detroit\", \"Michigan\", \"298\", \"295\"] ]\n",
    "hd = rows[0]\n",
    "rows = rows[1:]  #this removes the header and stores the result in rows\n"
   ]
  },
  {
   "cell_type": "code",
   "execution_count": 9,
   "metadata": {},
   "outputs": [
    {
     "name": "stdout",
     "output_type": "stream",
     "text": [
      "Chicago\n",
      "411\n",
      "False\n",
      "Detroit, Michigan\n"
     ]
    }
   ],
   "source": [
    "# Problem 4 answers:\n",
    "print(rows[0][hd.index(\"city\")])\n",
    "print(rows[0][hd.index(\"y14\")])\n",
    "print(rows[2][hd.index(\"y14\")] < rows[2][hd.index(\"y15\")])\n",
    "print(\", \".join(rows[-1][:2]))"
   ]
  },
  {
   "cell_type": "code",
   "execution_count": null,
   "metadata": {},
   "outputs": [],
   "source": []
  },
  {
   "cell_type": "code",
   "execution_count": null,
   "metadata": {},
   "outputs": [],
   "source": [
    "# Problem 5 Given:\n"
   ]
  }
 ],
 "metadata": {
  "kernelspec": {
   "display_name": "Python 3",
   "language": "python",
   "name": "python3"
  },
  "language_info": {
   "codemirror_mode": {
    "name": "ipython",
    "version": 3
   },
   "file_extension": ".py",
   "mimetype": "text/x-python",
   "name": "python",
   "nbconvert_exporter": "python",
   "pygments_lexer": "ipython3",
   "version": "3.9.1"
  }
 },
 "nbformat": 4,
 "nbformat_minor": 4
}

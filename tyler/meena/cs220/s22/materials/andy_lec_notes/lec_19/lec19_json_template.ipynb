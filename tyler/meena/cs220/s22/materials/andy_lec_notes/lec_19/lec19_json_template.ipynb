{
 "cells": [
  {
   "cell_type": "code",
   "execution_count": 8,
   "metadata": {},
   "outputs": [],
   "source": [
    "import csv\n",
    "import json # today's topic!"
   ]
  },
  {
   "cell_type": "code",
   "execution_count": 9,
   "metadata": {},
   "outputs": [],
   "source": [
    "# Warmup 0: Recall how to read in the csv data\n",
    "\n",
    "# source:  Automate the Boring Stuff with Python\n",
    "def process_csv(filename):\n",
    "    exampleFile = open(filename, encoding=\"utf-8\")  \n",
    "    exampleReader = csv.reader(exampleFile) \n",
    "    exampleData = list(exampleReader)        \n",
    "    exampleFile.close()  \n",
    "    return exampleData\n",
    "\n",
    "survey_data = process_csv('cs220_survey_data.csv')\n",
    "header = None\n",
    "header"
   ]
  },
  {
   "cell_type": "code",
   "execution_count": 7,
   "metadata": {},
   "outputs": [],
   "source": [
    "# Warmup 1: Complete the cell function\n",
    "def cell(row_idx, col_name):\n",
    "    col_idx = None\n",
    "    val = None\n",
    "    if val == \"\":\n",
    "        return None\n",
    "    elif col_name in [\"Age\"]:  # used 'in' to allow for easy modification\n",
    "        return int(val)\n",
    "    else:\n",
    "        return val\n",
    "    \n",
    "cell(3, 'Pizza topping')"
   ]
  },
  {
   "cell_type": "code",
   "execution_count": 5,
   "metadata": {},
   "outputs": [
    {
     "ename": "NameError",
     "evalue": "name 'survey_data' is not defined",
     "output_type": "error",
     "traceback": [
      "\u001b[0;31m---------------------------------------------------------------------------\u001b[0m",
      "\u001b[0;31mNameError\u001b[0m                                 Traceback (most recent call last)",
      "\u001b[0;32m<ipython-input-5-5bd8c0d3ae8b>\u001b[0m in \u001b[0;36m<module>\u001b[0;34m\u001b[0m\n\u001b[1;32m      3\u001b[0m \u001b[0;31m# key is the lecture\u001b[0m\u001b[0;34m\u001b[0m\u001b[0;34m\u001b[0m\u001b[0;34m\u001b[0m\u001b[0m\n\u001b[1;32m      4\u001b[0m \u001b[0;34m\u001b[0m\u001b[0m\n\u001b[0;32m----> 5\u001b[0;31m \u001b[0mrows\u001b[0m \u001b[0;34m=\u001b[0m \u001b[0msurvey_data\u001b[0m\u001b[0;34m[\u001b[0m\u001b[0;36m1\u001b[0m\u001b[0;34m:\u001b[0m\u001b[0;34m]\u001b[0m\u001b[0;34m\u001b[0m\u001b[0;34m\u001b[0m\u001b[0m\n\u001b[0m\u001b[1;32m      6\u001b[0m \u001b[0;34m\u001b[0m\u001b[0m\n\u001b[1;32m      7\u001b[0m \u001b[0mlecture_dict\u001b[0m \u001b[0;34m=\u001b[0m \u001b[0;34m{\u001b[0m\u001b[0;34m}\u001b[0m\u001b[0;34m\u001b[0m\u001b[0;34m\u001b[0m\u001b[0m\n",
      "\u001b[0;31mNameError\u001b[0m: name 'survey_data' is not defined"
     ]
    }
   ],
   "source": [
    "# Warmup 2: put survey_data into buckets by lecture\n",
    "# make a dictionary of lists\n",
    "# key is the lecture\n",
    "\n",
    "rows = survey_data[1:]\n",
    "\n",
    "lecture_dict = {}\n",
    "for i in range(len(rows)):\n",
    "    lecture = cell(i, 'Lecture')\n",
    "    # what goes here? \n",
    "    \n",
    "    \n",
    "lecture_dict"
   ]
  },
  {
   "cell_type": "code",
   "execution_count": 4,
   "metadata": {},
   "outputs": [],
   "source": [
    "# Warmup 3:  In lecture_dict, print out the key and the type of the value\n"
   ]
  },
  {
   "cell_type": "code",
   "execution_count": 2,
   "metadata": {},
   "outputs": [
    {
     "ename": "NameError",
     "evalue": "name 'lecture_dict' is not defined",
     "output_type": "error",
     "traceback": [
      "\u001b[0;31m---------------------------------------------------------------------------\u001b[0m",
      "\u001b[0;31mNameError\u001b[0m                                 Traceback (most recent call last)",
      "\u001b[0;32m<ipython-input-2-6a2163994cb9>\u001b[0m in \u001b[0;36m<module>\u001b[0;34m\u001b[0m\n\u001b[1;32m      4\u001b[0m \u001b[0mlecture_name\u001b[0m \u001b[0;34m=\u001b[0m \u001b[0;34m\"LEC003\"\u001b[0m\u001b[0;34m\u001b[0m\u001b[0;34m\u001b[0m\u001b[0m\n\u001b[1;32m      5\u001b[0m \u001b[0mnum_people\u001b[0m \u001b[0;34m=\u001b[0m \u001b[0;36m0\u001b[0m\u001b[0;34m\u001b[0m\u001b[0;34m\u001b[0m\u001b[0m\n\u001b[0;32m----> 6\u001b[0;31m \u001b[0;32mfor\u001b[0m \u001b[0mrow\u001b[0m \u001b[0;32min\u001b[0m \u001b[0mlecture_dict\u001b[0m\u001b[0;34m[\u001b[0m\u001b[0mlecture_name\u001b[0m\u001b[0;34m]\u001b[0m\u001b[0;34m:\u001b[0m\u001b[0;34m\u001b[0m\u001b[0;34m\u001b[0m\u001b[0m\n\u001b[0m\u001b[1;32m      7\u001b[0m     \u001b[0;32mpass\u001b[0m\u001b[0;34m\u001b[0m\u001b[0;34m\u001b[0m\u001b[0m\n\u001b[1;32m      8\u001b[0m \u001b[0;34m\u001b[0m\u001b[0m\n",
      "\u001b[0;31mNameError\u001b[0m: name 'lecture_dict' is not defined"
     ]
    }
   ],
   "source": [
    "# Warmup 4: Find the average age for our lecture\n",
    "\n",
    "sum_of_ages = 0\n",
    "lecture_name = \"LEC003\"\n",
    "num_people = 0\n",
    "for row in lecture_dict[lecture_name]:\n",
    "    pass\n",
    "\n",
    "average = round(sum_of_ages/num_people, 3)\n",
    "print(lecture_name, average)\n"
   ]
  },
  {
   "cell_type": "code",
   "execution_count": null,
   "metadata": {},
   "outputs": [],
   "source": []
  },
  {
   "cell_type": "code",
   "execution_count": 42,
   "metadata": {},
   "outputs": [
    {
     "name": "stdout",
     "output_type": "stream",
     "text": [
      "LEC001 19.932\n",
      "LEC002 19.867\n",
      "LEC003 19.356\n",
      "LEC004 19.407\n",
      "LEC005 19.958\n"
     ]
    },
    {
     "data": {
      "text/plain": [
       "{'LEC001': 19.932,\n",
       " 'LEC002': 19.867,\n",
       " 'LEC003': 19.356,\n",
       " 'LEC004': 19.407,\n",
       " 'LEC005': 19.958}"
      ]
     },
     "execution_count": 42,
     "metadata": {},
     "output_type": "execute_result"
    }
   ],
   "source": [
    "# Warmup 5: Make a dictionary of each lecture's average age\n",
    "# the key is the lecture name\n",
    "# the value is the average age\n",
    "\n",
    "# tabbing the copied code\n",
    "# first just print out all the results,\n",
    "# then add to a dictionary\n",
    "lec_age_dict = {}\n",
    "for key in lecture_dict:\n",
    "    print(key)\n",
    "    # put code from above here\n",
    "    \n",
    "\n",
    "    \n",
    "    \n",
    "lec_age_dict"
   ]
  },
  {
   "cell_type": "code",
   "execution_count": null,
   "metadata": {},
   "outputs": [],
   "source": []
  },
  {
   "cell_type": "code",
   "execution_count": null,
   "metadata": {},
   "outputs": [],
   "source": []
  },
  {
   "cell_type": "code",
   "execution_count": null,
   "metadata": {},
   "outputs": [],
   "source": []
  },
  {
   "cell_type": "markdown",
   "metadata": {},
   "source": [
    "## March 11:  JSON Files\n",
    "Learning Objectives:\n",
    "- Interpret JSON formatted data and recognize differences between JSON and Python\n",
    "- Deserialize data from JSON for use in Python programs (read)\n",
    "- Serialize data into JSON for long term storage (write) "
   ]
  },
  {
   "cell_type": "code",
   "execution_count": null,
   "metadata": {},
   "outputs": [],
   "source": [
    "# We will be looking at lecture slides to understand JSON"
   ]
  },
  {
   "cell_type": "code",
   "execution_count": 24,
   "metadata": {},
   "outputs": [],
   "source": [
    "\n",
    "# Deserialize\n",
    "def read_json(path):\n",
    "    with open(path, encoding=\"utf-8\") as f: # f is a varaible \n",
    "        return json.load(f)                 # f represents a reference the JSON file\n",
    "    \n",
    "    \n",
    "# Serialize\n",
    "def write_json(path, data):\n",
    "    with open(path, 'w', encoding=\"utf-8\") as f:\n",
    "        json.dump(data, f, indent=2)"
   ]
  },
  {
   "cell_type": "code",
   "execution_count": null,
   "metadata": {},
   "outputs": [],
   "source": [
    "# first, let's take a look at the file score_history.json"
   ]
  },
  {
   "cell_type": "code",
   "execution_count": 27,
   "metadata": {},
   "outputs": [
    {
     "name": "stdout",
     "output_type": "stream",
     "text": [
      "<class 'dict'>\n",
      "dict_keys(['bob', 'alice', 'meena'])\n",
      "[20.0, 10.0]\n",
      "{'bob': [20.0, 10.0], 'alice': [30.0, 20.0], 'meena': [100.0, 10.0]}\n",
      "{'bob': [20.0, 10.0], 'alice': [30.0, 20.0], 'meena': [100.0, 10.0], 'andy': [17.0, 84.0]}\n"
     ]
    }
   ],
   "source": [
    "# now let's read it in and investigate the data\n",
    "scores_dict = read_json('score_history.json')\n",
    "#print(type(scores_dict))\n",
    "#print(scores_dict.keys())\n",
    "#print(scores_dict['bob'])\n",
    "#print(scores_dict)\n",
    "\n",
    "#scores_dict['andy'] = [17.0, 84.0]\n",
    "#print(scores_dict)"
   ]
  },
  {
   "cell_type": "code",
   "execution_count": 54,
   "metadata": {},
   "outputs": [],
   "source": [
    "# Let's practice writing to a JSON file\n",
    "# when I'm testing code, I like to name my output file differently from my input file\n",
    "# so that I don't accidentally erase or overwrite my data\n",
    "write_json('score_history2.json', scores_dict)  "
   ]
  },
  {
   "cell_type": "markdown",
   "metadata": {},
   "source": [
    "### We can make JSON files in many varied ways\n",
    "### This makes a list of dictionaries"
   ]
  },
  {
   "cell_type": "code",
   "execution_count": 10,
   "metadata": {},
   "outputs": [
    {
     "ename": "NameError",
     "evalue": "name 'rows' is not defined",
     "output_type": "error",
     "traceback": [
      "\u001b[0;31m---------------------------------------------------------------------------\u001b[0m",
      "\u001b[0;31mNameError\u001b[0m                                 Traceback (most recent call last)",
      "\u001b[0;32m<ipython-input-10-ebdc3b3869b4>\u001b[0m in \u001b[0;36m<module>\u001b[0;34m\u001b[0m\n\u001b[1;32m      2\u001b[0m \u001b[0;31m# reads in the survey data into a list of dicts\u001b[0m\u001b[0;34m\u001b[0m\u001b[0;34m\u001b[0m\u001b[0;34m\u001b[0m\u001b[0m\n\u001b[1;32m      3\u001b[0m \u001b[0mtable_dict_list\u001b[0m \u001b[0;34m=\u001b[0m \u001b[0;34m[\u001b[0m\u001b[0;34m]\u001b[0m\u001b[0;34m\u001b[0m\u001b[0;34m\u001b[0m\u001b[0m\n\u001b[0;32m----> 4\u001b[0;31m \u001b[0;32mfor\u001b[0m \u001b[0mi\u001b[0m \u001b[0;32min\u001b[0m \u001b[0mrange\u001b[0m\u001b[0;34m(\u001b[0m\u001b[0mlen\u001b[0m\u001b[0;34m(\u001b[0m\u001b[0mrows\u001b[0m\u001b[0;34m)\u001b[0m\u001b[0;34m)\u001b[0m\u001b[0;34m:\u001b[0m\u001b[0;34m\u001b[0m\u001b[0;34m\u001b[0m\u001b[0m\n\u001b[0m\u001b[1;32m      5\u001b[0m     \u001b[0mrow\u001b[0m \u001b[0;34m=\u001b[0m \u001b[0mrows\u001b[0m\u001b[0;34m[\u001b[0m\u001b[0mi\u001b[0m\u001b[0;34m]\u001b[0m\u001b[0;34m\u001b[0m\u001b[0;34m\u001b[0m\u001b[0m\n\u001b[1;32m      6\u001b[0m     \u001b[0mrow_dict\u001b[0m \u001b[0;34m=\u001b[0m \u001b[0;34m{\u001b[0m\u001b[0;34m}\u001b[0m\u001b[0;34m\u001b[0m\u001b[0;34m\u001b[0m\u001b[0m\n",
      "\u001b[0;31mNameError\u001b[0m: name 'rows' is not defined"
     ]
    }
   ],
   "source": [
    "# Code from last lecture, \n",
    "# reads in the survey data into a list of dicts\n",
    "table_dict_list = []\n",
    "for i in range(len(rows)):\n",
    "    row = rows[i]\n",
    "    row_dict = {}\n",
    "    for item in header: # iterate through each column name\n",
    "        row_dict[item] = row[header.index(item)] # find the value in the row using .index\n",
    "    print(row_dict)\n",
    "    \n",
    "    # add row_dict to table_dict_list\n",
    "    \n",
    "    \n",
    "table_dict_list # what is this? A ______ of _________"
   ]
  },
  {
   "cell_type": "code",
   "execution_count": 29,
   "metadata": {},
   "outputs": [],
   "source": [
    "# Let's write this list of dictionaries into a JSON file\n",
    "write_json('cs220_as_json_list.json', table_dict_list)  "
   ]
  },
  {
   "cell_type": "code",
   "execution_count": 30,
   "metadata": {},
   "outputs": [],
   "source": [
    "# Verify:  can you find this file in your directory? "
   ]
  },
  {
   "cell_type": "code",
   "execution_count": 31,
   "metadata": {},
   "outputs": [],
   "source": [
    "# let's write our original dictionary of lists - buckets into a JSON file\n",
    "write_json('cs220_as_json_dict.json', lecture_dict)  "
   ]
  },
  {
   "cell_type": "code",
   "execution_count": 58,
   "metadata": {},
   "outputs": [],
   "source": [
    "# Verify: can you find this file in your directory? "
   ]
  },
  {
   "cell_type": "markdown",
   "metadata": {},
   "source": [
    "### Many Web Sites have APIs that allow you to get their data\n",
    "### Kiva.com Micro-lending site\n"
   ]
  },
  {
   "cell_type": "code",
   "execution_count": 12,
   "metadata": {},
   "outputs": [
    {
     "ename": "NameError",
     "evalue": "name 'read_json' is not defined",
     "output_type": "error",
     "traceback": [
      "\u001b[0;31m---------------------------------------------------------------------------\u001b[0m",
      "\u001b[0;31mNameError\u001b[0m                                 Traceback (most recent call last)",
      "\u001b[0;32m<ipython-input-12-2f403470e659>\u001b[0m in \u001b[0;36m<module>\u001b[0;34m\u001b[0m\n\u001b[1;32m      2\u001b[0m \u001b[0;34m\u001b[0m\u001b[0m\n\u001b[1;32m      3\u001b[0m \u001b[0;31m# read it into a dictionary\u001b[0m\u001b[0;34m\u001b[0m\u001b[0;34m\u001b[0m\u001b[0;34m\u001b[0m\u001b[0m\n\u001b[0;32m----> 4\u001b[0;31m \u001b[0mkiva_dict\u001b[0m \u001b[0;34m=\u001b[0m \u001b[0mread_json\u001b[0m\u001b[0;34m(\u001b[0m\u001b[0;34m'kiva.json'\u001b[0m\u001b[0;34m)\u001b[0m\u001b[0;34m\u001b[0m\u001b[0;34m\u001b[0m\u001b[0m\n\u001b[0m\u001b[1;32m      5\u001b[0m \u001b[0mkiva_dict\u001b[0m\u001b[0;34m\u001b[0m\u001b[0;34m\u001b[0m\u001b[0m\n",
      "\u001b[0;31mNameError\u001b[0m: name 'read_json' is not defined"
     ]
    }
   ],
   "source": [
    "# Take a look at kiva.json\n",
    "\n",
    "# read it into a dictionary\n",
    "kiva_dict = read_json('kiva.json')\n",
    "kiva_dict"
   ]
  },
  {
   "cell_type": "code",
   "execution_count": 11,
   "metadata": {},
   "outputs": [
    {
     "ename": "NameError",
     "evalue": "name 'kiva_dict' is not defined",
     "output_type": "error",
     "traceback": [
      "\u001b[0;31m---------------------------------------------------------------------------\u001b[0m",
      "\u001b[0;31mNameError\u001b[0m                                 Traceback (most recent call last)",
      "\u001b[0;32m<ipython-input-11-07e7d0c7ba46>\u001b[0m in \u001b[0;36m<module>\u001b[0;34m\u001b[0m\n\u001b[1;32m      1\u001b[0m \u001b[0;31m# Plumbing the data\u001b[0m\u001b[0;34m\u001b[0m\u001b[0;34m\u001b[0m\u001b[0;34m\u001b[0m\u001b[0m\n\u001b[0;32m----> 2\u001b[0;31m \u001b[0mkiva_dict\u001b[0m\u001b[0;34m[\u001b[0m\u001b[0;34m'data'\u001b[0m\u001b[0;34m]\u001b[0m \u001b[0;31m# this gives us a list of dicts\u001b[0m\u001b[0;34m\u001b[0m\u001b[0;34m\u001b[0m\u001b[0m\n\u001b[0m\u001b[1;32m      3\u001b[0m \u001b[0mloan_list\u001b[0m \u001b[0;34m=\u001b[0m \u001b[0;32mNone\u001b[0m\u001b[0;34m\u001b[0m\u001b[0;34m\u001b[0m\u001b[0m\n\u001b[1;32m      4\u001b[0m \u001b[0mloan_list\u001b[0m\u001b[0;34m\u001b[0m\u001b[0;34m\u001b[0m\u001b[0m\n",
      "\u001b[0;31mNameError\u001b[0m: name 'kiva_dict' is not defined"
     ]
    }
   ],
   "source": [
    "# Plumbing the data\n",
    "kiva_dict['data'] # this gives us a list of dicts\n",
    "loan_list = None\n",
    "loan_list"
   ]
  },
  {
   "cell_type": "code",
   "execution_count": 50,
   "metadata": {},
   "outputs": [
    {
     "name": "stdout",
     "output_type": "stream",
     "text": [
      "<class 'dict'>\n",
      "name\n",
      "description\n",
      "loanAmount\n",
      "geocode\n",
      "<class 'dict'>\n",
      "name\n",
      "description\n",
      "loanAmount\n",
      "geocode\n",
      "<class 'dict'>\n",
      "name\n",
      "description\n",
      "loanAmount\n",
      "geocode\n",
      "<class 'dict'>\n",
      "name\n",
      "description\n",
      "loanAmount\n",
      "geocode\n",
      "<class 'dict'>\n",
      "name\n",
      "description\n",
      "loanAmount\n",
      "geocode\n"
     ]
    }
   ],
   "source": [
    "# what can we learn from this data?\n",
    "for loan_dict in loan_list:\n",
    "    print(type(loan))\n",
    "    for key in loan_dict:\n",
    "        print(key)"
   ]
  },
  {
   "cell_type": "code",
   "execution_count": 13,
   "metadata": {},
   "outputs": [
    {
     "ename": "NameError",
     "evalue": "name 'loan_list' is not defined",
     "output_type": "error",
     "traceback": [
      "\u001b[0;31m---------------------------------------------------------------------------\u001b[0m",
      "\u001b[0;31mNameError\u001b[0m                                 Traceback (most recent call last)",
      "\u001b[0;32m<ipython-input-13-086b83d4d2f9>\u001b[0m in \u001b[0;36m<module>\u001b[0;34m\u001b[0m\n\u001b[1;32m      1\u001b[0m \u001b[0;31m# print out all the names\u001b[0m\u001b[0;34m\u001b[0m\u001b[0;34m\u001b[0m\u001b[0;34m\u001b[0m\u001b[0m\n\u001b[0;32m----> 2\u001b[0;31m \u001b[0;32mfor\u001b[0m \u001b[0mloan_dict\u001b[0m \u001b[0;32min\u001b[0m \u001b[0mloan_list\u001b[0m\u001b[0;34m:\u001b[0m\u001b[0;34m\u001b[0m\u001b[0;34m\u001b[0m\u001b[0m\n\u001b[0m\u001b[1;32m      3\u001b[0m     \u001b[0mprint\u001b[0m\u001b[0;34m(\u001b[0m\u001b[0mloan_dict\u001b[0m\u001b[0;34m)\u001b[0m\u001b[0;34m\u001b[0m\u001b[0;34m\u001b[0m\u001b[0m\n",
      "\u001b[0;31mNameError\u001b[0m: name 'loan_list' is not defined"
     ]
    }
   ],
   "source": [
    "# print out all the names\n",
    "for loan_dict in loan_list:\n",
    "    print(loan_dict)\n"
   ]
  },
  {
   "cell_type": "code",
   "execution_count": 58,
   "metadata": {},
   "outputs": [
    {
     "name": "stdout",
     "output_type": "stream",
     "text": [
      "{'name': 'Albania', 'region': 'Eastern Europe', 'fundsLentInCountry': 9051250}\n",
      "{'name': 'Tajikistan', 'region': 'Asia', 'fundsLentInCountry': 64243075}\n",
      "{'name': 'Kenya', 'region': 'Africa', 'fundsLentInCountry': 120841775}\n",
      "{'name': 'Kenya', 'region': 'Africa', 'fundsLentInCountry': 120841775}\n",
      "{'name': 'Togo', 'region': 'Africa', 'fundsLentInCountry': 13719125}\n"
     ]
    }
   ],
   "source": [
    "# print out all the country names\n",
    "for loan_dict in loan_list:\n",
    "    print(loan_dict)"
   ]
  },
  {
   "cell_type": "code",
   "execution_count": 4,
   "metadata": {},
   "outputs": [],
   "source": [
    "# go to the kiva.com site and experiement with their API\n",
    "# https://www.kiva.org/build"
   ]
  },
  {
   "cell_type": "markdown",
   "metadata": {},
   "source": [
    "## After Lecture: Worksheet"
   ]
  },
  {
   "cell_type": "code",
   "execution_count": null,
   "metadata": {},
   "outputs": [],
   "source": []
  }
 ],
 "metadata": {
  "kernelspec": {
   "display_name": "Python 3",
   "language": "python",
   "name": "python3"
  },
  "language_info": {
   "codemirror_mode": {
    "name": "ipython",
    "version": 3
   },
   "file_extension": ".py",
   "mimetype": "text/x-python",
   "name": "python",
   "nbconvert_exporter": "python",
   "pygments_lexer": "ipython3",
   "version": "3.9.1"
  }
 },
 "nbformat": 4,
 "nbformat_minor": 4
}

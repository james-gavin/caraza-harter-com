{
 "cells": [
  {
   "cell_type": "code",
   "execution_count": 1,
   "metadata": {},
   "outputs": [
    {
     "name": "stdout",
     "output_type": "stream",
     "text": [
      "True\n",
      "True\n"
     ]
    }
   ],
   "source": [
    "# Warmup 1a:  Use 'in' to determine if the given thing is in my_list\n",
    "my_list = [\"meet\", \"me\",  \"after\", 84]\n",
    "\n",
    "# is \"me\" in the list? \n",
    "print(\"me\" in my_list)\n",
    "\n",
    "#\n",
    "print(84 in my_list)"
   ]
  },
  {
   "cell_type": "code",
   "execution_count": 2,
   "metadata": {},
   "outputs": [
    {
     "name": "stdout",
     "output_type": "stream",
     "text": [
      "False\n",
      "False\n"
     ]
    }
   ],
   "source": [
    "# Warmup 1b: what about this list? \n",
    "my_list = [11, \"meet\", [\"me\", \"them\", \"us\"],  [84,19, 22], \"school\", 2.54]\n",
    "print(\"me\" in my_list)\n",
    "print(84 in my_list)"
   ]
  },
  {
   "cell_type": "code",
   "execution_count": 3,
   "metadata": {},
   "outputs": [
    {
     "name": "stdout",
     "output_type": "stream",
     "text": [
      "True\n",
      "True\n",
      "False\n"
     ]
    }
   ],
   "source": [
    "# Warmup 2a: Write a function to find a thing in a list that may have lists in it\n",
    "\n",
    "def search_list_depth2(target, some_list):\n",
    "    ''' returns True if thing in some_list, False otherwise'''\n",
    "    for thing in some_list:\n",
    "        #print(thing, type(thing))\n",
    "        if type(thing) != list:\n",
    "            if target == thing:\n",
    "                return True\n",
    "            else:\n",
    "                continue # do we need this?\n",
    "        else: # its a list\n",
    "            if target in thing:\n",
    "                return True\n",
    "            else:\n",
    "                continue # do we need this?\n",
    "                \n",
    "    return False  # after all possible searching....not found\n",
    "                \n",
    "print(search_list_depth2(\"school\", my_list))  # in list\n",
    "print(search_list_depth2(22, my_list))        # in nested list\n",
    "print(search_list_depth2(\"house\", my_list))   # not anywhere\n"
   ]
  },
  {
   "cell_type": "code",
   "execution_count": 7,
   "metadata": {},
   "outputs": [
    {
     "name": "stdout",
     "output_type": "stream",
     "text": [
      "True\n",
      "False\n",
      "True\n",
      "False\n"
     ]
    }
   ],
   "source": [
    "# Warmup 2b: Will our function work on this list?  Guess:\n",
    "list_3_deep = [22, [33, 44, [55, 66], 77 ], 88]\n",
    "\n",
    "# let's try it our previous function\n",
    "print(search_list_depth2(22, list_3_deep))  # in list\n",
    "print(search_list_depth2(99, list_3_deep))  # not in list\n",
    "\n",
    "# write other tests to be sure that it works\n",
    "print(search_list_depth2(33, list_3_deep))  # in nested list\n",
    "print(search_list_depth2(55, list_3_deep))  # in nested nested list"
   ]
  },
  {
   "cell_type": "code",
   "execution_count": 55,
   "metadata": {},
   "outputs": [
    {
     "data": {
      "text/plain": [
       "True"
      ]
     },
     "execution_count": 55,
     "metadata": {},
     "output_type": "execute_result"
    }
   ],
   "source": [
    "def search_list_depth_any(target, some_list):\n",
    "    ''' returns True if thing in some_list, False otherwise'''\n",
    "\n",
    "    return False\n",
    "\n",
    "search_list_depth3(55, list_3_deep)"
   ]
  },
  {
   "cell_type": "code",
   "execution_count": null,
   "metadata": {},
   "outputs": [],
   "source": [
    "# what about ANY depth list? \n",
    "# that is the goal of today's lecture"
   ]
  },
  {
   "cell_type": "markdown",
   "metadata": {},
   "source": [
    "### Lecture 22: Recursion\n",
    "\n",
    "After today's Lecture you will be able to: \n",
    "\n",
    "Define recursion and be able to identify\n",
    "- the base case\n",
    "- the recursive case\n",
    "- infinite recursion\n",
    "\n",
    "Explain why the following can be recursively defined\n",
    "- lists\n",
    "- dictionaries\n",
    "\n",
    "Trace a recursive function\n",
    "- involving numeric computation\n",
    "- involving nested data structures\n"
   ]
  },
  {
   "cell_type": "markdown",
   "metadata": {},
   "source": [
    "### Recursion is defined as the process of defining something in terms of itself \n",
    "https://www.amazon.com/Programmer-Recursion-Definition-Coding-T-Shirt/dp/B07X4PNVCJ/ref=sr_1_7?dchild=1&keywords=recursion+t-shirt&qid=1615923295&sr=8-7\n"
   ]
  },
  {
   "cell_type": "markdown",
   "metadata": {},
   "source": [
    "### Define recursion and be able to identify \n",
    "- the base case\n",
    "- the recursive case\n",
    "- infinite recursion"
   ]
  },
  {
   "cell_type": "code",
   "execution_count": 6,
   "metadata": {},
   "outputs": [],
   "source": [
    "# In math, you can define the Factorial of a number in terms of the number before it. \n",
    "# Q:  What is the exact value of 84!\n",
    "# A:  \n",
    "\n"
   ]
  },
  {
   "cell_type": "markdown",
   "metadata": {},
   "source": [
    "### A recursive algorithm must have 2 parts:\n",
    "- the base case....which stops the recursion\n",
    "- the recursive case...which defines the same process in a smaller way\n",
    "\n",
    "### If there is no base case what happens in the above example? \n",
    "- recursion never ends......infinite recursion\n",
    "\n",
    "### infinite recursion can also happen if the recursive case does not move towards the base"
   ]
  },
  {
   "cell_type": "code",
   "execution_count": null,
   "metadata": {},
   "outputs": [],
   "source": []
  },
  {
   "cell_type": "markdown",
   "metadata": {},
   "source": [
    "### Trace a recursive function involving numeric computation"
   ]
  },
  {
   "cell_type": "code",
   "execution_count": 10,
   "metadata": {},
   "outputs": [
    {
     "name": "stdout",
     "output_type": "stream",
     "text": [
      "Starting foo with n=  13\n",
      "Starting foo with n=  11\n",
      "Starting foo with n=  9\n",
      "Starting foo with n=  7\n",
      "Starting foo with n=  5\n",
      "Starting foo with n=  3\n",
      "Starting foo with n=  1\n",
      "Starting foo with n=  -1\n",
      "base case, returning 100\n",
      "Ending foo returning  101\n",
      "Ending foo returning  104\n",
      "Ending foo returning  109\n",
      "Ending foo returning  116\n",
      "Ending foo returning  125\n",
      "Ending foo returning  136\n",
      "Ending foo returning  149\n"
     ]
    },
    {
     "data": {
      "text/plain": [
       "149"
      ]
     },
     "execution_count": 10,
     "metadata": {},
     "output_type": "execute_result"
    }
   ],
   "source": [
    "# Tracing a recursive function in the Python Tutor\n",
    "# do this on your own\n",
    "# example 1\n",
    "\n",
    "def foo(n):\n",
    "    # I always start recursive functions by printing the parameters\n",
    "    print(\"Starting foo with n= \" , n)\n",
    "    if n < 0:\n",
    "        print(\"base case, returning 100\")\n",
    "        return 100\n",
    "    else:\n",
    "        temp = foo(n-2)\n",
    "        print(\"Ending foo returning \" ,  (n + temp))\n",
    "        return n + temp\n",
    "\n",
    "foo(13)\n",
    "\n",
    "# What happens if we replace < with == ? "
   ]
  },
  {
   "cell_type": "code",
   "execution_count": 11,
   "metadata": {},
   "outputs": [
    {
     "name": "stdout",
     "output_type": "stream",
     "text": [
      "in collatz with n =  13\n",
      "in collatz with n =  40\n",
      "in collatz with n =  20\n",
      "in collatz with n =  10\n",
      "in collatz with n =  5\n",
      "in collatz with n =  16\n",
      "in collatz with n =  8\n",
      "in collatz with n =  4\n",
      "in collatz with n =  2\n",
      "in collatz with n =  1\n"
     ]
    },
    {
     "data": {
      "text/plain": [
       "1"
      ]
     },
     "execution_count": 11,
     "metadata": {},
     "output_type": "execute_result"
    }
   ],
   "source": [
    "# example 2...the Collatz Conjecture problem \n",
    "# https://en.wikipedia.org/wiki/Collatz_conjecture\n",
    "# run this in Python Tutor on your ownn\n",
    "\n",
    "def collatz(n):\n",
    "    # I always start recursive functions by printing the parameters\n",
    "    print(\"in collatz with n = \" ,  n)\n",
    "    if n == 1:\n",
    "        return 1 # base case\n",
    "    elif n % 2 == 0:\n",
    "        return collatz(n//2)\n",
    "    else:\n",
    "        return collatz (3*n+1)\n",
    "\n",
    "collatz(13)   # try other numbers\n"
   ]
  },
  {
   "cell_type": "code",
   "execution_count": null,
   "metadata": {},
   "outputs": [],
   "source": [
    "# Show lecture slides....."
   ]
  },
  {
   "cell_type": "code",
   "execution_count": 58,
   "metadata": {},
   "outputs": [
    {
     "data": {
      "text/plain": [
       "16807"
      ]
     },
     "execution_count": 58,
     "metadata": {},
     "output_type": "execute_result"
    }
   ],
   "source": []
  },
  {
   "cell_type": "markdown",
   "metadata": {},
   "source": [
    "### 22.3 Trace a recursive function involving nested data structures"
   ]
  },
  {
   "cell_type": "code",
   "execution_count": 8,
   "metadata": {},
   "outputs": [
    {
     "name": "stdout",
     "output_type": "stream",
     "text": [
      "True\n",
      "False\n"
     ]
    }
   ],
   "source": [
    "# example 4\n",
    "\n",
    "fav_stuff = [  \"road bike\",\n",
    "    [\"PB&J\", \"brownies\", \"spaghetti\", \"apples\"] , \n",
    "             (\"Brooks Ghost 13\", \"hoodie\", \"gloves\"), \n",
    "             \"macbook air\", \n",
    "             [ \"Johndee.com\", \"https://www.weather.gov/mkx/\"],\n",
    "             [\"A\", \"K\", (\"S\", \"D\", \"K\")]\n",
    "            ]\n",
    "        \n",
    "print (\"road bike\" in fav_stuff)\n",
    "print ( \"brownies\" in fav_stuff)  # Why is this happening? "
   ]
  },
  {
   "cell_type": "code",
   "execution_count": 10,
   "metadata": {},
   "outputs": [
    {
     "name": "stdout",
     "output_type": "stream",
     "text": [
      "True\n",
      "True\n",
      "True\n",
      "True\n",
      "False\n"
     ]
    }
   ],
   "source": [
    "# Write a recursive function to search *ANY* list of lists/tuples for a given word\n",
    "# Write a recursive function to search *ANY* list of lists/tuples for a given word\n",
    "## we did this already get the code and paste it here\n",
    "def search_list_recursive(target, some_list):\n",
    "    ''' returns True if target in some_list, False otherwise'''\n",
    "    for thing in some_list:\n",
    "        #print(thing, type(thing))\n",
    "        if type(thing) != list and type(thing) != tuple:\n",
    "            if target == thing:\n",
    "                return True\n",
    "        else: # is a list or a tuple\n",
    "            if search_list_depth(target, thing):\n",
    "                return True\n",
    "    return False\n",
    "\n",
    "print(search_list_recursive(\"apples\", fav_stuff))  # \n",
    "print(search_list_recursive(\"D\", fav_stuff))        # i\n",
    "print(search_list_recursive(\"road bike\", fav_stuff))   # n\n",
    "print(search_list_recursive(\"road bike\", fav_stuff))   # n\n",
    "print(search_list_recursive(\"pizza\", fav_stuff))   # n\n"
   ]
  },
  {
   "cell_type": "code",
   "execution_count": null,
   "metadata": {},
   "outputs": [],
   "source": []
  },
  {
   "cell_type": "code",
   "execution_count": 11,
   "metadata": {},
   "outputs": [
    {
     "name": "stdout",
     "output_type": "stream",
     "text": [
      "road bike\n",
      "<class 'list'>\n",
      "   PB&J\n",
      "   brownies\n",
      "   spaghetti\n",
      "   apples\n",
      "<class 'tuple'>\n",
      "   Brooks Ghost 13\n",
      "   hoodie\n",
      "   gloves\n",
      "macbook air\n",
      "<class 'list'>\n",
      "   Johndee.com\n",
      "   https://www.weather.gov/mkx/\n",
      "<class 'list'>\n",
      "   A\n",
      "   K\n",
      "   <class 'tuple'>\n",
      "      S\n",
      "      D\n",
      "      K\n"
     ]
    }
   ],
   "source": [
    "# write a function that prints nested lists with indenting\n",
    "# \n",
    "def print_with_indenting(directory, indent):\n",
    "    for thing in directory:\n",
    "        if type(thing) == list or type(thing) == tuple:\n",
    "            print(\"   \" * indent + str(type(thing)))\n",
    "            print_with_indenting(thing, indent + 1)\n",
    "        else:\n",
    "            print(\"   \" * indent + str(thing))\n",
    "        \n",
    "print_with_indenting(fav_stuff, 0)"
   ]
  },
  {
   "cell_type": "code",
   "execution_count": null,
   "metadata": {},
   "outputs": [],
   "source": [
    "# call the above function on a directory type lists of lists"
   ]
  },
  {
   "cell_type": "markdown",
   "metadata": {},
   "source": [
    "### 22.2 Explain why the following can be recursively defined\n",
    "\n",
    "- lists\n",
    "- dictionaries\n",
    "- JSON objects"
   ]
  },
  {
   "cell_type": "markdown",
   "metadata": {},
   "source": [
    "### dictionaries can have a recursive structure"
   ]
  },
  {
   "cell_type": "code",
   "execution_count": 12,
   "metadata": {},
   "outputs": [],
   "source": [
    "person_info = { \"name\": \"Andy\", \n",
    "               \"age\": 17, \n",
    "               \"family\" : {\"spouse\": \"Kathleen\", \n",
    "                           \"child1\": {\"name\": \"Sam\", \n",
    "                                        \"age\": 16,  \"sport\": \"soccer\"}, \n",
    "                           \"child2\": {\"name\":\"Stevie\", \n",
    "                                      \"age\": 14, \"sport\": \"fishing\"}\n",
    "                          }\n",
    "              }"
   ]
  },
  {
   "cell_type": "code",
   "execution_count": 29,
   "metadata": {},
   "outputs": [
    {
     "name": "stdout",
     "output_type": "stream",
     "text": [
      "some_dict = {'name': 'Andy', 'age': 17, 'family': {'spouse': 'Kathleen', 'child1': {'name': 'Sam', 'age': 16, 'sport': 'soccer'}, 'child2': {'name': 'Stevie', 'age': 14, 'sport': 'fishing'}}}\n",
      "some_dict = {'spouse': 'Kathleen', 'child1': {'name': 'Sam', 'age': 16, 'sport': 'soccer'}, 'child2': {'name': 'Stevie', 'age': 14, 'sport': 'fishing'}}\n",
      "some_dict = {'name': 'Sam', 'age': 16, 'sport': 'soccer'}\n"
     ]
    },
    {
     "data": {
      "text/plain": [
       "'soccer'"
      ]
     },
     "execution_count": 29,
     "metadata": {},
     "output_type": "execute_result"
    }
   ],
   "source": [
    "# let's try to search through a deep dictionary. \n",
    "def search_dict_recursive(target_key, some_dict):\n",
    "    ''' returns the Value associated with target_key if tarket_key in any level of some_dict, \n",
    "    None otherwise'''\n",
    "    print(\"some_dict =\", some_dict)\n",
    "    if target_key in some_dict:  # base case\n",
    "        return some_dict[target_key]\n",
    "    else:\n",
    "        for key in some_dict:\n",
    "            if type(some_dict[key]) == dict: # recursive case\n",
    "                 return search_dict_recursive(target_key, some_dict[key])        \n",
    "    return None\n",
    "\n",
    "search_dict_recursive(\"sport\", person_info)"
   ]
  },
  {
   "cell_type": "code",
   "execution_count": null,
   "metadata": {},
   "outputs": [],
   "source": []
  },
  {
   "cell_type": "code",
   "execution_count": null,
   "metadata": {},
   "outputs": [],
   "source": []
  },
  {
   "cell_type": "code",
   "execution_count": null,
   "metadata": {},
   "outputs": [],
   "source": []
  },
  {
   "cell_type": "code",
   "execution_count": null,
   "metadata": {},
   "outputs": [],
   "source": []
  },
  {
   "cell_type": "code",
   "execution_count": 60,
   "metadata": {},
   "outputs": [
    {
     "data": {
      "text/plain": [
       "16807"
      ]
     },
     "execution_count": 60,
     "metadata": {},
     "output_type": "execute_result"
    }
   ],
   "source": [
    "# Extra practice...can you predict the outcome?\n",
    "# run this on your own in Python Tutor\n",
    "\n",
    "def mystery(a, b): \n",
    "# precondition: a > 0 and b > 0\n",
    "    if b == 1: \n",
    "        return a;\n",
    "    return a * mystery( a, b - 1 )\n",
    "\n",
    "# make a function call here\n",
    "mystery(7, 5)"
   ]
  },
  {
   "cell_type": "code",
   "execution_count": null,
   "metadata": {},
   "outputs": [],
   "source": []
  },
  {
   "cell_type": "markdown",
   "metadata": {},
   "source": [
    "### These three things are only for fun ...not part of CS 220\n",
    "\n",
    "Fractal Snowflake....can you find the base case? \n",
    "\n",
    "https://repl.it/@kuemmela/csp12-03-snowflake#main.py\n",
    "\n",
    "\n",
    "Recursive Flood Fill\n",
    "\n",
    "https://repl.it/@kuemmela/csp12-floodfill#main.py\n"
   ]
  },
  {
   "cell_type": "code",
   "execution_count": null,
   "metadata": {},
   "outputs": [],
   "source": []
  }
 ],
 "metadata": {
  "kernelspec": {
   "display_name": "Python 3",
   "language": "python",
   "name": "python3"
  },
  "language_info": {
   "codemirror_mode": {
    "name": "ipython",
    "version": 3
   },
   "file_extension": ".py",
   "mimetype": "text/x-python",
   "name": "python",
   "nbconvert_exporter": "python",
   "pygments_lexer": "ipython3",
   "version": "3.9.1"
  }
 },
 "nbformat": 4,
 "nbformat_minor": 4
}

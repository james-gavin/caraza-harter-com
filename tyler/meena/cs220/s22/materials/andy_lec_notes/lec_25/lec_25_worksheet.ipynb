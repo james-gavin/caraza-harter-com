{
 "cells": [
  {
   "cell_type": "code",
   "execution_count": 1,
   "metadata": {},
   "outputs": [
    {
     "name": "stdout",
     "output_type": "stream",
     "text": [
      "in pow2 with n= 3\n",
      "in pow2 with n= 2\n",
      "in pow2 with n= 1\n",
      "in pow2 with n= 0\n",
      "8\n"
     ]
    }
   ],
   "source": [
    "#Q1\n",
    "def pow2(n):\n",
    "    print('in pow2 with n=', n)\n",
    "    if n == 0:\n",
    "        return 1\n",
    "    else:\n",
    "        return 2 * pow2(n-1)\n",
    "print(pow2(3))"
   ]
  },
  {
   "cell_type": "code",
   "execution_count": 2,
   "metadata": {},
   "outputs": [],
   "source": [
    "#Q2 this content is no longer part of the course"
   ]
  },
  {
   "cell_type": "code",
   "execution_count": 3,
   "metadata": {},
   "outputs": [
    {
     "name": "stdout",
     "output_type": "stream",
     "text": [
      "5\n"
     ]
    }
   ],
   "source": [
    "#Q3\n",
    "def flip(x):\n",
    "    return -x\n",
    "def special_sum(nums, transform):\n",
    "    total = 0\n",
    "    for num in nums:\n",
    "        total += transform(num)\n",
    "    return total\n",
    "print(special_sum([-4, 1, -2, 0], flip))"
   ]
  },
  {
   "cell_type": "code",
   "execution_count": 5,
   "metadata": {},
   "outputs": [
    {
     "data": {
      "text/plain": [
       "[4, -1, 2, 0]"
      ]
     },
     "execution_count": 5,
     "metadata": {},
     "output_type": "execute_result"
    }
   ],
   "source": [
    "# note that we can use flip in a comprehension\n",
    "my_list = [-4, 1, -2, 0]\n",
    "[flip(item)  for item in my_list]"
   ]
  },
  {
   "cell_type": "code",
   "execution_count": 7,
   "metadata": {},
   "outputs": [
    {
     "name": "stdout",
     "output_type": "stream",
     "text": [
      "[-4, -2, 0, 1]\n",
      "[1, 0, -2, -4]\n"
     ]
    }
   ],
   "source": [
    "# this is also useful for sorting:\n",
    "print(sorted(my_list))\n",
    "print(sorted(my_list, key=flip))\n",
    "# what just happened there?"
   ]
  },
  {
   "cell_type": "code",
   "execution_count": 8,
   "metadata": {},
   "outputs": [],
   "source": [
    "#Q4 this content is no longer part of the course"
   ]
  },
  {
   "cell_type": "code",
   "execution_count": 9,
   "metadata": {},
   "outputs": [
    {
     "name": "stdout",
     "output_type": "stream",
     "text": [
      "['B', 'AA', 'CCC']\n"
     ]
    }
   ],
   "source": [
    "#Q5 \n",
    "words = [\"AA\", \"B\", \"CCC\"]\n",
    "words.sort(key=len)\n",
    "print(words)\n",
    "# that key= is a 'function reference'\n"
   ]
  },
  {
   "cell_type": "code",
   "execution_count": 10,
   "metadata": {},
   "outputs": [
    {
     "name": "stdout",
     "output_type": "stream",
     "text": [
      "-1.0\n",
      "-2.0\n",
      "yikes!\n",
      "2.0\n",
      "1.0\n"
     ]
    }
   ],
   "source": [
    "#Q6\n",
    "for i in range(5):\n",
    "    try:\n",
    "        print(2 / (i-2))\n",
    "    except:\n",
    "        print(\"yikes!\")"
   ]
  },
  {
   "cell_type": "code",
   "execution_count": 11,
   "metadata": {},
   "outputs": [
    {
     "name": "stdout",
     "output_type": "stream",
     "text": [
      "-1.0\n",
      "-2.0\n",
      "yikes!\n",
      "2.0\n",
      "1.0\n"
     ]
    },
    {
     "data": {
      "text/plain": [
       "[-1.0, -2.0, 2.0, 1.0]"
      ]
     },
     "execution_count": 11,
     "metadata": {},
     "output_type": "execute_result"
    }
   ],
   "source": [
    "# let's improve on this question by adding everyting to a list\n",
    "result = []\n",
    "for i in range(5):\n",
    "    try:\n",
    "        print(2 / (i-2))\n",
    "        result.append(2 / (i-2))\n",
    "    except:\n",
    "        print(\"yikes!\")\n",
    "result"
   ]
  },
  {
   "cell_type": "code",
   "execution_count": 12,
   "metadata": {},
   "outputs": [
    {
     "name": "stdout",
     "output_type": "stream",
     "text": [
      "-1.0\n",
      "-2.0\n",
      "yikes!\n"
     ]
    },
    {
     "data": {
      "text/plain": [
       "[-1.0, -2.0]"
      ]
     },
     "execution_count": 12,
     "metadata": {},
     "output_type": "execute_result"
    }
   ],
   "source": [
    "# one more time, with a break....notice the difference ??\n",
    "result = []\n",
    "for i in range(5):\n",
    "    try:\n",
    "        print(2 / (i-2))\n",
    "        result.append(2 / (i-2))\n",
    "    except:\n",
    "        print(\"yikes!\")\n",
    "        break\n",
    "result"
   ]
  },
  {
   "cell_type": "code",
   "execution_count": 15,
   "metadata": {},
   "outputs": [],
   "source": [
    "#Q7\n",
    "nums = []\n",
    "def append_nums(n):\n",
    "    print('in append_nums with n=', n, 'nums = ', nums)\n",
    "    nums.append(n)\n",
    "    if n > 1:\n",
    "        append_nums(n-1)\n",
    "    nums.append(n * 100)"
   ]
  },
  {
   "cell_type": "code",
   "execution_count": 16,
   "metadata": {},
   "outputs": [
    {
     "name": "stdout",
     "output_type": "stream",
     "text": [
      "in append_nums with n= 1 nums =  []\n",
      "[1, 100]\n"
     ]
    }
   ],
   "source": [
    "    \n",
    "    \n",
    "append_nums(1)\n",
    "print(nums)\n"
   ]
  },
  {
   "cell_type": "code",
   "execution_count": 17,
   "metadata": {},
   "outputs": [
    {
     "name": "stdout",
     "output_type": "stream",
     "text": [
      "in append_nums with n= 3 nums =  [1, 100]\n",
      "in append_nums with n= 2 nums =  [1, 100, 3]\n",
      "in append_nums with n= 1 nums =  [1, 100, 3, 2]\n",
      "[1, 100, 3, 2, 1, 100, 200, 300]\n"
     ]
    }
   ],
   "source": [
    "append_nums(3)\n",
    "print(nums)"
   ]
  },
  {
   "cell_type": "code",
   "execution_count": 20,
   "metadata": {},
   "outputs": [
    {
     "name": "stdout",
     "output_type": "stream",
     "text": [
      "hi\n",
      "hi\n",
      "bye\n"
     ]
    }
   ],
   "source": [
    "#Q8 example of function references\n",
    "def hello():\n",
    "    print(\"hi\")\n",
    "    \n",
    "def goodbye():\n",
    "    print(\"bye\")\n",
    "    \n",
    "def multi_call(n, fn): \n",
    "    if fn != None:\n",
    "        for i in range(n):\n",
    "            fn()\n",
    "            \n",
    "            \n",
    "multi_call(2, hello)         # function reference\n",
    "multi_call(3, goodbye())    # result of a function call"
   ]
  },
  {
   "cell_type": "code",
   "execution_count": 19,
   "metadata": {},
   "outputs": [
    {
     "name": "stdout",
     "output_type": "stream",
     "text": [
      "bye\n"
     ]
    }
   ],
   "source": []
  },
  {
   "cell_type": "code",
   "execution_count": 26,
   "metadata": {},
   "outputs": [
    {
     "data": {
      "text/plain": [
       "['name', 'jersey', 'position']"
      ]
     },
     "execution_count": 26,
     "metadata": {},
     "output_type": "execute_result"
    }
   ],
   "source": [
    "d = { \"name\":\"Andy\", \"jersey\": 17, \"position\": \"Goalkeeper\"}\n",
    "[ k for (k,v) in d.items()]\n",
    "# Python 3.6 and higher orders dictionary keys by their insertion order"
   ]
  },
  {
   "cell_type": "code",
   "execution_count": null,
   "metadata": {},
   "outputs": [],
   "source": []
  }
 ],
 "metadata": {
  "kernelspec": {
   "display_name": "Python 3",
   "language": "python",
   "name": "python3"
  },
  "language_info": {
   "codemirror_mode": {
    "name": "ipython",
    "version": 3
   },
   "file_extension": ".py",
   "mimetype": "text/x-python",
   "name": "python",
   "nbconvert_exporter": "python",
   "pygments_lexer": "ipython3",
   "version": "3.9.1"
  }
 },
 "nbformat": 4,
 "nbformat_minor": 4
}

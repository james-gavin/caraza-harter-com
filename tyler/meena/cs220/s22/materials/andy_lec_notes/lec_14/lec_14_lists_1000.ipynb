{
 "cells": [
  {
   "cell_type": "code",
   "execution_count": 2,
   "metadata": {},
   "outputs": [],
   "source": [
    "import project"
   ]
  },
  {
   "cell_type": "code",
   "execution_count": 3,
   "metadata": {},
   "outputs": [
    {
     "ename": "TypeError",
     "evalue": "'str' object does not support item assignment",
     "output_type": "error",
     "traceback": [
      "\u001b[0;31m---------------------------------------------------------------------------\u001b[0m",
      "\u001b[0;31mTypeError\u001b[0m                                 Traceback (most recent call last)",
      "\u001b[0;32m<ipython-input-3-a9d3c4948f3a>\u001b[0m in \u001b[0;36m<module>\u001b[0;34m\u001b[0m\n\u001b[1;32m      5\u001b[0m \u001b[0;31m# Change only last letter of name to \"a\" so that name = \"Andrea\"\u001b[0m\u001b[0;34m\u001b[0m\u001b[0;34m\u001b[0m\u001b[0;34m\u001b[0m\u001b[0m\n\u001b[1;32m      6\u001b[0m \u001b[0;34m\u001b[0m\u001b[0m\n\u001b[0;32m----> 7\u001b[0;31m \u001b[0mname\u001b[0m\u001b[0;34m[\u001b[0m\u001b[0;34m-\u001b[0m\u001b[0;36m1\u001b[0m\u001b[0;34m]\u001b[0m \u001b[0;34m=\u001b[0m \u001b[0;34m'a'\u001b[0m\u001b[0;34m\u001b[0m\u001b[0;34m\u001b[0m\u001b[0m\n\u001b[0m\u001b[1;32m      8\u001b[0m \u001b[0mprint\u001b[0m\u001b[0;34m(\u001b[0m\u001b[0mname\u001b[0m\u001b[0;34m)\u001b[0m\u001b[0;34m\u001b[0m\u001b[0;34m\u001b[0m\u001b[0m\n\u001b[1;32m      9\u001b[0m \u001b[0;34m\u001b[0m\u001b[0m\n",
      "\u001b[0;31mTypeError\u001b[0m: 'str' object does not support item assignment"
     ]
    }
   ],
   "source": [
    "# Warmup 1:  Try to mutate a string\n",
    "\n",
    "name = \"Andrew\"\n",
    "\n",
    "# Change only last letter of name to \"a\" so that name = \"Andrea\"\n",
    "\n",
    "name[-1] = 'a'\n",
    "print(name)\n",
    "\n",
    "# Takeaway:  Strings are immutable"
   ]
  },
  {
   "cell_type": "code",
   "execution_count": 5,
   "metadata": {},
   "outputs": [
    {
     "data": {
      "text/plain": [
       "'Andrea'"
      ]
     },
     "execution_count": 5,
     "metadata": {},
     "output_type": "execute_result"
    }
   ],
   "source": [
    "name = \"Andrea\"\n",
    "# reassignment\n",
    "name"
   ]
  },
  {
   "cell_type": "code",
   "execution_count": 6,
   "metadata": {},
   "outputs": [
    {
     "name": "stdout",
     "output_type": "stream",
     "text": [
      "1\n",
      "-1\n"
     ]
    }
   ],
   "source": [
    "# Warmup 2: practice using find\n",
    "\n",
    "secret_word = \"raspy\"\n",
    "\n",
    "# find the index of 'a'\n",
    "print(secret_word.find('a'))\n",
    "\n",
    "# find the index of 'e'\n",
    "print(secret_word.find('e'))"
   ]
  },
  {
   "cell_type": "code",
   "execution_count": 9,
   "metadata": {},
   "outputs": [
    {
     "name": "stdout",
     "output_type": "stream",
     "text": [
      "Welcome to PyWordle!\n",
      "You have 6 guesses to guess a 5 character word.\n",
      "X\tThe letter is not in the word.\n",
      "_\tThe letter is in the word, but in the wrong place.\n",
      "O\tThe letter is in the correct place!\n",
      "Guess:  AUDIO\n",
      "AUDIO\t_XXXX\n",
      "Guess:  RANGE\n",
      "RANGE\tO_XX_\n",
      "Guess:  RELAX\n",
      "RELAX\tOOOOO\n"
     ]
    },
    {
     "ename": "KeyboardInterrupt",
     "evalue": "Interrupted by user",
     "output_type": "error",
     "traceback": [
      "\u001b[0;31m---------------------------------------------------------------------------\u001b[0m",
      "\u001b[0;31mKeyboardInterrupt\u001b[0m                         Traceback (most recent call last)",
      "\u001b[0;32m<ipython-input-9-ecb3a5edaa50>\u001b[0m in \u001b[0;36m<module>\u001b[0;34m\u001b[0m\n\u001b[1;32m     26\u001b[0m \u001b[0;32mwhile\u001b[0m \u001b[0mcurrent_num_guesses\u001b[0m \u001b[0;34m<=\u001b[0m \u001b[0mmax_num_guesses\u001b[0m\u001b[0;34m:\u001b[0m\u001b[0;34m\u001b[0m\u001b[0;34m\u001b[0m\u001b[0m\n\u001b[1;32m     27\u001b[0m \u001b[0;34m\u001b[0m\u001b[0m\n\u001b[0;32m---> 28\u001b[0;31m     \u001b[0mguess\u001b[0m \u001b[0;34m=\u001b[0m \u001b[0minput\u001b[0m\u001b[0;34m(\u001b[0m\u001b[0;34m\"Guess:  \"\u001b[0m\u001b[0;34m)\u001b[0m\u001b[0;34m\u001b[0m\u001b[0;34m\u001b[0m\u001b[0m\n\u001b[0m\u001b[1;32m     29\u001b[0m \u001b[0;34m\u001b[0m\u001b[0m\n\u001b[1;32m     30\u001b[0m     \u001b[0mwordle_results\u001b[0m \u001b[0;34m=\u001b[0m \u001b[0mget_wordle_results\u001b[0m\u001b[0;34m(\u001b[0m\u001b[0mguess\u001b[0m\u001b[0;34m)\u001b[0m\u001b[0;34m\u001b[0m\u001b[0;34m\u001b[0m\u001b[0m\n",
      "\u001b[0;32m/Library/Frameworks/Python.framework/Versions/3.9/lib/python3.9/site-packages/ipykernel/kernelbase.py\u001b[0m in \u001b[0;36mraw_input\u001b[0;34m(self, prompt)\u001b[0m\n\u001b[1;32m    855\u001b[0m                 \u001b[0;34m\"raw_input was called, but this frontend does not support input requests.\"\u001b[0m\u001b[0;34m\u001b[0m\u001b[0;34m\u001b[0m\u001b[0m\n\u001b[1;32m    856\u001b[0m             )\n\u001b[0;32m--> 857\u001b[0;31m         return self._input_request(str(prompt),\n\u001b[0m\u001b[1;32m    858\u001b[0m             \u001b[0mself\u001b[0m\u001b[0;34m.\u001b[0m\u001b[0m_parent_ident\u001b[0m\u001b[0;34m,\u001b[0m\u001b[0;34m\u001b[0m\u001b[0;34m\u001b[0m\u001b[0m\n\u001b[1;32m    859\u001b[0m             \u001b[0mself\u001b[0m\u001b[0;34m.\u001b[0m\u001b[0m_parent_header\u001b[0m\u001b[0;34m,\u001b[0m\u001b[0;34m\u001b[0m\u001b[0;34m\u001b[0m\u001b[0m\n",
      "\u001b[0;32m/Library/Frameworks/Python.framework/Versions/3.9/lib/python3.9/site-packages/ipykernel/kernelbase.py\u001b[0m in \u001b[0;36m_input_request\u001b[0;34m(self, prompt, ident, parent, password)\u001b[0m\n\u001b[1;32m    899\u001b[0m             \u001b[0;32mexcept\u001b[0m \u001b[0mKeyboardInterrupt\u001b[0m\u001b[0;34m:\u001b[0m\u001b[0;34m\u001b[0m\u001b[0;34m\u001b[0m\u001b[0m\n\u001b[1;32m    900\u001b[0m                 \u001b[0;31m# re-raise KeyboardInterrupt, to truncate traceback\u001b[0m\u001b[0;34m\u001b[0m\u001b[0;34m\u001b[0m\u001b[0;34m\u001b[0m\u001b[0m\n\u001b[0;32m--> 901\u001b[0;31m                 \u001b[0;32mraise\u001b[0m \u001b[0mKeyboardInterrupt\u001b[0m\u001b[0;34m(\u001b[0m\u001b[0;34m\"Interrupted by user\"\u001b[0m\u001b[0;34m)\u001b[0m \u001b[0;32mfrom\u001b[0m \u001b[0;32mNone\u001b[0m\u001b[0;34m\u001b[0m\u001b[0;34m\u001b[0m\u001b[0m\n\u001b[0m\u001b[1;32m    902\u001b[0m             \u001b[0;32mexcept\u001b[0m \u001b[0mException\u001b[0m \u001b[0;32mas\u001b[0m \u001b[0me\u001b[0m\u001b[0;34m:\u001b[0m\u001b[0;34m\u001b[0m\u001b[0;34m\u001b[0m\u001b[0m\n\u001b[1;32m    903\u001b[0m                 \u001b[0mself\u001b[0m\u001b[0;34m.\u001b[0m\u001b[0mlog\u001b[0m\u001b[0;34m.\u001b[0m\u001b[0mwarning\u001b[0m\u001b[0;34m(\u001b[0m\u001b[0;34m\"Invalid Message:\"\u001b[0m\u001b[0;34m,\u001b[0m \u001b[0mexc_info\u001b[0m\u001b[0;34m=\u001b[0m\u001b[0;32mTrue\u001b[0m\u001b[0;34m)\u001b[0m\u001b[0;34m\u001b[0m\u001b[0;34m\u001b[0m\u001b[0m\n",
      "\u001b[0;31mKeyboardInterrupt\u001b[0m: Interrupted by user"
     ]
    }
   ],
   "source": [
    "# Warmup 3: Complete get_wordle_results\n",
    "\n",
    "def get_wordle_results(guess):\n",
    "    ''' generate the wordle string using the rules below'''\n",
    "    wordle_result = \"\"\n",
    "    for i in range(len(guess)):\n",
    "        if guess[i] == word_of_the_day[i]:\n",
    "            wordle_result += 'O'\n",
    "        elif word_of_the_day.find(guess[i]) == -1:\n",
    "            wordle_result += 'X'\n",
    "        else:\n",
    "            wordle_result += '_'\n",
    "    \n",
    "    return wordle_result\n",
    "\n",
    "max_num_guesses = 6\n",
    "current_num_guesses = 1\n",
    "word_of_the_day = \"RELAX\"\n",
    "\n",
    "print(\"Welcome to PyWordle!\")\n",
    "print(\"You have 6 guesses to guess a 5 character word.\")\n",
    "print(\"X\\tThe letter is not in the word.\")\n",
    "print(\"_\\tThe letter is in the word, but in the wrong place.\")\n",
    "print(\"O\\tThe letter is in the correct place!\")\n",
    "\n",
    "while current_num_guesses <= max_num_guesses:\n",
    "    \n",
    "    guess = input(\"Guess:  \")\n",
    "\n",
    "    wordle_results = get_wordle_results(guess)\n",
    "    print(\"{}\\t{}\".format(guess, wordle_results))\n",
    "    current_num_guesses += 1\n",
    "\n",
    "    \n",
    "if current_num_guesses > max_num_guesses:\n",
    "    print(\"Better luck next time!\")\n",
    "    print(\"The word was: {}\".format(word_of_the_day))\n",
    "else:\n",
    "    print(\"You won in {} guesses!\".format(current_num_guesses))\n",
    "\n",
    "    \n",
    "# improvements: \n",
    "# change input to upper case .upper()\n",
    "# we should break if we get the word exactly correct\n",
    "# quit at any time\n",
    "# if the user enters a string that is NOT 5 chars\n"
   ]
  },
  {
   "cell_type": "code",
   "execution_count": null,
   "metadata": {},
   "outputs": [],
   "source": []
  },
  {
   "cell_type": "markdown",
   "metadata": {},
   "source": [
    "## February 28: Lists\n",
    "\n",
    "Learning Objectives:\n",
    "- Create a list and use sequence operations on a list.\n",
    "- Write loops that process lists\n",
    "- Explain key differences between strings and lists: type flexibility, mutability\n",
    "- Mutate a list using \n",
    " - indexing and double indexing, \n",
    " - methods such as append, extend, sort, and pop, \n",
    "- split() a string into a list\n",
    "- join() list elements into a string"
   ]
  },
  {
   "cell_type": "markdown",
   "metadata": {},
   "source": [
    "### Create a list and use sequence operations on a list."
   ]
  },
  {
   "cell_type": "code",
   "execution_count": 10,
   "metadata": {},
   "outputs": [
    {
     "name": "stdout",
     "output_type": "stream",
     "text": [
      "['bread', 'milk', 'eggs', 'apples', 'macNcheese', 'chocolate', 'OJ']\t7\n"
     ]
    }
   ],
   "source": [
    "# A list is a sequence seperated by commas\n",
    "\n",
    "# add one more thing to your grocery_list\n",
    "grocery_list = [\"bread\", \"milk\", \"eggs\", \"apples\", \"macNcheese\" , \"chocolate\", \"OJ\" ] \n",
    "print(grocery_list, len(grocery_list), sep='\\t')"
   ]
  },
  {
   "cell_type": "code",
   "execution_count": 11,
   "metadata": {},
   "outputs": [
    {
     "name": "stdout",
     "output_type": "stream",
     "text": [
      "['bread', 'milk', 'eggs', 'apples', 'macNcheese', 'chocolate', 'OJ']\t7\n",
      "milk\n",
      "OJ\n",
      "['milk', 'eggs', 'apples']\n"
     ]
    }
   ],
   "source": [
    "# Sequence Operations:  indexing, slicing\n",
    "\n",
    "print(grocery_list, len(grocery_list), sep='\\t')\n",
    "\n",
    "# print the 2nd item in grocery _list\n",
    "print(grocery_list[1])\n",
    "\n",
    "# print the last item in grocery_list\n",
    "print(grocery_list[-1])    \n",
    "\n",
    "# print the 2nd, 3rd, and 4th items in grocery_list\n",
    "print(grocery_list[1:4])  # last index is exclusive\n"
   ]
  },
  {
   "cell_type": "code",
   "execution_count": 12,
   "metadata": {},
   "outputs": [
    {
     "ename": "IndexError",
     "evalue": "list index out of range",
     "output_type": "error",
     "traceback": [
      "\u001b[0;31m---------------------------------------------------------------------------\u001b[0m",
      "\u001b[0;31mIndexError\u001b[0m                                Traceback (most recent call last)",
      "\u001b[0;32m<ipython-input-12-95fe824a8e1b>\u001b[0m in \u001b[0;36m<module>\u001b[0;34m\u001b[0m\n\u001b[1;32m      1\u001b[0m \u001b[0;31m# why does this give an IndexError?\u001b[0m\u001b[0;34m\u001b[0m\u001b[0;34m\u001b[0m\u001b[0;34m\u001b[0m\u001b[0m\n\u001b[0;32m----> 2\u001b[0;31m \u001b[0mprint\u001b[0m\u001b[0;34m(\u001b[0m\u001b[0mgrocery_list\u001b[0m\u001b[0;34m[\u001b[0m\u001b[0mlen\u001b[0m\u001b[0;34m(\u001b[0m\u001b[0mgrocery_list\u001b[0m\u001b[0;34m)\u001b[0m\u001b[0;34m]\u001b[0m\u001b[0;34m)\u001b[0m\u001b[0;34m\u001b[0m\u001b[0;34m\u001b[0m\u001b[0m\n\u001b[0m\u001b[1;32m      3\u001b[0m \u001b[0;31m# Tell your neighbor\u001b[0m\u001b[0;34m\u001b[0m\u001b[0;34m\u001b[0m\u001b[0;34m\u001b[0m\u001b[0m\n\u001b[1;32m      4\u001b[0m \u001b[0;31m# Then, explain it in your own words\u001b[0m\u001b[0;34m\u001b[0m\u001b[0;34m\u001b[0m\u001b[0;34m\u001b[0m\u001b[0m\n\u001b[1;32m      5\u001b[0m \u001b[0;31m#\u001b[0m\u001b[0;34m\u001b[0m\u001b[0;34m\u001b[0m\u001b[0;34m\u001b[0m\u001b[0m\n",
      "\u001b[0;31mIndexError\u001b[0m: list index out of range"
     ]
    }
   ],
   "source": [
    "# why does this give an IndexError? \n",
    "print(grocery_list [len(grocery_list)]  )\n",
    "# Tell your neighbor\n",
    "# Then, explain it in your own words\n",
    "# "
   ]
  },
  {
   "cell_type": "code",
   "execution_count": 13,
   "metadata": {},
   "outputs": [
    {
     "data": {
      "text/plain": [
       "[10, 20, 30, 13, 4, 9, 8, 77]"
      ]
     },
     "execution_count": 13,
     "metadata": {},
     "output_type": "execute_result"
    }
   ],
   "source": [
    "# Lists can be concatented with +\n",
    "[10, 20, 30] + [13, 4, 9, 8] + [77]\n",
    "\n",
    "# add one more + and a list at the end of this expression"
   ]
  },
  {
   "cell_type": "code",
   "execution_count": 23,
   "metadata": {},
   "outputs": [
    {
     "name": "stdout",
     "output_type": "stream",
     "text": [
      "True\n",
      "False\n"
     ]
    }
   ],
   "source": [
    "# the 'in' operator can be applied to a list\n",
    "favorite_numbers = [4, 7, 14, 17, 84]\n",
    "print(7 in favorite_numbers)\n",
    "\n",
    "# make a false statement\n",
    "print( 32 in favorite_numbers  )"
   ]
  },
  {
   "cell_type": "code",
   "execution_count": 24,
   "metadata": {},
   "outputs": [
    {
     "data": {
      "text/plain": [
       "[\"LET'S\", 'GO', 'RED', \"LET'S\", 'GO', 'RED', \"LET'S\", 'GO', 'RED']"
      ]
     },
     "execution_count": 24,
     "metadata": {},
     "output_type": "execute_result"
    }
   ],
   "source": [
    "# Lists can be repeated with *\n",
    "[\"LET'S\", \"GO\", \"RED\"] * 3"
   ]
  },
  {
   "cell_type": "markdown",
   "metadata": {},
   "source": [
    "### Write loops that process lists"
   ]
  },
  {
   "cell_type": "code",
   "execution_count": 14,
   "metadata": {},
   "outputs": [
    {
     "name": "stdout",
     "output_type": "stream",
     "text": [
      "3\n"
     ]
    }
   ],
   "source": [
    "# count how many words have length > 5 in grocery_list\n",
    "count = 0\n",
    "for word in grocery_list:\n",
    "    if len(word) > 5:\n",
    "        count += 1\n",
    "print(count)"
   ]
  },
  {
   "cell_type": "code",
   "execution_count": null,
   "metadata": {},
   "outputs": [],
   "source": []
  },
  {
   "cell_type": "code",
   "execution_count": null,
   "metadata": {},
   "outputs": [],
   "source": []
  },
  {
   "cell_type": "code",
   "execution_count": 16,
   "metadata": {},
   "outputs": [
    {
     "name": "stdout",
     "output_type": "stream",
     "text": [
      "['bread', 'milk', 'eggs', 'apples', 'macNcheese', 'chocolate', 'OJ']\n"
     ]
    },
    {
     "ename": "TypeError",
     "evalue": "'>' not supported between instances of 'int' and 'NoneType'",
     "output_type": "error",
     "traceback": [
      "\u001b[0;31m---------------------------------------------------------------------------\u001b[0m",
      "\u001b[0;31mTypeError\u001b[0m                                 Traceback (most recent call last)",
      "\u001b[0;32m<ipython-input-16-47bffc4d3b51>\u001b[0m in \u001b[0;36m<module>\u001b[0;34m\u001b[0m\n\u001b[1;32m     14\u001b[0m \u001b[0;34m\u001b[0m\u001b[0m\n\u001b[1;32m     15\u001b[0m \u001b[0mprint\u001b[0m\u001b[0;34m(\u001b[0m\u001b[0mgrocery_list\u001b[0m\u001b[0;34m)\u001b[0m\u001b[0;34m\u001b[0m\u001b[0;34m\u001b[0m\u001b[0m\n\u001b[0;32m---> 16\u001b[0;31m \u001b[0mprint\u001b[0m\u001b[0;34m(\u001b[0m\u001b[0mlongest_word\u001b[0m\u001b[0;34m(\u001b[0m\u001b[0mgrocery_list\u001b[0m\u001b[0;34m)\u001b[0m\u001b[0;34m)\u001b[0m\u001b[0;34m\u001b[0m\u001b[0;34m\u001b[0m\u001b[0m\n\u001b[0m\u001b[1;32m     17\u001b[0m \u001b[0mprint\u001b[0m\u001b[0;34m(\u001b[0m\u001b[0mlongest_word\u001b[0m\u001b[0;34m(\u001b[0m\u001b[0;34m[\u001b[0m\u001b[0;34m'aaaa'\u001b[0m\u001b[0;34m,\u001b[0m \u001b[0;34m'xzy'\u001b[0m\u001b[0;34m,\u001b[0m \u001b[0;34m'hello'\u001b[0m\u001b[0;34m]\u001b[0m\u001b[0;34m)\u001b[0m\u001b[0;34m)\u001b[0m\u001b[0;34m\u001b[0m\u001b[0;34m\u001b[0m\u001b[0m\n\u001b[1;32m     18\u001b[0m \u001b[0;34m\u001b[0m\u001b[0m\n",
      "\u001b[0;32m<ipython-input-16-47bffc4d3b51>\u001b[0m in \u001b[0;36mlongest_word\u001b[0;34m(word_list)\u001b[0m\n\u001b[1;32m      7\u001b[0m     \u001b[0;32mfor\u001b[0m \u001b[0mi\u001b[0m \u001b[0;32min\u001b[0m \u001b[0mrange\u001b[0m\u001b[0;34m(\u001b[0m\u001b[0mlen\u001b[0m\u001b[0;34m(\u001b[0m\u001b[0mword_list\u001b[0m\u001b[0;34m)\u001b[0m\u001b[0;34m)\u001b[0m\u001b[0;34m:\u001b[0m\u001b[0;34m\u001b[0m\u001b[0;34m\u001b[0m\u001b[0m\n\u001b[1;32m      8\u001b[0m         \u001b[0mword\u001b[0m \u001b[0;34m=\u001b[0m \u001b[0mword_list\u001b[0m\u001b[0;34m[\u001b[0m\u001b[0mi\u001b[0m\u001b[0;34m]\u001b[0m\u001b[0;34m\u001b[0m\u001b[0;34m\u001b[0m\u001b[0m\n\u001b[0;32m----> 9\u001b[0;31m         \u001b[0;32mif\u001b[0m \u001b[0mlen\u001b[0m\u001b[0;34m(\u001b[0m\u001b[0mword\u001b[0m\u001b[0;34m)\u001b[0m \u001b[0;34m>\u001b[0m \u001b[0mmax_length\u001b[0m\u001b[0;34m:\u001b[0m\u001b[0;34m\u001b[0m\u001b[0;34m\u001b[0m\u001b[0m\n\u001b[0m\u001b[1;32m     10\u001b[0m             \u001b[0mmax_length\u001b[0m \u001b[0;34m=\u001b[0m \u001b[0mlen\u001b[0m\u001b[0;34m(\u001b[0m\u001b[0mword\u001b[0m\u001b[0;34m)\u001b[0m\u001b[0;34m\u001b[0m\u001b[0;34m\u001b[0m\u001b[0m\n\u001b[1;32m     11\u001b[0m             \u001b[0mlongest_word\u001b[0m \u001b[0;34m=\u001b[0m \u001b[0mword\u001b[0m\u001b[0;34m\u001b[0m\u001b[0;34m\u001b[0m\u001b[0m\n",
      "\u001b[0;31mTypeError\u001b[0m: '>' not supported between instances of 'int' and 'NoneType'"
     ]
    }
   ],
   "source": [
    "def longest_word(word_list):\n",
    "    '''Given a list of strings, return the string with the longest length.\n",
    "    If more than one, return the first occurrence.'''\n",
    "    \n",
    "    max_length = 0\n",
    "    longest_word = None\n",
    "    for i in range(len(word_list)):\n",
    "        word = word_list[i]\n",
    "        if len(word) > max_length: \n",
    "            max_length = len(word)\n",
    "            longest_word = word\n",
    "    return longest_word #fix indentation\n",
    "    \n",
    "\n",
    "print(grocery_list)\n",
    "print(longest_word(grocery_list))\n",
    "print(longest_word(['aaaa', 'xzy', 'hello']))\n",
    "\n"
   ]
  },
  {
   "attachments": {
    "str%20list%20venn.png": {
     "image/png": "[encoded data removed]"
    }
   },
   "cell_type": "markdown",
   "metadata": {},
   "source": [
    "![str%20list%20venn.png](attachment:str%20list%20venn.png)"
   ]
  },
  {
   "cell_type": "code",
   "execution_count": null,
   "metadata": {},
   "outputs": [],
   "source": []
  },
  {
   "cell_type": "markdown",
   "metadata": {},
   "source": [
    "### Explain key differences between strings and lists: type flexibility, mutability"
   ]
  },
  {
   "cell_type": "code",
   "execution_count": 21,
   "metadata": {},
   "outputs": [
    {
     "name": "stdout",
     "output_type": "stream",
     "text": [
      "hello\n",
      "14\n",
      "True\n",
      "5.678\n",
      "['list', 'inside', 'a', 'list']\n",
      "\n",
      "['list', 'inside', 'a', 'list']\n",
      "inside\n",
      "<class 'list'>\n"
     ]
    }
   ],
   "source": [
    "# Difference 1:  a string only holds characters, a list can hold anything\n",
    "\n",
    "list3 = [\"hello\", 14, True, 5.678, [\"list\", \"inside\", \"a\", \"list\"]]\n",
    "\n",
    "# fix the bug in this loop\n",
    "for i in range(len(list3)):\n",
    "    print(list3[i])\n",
    "print()\n",
    "\n",
    "# print out the last thing in list3\n",
    "print(list3[-1])\n",
    "\n",
    "# print out the word \"inside\" using double indexing\n",
    "\n",
    "print(list3[-1][1])\n",
    "\n",
    "# print out the type of the last thing in list3\n",
    "print(type(list3[-1]))"
   ]
  },
  {
   "cell_type": "code",
   "execution_count": 22,
   "metadata": {},
   "outputs": [
    {
     "name": "stdout",
     "output_type": "stream",
     "text": [
      ".....S\n",
      ".SSS.S\n",
      ".....S\n",
      "......\n",
      "....S.\n",
      "....S.\n"
     ]
    }
   ],
   "source": [
    "# Lists of lists are common in programming\n",
    "\n",
    "game_grid = [\n",
    "[\".\", \".\", \".\", \".\", \".\", \"S\"],\n",
    "[\".\", \"S\", \"S\", \"S\", \".\", \"S\"],\n",
    "[\".\", \".\", \".\", \".\", \".\", \"S\"],\n",
    "[\".\", \".\", \".\", \".\", \".\", \".\"],\n",
    "[\".\", \".\", \".\", \".\", \"S\", \".\"],\n",
    "[\".\", \".\", \".\", \".\", \"S\", \".\"]\n",
    "]\n",
    "\n",
    "for row in game_grid:\n",
    "    for col in row:\n",
    "        print(col, end='')\n",
    "    print()\n",
    "# change this to print out each item, one at a time, in each row"
   ]
  },
  {
   "cell_type": "code",
   "execution_count": 23,
   "metadata": {},
   "outputs": [
    {
     "ename": "TypeError",
     "evalue": "'str' object does not support item assignment",
     "output_type": "error",
     "traceback": [
      "\u001b[0;31m---------------------------------------------------------------------------\u001b[0m",
      "\u001b[0;31mTypeError\u001b[0m                                 Traceback (most recent call last)",
      "\u001b[0;32m<ipython-input-23-26329d302d07>\u001b[0m in \u001b[0;36m<module>\u001b[0;34m\u001b[0m\n\u001b[1;32m      3\u001b[0m \u001b[0;31m#Question:  which of the following two lines will cause Runtime error?\u001b[0m\u001b[0;34m\u001b[0m\u001b[0;34m\u001b[0m\u001b[0;34m\u001b[0m\u001b[0m\n\u001b[1;32m      4\u001b[0m \u001b[0mname\u001b[0m \u001b[0;34m=\u001b[0m \u001b[0;34m\"Andrew\"\u001b[0m\u001b[0;34m\u001b[0m\u001b[0;34m\u001b[0m\u001b[0m\n\u001b[0;32m----> 5\u001b[0;31m \u001b[0mname\u001b[0m\u001b[0;34m[\u001b[0m\u001b[0;34m-\u001b[0m\u001b[0;36m1\u001b[0m\u001b[0;34m]\u001b[0m \u001b[0;34m=\u001b[0m \u001b[0;34m\"a\"\u001b[0m\u001b[0;34m\u001b[0m\u001b[0;34m\u001b[0m\u001b[0m\n\u001b[0m\u001b[1;32m      6\u001b[0m \u001b[0mprint\u001b[0m\u001b[0;34m(\u001b[0m\u001b[0mname\u001b[0m\u001b[0;34m)\u001b[0m\u001b[0;34m\u001b[0m\u001b[0;34m\u001b[0m\u001b[0m\n",
      "\u001b[0;31mTypeError\u001b[0m: 'str' object does not support item assignment"
     ]
    }
   ],
   "source": [
    "# Difference 2: a string is immutable....\n",
    "\n",
    "#Question:  which of the following two lines will cause Runtime error? \n",
    "name = \"Andrew\"  \n",
    "name[-1] = \"a\" \n",
    "print(name)"
   ]
  },
  {
   "cell_type": "markdown",
   "metadata": {},
   "source": [
    "### Mutate a list using indexing and double indexing\n",
    "- Mutability has nothing to do with variable assignments / re-assignments\n",
    "- Mutability has to do with changing values inside a sequence"
   ]
  },
  {
   "cell_type": "code",
   "execution_count": 24,
   "metadata": {},
   "outputs": [
    {
     "name": "stdout",
     "output_type": "stream",
     "text": [
      "['hello', 14, True, 5.678, ['list', 'inside', 'a', 'list']]\n",
      "['hello', 25, True, 5.678, ['list', 'inside', 'another', 'list']]\n"
     ]
    }
   ],
   "source": [
    "# ... but the elements of a list are mutable\n",
    "print(list3)\n",
    "\n",
    "# change 14 to your favorite number\n",
    "list3[1] = 25\n",
    "\n",
    "# change \"a\" to \"another\"\n",
    "list3[-1][2] = \"another\"\n",
    "\n",
    "print(list3)"
   ]
  },
  {
   "cell_type": "markdown",
   "metadata": {},
   "source": [
    "### Mutate a list using methods such as append,  extend, pop, and sort"
   ]
  },
  {
   "cell_type": "code",
   "execution_count": 25,
   "metadata": {},
   "outputs": [
    {
     "name": "stdout",
     "output_type": "stream",
     "text": [
      "['peanut butter', 'bread', 'jelly', 'nutella']\n"
     ]
    }
   ],
   "source": [
    "# append adds onto the end\n",
    "list4 = ['peanut butter', 'bread', 'jelly']\n",
    "list4.append(\"nutella\") \n",
    "\n",
    "# add something else onto the end\n",
    "print(list4)"
   ]
  },
  {
   "cell_type": "code",
   "execution_count": null,
   "metadata": {},
   "outputs": [],
   "source": []
  },
  {
   "cell_type": "code",
   "execution_count": 26,
   "metadata": {},
   "outputs": [
    {
     "data": {
      "text/plain": [
       "['peanut butter', 'bread', 'jelly', 'nutella', 'cheese', 'pickle']"
      ]
     },
     "execution_count": 26,
     "metadata": {},
     "output_type": "execute_result"
    }
   ],
   "source": [
    "# extend adds the elements of a list, one at a time, to the end of another list\n",
    "list4.extend(['cheese', 'pickle'])\n",
    "list4"
   ]
  },
  {
   "cell_type": "code",
   "execution_count": null,
   "metadata": {},
   "outputs": [],
   "source": [
    "\n"
   ]
  },
  {
   "cell_type": "code",
   "execution_count": 43,
   "metadata": {},
   "outputs": [
    {
     "data": {
      "text/plain": [
       "['peanut butter', 'nutella', 'cheese']"
      ]
     },
     "execution_count": 43,
     "metadata": {},
     "output_type": "execute_result"
    }
   ],
   "source": [
    "# pop removes by index\n",
    "\n",
    "# remove 'bread'\n",
    "list4.pop(1)\n",
    "\n",
    "# the default value of pop is -1\n",
    "# remove the last item and store it in a variable\n",
    "item = list4.pop()\n",
    "list4"
   ]
  },
  {
   "cell_type": "code",
   "execution_count": 44,
   "metadata": {},
   "outputs": [
    {
     "data": {
      "text/plain": [
       "'pickle'"
      ]
     },
     "execution_count": 44,
     "metadata": {},
     "output_type": "execute_result"
    }
   ],
   "source": [
    "item"
   ]
  },
  {
   "cell_type": "code",
   "execution_count": 47,
   "metadata": {},
   "outputs": [
    {
     "name": "stdout",
     "output_type": "stream",
     "text": [
      "[7, 13, 23, 44, 45, 50, 87, 97, 100]\n",
      "9 4\n",
      "45\n"
     ]
    }
   ],
   "source": [
    "# sort mutates a list\n",
    "nums = [45, 13, 87, 23, 97, 44, 50, 7, 100]\n",
    "nums.sort() # sort by natural ordering\n",
    "\n",
    "print(nums) \n",
    "print(len(nums), len(nums) // 2)  # print the length of nums\n",
    "\n",
    "# print out the median value:\n",
    "if len(nums) % 2 == 0:\n",
    "    print((nums[len(nums) // 2 - 1] + nums[len(nums) // 2]) / 2)\n",
    "else:\n",
    "    print(nums[len(nums) // 2]) # just get the middle number"
   ]
  },
  {
   "cell_type": "markdown",
   "metadata": {},
   "source": [
    "### split() a string into a list"
   ]
  },
  {
   "cell_type": "code",
   "execution_count": 27,
   "metadata": {},
   "outputs": [
    {
     "name": "stdout",
     "output_type": "stream",
     "text": [
      "enter a sentence: meet me after class at the coffee shop\n",
      "['meet', 'me', 'after', 'class', 'at', 'the', 'coffee', 'shop']\n"
     ]
    }
   ],
   "source": [
    "# split turns a string into a list based on a string to split off of\n",
    "# https://www.w3schools.com/python/ref_string_split.asp\n",
    "\n",
    "sentence = input(\"enter a sentence: \")\n",
    "sentence_split = sentence.split(\" \") \n",
    "print(sentence_split)\n",
    "\n"
   ]
  },
  {
   "cell_type": "markdown",
   "metadata": {},
   "source": [
    "### join() list elements into a string"
   ]
  },
  {
   "cell_type": "code",
   "execution_count": 28,
   "metadata": {},
   "outputs": [
    {
     "name": "stdout",
     "output_type": "stream",
     "text": [
      "bread-milk-eggs-apples-macNcheese-chocolate-OJ\n"
     ]
    }
   ],
   "source": [
    "# join turns a list into a single string\n",
    "\n",
    "print(\"-\".join(grocery_list))"
   ]
  },
  {
   "cell_type": "markdown",
   "metadata": {},
   "source": [
    "### Applications: Make a list of all Engineering Majors in this lecture"
   ]
  },
  {
   "cell_type": "code",
   "execution_count": 8,
   "metadata": {},
   "outputs": [
    {
     "data": {
      "text/plain": [
       "[]"
      ]
     },
     "execution_count": 8,
     "metadata": {},
     "output_type": "execute_result"
    }
   ],
   "source": [
    "engineering_major_list = []\n",
    "\n",
    "for idx in range(project.count()):\n",
    "    pass\n",
    "            \n",
    "engineering_major_list"
   ]
  },
  {
   "cell_type": "markdown",
   "metadata": {},
   "source": [
    "### Application: Profanity Filter"
   ]
  },
  {
   "cell_type": "code",
   "execution_count": 6,
   "metadata": {},
   "outputs": [
    {
     "data": {
      "text/plain": [
       "['change', 'me']"
      ]
     },
     "execution_count": 6,
     "metadata": {},
     "output_type": "execute_result"
    }
   ],
   "source": [
    "bad_words = [\"dang\", \"midterm\", \"exam\"]\n",
    "\n",
    "def censor(input_string):\n",
    "    \"\"\"\n",
    "    replaces every bad word in input string with that word's first\n",
    "    letter and then * for the remaining characters\n",
    "    \"\"\"\n",
    "    # TODO: use split to extract every word  from input_string\n",
    "    words = [\"change\", \"me\"]\n",
    "\n",
    "    # Iterate over every word: 1. check if word is in bad_words 2. compute replacement 3. replace word\n",
    "    for index in range(len(words)):\n",
    "        curr_word = words[index]\n",
    "        if curr_word.lower() in bad_words:\n",
    "            words[index] = curr_word[0] + \"*\" * (len(curr_word) - 1)\n",
    "            \n",
    "    return words\n",
    "    \n",
    "censor(\"dang the midterm was so awesome!\")"
   ]
  },
  {
   "cell_type": "code",
   "execution_count": null,
   "metadata": {},
   "outputs": [],
   "source": [
    "\n"
   ]
  },
  {
   "cell_type": "code",
   "execution_count": null,
   "metadata": {},
   "outputs": [],
   "source": []
  },
  {
   "cell_type": "code",
   "execution_count": null,
   "metadata": {},
   "outputs": [],
   "source": [
    "# After Lecture Practice\n",
    "\n",
    "# Improve the Wordle game: \n",
    "#    when you win, leave the loop\n",
    "#    write a while loop to ensure that the input is exactly length 5\n",
    "#  convert the user's input into uppercase\n",
    "\n",
    "\n"
   ]
  },
  {
   "cell_type": "code",
   "execution_count": null,
   "metadata": {},
   "outputs": [],
   "source": [
    "# Practice:\n",
    "# Improve the profanity filter"
   ]
  }
 ],
 "metadata": {
  "kernelspec": {
   "display_name": "Python 3",
   "language": "python",
   "name": "python3"
  },
  "language_info": {
   "codemirror_mode": {
    "name": "ipython",
    "version": 3
   },
   "file_extension": ".py",
   "mimetype": "text/x-python",
   "name": "python",
   "nbconvert_exporter": "python",
   "pygments_lexer": "ipython3",
   "version": "3.9.1"
  }
 },
 "nbformat": 4,
 "nbformat_minor": 4
}

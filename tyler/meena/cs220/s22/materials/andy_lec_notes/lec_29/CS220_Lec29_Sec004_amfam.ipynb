{
 "cells": [
  {
   "cell_type": "code",
   "execution_count": null,
   "metadata": {},
   "outputs": [],
   "source": []
  },
  {
   "cell_type": "code",
   "execution_count": 1,
   "metadata": {},
   "outputs": [],
   "source": [
    "\n",
    "import requests # We will learn about this today!\n",
    "import json\n",
    "import pandas as pd\n",
    "from pandas import Series, DataFrame"
   ]
  },
  {
   "cell_type": "code",
   "execution_count": 2,
   "metadata": {},
   "outputs": [
    {
     "data": {
      "text/html": [
       "<div>\n",
       "<style scoped>\n",
       "    .dataframe tbody tr th:only-of-type {\n",
       "        vertical-align: middle;\n",
       "    }\n",
       "\n",
       "    .dataframe tbody tr th {\n",
       "        vertical-align: top;\n",
       "    }\n",
       "\n",
       "    .dataframe thead th {\n",
       "        text-align: right;\n",
       "    }\n",
       "</style>\n",
       "<table border=\"1\" class=\"dataframe\">\n",
       "  <thead>\n",
       "    <tr style=\"text-align: right;\">\n",
       "      <th></th>\n",
       "      <th>Title</th>\n",
       "      <th>Genre</th>\n",
       "      <th>Director</th>\n",
       "      <th>Cast</th>\n",
       "      <th>Year</th>\n",
       "      <th>Runtime</th>\n",
       "      <th>Rating</th>\n",
       "      <th>Revenue</th>\n",
       "    </tr>\n",
       "  </thead>\n",
       "  <tbody>\n",
       "    <tr>\n",
       "      <th>0</th>\n",
       "      <td>Guardians of the Galaxy</td>\n",
       "      <td>Action,Adventure,Sci-Fi</td>\n",
       "      <td>James Gunn</td>\n",
       "      <td>Chris Pratt, Vin Diesel, Bradley Cooper, Zoe S...</td>\n",
       "      <td>2014</td>\n",
       "      <td>121</td>\n",
       "      <td>8.1</td>\n",
       "      <td>333.13</td>\n",
       "    </tr>\n",
       "    <tr>\n",
       "      <th>1</th>\n",
       "      <td>Prometheus</td>\n",
       "      <td>Adventure,Mystery,Sci-Fi</td>\n",
       "      <td>Ridley Scott</td>\n",
       "      <td>Noomi Rapace, Logan Marshall-Green, Michael   ...</td>\n",
       "      <td>2012</td>\n",
       "      <td>124</td>\n",
       "      <td>7.0</td>\n",
       "      <td>126.46M</td>\n",
       "    </tr>\n",
       "    <tr>\n",
       "      <th>2</th>\n",
       "      <td>Split</td>\n",
       "      <td>Horror,Thriller</td>\n",
       "      <td>M. Night Shyamalan</td>\n",
       "      <td>James McAvoy, Anya Taylor-Joy, Haley Lu Richar...</td>\n",
       "      <td>2016</td>\n",
       "      <td>117</td>\n",
       "      <td>7.3</td>\n",
       "      <td>138.12M</td>\n",
       "    </tr>\n",
       "    <tr>\n",
       "      <th>3</th>\n",
       "      <td>Sing</td>\n",
       "      <td>Animation,Comedy,Family</td>\n",
       "      <td>Christophe Lourdelet</td>\n",
       "      <td>Matthew McConaughey,Reese Witherspoon, Seth Ma...</td>\n",
       "      <td>2016</td>\n",
       "      <td>108</td>\n",
       "      <td>7.2</td>\n",
       "      <td>270.32</td>\n",
       "    </tr>\n",
       "    <tr>\n",
       "      <th>4</th>\n",
       "      <td>Suicide Squad</td>\n",
       "      <td>Action,Adventure,Fantasy</td>\n",
       "      <td>David Ayer</td>\n",
       "      <td>Will Smith, Jared Leto, Margot Robbie, Viola D...</td>\n",
       "      <td>2016</td>\n",
       "      <td>123</td>\n",
       "      <td>6.2</td>\n",
       "      <td>325.02</td>\n",
       "    </tr>\n",
       "    <tr>\n",
       "      <th>...</th>\n",
       "      <td>...</td>\n",
       "      <td>...</td>\n",
       "      <td>...</td>\n",
       "      <td>...</td>\n",
       "      <td>...</td>\n",
       "      <td>...</td>\n",
       "      <td>...</td>\n",
       "      <td>...</td>\n",
       "    </tr>\n",
       "    <tr>\n",
       "      <th>1063</th>\n",
       "      <td>Guardians of the Galaxy Vol. 2</td>\n",
       "      <td>Action, Adventure, Comedy</td>\n",
       "      <td>James Gunn</td>\n",
       "      <td>Chris Pratt, Zoe Saldana, Dave Bautista, Vin D...</td>\n",
       "      <td>2017</td>\n",
       "      <td>136</td>\n",
       "      <td>7.6</td>\n",
       "      <td>389.81</td>\n",
       "    </tr>\n",
       "    <tr>\n",
       "      <th>1064</th>\n",
       "      <td>Baby Driver</td>\n",
       "      <td>Action, Crime, Drama</td>\n",
       "      <td>Edgar Wright</td>\n",
       "      <td>Ansel Elgort, Jon Bernthal, Jon Hamm, Eiza Gon...</td>\n",
       "      <td>2017</td>\n",
       "      <td>113</td>\n",
       "      <td>7.6</td>\n",
       "      <td>107.83</td>\n",
       "    </tr>\n",
       "    <tr>\n",
       "      <th>1065</th>\n",
       "      <td>Only the Brave</td>\n",
       "      <td>Action, Biography, Drama</td>\n",
       "      <td>Joseph Kosinski</td>\n",
       "      <td>Josh Brolin, Miles Teller, Jeff Bridges, Jenni...</td>\n",
       "      <td>2017</td>\n",
       "      <td>134</td>\n",
       "      <td>7.6</td>\n",
       "      <td>18.34</td>\n",
       "    </tr>\n",
       "    <tr>\n",
       "      <th>1066</th>\n",
       "      <td>Incredibles 2</td>\n",
       "      <td>Animation, Action, Adventure</td>\n",
       "      <td>Brad Bird</td>\n",
       "      <td>Craig T. Nelson, Holly Hunter, Sarah Vowell, H...</td>\n",
       "      <td>2018</td>\n",
       "      <td>118</td>\n",
       "      <td>7.6</td>\n",
       "      <td>608.58</td>\n",
       "    </tr>\n",
       "    <tr>\n",
       "      <th>1067</th>\n",
       "      <td>A Star Is Born</td>\n",
       "      <td>Drama, Music, Romance</td>\n",
       "      <td>Bradley Cooper</td>\n",
       "      <td>Lady Gaga, Bradley Cooper, Sam Elliott, Greg G...</td>\n",
       "      <td>2018</td>\n",
       "      <td>136</td>\n",
       "      <td>7.6</td>\n",
       "      <td>215.29</td>\n",
       "    </tr>\n",
       "  </tbody>\n",
       "</table>\n",
       "<p>1068 rows × 8 columns</p>\n",
       "</div>"
      ],
      "text/plain": [
       "                               Title                         Genre  \\\n",
       "0            Guardians of the Galaxy       Action,Adventure,Sci-Fi   \n",
       "1                         Prometheus      Adventure,Mystery,Sci-Fi   \n",
       "2                              Split               Horror,Thriller   \n",
       "3                               Sing       Animation,Comedy,Family   \n",
       "4                      Suicide Squad      Action,Adventure,Fantasy   \n",
       "...                              ...                           ...   \n",
       "1063  Guardians of the Galaxy Vol. 2     Action, Adventure, Comedy   \n",
       "1064                     Baby Driver          Action, Crime, Drama   \n",
       "1065                  Only the Brave      Action, Biography, Drama   \n",
       "1066                   Incredibles 2  Animation, Action, Adventure   \n",
       "1067                  A Star Is Born         Drama, Music, Romance   \n",
       "\n",
       "                  Director                                               Cast  \\\n",
       "0               James Gunn  Chris Pratt, Vin Diesel, Bradley Cooper, Zoe S...   \n",
       "1             Ridley Scott  Noomi Rapace, Logan Marshall-Green, Michael   ...   \n",
       "2       M. Night Shyamalan  James McAvoy, Anya Taylor-Joy, Haley Lu Richar...   \n",
       "3     Christophe Lourdelet  Matthew McConaughey,Reese Witherspoon, Seth Ma...   \n",
       "4               David Ayer  Will Smith, Jared Leto, Margot Robbie, Viola D...   \n",
       "...                    ...                                                ...   \n",
       "1063            James Gunn  Chris Pratt, Zoe Saldana, Dave Bautista, Vin D...   \n",
       "1064          Edgar Wright  Ansel Elgort, Jon Bernthal, Jon Hamm, Eiza Gon...   \n",
       "1065       Joseph Kosinski  Josh Brolin, Miles Teller, Jeff Bridges, Jenni...   \n",
       "1066             Brad Bird  Craig T. Nelson, Holly Hunter, Sarah Vowell, H...   \n",
       "1067        Bradley Cooper  Lady Gaga, Bradley Cooper, Sam Elliott, Greg G...   \n",
       "\n",
       "      Year  Runtime  Rating  Revenue  \n",
       "0     2014      121     8.1   333.13  \n",
       "1     2012      124     7.0  126.46M  \n",
       "2     2016      117     7.3  138.12M  \n",
       "3     2016      108     7.2   270.32  \n",
       "4     2016      123     6.2   325.02  \n",
       "...    ...      ...     ...      ...  \n",
       "1063  2017      136     7.6   389.81  \n",
       "1064  2017      113     7.6   107.83  \n",
       "1065  2017      134     7.6    18.34  \n",
       "1066  2018      118     7.6   608.58  \n",
       "1067  2018      136     7.6   215.29  \n",
       "\n",
       "[1068 rows x 8 columns]"
      ]
     },
     "execution_count": 2,
     "metadata": {},
     "output_type": "execute_result"
    }
   ],
   "source": [
    "# Warmup 1: Read the data from \"new_movie_data.csv\" into a pandas DataFrame called \"movies\"\n",
    "movies = pd.read_csv(\"new_movie_data.csv\")\n",
    "movies"
   ]
  },
  {
   "cell_type": "code",
   "execution_count": 5,
   "metadata": {},
   "outputs": [
    {
     "name": "stdout",
     "output_type": "stream",
     "text": [
      "2006 to 2020\n"
     ]
    }
   ],
   "source": [
    "# Warmup 2: What years does this new movie dataset cover?  (min and max?)\n",
    "movies[\"Year\"]\n",
    "print(movies[\"Year\"].min(), \"to\", movies[\"Year\"].max())"
   ]
  },
  {
   "cell_type": "code",
   "execution_count": 7,
   "metadata": {},
   "outputs": [
    {
     "data": {
      "text/plain": [
       "17300000.0"
      ]
     },
     "execution_count": 7,
     "metadata": {},
     "output_type": "execute_result"
    }
   ],
   "source": [
    "# Warmup 3a: What does this function do?\n",
    "def format_revenue(revenue):\n",
    "    if type(revenue) == float: # need this in here if we run code multiple times\n",
    "        return revenue\n",
    "    elif revenue[-1] == 'M': # some have an \"M\" at the end\n",
    "        return float(revenue[:-1]) * 1e6\n",
    "    else:                    # otherwise, assume millions.\n",
    "        return float(revenue) * 1e6\n",
    "format_revenue(\"17.3\")"
   ]
  },
  {
   "cell_type": "code",
   "execution_count": 8,
   "metadata": {},
   "outputs": [
    {
     "data": {
      "text/html": [
       "<div>\n",
       "<style scoped>\n",
       "    .dataframe tbody tr th:only-of-type {\n",
       "        vertical-align: middle;\n",
       "    }\n",
       "\n",
       "    .dataframe tbody tr th {\n",
       "        vertical-align: top;\n",
       "    }\n",
       "\n",
       "    .dataframe thead th {\n",
       "        text-align: right;\n",
       "    }\n",
       "</style>\n",
       "<table border=\"1\" class=\"dataframe\">\n",
       "  <thead>\n",
       "    <tr style=\"text-align: right;\">\n",
       "      <th></th>\n",
       "      <th>Title</th>\n",
       "      <th>Genre</th>\n",
       "      <th>Director</th>\n",
       "      <th>Cast</th>\n",
       "      <th>Year</th>\n",
       "      <th>Runtime</th>\n",
       "      <th>Rating</th>\n",
       "      <th>Revenue</th>\n",
       "      <th>CountableRevenue</th>\n",
       "    </tr>\n",
       "  </thead>\n",
       "  <tbody>\n",
       "    <tr>\n",
       "      <th>0</th>\n",
       "      <td>Guardians of the Galaxy</td>\n",
       "      <td>Action,Adventure,Sci-Fi</td>\n",
       "      <td>James Gunn</td>\n",
       "      <td>Chris Pratt, Vin Diesel, Bradley Cooper, Zoe S...</td>\n",
       "      <td>2014</td>\n",
       "      <td>121</td>\n",
       "      <td>8.1</td>\n",
       "      <td>333.13</td>\n",
       "      <td>333130000.0</td>\n",
       "    </tr>\n",
       "    <tr>\n",
       "      <th>1</th>\n",
       "      <td>Prometheus</td>\n",
       "      <td>Adventure,Mystery,Sci-Fi</td>\n",
       "      <td>Ridley Scott</td>\n",
       "      <td>Noomi Rapace, Logan Marshall-Green, Michael   ...</td>\n",
       "      <td>2012</td>\n",
       "      <td>124</td>\n",
       "      <td>7.0</td>\n",
       "      <td>126.46M</td>\n",
       "      <td>126460000.0</td>\n",
       "    </tr>\n",
       "    <tr>\n",
       "      <th>2</th>\n",
       "      <td>Split</td>\n",
       "      <td>Horror,Thriller</td>\n",
       "      <td>M. Night Shyamalan</td>\n",
       "      <td>James McAvoy, Anya Taylor-Joy, Haley Lu Richar...</td>\n",
       "      <td>2016</td>\n",
       "      <td>117</td>\n",
       "      <td>7.3</td>\n",
       "      <td>138.12M</td>\n",
       "      <td>138120000.0</td>\n",
       "    </tr>\n",
       "    <tr>\n",
       "      <th>3</th>\n",
       "      <td>Sing</td>\n",
       "      <td>Animation,Comedy,Family</td>\n",
       "      <td>Christophe Lourdelet</td>\n",
       "      <td>Matthew McConaughey,Reese Witherspoon, Seth Ma...</td>\n",
       "      <td>2016</td>\n",
       "      <td>108</td>\n",
       "      <td>7.2</td>\n",
       "      <td>270.32</td>\n",
       "      <td>270320000.0</td>\n",
       "    </tr>\n",
       "    <tr>\n",
       "      <th>4</th>\n",
       "      <td>Suicide Squad</td>\n",
       "      <td>Action,Adventure,Fantasy</td>\n",
       "      <td>David Ayer</td>\n",
       "      <td>Will Smith, Jared Leto, Margot Robbie, Viola D...</td>\n",
       "      <td>2016</td>\n",
       "      <td>123</td>\n",
       "      <td>6.2</td>\n",
       "      <td>325.02</td>\n",
       "      <td>325020000.0</td>\n",
       "    </tr>\n",
       "    <tr>\n",
       "      <th>...</th>\n",
       "      <td>...</td>\n",
       "      <td>...</td>\n",
       "      <td>...</td>\n",
       "      <td>...</td>\n",
       "      <td>...</td>\n",
       "      <td>...</td>\n",
       "      <td>...</td>\n",
       "      <td>...</td>\n",
       "      <td>...</td>\n",
       "    </tr>\n",
       "    <tr>\n",
       "      <th>1063</th>\n",
       "      <td>Guardians of the Galaxy Vol. 2</td>\n",
       "      <td>Action, Adventure, Comedy</td>\n",
       "      <td>James Gunn</td>\n",
       "      <td>Chris Pratt, Zoe Saldana, Dave Bautista, Vin D...</td>\n",
       "      <td>2017</td>\n",
       "      <td>136</td>\n",
       "      <td>7.6</td>\n",
       "      <td>389.81</td>\n",
       "      <td>389810000.0</td>\n",
       "    </tr>\n",
       "    <tr>\n",
       "      <th>1064</th>\n",
       "      <td>Baby Driver</td>\n",
       "      <td>Action, Crime, Drama</td>\n",
       "      <td>Edgar Wright</td>\n",
       "      <td>Ansel Elgort, Jon Bernthal, Jon Hamm, Eiza Gon...</td>\n",
       "      <td>2017</td>\n",
       "      <td>113</td>\n",
       "      <td>7.6</td>\n",
       "      <td>107.83</td>\n",
       "      <td>107830000.0</td>\n",
       "    </tr>\n",
       "    <tr>\n",
       "      <th>1065</th>\n",
       "      <td>Only the Brave</td>\n",
       "      <td>Action, Biography, Drama</td>\n",
       "      <td>Joseph Kosinski</td>\n",
       "      <td>Josh Brolin, Miles Teller, Jeff Bridges, Jenni...</td>\n",
       "      <td>2017</td>\n",
       "      <td>134</td>\n",
       "      <td>7.6</td>\n",
       "      <td>18.34</td>\n",
       "      <td>18340000.0</td>\n",
       "    </tr>\n",
       "    <tr>\n",
       "      <th>1066</th>\n",
       "      <td>Incredibles 2</td>\n",
       "      <td>Animation, Action, Adventure</td>\n",
       "      <td>Brad Bird</td>\n",
       "      <td>Craig T. Nelson, Holly Hunter, Sarah Vowell, H...</td>\n",
       "      <td>2018</td>\n",
       "      <td>118</td>\n",
       "      <td>7.6</td>\n",
       "      <td>608.58</td>\n",
       "      <td>608580000.0</td>\n",
       "    </tr>\n",
       "    <tr>\n",
       "      <th>1067</th>\n",
       "      <td>A Star Is Born</td>\n",
       "      <td>Drama, Music, Romance</td>\n",
       "      <td>Bradley Cooper</td>\n",
       "      <td>Lady Gaga, Bradley Cooper, Sam Elliott, Greg G...</td>\n",
       "      <td>2018</td>\n",
       "      <td>136</td>\n",
       "      <td>7.6</td>\n",
       "      <td>215.29</td>\n",
       "      <td>215290000.0</td>\n",
       "    </tr>\n",
       "  </tbody>\n",
       "</table>\n",
       "<p>1068 rows × 9 columns</p>\n",
       "</div>"
      ],
      "text/plain": [
       "                               Title                         Genre  \\\n",
       "0            Guardians of the Galaxy       Action,Adventure,Sci-Fi   \n",
       "1                         Prometheus      Adventure,Mystery,Sci-Fi   \n",
       "2                              Split               Horror,Thriller   \n",
       "3                               Sing       Animation,Comedy,Family   \n",
       "4                      Suicide Squad      Action,Adventure,Fantasy   \n",
       "...                              ...                           ...   \n",
       "1063  Guardians of the Galaxy Vol. 2     Action, Adventure, Comedy   \n",
       "1064                     Baby Driver          Action, Crime, Drama   \n",
       "1065                  Only the Brave      Action, Biography, Drama   \n",
       "1066                   Incredibles 2  Animation, Action, Adventure   \n",
       "1067                  A Star Is Born         Drama, Music, Romance   \n",
       "\n",
       "                  Director                                               Cast  \\\n",
       "0               James Gunn  Chris Pratt, Vin Diesel, Bradley Cooper, Zoe S...   \n",
       "1             Ridley Scott  Noomi Rapace, Logan Marshall-Green, Michael   ...   \n",
       "2       M. Night Shyamalan  James McAvoy, Anya Taylor-Joy, Haley Lu Richar...   \n",
       "3     Christophe Lourdelet  Matthew McConaughey,Reese Witherspoon, Seth Ma...   \n",
       "4               David Ayer  Will Smith, Jared Leto, Margot Robbie, Viola D...   \n",
       "...                    ...                                                ...   \n",
       "1063            James Gunn  Chris Pratt, Zoe Saldana, Dave Bautista, Vin D...   \n",
       "1064          Edgar Wright  Ansel Elgort, Jon Bernthal, Jon Hamm, Eiza Gon...   \n",
       "1065       Joseph Kosinski  Josh Brolin, Miles Teller, Jeff Bridges, Jenni...   \n",
       "1066             Brad Bird  Craig T. Nelson, Holly Hunter, Sarah Vowell, H...   \n",
       "1067        Bradley Cooper  Lady Gaga, Bradley Cooper, Sam Elliott, Greg G...   \n",
       "\n",
       "      Year  Runtime  Rating  Revenue  CountableRevenue  \n",
       "0     2014      121     8.1   333.13       333130000.0  \n",
       "1     2012      124     7.0  126.46M       126460000.0  \n",
       "2     2016      117     7.3  138.12M       138120000.0  \n",
       "3     2016      108     7.2   270.32       270320000.0  \n",
       "4     2016      123     6.2   325.02       325020000.0  \n",
       "...    ...      ...     ...      ...               ...  \n",
       "1063  2017      136     7.6   389.81       389810000.0  \n",
       "1064  2017      113     7.6   107.83       107830000.0  \n",
       "1065  2017      134     7.6    18.34        18340000.0  \n",
       "1066  2018      118     7.6   608.58       608580000.0  \n",
       "1067  2018      136     7.6   215.29       215290000.0  \n",
       "\n",
       "[1068 rows x 9 columns]"
      ]
     },
     "execution_count": 8,
     "metadata": {},
     "output_type": "execute_result"
    }
   ],
   "source": [
    "# Warmup 3b: Using the above function, create a new column called\n",
    "#            \"CountableRevenue\" with the revenue as a float.\n",
    "\n",
    "movies[\"CountableRevenue\"] = movies[\"Revenue\"].apply(format_revenue)\n",
    "movies"
   ]
  },
  {
   "cell_type": "code",
   "execution_count": 11,
   "metadata": {},
   "outputs": [
    {
     "data": {
      "text/html": [
       "<div>\n",
       "<style scoped>\n",
       "    .dataframe tbody tr th:only-of-type {\n",
       "        vertical-align: middle;\n",
       "    }\n",
       "\n",
       "    .dataframe tbody tr th {\n",
       "        vertical-align: top;\n",
       "    }\n",
       "\n",
       "    .dataframe thead th {\n",
       "        text-align: right;\n",
       "    }\n",
       "</style>\n",
       "<table border=\"1\" class=\"dataframe\">\n",
       "  <thead>\n",
       "    <tr style=\"text-align: right;\">\n",
       "      <th></th>\n",
       "      <th>Title</th>\n",
       "      <th>Genre</th>\n",
       "      <th>Director</th>\n",
       "      <th>Cast</th>\n",
       "      <th>Year</th>\n",
       "      <th>Runtime</th>\n",
       "      <th>Rating</th>\n",
       "      <th>Revenue</th>\n",
       "      <th>CountableRevenue</th>\n",
       "    </tr>\n",
       "  </thead>\n",
       "  <tbody>\n",
       "    <tr>\n",
       "      <th>50</th>\n",
       "      <td>Star Wars: Episode VII - The Force Awakens</td>\n",
       "      <td>Action,Adventure,Fantasy</td>\n",
       "      <td>J.J. Abrams</td>\n",
       "      <td>Daisy Ridley, John Boyega, Oscar Isaac, Domhna...</td>\n",
       "      <td>2015</td>\n",
       "      <td>136</td>\n",
       "      <td>8.1</td>\n",
       "      <td>936.63</td>\n",
       "      <td>936630000.0</td>\n",
       "    </tr>\n",
       "    <tr>\n",
       "      <th>1006</th>\n",
       "      <td>Avengers: Endgame</td>\n",
       "      <td>Action, Adventure, Drama</td>\n",
       "      <td>Anthony Russo</td>\n",
       "      <td>Joe Russo, Robert Downey Jr., Chris Evans, Mar...</td>\n",
       "      <td>2019</td>\n",
       "      <td>181</td>\n",
       "      <td>8.4</td>\n",
       "      <td>858.37</td>\n",
       "      <td>858370000.0</td>\n",
       "    </tr>\n",
       "    <tr>\n",
       "      <th>87</th>\n",
       "      <td>Avatar</td>\n",
       "      <td>Action,Adventure,Fantasy</td>\n",
       "      <td>James Cameron</td>\n",
       "      <td>Sam Worthington, Zoe Saldana, Sigourney Weaver...</td>\n",
       "      <td>2009</td>\n",
       "      <td>162</td>\n",
       "      <td>7.8</td>\n",
       "      <td>760.51</td>\n",
       "      <td>760510000.0</td>\n",
       "    </tr>\n",
       "    <tr>\n",
       "      <th>1007</th>\n",
       "      <td>Avengers: Infinity War</td>\n",
       "      <td>Action, Adventure, Sci-Fi</td>\n",
       "      <td>Anthony Russo</td>\n",
       "      <td>Joe Russo, Robert Downey Jr., Chris Hemsworth,...</td>\n",
       "      <td>2018</td>\n",
       "      <td>149</td>\n",
       "      <td>8.4</td>\n",
       "      <td>678.82</td>\n",
       "      <td>678820000.0</td>\n",
       "    </tr>\n",
       "    <tr>\n",
       "      <th>85</th>\n",
       "      <td>Jurassic World</td>\n",
       "      <td>Action,Adventure,Sci-Fi</td>\n",
       "      <td>Colin Trevorrow</td>\n",
       "      <td>Chris Pratt, Bryce Dallas Howard, Ty Simpkins,...</td>\n",
       "      <td>2015</td>\n",
       "      <td>124</td>\n",
       "      <td>7.0</td>\n",
       "      <td>652.18</td>\n",
       "      <td>652180000.0</td>\n",
       "    </tr>\n",
       "    <tr>\n",
       "      <th>76</th>\n",
       "      <td>The Avengers</td>\n",
       "      <td>Action,Sci-Fi</td>\n",
       "      <td>Joss Whedon</td>\n",
       "      <td>Robert Downey Jr., Chris Evans, Scarlett Johan...</td>\n",
       "      <td>2012</td>\n",
       "      <td>143</td>\n",
       "      <td>8.1</td>\n",
       "      <td>623.28</td>\n",
       "      <td>623280000.0</td>\n",
       "    </tr>\n",
       "    <tr>\n",
       "      <th>998</th>\n",
       "      <td>Hamilton</td>\n",
       "      <td>Biography, Drama, History</td>\n",
       "      <td>Thomas Kail</td>\n",
       "      <td>Lin-Manuel Miranda, Phillipa Soo, Leslie Odom ...</td>\n",
       "      <td>2020</td>\n",
       "      <td>160</td>\n",
       "      <td>8.6</td>\n",
       "      <td>612.82</td>\n",
       "      <td>612820000.0</td>\n",
       "    </tr>\n",
       "    <tr>\n",
       "      <th>1066</th>\n",
       "      <td>Incredibles 2</td>\n",
       "      <td>Animation, Action, Adventure</td>\n",
       "      <td>Brad Bird</td>\n",
       "      <td>Craig T. Nelson, Holly Hunter, Sarah Vowell, H...</td>\n",
       "      <td>2018</td>\n",
       "      <td>118</td>\n",
       "      <td>7.6</td>\n",
       "      <td>608.58</td>\n",
       "      <td>608580000.0</td>\n",
       "    </tr>\n",
       "    <tr>\n",
       "      <th>54</th>\n",
       "      <td>The Dark Knight</td>\n",
       "      <td>Action,Crime,Drama</td>\n",
       "      <td>Christopher Nolan</td>\n",
       "      <td>Christian Bale, Heath Ledger, Aaron Eckhart,Mi...</td>\n",
       "      <td>2008</td>\n",
       "      <td>152</td>\n",
       "      <td>9.0</td>\n",
       "      <td>533.32</td>\n",
       "      <td>533320000.0</td>\n",
       "    </tr>\n",
       "    <tr>\n",
       "      <th>12</th>\n",
       "      <td>Rogue One</td>\n",
       "      <td>Action,Adventure,Sci-Fi</td>\n",
       "      <td>Gareth Edwards</td>\n",
       "      <td>Felicity Jones, Diego Luna, Alan Tudyk, Donnie...</td>\n",
       "      <td>2016</td>\n",
       "      <td>133</td>\n",
       "      <td>7.9</td>\n",
       "      <td>532.17</td>\n",
       "      <td>532170000.0</td>\n",
       "    </tr>\n",
       "  </tbody>\n",
       "</table>\n",
       "</div>"
      ],
      "text/plain": [
       "                                           Title  \\\n",
       "50    Star Wars: Episode VII - The Force Awakens   \n",
       "1006                           Avengers: Endgame   \n",
       "87                                        Avatar   \n",
       "1007                      Avengers: Infinity War   \n",
       "85                                Jurassic World   \n",
       "76                                  The Avengers   \n",
       "998                                     Hamilton   \n",
       "1066                               Incredibles 2   \n",
       "54                               The Dark Knight   \n",
       "12                                     Rogue One   \n",
       "\n",
       "                             Genre           Director  \\\n",
       "50        Action,Adventure,Fantasy        J.J. Abrams   \n",
       "1006      Action, Adventure, Drama      Anthony Russo   \n",
       "87        Action,Adventure,Fantasy      James Cameron   \n",
       "1007     Action, Adventure, Sci-Fi      Anthony Russo   \n",
       "85         Action,Adventure,Sci-Fi    Colin Trevorrow   \n",
       "76                   Action,Sci-Fi        Joss Whedon   \n",
       "998      Biography, Drama, History        Thomas Kail   \n",
       "1066  Animation, Action, Adventure          Brad Bird   \n",
       "54              Action,Crime,Drama  Christopher Nolan   \n",
       "12         Action,Adventure,Sci-Fi     Gareth Edwards   \n",
       "\n",
       "                                                   Cast  Year  Runtime  \\\n",
       "50    Daisy Ridley, John Boyega, Oscar Isaac, Domhna...  2015      136   \n",
       "1006  Joe Russo, Robert Downey Jr., Chris Evans, Mar...  2019      181   \n",
       "87    Sam Worthington, Zoe Saldana, Sigourney Weaver...  2009      162   \n",
       "1007  Joe Russo, Robert Downey Jr., Chris Hemsworth,...  2018      149   \n",
       "85    Chris Pratt, Bryce Dallas Howard, Ty Simpkins,...  2015      124   \n",
       "76    Robert Downey Jr., Chris Evans, Scarlett Johan...  2012      143   \n",
       "998   Lin-Manuel Miranda, Phillipa Soo, Leslie Odom ...  2020      160   \n",
       "1066  Craig T. Nelson, Holly Hunter, Sarah Vowell, H...  2018      118   \n",
       "54    Christian Bale, Heath Ledger, Aaron Eckhart,Mi...  2008      152   \n",
       "12    Felicity Jones, Diego Luna, Alan Tudyk, Donnie...  2016      133   \n",
       "\n",
       "      Rating Revenue  CountableRevenue  \n",
       "50       8.1  936.63       936630000.0  \n",
       "1006     8.4  858.37       858370000.0  \n",
       "87       7.8  760.51       760510000.0  \n",
       "1007     8.4  678.82       678820000.0  \n",
       "85       7.0  652.18       652180000.0  \n",
       "76       8.1  623.28       623280000.0  \n",
       "998      8.6  612.82       612820000.0  \n",
       "1066     7.6  608.58       608580000.0  \n",
       "54       9.0  533.32       533320000.0  \n",
       "12       7.9  532.17       532170000.0  "
      ]
     },
     "execution_count": 11,
     "metadata": {},
     "output_type": "execute_result"
    }
   ],
   "source": [
    "# Warmup 4: What are the top 10 highest-revenue movies?\n",
    "\n",
    "movies.sort_values(by=\"CountableRevenue\", ascending=False).head(10)"
   ]
  },
  {
   "cell_type": "markdown",
   "metadata": {},
   "source": [
    "# Lecture 29: Web 1 - Getting Data\n",
    "Learning Objectives\n",
    "\n",
    "- Make a request for data using `requests.get(URL)`\n",
    "- Check the status of a request/response\n",
    "- Extract the text of a response\n",
    "- Create a json file from a response\n",
    "- State and practice good etiquette when getting data"
   ]
  },
  {
   "cell_type": "markdown",
   "metadata": {},
   "source": [
    "## Make a request for data using `requests.get(URL)`\n",
    "- URL: https://www.msyamkumar.com/hello.txt"
   ]
  },
  {
   "cell_type": "code",
   "execution_count": 12,
   "metadata": {},
   "outputs": [
    {
     "name": "stdout",
     "output_type": "stream",
     "text": [
      "200\n",
      "Hello CS220 / CS319 students! Welcome to my website. Hope you are staying safe and healthy!\n",
      "\n"
     ]
    }
   ],
   "source": [
    "url = \"https://www.msyamkumar.com/hello.txt\"\n",
    "r = requests.get(url)        # r is the response\n",
    "print(r.status_code)\n",
    "print(r.text)"
   ]
  },
  {
   "cell_type": "markdown",
   "metadata": {},
   "source": [
    "### HTTP Status Codes  you need to know\n",
    "\n",
    "- 200:  success\n",
    "- 404:  not found\n",
    "\n",
    "Here is a list of all status codes, you do NOT need to memorize it\n",
    "\n",
    "https://en.wikipedia.org/wiki/List_of_HTTP_status_codes"
   ]
  },
  {
   "cell_type": "code",
   "execution_count": 14,
   "metadata": {},
   "outputs": [
    {
     "name": "stdout",
     "output_type": "stream",
     "text": [
      "404\n",
      "<?xml version=\"1.0\" encoding=\"UTF-8\"?>\n",
      "<Error><Code>NoSuchKey</Code><Message>The specified key does not exist.</Message><Key>meena/hello.txttttt</Key><RequestId>ZDQSDZQ6TJAKD3C5</RequestId><HostId>LxtxISgRp+SMDtG6Gez9rK+f2WZNyVyKQLU84qhxWPgYpF1A1clkGu3mfKiLQ4Lwe5lhoEXcxE0=</HostId></Error>\n"
     ]
    }
   ],
   "source": [
    "# Q: What if the web file does not exist?\n",
    "typo_url = \"https://www.msyamkumar.com/hello.txttttt\"\n",
    "r = requests.get(typo_url)\n",
    "print(r.status_code)\n",
    "print(r.text)\n",
    "\n",
    "# A: We get a 404 (client error)\n",
    "# A: we get text, but the text is not from the client"
   ]
  },
  {
   "cell_type": "markdown",
   "metadata": {},
   "source": [
    "## Check the status of a request/response\n"
   ]
  },
  {
   "cell_type": "code",
   "execution_count": 15,
   "metadata": {},
   "outputs": [
    {
     "name": "stdout",
     "output_type": "stream",
     "text": [
      "404\n"
     ]
    },
    {
     "ename": "AssertionError",
     "evalue": "",
     "output_type": "error",
     "traceback": [
      "\u001b[0;31m---------------------------------------------------------------------------\u001b[0m",
      "\u001b[0;31mAssertionError\u001b[0m                            Traceback (most recent call last)",
      "\u001b[0;32m<ipython-input-15-820306369677>\u001b[0m in \u001b[0;36m<module>\u001b[0;34m\u001b[0m\n\u001b[1;32m      3\u001b[0m \u001b[0mr\u001b[0m \u001b[0;34m=\u001b[0m \u001b[0mrequests\u001b[0m\u001b[0;34m.\u001b[0m\u001b[0mget\u001b[0m\u001b[0;34m(\u001b[0m\u001b[0mtypo_url\u001b[0m\u001b[0;34m)\u001b[0m\u001b[0;34m\u001b[0m\u001b[0;34m\u001b[0m\u001b[0m\n\u001b[1;32m      4\u001b[0m \u001b[0mprint\u001b[0m\u001b[0;34m(\u001b[0m\u001b[0mr\u001b[0m\u001b[0;34m.\u001b[0m\u001b[0mstatus_code\u001b[0m\u001b[0;34m)\u001b[0m\u001b[0;34m\u001b[0m\u001b[0;34m\u001b[0m\u001b[0m\n\u001b[0;32m----> 5\u001b[0;31m \u001b[0;32massert\u001b[0m \u001b[0mr\u001b[0m\u001b[0;34m.\u001b[0m\u001b[0mstatus_code\u001b[0m \u001b[0;34m==\u001b[0m \u001b[0;36m200\u001b[0m                 \u001b[0;31m# change this\u001b[0m\u001b[0;34m\u001b[0m\u001b[0;34m\u001b[0m\u001b[0m\n\u001b[0m\u001b[1;32m      6\u001b[0m \u001b[0mprint\u001b[0m\u001b[0;34m(\u001b[0m\u001b[0mr\u001b[0m\u001b[0;34m.\u001b[0m\u001b[0mtext\u001b[0m\u001b[0;34m)\u001b[0m\u001b[0;34m\u001b[0m\u001b[0;34m\u001b[0m\u001b[0m\n",
      "\u001b[0;31mAssertionError\u001b[0m: "
     ]
    }
   ],
   "source": [
    "# We can check for a status_code error by using an assert\n",
    "typo_url = \"https://www.msyamkumar.com/hello.txttttt\"\n",
    "r = requests.get(typo_url)\n",
    "print(r.status_code)\n",
    "assert r.status_code == 200                 # change this\n",
    "print(r.text)\n"
   ]
  },
  {
   "cell_type": "code",
   "execution_count": 16,
   "metadata": {},
   "outputs": [
    {
     "ename": "HTTPError",
     "evalue": "404 Client Error: Not Found for url: https://www.msyamkumar.com/hello.txttttt",
     "output_type": "error",
     "traceback": [
      "\u001b[0;31m---------------------------------------------------------------------------\u001b[0m",
      "\u001b[0;31mHTTPError\u001b[0m                                 Traceback (most recent call last)",
      "\u001b[0;32m<ipython-input-16-d0650f24c881>\u001b[0m in \u001b[0;36m<module>\u001b[0;34m\u001b[0m\n\u001b[1;32m      1\u001b[0m \u001b[0;31m# Instead of using an assert, we often use raise_for_status()\u001b[0m\u001b[0;34m\u001b[0m\u001b[0;34m\u001b[0m\u001b[0;34m\u001b[0m\u001b[0m\n\u001b[1;32m      2\u001b[0m \u001b[0mr\u001b[0m \u001b[0;34m=\u001b[0m \u001b[0mrequests\u001b[0m\u001b[0;34m.\u001b[0m\u001b[0mget\u001b[0m\u001b[0;34m(\u001b[0m\u001b[0mtypo_url\u001b[0m\u001b[0;34m)\u001b[0m\u001b[0;34m\u001b[0m\u001b[0;34m\u001b[0m\u001b[0m\n\u001b[0;32m----> 3\u001b[0;31m \u001b[0mr\u001b[0m\u001b[0;34m.\u001b[0m\u001b[0mraise_for_status\u001b[0m\u001b[0;34m(\u001b[0m\u001b[0;34m)\u001b[0m \u001b[0;31m#similar to asserting r.status_code == 200\u001b[0m\u001b[0;34m\u001b[0m\u001b[0;34m\u001b[0m\u001b[0m\n\u001b[0m\u001b[1;32m      4\u001b[0m \u001b[0mr\u001b[0m\u001b[0;34m.\u001b[0m\u001b[0mtext\u001b[0m\u001b[0;34m\u001b[0m\u001b[0;34m\u001b[0m\u001b[0m\n\u001b[1;32m      5\u001b[0m \u001b[0;34m\u001b[0m\u001b[0m\n",
      "\u001b[0;32m/Library/Frameworks/Python.framework/Versions/3.9/lib/python3.9/site-packages/requests/models.py\u001b[0m in \u001b[0;36mraise_for_status\u001b[0;34m(self)\u001b[0m\n\u001b[1;32m    941\u001b[0m \u001b[0;34m\u001b[0m\u001b[0m\n\u001b[1;32m    942\u001b[0m         \u001b[0;32mif\u001b[0m \u001b[0mhttp_error_msg\u001b[0m\u001b[0;34m:\u001b[0m\u001b[0;34m\u001b[0m\u001b[0;34m\u001b[0m\u001b[0m\n\u001b[0;32m--> 943\u001b[0;31m             \u001b[0;32mraise\u001b[0m \u001b[0mHTTPError\u001b[0m\u001b[0;34m(\u001b[0m\u001b[0mhttp_error_msg\u001b[0m\u001b[0;34m,\u001b[0m \u001b[0mresponse\u001b[0m\u001b[0;34m=\u001b[0m\u001b[0mself\u001b[0m\u001b[0;34m)\u001b[0m\u001b[0;34m\u001b[0m\u001b[0;34m\u001b[0m\u001b[0m\n\u001b[0m\u001b[1;32m    944\u001b[0m \u001b[0;34m\u001b[0m\u001b[0m\n\u001b[1;32m    945\u001b[0m     \u001b[0;32mdef\u001b[0m \u001b[0mclose\u001b[0m\u001b[0;34m(\u001b[0m\u001b[0mself\u001b[0m\u001b[0;34m)\u001b[0m\u001b[0;34m:\u001b[0m\u001b[0;34m\u001b[0m\u001b[0;34m\u001b[0m\u001b[0m\n",
      "\u001b[0;31mHTTPError\u001b[0m: 404 Client Error: Not Found for url: https://www.msyamkumar.com/hello.txttttt"
     ]
    }
   ],
   "source": [
    "# Instead of using an assert, we often use raise_for_status()\n",
    "r = requests.get(typo_url)\n",
    "r.raise_for_status() #similar to asserting r.status_code == 200\n",
    "r.text\n",
    "\n",
    "# Note the error you get.... We will use this in the next cell"
   ]
  },
  {
   "cell_type": "code",
   "execution_count": 18,
   "metadata": {},
   "outputs": [
    {
     "name": "stdout",
     "output_type": "stream",
     "text": [
      "oops!! 404 Client Error: Not Found for url: https://www.msyamkumar.com/hello.txttttt\n"
     ]
    }
   ],
   "source": [
    "# Let's try to catch that error\n",
    "\n",
    "try:\n",
    "    r = requests.get(typo_url)\n",
    "    r.raise_for_status() #similar to asserting r.status_code == 200\n",
    "    r.text\n",
    "except requests.HTTPError as e:\n",
    "    print(\"oops!!\", e)\n",
    "    "
   ]
  },
  {
   "cell_type": "markdown",
   "metadata": {},
   "source": [
    "## Create a json file from a response\n",
    "\n",
    "- URL: https://www.msyamkumar.com/scores.json\n",
    "- `json.load` (FILE_OBJECT)\n",
    "- `json.loads` (STRING)"
   ]
  },
  {
   "cell_type": "code",
   "execution_count": 19,
   "metadata": {},
   "outputs": [
    {
     "name": "stdout",
     "output_type": "stream",
     "text": [
      "{\n",
      "  \"alice\": 100,\n",
      "  \"bob\": 200,\n",
      "  \"cindy\": 300\n",
      "}\n",
      "\n",
      "<class 'dict'> {'alice': 100, 'bob': 200, 'cindy': 300}\n"
     ]
    }
   ],
   "source": [
    "# GETting a JSON file, the long way\n",
    "url = \"https://www.msyamkumar.com/scores.json\"\n",
    "r = requests.get(url)\n",
    "r.raise_for_status()\n",
    "urltext = r.text\n",
    "print(urltext)\n",
    "d = json.loads(urltext)\n",
    "print(type(d), d)"
   ]
  },
  {
   "cell_type": "code",
   "execution_count": 20,
   "metadata": {},
   "outputs": [
    {
     "name": "stdout",
     "output_type": "stream",
     "text": [
      "<class 'dict'> {'alice': 100, 'bob': 200, 'cindy': 300}\n"
     ]
    }
   ],
   "source": [
    "# GETting a JSON file, the shortcut way\n",
    "url = \"https://www.msyamkumar.com/scores.json\"\n",
    "#Shortcut to bypass using json.loads()\n",
    "r = requests.get(url)\n",
    "r.raise_for_status()\n",
    "d2 = r.json()\n",
    "print(type(d2), d2)"
   ]
  },
  {
   "cell_type": "markdown",
   "metadata": {},
   "source": [
    "## Good GET Etiquette\n",
    "\n",
    "Don't make a lot of requests to the same server all at once.\n",
    " - Requests use up the server's time\n",
    " - Major websites will often ban users who make too many requests\n",
    " - You can break a server....similar to DDoS attacks (DON'T DO THIS)\n",
    " \n",
    "In CS220 we will usually give you a link to a copied file to avoid overloading the site.\n"
   ]
  },
  {
   "cell_type": "markdown",
   "metadata": {},
   "source": [
    "## DEMO: Course Enrollment"
   ]
  },
  {
   "cell_type": "markdown",
   "metadata": {},
   "source": [
    "Explore the API!\n",
    "\n",
    "https://coletnelson.us/cs220-api/classes\n",
    "\n",
    "https://coletnelson.us/cs220-api/classes_as_txt\n",
    "\n",
    "https://coletnelson.us/cs220-api/classes/MATH_221\n",
    "\n",
    "https://coletnelson.us/cs220-api/classes/COMPSCI_200\n",
    "\n",
    "... etc\n",
    "\n",
    "https://coletnelson.us/cs220-api/all_data"
   ]
  },
  {
   "cell_type": "markdown",
   "metadata": {},
   "source": [
    "### Get the list of classes."
   ]
  },
  {
   "cell_type": "markdown",
   "metadata": {},
   "source": [
    "#### When the data is `json`"
   ]
  },
  {
   "cell_type": "code",
   "execution_count": 21,
   "metadata": {},
   "outputs": [
    {
     "name": "stdout",
     "output_type": "stream",
     "text": [
      "<class 'list'>\n",
      "['PSYCH_202', 'COMPSCI_537', 'COMPSCI_300', 'CHEM_104', 'COMPSCI_200', 'MATH_114', 'PSYCH_456', 'COMPSCI_252', 'COMPSCI_400', 'MATH_221', 'BIOLOGY_101', 'COMPSCI_354', 'CHEM_103', 'COMPSCI_639', 'PSYCH_401', 'COMPSCI_240', 'STATS_302']\n"
     ]
    }
   ],
   "source": [
    "url = \"https://coletnelson.us/cs220-api/classes\"\n",
    "r = requests.get(url)\n",
    "r.raise_for_status()\n",
    "classes_list = r.json() # what goes here? \n",
    "print(type(classes_list))\n",
    "print(classes_list)"
   ]
  },
  {
   "cell_type": "markdown",
   "metadata": {},
   "source": [
    "#### When the data is `text`"
   ]
  },
  {
   "cell_type": "code",
   "execution_count": null,
   "metadata": {},
   "outputs": [],
   "source": [
    "url = \"https://coletnelson.us/cs220-api/classes_as_txt\"\n",
    "r = requests.get(url)\n",
    "r.raise_for_status()\n",
    "classes_txt = None  # what goes here? \n",
    "print(type(classes_txt))\n",
    "print(classes_txt)"
   ]
  },
  {
   "cell_type": "markdown",
   "metadata": {},
   "source": [
    "### Get data for a specific class"
   ]
  },
  {
   "cell_type": "code",
   "execution_count": 29,
   "metadata": {},
   "outputs": [],
   "source": [
    "# Work-around: Read the data in as a JSON file\n",
    "# use this function\n",
    "\n",
    "\n",
    "# Deserialize\n",
    "def read_json(path):\n",
    "    with open(path, encoding=\"utf-8\") as f: # f is a varaible \n",
    "        return json.load(f)                 # f represents a reference the JSON file\n",
    "    \n",
    "    \n",
    "# Serialize\n",
    "def write_json(path, data):\n",
    "    with open(path, 'w', encoding=\"utf-8\") as f:\n",
    "        json.dump(data, f, indent=2)\n"
   ]
  },
  {
   "cell_type": "code",
   "execution_count": 34,
   "metadata": {},
   "outputs": [
    {
     "data": {
      "text/plain": [
       "8"
      ]
     },
     "execution_count": 34,
     "metadata": {},
     "output_type": "execute_result"
    }
   ],
   "source": [
    "#read this data from the json file:\n",
    "cs200_data = read_json(\"cs200_data.json\")\n",
    "len(cs200_data)"
   ]
  },
  {
   "cell_type": "code",
   "execution_count": 38,
   "metadata": {},
   "outputs": [
    {
     "data": {
      "text/plain": [
       "dict_keys(['credits', 'description', 'keywords', 'name', 'number', 'requisites', 'sections', 'subject'])"
      ]
     },
     "execution_count": 38,
     "metadata": {},
     "output_type": "execute_result"
    }
   ],
   "source": [
    "cs200_data.keys()"
   ]
  },
  {
   "cell_type": "code",
   "execution_count": null,
   "metadata": {},
   "outputs": [],
   "source": [
    "# Get the number of credits the course is worth\n"
   ]
  },
  {
   "cell_type": "code",
   "execution_count": null,
   "metadata": {},
   "outputs": [],
   "source": [
    "# Get the list of keywords for the course\n"
   ]
  },
  {
   "cell_type": "code",
   "execution_count": null,
   "metadata": {},
   "outputs": [],
   "source": [
    "# Get the official course name\n"
   ]
  },
  {
   "cell_type": "code",
   "execution_count": null,
   "metadata": {},
   "outputs": [],
   "source": [
    "# Get the number of sections offered.\n"
   ]
  },
  {
   "cell_type": "code",
   "execution_count": 24,
   "metadata": {
    "scrolled": true
   },
   "outputs": [
    {
     "name": "stdout",
     "output_type": "stream",
     "text": [
      "17\n"
     ]
    }
   ],
   "source": [
    "print(len(all_class_data))"
   ]
  },
  {
   "cell_type": "code",
   "execution_count": 36,
   "metadata": {},
   "outputs": [],
   "source": [
    "# write it out to a json file locally\n",
    "write_json(\"all_class_data.json\", all_class_data)"
   ]
  },
  {
   "cell_type": "code",
   "execution_count": 40,
   "metadata": {},
   "outputs": [
    {
     "data": {
      "text/plain": [
       "17"
      ]
     },
     "execution_count": 40,
     "metadata": {},
     "output_type": "execute_result"
    }
   ],
   "source": [
    "# read in the all_class data as a json file\n",
    "all_class_data = read_json(\"all_class_data.json\")\n",
    "len(all_class_data)"
   ]
  },
  {
   "cell_type": "code",
   "execution_count": 43,
   "metadata": {},
   "outputs": [
    {
     "data": {
      "text/plain": [
       "list"
      ]
     },
     "execution_count": 43,
     "metadata": {},
     "output_type": "execute_result"
    }
   ],
   "source": [
    "type(all_class_data)"
   ]
  },
  {
   "cell_type": "code",
   "execution_count": 44,
   "metadata": {},
   "outputs": [
    {
     "data": {
      "text/plain": [
       "{'credits': 3,\n",
       " 'description': 'Behavior, including its development, motivation, frustrations, emotion, intelligence, learning, forgetting, personality, language, thinking, and social behavior.',\n",
       " 'keywords': ['psychology', 'behavior', 'emotion', 'intelligence', 'brain'],\n",
       " 'name': 'Introduction to Psychology',\n",
       " 'number': 'PSYCH_202',\n",
       " 'requisites': [],\n",
       " 'sections': [{'instructor': 'Jeff Henriques',\n",
       "   'location': '105 Brogden Psychology Building',\n",
       "   'subsections': [],\n",
       "   'time': {'thursday': '9:30am - 10:45am', 'tuesday': '9:30am - 10:45am'},\n",
       "   'number': 'LEC_001'},\n",
       "  {'instructor': 'Jeff Henriques',\n",
       "   'location': '105 Brogden Psychology Building',\n",
       "   'subsections': [],\n",
       "   'time': {'thursday': '11:00am - 12:15pm', 'tuesday': '11:00am - 12:15pm'},\n",
       "   'number': 'LEC_002'},\n",
       "  {'instructor': 'C. Shawn Green',\n",
       "   'location': '105 Brogden Psychology Building',\n",
       "   'subsections': [],\n",
       "   'time': {'monday': '8:00am - 9:15am', 'wednesday': '8:00am - 9:15am'},\n",
       "   'number': 'LEC_003'},\n",
       "  {'instructor': 'Patti Coffey',\n",
       "   'location': '105 Brogden Psychology Building',\n",
       "   'subsections': [],\n",
       "   'time': {'thursday': '1:00pm - 2:15pm', 'tuesday': '1:00pm - 2:15pm'},\n",
       "   'number': 'LEC_004'},\n",
       "  {'instructor': 'Sarah Gavac',\n",
       "   'location': '105 Brogden Psychology Building',\n",
       "   'subsections': [],\n",
       "   'time': {'thursday': '2:30pm - 3:45pm', 'tuesday': '2:30pm - 3:45pm'},\n",
       "   'number': 'LEC_005'},\n",
       "  {'instructor': 'Patti Coffey',\n",
       "   'location': '101 Brogden Psychology Building',\n",
       "   'subsections': [],\n",
       "   'time': {'thursday': '2:30pm - 3:45pm', 'tuesday': '2:30pm - 3:45pm'},\n",
       "   'number': 'LEC_006'},\n",
       "  {'instructor': 'Baoyu Wang',\n",
       "   'location': '105 Brogden Psychology Building',\n",
       "   'subsections': [],\n",
       "   'time': {'monday': '4:30pm - 5:15pm', 'wednesday': '4:30pm - 5:15pm'},\n",
       "   'number': 'LEC_009'}],\n",
       " 'subject': 'Psychology'}"
      ]
     },
     "execution_count": 44,
     "metadata": {},
     "output_type": "execute_result"
    }
   ],
   "source": [
    "# print out the first dictionary in this list\n",
    "all_class_data[0]"
   ]
  },
  {
   "cell_type": "code",
   "execution_count": 46,
   "metadata": {},
   "outputs": [
    {
     "name": "stdout",
     "output_type": "stream",
     "text": [
      "3 PSYCH_202 Introduction to Psychology\n",
      "4 COMPSCI_537 Introduction to Operating Systems\n",
      "3 COMPSCI_300 Programming 2\n",
      "5 CHEM_104 General Chemistry II\n",
      "3 COMPSCI_200 Programming 1\n",
      "5 MATH_114 Algebra and Trigonometry\n",
      "4 PSYCH_456 Introductory Social Psychology\n",
      "2 COMPSCI_252 Introduction to Computer Engineering\n",
      "3 COMPSCI_400 Programming 3\n",
      "5 MATH_221 Calculus and Analytical Geometry 1\n",
      "3 BIOLOGY_101 Animal Biology\n",
      "3 COMPSCI_354 Machine Organization and Programming\n",
      "4 CHEM_103 General Chemistry I\n",
      "3 COMPSCI_639 Building User Interfaces\n",
      "3 PSYCH_401 Psychology, Law, and Social Policy\n",
      "3 COMPSCI_240 Introduction To Discrete Mathematics\n",
      "3 STATS_302 Accelerated Introduction to Statistical Methods\n"
     ]
    }
   ],
   "source": [
    "# Print the number of credits, course number, and name for each class.\n",
    "for item in all_class_data:\n",
    "    print(item['credits'], item['number'], item['name'])"
   ]
  },
  {
   "cell_type": "code",
   "execution_count": null,
   "metadata": {},
   "outputs": [],
   "source": [
    "# What is the average number of credits per course?\n"
   ]
  },
  {
   "cell_type": "code",
   "execution_count": null,
   "metadata": {},
   "outputs": [],
   "source": [
    "# What are the unique subjects?\n"
   ]
  },
  {
   "cell_type": "code",
   "execution_count": null,
   "metadata": {},
   "outputs": [],
   "source": [
    "# Besides PYSCH 202, what are the course numbers of the courses\n",
    "# with the most sections offered (not including subsections)?\n",
    "high_courses = []\n",
    "high_sections = 0\n",
    "for spec_class in all_class_data:\n",
    "    pass\n",
    "high_courses"
   ]
  },
  {
   "cell_type": "markdown",
   "metadata": {},
   "source": [
    "### Can we make a Pandas dataframe? Yes!"
   ]
  },
  {
   "cell_type": "code",
   "execution_count": null,
   "metadata": {},
   "outputs": [],
   "source": [
    "all_course_frame = DataFrame(all_class_data)\n",
    "all_course_frame"
   ]
  },
  {
   "cell_type": "markdown",
   "metadata": {},
   "source": [
    "### We may want to do some \"plumbing\" with our data."
   ]
  },
  {
   "cell_type": "code",
   "execution_count": null,
   "metadata": {},
   "outputs": [],
   "source": [
    "# Remove the 'sections' and 'requisites' column.\n",
    "new_course_frame = all_course_frame.loc[:, \"credits\":\"number\"]\n",
    "new_course_frame[\"subject\"] = all_course_frame.loc[:, \"subject\"]\n",
    "new_course_frame"
   ]
  },
  {
   "cell_type": "code",
   "execution_count": null,
   "metadata": {},
   "outputs": [],
   "source": [
    "# Turn 'keywords' into a series of Strings and remove the '[', ']', '''\n",
    "new_course_frame[\"keywords\"] = new_course_frame[\"keywords\"].astype('string')\n",
    "new_course_frame[\"keywords\"] = new_course_frame[\"keywords\"].str.replace(\"[\", \"\", regex=False)\n",
    "new_course_frame[\"keywords\"] = new_course_frame[\"keywords\"].str.replace(\"]\", \"\", regex=False)\n",
    "new_course_frame[\"keywords\"] = new_course_frame[\"keywords\"].str.replace(\"'\", \"\", regex=False)\n",
    "new_course_frame"
   ]
  },
  {
   "cell_type": "markdown",
   "metadata": {},
   "source": [
    "### Pandas Operations"
   ]
  },
  {
   "cell_type": "code",
   "execution_count": null,
   "metadata": {},
   "outputs": [],
   "source": [
    "# What is the most number of credits a course offers?\n"
   ]
  },
  {
   "cell_type": "code",
   "execution_count": null,
   "metadata": {},
   "outputs": [],
   "source": [
    "# What is the least number of credits a course offers?\n"
   ]
  },
  {
   "cell_type": "code",
   "execution_count": null,
   "metadata": {},
   "outputs": [],
   "source": [
    "# What is the info for that course?\n"
   ]
  },
  {
   "cell_type": "code",
   "execution_count": null,
   "metadata": {},
   "outputs": [],
   "source": [
    "# What courses contain the keyword \"programming\"?\n"
   ]
  },
  {
   "cell_type": "code",
   "execution_count": null,
   "metadata": {},
   "outputs": [],
   "source": [
    "# What course has the most lengthy description?\n"
   ]
  },
  {
   "cell_type": "markdown",
   "metadata": {},
   "source": [
    "### Write it out to a CSV file on your drive\n",
    "You now have your own copy!"
   ]
  },
  {
   "cell_type": "code",
   "execution_count": null,
   "metadata": {},
   "outputs": [],
   "source": [
    "# Write it all out to a single CSV file\n",
    "new_course_frame.to_csv(\"my_course_data.csv\", index=False)"
   ]
  },
  {
   "cell_type": "markdown",
   "metadata": {},
   "source": [
    "### Other Cool APIs"
   ]
  },
  {
   "cell_type": "markdown",
   "metadata": {},
   "source": [
    "- City of Madison Transit: http://transitdata.cityofmadison.com/\n",
    "- Reddit: https://reddit.com/r/UWMadison.json\n",
    "- Lord of the Rings: https://the-one-api.dev/\n",
    "- Pokemon: https://pokeapi.co/\n",
    "\n",
    "Remember: Be judicious when making requests; don't overwhelm the server! :)"
   ]
  },
  {
   "cell_type": "markdown",
   "metadata": {},
   "source": [
    "## Next Time\n",
    "What other documents can we get via the Web? HTML is very popular! We'll explore this."
   ]
  }
 ],
 "metadata": {
  "kernelspec": {
   "display_name": "Python 3",
   "language": "python",
   "name": "python3"
  },
  "language_info": {
   "codemirror_mode": {
    "name": "ipython",
    "version": 3
   },
   "file_extension": ".py",
   "mimetype": "text/x-python",
   "name": "python",
   "nbconvert_exporter": "python",
   "pygments_lexer": "ipython3",
   "version": "3.9.1"
  }
 },
 "nbformat": 4,
 "nbformat_minor": 4
}

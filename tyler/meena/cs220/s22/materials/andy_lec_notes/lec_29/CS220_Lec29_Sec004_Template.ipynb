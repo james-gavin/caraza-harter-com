{
 "cells": [
  {
   "cell_type": "code",
   "execution_count": null,
   "metadata": {},
   "outputs": [],
   "source": []
  },
  {
   "cell_type": "code",
   "execution_count": null,
   "metadata": {},
   "outputs": [],
   "source": [
    "\n",
    "import requests # We will learn about this today!\n",
    "import json\n",
    "import pandas as pd\n",
    "from pandas import Series, DataFrame"
   ]
  },
  {
   "cell_type": "code",
   "execution_count": null,
   "metadata": {},
   "outputs": [],
   "source": [
    "# Warmup 1: Read the data from \"new_movie_data.csv\" into a pandas DataFrame called \"movies\"\n",
    "movies = None\n",
    "movies"
   ]
  },
  {
   "cell_type": "code",
   "execution_count": 1,
   "metadata": {},
   "outputs": [
    {
     "name": "stdout",
     "output_type": "stream",
     "text": [
      " to \n"
     ]
    }
   ],
   "source": [
    "# Warmup 2: What years does this new movie dataset cover?  (min and max?)\n",
    "\n",
    "print(\"\", \"to\", \"\")"
   ]
  },
  {
   "cell_type": "code",
   "execution_count": null,
   "metadata": {},
   "outputs": [],
   "source": [
    "# Warmup 3a: What does this function do?\n",
    "def format_revenue(revenue):\n",
    "    if type(revenue) == float: # need this in here if we run code multiple times\n",
    "        return revenue\n",
    "    elif revenue[-1] == 'M': # some have an \"M\" at the end\n",
    "        return float(revenue[:-1]) * 1e6\n",
    "    else:                    # otherwise, assume millions.\n",
    "        return float(revenue) * 1e6"
   ]
  },
  {
   "cell_type": "code",
   "execution_count": null,
   "metadata": {},
   "outputs": [],
   "source": [
    "# Warmup 3b: Using the above function, create a new column called\n",
    "#            \"CountableRevenue\" with the revenue as a float.\n",
    "\n",
    "movies[\"CountableRevenue\"] = None\n",
    "movies"
   ]
  },
  {
   "cell_type": "code",
   "execution_count": null,
   "metadata": {},
   "outputs": [],
   "source": [
    "# Warmup 4: What are the top 10 highest-revenue movies?\n",
    "\n",
    "movies.sort_values().head(10)"
   ]
  },
  {
   "cell_type": "markdown",
   "metadata": {},
   "source": [
    "# Lecture 29: Web 1 - Getting Data\n",
    "Learning Objectives\n",
    "\n",
    "- Make a request for data using `requests.get(URL)`\n",
    "- Check the status of a request/response\n",
    "- Extract the text of a response\n",
    "- Create a json file from a response\n",
    "- State and practice good etiquette when getting data"
   ]
  },
  {
   "cell_type": "markdown",
   "metadata": {},
   "source": [
    "## Make a request for data using `requests.get(URL)`\n",
    "- URL: https://www.msyamkumar.com/hello.txt"
   ]
  },
  {
   "cell_type": "code",
   "execution_count": null,
   "metadata": {},
   "outputs": [],
   "source": [
    "url = \"https://www.msyamkumar.com/hello.txt\"\n",
    "r = requests.get(url) # r is the response\n",
    "print(r.status_code)\n",
    "print(r.text)"
   ]
  },
  {
   "cell_type": "markdown",
   "metadata": {},
   "source": [
    "### HTTP Status Codes  you need to know\n",
    "\n",
    "- 200:  success\n",
    "- 404:  not found\n",
    "\n",
    "Here is a list of all status codes, you do NOT need to memorize it\n",
    "\n",
    "https://en.wikipedia.org/wiki/List_of_HTTP_status_codes"
   ]
  },
  {
   "cell_type": "code",
   "execution_count": null,
   "metadata": {},
   "outputs": [],
   "source": [
    "# Q: What if the web site does not exist?\n",
    "typo_url = \"https://www.msyamkumar.com/hello.txttttt\"\n",
    "r = requests.get(typo_url)\n",
    "print(r.status_code)\n",
    "print(r.text)\n",
    "\n",
    "# A: We get a 404 (client error)\n",
    "# A: we get text, but the text is not from the client"
   ]
  },
  {
   "cell_type": "markdown",
   "metadata": {},
   "source": [
    "## Check the status of a request/response\n"
   ]
  },
  {
   "cell_type": "code",
   "execution_count": null,
   "metadata": {},
   "outputs": [],
   "source": [
    "# We can check for a status_code error by using an assert\n",
    "typo_url = \"https://www.msyamkumar.com/hello.txttttt\"\n",
    "r = requests.get(typo_url)\n",
    "print(r.status_code)\n",
    "assert True                 # change this\n",
    "\n",
    "print(r.text)\n"
   ]
  },
  {
   "cell_type": "code",
   "execution_count": null,
   "metadata": {},
   "outputs": [],
   "source": [
    "# Instead of using an assert, we often use raise_for_status()\n",
    "r = requests.get(typo_url)\n",
    "r.raise_for_status() #similar to asserting r.status_code == 200\n",
    "r.text\n",
    "\n",
    "# Note the error you get.... We will use this in the next cell"
   ]
  },
  {
   "cell_type": "code",
   "execution_count": null,
   "metadata": {},
   "outputs": [],
   "source": [
    "# Let's try to catch that error\n",
    "\n",
    "try:\n",
    "\n",
    "except:\n",
    "    print(\"oops!!\", e)\n",
    "    "
   ]
  },
  {
   "cell_type": "code",
   "execution_count": null,
   "metadata": {},
   "outputs": [],
   "source": [
    "# we often need to prepend the names of exceptions with the name of the module\n",
    "# fix the error from above\n",
    "\n",
    "try:\n",
    "\n",
    "except:\n",
    "    print(\"oops!!\", e)\n",
    "    \n"
   ]
  },
  {
   "cell_type": "markdown",
   "metadata": {},
   "source": [
    "## Create a json file from a response\n",
    "\n",
    "- URL: https://www.msyamkumar.com/scores.json\n",
    "- `json.load` (FILE_OBJECT)\n",
    "- `json.loads` (STRING)"
   ]
  },
  {
   "cell_type": "code",
   "execution_count": null,
   "metadata": {},
   "outputs": [],
   "source": [
    "# GETting a JSON file, the long way\n",
    "url = \"https://www.msyamkumar.com/scores.json\"\n",
    "r = requests.get(url)\n",
    "r.raise_for_status()\n",
    "urltext = r.text\n",
    "print(urltext)\n",
    "d = json.loads(urltext)\n",
    "print(type(d), d)"
   ]
  },
  {
   "cell_type": "code",
   "execution_count": null,
   "metadata": {},
   "outputs": [],
   "source": [
    "# GETting a JSON file, the shortcut way\n",
    "url = \"https://www.msyamkumar.com/scores.json\"\n",
    "#Shortcut to bypass using json.loads()\n",
    "r = requests.get(url)\n",
    "r.raise_for_status()\n",
    "d2 = r.json()\n",
    "print(type(d2), d2)"
   ]
  },
  {
   "cell_type": "markdown",
   "metadata": {},
   "source": [
    "## Good GET Etiquette\n",
    "\n",
    "Don't make a lot of requests to the same server all at once.\n",
    " - Requests use up the server's time\n",
    " - Major websites will often ban users who make too many requests\n",
    " - You can break a server....similar to DDoS attacks (DON'T DO THIS)\n",
    " \n",
    "In CS220 we will usually give you a link to a copied file to avoid overloading the site.\n"
   ]
  },
  {
   "cell_type": "markdown",
   "metadata": {},
   "source": [
    "## DEMO: Course Enrollment"
   ]
  },
  {
   "cell_type": "markdown",
   "metadata": {},
   "source": [
    "Explore the API!\n",
    "\n",
    "https://coletnelson.us/cs220-api/classes\n",
    "\n",
    "https://coletnelson.us/cs220-api/classes_as_txt\n",
    "\n",
    "https://coletnelson.us/cs220-api/classes/MATH_221\n",
    "\n",
    "https://coletnelson.us/cs220-api/classes/COMPSCI_200\n",
    "\n",
    "... etc\n",
    "\n",
    "https://coletnelson.us/cs220-api/all_data"
   ]
  },
  {
   "cell_type": "markdown",
   "metadata": {},
   "source": [
    "### Get the list of classes."
   ]
  },
  {
   "cell_type": "markdown",
   "metadata": {},
   "source": [
    "#### When the data is `json`"
   ]
  },
  {
   "cell_type": "code",
   "execution_count": null,
   "metadata": {},
   "outputs": [],
   "source": [
    "url = \"https://coletnelson.us/cs220-api/classes\"\n",
    "r = requests.get(url)\n",
    "r.raise_for_status()\n",
    "classes_list = None # what goes here? \n",
    "print(type(classes_list))\n",
    "print(classes_list)"
   ]
  },
  {
   "cell_type": "markdown",
   "metadata": {},
   "source": [
    "#### When the data is `text`"
   ]
  },
  {
   "cell_type": "code",
   "execution_count": null,
   "metadata": {},
   "outputs": [],
   "source": [
    "url = \"https://coletnelson.us/cs220-api/classes_as_txt\"\n",
    "r = requests.get(url)\n",
    "r.raise_for_status()\n",
    "classes_txt = None  # what goes here? \n",
    "print(type(classes_txt))\n",
    "print(classes_txt)"
   ]
  },
  {
   "cell_type": "code",
   "execution_count": null,
   "metadata": {},
   "outputs": [],
   "source": [
    "classes_txt_as_list = ???"
   ]
  },
  {
   "cell_type": "markdown",
   "metadata": {},
   "source": [
    "### Get data for a specific class"
   ]
  },
  {
   "cell_type": "code",
   "execution_count": null,
   "metadata": {},
   "outputs": [],
   "source": [
    "url = \"https://coletnelson.us/cs220-api/classes/COMPSCI_200\"\n",
    "r = requests.get(url)\n",
    "r.raise_for_status()\n",
    "cs200_data = r.json()\n",
    "print(type(cs200_data))\n",
    "print(cs200_data) # Too much data? Try print(cs220_data.keys())"
   ]
  },
  {
   "cell_type": "code",
   "execution_count": null,
   "metadata": {},
   "outputs": [],
   "source": [
    "cs200_data.keys()"
   ]
  },
  {
   "cell_type": "code",
   "execution_count": null,
   "metadata": {},
   "outputs": [],
   "source": [
    "# Get the number of credits the course is worth\n"
   ]
  },
  {
   "cell_type": "code",
   "execution_count": null,
   "metadata": {},
   "outputs": [],
   "source": [
    "# Get the list of keywords for the course\n"
   ]
  },
  {
   "cell_type": "code",
   "execution_count": null,
   "metadata": {},
   "outputs": [],
   "source": [
    "# Get the official course name\n"
   ]
  },
  {
   "cell_type": "code",
   "execution_count": null,
   "metadata": {},
   "outputs": [],
   "source": [
    "# Get the number of sections offered.\n"
   ]
  },
  {
   "cell_type": "code",
   "execution_count": null,
   "metadata": {},
   "outputs": [],
   "source": [
    "# Collect all the class data in a list called 'all_class_data'\n",
    "all_class_data = []\n",
    "for class_num in classes_list:\n",
    "    url = \"https://coletnelson.us/cs220-api/classes/\" + ???\n",
    "    r = requests.get(url)\n",
    "    r.raise_for_status()\n",
    "    class_data = r.json()\n",
    "    all_class_data.append(???)\n",
    "\n",
    "print(all_class_data) # Too much data? Try print(len(all_class_data))"
   ]
  },
  {
   "cell_type": "code",
   "execution_count": null,
   "metadata": {},
   "outputs": [],
   "source": [
    "print(len(all_class_data))"
   ]
  },
  {
   "cell_type": "code",
   "execution_count": null,
   "metadata": {},
   "outputs": [],
   "source": [
    "# Print the number of credits, course number, and name for each class.\n"
   ]
  },
  {
   "cell_type": "code",
   "execution_count": null,
   "metadata": {},
   "outputs": [],
   "source": [
    "# What is the average number of credits per course?\n"
   ]
  },
  {
   "cell_type": "code",
   "execution_count": null,
   "metadata": {},
   "outputs": [],
   "source": [
    "# What are the unique subjects?\n"
   ]
  },
  {
   "cell_type": "code",
   "execution_count": null,
   "metadata": {},
   "outputs": [],
   "source": [
    "# Besides PYSCH 202, what are the course numbers of the courses\n",
    "# with the most sections offered (not including subsections)?\n",
    "high_courses = []\n",
    "high_sections = 0\n",
    "for spec_class in all_class_data:\n",
    "    pass\n",
    "high_courses"
   ]
  },
  {
   "cell_type": "markdown",
   "metadata": {},
   "source": [
    "### Can we make a Pandas dataframe? Yes!"
   ]
  },
  {
   "cell_type": "code",
   "execution_count": null,
   "metadata": {},
   "outputs": [],
   "source": [
    "all_course_frame = DataFrame(all_class_data)\n",
    "all_course_frame"
   ]
  },
  {
   "cell_type": "markdown",
   "metadata": {},
   "source": [
    "### We may want to do some \"plumbing\" with our data."
   ]
  },
  {
   "cell_type": "code",
   "execution_count": null,
   "metadata": {},
   "outputs": [],
   "source": [
    "# Remove the 'sections' and 'requisites' column.\n",
    "new_course_frame = all_course_frame.loc[:, \"credits\":\"number\"]\n",
    "new_course_frame[\"subject\"] = all_course_frame.loc[:, \"subject\"]\n",
    "new_course_frame"
   ]
  },
  {
   "cell_type": "code",
   "execution_count": null,
   "metadata": {},
   "outputs": [],
   "source": [
    "# Turn 'keywords' into a series of Strings and remove the '[', ']', '''\n",
    "new_course_frame[\"keywords\"] = new_course_frame[\"keywords\"].astype('string')\n",
    "new_course_frame[\"keywords\"] = new_course_frame[\"keywords\"].str.replace(\"[\", \"\", regex=False)\n",
    "new_course_frame[\"keywords\"] = new_course_frame[\"keywords\"].str.replace(\"]\", \"\", regex=False)\n",
    "new_course_frame[\"keywords\"] = new_course_frame[\"keywords\"].str.replace(\"'\", \"\", regex=False)\n",
    "new_course_frame"
   ]
  },
  {
   "cell_type": "markdown",
   "metadata": {},
   "source": [
    "### Pandas Operations"
   ]
  },
  {
   "cell_type": "code",
   "execution_count": null,
   "metadata": {},
   "outputs": [],
   "source": [
    "# What is the most number of credits a course offers?\n"
   ]
  },
  {
   "cell_type": "code",
   "execution_count": null,
   "metadata": {},
   "outputs": [],
   "source": [
    "# What is the least number of credits a course offers?\n"
   ]
  },
  {
   "cell_type": "code",
   "execution_count": null,
   "metadata": {},
   "outputs": [],
   "source": [
    "# What is the info for that course?\n"
   ]
  },
  {
   "cell_type": "code",
   "execution_count": null,
   "metadata": {},
   "outputs": [],
   "source": [
    "# What courses contain the keyword \"programming\"?\n"
   ]
  },
  {
   "cell_type": "code",
   "execution_count": null,
   "metadata": {},
   "outputs": [],
   "source": [
    "# What course has the most lengthy description?\n"
   ]
  },
  {
   "cell_type": "markdown",
   "metadata": {},
   "source": [
    "### Write it out to a CSV file on your drive\n",
    "You now have your own copy!"
   ]
  },
  {
   "cell_type": "code",
   "execution_count": null,
   "metadata": {},
   "outputs": [],
   "source": [
    "# Write it all out to a single CSV file\n",
    "new_course_frame.to_csv(\"my_course_data.csv\", index=False)"
   ]
  },
  {
   "cell_type": "markdown",
   "metadata": {},
   "source": [
    "### Other Cool APIs"
   ]
  },
  {
   "cell_type": "markdown",
   "metadata": {},
   "source": [
    "- City of Madison Transit: http://transitdata.cityofmadison.com/\n",
    "- Reddit: https://reddit.com/r/UWMadison.json\n",
    "- Lord of the Rings: https://the-one-api.dev/\n",
    "- Pokemon: https://pokeapi.co/\n",
    "\n",
    "Remember: Be judicious when making requests; don't overwhelm the server! :)"
   ]
  },
  {
   "cell_type": "markdown",
   "metadata": {},
   "source": [
    "## Next Time\n",
    "What other documents can we get via the Web? HTML is very popular! We'll explore this."
   ]
  }
 ],
 "metadata": {
  "kernelspec": {
   "display_name": "Python 3",
   "language": "python",
   "name": "python3"
  },
  "language_info": {
   "codemirror_mode": {
    "name": "ipython",
    "version": 3
   },
   "file_extension": ".py",
   "mimetype": "text/x-python",
   "name": "python",
   "nbconvert_exporter": "python",
   "pygments_lexer": "ipython3",
   "version": "3.9.1"
  }
 },
 "nbformat": 4,
 "nbformat_minor": 4
}

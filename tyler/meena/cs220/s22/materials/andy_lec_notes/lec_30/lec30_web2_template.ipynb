{
 "cells": [
  {
   "cell_type": "code",
   "execution_count": 1,
   "metadata": {},
   "outputs": [],
   "source": [
    "import pandas as pd\n",
    "import csv           # need this for the demo at the end"
   ]
  },
  {
   "cell_type": "markdown",
   "metadata": {},
   "source": [
    "### Review:   Pandas Boolean Indexing"
   ]
  },
  {
   "cell_type": "code",
   "execution_count": 49,
   "metadata": {},
   "outputs": [
    {
     "data": {
      "text/html": [
       "<div>\n",
       "<style scoped>\n",
       "    .dataframe tbody tr th:only-of-type {\n",
       "        vertical-align: middle;\n",
       "    }\n",
       "\n",
       "    .dataframe tbody tr th {\n",
       "        vertical-align: top;\n",
       "    }\n",
       "\n",
       "    .dataframe thead th {\n",
       "        text-align: right;\n",
       "    }\n",
       "</style>\n",
       "<table border=\"1\" class=\"dataframe\">\n",
       "  <thead>\n",
       "    <tr style=\"text-align: right;\">\n",
       "      <th></th>\n",
       "      <th>Title</th>\n",
       "      <th>Genre</th>\n",
       "      <th>Director</th>\n",
       "      <th>Cast</th>\n",
       "      <th>Year</th>\n",
       "      <th>Runtime</th>\n",
       "      <th>Rating</th>\n",
       "      <th>Revenue</th>\n",
       "    </tr>\n",
       "  </thead>\n",
       "  <tbody>\n",
       "    <tr>\n",
       "      <th>0</th>\n",
       "      <td>Guardians of the Galaxy</td>\n",
       "      <td>Action,Adventure,Sci-Fi</td>\n",
       "      <td>James Gunn</td>\n",
       "      <td>Chris Pratt, Vin Diesel, Bradley Cooper, Zoe S...</td>\n",
       "      <td>2014</td>\n",
       "      <td>121</td>\n",
       "      <td>8.1</td>\n",
       "      <td>333.13</td>\n",
       "    </tr>\n",
       "    <tr>\n",
       "      <th>1</th>\n",
       "      <td>Prometheus</td>\n",
       "      <td>Adventure,Mystery,Sci-Fi</td>\n",
       "      <td>Ridley Scott</td>\n",
       "      <td>Noomi Rapace, Logan Marshall-Green, Michael   ...</td>\n",
       "      <td>2012</td>\n",
       "      <td>124</td>\n",
       "      <td>7.0</td>\n",
       "      <td>126.46M</td>\n",
       "    </tr>\n",
       "    <tr>\n",
       "      <th>2</th>\n",
       "      <td>Split</td>\n",
       "      <td>Horror,Thriller</td>\n",
       "      <td>M. Night Shyamalan</td>\n",
       "      <td>James McAvoy, Anya Taylor-Joy, Haley Lu Richar...</td>\n",
       "      <td>2016</td>\n",
       "      <td>117</td>\n",
       "      <td>7.3</td>\n",
       "      <td>138.12M</td>\n",
       "    </tr>\n",
       "    <tr>\n",
       "      <th>3</th>\n",
       "      <td>Sing</td>\n",
       "      <td>Animation,Comedy,Family</td>\n",
       "      <td>Christophe Lourdelet</td>\n",
       "      <td>Matthew McConaughey,Reese Witherspoon, Seth Ma...</td>\n",
       "      <td>2016</td>\n",
       "      <td>108</td>\n",
       "      <td>7.2</td>\n",
       "      <td>270.32</td>\n",
       "    </tr>\n",
       "    <tr>\n",
       "      <th>4</th>\n",
       "      <td>Suicide Squad</td>\n",
       "      <td>Action,Adventure,Fantasy</td>\n",
       "      <td>David Ayer</td>\n",
       "      <td>Will Smith, Jared Leto, Margot Robbie, Viola D...</td>\n",
       "      <td>2016</td>\n",
       "      <td>123</td>\n",
       "      <td>6.2</td>\n",
       "      <td>325.02</td>\n",
       "    </tr>\n",
       "    <tr>\n",
       "      <th>...</th>\n",
       "      <td>...</td>\n",
       "      <td>...</td>\n",
       "      <td>...</td>\n",
       "      <td>...</td>\n",
       "      <td>...</td>\n",
       "      <td>...</td>\n",
       "      <td>...</td>\n",
       "      <td>...</td>\n",
       "    </tr>\n",
       "    <tr>\n",
       "      <th>1063</th>\n",
       "      <td>Guardians of the Galaxy Vol. 2</td>\n",
       "      <td>Action, Adventure, Comedy</td>\n",
       "      <td>James Gunn</td>\n",
       "      <td>Chris Pratt, Zoe Saldana, Dave Bautista, Vin D...</td>\n",
       "      <td>2017</td>\n",
       "      <td>136</td>\n",
       "      <td>7.6</td>\n",
       "      <td>389.81</td>\n",
       "    </tr>\n",
       "    <tr>\n",
       "      <th>1064</th>\n",
       "      <td>Baby Driver</td>\n",
       "      <td>Action, Crime, Drama</td>\n",
       "      <td>Edgar Wright</td>\n",
       "      <td>Ansel Elgort, Jon Bernthal, Jon Hamm, Eiza Gon...</td>\n",
       "      <td>2017</td>\n",
       "      <td>113</td>\n",
       "      <td>7.6</td>\n",
       "      <td>107.83</td>\n",
       "    </tr>\n",
       "    <tr>\n",
       "      <th>1065</th>\n",
       "      <td>Only the Brave</td>\n",
       "      <td>Action, Biography, Drama</td>\n",
       "      <td>Joseph Kosinski</td>\n",
       "      <td>Josh Brolin, Miles Teller, Jeff Bridges, Jenni...</td>\n",
       "      <td>2017</td>\n",
       "      <td>134</td>\n",
       "      <td>7.6</td>\n",
       "      <td>18.34</td>\n",
       "    </tr>\n",
       "    <tr>\n",
       "      <th>1066</th>\n",
       "      <td>Incredibles 2</td>\n",
       "      <td>Animation, Action, Adventure</td>\n",
       "      <td>Brad Bird</td>\n",
       "      <td>Craig T. Nelson, Holly Hunter, Sarah Vowell, H...</td>\n",
       "      <td>2018</td>\n",
       "      <td>118</td>\n",
       "      <td>7.6</td>\n",
       "      <td>608.58</td>\n",
       "    </tr>\n",
       "    <tr>\n",
       "      <th>1067</th>\n",
       "      <td>A Star Is Born</td>\n",
       "      <td>Drama, Music, Romance</td>\n",
       "      <td>Bradley Cooper</td>\n",
       "      <td>Lady Gaga, Bradley Cooper, Sam Elliott, Greg G...</td>\n",
       "      <td>2018</td>\n",
       "      <td>136</td>\n",
       "      <td>7.6</td>\n",
       "      <td>215.29</td>\n",
       "    </tr>\n",
       "  </tbody>\n",
       "</table>\n",
       "<p>1068 rows × 8 columns</p>\n",
       "</div>"
      ],
      "text/plain": [
       "                               Title                         Genre  \\\n",
       "0            Guardians of the Galaxy       Action,Adventure,Sci-Fi   \n",
       "1                         Prometheus      Adventure,Mystery,Sci-Fi   \n",
       "2                              Split               Horror,Thriller   \n",
       "3                               Sing       Animation,Comedy,Family   \n",
       "4                      Suicide Squad      Action,Adventure,Fantasy   \n",
       "...                              ...                           ...   \n",
       "1063  Guardians of the Galaxy Vol. 2     Action, Adventure, Comedy   \n",
       "1064                     Baby Driver          Action, Crime, Drama   \n",
       "1065                  Only the Brave      Action, Biography, Drama   \n",
       "1066                   Incredibles 2  Animation, Action, Adventure   \n",
       "1067                  A Star Is Born         Drama, Music, Romance   \n",
       "\n",
       "                  Director                                               Cast  \\\n",
       "0               James Gunn  Chris Pratt, Vin Diesel, Bradley Cooper, Zoe S...   \n",
       "1             Ridley Scott  Noomi Rapace, Logan Marshall-Green, Michael   ...   \n",
       "2       M. Night Shyamalan  James McAvoy, Anya Taylor-Joy, Haley Lu Richar...   \n",
       "3     Christophe Lourdelet  Matthew McConaughey,Reese Witherspoon, Seth Ma...   \n",
       "4               David Ayer  Will Smith, Jared Leto, Margot Robbie, Viola D...   \n",
       "...                    ...                                                ...   \n",
       "1063            James Gunn  Chris Pratt, Zoe Saldana, Dave Bautista, Vin D...   \n",
       "1064          Edgar Wright  Ansel Elgort, Jon Bernthal, Jon Hamm, Eiza Gon...   \n",
       "1065       Joseph Kosinski  Josh Brolin, Miles Teller, Jeff Bridges, Jenni...   \n",
       "1066             Brad Bird  Craig T. Nelson, Holly Hunter, Sarah Vowell, H...   \n",
       "1067        Bradley Cooper  Lady Gaga, Bradley Cooper, Sam Elliott, Greg G...   \n",
       "\n",
       "      Year  Runtime  Rating  Revenue  \n",
       "0     2014      121     8.1   333.13  \n",
       "1     2012      124     7.0  126.46M  \n",
       "2     2016      117     7.3  138.12M  \n",
       "3     2016      108     7.2   270.32  \n",
       "4     2016      123     6.2   325.02  \n",
       "...    ...      ...     ...      ...  \n",
       "1063  2017      136     7.6   389.81  \n",
       "1064  2017      113     7.6   107.83  \n",
       "1065  2017      134     7.6    18.34  \n",
       "1066  2018      118     7.6   608.58  \n",
       "1067  2018      136     7.6   215.29  \n",
       "\n",
       "[1068 rows x 8 columns]"
      ]
     },
     "execution_count": 49,
     "metadata": {},
     "output_type": "execute_result"
    }
   ],
   "source": [
    "# Warmup 1: Read the data from \"new_movie_data.csv\" into a pandas DataFrame called \"movies\"\n",
    "movies = None\n",
    "movies"
   ]
  },
  {
   "cell_type": "code",
   "execution_count": 9,
   "metadata": {},
   "outputs": [
    {
     "data": {
      "text/html": [
       "<div>\n",
       "<style scoped>\n",
       "    .dataframe tbody tr th:only-of-type {\n",
       "        vertical-align: middle;\n",
       "    }\n",
       "\n",
       "    .dataframe tbody tr th {\n",
       "        vertical-align: top;\n",
       "    }\n",
       "\n",
       "    .dataframe thead th {\n",
       "        text-align: right;\n",
       "    }\n",
       "</style>\n",
       "<table border=\"1\" class=\"dataframe\">\n",
       "  <thead>\n",
       "    <tr style=\"text-align: right;\">\n",
       "      <th></th>\n",
       "      <th>Title</th>\n",
       "      <th>Genre</th>\n",
       "      <th>Director</th>\n",
       "      <th>Cast</th>\n",
       "      <th>Year</th>\n",
       "      <th>Runtime</th>\n",
       "      <th>Rating</th>\n",
       "      <th>Revenue</th>\n",
       "    </tr>\n",
       "  </thead>\n",
       "  <tbody>\n",
       "    <tr>\n",
       "      <th>1038</th>\n",
       "      <td>The Irishman</td>\n",
       "      <td>Biography, Crime, Drama</td>\n",
       "      <td>Martin Scorsese</td>\n",
       "      <td>Robert De Niro, Al Pacino, Joe Pesci, Harvey K...</td>\n",
       "      <td>2019</td>\n",
       "      <td>209</td>\n",
       "      <td>7.9</td>\n",
       "      <td>7</td>\n",
       "    </tr>\n",
       "  </tbody>\n",
       "</table>\n",
       "</div>"
      ],
      "text/plain": [
       "             Title                    Genre         Director  \\\n",
       "1038  The Irishman  Biography, Crime, Drama  Martin Scorsese   \n",
       "\n",
       "                                                   Cast  Year  Runtime  \\\n",
       "1038  Robert De Niro, Al Pacino, Joe Pesci, Harvey K...  2019      209   \n",
       "\n",
       "      Rating Revenue  \n",
       "1038     7.9       7  "
      ]
     },
     "execution_count": 9,
     "metadata": {},
     "output_type": "execute_result"
    }
   ],
   "source": [
    "# Warmup 2: Which movies has the longest \"Runtime\" ?\n",
    "movies[]"
   ]
  },
  {
   "cell_type": "code",
   "execution_count": 51,
   "metadata": {},
   "outputs": [
    {
     "data": {
      "text/html": [
       "<div>\n",
       "<style scoped>\n",
       "    .dataframe tbody tr th:only-of-type {\n",
       "        vertical-align: middle;\n",
       "    }\n",
       "\n",
       "    .dataframe tbody tr th {\n",
       "        vertical-align: top;\n",
       "    }\n",
       "\n",
       "    .dataframe thead th {\n",
       "        text-align: right;\n",
       "    }\n",
       "</style>\n",
       "<table border=\"1\" class=\"dataframe\">\n",
       "  <thead>\n",
       "    <tr style=\"text-align: right;\">\n",
       "      <th></th>\n",
       "      <th>Title</th>\n",
       "      <th>Genre</th>\n",
       "      <th>Director</th>\n",
       "      <th>Cast</th>\n",
       "      <th>Year</th>\n",
       "      <th>Runtime</th>\n",
       "      <th>Rating</th>\n",
       "      <th>Revenue</th>\n",
       "    </tr>\n",
       "  </thead>\n",
       "  <tbody>\n",
       "    <tr>\n",
       "      <th>998</th>\n",
       "      <td>Hamilton</td>\n",
       "      <td>Biography, Drama, History</td>\n",
       "      <td>Thomas Kail</td>\n",
       "      <td>Lin-Manuel Miranda, Phillipa Soo, Leslie Odom ...</td>\n",
       "      <td>2020</td>\n",
       "      <td>160</td>\n",
       "      <td>8.6</td>\n",
       "      <td>612.82</td>\n",
       "    </tr>\n",
       "    <tr>\n",
       "      <th>1000</th>\n",
       "      <td>Soorarai Pottru</td>\n",
       "      <td>Drama</td>\n",
       "      <td>Sudha Kongara</td>\n",
       "      <td>Suriya, Madhavan, Paresh Rawal, Aparna Balamurali</td>\n",
       "      <td>2020</td>\n",
       "      <td>153</td>\n",
       "      <td>8.6</td>\n",
       "      <td>5.93</td>\n",
       "    </tr>\n",
       "    <tr>\n",
       "      <th>1022</th>\n",
       "      <td>Soul</td>\n",
       "      <td>Animation, Adventure, Comedy</td>\n",
       "      <td>Pete Docter</td>\n",
       "      <td>Kemp Powers, Jamie Foxx, Tina Fey, Graham Norton</td>\n",
       "      <td>2020</td>\n",
       "      <td>100</td>\n",
       "      <td>8.1</td>\n",
       "      <td>121</td>\n",
       "    </tr>\n",
       "  </tbody>\n",
       "</table>\n",
       "</div>"
      ],
      "text/plain": [
       "                Title                         Genre       Director  \\\n",
       "998          Hamilton     Biography, Drama, History    Thomas Kail   \n",
       "1000  Soorarai Pottru                         Drama  Sudha Kongara   \n",
       "1022             Soul  Animation, Adventure, Comedy    Pete Docter   \n",
       "\n",
       "                                                   Cast  Year  Runtime  \\\n",
       "998   Lin-Manuel Miranda, Phillipa Soo, Leslie Odom ...  2020      160   \n",
       "1000  Suriya, Madhavan, Paresh Rawal, Aparna Balamurali  2020      153   \n",
       "1022   Kemp Powers, Jamie Foxx, Tina Fey, Graham Norton  2020      100   \n",
       "\n",
       "      Rating Revenue  \n",
       "998      8.6  612.82  \n",
       "1000     8.6    5.93  \n",
       "1022     8.1     121  "
      ]
     },
     "execution_count": 51,
     "metadata": {},
     "output_type": "execute_result"
    }
   ],
   "source": [
    "# Warmup 3: Which movies released in 2020 have a \"Rating\" higher than 8 ? \n"
   ]
  },
  {
   "cell_type": "code",
   "execution_count": 26,
   "metadata": {},
   "outputs": [
    {
     "data": {
      "text/html": [
       "<div>\n",
       "<style scoped>\n",
       "    .dataframe tbody tr th:only-of-type {\n",
       "        vertical-align: middle;\n",
       "    }\n",
       "\n",
       "    .dataframe tbody tr th {\n",
       "        vertical-align: top;\n",
       "    }\n",
       "\n",
       "    .dataframe thead th {\n",
       "        text-align: right;\n",
       "    }\n",
       "</style>\n",
       "<table border=\"1\" class=\"dataframe\">\n",
       "  <thead>\n",
       "    <tr style=\"text-align: right;\">\n",
       "      <th></th>\n",
       "      <th>Title</th>\n",
       "      <th>Genre</th>\n",
       "      <th>Director</th>\n",
       "      <th>Cast</th>\n",
       "      <th>Year</th>\n",
       "      <th>Runtime</th>\n",
       "      <th>Rating</th>\n",
       "      <th>Revenue</th>\n",
       "    </tr>\n",
       "  </thead>\n",
       "  <tbody>\n",
       "    <tr>\n",
       "      <th>96</th>\n",
       "      <td>Kimi no na wa</td>\n",
       "      <td>Animation,Drama,Fantasy</td>\n",
       "      <td>Makoto Shinkai</td>\n",
       "      <td>Ryûnosuke Kamiki, Mone Kamishiraishi, Ryô Nari...</td>\n",
       "      <td>2016</td>\n",
       "      <td>106</td>\n",
       "      <td>8.6</td>\n",
       "      <td>4.68</td>\n",
       "    </tr>\n",
       "    <tr>\n",
       "      <th>249</th>\n",
       "      <td>The Intouchables</td>\n",
       "      <td>Biography,Comedy,Drama</td>\n",
       "      <td>Olivier Nakache</td>\n",
       "      <td>François Cluzet, Omar Sy, Anne Le Ny, Audrey F...</td>\n",
       "      <td>2011</td>\n",
       "      <td>112</td>\n",
       "      <td>8.6</td>\n",
       "      <td>13.18</td>\n",
       "    </tr>\n",
       "  </tbody>\n",
       "</table>\n",
       "</div>"
      ],
      "text/plain": [
       "                Title                    Genre         Director  \\\n",
       "96      Kimi no na wa  Animation,Drama,Fantasy   Makoto Shinkai   \n",
       "249  The Intouchables   Biography,Comedy,Drama  Olivier Nakache   \n",
       "\n",
       "                                                  Cast  Year  Runtime  Rating  \\\n",
       "96   Ryûnosuke Kamiki, Mone Kamishiraishi, Ryô Nari...  2016      106     8.6   \n",
       "249  François Cluzet, Omar Sy, Anne Le Ny, Audrey F...  2011      112     8.6   \n",
       "\n",
       "    Revenue  \n",
       "96     4.68  \n",
       "249   13.18  "
      ]
     },
     "execution_count": 26,
     "metadata": {},
     "output_type": "execute_result"
    }
   ],
   "source": [
    "# Warmup 4: Of just the movies with a short (below-average) \"Runtime\", which has the highest \"Rating\"?\n",
    "short_movies = None\n",
    "short_movies"
   ]
  },
  {
   "cell_type": "code",
   "execution_count": null,
   "metadata": {},
   "outputs": [],
   "source": []
  },
  {
   "cell_type": "code",
   "execution_count": null,
   "metadata": {},
   "outputs": [],
   "source": [
    "# Warmup 5: With your partner, think of one more interesting question \n",
    "# Share it with the class\n"
   ]
  },
  {
   "cell_type": "code",
   "execution_count": null,
   "metadata": {},
   "outputs": [],
   "source": []
  },
  {
   "cell_type": "markdown",
   "metadata": {},
   "source": [
    "# Lecture 30: Web 2 - Generating HTML\n",
    "\n",
    "Learning Objectives:\n",
    "\n",
    "- Type by hand a basic HTML including a list, a link, and a table\n",
    "- Convert a Python list into an HTML unordered list\n",
    "- Convert a Python dictionary of URLs into an HTML of hyperlinks\n",
    "- Convert a Pandas DataFrame into an HTML table"
   ]
  },
  {
   "cell_type": "code",
   "execution_count": null,
   "metadata": {},
   "outputs": [],
   "source": []
  },
  {
   "cell_type": "markdown",
   "metadata": {},
   "source": [
    "### Part A: Type by hand basic HTML  including a list, a link, and a table\n",
    "\n",
    "Check out the lecture slides for a brief overview of HTML\n",
    "\n",
    "**Markdown and Jupyter Notebook will recognize HTML tags**\n",
    "\n"
   ]
  },
  {
   "cell_type": "markdown",
   "metadata": {},
   "source": [
    "### Basic Tags : i, p, b, br, h#\n",
    "#### Most tags have an open and a close\n",
    "\n",
    "<i>Make a new Jupyter Notebook text file in this directory.</i>\n",
    "<p> The head,  body, and html tags are not necessary \n",
    "for a browswer to read a file.</p>\n",
    "\n",
    "<h2> Happy Friday!! </h2>\n",
    "\n",
    "It's going to be a <b>fun</b> day <br>\n",
    "\n",
    "Note that br does not have a close tag"
   ]
  },
  {
   "cell_type": "markdown",
   "metadata": {},
   "source": [
    "### Hyperlink tags have an anchor tag and a href attribute\n",
    "`a`: anchor\n",
    "\n",
    "`href=` : hyper references \n",
    "\n",
    "\n",
    "Andy's favorite restaurant on campus is \n",
    "<a href=\"https://shortstackeats.com/\">Short Stack Eatery</a>\n"
   ]
  },
  {
   "cell_type": "markdown",
   "metadata": {},
   "source": [
    "My favorite restaurant is\n",
    "\n"
   ]
  },
  {
   "cell_type": "markdown",
   "metadata": {},
   "source": [
    "### Unordered List Tags\n",
    "`ul` : starts an unordered list\n",
    "\n",
    "`li` : add a list item\n",
    "\n",
    "\n"
   ]
  },
  {
   "cell_type": "markdown",
   "metadata": {},
   "source": [
    "Ordered list example:\n",
    "\n",
    "<ul> Favorite Campus Buildings:\n",
    "    <li> WIDS\n",
    "     <li> Education\n",
    " </ul>"
   ]
  },
  {
   "cell_type": "markdown",
   "metadata": {},
   "source": [
    "### HTML Table Tags\n",
    "\n",
    "`table`: start and end of a table\n",
    "\n",
    "`tr`: start and end of a new row\n",
    "\n",
    "`th`: a cell in the top row ... is bold\n",
    "\n",
    "`td`: a cell inside a row\n",
    "\n",
    "Add a few rows to the table below:"
   ]
  },
  {
   "cell_type": "markdown",
   "metadata": {},
   "source": [
    "<table>\n",
    "  <tr>\n",
    "    <th>State</th>\n",
    "    <th>Capital City</th>\n",
    "  </tr>\n",
    "  <tr>\n",
    "    <td>Wisconsin</td>\n",
    "    <td>Madison</td>\n",
    "  </tr>\n",
    "  <tr>\n",
    "    <td>Indiana</td>\n",
    "    <td>Indianapolis</td>\n",
    "  </tr>\n",
    "   <tr>\n",
    "    <td>Illinois</td>\n",
    "    <td>Springfield</td>\n",
    "  </tr>\n",
    "</table>"
   ]
  },
  {
   "cell_type": "markdown",
   "metadata": {},
   "source": [
    "### Part B: Convert a Python list into an HTML unordered list\n",
    "\n",
    "Given:  \n",
    "\n",
    "`health_tips = [\"Eat Healthy\", \"Exercise\", \"Relax\", \"Sleep\"]`\n",
    "    \n",
    "Covert this Python list into a HTML ordered list:\n",
    "\n",
    "<ul>\n",
    "    <li>Eat Healthy</li>      \n",
    "       <li>Exercise</li>\n",
    "  <li>Relax</li>\n",
    "       <li>Sleep</li>\n",
    "</ul> "
   ]
  },
  {
   "cell_type": "code",
   "execution_count": null,
   "metadata": {},
   "outputs": [],
   "source": []
  },
  {
   "cell_type": "code",
   "execution_count": 29,
   "metadata": {},
   "outputs": [],
   "source": [
    "def list_to_html(my_list, path):\n",
    "    # open the file for writing\n",
    "    \n",
    "    # write the <ul> and \\n\n",
    "    \n",
    "    # write each item in the list with a \\n after each </li>\n",
    "\n",
    "    # write the </ul> and \\n\n",
    "\n",
    "    # close the file\n",
    "\n",
    "    \n",
    "todo_list = [\"Eat Healthy\", \"Exercise\", \"Relax\", \"Sleep\"]\n",
    "list_to_html(todo_list, \"todolist.html\")\n",
    "\n",
    "# check in the Jupyter Notebook parent tab that you made your document\n"
   ]
  },
  {
   "cell_type": "code",
   "execution_count": null,
   "metadata": {},
   "outputs": [],
   "source": []
  },
  {
   "cell_type": "markdown",
   "metadata": {},
   "source": [
    "### Part C. Convert a Dictionary of Web Site Name, URL into a HTML page of hyperlinks"
   ]
  },
  {
   "cell_type": "code",
   "execution_count": 32,
   "metadata": {},
   "outputs": [],
   "source": [
    "# add 2 more sites\n",
    "fav_sites = { \"National Weather Service\": \"http://weather.gov\",\n",
    "            \"Short Stack Eatery\": \"https://shortstackeats.com/\",\n",
    "            }"
   ]
  },
  {
   "cell_type": "code",
   "execution_count": 38,
   "metadata": {},
   "outputs": [
    {
     "name": "stdout",
     "output_type": "stream",
     "text": [
      "<a href=\"http://weather.gov\">National Weather Service</a><br><a href=\"https://shortstackeats.com/\">Short Stack Eatery</a><br>\n"
     ]
    }
   ],
   "source": [
    "# first, let's just make a single string\n",
    "html_string = ''\n",
    "\n",
    "print(html_string)\n",
    "        "
   ]
  },
  {
   "cell_type": "markdown",
   "metadata": {},
   "source": [
    "<a href=\"http://weather.gov\">National Weather Service</a><br><a href=\"https://shortstackeats.com/\">Short Stack Eatery</a><br>"
   ]
  },
  {
   "cell_type": "code",
   "execution_count": 39,
   "metadata": {},
   "outputs": [],
   "source": [
    "# now that we know it works, open a file for writing and write the string to a file\n",
    "f = None"
   ]
  },
  {
   "cell_type": "code",
   "execution_count": null,
   "metadata": {},
   "outputs": [],
   "source": []
  },
  {
   "cell_type": "markdown",
   "metadata": {},
   "source": [
    "### Part D:  Convert a Pandas Data Frame into a HTML table\n",
    "Is there an easy way to make a HTML table?\n",
    "\n",
    "Yes, Pandas has a DataFrame method `.tohtml()`\n"
   ]
  },
  {
   "cell_type": "code",
   "execution_count": 45,
   "metadata": {},
   "outputs": [],
   "source": [
    "# convert the movies DataFrame to html\n",
    "movies_html = None\n",
    "\n",
    "# write it to a file\n"
   ]
  },
  {
   "cell_type": "code",
   "execution_count": null,
   "metadata": {},
   "outputs": [],
   "source": []
  },
  {
   "cell_type": "markdown",
   "metadata": {},
   "source": [
    "## Part E: Practice\n",
    "On your own, can you take this data structure and make some kind of HTML page out of it?\n",
    "\n",
    "Hint: to insert an image into a web page, use the img tag\n",
    "\n",
    "https://www.w3schools.com/html/html_images.asp"
   ]
  },
  {
   "cell_type": "code",
   "execution_count": null,
   "metadata": {},
   "outputs": [],
   "source": [
    "adoptable_cats_with_names = [\n",
    "    {\"name\": \"furball\", \"imglink\": \"https://g.petango.com/photos/2627/ed886769-7076-411d-b96b-8ec265c341f5.jpg\"},\n",
    "    {\"name\": \"leo\", \"imglink\": \"https://g.petango.com/photos/2627/cb1e90e0-1c10-471a-95d5-107a35156eae.jpg\"},\n",
    "    {\"name\": \"peach\", \"imglink\": \"https://g.petango.com/photos/2627/fc87cde4-b761-4b99-9ea1-40df4e42de3c.jpg\"},\n",
    "    {\"name\": \"freddy\", \"imglink\": \"https://g.petango.com/photos/2627/2dfcb001-b211-4b98-b81f-0c63f43ae506.jpg\"}\n",
    "]"
   ]
  },
  {
   "cell_type": "code",
   "execution_count": null,
   "metadata": {},
   "outputs": [],
   "source": [
    "# make something here, write it to a file, view it in Jupyter Notebook tab\n",
    "\n",
    "# work a little bit at a time, add one thing, and test it"
   ]
  },
  {
   "cell_type": "code",
   "execution_count": null,
   "metadata": {},
   "outputs": [],
   "source": []
  },
  {
   "cell_type": "markdown",
   "metadata": {},
   "source": [
    "### Demo: Read a CSV file into a  dictionary, then convert into a series of web pages\n"
   ]
  },
  {
   "cell_type": "code",
   "execution_count": 3,
   "metadata": {},
   "outputs": [],
   "source": [
    "# You can see this in the Complete file, \n",
    "# run the code and see how it works\n",
    "# or try it out for yourself here"
   ]
  },
  {
   "cell_type": "code",
   "execution_count": null,
   "metadata": {},
   "outputs": [],
   "source": []
  }
 ],
 "metadata": {
  "kernelspec": {
   "display_name": "Python 3",
   "language": "python",
   "name": "python3"
  },
  "language_info": {
   "codemirror_mode": {
    "name": "ipython",
    "version": 3
   },
   "file_extension": ".py",
   "mimetype": "text/x-python",
   "name": "python",
   "nbconvert_exporter": "python",
   "pygments_lexer": "ipython3",
   "version": "3.9.1"
  }
 },
 "nbformat": 4,
 "nbformat_minor": 4
}

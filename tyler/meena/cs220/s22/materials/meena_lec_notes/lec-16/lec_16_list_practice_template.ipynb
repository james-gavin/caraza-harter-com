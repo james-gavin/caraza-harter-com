{
 "cells": [
  {
   "cell_type": "markdown",
   "id": "72348536",
   "metadata": {},
   "source": [
    "# List Practice"
   ]
  },
  {
   "cell_type": "code",
   "execution_count": null,
   "id": "ba562f5e",
   "metadata": {},
   "outputs": [],
   "source": [
    "import csv"
   ]
  },
  {
   "cell_type": "code",
   "execution_count": null,
   "id": "9d936c1c",
   "metadata": {},
   "outputs": [],
   "source": [
    "# inspired by https://automatetheboringstuff.com/2e/chapter16/\n",
    "def process_csv(filename):\n",
    "    # open the file, its a text file utf-8\n",
    "    example_file = open(filename, encoding=\"utf-8\")\n",
    "    # prepare it for reading as a CSV object\n",
    "    example_reader = csv.reader(example_file)\n",
    "    # use the built-in list function to convert this into a list of lists\n",
    "    example_data = list(example_reader)\n",
    "    # close the file to tidy up our workspace\n",
    "    example_file.close()\n",
    "    # return the list of lists\n",
    "    \n",
    "    return example_data"
   ]
  },
  {
   "cell_type": "markdown",
   "id": "89621c98",
   "metadata": {},
   "source": [
    "### Student Information Survey data"
   ]
  },
  {
   "cell_type": "code",
   "execution_count": null,
   "id": "d3c252b4",
   "metadata": {},
   "outputs": [],
   "source": [
    "# TODO: call the process_csv function and store the list of lists in cs220_csv\n"
   ]
  },
  {
   "cell_type": "code",
   "execution_count": null,
   "id": "5838ae5f",
   "metadata": {},
   "outputs": [],
   "source": [
    "# Store the header row into cs220_header, using indexing\n",
    "cs220_header = ???\n",
    "cs220_header"
   ]
  },
  {
   "cell_type": "code",
   "execution_count": null,
   "id": "66fda88d",
   "metadata": {},
   "outputs": [],
   "source": [
    "# TODO: Store all of the data rows into cs220_data, using slicing\n",
    "cs220_data = ???\n",
    "\n",
    "# TODO: use slicing to display top 3 rows data\n",
    "cs220_data[???]"
   ]
  },
  {
   "cell_type": "markdown",
   "id": "4267fe3e",
   "metadata": {},
   "source": [
    "### What is the Sleep habit for the 2nd student?"
   ]
  },
  {
   "cell_type": "code",
   "execution_count": null,
   "id": "4b8dbe8b",
   "metadata": {},
   "outputs": [],
   "source": [
    "# bad example: we hard-coded the column index\n"
   ]
  },
  {
   "cell_type": "markdown",
   "id": "4f125240",
   "metadata": {},
   "source": [
    "What if we decided to add a new column before sleeping habit? Your code will no longer work.\n",
    "\n",
    "Instead of hard-coding column index, you should use `index` method, to lookup column index from the header variable. This will also make your code so much readable."
   ]
  },
  {
   "cell_type": "code",
   "execution_count": null,
   "id": "f2e52e06",
   "metadata": {},
   "outputs": [],
   "source": []
  },
  {
   "cell_type": "markdown",
   "id": "5d298a4c",
   "metadata": {},
   "source": [
    "### What is the Lecture of the 4th student?"
   ]
  },
  {
   "cell_type": "code",
   "execution_count": null,
   "id": "3617b3de",
   "metadata": {},
   "outputs": [],
   "source": []
  },
  {
   "cell_type": "markdown",
   "id": "059de363",
   "metadata": {},
   "source": [
    "### Create a list containing Age of all students 10 years from now"
   ]
  },
  {
   "cell_type": "code",
   "execution_count": null,
   "id": "45909f22",
   "metadata": {},
   "outputs": [],
   "source": []
  },
  {
   "cell_type": "markdown",
   "id": "8e18663d",
   "metadata": {},
   "source": [
    "### cell function\n",
    "\n",
    "- It would be very helpful to define a cell function, which can handle missing data and type conversions"
   ]
  },
  {
   "cell_type": "code",
   "execution_count": null,
   "id": "bba90038",
   "metadata": {},
   "outputs": [],
   "source": [
    "def cell(row_idx, col_name):\n",
    "    \"\"\"\n",
    "    Returns the data value (cell) corresponding to the row index and \n",
    "    the column name of a CSV file.\n",
    "    \"\"\"\n",
    "    # TODO: get the index of col_name\n",
    "    \n",
    "    # TODO: get the value of cs220_data at the specified cell\n",
    "    \n",
    "    # TODO: handle missing values, by returning None\n",
    "    \n",
    "    # TODO: handle type conversions\n"
   ]
  },
  {
   "cell_type": "markdown",
   "id": "b7c8e726",
   "metadata": {},
   "source": [
    "### Find average age per lecture."
   ]
  },
  {
   "cell_type": "code",
   "execution_count": null,
   "id": "f0a05e42",
   "metadata": {
    "scrolled": true
   },
   "outputs": [],
   "source": [
    "# TODO: initialize 4 lists for the 4 lectures\n",
    "\n",
    "\n",
    "# Iterate over the data and populate the lists\n",
    " \n",
    "            \n",
    "# TODO: compute average age of each lecture\n",
    "print(\"LEC001 average student age:\", round(sum(lec1_ages) / len(lec1_ages), 2))\n",
    "print(\"LEC002 average student age:\", round(sum(lec2_ages) / len(lec2_ages), 2))\n",
    "print(\"LEC003 average student age:\", round(sum(lec3_ages) / len(lec3_ages), 2))\n",
    "print(\"LEC004 average student age:\", round(sum(lec4_ages) / len(lec4_ages), 2))"
   ]
  },
  {
   "cell_type": "markdown",
   "id": "6aeaec34",
   "metadata": {},
   "source": [
    "### `sort` method versus `sorted` function\n",
    "\n",
    "- `sort` (and other list methods) have an impact on the original list\n",
    "- `sorted` function returns a new list with expected ordering\n",
    "- default sorting order is ascending / alphanumeric\n",
    "- `reverse` parameter is applicable for both `sort` method and `sorted` function:\n",
    "    - enables you to specify descending order by passing argument as `True`"
   ]
  },
  {
   "cell_type": "code",
   "execution_count": null,
   "id": "69335f13",
   "metadata": {},
   "outputs": [],
   "source": [
    "some_list =  # TODO: Initialize some_list with a list of un-ordered integers"
   ]
  },
  {
   "cell_type": "code",
   "execution_count": null,
   "id": "62b2f81a",
   "metadata": {},
   "outputs": [],
   "source": [
    "# TODO: Invoke sort method\n",
    "\n",
    "print(some_list)\n",
    "\n",
    "# What does the sort method return? \n",
    "# TODO: Capture return value into a variable rv and print the return value.\n",
    "print(rv)"
   ]
  },
  {
   "cell_type": "markdown",
   "id": "b5738543",
   "metadata": {},
   "source": [
    "`sort` method returns `None` because it sorts the values in the original list"
   ]
  },
  {
   "cell_type": "code",
   "execution_count": null,
   "id": "bb93809e",
   "metadata": {},
   "outputs": [],
   "source": [
    "# TODO: invoke sorted function and pass some_list as argument\n",
    "# TODO: capture return value into sorted_some_list\n",
    "sorted_some_list = sorted(some_list)\n",
    "\n",
    "# What does the sorted function return? It returns a brand new list with the values in sorted order\n",
    "print(sorted_some_list)"
   ]
  },
  {
   "cell_type": "markdown",
   "id": "0b7fceb6",
   "metadata": {},
   "source": [
    "TODO: go back to `sort` method call and `sorted` function call and pass keyword argument `reverse = True`."
   ]
  },
  {
   "cell_type": "markdown",
   "id": "5c33901b",
   "metadata": {},
   "source": [
    "### set data structure\n",
    "\n",
    "- **not a sequence**\n",
    "- no ordering of values:\n",
    "    - this implies that you can only store unique values within a `set`\n",
    "- very helpful to find unique values stored in a `list`\n",
    "    - easy to convert a `list` to `set` and vice-versa.\n",
    "    - ordering is not guaranteed once we use `set`"
   ]
  },
  {
   "cell_type": "code",
   "execution_count": null,
   "id": "96914953",
   "metadata": {},
   "outputs": [],
   "source": [
    "some_set = {10, 20, 30, 30, 40, 50, 10} # use a pair of curly braces to define it\n",
    "some_set"
   ]
  },
  {
   "cell_type": "code",
   "execution_count": null,
   "id": "5249e026",
   "metadata": {},
   "outputs": [],
   "source": [
    "some_list = [10, 20, 30, 30, 40, 50, 10] # Initialize a list containing duplicate numbers\n",
    "\n",
    "# TODO: to find unique values, convert it into a set\n",
    "print(some_list)\n",
    "\n",
    "# TODO: convert the set back into a list\n",
    "print(some_list)"
   ]
  },
  {
   "cell_type": "markdown",
   "id": "245d1dff",
   "metadata": {},
   "source": [
    "Can you call `sort` method on a set?"
   ]
  },
  {
   "cell_type": "code",
   "execution_count": null,
   "id": "321105b7",
   "metadata": {},
   "outputs": [],
   "source": []
  },
  {
   "cell_type": "markdown",
   "id": "5abca57e",
   "metadata": {},
   "source": [
    "Can you pass a `set` as argument to `sorted` function? Python is intelligent :)"
   ]
  },
  {
   "cell_type": "code",
   "execution_count": null,
   "id": "14a1a216",
   "metadata": {},
   "outputs": [],
   "source": []
  },
  {
   "cell_type": "markdown",
   "id": "c656510b",
   "metadata": {},
   "source": [
    "Can you index / slice into a `set`?"
   ]
  },
  {
   "cell_type": "code",
   "execution_count": null,
   "id": "a64ec5bd",
   "metadata": {},
   "outputs": [],
   "source": []
  },
  {
   "cell_type": "code",
   "execution_count": null,
   "id": "4d61e84d",
   "metadata": {},
   "outputs": [],
   "source": []
  },
  {
   "cell_type": "markdown",
   "id": "64fd0945",
   "metadata": {},
   "source": [
    "### Find all unique zip codes. Arrange them based on ascending order."
   ]
  },
  {
   "cell_type": "code",
   "execution_count": null,
   "id": "c28e77ce",
   "metadata": {},
   "outputs": [],
   "source": [
    "# TODO: initialize list of keep track of zip codes\n",
    "zip_codes = []\n",
    "\n",
    "for row_idx in range(len(cs220_data)):\n",
    "    zip_code = cell(row_idx, \"Zip Code\")\n",
    "    \n",
    "    if zip_code != None:\n",
    "        zip_codes.append(zip_code)\n",
    "        \n",
    "zip_codes # How do we get the unique values?"
   ]
  },
  {
   "cell_type": "markdown",
   "id": "d4edf965",
   "metadata": {},
   "source": [
    "### Arrange unique zip codes based on descending order."
   ]
  },
  {
   "cell_type": "code",
   "execution_count": null,
   "id": "83926b35",
   "metadata": {},
   "outputs": [],
   "source": []
  },
  {
   "cell_type": "markdown",
   "id": "31a381fe",
   "metadata": {},
   "source": [
    "## Self-practice"
   ]
  },
  {
   "cell_type": "markdown",
   "id": "8ac26620",
   "metadata": {},
   "source": [
    "### How many students are both a procrastinator and a pet owner?"
   ]
  },
  {
   "cell_type": "markdown",
   "id": "172141ea",
   "metadata": {},
   "source": [
    "### What percentage of 18-year-olds have their major declared as \"Other\"?"
   ]
  },
  {
   "cell_type": "markdown",
   "id": "d9a7a2b1",
   "metadata": {},
   "source": [
    "### How old is the oldest basil/spinach-loving Business major?"
   ]
  },
  {
   "cell_type": "code",
   "execution_count": null,
   "id": "5fcc04f2",
   "metadata": {},
   "outputs": [],
   "source": []
  }
 ],
 "metadata": {
  "kernelspec": {
   "display_name": "Python 3 (ipykernel)",
   "language": "python",
   "name": "python3"
  },
  "language_info": {
   "codemirror_mode": {
    "name": "ipython",
    "version": 3
   },
   "file_extension": ".py",
   "mimetype": "text/x-python",
   "name": "python",
   "nbconvert_exporter": "python",
   "pygments_lexer": "ipython3",
   "version": "3.9.7"
  }
 },
 "nbformat": 4,
 "nbformat_minor": 5
}

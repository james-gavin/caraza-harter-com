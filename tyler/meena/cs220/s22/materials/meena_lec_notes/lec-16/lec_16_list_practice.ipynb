{
 "cells": [
  {
   "cell_type": "markdown",
   "id": "72348536",
   "metadata": {},
   "source": [
    "# List Practice"
   ]
  },
  {
   "cell_type": "code",
   "execution_count": 1,
   "id": "ba562f5e",
   "metadata": {},
   "outputs": [],
   "source": [
    "import csv"
   ]
  },
  {
   "cell_type": "code",
   "execution_count": 2,
   "id": "9d936c1c",
   "metadata": {},
   "outputs": [],
   "source": [
    "# inspired by https://automatetheboringstuff.com/2e/chapter16/\n",
    "def process_csv(filename):\n",
    "    # open the file, its a text file utf-8\n",
    "    example_file = open(filename, encoding=\"utf-8\")\n",
    "    # prepare it for reading as a CSV object\n",
    "    example_reader = csv.reader(example_file)\n",
    "    # use the built-in list function to convert this into a list of lists\n",
    "    example_data = list(example_reader)\n",
    "    # close the file to tidy up our workspace\n",
    "    example_file.close()\n",
    "    # return the list of lists\n",
    "    \n",
    "    return example_data"
   ]
  },
  {
   "cell_type": "markdown",
   "id": "89621c98",
   "metadata": {},
   "source": [
    "### Student Information Survey data"
   ]
  },
  {
   "cell_type": "code",
   "execution_count": 3,
   "id": "d3c252b4",
   "metadata": {},
   "outputs": [],
   "source": [
    "# TODO: call the process_csv function and store the list of lists in cs220_csv\n",
    "cs220_csv = process_csv(\"cs220_survey_data.csv\")"
   ]
  },
  {
   "cell_type": "code",
   "execution_count": 4,
   "id": "5838ae5f",
   "metadata": {},
   "outputs": [
    {
     "data": {
      "text/plain": [
       "['Lecture',\n",
       " 'Age',\n",
       " 'Primary major',\n",
       " 'Other majors',\n",
       " 'Zip Code',\n",
       " 'Pizza topping',\n",
       " 'Pet owner',\n",
       " 'Runner',\n",
       " 'Sleep habit',\n",
       " 'Procrastinator']"
      ]
     },
     "execution_count": 4,
     "metadata": {},
     "output_type": "execute_result"
    }
   ],
   "source": [
    "# Store the header row into cs220_header, using indexing\n",
    "cs220_header = cs220_csv[0]\n",
    "cs220_header"
   ]
  },
  {
   "cell_type": "code",
   "execution_count": 5,
   "id": "66fda88d",
   "metadata": {},
   "outputs": [
    {
     "data": {
      "text/plain": [
       "[['LEC002',\n",
       "  '19',\n",
       "  'Engineering: Mechanical',\n",
       "  '',\n",
       "  '53711',\n",
       "  'pepperoni',\n",
       "  'Yes',\n",
       "  'No',\n",
       "  'night owl',\n",
       "  'Maybe'],\n",
       " ['LEC002',\n",
       "  '20',\n",
       "  'Science: Physics',\n",
       "  'Astronomy-Physics, History',\n",
       "  '53726',\n",
       "  'pineapple',\n",
       "  'Yes',\n",
       "  'Yes',\n",
       "  'night owl',\n",
       "  'Yes'],\n",
       " ['LEC001',\n",
       "  '20',\n",
       "  'Science: Chemistry',\n",
       "  '',\n",
       "  '53703',\n",
       "  'pepperoni',\n",
       "  'Yes',\n",
       "  'No',\n",
       "  'early bird',\n",
       "  'No']]"
      ]
     },
     "execution_count": 5,
     "metadata": {},
     "output_type": "execute_result"
    }
   ],
   "source": [
    "# TODO: Store all of the data rows into cs220_data, using slicing\n",
    "cs220_data = cs220_csv[1:]\n",
    "\n",
    "# TODO: use slicing to display top 3 rows data\n",
    "cs220_data[:3]"
   ]
  },
  {
   "cell_type": "markdown",
   "id": "4267fe3e",
   "metadata": {},
   "source": [
    "### What is the Sleep habit for the 2nd student?"
   ]
  },
  {
   "cell_type": "code",
   "execution_count": 6,
   "id": "4b8dbe8b",
   "metadata": {},
   "outputs": [
    {
     "data": {
      "text/plain": [
       "'night owl'"
      ]
     },
     "execution_count": 6,
     "metadata": {},
     "output_type": "execute_result"
    }
   ],
   "source": [
    "cs220_data[1][8] # bad example: we hard-coded the column index"
   ]
  },
  {
   "cell_type": "markdown",
   "id": "4f125240",
   "metadata": {},
   "source": [
    "What if we decided to add a new column before sleeping habit? Your code will no longer work.\n",
    "\n",
    "Instead of hard-coding column index, you should use `index` method, to lookup column index from the header variable. This will also make your code so much readable."
   ]
  },
  {
   "cell_type": "code",
   "execution_count": 7,
   "id": "f2e52e06",
   "metadata": {},
   "outputs": [
    {
     "data": {
      "text/plain": [
       "'night owl'"
      ]
     },
     "execution_count": 7,
     "metadata": {},
     "output_type": "execute_result"
    }
   ],
   "source": [
    "cs220_data[1][cs220_header.index(\"Sleep habit\")]"
   ]
  },
  {
   "cell_type": "markdown",
   "id": "5d298a4c",
   "metadata": {},
   "source": [
    "### What is the Lecture of the 4th student?"
   ]
  },
  {
   "cell_type": "code",
   "execution_count": 8,
   "id": "3617b3de",
   "metadata": {},
   "outputs": [
    {
     "data": {
      "text/plain": [
       "'LEC004'"
      ]
     },
     "execution_count": 8,
     "metadata": {},
     "output_type": "execute_result"
    }
   ],
   "source": [
    "cs220_data[3][cs220_header.index(\"Lecture\")]"
   ]
  },
  {
   "cell_type": "markdown",
   "id": "059de363",
   "metadata": {},
   "source": [
    "### Create a list containing Age of all students 10 years from now"
   ]
  },
  {
   "cell_type": "code",
   "execution_count": 9,
   "id": "45909f22",
   "metadata": {},
   "outputs": [
    {
     "data": {
      "text/plain": [
       "[29, 30, 30]"
      ]
     },
     "execution_count": 9,
     "metadata": {},
     "output_type": "execute_result"
    }
   ],
   "source": [
    "ages_in_ten_years = []\n",
    "\n",
    "for row in cs220_data:\n",
    "    age = row[cs220_header.index(\"Age\")]\n",
    "    \n",
    "    if age == '':\n",
    "        continue\n",
    "        \n",
    "    age = int(age)\n",
    "    ages_in_ten_years.append(age + 10)\n",
    "    \n",
    "ages_in_ten_years[:3]"
   ]
  },
  {
   "cell_type": "markdown",
   "id": "8e18663d",
   "metadata": {},
   "source": [
    "### cell function\n",
    "\n",
    "- It would be very helpful to define a cell function, which can handle missing data and type conversions"
   ]
  },
  {
   "cell_type": "code",
   "execution_count": 10,
   "id": "bba90038",
   "metadata": {},
   "outputs": [],
   "source": [
    "def cell(row_idx, col_name):\n",
    "    \"\"\"\n",
    "    Returns the data value (cell) corresponding to the row index and \n",
    "    the column name of a CSV file.\n",
    "    \"\"\"\n",
    "    # TODO: get the index of col_name\n",
    "    col_idx = cs220_header.index(col_name) \n",
    "    \n",
    "    # TODO: get the value of cs220_data at the specified cell\n",
    "    val = cs220_data[row_idx][col_idx]  \n",
    "    \n",
    "    # TODO: handle missing values, by returning None\n",
    "    if val == '':\n",
    "        return None\n",
    "    \n",
    "    # TODO: handle type conversions\n",
    "    if col_name in [\"Age\",]:\n",
    "        return int(val)\n",
    "    \n",
    "    return val"
   ]
  },
  {
   "cell_type": "markdown",
   "id": "b7c8e726",
   "metadata": {},
   "source": [
    "### Find average age per lecture."
   ]
  },
  {
   "cell_type": "code",
   "execution_count": 11,
   "id": "f0a05e42",
   "metadata": {
    "scrolled": true
   },
   "outputs": [
    {
     "name": "stdout",
     "output_type": "stream",
     "text": [
      "LEC001 average student age: 19.93\n",
      "LEC002 average student age: 19.8\n",
      "LEC003 average student age: 19.38\n",
      "LEC004 average student age: 19.27\n"
     ]
    }
   ],
   "source": [
    "# TODO: initialize 4 lists for the 4 lectures\n",
    "lec1_ages = []\n",
    "lec2_ages = []\n",
    "lec3_ages = []\n",
    "lec4_ages = []\n",
    "\n",
    "# Iterate over the data and populate the lists\n",
    "\n",
    "for row_idx in range(len(cs220_data)):\n",
    "    age = cell(row_idx, \"Age\")\n",
    "    \n",
    "    if age != None:\n",
    "        lecture = cell(row_idx, \"Lecture\")\n",
    "        if lecture == \"LEC001\":\n",
    "            lec1_ages.append(age)\n",
    "        elif lecture == \"LEC002\":\n",
    "            lec2_ages.append(age)\n",
    "        elif lecture == \"LEC003\":\n",
    "            lec3_ages.append(age)\n",
    "        elif lecture == \"LEC004\":\n",
    "            lec4_ages.append(age)    \n",
    "            \n",
    "# TODO: compute average age of each lecture\n",
    "print(\"LEC001 average student age:\", round(sum(lec1_ages) / len(lec1_ages), 2))\n",
    "print(\"LEC002 average student age:\", round(sum(lec2_ages) / len(lec2_ages), 2))\n",
    "print(\"LEC003 average student age:\", round(sum(lec3_ages) / len(lec3_ages), 2))\n",
    "print(\"LEC004 average student age:\", round(sum(lec4_ages) / len(lec4_ages), 2))"
   ]
  },
  {
   "cell_type": "markdown",
   "id": "94548bf4",
   "metadata": {},
   "source": [
    "### `sort` method versus `sorted` function\n",
    "\n",
    "- `sort` (and other list methods) have an impact on the original list\n",
    "- `sorted` function returns a new list with expected ordering\n",
    "- default sorting order is ascending / alphanumeric\n",
    "- `reverse` parameter is applicable for both `sort` method and `sorted` function:\n",
    "    - enables you to specify descending order by passing argument as `True`"
   ]
  },
  {
   "cell_type": "code",
   "execution_count": 12,
   "id": "c1e555f9",
   "metadata": {},
   "outputs": [],
   "source": [
    "some_list = [10, 4, 25, 2, -10] # TODO: Initialize some_list with a list of un-ordered integers"
   ]
  },
  {
   "cell_type": "code",
   "execution_count": 13,
   "id": "152297bb",
   "metadata": {},
   "outputs": [
    {
     "name": "stdout",
     "output_type": "stream",
     "text": [
      "[-10, 2, 4, 10, 25]\n",
      "None\n"
     ]
    }
   ],
   "source": [
    "# TODO: Invoke sort method\n",
    "rv = some_list.sort()\n",
    "print(some_list)\n",
    "\n",
    "# What does the sort method return? \n",
    "# TODO: Capture return value into a variable rv and print the return value.\n",
    "print(rv)"
   ]
  },
  {
   "cell_type": "markdown",
   "id": "3c0d5e7d",
   "metadata": {},
   "source": [
    "`sort` method returns `None` because it sorts the values in the original list"
   ]
  },
  {
   "cell_type": "code",
   "execution_count": 14,
   "id": "c06d8976",
   "metadata": {},
   "outputs": [
    {
     "name": "stdout",
     "output_type": "stream",
     "text": [
      "[-10, 2, 4, 10, 25]\n"
     ]
    }
   ],
   "source": [
    "# TODO: invoke sorted function and pass some_list as argument\n",
    "# TODO: capture return value into sorted_some_list\n",
    "sorted_some_list = sorted(some_list)\n",
    "\n",
    "# What does the sorted function return? It returns a brand new list with the values in sorted order\n",
    "print(sorted_some_list)"
   ]
  },
  {
   "cell_type": "markdown",
   "id": "ded0304c",
   "metadata": {},
   "source": [
    "TODO: go back to `sort` method call and `sorted` function call and pass keyword argument `reverse = True`."
   ]
  },
  {
   "cell_type": "markdown",
   "id": "99803f1e",
   "metadata": {},
   "source": [
    "### set data structure\n",
    "\n",
    "- **not a sequence**\n",
    "- no ordering of values:\n",
    "    - this implies that you can only store unique values within a `set`\n",
    "- very helpful to find unique values stored in a `list`\n",
    "    - easy to convert a `list` to `set` and vice-versa.\n",
    "    - ordering is not guaranteed once we use `set`"
   ]
  },
  {
   "cell_type": "code",
   "execution_count": 15,
   "id": "928abc2e",
   "metadata": {},
   "outputs": [
    {
     "data": {
      "text/plain": [
       "{10, 20, 30, 40, 50}"
      ]
     },
     "execution_count": 15,
     "metadata": {},
     "output_type": "execute_result"
    }
   ],
   "source": [
    "some_set = {10, 20, 30, 30, 40, 50, 10} # use a pair of curly braces to define it\n",
    "some_set"
   ]
  },
  {
   "cell_type": "code",
   "execution_count": 16,
   "id": "2aa9bc02",
   "metadata": {},
   "outputs": [
    {
     "name": "stdout",
     "output_type": "stream",
     "text": [
      "{40, 10, 50, 20, 30}\n",
      "[40, 10, 50, 20, 30]\n"
     ]
    }
   ],
   "source": [
    "some_list = [10, 20, 30, 30, 40, 50, 10] # Initialize a list containing duplicate numbers\n",
    "\n",
    "# TODO: to find unique values, convert it into a set\n",
    "print(set(some_list))\n",
    "\n",
    "# TODO: convert the set back into a list\n",
    "print(list(set(some_list)))"
   ]
  },
  {
   "cell_type": "markdown",
   "id": "2a561420",
   "metadata": {},
   "source": [
    "Can you call `sort` method on a set?"
   ]
  },
  {
   "cell_type": "code",
   "execution_count": 17,
   "id": "0d616535",
   "metadata": {},
   "outputs": [],
   "source": [
    "# some_set.sort() \n",
    "# doesn't work: no method named sort associated with type set\n",
    "# you cannot sort a set because of the lack of ordering"
   ]
  },
  {
   "cell_type": "markdown",
   "id": "0349560e",
   "metadata": {},
   "source": [
    "Can you pass a `set` as argument to `sorted` function? Python is intelligent :)"
   ]
  },
  {
   "cell_type": "code",
   "execution_count": 18,
   "id": "1db6f699",
   "metadata": {},
   "outputs": [
    {
     "data": {
      "text/plain": [
       "[10, 20, 30, 40, 50]"
      ]
     },
     "execution_count": 18,
     "metadata": {},
     "output_type": "execute_result"
    }
   ],
   "source": [
    "sorted(some_set) # works because Python converts the set into a list and then sorts the list"
   ]
  },
  {
   "cell_type": "markdown",
   "id": "7389953d",
   "metadata": {},
   "source": [
    "Can you index / slice into a `set`?"
   ]
  },
  {
   "cell_type": "code",
   "execution_count": 19,
   "id": "8b819251",
   "metadata": {},
   "outputs": [],
   "source": [
    "# some_set[1] # doesn't work - remember set has no order"
   ]
  },
  {
   "cell_type": "code",
   "execution_count": 20,
   "id": "d0a48520",
   "metadata": {},
   "outputs": [],
   "source": [
    "# some_set[1:] # doesn't work - remember set has no order"
   ]
  },
  {
   "cell_type": "markdown",
   "id": "64fd0945",
   "metadata": {},
   "source": [
    "### Find all unique zip codes. Arrange them based on ascending order."
   ]
  },
  {
   "cell_type": "code",
   "execution_count": 21,
   "id": "c28e77ce",
   "metadata": {},
   "outputs": [
    {
     "data": {
      "text/plain": [
       "['10306',\n",
       " '19002',\n",
       " '43706',\n",
       " '5 3706',\n",
       " '52706',\n",
       " '52816',\n",
       " '53076',\n",
       " '53089',\n",
       " '53175',\n",
       " '53562',\n",
       " '53575',\n",
       " '53590',\n",
       " '53597',\n",
       " '53701',\n",
       " '53703',\n",
       " '53703-1104',\n",
       " '53704',\n",
       " '53705',\n",
       " '53706',\n",
       " '53706-1127',\n",
       " '53706-1188',\n",
       " '53706-1203',\n",
       " '53706-1406',\n",
       " '53708',\n",
       " '53711',\n",
       " '53713',\n",
       " '53715',\n",
       " '53717',\n",
       " '53719',\n",
       " '53726',\n",
       " '54636',\n",
       " '55416',\n",
       " '57305',\n",
       " '59301',\n",
       " '83001',\n",
       " '92376',\n",
       " 'internation student']"
      ]
     },
     "execution_count": 21,
     "metadata": {},
     "output_type": "execute_result"
    }
   ],
   "source": [
    "# TODO: initialize list of keep track of zip codes\n",
    "zip_codes = []\n",
    "\n",
    "for row_idx in range(len(cs220_data)):\n",
    "    zip_code = cell(row_idx, \"Zip Code\")\n",
    "    \n",
    "    if zip_code != None:\n",
    "        zip_codes.append(zip_code)\n",
    "        \n",
    "zip_codes = list(set(zip_codes))\n",
    "zip_codes.sort()\n",
    "zip_codes"
   ]
  },
  {
   "cell_type": "markdown",
   "id": "e354b781",
   "metadata": {},
   "source": [
    "### Arrange unique zip codes based on descending order."
   ]
  },
  {
   "cell_type": "code",
   "execution_count": 22,
   "id": "ca887135",
   "metadata": {},
   "outputs": [
    {
     "data": {
      "text/plain": [
       "['internation student',\n",
       " '92376',\n",
       " '83001',\n",
       " '59301',\n",
       " '57305',\n",
       " '55416',\n",
       " '54636',\n",
       " '53726',\n",
       " '53719',\n",
       " '53717',\n",
       " '53715',\n",
       " '53713',\n",
       " '53711',\n",
       " '53708',\n",
       " '53706-1406',\n",
       " '53706-1203',\n",
       " '53706-1188',\n",
       " '53706-1127',\n",
       " '53706',\n",
       " '53705',\n",
       " '53704',\n",
       " '53703-1104',\n",
       " '53703',\n",
       " '53701',\n",
       " '53597',\n",
       " '53590',\n",
       " '53575',\n",
       " '53562',\n",
       " '53175',\n",
       " '53089',\n",
       " '53076',\n",
       " '52816',\n",
       " '52706',\n",
       " '5 3706',\n",
       " '43706',\n",
       " '19002',\n",
       " '10306']"
      ]
     },
     "execution_count": 22,
     "metadata": {},
     "output_type": "execute_result"
    }
   ],
   "source": [
    "sorted(zip_codes, reverse = True)"
   ]
  },
  {
   "cell_type": "markdown",
   "id": "31a381fe",
   "metadata": {},
   "source": [
    "## Self-practice"
   ]
  },
  {
   "cell_type": "markdown",
   "id": "8ac26620",
   "metadata": {},
   "source": [
    "### How many students are both a procrastinator and a pet owner?"
   ]
  },
  {
   "cell_type": "markdown",
   "id": "172141ea",
   "metadata": {},
   "source": [
    "### What percentage of 18-year-olds have their major declared as \"Other\"?"
   ]
  },
  {
   "cell_type": "markdown",
   "id": "d9a7a2b1",
   "metadata": {},
   "source": [
    "### How old is the oldest basil/spinach-loving Business major?"
   ]
  },
  {
   "cell_type": "code",
   "execution_count": null,
   "id": "5fcc04f2",
   "metadata": {},
   "outputs": [],
   "source": []
  }
 ],
 "metadata": {
  "kernelspec": {
   "display_name": "Python 3 (ipykernel)",
   "language": "python",
   "name": "python3"
  },
  "language_info": {
   "codemirror_mode": {
    "name": "ipython",
    "version": 3
   },
   "file_extension": ".py",
   "mimetype": "text/x-python",
   "name": "python",
   "nbconvert_exporter": "python",
   "pygments_lexer": "ipython3",
   "version": "3.9.7"
  }
 },
 "nbformat": 4,
 "nbformat_minor": 5
}

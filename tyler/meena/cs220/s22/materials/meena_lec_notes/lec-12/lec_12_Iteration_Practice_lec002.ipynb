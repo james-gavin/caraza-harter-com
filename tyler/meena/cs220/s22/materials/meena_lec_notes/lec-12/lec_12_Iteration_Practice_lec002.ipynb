{
 "cells": [
  {
   "cell_type": "markdown",
   "id": "ee005a6a",
   "metadata": {},
   "source": [
    "# Iteration Practice"
   ]
  },
  {
   "cell_type": "markdown",
   "id": "c6639bb9",
   "metadata": {},
   "source": [
    "## Learning Objectives\n",
    "\n",
    "- Iterate through a dataset using for idx in range(project.count())\n",
    "- Compute the frequency of data that meets a certain criteria\n",
    "- Find the maximum or minimum value of a numeric column in a dataset\n",
    "    - Handle missing numeric values when computing a maximum / minimum\n",
    "    - Use the index of a maximum or minimum to access other information about that data item\n",
    "- Use break and continue in for loops when processing a dataset\n",
    "- Trace the output of a nested loop algorithm that prints out a game grid"
   ]
  },
  {
   "cell_type": "code",
   "execution_count": 1,
   "id": "fd90e2dc",
   "metadata": {},
   "outputs": [],
   "source": [
    "import project"
   ]
  },
  {
   "cell_type": "code",
   "execution_count": 2,
   "id": "39112f72",
   "metadata": {},
   "outputs": [
    {
     "data": {
      "text/plain": [
       "['__builtins__',\n",
       " '__cached__',\n",
       " '__doc__',\n",
       " '__file__',\n",
       " '__init__',\n",
       " '__loader__',\n",
       " '__name__',\n",
       " '__package__',\n",
       " '__spec__',\n",
       " '__student__',\n",
       " 'count',\n",
       " 'get_age',\n",
       " 'get_lecture',\n",
       " 'get_other_majors',\n",
       " 'get_pet_owner',\n",
       " 'get_piazza_topping',\n",
       " 'get_primary_major',\n",
       " 'get_procrastinator',\n",
       " 'get_runner',\n",
       " 'get_sleep_habit',\n",
       " 'get_zip_code']"
      ]
     },
     "execution_count": 2,
     "metadata": {},
     "output_type": "execute_result"
    }
   ],
   "source": [
    "# TODO: inspect the functions inside project module\n",
    "dir(project)"
   ]
  },
  {
   "cell_type": "code",
   "execution_count": 3,
   "id": "f4af75b1",
   "metadata": {},
   "outputs": [
    {
     "name": "stdout",
     "output_type": "stream",
     "text": [
      "Help on module project:\n",
      "\n",
      "NAME\n",
      "    project\n",
      "\n",
      "FUNCTIONS\n",
      "    __init__()\n",
      "    \n",
      "    count()\n",
      "        This function will return the number of records in the dataset\n",
      "    \n",
      "    get_age(idx)\n",
      "        get_age(idx) returns the age of the student in row idx\n",
      "    \n",
      "    get_lecture(idx)\n",
      "        get_lecture(idx) returns the lecture of the student in row idx\n",
      "    \n",
      "    get_other_majors(idx)\n",
      "        get_other_majors(idx) returns the secondary major of the student in row idx\n",
      "    \n",
      "    get_pet_owner(idx)\n",
      "        get_pet_owner(idx) returns whether student in row idx is a pet owner\n",
      "    \n",
      "    get_piazza_topping(idx)\n",
      "        get_piazza_topping(idx) returns the preferred pizza toppings of the student in row idx\n",
      "    \n",
      "    get_primary_major(idx)\n",
      "        get_primary_major(idx) returns the primary major of the student in row idx\n",
      "    \n",
      "    get_procrastinator(idx)\n",
      "        get_procrastinator(idx) returns whether student in row idx is a procrastinator\n",
      "    \n",
      "    get_runner(idx)\n",
      "        get_runner(idx) returns whether student in row idx is a runner\n",
      "    \n",
      "    get_sleep_habit(idx)\n",
      "        get_sleep_habit(idx) returns the sleep habit of the student in row idx\n",
      "    \n",
      "    get_zip_code(idx)\n",
      "        get_zip_code(idx) returns the residential zip code of the student in row idx\n",
      "\n",
      "DATA\n",
      "    __student__ = [{'Age': '19', 'Lecture': 'LEC002', 'Other majors': '', ...\n",
      "\n",
      "FILE\n",
      "    /Users/msyamkumar/Documents/CS220_Spring_2022/LEC002/LEC12/project.py\n",
      "\n",
      "\n"
     ]
    }
   ],
   "source": [
    "# TODO: inspect the project module's documentation\n",
    "help(project)"
   ]
  },
  {
   "cell_type": "markdown",
   "id": "865c361b",
   "metadata": {},
   "source": [
    "### How many students does the dataset have?"
   ]
  },
  {
   "cell_type": "code",
   "execution_count": 4,
   "id": "b104f820",
   "metadata": {},
   "outputs": [
    {
     "data": {
      "text/plain": [
       "720"
      ]
     },
     "execution_count": 4,
     "metadata": {},
     "output_type": "execute_result"
    }
   ],
   "source": [
    "project.count()"
   ]
  },
  {
   "cell_type": "markdown",
   "id": "2559ed75",
   "metadata": {},
   "source": [
    "### What is the age of the student at index 10?"
   ]
  },
  {
   "cell_type": "code",
   "execution_count": 5,
   "id": "b20e806d",
   "metadata": {},
   "outputs": [
    {
     "data": {
      "text/plain": [
       "'18'"
      ]
     },
     "execution_count": 5,
     "metadata": {},
     "output_type": "execute_result"
    }
   ],
   "source": [
    "id_10_age = project.get_age(10)\n",
    "id_10_age"
   ]
  },
  {
   "cell_type": "code",
   "execution_count": 6,
   "id": "b3128204",
   "metadata": {},
   "outputs": [
    {
     "name": "stdout",
     "output_type": "stream",
     "text": [
      "<class 'str'>\n"
     ]
    }
   ],
   "source": [
    "# TODO: inspect return value type of get_age function\n",
    "print(type(id_10_age))"
   ]
  },
  {
   "cell_type": "markdown",
   "id": "ffbd2c29",
   "metadata": {},
   "source": [
    "### What is the lecture number of the student at index 20?"
   ]
  },
  {
   "cell_type": "code",
   "execution_count": 7,
   "id": "65c9d6a5",
   "metadata": {},
   "outputs": [
    {
     "data": {
      "text/plain": [
       "'LEC003'"
      ]
     },
     "execution_count": 7,
     "metadata": {},
     "output_type": "execute_result"
    }
   ],
   "source": [
    "project.get_lecture(20)"
   ]
  },
  {
   "cell_type": "markdown",
   "id": "c107c550",
   "metadata": {},
   "source": [
    "### What is the sleep habit of the student at the last index?"
   ]
  },
  {
   "cell_type": "code",
   "execution_count": 8,
   "id": "f64da3bf",
   "metadata": {},
   "outputs": [
    {
     "data": {
      "text/plain": [
       "'night owl'"
      ]
     },
     "execution_count": 8,
     "metadata": {},
     "output_type": "execute_result"
    }
   ],
   "source": [
    "project.get_sleep_habit(-1)"
   ]
  },
  {
   "cell_type": "markdown",
   "id": "ae5b830c",
   "metadata": {},
   "source": [
    "### How many current lecture (example: LEC001) students are in the dataset? \n",
    "\n",
    "- use `for` loop to iterate over the dataset:\n",
    "    - `count` function gives you total number of students\n",
    "    - use `range` built-in function to generate sequence of integers from `0` to `count - 1`\n",
    "- use `get_lecture` to retrieve lecture column value\n",
    "- use `if` condition, to determine whether current student is part of `LEC001`\n",
    "    - `True` evaluation: increment count\n",
    "    - `False` evaluation: nothing to do"
   ]
  },
  {
   "cell_type": "code",
   "execution_count": 9,
   "id": "4c60d54a",
   "metadata": {},
   "outputs": [
    {
     "data": {
      "text/plain": [
       "161"
      ]
     },
     "execution_count": 9,
     "metadata": {},
     "output_type": "execute_result"
    }
   ],
   "source": [
    "count = 0\n",
    "for idx in range(project.count()):\n",
    "    lecture = project.get_lecture(idx)\n",
    "    if lecture == \"LEC002\":\n",
    "        count += 1\n",
    "count"
   ]
  },
  {
   "cell_type": "markdown",
   "id": "37b1ce73",
   "metadata": {},
   "source": [
    "### What is the age of the oldest student in current lecture (example: LEC001)?\n",
    "\n",
    "- use `for` loop to iterate over the dataset just like last problem\n",
    "- use `get_age` to retrieve lecture column value\n",
    "    - if: age is '' (empty), move on to next student using `continue`\n",
    "    - make sure to typecast return value to an integer\n",
    "- use `get_lecture` to retrieve lecture column value\n",
    "- use `if` condition, to determine whether current student is part of `LEC001`\n",
    "    - use `if` condition to determine whether current student's age is greater than previously known max age\n",
    "        - `True` evaluation: replace previously known max age with current age\n",
    "        - `False` evaluation: nothing to do"
   ]
  },
  {
   "cell_type": "code",
   "execution_count": 10,
   "id": "acafd464",
   "metadata": {},
   "outputs": [
    {
     "data": {
      "text/plain": [
       "28"
      ]
     },
     "execution_count": 10,
     "metadata": {},
     "output_type": "execute_result"
    }
   ],
   "source": [
    "max_age = 0\n",
    "\n",
    "for idx in range(project.count()):\n",
    "    lecture = project.get_lecture(idx)\n",
    "    age = project.get_age(idx)\n",
    "    \n",
    "    if age == '':\n",
    "        continue\n",
    "    age = int(age)\n",
    "    \n",
    "    if lecture == \"LEC002\":\n",
    "        if age > max_age:\n",
    "            max_age = age\n",
    "max_age"
   ]
  },
  {
   "cell_type": "markdown",
   "id": "af26fc8c",
   "metadata": {},
   "source": [
    "### What is the age of the youngest student in current lecture (example: LEC001)?\n",
    "- use similar algorithm as above question"
   ]
  },
  {
   "cell_type": "code",
   "execution_count": 11,
   "id": "07fb4f97",
   "metadata": {},
   "outputs": [
    {
     "data": {
      "text/plain": [
       "18"
      ]
     },
     "execution_count": 11,
     "metadata": {},
     "output_type": "execute_result"
    }
   ],
   "source": [
    "min_age = None\n",
    "\n",
    "for idx in range(project.count()):\n",
    "    lecture = project.get_lecture(idx)\n",
    "    age = project.get_age(idx)\n",
    "    \n",
    "    if age == '':\n",
    "        continue\n",
    "    age = int(age)\n",
    "    \n",
    "    if lecture == \"LEC002\":\n",
    "        if min_age == None or age < min_age:\n",
    "            min_age = age\n",
    "min_age"
   ]
  },
  {
   "cell_type": "markdown",
   "id": "c31648a8",
   "metadata": {},
   "source": [
    "### What primary major is the youngest student in current lecture (example: LEC001) planning to declare?\n",
    "- now, we need to find some other detail about the youngest student\n",
    "- often, you'll have to keep track of ID of the max or min, so that you can retrive other details about that data entry"
   ]
  },
  {
   "cell_type": "code",
   "execution_count": 12,
   "id": "1afce072",
   "metadata": {},
   "outputs": [
    {
     "data": {
      "text/plain": [
       "'Languages'"
      ]
     },
     "execution_count": 12,
     "metadata": {},
     "output_type": "execute_result"
    }
   ],
   "source": [
    "min_age = None\n",
    "min_age_idx = None\n",
    "\n",
    "for idx in range(project.count()):\n",
    "    lecture = project.get_lecture(idx)\n",
    "    age = project.get_age(idx)\n",
    "    \n",
    "    if age == '':\n",
    "        continue\n",
    "    age = int(age)\n",
    "    \n",
    "    if lecture == \"LEC002\":\n",
    "        if min_age == None or age < min_age:\n",
    "            min_age = age\n",
    "            min_age_idx = idx\n",
    "\n",
    "project.get_primary_major(min_age_idx)"
   ]
  },
  {
   "cell_type": "markdown",
   "id": "7697bb04",
   "metadata": {},
   "source": [
    "### Considering current lecture students (example: LEC001), what is the age of the first student residing at zip code 53715?"
   ]
  },
  {
   "cell_type": "code",
   "execution_count": 13,
   "id": "ffa0657d",
   "metadata": {},
   "outputs": [
    {
     "data": {
      "text/plain": [
       "20"
      ]
     },
     "execution_count": 13,
     "metadata": {},
     "output_type": "execute_result"
    }
   ],
   "source": [
    "search_age = None\n",
    "\n",
    "for idx in range(project.count()):\n",
    "    lecture = project.get_lecture(idx)\n",
    "    age = project.get_age(idx)\n",
    "    zipcode = project.get_zip_code(idx)\n",
    "    \n",
    "    if age == '' or zipcode == '':\n",
    "        continue\n",
    "    age = int(age)\n",
    "    \n",
    "    if lecture == \"LEC002\" and zipcode == \"53715\":\n",
    "        search_age = age\n",
    "        break # you found the first such student, so you can terminate the loop execution\n",
    "\n",
    "search_age"
   ]
  },
  {
   "cell_type": "markdown",
   "id": "775ad966",
   "metadata": {},
   "source": [
    "## Self-practice"
   ]
  },
  {
   "cell_type": "markdown",
   "id": "e8ce2be1",
   "metadata": {},
   "source": [
    "### How many current lecture (example: LEC001) students are runners? "
   ]
  },
  {
   "cell_type": "markdown",
   "id": "8292d0ce",
   "metadata": {},
   "source": [
    "### How many current lecture (example: LEC001) students are procrastinators? "
   ]
  },
  {
   "cell_type": "markdown",
   "id": "7b773c94",
   "metadata": {},
   "source": [
    "### How many current lecture (example: LEC001) students own or have owned a pet?"
   ]
  },
  {
   "cell_type": "markdown",
   "id": "7371e1c7",
   "metadata": {},
   "source": [
    "### How many current lecture (example: LEC001) students like pineapple on their pizza?"
   ]
  },
  {
   "cell_type": "markdown",
   "id": "f77d6868",
   "metadata": {},
   "source": [
    "### What sleep habit does the youngest student in current lecture (example: LEC001) have?\n",
    "- try to solve this from scratch, instead of copy-pasting code to find mimimum age"
   ]
  },
  {
   "cell_type": "markdown",
   "id": "9af5ff61",
   "metadata": {},
   "source": [
    "### What sleep habit does the oldest student in current lecture (example: LEC001) have?"
   ]
  },
  {
   "cell_type": "markdown",
   "id": "00d20d55",
   "metadata": {},
   "source": [
    "### What is the age of the youngest student residing in zip code 53706?"
   ]
  },
  {
   "cell_type": "markdown",
   "id": "6ac538da",
   "metadata": {},
   "source": [
    "### Considering current lecture students (example: LEC001), is the first student with age 18 a runner?"
   ]
  }
 ],
 "metadata": {
  "kernelspec": {
   "display_name": "Python 3 (ipykernel)",
   "language": "python",
   "name": "python3"
  },
  "language_info": {
   "codemirror_mode": {
    "name": "ipython",
    "version": 3
   },
   "file_extension": ".py",
   "mimetype": "text/x-python",
   "name": "python",
   "nbconvert_exporter": "python",
   "pygments_lexer": "ipython3",
   "version": "3.9.7"
  }
 },
 "nbformat": 4,
 "nbformat_minor": 5
}

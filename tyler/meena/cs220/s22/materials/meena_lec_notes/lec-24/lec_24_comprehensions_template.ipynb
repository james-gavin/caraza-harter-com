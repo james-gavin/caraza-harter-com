{
 "cells": [
  {
   "cell_type": "markdown",
   "metadata": {},
   "source": [
    "# Comprehensions"
   ]
  },
  {
   "cell_type": "code",
   "execution_count": null,
   "metadata": {},
   "outputs": [],
   "source": [
    "# import statements\n"
   ]
  },
  {
   "cell_type": "markdown",
   "metadata": {},
   "source": [
    "## Review of lambdas\n",
    "- lambda functions are a way to abstract a function reference\n",
    "- lambdas are simple functions with:\n",
    "    - multiple possible parameters\n",
    "    - single expression line as the function body\n",
    "- lambdas are useful abstractions for:\n",
    "    - mathematical functions\n",
    "    - lookup operations\n",
    "- lambdas are often associated with a collection of values within a list\n",
    "- Syntax: *lambda* parameters: expression"
   ]
  },
  {
   "cell_type": "markdown",
   "metadata": {},
   "source": [
    "### Let's sort the menu in different ways\n",
    "- whenever you need to custom sort a dictionary, you must convert dict to list of tuples\n",
    "- recall that you can use items method (applicable only to a dictionary)"
   ]
  },
  {
   "cell_type": "code",
   "execution_count": null,
   "metadata": {},
   "outputs": [],
   "source": [
    "menu = { \n",
    "        'broccoli': 4.99,\n",
    "        'orange': 1.19,\n",
    "        'pie': 3.95, \n",
    "        'donut': 1.25,    \n",
    "        'muffin': 2.25,\n",
    "        'cookie': 0.79,  \n",
    "        'milk':1.65, \n",
    "        'bread': 5.99}  \n",
    "menu"
   ]
  },
  {
   "cell_type": "code",
   "execution_count": null,
   "metadata": {},
   "outputs": [],
   "source": []
  },
  {
   "cell_type": "markdown",
   "metadata": {},
   "source": [
    "### Sort menu using item names (keys)\n",
    "- let's first solve this using extract function\n",
    "- recall that extract function deals with one of the inner items in the outer data structure\n",
    "    - outer data structure is list\n",
    "    - inner data structure is tuple"
   ]
  },
  {
   "cell_type": "code",
   "execution_count": null,
   "metadata": {},
   "outputs": [],
   "source": [
    "def extract(???):\n",
    "    return ???"
   ]
  },
  {
   "cell_type": "code",
   "execution_count": null,
   "metadata": {},
   "outputs": [],
   "source": [
    "sorted(menu.items(), key = ???)"
   ]
  },
  {
   "cell_type": "code",
   "execution_count": null,
   "metadata": {},
   "outputs": [],
   "source": [
    "dict(sorted(menu.items(), key = extract))"
   ]
  },
  {
   "cell_type": "markdown",
   "metadata": {},
   "source": [
    "### Now let's solve the same problem using lambdas\n",
    "- if you are having trouble thinking through the lambda solution directly:\n",
    "    - write an extract function\n",
    "    - then abstract it to a lambda"
   ]
  },
  {
   "cell_type": "code",
   "execution_count": null,
   "metadata": {},
   "outputs": [],
   "source": [
    "dict(sorted(menu.items(), key = lambda ???: ???))"
   ]
  },
  {
   "cell_type": "markdown",
   "metadata": {},
   "source": [
    "### Sort menu using prices (values)"
   ]
  },
  {
   "cell_type": "code",
   "execution_count": null,
   "metadata": {},
   "outputs": [],
   "source": [
    "dict(sorted(menu.items(), key = lambda menu_tuple: menu_tuple[???]))"
   ]
  },
  {
   "cell_type": "markdown",
   "metadata": {},
   "source": [
    "### Sort menu using length of item names (keys)"
   ]
  },
  {
   "cell_type": "code",
   "execution_count": null,
   "metadata": {},
   "outputs": [],
   "source": [
    "dict(sorted(menu.items(), key = lambda menu_tuple: len(menu_tuple[???])))"
   ]
  },
  {
   "cell_type": "markdown",
   "metadata": {},
   "source": [
    "### Sort menu using decreasing order of prices - v1"
   ]
  },
  {
   "cell_type": "code",
   "execution_count": null,
   "metadata": {},
   "outputs": [],
   "source": [
    "dict(sorted(menu.items(), key = lambda menu_tuple: menu_tuple[1], ???))"
   ]
  },
  {
   "cell_type": "markdown",
   "metadata": {},
   "source": [
    "### Sort menu using decreasing order of prices - v2"
   ]
  },
  {
   "cell_type": "code",
   "execution_count": null,
   "metadata": {},
   "outputs": [],
   "source": [
    "dict(sorted(menu.items(), key = lambda menu_tuple: ???))"
   ]
  },
  {
   "cell_type": "markdown",
   "metadata": {},
   "source": [
    "### Iterable\n",
    "\n",
    "- What is an iterable? Anything that you can write a for loop to iterate over is called as an iterable.\n",
    "- Examples of iteratables:\n",
    "    - `list`, `str`, `tuple`, `range()` (any sequence)\n",
    "    - `dict`"
   ]
  },
  {
   "cell_type": "markdown",
   "metadata": {},
   "source": [
    "## List comprehensions\n",
    "\n",
    "- concise way of generating a new list based on existing list item manipulation \n",
    "- short syntax - easier to read, very difficult to debug\n",
    "\n",
    "<pre>\n",
    "new_list = [expression for val in iterable if conditional_expression]\n",
    "</pre>\n",
    "- iteratble: reference to any iterable object instance\n",
    "- conditional_expression: filters the values in the original list based on a specific requirement\n",
    "- expression: can simply be val or some other transformation of val\n",
    "- enclosing [ ] represents new list\n",
    "\n",
    "Best approach:\n",
    "- write for clause first\n",
    "- if condition expression next\n",
    "- expression in front of for clause last"
   ]
  },
  {
   "cell_type": "markdown",
   "metadata": {},
   "source": [
    "### Which animals are in all caps?"
   ]
  },
  {
   "cell_type": "code",
   "execution_count": null,
   "metadata": {},
   "outputs": [],
   "source": [
    "# Recap: retain animals in all caps\n",
    "animals = [\"lion\", \"badger\", \"RHINO\", \"GIRAFFE\"]\n",
    "caps_animals = []\n",
    "print(\"Original:\", animals)\n",
    "\n",
    "\n",
    "        \n",
    "print(\"New list:\", caps_animals)"
   ]
  },
  {
   "cell_type": "markdown",
   "metadata": {},
   "source": [
    "### Now let's solve the same problem using list comprehension\n",
    "<pre>\n",
    "new_list = [expression for val in iterable if conditional_expression]\n",
    "</pre>\n",
    "For the below example:\n",
    "- iterable: animals variable (storing reference to a list object instance)\n",
    "- conditional_expression: val.upper() == val\n",
    "- expression: val itself"
   ]
  },
  {
   "cell_type": "code",
   "execution_count": null,
   "metadata": {},
   "outputs": [],
   "source": [
    "# List comprehension version\n",
    "print(\"Original:\", animals)\n",
    "\n",
    "caps_animals = ???\n",
    "print(\"New list:\", caps_animals)"
   ]
  },
  {
   "cell_type": "markdown",
   "metadata": {},
   "source": [
    "### Why is to tougher to debug?\n",
    "- you cannot use a print function call in a comprehension\n",
    "- you need to decompose each part and test it separately\n",
    "- recommended to write the comprehension with a simpler example"
   ]
  },
  {
   "cell_type": "markdown",
   "metadata": {},
   "source": [
    "### Other than a badger, what animals can you see at Henry Vilas Zoo?"
   ]
  },
  {
   "cell_type": "code",
   "execution_count": null,
   "metadata": {},
   "outputs": [],
   "source": [
    "print(\"Original:\", animals)\n",
    "\n",
    "non_badger_zoo_animals = ???\n",
    "print(\"New list:\", non_badger_zoo_animals)"
   ]
  },
  {
   "cell_type": "markdown",
   "metadata": {},
   "source": [
    "### Can we convert all of the animals to all caps?\n",
    "- if clause is optional"
   ]
  },
  {
   "cell_type": "code",
   "execution_count": null,
   "metadata": {},
   "outputs": [],
   "source": [
    "print(\"Original:\", animals)\n",
    "\n",
    "all_caps_animals = ???\n",
    "print(\"New list:\", all_caps_animals)"
   ]
  },
  {
   "cell_type": "markdown",
   "metadata": {},
   "source": [
    "### Can we generate a list to store length of each animal name?"
   ]
  },
  {
   "cell_type": "code",
   "execution_count": null,
   "metadata": {},
   "outputs": [],
   "source": [
    "print(\"Original:\", animals)\n",
    "\n",
    "animals_name_length = ???\n",
    "print(\"New list:\", animals_name_length)"
   ]
  },
  {
   "cell_type": "markdown",
   "metadata": {},
   "source": [
    "### Using if ... else ... in a list comprehension\n",
    "- syntax changes slightly for if ... else ...\n",
    "\n",
    "<pre>\n",
    "new_list = [expression if conditional_expression else alternate_expression for val in iterable ]\n",
    "</pre>\n",
    "\n",
    "- when an item satifies the if clause, you don't execute the else clause\n",
    "    - expression is the item in new list when if condition is satified\n",
    "- when an item does not satisfy the if clause, you execute the else clause\n",
    "    - alternate_expression is the item in new list when if condition is not satisfied\n",
    "    \n",
    "- if ... else ... clauses need to come before for (not the same as just using if clause)"
   ]
  },
  {
   "cell_type": "markdown",
   "metadata": {},
   "source": [
    "### What if we only care about the badger? Replace non-badger animals with \"some animal\"."
   ]
  },
  {
   "cell_type": "code",
   "execution_count": null,
   "metadata": {},
   "outputs": [],
   "source": [
    "animals = [\"lion\", \"badger\", \"RHINO\", \"GIRAFFE\"]\n",
    "print(\"Original:\", animals)\n",
    "\n",
    "non_badger_zoo_animals = ???\n",
    "print(\"New list:\", non_badger_zoo_animals)"
   ]
  },
  {
   "cell_type": "markdown",
   "metadata": {},
   "source": [
    "## Dict comprehensions\n",
    "- Version 1:\n",
    "<pre>\n",
    "{expression for val in iterable if condition}\n",
    "</pre>\n",
    "- expression has the form <pre>key: val</pre>\n",
    "<br/>\n",
    "- Version 2 --- the dict function call by passing list comprehension as argument:\n",
    "<pre>dict([expression for val in iterable if condition])</pre>\n",
    "- expression has the form <pre>(key, val)</pre>"
   ]
  },
  {
   "cell_type": "markdown",
   "metadata": {},
   "source": [
    "### Create a dict to map number to its square (for numbers 1 to 5)"
   ]
  },
  {
   "cell_type": "code",
   "execution_count": null,
   "metadata": {},
   "outputs": [],
   "source": [
    "squares_dict = dict()\n",
    "for val in range(1, 6):\n",
    "    squares_dict[val] = val * val\n",
    "print(squares_dict)"
   ]
  },
  {
   "cell_type": "markdown",
   "metadata": {},
   "source": [
    "### Dict comprehension --- version 1"
   ]
  },
  {
   "cell_type": "code",
   "execution_count": null,
   "metadata": {},
   "outputs": [],
   "source": [
    "square_dict = ???\n",
    "print(square_dict)"
   ]
  },
  {
   "cell_type": "markdown",
   "metadata": {},
   "source": [
    "### Dict comprehension --- version 2"
   ]
  },
  {
   "cell_type": "code",
   "execution_count": null,
   "metadata": {},
   "outputs": [],
   "source": [
    "square_dict = ???\n",
    "print(square_dict)"
   ]
  },
  {
   "cell_type": "markdown",
   "metadata": {},
   "source": [
    "### Tuple unpacking\n",
    "- you can directly specific variables to unpack the items inside a tuple"
   ]
  },
  {
   "cell_type": "code",
   "execution_count": null,
   "metadata": {},
   "outputs": [],
   "source": [
    "scores_dict = {\"Bob\": \"32\", \"Cindy\" : \"45\", \"Alice\": \"39\", \"Unknown\": \"None\"}\n",
    "\n",
    "for tuple_item in scores_dict.items():\n",
    "    print(tuple_item)\n",
    "    \n",
    "print(\"--------------------\")\n",
    "\n",
    "for key, val in scores_dict.items():\n",
    "    print(key, val)"
   ]
  },
  {
   "cell_type": "markdown",
   "metadata": {},
   "source": [
    "### From square_dict, let's generate cube_dict"
   ]
  },
  {
   "cell_type": "code",
   "execution_count": null,
   "metadata": {},
   "outputs": [],
   "source": [
    "cube_dict = ???\n",
    "print(cube_dict)"
   ]
  },
  {
   "cell_type": "markdown",
   "metadata": {},
   "source": [
    "### Convert Madison *F temperature to *C\n",
    "- <pre>C = 5 / 9 * (F - 32)</pre>"
   ]
  },
  {
   "cell_type": "code",
   "execution_count": null,
   "metadata": {},
   "outputs": [],
   "source": [
    "madison_fahrenheit = {'Jan': 26, 'Feb': 31, 'Mar': 43, 'Apr': 57, 'May': 68}\n",
    "print(\"Original:\", madison_fahrenheit)\n",
    "\n",
    "madison_celsius = {key: ??? for key, val in madison_fahrenheit.items()}\n",
    "print(\"New dict:\", madison_celsius)"
   ]
  },
  {
   "cell_type": "markdown",
   "metadata": {},
   "source": [
    "### Convert type of values in a dictionary"
   ]
  },
  {
   "cell_type": "code",
   "execution_count": null,
   "metadata": {},
   "outputs": [],
   "source": [
    "scores_dict = {\"Bob\": \"32\", \"Cindy\" : \"45\", \"Alice\": \"39\", \"Unknown\": \"None\"}\n",
    "print(\"Original:\", scores_dict)\n",
    "\n",
    "updated_scores_dict = {??? for key, val in scores_dict.items()}\n",
    "print(\"New dict:\", updated_scores_dict)"
   ]
  },
  {
   "cell_type": "markdown",
   "metadata": {},
   "source": [
    "### Create a dictionary to map each player to their max score"
   ]
  },
  {
   "cell_type": "code",
   "execution_count": null,
   "metadata": {},
   "outputs": [],
   "source": [
    "scores_dict = {\"Bob\": [18, 72, 61, 5, 83], \n",
    "               \"Cindy\" : [27, 11, 55, 73, 87], \n",
    "               \"Alice\": [16, 33, 42, 89, 90], \n",
    "               \"Meena\": [39, 93, 9, 3, 55]}\n",
    "\n",
    "{???: ??? for player, scores in scores_dict.items()}"
   ]
  },
  {
   "cell_type": "markdown",
   "metadata": {},
   "source": [
    "## Practice problems - sorted + lambda"
   ]
  },
  {
   "cell_type": "markdown",
   "metadata": {},
   "source": [
    "### Use sorted and lambda function to sort this list of dictionaries based on the score, from low to high"
   ]
  },
  {
   "cell_type": "code",
   "execution_count": null,
   "metadata": {},
   "outputs": [],
   "source": [
    "scores = [  {\"name\": \"Bob\", \"score\": 32} ,\n",
    "            {\"name\": \"Cindy\", \"score\" : 45}, \n",
    "            {\"name\": \"Alice\", \"score\": 39}\n",
    "     ]\n",
    "\n"
   ]
  },
  {
   "cell_type": "markdown",
   "metadata": {},
   "source": [
    "### Now, modify the lambda function part alone to sort the list of dictionaries based on the score, from high to low"
   ]
  },
  {
   "cell_type": "code",
   "execution_count": null,
   "metadata": {},
   "outputs": [],
   "source": []
  },
  {
   "cell_type": "markdown",
   "metadata": {},
   "source": [
    "### Now, go back to the previous lambda function definition and use sorted parameters to sort the list of dictionaries based on the score, from high to low"
   ]
  },
  {
   "cell_type": "code",
   "execution_count": null,
   "metadata": {},
   "outputs": [],
   "source": []
  },
  {
   "cell_type": "markdown",
   "metadata": {},
   "source": [
    "## Practice problems - comprehensions"
   ]
  },
  {
   "cell_type": "markdown",
   "metadata": {},
   "source": [
    "### Using range and raise10 functions, generate a list to store 10 to powers 1, 2, 3, 4, and 5"
   ]
  },
  {
   "cell_type": "code",
   "execution_count": null,
   "metadata": {},
   "outputs": [],
   "source": []
  },
  {
   "cell_type": "markdown",
   "metadata": {},
   "source": [
    "### Generate a new list where each number is a square of the original nummber in numbers list"
   ]
  },
  {
   "cell_type": "code",
   "execution_count": null,
   "metadata": {},
   "outputs": [],
   "source": [
    "numbers = [44, 33, 56, 21, 19]\n",
    "\n"
   ]
  },
  {
   "cell_type": "markdown",
   "metadata": {},
   "source": [
    "### Generate a new list of floats from vac_rates, that is rounded to 3 decimal points"
   ]
  },
  {
   "cell_type": "code",
   "execution_count": null,
   "metadata": {},
   "outputs": [],
   "source": [
    "vac_rates = [23.329868, 51.28772, 76.12232, 17.2, 10.5]\n",
    "\n"
   ]
  },
  {
   "cell_type": "markdown",
   "metadata": {},
   "source": [
    "### Generate a new list of ints from words, that contains length of each word"
   ]
  },
  {
   "cell_type": "code",
   "execution_count": null,
   "metadata": {},
   "outputs": [],
   "source": [
    "words = ['My', 'very', 'educated', 'mother', 'just', 'served', 'us', 'noodles']\n",
    "\n"
   ]
  },
  {
   "cell_type": "markdown",
   "metadata": {},
   "source": [
    "### Create a 2 dictionaries to map each player to their min and avg score"
   ]
  },
  {
   "cell_type": "code",
   "execution_count": null,
   "metadata": {},
   "outputs": [],
   "source": [
    "scores_dict = {\"Bob\": [18, 72, 61, 5, 83], \n",
    "               \"Cindy\" : [27, 11, 55, 73, 87], \n",
    "               \"Alice\": [16, 33, 42, 89, 90], \n",
    "               \"Meena\": [39, 93, 9, 3, 55]}\n",
    "\n"
   ]
  },
  {
   "cell_type": "code",
   "execution_count": null,
   "metadata": {},
   "outputs": [],
   "source": []
  },
  {
   "cell_type": "code",
   "execution_count": null,
   "metadata": {},
   "outputs": [],
   "source": []
  }
 ],
 "metadata": {
  "kernelspec": {
   "display_name": "Python 3 (ipykernel)",
   "language": "python",
   "name": "python3"
  },
  "language_info": {
   "codemirror_mode": {
    "name": "ipython",
    "version": 3
   },
   "file_extension": ".py",
   "mimetype": "text/x-python",
   "name": "python",
   "nbconvert_exporter": "python",
   "pygments_lexer": "ipython3",
   "version": "3.9.7"
  }
 },
 "nbformat": 4,
 "nbformat_minor": 2
}

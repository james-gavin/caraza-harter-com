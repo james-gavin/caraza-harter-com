{
 "cells": [
  {
   "cell_type": "markdown",
   "metadata": {},
   "source": [
    "# Comprehensions"
   ]
  },
  {
   "cell_type": "code",
   "execution_count": 1,
   "metadata": {},
   "outputs": [],
   "source": [
    "# import statements\n",
    "import math\n",
    "import csv\n",
    "from statistics import mean"
   ]
  },
  {
   "cell_type": "markdown",
   "metadata": {},
   "source": [
    "## Review of lambdas\n",
    "- lambda functions are a way to abstract a function reference\n",
    "- lambdas are simple functions with:\n",
    "    - multiple possible parameters\n",
    "    - single expression line as the function body\n",
    "- lambdas are useful abstractions for:\n",
    "    - mathematical functions\n",
    "    - lookup operations\n",
    "- lambdas are often associated with a collection of values within a list\n",
    "- Syntax: *lambda* parameters: expression"
   ]
  },
  {
   "cell_type": "markdown",
   "metadata": {},
   "source": [
    "### Let's sort the menu in different ways\n",
    "- whenever you need to custom sort a dictionary, you must convert dict to list of tuples\n",
    "- recall that you can use items method (applicable only to a dictionary)"
   ]
  },
  {
   "cell_type": "code",
   "execution_count": 2,
   "metadata": {},
   "outputs": [
    {
     "data": {
      "text/plain": [
       "{'broccoli': 4.99,\n",
       " 'orange': 1.19,\n",
       " 'pie': 3.95,\n",
       " 'donut': 1.25,\n",
       " 'muffin': 2.25,\n",
       " 'cookie': 0.79,\n",
       " 'milk': 1.65,\n",
       " 'bread': 5.99}"
      ]
     },
     "execution_count": 2,
     "metadata": {},
     "output_type": "execute_result"
    }
   ],
   "source": [
    "menu = { \n",
    "        'broccoli': 4.99,\n",
    "        'orange': 1.19,\n",
    "        'pie': 3.95, \n",
    "        'donut': 1.25,    \n",
    "        'muffin': 2.25,\n",
    "        'cookie': 0.79,  \n",
    "        'milk':1.65, \n",
    "        'bread': 5.99}  \n",
    "menu"
   ]
  },
  {
   "cell_type": "code",
   "execution_count": 3,
   "metadata": {},
   "outputs": [
    {
     "data": {
      "text/plain": [
       "dict_items([('broccoli', 4.99), ('orange', 1.19), ('pie', 3.95), ('donut', 1.25), ('muffin', 2.25), ('cookie', 0.79), ('milk', 1.65), ('bread', 5.99)])"
      ]
     },
     "execution_count": 3,
     "metadata": {},
     "output_type": "execute_result"
    }
   ],
   "source": [
    "menu.items()"
   ]
  },
  {
   "cell_type": "markdown",
   "metadata": {},
   "source": [
    "### Sort menu using item names (keys)\n",
    "- let's first solve this using extract function\n",
    "- recall that extract function deals with one of the inner items in the outer data structure\n",
    "    - outer data structure is list\n",
    "    - inner data structure is tuple"
   ]
  },
  {
   "cell_type": "code",
   "execution_count": 4,
   "metadata": {},
   "outputs": [],
   "source": [
    "def extract(menu_tuple):\n",
    "    return menu_tuple[0]"
   ]
  },
  {
   "cell_type": "code",
   "execution_count": 5,
   "metadata": {},
   "outputs": [
    {
     "data": {
      "text/plain": [
       "[('bread', 5.99),\n",
       " ('broccoli', 4.99),\n",
       " ('cookie', 0.79),\n",
       " ('donut', 1.25),\n",
       " ('milk', 1.65),\n",
       " ('muffin', 2.25),\n",
       " ('orange', 1.19),\n",
       " ('pie', 3.95)]"
      ]
     },
     "execution_count": 5,
     "metadata": {},
     "output_type": "execute_result"
    }
   ],
   "source": [
    "sorted(menu.items(), key = extract)"
   ]
  },
  {
   "cell_type": "code",
   "execution_count": 6,
   "metadata": {},
   "outputs": [
    {
     "data": {
      "text/plain": [
       "{'bread': 5.99,\n",
       " 'broccoli': 4.99,\n",
       " 'cookie': 0.79,\n",
       " 'donut': 1.25,\n",
       " 'milk': 1.65,\n",
       " 'muffin': 2.25,\n",
       " 'orange': 1.19,\n",
       " 'pie': 3.95}"
      ]
     },
     "execution_count": 6,
     "metadata": {},
     "output_type": "execute_result"
    }
   ],
   "source": [
    "dict(sorted(menu.items(), key = extract))"
   ]
  },
  {
   "cell_type": "markdown",
   "metadata": {},
   "source": [
    "### Now let's solve the same problem using lambdas\n",
    "- if you are having trouble thinking through the lambda solution directly:\n",
    "    - write an extract function\n",
    "    - then abstract it to a lambda"
   ]
  },
  {
   "cell_type": "code",
   "execution_count": 7,
   "metadata": {},
   "outputs": [
    {
     "data": {
      "text/plain": [
       "{'bread': 5.99,\n",
       " 'broccoli': 4.99,\n",
       " 'cookie': 0.79,\n",
       " 'donut': 1.25,\n",
       " 'milk': 1.65,\n",
       " 'muffin': 2.25,\n",
       " 'orange': 1.19,\n",
       " 'pie': 3.95}"
      ]
     },
     "execution_count": 7,
     "metadata": {},
     "output_type": "execute_result"
    }
   ],
   "source": [
    "dict(sorted(menu.items(), key = lambda menu_tuple: menu_tuple[0]))"
   ]
  },
  {
   "cell_type": "markdown",
   "metadata": {},
   "source": [
    "### Sort menu using prices (values)"
   ]
  },
  {
   "cell_type": "code",
   "execution_count": 8,
   "metadata": {},
   "outputs": [
    {
     "data": {
      "text/plain": [
       "{'cookie': 0.79,\n",
       " 'orange': 1.19,\n",
       " 'donut': 1.25,\n",
       " 'milk': 1.65,\n",
       " 'muffin': 2.25,\n",
       " 'pie': 3.95,\n",
       " 'broccoli': 4.99,\n",
       " 'bread': 5.99}"
      ]
     },
     "execution_count": 8,
     "metadata": {},
     "output_type": "execute_result"
    }
   ],
   "source": [
    "dict(sorted(menu.items(), key = lambda menu_tuple: menu_tuple[1]))"
   ]
  },
  {
   "cell_type": "markdown",
   "metadata": {},
   "source": [
    "### Sort menu using length of item names (keys)"
   ]
  },
  {
   "cell_type": "code",
   "execution_count": 9,
   "metadata": {},
   "outputs": [
    {
     "data": {
      "text/plain": [
       "{'pie': 3.95,\n",
       " 'milk': 1.65,\n",
       " 'donut': 1.25,\n",
       " 'bread': 5.99,\n",
       " 'orange': 1.19,\n",
       " 'muffin': 2.25,\n",
       " 'cookie': 0.79,\n",
       " 'broccoli': 4.99}"
      ]
     },
     "execution_count": 9,
     "metadata": {},
     "output_type": "execute_result"
    }
   ],
   "source": [
    "dict(sorted(menu.items(), key = lambda menu_tuple: len(menu_tuple[0])))"
   ]
  },
  {
   "cell_type": "markdown",
   "metadata": {},
   "source": [
    "### Sort menu using decreasing order of prices - v1"
   ]
  },
  {
   "cell_type": "code",
   "execution_count": 10,
   "metadata": {},
   "outputs": [
    {
     "data": {
      "text/plain": [
       "{'bread': 5.99,\n",
       " 'broccoli': 4.99,\n",
       " 'pie': 3.95,\n",
       " 'muffin': 2.25,\n",
       " 'milk': 1.65,\n",
       " 'donut': 1.25,\n",
       " 'orange': 1.19,\n",
       " 'cookie': 0.79}"
      ]
     },
     "execution_count": 10,
     "metadata": {},
     "output_type": "execute_result"
    }
   ],
   "source": [
    "dict(sorted(menu.items(), key = lambda menu_tuple: menu_tuple[1], reverse = True))"
   ]
  },
  {
   "cell_type": "markdown",
   "metadata": {},
   "source": [
    "### Sort menu using decreasing order of prices - v2"
   ]
  },
  {
   "cell_type": "code",
   "execution_count": 11,
   "metadata": {},
   "outputs": [
    {
     "data": {
      "text/plain": [
       "{'bread': 5.99,\n",
       " 'broccoli': 4.99,\n",
       " 'pie': 3.95,\n",
       " 'muffin': 2.25,\n",
       " 'milk': 1.65,\n",
       " 'donut': 1.25,\n",
       " 'orange': 1.19,\n",
       " 'cookie': 0.79}"
      ]
     },
     "execution_count": 11,
     "metadata": {},
     "output_type": "execute_result"
    }
   ],
   "source": [
    "dict(sorted(menu.items(), key = lambda menu_tuple: -menu_tuple[1]))"
   ]
  },
  {
   "cell_type": "markdown",
   "metadata": {},
   "source": [
    "### Iterable\n",
    "\n",
    "- What is an iterable? Anything that you can write a for loop to iterate over is called as an iterable.\n",
    "- Examples of iteratables:\n",
    "    - `list`, `str`, `tuple`, `range()` (any sequence)\n",
    "    - `dict`"
   ]
  },
  {
   "cell_type": "markdown",
   "metadata": {},
   "source": [
    "## List comprehensions\n",
    "\n",
    "- concise way of generating a new list based on existing list item manipulation \n",
    "- short syntax - easier to read, very difficult to debug\n",
    "\n",
    "<pre>\n",
    "new_list = [expression for val in iterable if conditional_expression]\n",
    "</pre>\n",
    "- iteratble: reference to any iterable object instance\n",
    "- conditional_expression: filters the values in the original list based on a specific requirement\n",
    "- expression: can simply be val or some other transformation of val\n",
    "- enclosing [ ] represents new list\n",
    "\n",
    "Best approach:\n",
    "- write for clause first\n",
    "- if condition expression next\n",
    "- expression in front of for clause last"
   ]
  },
  {
   "cell_type": "markdown",
   "metadata": {},
   "source": [
    "### Which animals are in all caps?"
   ]
  },
  {
   "cell_type": "code",
   "execution_count": 12,
   "metadata": {},
   "outputs": [
    {
     "name": "stdout",
     "output_type": "stream",
     "text": [
      "Original: ['lion', 'badger', 'RHINO', 'GIRAFFE']\n",
      "New list: ['RHINO', 'GIRAFFE']\n"
     ]
    }
   ],
   "source": [
    "# Recap: retain animals in all caps\n",
    "animals = [\"lion\", \"badger\", \"RHINO\", \"GIRAFFE\"]\n",
    "caps_animals = []\n",
    "print(\"Original:\", animals)\n",
    "\n",
    "for val in animals:\n",
    "    if val.upper() == val: # Do we want to keep the current animal?\n",
    "        caps_animals.append(val)\n",
    "        \n",
    "print(\"New list:\", caps_animals)"
   ]
  },
  {
   "cell_type": "markdown",
   "metadata": {},
   "source": [
    "### Now let's solve the same problem using list comprehension\n",
    "<pre>\n",
    "new_list = [expression for val in iterable if conditional_expression]\n",
    "</pre>\n",
    "For the below example:\n",
    "- iterable: animals variable (storing reference to a list object instance)\n",
    "- conditional_expression: val.upper() == val\n",
    "- expression: val itself"
   ]
  },
  {
   "cell_type": "code",
   "execution_count": 13,
   "metadata": {},
   "outputs": [
    {
     "name": "stdout",
     "output_type": "stream",
     "text": [
      "Original: ['lion', 'badger', 'RHINO', 'GIRAFFE']\n",
      "New list: ['RHINO', 'GIRAFFE']\n"
     ]
    }
   ],
   "source": [
    "# List comprehension version\n",
    "print(\"Original:\", animals)\n",
    "\n",
    "caps_animals = [val for val in animals if val.upper() == val]\n",
    "print(\"New list:\", caps_animals)"
   ]
  },
  {
   "cell_type": "markdown",
   "metadata": {},
   "source": [
    "### Why is to tougher to debug?\n",
    "- you cannot use a print function call in a comprehension\n",
    "- you need to decompose each part and test it separately\n",
    "- recommended to write the comprehension with a simpler example"
   ]
  },
  {
   "cell_type": "markdown",
   "metadata": {},
   "source": [
    "### Other than a badger, what animals can you see at Henry Vilas Zoo?"
   ]
  },
  {
   "cell_type": "code",
   "execution_count": 14,
   "metadata": {},
   "outputs": [
    {
     "name": "stdout",
     "output_type": "stream",
     "text": [
      "Original: ['lion', 'badger', 'RHINO', 'GIRAFFE']\n",
      "New list: ['lion', 'RHINO', 'GIRAFFE']\n"
     ]
    }
   ],
   "source": [
    "print(\"Original:\", animals)\n",
    "\n",
    "non_badger_zoo_animals = [val for val in animals if val.upper() != \"BADGER\"]\n",
    "print(\"New list:\", non_badger_zoo_animals)"
   ]
  },
  {
   "cell_type": "markdown",
   "metadata": {},
   "source": [
    "### Can we convert all of the animals to all caps?\n",
    "- if clause is optional"
   ]
  },
  {
   "cell_type": "code",
   "execution_count": 15,
   "metadata": {},
   "outputs": [
    {
     "name": "stdout",
     "output_type": "stream",
     "text": [
      "Original: ['lion', 'badger', 'RHINO', 'GIRAFFE']\n",
      "New list: ['LION', 'BADGER', 'RHINO', 'GIRAFFE']\n"
     ]
    }
   ],
   "source": [
    "print(\"Original:\", animals)\n",
    "\n",
    "all_caps_animals = [val.upper() for val in animals]\n",
    "print(\"New list:\", all_caps_animals)"
   ]
  },
  {
   "cell_type": "markdown",
   "metadata": {},
   "source": [
    "### Can we generate a list to store length of each animal name?"
   ]
  },
  {
   "cell_type": "code",
   "execution_count": 16,
   "metadata": {},
   "outputs": [
    {
     "name": "stdout",
     "output_type": "stream",
     "text": [
      "Original: ['lion', 'badger', 'RHINO', 'GIRAFFE']\n",
      "New list: [4, 6, 5, 7]\n"
     ]
    }
   ],
   "source": [
    "print(\"Original:\", animals)\n",
    "\n",
    "animals_name_length = [len(val) for val in animals]\n",
    "print(\"New list:\", animals_name_length)"
   ]
  },
  {
   "cell_type": "markdown",
   "metadata": {},
   "source": [
    "### Using if ... else ... in a list comprehension\n",
    "- syntax changes slightly for if ... else ...\n",
    "\n",
    "<pre>\n",
    "new_list = [expression if conditional_expression else alternate_expression for val in iterable ]\n",
    "</pre>\n",
    "\n",
    "- when an item satifies the if clause, you don't execute the else clause\n",
    "    - expression is the item in new list when if condition is satified\n",
    "- when an item does not satisfy the if clause, you execute the else clause\n",
    "    - alternate_expression is the item in new list when if condition is not satisfied\n",
    "    \n",
    "- if ... else ... clauses need to come before for (not the same as just using if clause)"
   ]
  },
  {
   "cell_type": "markdown",
   "metadata": {},
   "source": [
    "### What if we only care about the badger? Replace non-badger animals with \"some animal\"."
   ]
  },
  {
   "cell_type": "code",
   "execution_count": 17,
   "metadata": {},
   "outputs": [
    {
     "name": "stdout",
     "output_type": "stream",
     "text": [
      "Original: ['lion', 'badger', 'RHINO', 'GIRAFFE']\n",
      "New list: ['some animal', 'badger', 'some animal', 'some animal']\n"
     ]
    }
   ],
   "source": [
    "animals = [\"lion\", \"badger\", \"RHINO\", \"GIRAFFE\"]\n",
    "print(\"Original:\", animals)\n",
    "\n",
    "non_badger_zoo_animals = [val if val.upper() == \"BADGER\" else \"some animal\" \\\n",
    "                          for val in animals]\n",
    "print(\"New list:\", non_badger_zoo_animals)"
   ]
  },
  {
   "cell_type": "markdown",
   "metadata": {},
   "source": [
    "## Dict comprehensions\n",
    "- Version 1:\n",
    "<pre>\n",
    "{expression for val in iterable if condition}\n",
    "</pre>\n",
    "- expression has the form <pre>key: val</pre>\n",
    "<br/>\n",
    "- Version 2 --- the dict function call by passing list comprehension as argument:\n",
    "<pre>dict([expression for val in iterable if condition])</pre>\n",
    "- expression has the form <pre>(key, val)</pre>"
   ]
  },
  {
   "cell_type": "markdown",
   "metadata": {},
   "source": [
    "### Create a dict to map number to its square (for numbers 1 to 5)"
   ]
  },
  {
   "cell_type": "code",
   "execution_count": 18,
   "metadata": {},
   "outputs": [
    {
     "name": "stdout",
     "output_type": "stream",
     "text": [
      "{1: 1, 2: 4, 3: 9, 4: 16, 5: 25}\n"
     ]
    }
   ],
   "source": [
    "squares_dict = dict()\n",
    "for val in range(1, 6):\n",
    "    squares_dict[val] = val * val\n",
    "print(squares_dict)"
   ]
  },
  {
   "cell_type": "markdown",
   "metadata": {},
   "source": [
    "### Dict comprehension --- version 1"
   ]
  },
  {
   "cell_type": "code",
   "execution_count": 19,
   "metadata": {},
   "outputs": [
    {
     "name": "stdout",
     "output_type": "stream",
     "text": [
      "{1: 1, 2: 4, 3: 9, 4: 16, 5: 25}\n"
     ]
    }
   ],
   "source": [
    "square_dict = {val: val * val for val in range(1, 6)}\n",
    "print(square_dict)"
   ]
  },
  {
   "cell_type": "markdown",
   "metadata": {},
   "source": [
    "### Dict comprehension --- version 2"
   ]
  },
  {
   "cell_type": "code",
   "execution_count": 20,
   "metadata": {},
   "outputs": [
    {
     "name": "stdout",
     "output_type": "stream",
     "text": [
      "{1: 1, 2: 4, 3: 9, 4: 16, 5: 25}\n"
     ]
    }
   ],
   "source": [
    "square_dict = dict([(val, val * val) for val in range(1, 6)])\n",
    "print(square_dict)"
   ]
  },
  {
   "cell_type": "markdown",
   "metadata": {},
   "source": [
    "### Tuple unpacking\n",
    "- you can directly specific variables to unpack the items inside a tuple"
   ]
  },
  {
   "cell_type": "code",
   "execution_count": 21,
   "metadata": {},
   "outputs": [
    {
     "name": "stdout",
     "output_type": "stream",
     "text": [
      "('Bob', '32')\n",
      "('Cindy', '45')\n",
      "('Alice', '39')\n",
      "('Unknown', 'None')\n",
      "--------------------\n",
      "Bob 32\n",
      "Cindy 45\n",
      "Alice 39\n",
      "Unknown None\n"
     ]
    }
   ],
   "source": [
    "scores_dict = {\"Bob\": \"32\", \"Cindy\" : \"45\", \"Alice\": \"39\", \"Unknown\": \"None\"}\n",
    "\n",
    "for tuple_item in scores_dict.items():\n",
    "    print(tuple_item)\n",
    "    \n",
    "print(\"--------------------\")\n",
    "\n",
    "for key, val in scores_dict.items():\n",
    "    print(key, val)"
   ]
  },
  {
   "cell_type": "markdown",
   "metadata": {},
   "source": [
    "### From square_dict, let's generate cube_dict"
   ]
  },
  {
   "cell_type": "code",
   "execution_count": 22,
   "metadata": {},
   "outputs": [
    {
     "name": "stdout",
     "output_type": "stream",
     "text": [
      "{1: 1, 2: 8, 3: 27, 4: 64, 5: 125}\n"
     ]
    }
   ],
   "source": [
    "cube_dict = {key: int(math.sqrt(val)) ** 3 for key, val in square_dict.items()}\n",
    "print(cube_dict)"
   ]
  },
  {
   "cell_type": "markdown",
   "metadata": {},
   "source": [
    "### Convert Madison *F temperature to *C\n",
    "- <pre>C = 5 / 9 * (F - 32)</pre>"
   ]
  },
  {
   "cell_type": "code",
   "execution_count": 23,
   "metadata": {},
   "outputs": [
    {
     "name": "stdout",
     "output_type": "stream",
     "text": [
      "Original: {'Nov': 28, 'Dec': 20, 'Jan': 10, 'Feb': 14}\n",
      "New dict: {'Nov': -2, 'Dec': -6, 'Jan': -12, 'Feb': -10}\n"
     ]
    }
   ],
   "source": [
    "madison_fahrenheit = {'Nov': 28,'Dec': 20, 'Jan': 10,'Feb': 14}\n",
    "print(\"Original:\", madison_fahrenheit)\n",
    "\n",
    "madison_celsius = {key: int(5 / 9 * (val - 32)) for key, val in madison_fahrenheit.items()}\n",
    "print(\"New dict:\", madison_celsius)"
   ]
  },
  {
   "cell_type": "markdown",
   "metadata": {},
   "source": [
    "### Convert type of values in a dictionary"
   ]
  },
  {
   "cell_type": "code",
   "execution_count": 24,
   "metadata": {},
   "outputs": [
    {
     "name": "stdout",
     "output_type": "stream",
     "text": [
      "Original: {'Bob': '32', 'Cindy': '45', 'Alice': '39', 'Unknown': 'None'}\n",
      "New dict: {'Bob': 32, 'Cindy': 45, 'Alice': 39, 'Unknown': None}\n"
     ]
    }
   ],
   "source": [
    "scores_dict = {\"Bob\": \"32\", \"Cindy\" : \"45\", \"Alice\": \"39\", \"Unknown\": \"None\"}\n",
    "print(\"Original:\", scores_dict)\n",
    "\n",
    "updated_scores_dict = {key: int(val) if val.isdigit() else None for key, val in scores_dict.items()}\n",
    "print(\"New dict:\", updated_scores_dict)"
   ]
  },
  {
   "cell_type": "markdown",
   "metadata": {},
   "source": [
    "### Create a dictionary to map each player to their max score"
   ]
  },
  {
   "cell_type": "code",
   "execution_count": 25,
   "metadata": {},
   "outputs": [
    {
     "data": {
      "text/plain": [
       "{'Bob': 83, 'Cindy': 87, 'Alice': 90, 'Meena': 93}"
      ]
     },
     "execution_count": 25,
     "metadata": {},
     "output_type": "execute_result"
    }
   ],
   "source": [
    "scores_dict = {\"Bob\": [18, 72, 61, 5, 83], \n",
    "               \"Cindy\" : [27, 11, 55, 73, 87], \n",
    "               \"Alice\": [16, 33, 42, 89, 90], \n",
    "               \"Meena\": [39, 93, 9, 3, 55]}\n",
    "\n",
    "{player: max(scores) for player, scores in scores_dict.items()}"
   ]
  },
  {
   "cell_type": "markdown",
   "metadata": {},
   "source": [
    "## Practice problems - sorted + lambda"
   ]
  },
  {
   "cell_type": "markdown",
   "metadata": {},
   "source": [
    "### Use sorted and lambda function to sort this list of dictionaries based on the score, from low to high"
   ]
  },
  {
   "cell_type": "code",
   "execution_count": 26,
   "metadata": {},
   "outputs": [
    {
     "data": {
      "text/plain": [
       "[{'name': 'Bob', 'score': 32},\n",
       " {'name': 'Alice', 'score': 39},\n",
       " {'name': 'Cindy', 'score': 45}]"
      ]
     },
     "execution_count": 26,
     "metadata": {},
     "output_type": "execute_result"
    }
   ],
   "source": [
    "scores = [  {\"name\": \"Bob\", \"score\": 32} ,\n",
    "            {\"name\": \"Cindy\", \"score\" : 45}, \n",
    "            {\"name\": \"Alice\", \"score\": 39}\n",
    "     ]\n",
    "\n",
    "sorted(scores, key = lambda d: d[\"score\"])"
   ]
  },
  {
   "cell_type": "markdown",
   "metadata": {},
   "source": [
    "### Now, modify the lambda function part alone to sort the list of dictionaries based on the score, from high to low"
   ]
  },
  {
   "cell_type": "code",
   "execution_count": 27,
   "metadata": {},
   "outputs": [
    {
     "data": {
      "text/plain": [
       "[{'name': 'Cindy', 'score': 45},\n",
       " {'name': 'Alice', 'score': 39},\n",
       " {'name': 'Bob', 'score': 32}]"
      ]
     },
     "execution_count": 27,
     "metadata": {},
     "output_type": "execute_result"
    }
   ],
   "source": [
    "sorted(scores, key = lambda d: -d[\"score\"])"
   ]
  },
  {
   "cell_type": "markdown",
   "metadata": {},
   "source": [
    "### Now, go back to the previous lambda function definition and use sorted parameters to sort the list of dictionaries based on the score, from high to low"
   ]
  },
  {
   "cell_type": "code",
   "execution_count": 28,
   "metadata": {},
   "outputs": [
    {
     "data": {
      "text/plain": [
       "[{'name': 'Cindy', 'score': 45},\n",
       " {'name': 'Alice', 'score': 39},\n",
       " {'name': 'Bob', 'score': 32}]"
      ]
     },
     "execution_count": 28,
     "metadata": {},
     "output_type": "execute_result"
    }
   ],
   "source": [
    "sorted(scores, key = lambda d: d[\"score\"], reverse = True)"
   ]
  },
  {
   "cell_type": "markdown",
   "metadata": {},
   "source": [
    "## Student Information Survey dataset analysis"
   ]
  },
  {
   "cell_type": "code",
   "execution_count": 29,
   "metadata": {},
   "outputs": [],
   "source": [
    "def median(items):\n",
    "    items.sort()\n",
    "    n = len(items)\n",
    "    if n % 2 != 0:\n",
    "        middle = items[n // 2]\n",
    "    else:\n",
    "        first_middle = items[n // 2]\n",
    "        second_middle = items[(n // 2) - 1]\n",
    "        middle = (first_middle + second_middle) / 2\n",
    "    return middle"
   ]
  },
  {
   "cell_type": "code",
   "execution_count": 30,
   "metadata": {},
   "outputs": [
    {
     "data": {
      "text/plain": [
       "['Lecture',\n",
       " 'Age',\n",
       " 'Primary major',\n",
       " 'Other majors',\n",
       " 'Zip Code',\n",
       " 'Pizza topping',\n",
       " 'Pet owner',\n",
       " 'Runner',\n",
       " 'Sleep habit',\n",
       " 'Procrastinator']"
      ]
     },
     "execution_count": 30,
     "metadata": {},
     "output_type": "execute_result"
    }
   ],
   "source": [
    "# inspired by https://automatetheboringstuff.com/2e/chapter16/\n",
    "def process_csv(filename):\n",
    "    exampleFile = open(filename, encoding=\"utf-8\")  \n",
    "    exampleReader = csv.reader(exampleFile) \n",
    "    exampleData = list(exampleReader)        \n",
    "    exampleFile.close()  \n",
    "    return exampleData\n",
    "\n",
    "survey_data = process_csv('cs220_survey_data.csv')\n",
    "cs220_header = survey_data[0]\n",
    "cs220_data = survey_data[1:]\n",
    "cs220_header"
   ]
  },
  {
   "cell_type": "code",
   "execution_count": 31,
   "metadata": {},
   "outputs": [],
   "source": [
    "def cell(row_idx, col_name):\n",
    "    \"\"\"\n",
    "    Returns the data value (cell) corresponding to the row index and \n",
    "    the column name of a CSV file.\n",
    "    \"\"\"\n",
    "    col_idx = cs220_header.index(col_name) \n",
    "    val = cs220_data[row_idx][col_idx]  \n",
    "    \n",
    "    # handle missing values, by returning None\n",
    "    if val == '':\n",
    "        return None\n",
    "    \n",
    "    # handle type conversions\n",
    "    if col_name in [\"Age\",]:\n",
    "        return int(val)\n",
    "    \n",
    "    return val\n",
    "\n",
    "def bucketize(bucket_column):\n",
    "    \"\"\"\n",
    "    generates and returns bucketized data based on bucket_column\n",
    "    \"\"\"\n",
    "    # Key: unique bucketize column value; Value: list of lists (rows having that unique \n",
    "    # column value)\n",
    "    buckets = dict()\n",
    "    for row_idx in range(len(cs220_data)):\n",
    "        col_value = cell(row_idx, bucket_column)\n",
    "        if col_value not in buckets:\n",
    "            buckets[col_value] = []\n",
    "        buckets[col_value].append(cs220_data[row_idx])\n",
    "        \n",
    "    return buckets"
   ]
  },
  {
   "cell_type": "markdown",
   "metadata": {},
   "source": [
    "### Compute median age per lecture in one step using `dict` and `list` comprehension."
   ]
  },
  {
   "cell_type": "code",
   "execution_count": 32,
   "metadata": {},
   "outputs": [
    {
     "name": "stdout",
     "output_type": "stream",
     "text": [
      "{'LEC002': '19', 'LEC001': '19', 'LEC004': '19', 'LEC003': '19'}\n"
     ]
    }
   ],
   "source": [
    "age_by_lecture = {} # Key: lecture; Value: list of ages\n",
    "\n",
    "lecture_buckets = bucketize(\"Lecture\")\n",
    "\n",
    "for lecture in lecture_buckets:\n",
    "    lecture_students = lecture_buckets[lecture]\n",
    "    ages = []\n",
    "    for student in lecture_students:\n",
    "        age = student[cs220_header.index(\"Age\")]\n",
    "        ages.append(age)\n",
    "    age_by_lecture[lecture] = ages\n",
    "\n",
    "median_age_by_lecture = {} # Key: lecture; Value: median age of that lecture\n",
    "for lecture in age_by_lecture:\n",
    "    median_age = median(age_by_lecture[lecture])\n",
    "    median_age_by_lecture[lecture] = median_age\n",
    "    \n",
    "print(median_age_by_lecture)"
   ]
  },
  {
   "cell_type": "code",
   "execution_count": 33,
   "metadata": {},
   "outputs": [
    {
     "data": {
      "text/plain": [
       "{'LEC002': '19', 'LEC001': '19', 'LEC004': '19', 'LEC003': '19'}"
      ]
     },
     "execution_count": 33,
     "metadata": {},
     "output_type": "execute_result"
    }
   ],
   "source": [
    "median_age_by_lecture2 = {lecture: median([student[cs220_header.index(\"Age\")] \\\n",
    "                                           for student in students]) \\\n",
    "                          for lecture, students in lecture_buckets.items()}\n",
    "median_age_by_lecture2"
   ]
  },
  {
   "cell_type": "markdown",
   "metadata": {},
   "source": [
    "### Compute max age per lecture in one step using `dict` and `list` comprehension."
   ]
  },
  {
   "cell_type": "code",
   "execution_count": 34,
   "metadata": {},
   "outputs": [
    {
     "data": {
      "text/plain": [
       "{'LEC002': '28', 'LEC001': '36', 'LEC004': '23', 'LEC003': '27'}"
      ]
     },
     "execution_count": 34,
     "metadata": {},
     "output_type": "execute_result"
    }
   ],
   "source": [
    "max_age_by_lecture2 = {lecture: max([student[cs220_header.index(\"Age\")] \\\n",
    "                                           for student in students]) \\\n",
    "                          for lecture, students in lecture_buckets.items()}\n",
    "max_age_by_lecture2"
   ]
  },
  {
   "cell_type": "markdown",
   "metadata": {},
   "source": [
    "## Practice problems - comprehensions"
   ]
  },
  {
   "cell_type": "markdown",
   "metadata": {},
   "source": [
    "### Using range and raise10 functions, generate a list to store 10 to powers 1, 2, 3, 4, and 5"
   ]
  },
  {
   "cell_type": "code",
   "execution_count": null,
   "metadata": {},
   "outputs": [],
   "source": [
    "[raise10(num) for num in range(1, 6)]"
   ]
  },
  {
   "cell_type": "markdown",
   "metadata": {},
   "source": [
    "### Generate a new list where each number is a square of the original nummber in numbers list"
   ]
  },
  {
   "cell_type": "code",
   "execution_count": null,
   "metadata": {},
   "outputs": [],
   "source": [
    "numbers = [44, 33, 56, 21, 19]\n",
    "\n",
    "[num ** 2 for num in numbers]"
   ]
  },
  {
   "cell_type": "markdown",
   "metadata": {},
   "source": [
    "### Generate a new list of floats from vac_rates, that is rounded to 3 decimal points"
   ]
  },
  {
   "cell_type": "code",
   "execution_count": null,
   "metadata": {},
   "outputs": [],
   "source": [
    "vac_rates = [23.329868, 51.28772, 76.12232, 17.2, 10.5]\n",
    "\n",
    "[round(rate, 3) for rate in vac_rates]"
   ]
  },
  {
   "cell_type": "markdown",
   "metadata": {},
   "source": [
    "### Generate a new list of ints from words, that contains length of each word"
   ]
  },
  {
   "cell_type": "code",
   "execution_count": null,
   "metadata": {},
   "outputs": [],
   "source": [
    "words = ['My', 'very', 'educated', 'mother', 'just', 'served', 'us', 'noodles']\n",
    "\n",
    "[len(word) for word in words]"
   ]
  },
  {
   "cell_type": "markdown",
   "metadata": {},
   "source": [
    "### Create 2 dictionaries to map each player to their min and avg score"
   ]
  },
  {
   "cell_type": "code",
   "execution_count": null,
   "metadata": {},
   "outputs": [],
   "source": [
    "scores_dict = {\"Bob\": [18, 72, 61, 5, 83], \n",
    "               \"Cindy\" : [27, 11, 55, 73, 87], \n",
    "               \"Alice\": [16, 33, 42, 89, 90], \n",
    "               \"Meena\": [39, 93, 9, 3, 55]}\n",
    "\n",
    "{player: min(scores) for player, scores in scores_dict.items()}"
   ]
  },
  {
   "cell_type": "code",
   "execution_count": null,
   "metadata": {},
   "outputs": [],
   "source": [
    "{player: sum(scores) / len(scores) for player, scores in scores_dict.items()}"
   ]
  },
  {
   "cell_type": "code",
   "execution_count": null,
   "metadata": {},
   "outputs": [],
   "source": []
  }
 ],
 "metadata": {
  "kernelspec": {
   "display_name": "Python 3 (ipykernel)",
   "language": "python",
   "name": "python3"
  },
  "language_info": {
   "codemirror_mode": {
    "name": "ipython",
    "version": 3
   },
   "file_extension": ".py",
   "mimetype": "text/x-python",
   "name": "python",
   "nbconvert_exporter": "python",
   "pygments_lexer": "ipython3",
   "version": "3.9.7"
  }
 },
 "nbformat": 4,
 "nbformat_minor": 2
}

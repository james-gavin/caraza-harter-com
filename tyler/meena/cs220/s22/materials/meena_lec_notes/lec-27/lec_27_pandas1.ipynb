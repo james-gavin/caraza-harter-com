{
 "cells": [
  {
   "cell_type": "markdown",
   "metadata": {},
   "source": [
    "# Pandas 1"
   ]
  },
  {
   "cell_type": "code",
   "execution_count": 1,
   "metadata": {},
   "outputs": [],
   "source": [
    "import os\n",
    "import json\n",
    "from json import JSONDecodeError\n",
    "\n",
    "import pandas as pd # Module naming abbreviation"
   ]
  },
  {
   "cell_type": "markdown",
   "metadata": {},
   "source": [
    "### Review - Files & exception handling\n",
    "- FileNotFoundError\n",
    "- FileExistsError\n",
    "    - ironically, used for directories, when using `os.mkdir()`\n",
    "- JSONDecodeError\n",
    "    - when json file has incorrect format"
   ]
  },
  {
   "cell_type": "markdown",
   "metadata": {},
   "source": [
    "### Review 1"
   ]
  },
  {
   "cell_type": "code",
   "execution_count": 2,
   "metadata": {},
   "outputs": [
    {
     "name": "stdout",
     "output_type": "stream",
     "text": [
      "enter the name of the file to open:samplefile.txt\n",
      "<class 'FileNotFoundError'>\n",
      "samplefile.txt could not be opened\n"
     ]
    }
   ],
   "source": [
    "# let's figure out how to handle a command to open a file that does not exist\n",
    "\n",
    "path = input(\"enter the name of the file to open:\")\n",
    "try:\n",
    "    f = open(path, \"r\")  # \"r\" is for reading, but is the default\n",
    "    d = f.read()\n",
    "    print(d)\n",
    "    f.close()\n",
    "except FileNotFoundError as e:\n",
    "    print(type(e))\n",
    "    print(path, \"could not be opened\")"
   ]
  },
  {
   "cell_type": "markdown",
   "metadata": {},
   "source": [
    "### Review 2"
   ]
  },
  {
   "cell_type": "code",
   "execution_count": 3,
   "metadata": {},
   "outputs": [],
   "source": [
    "# Accidental execution of code containing mkdir twice\n",
    "\n",
    "try:\n",
    "    os.mkdir('new_test_dir')\n",
    "except FileExistsError:\n",
    "    print(\"Directory already exists!\")\n",
    "\n",
    "f = open(os.path.join('new_test_dir', 'out.txt'), 'w')\n",
    "f.write('hi')\n",
    "f.close()"
   ]
  },
  {
   "cell_type": "code",
   "execution_count": 4,
   "metadata": {},
   "outputs": [],
   "source": [
    "def read_json(path):\n",
    "    with open(path, encoding=\"utf-8\") as f:\n",
    "        return json.load(f) # dict, list, etc\n",
    "\n",
    "# data is a dict, list, etc\n",
    "def write_json(path, data):\n",
    "    with open(path, 'w', encoding=\"utf-8\") as f:\n",
    "        json.dump(data, f, indent=2)"
   ]
  },
  {
   "cell_type": "markdown",
   "metadata": {},
   "source": [
    "### Review 3"
   ]
  },
  {
   "cell_type": "code",
   "execution_count": 5,
   "metadata": {},
   "outputs": [
    {
     "name": "stdout",
     "output_type": "stream",
     "text": [
      "6.json\n",
      "1.json\n",
      "2.json\n",
      "3.json\n",
      "4.json\n",
      "5.json\n"
     ]
    }
   ],
   "source": [
    "# JSONDecodeError - requires import\n",
    "\n",
    "# Steps:\n",
    "# Get output of listdir\n",
    "# Check for files with json extension\n",
    "# Read each file's contents\n",
    "\n",
    "files = os.listdir(\".\")\n",
    "\n",
    "for some_file in files:\n",
    "    if some_file.endswith(\".json\"):\n",
    "        print(some_file)\n",
    "        try:\n",
    "            read_json(some_file)\n",
    "        except JSONDecodeError as e:\n",
    "            continue # move on to reading next file"
   ]
  },
  {
   "cell_type": "markdown",
   "metadata": {},
   "source": [
    "## Learning Objectives:\n",
    "- Create a pandas Series from a list or from a dict\n",
    "- Use Series methods max, min, mean, median, mode, quantile, value counts\n",
    "- Extract elements from a Series using Boolean indexing\n",
    "- Access Series members using .loc, .iloc, .items, and slicing\n",
    "- Perform Series element-wise operations"
   ]
  },
  {
   "cell_type": "markdown",
   "metadata": {},
   "source": [
    "### What is pandas?\n",
    "- pandas is a package of tools for doing Data Science\n",
    "- pandas is installed on top of Python (https://en.wikipedia.org/wiki/Pandas_(software))\n",
    "    - comes with Anaconda installation\n",
    "    - If for some reason, you don't have pandas installed, run the following command in terminal or powershell\n",
    "        <pre> pip install pandas </pre>"
   ]
  },
  {
   "cell_type": "markdown",
   "metadata": {},
   "source": [
    "## pandas Series\n",
    "- combination of dict and list\n",
    "- can be created either from a python `list` or `dict`\n",
    "- Terminology:\n",
    "    - index (equivalent to key in python `dict`)\n",
    "    - integer position (equivalent to index in python `list`)"
   ]
  },
  {
   "cell_type": "markdown",
   "metadata": {},
   "source": [
    "## Create a series from a dict"
   ]
  },
  {
   "cell_type": "code",
   "execution_count": 6,
   "metadata": {},
   "outputs": [
    {
     "data": {
      "text/plain": [
       "{'one': 7, 'two': 8, 'three': 9}"
      ]
     },
     "execution_count": 6,
     "metadata": {},
     "output_type": "execute_result"
    }
   ],
   "source": [
    "# create a series from a dict\n",
    "d = {\"one\": 7, \"two\": 8, \"three\": 9}\n",
    "d"
   ]
  },
  {
   "cell_type": "code",
   "execution_count": 7,
   "metadata": {},
   "outputs": [
    {
     "data": {
      "text/plain": [
       "one      7\n",
       "two      8\n",
       "three    9\n",
       "dtype: int64"
      ]
     },
     "execution_count": 7,
     "metadata": {},
     "output_type": "execute_result"
    }
   ],
   "source": [
    "s = pd.Series(d)\n",
    "s"
   ]
  },
  {
   "cell_type": "code",
   "execution_count": 8,
   "metadata": {},
   "outputs": [
    {
     "data": {
      "text/plain": [
       "pandas.core.series.Series"
      ]
     },
     "execution_count": 8,
     "metadata": {},
     "output_type": "execute_result"
    }
   ],
   "source": [
    "type(s)"
   ]
  },
  {
   "cell_type": "code",
   "execution_count": 9,
   "metadata": {},
   "outputs": [
    {
     "data": {
      "text/plain": [
       "one      7\n",
       "two      8\n",
       "three    9\n",
       "dtype: int64"
      ]
     },
     "execution_count": 9,
     "metadata": {},
     "output_type": "execute_result"
    }
   ],
   "source": [
    "s = pd.Series({\"one\": 7, \"two\": 8, \"three\": 9}) # equivalent to the above example\n",
    "s"
   ]
  },
  {
   "cell_type": "code",
   "execution_count": 10,
   "metadata": {},
   "outputs": [],
   "source": [
    "# IP  index    value\n",
    "# 0   one      7\n",
    "# 1   two      8\n",
    "# 2   three    9\n",
    "\n",
    "# dtype: int64"
   ]
  },
  {
   "cell_type": "markdown",
   "metadata": {},
   "source": [
    "## Accessing values with index (.loc[...])"
   ]
  },
  {
   "cell_type": "code",
   "execution_count": 11,
   "metadata": {},
   "outputs": [
    {
     "data": {
      "text/plain": [
       "{'one': 7, 'two': 8, 'three': 9}"
      ]
     },
     "execution_count": 11,
     "metadata": {},
     "output_type": "execute_result"
    }
   ],
   "source": [
    "d"
   ]
  },
  {
   "cell_type": "code",
   "execution_count": 12,
   "metadata": {},
   "outputs": [
    {
     "data": {
      "text/plain": [
       "7"
      ]
     },
     "execution_count": 12,
     "metadata": {},
     "output_type": "execute_result"
    }
   ],
   "source": [
    "# dict access with key\n",
    "d[\"one\"]"
   ]
  },
  {
   "cell_type": "code",
   "execution_count": 13,
   "metadata": {},
   "outputs": [
    {
     "data": {
      "text/plain": [
       "7"
      ]
     },
     "execution_count": 13,
     "metadata": {},
     "output_type": "execute_result"
    }
   ],
   "source": [
    "s.loc[\"one\"]"
   ]
  },
  {
   "cell_type": "code",
   "execution_count": 14,
   "metadata": {},
   "outputs": [
    {
     "data": {
      "text/plain": [
       "8"
      ]
     },
     "execution_count": 14,
     "metadata": {},
     "output_type": "execute_result"
    }
   ],
   "source": [
    "s.loc[\"two\"]"
   ]
  },
  {
   "cell_type": "markdown",
   "metadata": {},
   "source": [
    "## Accessing values with integer position (.iloc[...])"
   ]
  },
  {
   "cell_type": "code",
   "execution_count": 15,
   "metadata": {},
   "outputs": [
    {
     "data": {
      "text/plain": [
       "one      7\n",
       "two      8\n",
       "three    9\n",
       "dtype: int64"
      ]
     },
     "execution_count": 15,
     "metadata": {},
     "output_type": "execute_result"
    }
   ],
   "source": [
    "s"
   ]
  },
  {
   "cell_type": "code",
   "execution_count": 16,
   "metadata": {},
   "outputs": [
    {
     "data": {
      "text/plain": [
       "7"
      ]
     },
     "execution_count": 16,
     "metadata": {},
     "output_type": "execute_result"
    }
   ],
   "source": [
    "s.iloc[0]"
   ]
  },
  {
   "cell_type": "code",
   "execution_count": 17,
   "metadata": {},
   "outputs": [
    {
     "data": {
      "text/plain": [
       "9"
      ]
     },
     "execution_count": 17,
     "metadata": {},
     "output_type": "execute_result"
    }
   ],
   "source": [
    "s.iloc[-1]"
   ]
  },
  {
   "cell_type": "markdown",
   "metadata": {},
   "source": [
    "## Create a series from a list"
   ]
  },
  {
   "cell_type": "code",
   "execution_count": 18,
   "metadata": {},
   "outputs": [
    {
     "data": {
      "text/plain": [
       "0    100\n",
       "1    200\n",
       "2    300\n",
       "dtype: int64"
      ]
     },
     "execution_count": 18,
     "metadata": {},
     "output_type": "execute_result"
    }
   ],
   "source": [
    "# Series created from a list\n",
    "num_list = [100, 200, 300]\n",
    "s = pd.Series(num_list)\n",
    "s"
   ]
  },
  {
   "cell_type": "code",
   "execution_count": 19,
   "metadata": {},
   "outputs": [],
   "source": [
    "# IP  index value\n",
    "# 0   0      100\n",
    "# 1   1      200\n",
    "# 2   2      300\n",
    "# dtype: int64"
   ]
  },
  {
   "cell_type": "code",
   "execution_count": 20,
   "metadata": {},
   "outputs": [
    {
     "name": "stdout",
     "output_type": "stream",
     "text": [
      "200\n",
      "200\n"
     ]
    }
   ],
   "source": [
    "print(s.loc[1])\n",
    "print(s.iloc[1])"
   ]
  },
  {
   "cell_type": "markdown",
   "metadata": {},
   "source": [
    "## Slicing series using integer positions"
   ]
  },
  {
   "cell_type": "code",
   "execution_count": 21,
   "metadata": {},
   "outputs": [
    {
     "data": {
      "text/plain": [
       "0    A\n",
       "1    B\n",
       "2    C\n",
       "3    D\n",
       "dtype: object"
      ]
     },
     "execution_count": 21,
     "metadata": {},
     "output_type": "execute_result"
    }
   ],
   "source": [
    "letters_list = [\"A\", \"B\", \"C\", \"D\"]\n",
    "letters = pd.Series(letters_list)\n",
    "letters"
   ]
  },
  {
   "cell_type": "code",
   "execution_count": 22,
   "metadata": {},
   "outputs": [
    {
     "name": "stdout",
     "output_type": "stream",
     "text": [
      "['A', 'B', 'C', 'D']\n"
     ]
    },
    {
     "data": {
      "text/plain": [
       "['C', 'D']"
      ]
     },
     "execution_count": 22,
     "metadata": {},
     "output_type": "execute_result"
    }
   ],
   "source": [
    "# list slicing\n",
    "print(letters_list)\n",
    "sliced_letter_list = letters_list[2:]\n",
    "sliced_letter_list"
   ]
  },
  {
   "cell_type": "markdown",
   "metadata": {},
   "source": [
    "Sliced Series retains original Series index, whereas integer positions are renumbered."
   ]
  },
  {
   "cell_type": "code",
   "execution_count": 23,
   "metadata": {},
   "outputs": [
    {
     "name": "stdout",
     "output_type": "stream",
     "text": [
      "0    A\n",
      "1    B\n",
      "2    C\n",
      "3    D\n",
      "dtype: object\n"
     ]
    },
    {
     "data": {
      "text/plain": [
       "2    C\n",
       "3    D\n",
       "dtype: object"
      ]
     },
     "execution_count": 23,
     "metadata": {},
     "output_type": "execute_result"
    }
   ],
   "source": [
    "print(letters)\n",
    "sliced_letters = letters.iloc[2:]\n",
    "sliced_letters"
   ]
  },
  {
   "cell_type": "code",
   "execution_count": 24,
   "metadata": {},
   "outputs": [],
   "source": [
    "# Note: integer positions get renumbered, whereas indexes do not.\n",
    "\n",
    "# IP  Index  values\n",
    "# 0   2       C\n",
    "# 1   3       D\n",
    "# dtype: object"
   ]
  },
  {
   "cell_type": "code",
   "execution_count": 25,
   "metadata": {},
   "outputs": [
    {
     "name": "stdout",
     "output_type": "stream",
     "text": [
      "C\n",
      "C\n"
     ]
    }
   ],
   "source": [
    "print(sliced_letters.loc[2])\n",
    "print(sliced_letters.iloc[0])"
   ]
  },
  {
   "cell_type": "markdown",
   "metadata": {},
   "source": [
    "## Slicing series using index"
   ]
  },
  {
   "cell_type": "code",
   "execution_count": 26,
   "metadata": {},
   "outputs": [
    {
     "data": {
      "text/plain": [
       "one      7\n",
       "two      8\n",
       "three    9\n",
       "dtype: int64"
      ]
     },
     "execution_count": 26,
     "metadata": {},
     "output_type": "execute_result"
    }
   ],
   "source": [
    "s = pd.Series({\"one\": 7, \"two\": 8, \"three\": 9})\n",
    "s"
   ]
  },
  {
   "cell_type": "code",
   "execution_count": 27,
   "metadata": {},
   "outputs": [
    {
     "data": {
      "text/plain": [
       "two      8\n",
       "three    9\n",
       "dtype: int64"
      ]
     },
     "execution_count": 27,
     "metadata": {},
     "output_type": "execute_result"
    }
   ],
   "source": [
    "#slicing with indexes\n",
    "s.loc[\"two\":]"
   ]
  },
  {
   "cell_type": "markdown",
   "metadata": {},
   "source": [
    "## Statistics on Series\n",
    "- Use Series methods max, min, mean, median, mode, quantile, value counts"
   ]
  },
  {
   "cell_type": "code",
   "execution_count": 28,
   "metadata": {},
   "outputs": [
    {
     "data": {
      "text/plain": [
       "0     44\n",
       "1     32\n",
       "2     19\n",
       "3     67\n",
       "4     23\n",
       "5     23\n",
       "6     92\n",
       "7     47\n",
       "8     47\n",
       "9     78\n",
       "10    84\n",
       "dtype: int64"
      ]
     },
     "execution_count": 28,
     "metadata": {},
     "output_type": "execute_result"
    }
   ],
   "source": [
    "scores = pd.Series([44, 32, 19, 67, 23, 23, 92, 47, 47, 78, 84])\n",
    "scores"
   ]
  },
  {
   "cell_type": "code",
   "execution_count": 29,
   "metadata": {},
   "outputs": [
    {
     "name": "stdout",
     "output_type": "stream",
     "text": [
      "92\n",
      "6\n"
     ]
    }
   ],
   "source": [
    "print(scores.max())\n",
    "print(scores.idxmax())"
   ]
  },
  {
   "cell_type": "code",
   "execution_count": 30,
   "metadata": {},
   "outputs": [
    {
     "name": "stdout",
     "output_type": "stream",
     "text": [
      "19\n",
      "2\n"
     ]
    }
   ],
   "source": [
    "print(scores.min())\n",
    "print(scores.idxmin())"
   ]
  },
  {
   "cell_type": "code",
   "execution_count": 31,
   "metadata": {},
   "outputs": [
    {
     "data": {
      "text/plain": [
       "11"
      ]
     },
     "execution_count": 31,
     "metadata": {},
     "output_type": "execute_result"
    }
   ],
   "source": [
    "scores.count()"
   ]
  },
  {
   "cell_type": "code",
   "execution_count": 32,
   "metadata": {},
   "outputs": [
    {
     "data": {
      "text/plain": [
       "50.54545454545455"
      ]
     },
     "execution_count": 32,
     "metadata": {},
     "output_type": "execute_result"
    }
   ],
   "source": [
    "scores.mean()"
   ]
  },
  {
   "cell_type": "code",
   "execution_count": 33,
   "metadata": {},
   "outputs": [
    {
     "data": {
      "text/plain": [
       "26.051347897426098"
      ]
     },
     "execution_count": 33,
     "metadata": {},
     "output_type": "execute_result"
    }
   ],
   "source": [
    "scores.std()"
   ]
  },
  {
   "cell_type": "code",
   "execution_count": 34,
   "metadata": {},
   "outputs": [
    {
     "data": {
      "text/plain": [
       "47.0"
      ]
     },
     "execution_count": 34,
     "metadata": {},
     "output_type": "execute_result"
    }
   ],
   "source": [
    "scores.median()"
   ]
  },
  {
   "cell_type": "code",
   "execution_count": 35,
   "metadata": {},
   "outputs": [
    {
     "data": {
      "text/plain": [
       "0    23\n",
       "1    47\n",
       "dtype: int64"
      ]
     },
     "execution_count": 35,
     "metadata": {},
     "output_type": "execute_result"
    }
   ],
   "source": [
    "# there could be multiple modes, so mode returns a Series\n",
    "scores.mode()"
   ]
  },
  {
   "cell_type": "markdown",
   "metadata": {},
   "source": [
    "#### Quantile function\n",
    "- enables to calculate percentiles\n",
    "- takes as argument a float value between 0 and 1\n",
    "- defaults to 50th percentile"
   ]
  },
  {
   "cell_type": "code",
   "execution_count": 36,
   "metadata": {},
   "outputs": [
    {
     "data": {
      "text/plain": [
       "(47.0, 47.0)"
      ]
     },
     "execution_count": 36,
     "metadata": {},
     "output_type": "execute_result"
    }
   ],
   "source": [
    "scores.quantile(), scores.median()"
   ]
  },
  {
   "cell_type": "code",
   "execution_count": 37,
   "metadata": {},
   "outputs": [
    {
     "data": {
      "text/plain": [
       "72.5"
      ]
     },
     "execution_count": 37,
     "metadata": {},
     "output_type": "execute_result"
    }
   ],
   "source": [
    "scores.quantile(0.75) # 75th percentile"
   ]
  },
  {
   "cell_type": "code",
   "execution_count": 38,
   "metadata": {},
   "outputs": [
    {
     "name": "stdout",
     "output_type": "stream",
     "text": [
      "0.00    19.0\n",
      "0.25    27.5\n",
      "0.50    47.0\n",
      "0.75    72.5\n",
      "1.00    92.0\n",
      "dtype: float64\n"
     ]
    }
   ],
   "source": [
    "# 5-percentile summary\n",
    "print(scores.quantile([0, 0.25, 0.5, 0.75, 1.0]))"
   ]
  },
  {
   "cell_type": "markdown",
   "metadata": {},
   "source": [
    "#### value_counts()\n",
    "- Series value_counts() creates a series where the key is the data, and the value is its count in the Series\n",
    "- by default return value Series is ordered by descending order of the counts (values)"
   ]
  },
  {
   "cell_type": "code",
   "execution_count": 39,
   "metadata": {},
   "outputs": [
    {
     "data": {
      "text/plain": [
       "20    6\n",
       "19    4\n",
       "21    3\n",
       "18    2\n",
       "23    2\n",
       "17    1\n",
       "24    1\n",
       "25    1\n",
       "35    1\n",
       "22    1\n",
       "dtype: int64"
      ]
     },
     "execution_count": 39,
     "metadata": {},
     "output_type": "execute_result"
    }
   ],
   "source": [
    "ages = pd.Series([18, 19, 20, 20, 20, 17, 18, 24, 25, 35, 22, 20, 21, 21, 20, 23, 23, 19, 19, 19, 20, 21])\n",
    "age_counts = ages.value_counts()\n",
    "age_counts"
   ]
  },
  {
   "cell_type": "markdown",
   "metadata": {},
   "source": [
    "## Sorting\n",
    "- sort_index()\n",
    "- sort_values()"
   ]
  },
  {
   "cell_type": "code",
   "execution_count": 40,
   "metadata": {},
   "outputs": [
    {
     "data": {
      "text/plain": [
       "17    1\n",
       "18    2\n",
       "19    4\n",
       "20    6\n",
       "21    3\n",
       "22    1\n",
       "23    2\n",
       "24    1\n",
       "25    1\n",
       "35    1\n",
       "dtype: int64"
      ]
     },
     "execution_count": 40,
     "metadata": {},
     "output_type": "execute_result"
    }
   ],
   "source": [
    "age_counts.sort_index()"
   ]
  },
  {
   "cell_type": "code",
   "execution_count": 41,
   "metadata": {},
   "outputs": [
    {
     "data": {
      "text/plain": [
       "17    1\n",
       "24    1\n",
       "25    1\n",
       "35    1\n",
       "22    1\n",
       "18    2\n",
       "23    2\n",
       "21    3\n",
       "19    4\n",
       "20    6\n",
       "dtype: int64"
      ]
     },
     "execution_count": 41,
     "metadata": {},
     "output_type": "execute_result"
    }
   ],
   "source": [
    "age_counts.sort_values()"
   ]
  },
  {
   "cell_type": "markdown",
   "metadata": {},
   "source": [
    "## Series bar chart"
   ]
  },
  {
   "cell_type": "code",
   "execution_count": 42,
   "metadata": {},
   "outputs": [
    {
     "data": {
      "text/plain": [
       "[Text(0.5, 0, 'Age'), Text(0, 0.5, 'Count')]"
      ]
     },
     "execution_count": 42,
     "metadata": {},
     "output_type": "execute_result"
    },
    {
     "data": {
      "image/png": "[encoded data removed]",
      "text/plain": [
       "<Figure size 432x288 with 1 Axes>"
      ]
     },
     "metadata": {
      "needs_background": "light"
     },
     "output_type": "display_data"
    }
   ],
   "source": [
    "age_plot = age_counts.sort_index().plot.bar(color = 'blue')\n",
    "age_plot.set(xlabel = \"Age\", ylabel = \"Count\")"
   ]
  },
  {
   "cell_type": "markdown",
   "metadata": {},
   "source": [
    "## Element-wise operations\n",
    "- Series op scalar"
   ]
  },
  {
   "cell_type": "code",
   "execution_count": 43,
   "metadata": {},
   "outputs": [
    {
     "name": "stdout",
     "output_type": "stream",
     "text": [
      "20    6\n",
      "19    4\n",
      "21    3\n",
      "18    2\n",
      "23    2\n",
      "17    1\n",
      "24    1\n",
      "25    1\n",
      "35    1\n",
      "22    1\n",
      "dtype: int64\n",
      "21    6\n",
      "20    4\n",
      "22    3\n",
      "19    2\n",
      "24    2\n",
      "18    1\n",
      "25    1\n",
      "26    1\n",
      "36    1\n",
      "23    1\n",
      "dtype: int64\n"
     ]
    }
   ],
   "source": [
    "# Let's add 1 to everyone's age\n",
    "print(ages.value_counts())\n",
    "ages = ages + 1\n",
    "print(ages.value_counts())"
   ]
  },
  {
   "cell_type": "markdown",
   "metadata": {},
   "source": [
    "## Boolean indexing\n",
    "\n",
    "- applying boolean expressions on a Series\n",
    "- boolean expression will be specified within the pair of [  ]\n",
    "- Boolean operators:\n",
    "    - & means 'and'\n",
    "    - | means 'or'\n",
    "    - ~ means 'not'\n",
    "    - we must use () for compound boolean expressions"
   ]
  },
  {
   "cell_type": "code",
   "execution_count": 44,
   "metadata": {},
   "outputs": [
    {
     "data": {
      "text/plain": [
       "0     False\n",
       "1     False\n",
       "2     False\n",
       "3     False\n",
       "4     False\n",
       "5     False\n",
       "6     False\n",
       "7      True\n",
       "8      True\n",
       "9      True\n",
       "10     True\n",
       "11    False\n",
       "12     True\n",
       "13     True\n",
       "14    False\n",
       "15     True\n",
       "16     True\n",
       "17    False\n",
       "18    False\n",
       "19    False\n",
       "20    False\n",
       "21     True\n",
       "dtype: bool"
      ]
     },
     "execution_count": 44,
     "metadata": {},
     "output_type": "execute_result"
    }
   ],
   "source": [
    "# Extract only ages > 21\n",
    "\n",
    "b = ages > 21 # gives you a boolean Series\n",
    "b"
   ]
  },
  {
   "cell_type": "code",
   "execution_count": 45,
   "metadata": {},
   "outputs": [
    {
     "data": {
      "text/plain": [
       "7     25\n",
       "8     26\n",
       "9     36\n",
       "10    23\n",
       "12    22\n",
       "13    22\n",
       "15    24\n",
       "16    24\n",
       "21    22\n",
       "dtype: int64"
      ]
     },
     "execution_count": 45,
     "metadata": {},
     "output_type": "execute_result"
    }
   ],
   "source": [
    "# You can apply boolean Series to the original Series\n",
    "ages[b] # now you get ages which are greater than 21"
   ]
  },
  {
   "cell_type": "code",
   "execution_count": 46,
   "metadata": {},
   "outputs": [
    {
     "data": {
      "text/plain": [
       "7     25\n",
       "8     26\n",
       "9     36\n",
       "10    23\n",
       "12    22\n",
       "13    22\n",
       "15    24\n",
       "16    24\n",
       "21    22\n",
       "dtype: int64"
      ]
     },
     "execution_count": 46,
     "metadata": {},
     "output_type": "execute_result"
    }
   ],
   "source": [
    "# combining the above two steps\n",
    "ages[ages > 21]"
   ]
  },
  {
   "cell_type": "markdown",
   "metadata": {},
   "source": [
    "### &, |, and ~\n",
    "- & means 'and'\n",
    "- | means 'or'\n",
    "- ~ means 'not'\n",
    "- we must use () for compound boolean expressions"
   ]
  },
  {
   "cell_type": "code",
   "execution_count": 47,
   "metadata": {},
   "outputs": [
    {
     "name": "stdout",
     "output_type": "stream",
     "text": [
      "0     19\n",
      "1     20\n",
      "5     18\n",
      "6     19\n",
      "17    20\n",
      "18    20\n",
      "19    20\n",
      "dtype: int64\n",
      "0.3181818181818182\n"
     ]
    }
   ],
   "source": [
    "# ages boolean\n",
    "# what ages are in the range 18 to 20, inclusive?\n",
    "\n",
    "print(ages[(ages >= 18) & (ages <= 20)])\n",
    "\n",
    "# what percentage of students are in this age range?\n",
    "\n",
    "print(len((ages[(ages >= 18) & (ages <= 20)])) / len(ages))"
   ]
  },
  {
   "cell_type": "code",
   "execution_count": 48,
   "metadata": {},
   "outputs": [
    {
     "name": "stdout",
     "output_type": "stream",
     "text": [
      "0.22727272727272727\n",
      "0.9090909090909091\n"
     ]
    }
   ],
   "source": [
    "# what percentage of  students are ages 18 OR 21?\n",
    "print(  len((ages[ (ages == 18) | (ages == 20)]))  /  len(ages) )\n",
    "\n",
    "# what percentage of students are NOT 19? \n",
    "print(len(ages [~(ages == 19)]) / len(ages))"
   ]
  },
  {
   "cell_type": "markdown",
   "metadata": {},
   "source": [
    "## CS220 information survey data"
   ]
  },
  {
   "cell_type": "code",
   "execution_count": 49,
   "metadata": {},
   "outputs": [],
   "source": [
    "# Modified from https://automatetheboringstuff.com/chapter14/\n",
    "import csv\n",
    "def process_csv(filename):\n",
    "    example_file = open(filename, encoding=\"utf-8\")\n",
    "    example_reader = csv.reader(example_file)\n",
    "    example_data = list(example_reader)\n",
    "    example_file.close()\n",
    "    return example_data\n",
    "\n",
    "data = process_csv(\"cs220_survey_data.csv\")\n",
    "header = data[0]\n",
    "data = data[1:]"
   ]
  },
  {
   "cell_type": "code",
   "execution_count": 50,
   "metadata": {},
   "outputs": [
    {
     "data": {
      "text/plain": [
       "['Lecture',\n",
       " 'Age',\n",
       " 'Primary major',\n",
       " 'Other majors',\n",
       " 'Zip Code',\n",
       " 'Pizza topping',\n",
       " 'Pet owner',\n",
       " 'Runner',\n",
       " 'Sleep habit',\n",
       " 'Procrastinator']"
      ]
     },
     "execution_count": 50,
     "metadata": {},
     "output_type": "execute_result"
    }
   ],
   "source": [
    "header"
   ]
  },
  {
   "cell_type": "code",
   "execution_count": 51,
   "metadata": {},
   "outputs": [
    {
     "data": {
      "text/plain": [
       "[['LEC002',\n",
       "  '19',\n",
       "  'Engineering: Mechanical',\n",
       "  '',\n",
       "  '53711',\n",
       "  'pepperoni',\n",
       "  'Yes',\n",
       "  'No',\n",
       "  'night owl',\n",
       "  'Maybe'],\n",
       " ['LEC002',\n",
       "  '20',\n",
       "  'Science: Physics',\n",
       "  'Astronomy-Physics, History',\n",
       "  '53726',\n",
       "  'pineapple',\n",
       "  'Yes',\n",
       "  'Yes',\n",
       "  'night owl',\n",
       "  'Yes'],\n",
       " ['LEC001',\n",
       "  '20',\n",
       "  'Science: Chemistry',\n",
       "  '',\n",
       "  '53703',\n",
       "  'pepperoni',\n",
       "  'Yes',\n",
       "  'No',\n",
       "  'early bird',\n",
       "  'No']]"
      ]
     },
     "execution_count": 51,
     "metadata": {},
     "output_type": "execute_result"
    }
   ],
   "source": [
    "data[:3]"
   ]
  },
  {
   "cell_type": "code",
   "execution_count": 52,
   "metadata": {},
   "outputs": [],
   "source": [
    "# use list comprehension to extract just ages\n",
    "age_list = [int(row[header.index(\"Age\")]) for row in data if row[header.index(\"Age\")] != \"\"]\n",
    "# age_list"
   ]
  },
  {
   "cell_type": "code",
   "execution_count": 53,
   "metadata": {},
   "outputs": [
    {
     "data": {
      "text/plain": [
       "0      19\n",
       "1      20\n",
       "2      20\n",
       "3      19\n",
       "4      20\n",
       "       ..\n",
       "701    22\n",
       "702    20\n",
       "703    19\n",
       "704    21\n",
       "705    19\n",
       "Length: 706, dtype: int64"
      ]
     },
     "execution_count": 53,
     "metadata": {},
     "output_type": "execute_result"
    }
   ],
   "source": [
    "cs220_ages = pd.Series(age_list)\n",
    "cs220_ages"
   ]
  },
  {
   "cell_type": "code",
   "execution_count": 54,
   "metadata": {},
   "outputs": [
    {
     "data": {
      "text/plain": [
       "17      2\n",
       "18    180\n",
       "19    226\n",
       "20    144\n",
       "21     89\n",
       "22     25\n",
       "23     15\n",
       "24     10\n",
       "25      4\n",
       "26      2\n",
       "27      5\n",
       "28      1\n",
       "30      1\n",
       "31      1\n",
       "36      1\n",
       "dtype: int64"
      ]
     },
     "execution_count": 54,
     "metadata": {},
     "output_type": "execute_result"
    }
   ],
   "source": [
    "# Make a Series of the counts of all the ages, sorted from most common to least \n",
    "# then sort it by index\n",
    "cs220_ages.value_counts().sort_index()"
   ]
  },
  {
   "cell_type": "code",
   "execution_count": 55,
   "metadata": {},
   "outputs": [
    {
     "data": {
      "text/plain": [
       "[Text(0.5, 0, 'age'), Text(0, 0.5, 'count')]"
      ]
     },
     "execution_count": 55,
     "metadata": {},
     "output_type": "execute_result"
    },
    {
     "data": {
      "image/png": "[encoded data removed]",
      "text/plain": [
       "<Figure size 432x288 with 1 Axes>"
      ]
     },
     "metadata": {
      "needs_background": "light"
     },
     "output_type": "display_data"
    }
   ],
   "source": [
    "# make a bar chart of the ages sorted by age\n",
    "age_plot = cs220_ages.value_counts().sort_index().plot.bar(color='blue')\n",
    "age_plot.set(xlabel = \"age\", ylabel = \"count\")"
   ]
  },
  {
   "cell_type": "markdown",
   "metadata": {},
   "source": [
    "### Statistics"
   ]
  },
  {
   "cell_type": "markdown",
   "metadata": {},
   "source": [
    "### What is the mode of CS220 student ages?"
   ]
  },
  {
   "cell_type": "code",
   "execution_count": 56,
   "metadata": {},
   "outputs": [
    {
     "name": "stdout",
     "output_type": "stream",
     "text": [
      "0    19\n",
      "dtype: int64\n"
     ]
    }
   ],
   "source": [
    "print(cs220_ages.mode())"
   ]
  },
  {
   "cell_type": "markdown",
   "metadata": {},
   "source": [
    "### What is the 75th percentile of ages?"
   ]
  },
  {
   "cell_type": "code",
   "execution_count": 57,
   "metadata": {},
   "outputs": [
    {
     "name": "stdout",
     "output_type": "stream",
     "text": [
      "0.75    20.0\n",
      "dtype: float64\n"
     ]
    }
   ],
   "source": [
    "print(cs220_ages.quantile([.75]))"
   ]
  },
  {
   "cell_type": "markdown",
   "metadata": {},
   "source": [
    "## Element-wise operations\n",
    "1. SERIES op SCALAR\n",
    "2. SERIES op SERIES"
   ]
  },
  {
   "cell_type": "code",
   "execution_count": 58,
   "metadata": {},
   "outputs": [
    {
     "name": "stdout",
     "output_type": "stream",
     "text": [
      "Chris      10\n",
      "Kiara       3\n",
      "Mikayla     7\n",
      "Ann         8\n",
      "Trish       6\n",
      "dtype: int64\n",
      "Kiara       7\n",
      "Chris       3\n",
      "Trish      11\n",
      "Mikayla     2\n",
      "Ann         5\n",
      "Meena      20\n",
      "dtype: int64\n"
     ]
    }
   ],
   "source": [
    "## Series from a dict\n",
    "game1_points = pd.Series({\"Chris\": 10, \"Kiara\": 3, \"Mikayla\": 7, \"Ann\": 8, \"Trish\": 6})\n",
    "print(game1_points)\n",
    "game2_points = pd.Series({\"Kiara\": 7, \"Chris\": 3,  \"Trish\": 11, \"Mikayla\": 2, \"Ann\": 5, \"Meena\": 20})\n",
    "print(game2_points)"
   ]
  },
  {
   "cell_type": "markdown",
   "metadata": {},
   "source": [
    "### Give 2 additional points for every player's game 1 score"
   ]
  },
  {
   "cell_type": "code",
   "execution_count": 59,
   "metadata": {},
   "outputs": [
    {
     "data": {
      "text/plain": [
       "Chris      12\n",
       "Kiara       5\n",
       "Mikayla     9\n",
       "Ann        10\n",
       "Trish       8\n",
       "dtype: int64"
      ]
     },
     "execution_count": 59,
     "metadata": {},
     "output_type": "execute_result"
    }
   ],
   "source": [
    "game1_points + 2"
   ]
  },
  {
   "cell_type": "code",
   "execution_count": 60,
   "metadata": {},
   "outputs": [
    {
     "data": {
      "text/plain": [
       "Chris      12\n",
       "Kiara       5\n",
       "Mikayla     9\n",
       "Ann        10\n",
       "Trish       8\n",
       "dtype: int64"
      ]
     },
     "execution_count": 60,
     "metadata": {},
     "output_type": "execute_result"
    }
   ],
   "source": [
    "game1_points = game1_points + 2\n",
    "game1_points"
   ]
  },
  {
   "cell_type": "markdown",
   "metadata": {},
   "source": [
    "### Give 3 additional points for every player's game 2 score"
   ]
  },
  {
   "cell_type": "code",
   "execution_count": 61,
   "metadata": {},
   "outputs": [
    {
     "data": {
      "text/plain": [
       "Kiara      10\n",
       "Chris       6\n",
       "Trish      14\n",
       "Mikayla     5\n",
       "Ann         8\n",
       "Meena      23\n",
       "dtype: int64"
      ]
     },
     "execution_count": 61,
     "metadata": {},
     "output_type": "execute_result"
    }
   ],
   "source": [
    "game2_points += 3\n",
    "game2_points"
   ]
  },
  {
   "cell_type": "markdown",
   "metadata": {},
   "source": [
    "### Compute total of two series"
   ]
  },
  {
   "cell_type": "code",
   "execution_count": 62,
   "metadata": {},
   "outputs": [
    {
     "data": {
      "text/plain": [
       "Ann        18.0\n",
       "Chris      18.0\n",
       "Kiara      15.0\n",
       "Meena       NaN\n",
       "Mikayla    14.0\n",
       "Trish      22.0\n",
       "dtype: float64"
      ]
     },
     "execution_count": 62,
     "metadata": {},
     "output_type": "execute_result"
    }
   ],
   "source": [
    "# Pandas can perform operations on two series by matching up their indices\n",
    "total = game1_points + game2_points\n",
    "total"
   ]
  },
  {
   "cell_type": "markdown",
   "metadata": {},
   "source": [
    "### Who has the highest points?"
   ]
  },
  {
   "cell_type": "code",
   "execution_count": 63,
   "metadata": {},
   "outputs": [
    {
     "name": "stdout",
     "output_type": "stream",
     "text": [
      "22.0\n",
      "Trish\n"
     ]
    }
   ],
   "source": [
    "## Who has the most points?\n",
    "print(total.max())\n",
    "print(total.idxmax())"
   ]
  },
  {
   "cell_type": "code",
   "execution_count": 64,
   "metadata": {},
   "outputs": [
    {
     "name": "stdout",
     "output_type": "stream",
     "text": [
      "15.0 15.0\n"
     ]
    }
   ],
   "source": [
    "print(total['Kiara'], total[2])"
   ]
  },
  {
   "cell_type": "code",
   "execution_count": 65,
   "metadata": {},
   "outputs": [
    {
     "data": {
      "text/plain": [
       "0    10\n",
       "1     2\n",
       "2     3\n",
       "3    15\n",
       "dtype: int64"
      ]
     },
     "execution_count": 65,
     "metadata": {},
     "output_type": "execute_result"
    }
   ],
   "source": [
    "s = pd.Series([10, 2, 3, 15])\n",
    "s"
   ]
  },
  {
   "cell_type": "markdown",
   "metadata": {},
   "source": [
    "### Find all values > 8"
   ]
  },
  {
   "cell_type": "code",
   "execution_count": 66,
   "metadata": {},
   "outputs": [
    {
     "data": {
      "text/plain": [
       "0     True\n",
       "1    False\n",
       "2    False\n",
       "3     True\n",
       "dtype: bool"
      ]
     },
     "execution_count": 66,
     "metadata": {},
     "output_type": "execute_result"
    }
   ],
   "source": [
    "# gives a boolean Series, where each value is True if the original Series values satifies the condition\n",
    "b = s > 8\n",
    "b"
   ]
  },
  {
   "cell_type": "code",
   "execution_count": 67,
   "metadata": {},
   "outputs": [
    {
     "data": {
      "text/plain": [
       "0    10\n",
       "3    15\n",
       "dtype: int64"
      ]
     },
     "execution_count": 67,
     "metadata": {},
     "output_type": "execute_result"
    }
   ],
   "source": [
    "# now let's apply the boolean expression, which gives a boolean Series\n",
    "s[b]"
   ]
  },
  {
   "cell_type": "code",
   "execution_count": 68,
   "metadata": {},
   "outputs": [
    {
     "data": {
      "text/plain": [
       "0    10\n",
       "3    15\n",
       "dtype: int64"
      ]
     },
     "execution_count": 68,
     "metadata": {},
     "output_type": "execute_result"
    }
   ],
   "source": [
    "# Equivalently, you can directly specify boolean expression inside the [ ]\n",
    "s[s > 8]"
   ]
  },
  {
   "cell_type": "code",
   "execution_count": 69,
   "metadata": {},
   "outputs": [
    {
     "data": {
      "text/plain": [
       "0    10\n",
       "3    15\n",
       "dtype: int64"
      ]
     },
     "execution_count": 69,
     "metadata": {},
     "output_type": "execute_result"
    }
   ],
   "source": [
    "# Decomposing the steps here\n",
    "# Above example is equivalent to\n",
    "b = pd.Series([True, False, False, True])\n",
    "s[b]"
   ]
  },
  {
   "cell_type": "markdown",
   "metadata": {},
   "source": [
    "### How many students are 25 years or older?"
   ]
  },
  {
   "cell_type": "code",
   "execution_count": 70,
   "metadata": {},
   "outputs": [
    {
     "data": {
      "text/plain": [
       "0      False\n",
       "1      False\n",
       "2      False\n",
       "3      False\n",
       "4      False\n",
       "       ...  \n",
       "701    False\n",
       "702    False\n",
       "703    False\n",
       "704    False\n",
       "705    False\n",
       "Length: 706, dtype: bool"
      ]
     },
     "execution_count": 70,
     "metadata": {},
     "output_type": "execute_result"
    }
   ],
   "source": [
    "cs220_ages > 25"
   ]
  },
  {
   "cell_type": "code",
   "execution_count": 71,
   "metadata": {},
   "outputs": [
    {
     "data": {
      "text/plain": [
       "32     28\n",
       "87     36\n",
       "148    26\n",
       "151    27\n",
       "187    26\n",
       "233    27\n",
       "234    30\n",
       "351    27\n",
       "425    27\n",
       "510    27\n",
       "570    31\n",
       "dtype: int64"
      ]
     },
     "execution_count": 71,
     "metadata": {},
     "output_type": "execute_result"
    }
   ],
   "source": [
    "cs220_ages[cs220_ages > 25]"
   ]
  },
  {
   "cell_type": "code",
   "execution_count": 72,
   "metadata": {},
   "outputs": [
    {
     "name": "stdout",
     "output_type": "stream",
     "text": [
      "11\n"
     ]
    }
   ],
   "source": [
    "print(len(cs220_ages[cs220_ages > 25]))"
   ]
  },
  {
   "cell_type": "markdown",
   "metadata": {},
   "source": [
    "### How many students are in the age range 18 to 20, inclusive?"
   ]
  },
  {
   "cell_type": "code",
   "execution_count": 73,
   "metadata": {},
   "outputs": [
    {
     "data": {
      "text/plain": [
       "0       True\n",
       "1       True\n",
       "2       True\n",
       "3       True\n",
       "4       True\n",
       "       ...  \n",
       "701    False\n",
       "702     True\n",
       "703     True\n",
       "704    False\n",
       "705     True\n",
       "Length: 706, dtype: bool"
      ]
     },
     "execution_count": 73,
     "metadata": {},
     "output_type": "execute_result"
    }
   ],
   "source": [
    "(cs220_ages >= 18) & (cs220_ages <= 20)"
   ]
  },
  {
   "cell_type": "code",
   "execution_count": 74,
   "metadata": {},
   "outputs": [
    {
     "data": {
      "text/plain": [
       "0      19\n",
       "1      20\n",
       "2      20\n",
       "3      19\n",
       "4      20\n",
       "       ..\n",
       "699    20\n",
       "700    19\n",
       "702    20\n",
       "703    19\n",
       "705    19\n",
       "Length: 550, dtype: int64"
      ]
     },
     "execution_count": 74,
     "metadata": {},
     "output_type": "execute_result"
    }
   ],
   "source": [
    "cs220_ages[(cs220_ages >= 18) & (cs220_ages <= 20)]"
   ]
  },
  {
   "cell_type": "code",
   "execution_count": 75,
   "metadata": {},
   "outputs": [
    {
     "data": {
      "text/plain": [
       "550"
      ]
     },
     "execution_count": 75,
     "metadata": {},
     "output_type": "execute_result"
    }
   ],
   "source": [
    "len(cs220_ages[(cs220_ages >= 18) & (cs220_ages <= 20)])"
   ]
  },
  {
   "cell_type": "markdown",
   "metadata": {},
   "source": [
    "### What percentage of  students are ages 18 OR 21?"
   ]
  },
  {
   "cell_type": "code",
   "execution_count": 76,
   "metadata": {},
   "outputs": [
    {
     "data": {
      "text/plain": [
       "0.45892351274787535"
      ]
     },
     "execution_count": 76,
     "metadata": {},
     "output_type": "execute_result"
    }
   ],
   "source": [
    "len((cs220_ages[ (cs220_ages == 18) | (cs220_ages == 20)])) / len(cs220_ages)"
   ]
  }
 ],
 "metadata": {
  "kernelspec": {
   "display_name": "Python 3 (ipykernel)",
   "language": "python",
   "name": "python3"
  },
  "language_info": {
   "codemirror_mode": {
    "name": "ipython",
    "version": 3
   },
   "file_extension": ".py",
   "mimetype": "text/x-python",
   "name": "python",
   "nbconvert_exporter": "python",
   "pygments_lexer": "ipython3",
   "version": "3.9.7"
  }
 },
 "nbformat": 4,
 "nbformat_minor": 4
}

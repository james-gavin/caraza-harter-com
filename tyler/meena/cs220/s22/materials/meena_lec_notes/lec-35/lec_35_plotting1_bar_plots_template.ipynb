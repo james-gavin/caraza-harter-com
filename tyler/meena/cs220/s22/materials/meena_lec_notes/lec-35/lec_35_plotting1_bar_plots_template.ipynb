{
 "cells": [
  {
   "cell_type": "code",
   "execution_count": null,
   "metadata": {},
   "outputs": [],
   "source": [
    "# this allows the full screen to be used\n",
    "from IPython.core.display import display, HTML\n",
    "display(HTML(\"<style>.container { width:100% !important; }</style>\"))"
   ]
  },
  {
   "cell_type": "code",
   "execution_count": null,
   "metadata": {},
   "outputs": [],
   "source": [
    "# import statements\n",
    "import pandas as pd\n",
    "from pandas import DataFrame, Series\n",
    "import sqlite3\n",
    "import os"
   ]
  },
  {
   "cell_type": "markdown",
   "metadata": {},
   "source": [
    "#### Warmup 1: Create a database called student_grades.db with a single table called grades"
   ]
  },
  {
   "cell_type": "code",
   "execution_count": null,
   "metadata": {},
   "outputs": [],
   "source": [
    "# establish connection to a new database\n",
    "grades_conn = sqlite3.connect(\"student_grades.db\")\n",
    "\n",
    "# Q: When outer data structure is a dictionary, are inner data structures\n",
    "#    rows or columns of the DataFrame table?\n",
    "# A: \n",
    "\n",
    "df = pd.DataFrame({\n",
    "    \"name\": [\n",
    "        \"Cole\",\n",
    "        \"Cynthia\",\n",
    "        \"Alice\",\n",
    "        \"Seth\"\n",
    "    ],\n",
    "    \"grade\": [\n",
    "        \"C\",\n",
    "        \"AB\",\n",
    "        \"B\",\n",
    "        \"BC\"\n",
    "    ],\n",
    "    \"gpa\": [\n",
    "        2.0,\n",
    "        3.5,\n",
    "        3.0,\n",
    "        2.5\n",
    "    ],\n",
    "    \"attendance\": [\n",
    "        4,\n",
    "        11,\n",
    "        10,\n",
    "        6\n",
    "    ]\n",
    "})\n",
    "\n",
    "# convert the DataFrame to sql database\n",
    "df.to_sql(\"grades\", con = grades_conn, if_exists = \"replace\", index = False)"
   ]
  },
  {
   "cell_type": "markdown",
   "metadata": {},
   "source": [
    "#### Warmup 2: What are the columns of our table? What are their datatypes?"
   ]
  },
  {
   "cell_type": "code",
   "execution_count": null,
   "metadata": {},
   "outputs": [],
   "source": [
    "df = pd.read_sql(\"???\", grades_conn)\n",
    "print(df['sql'].iloc[0])\n",
    "\n",
    "# name is TEXT (in Python, str)\n",
    "# grade is TEXT (in Python, str)\n",
    "# gpa is REAL (in Python, float)\n",
    "# attendance is INTEGER (in Python, int)"
   ]
  },
  {
   "cell_type": "markdown",
   "metadata": {},
   "source": [
    "#### Warmup 4: What is the data in \"grades\" table? \n",
    "Save this to a variable called \"student_grades\" and display it."
   ]
  },
  {
   "cell_type": "code",
   "execution_count": null,
   "metadata": {},
   "outputs": [],
   "source": [
    "student_grades = pd.read_sql(\"???\", grades_conn)\n",
    "student_grades"
   ]
  },
  {
   "cell_type": "markdown",
   "metadata": {},
   "source": [
    "#### Warmup 5: Make a scatter plot where the attendance of a student is on the x-axis and their gpa on the y-axis\n",
    "Preview to upcoming topic"
   ]
  },
  {
   "cell_type": "code",
   "execution_count": null,
   "metadata": {},
   "outputs": [],
   "source": [
    "student_grades.plot.scatter(x = \"attendance\", y = \"gpa\")"
   ]
  },
  {
   "cell_type": "markdown",
   "metadata": {},
   "source": [
    "#### Warmup 6: What is the correlation between gpa and attendance?"
   ]
  },
  {
   "cell_type": "code",
   "execution_count": null,
   "metadata": {},
   "outputs": [],
   "source": []
  },
  {
   "cell_type": "markdown",
   "metadata": {},
   "source": [
    "#### Warmup 7: Close the connection."
   ]
  },
  {
   "cell_type": "code",
   "execution_count": null,
   "metadata": {},
   "outputs": [],
   "source": []
  },
  {
   "cell_type": "markdown",
   "metadata": {},
   "source": [
    "# Lecture 35: Bar Plots\n",
    "\n",
    "Learning Objectives:\n",
    "- Make a bar plot from a Pandas Series\n",
    "- Add features: x-label, y-label, title, gridlines, color to plot\n",
    "- Set the index of a DataFrame certain column\n",
    "- Create an 'other' column in a DataFrame\n"
   ]
  },
  {
   "cell_type": "code",
   "execution_count": null,
   "metadata": {},
   "outputs": [],
   "source": [
    "# Without this Jupyter notebook cannot display the \"first\" plot in older versions \n",
    "# of Python / mathplotlib / jupyter\n"
   ]
  },
  {
   "cell_type": "markdown",
   "metadata": {},
   "source": [
    "### Helpful documentation and an overview of how matplotlib works\n",
    "https://matplotlib.org/stable/tutorials/introductory/usage.html\n"
   ]
  },
  {
   "cell_type": "markdown",
   "metadata": {},
   "source": [
    "***Just for today's lecture, let's have import statements inside the notebook file. You should never do this when you write project code***"
   ]
  },
  {
   "cell_type": "code",
   "execution_count": null,
   "metadata": {},
   "outputs": [],
   "source": [
    "# matplotlib is a plotting module similar to MATLAB\n",
    "import matplotlib\n",
    "\n",
    "# matplotlib is highly configurable, acts like a style sheet for plots\n",
    "# rc stands for runtime config, syntax is like a dictionary\n",
    "\n",
    "matplotlib.rcParams                       # show all parameters\n",
    "#matplotlib.rcParams[\"???\"]          # show current font size setting\n",
    "#matplotlib.rcParams[\"???\"] = ???      # change current font size setting"
   ]
  },
  {
   "cell_type": "markdown",
   "metadata": {},
   "source": [
    "## Plots from pandas Series\n",
    "\n",
    "- matplotlib integrates with pandas, just like sqlite3 integrates with pandas\n",
    "- Syntax: ```Series.plot.<PLOT_FUNCTION>(...)```\n",
    "\n",
    "## Bar plots: From a Series\n",
    "- Series indices are the x-axis labels\n",
    "- Series values are the height of each bar\n",
    "\n",
    "https://pandas.pydata.org/docs/reference/api/pandas.Series.plot.bar.html"
   ]
  },
  {
   "cell_type": "code",
   "execution_count": null,
   "metadata": {},
   "outputs": [],
   "source": [
    "s = Series({\"Police\": 5000000, \"Fire\": 3000000, \"Schools\": 2000000})\n",
    "\n",
    "# What are the two terminologies associated with pandas Series?\n",
    "# A: \n",
    "\n",
    "# make a bar plot...notice the type\n"
   ]
  },
  {
   "cell_type": "code",
   "execution_count": null,
   "metadata": {},
   "outputs": [],
   "source": [
    "# if we store the returned object in a variable, we can configure the AxesSubplot\n",
    "# typically the variable name used is 'ax'\n"
   ]
  },
  {
   "cell_type": "markdown",
   "metadata": {},
   "source": [
    "### How can we set the x-axis, y-axis labels, and title?\n",
    "- plotting functions return what is called as AxesSubplot\n",
    "- store into a variable and use the AxesSubplot object\n",
    "- Syntax:\n",
    "```\n",
    "ax.set_ylabel(\"...\")\n",
    "ax.set_xlabel(\"...\")\n",
    "ax.set_title(\"...\")\n",
    "```"
   ]
  },
  {
   "cell_type": "code",
   "execution_count": null,
   "metadata": {},
   "outputs": [],
   "source": [
    "# What is this 1e6? Can we get rid of it?\n",
    "# Instead of 1e6, divide all values in s by 1000000 (1 million)\n",
    "# better plot:\n",
    "\n",
    "# set the y label to \"Dollars (Millions)\"\n",
    "\n",
    "# set the x label to \"City Agency\"\n",
    "\n",
    "# this is self-explanatory, so we will skip this for other example plots\n",
    "\n",
    "# set the title to \"Annual City Spending\"\n",
    "\n"
   ]
  },
  {
   "cell_type": "markdown",
   "metadata": {},
   "source": [
    "### How can we rotate the x-axis labels so that they are more readable?"
   ]
  },
  {
   "cell_type": "code",
   "execution_count": null,
   "metadata": {},
   "outputs": [],
   "source": [
    "s"
   ]
  },
  {
   "cell_type": "markdown",
   "metadata": {},
   "source": [
    "Which aspect of the Series is the x-axis label coming from?"
   ]
  },
  {
   "cell_type": "code",
   "execution_count": null,
   "metadata": {},
   "outputs": [],
   "source": [
    "# Answer: "
   ]
  },
  {
   "cell_type": "markdown",
   "metadata": {},
   "source": [
    "How can we extract the indices from a Series?"
   ]
  },
  {
   "cell_type": "code",
   "execution_count": null,
   "metadata": {},
   "outputs": [],
   "source": []
  },
  {
   "cell_type": "markdown",
   "metadata": {},
   "source": [
    "Now let's use that to set x-axis tick label formatting.\n",
    "- Syntax:\n",
    "```\n",
    "ax.set_xticklabels(<list of x-axis labels>, rotation = ???)\n",
    "```"
   ]
  },
  {
   "cell_type": "code",
   "execution_count": null,
   "metadata": {},
   "outputs": [],
   "source": [
    "ax = (s / 1000000).plot.bar()\n",
    "ax.set_ylabel(\"Dollars (Millions)\")\n",
    "ax.set_title(\"Annual City Spending\")\n",
    "\n",
    "# give the x ticklabels a rotation of 45 degrees\n"
   ]
  },
  {
   "cell_type": "markdown",
   "metadata": {},
   "source": [
    "### How can we change the figure size?\n",
    "- figsize keyword argument\n",
    "- should be a tuple with two values: width and height (in inches)\n",
    "\n"
   ]
  },
  {
   "cell_type": "code",
   "execution_count": null,
   "metadata": {},
   "outputs": [],
   "source": [
    "ax = (s / 1000000).plot.bar(???)\n",
    "ax.set_ylabel(\"Dollars (Millions)\")\n",
    "ax.set_title(\"Annual City Spending\")"
   ]
  },
  {
   "cell_type": "markdown",
   "metadata": {},
   "source": [
    "### How can we make the bars horizontal?\n",
    "https://pandas.pydata.org/docs/reference/api/pandas.Series.plot.barh.html\n",
    "- switch figsize arguments\n",
    "- change y-label to x-label"
   ]
  },
  {
   "cell_type": "code",
   "execution_count": null,
   "metadata": {},
   "outputs": [],
   "source": [
    "# paste the previous code cell here and modify\n"
   ]
  },
  {
   "cell_type": "markdown",
   "metadata": {},
   "source": [
    "### Change bar color by using the argument color = ' ' \n",
    "- Syntax: ``` plot.bar(figsize = (width, height), color = ???)```\n",
    "- 8 standard colors: r, g, b, c, m, y, k, w    (for example: ```color = 'k'```, which is black)\n",
    "    - you could also specify the entire color as a string (for example: ```color = 'red'```)\n",
    "- can use value of grey between 0 and 1        (for example: ```color = '0.6'```)\n",
    "- can use a tuple (r, g, b) between 0 and 1      (for example: ```color = (0, .3, .4)```)"
   ]
  },
  {
   "cell_type": "code",
   "execution_count": null,
   "metadata": {},
   "outputs": [],
   "source": [
    "# color as a single char \n",
    "ax = (s / 1000000).plot.barh(figsize = (4, 1.5), color = ???) # black color\n",
    "ax.set_xlabel(\"Dollars (Millions)\")\n",
    "ax.set_title(\"Annual City Spending\")"
   ]
  },
  {
   "cell_type": "code",
   "execution_count": null,
   "metadata": {},
   "outputs": [],
   "source": [
    "# color as a str\n",
    "ax = (s / 1000000).plot.barh(figsize = (4, 1.5), color = ???) # red color\n",
    "ax.set_xlabel(\"Dollars (Millions)\")\n",
    "ax.set_title(\"Annual City Spending\")"
   ]
  },
  {
   "cell_type": "code",
   "execution_count": null,
   "metadata": {},
   "outputs": [],
   "source": [
    "# color as tuple of (r, g, b)\n",
    "ax = (s / 1000000).plot.barh(figsize = (4, 1.5), color = (.2, .5, 0))\n",
    "ax.set_xlabel(\"Dollars (Millions)\")\n",
    "ax.set_title(\"Annual City Spending\")"
   ]
  },
  {
   "cell_type": "markdown",
   "metadata": {},
   "source": [
    "### How can we mark gridlines?\n",
    "- use ax.grid()"
   ]
  },
  {
   "cell_type": "code",
   "execution_count": null,
   "metadata": {},
   "outputs": [],
   "source": [
    "# copy the previous code and add grid lines\n",
    "ax = (s / 1000000).plot.barh(figsize = (4, 1.5), color = 'b')\n",
    "ax.set_xlabel(\"Dollars (Millions)\")\n",
    "ax.set_title(\"Annual City Spending\")\n"
   ]
  },
  {
   "cell_type": "markdown",
   "metadata": {},
   "source": [
    "## Examples with the Bus Route Database"
   ]
  },
  {
   "cell_type": "code",
   "execution_count": null,
   "metadata": {},
   "outputs": [],
   "source": [
    "path = \"bus.db\"\n",
    "\n",
    "# assert existence of path\n",
    "\n",
    "# establish connection to bus.db\n"
   ]
  },
  {
   "cell_type": "markdown",
   "metadata": {},
   "source": [
    "### Find the tables in `bus.db`"
   ]
  },
  {
   "cell_type": "code",
   "execution_count": null,
   "metadata": {},
   "outputs": [],
   "source": [
    "pd.read_sql(\"\"\"\n",
    "SELECT *\n",
    "FROM sqlite_master\n",
    "WHERE type = 'table'\n",
    "\"\"\", conn)"
   ]
  },
  {
   "cell_type": "code",
   "execution_count": null,
   "metadata": {},
   "outputs": [],
   "source": [
    "pd.read_sql(\"\"\"\n",
    "SELECT * from\n",
    "boarding\n",
    "\"\"\", conn)"
   ]
  },
  {
   "cell_type": "markdown",
   "metadata": {},
   "source": [
    "#### What are the top routes, and how many people ride them daily?"
   ]
  },
  {
   "cell_type": "code",
   "execution_count": null,
   "metadata": {},
   "outputs": [],
   "source": [
    "df = pd.read_sql(\"\"\"\n",
    "\n",
    "\"\"\", conn)\n",
    "df"
   ]
  },
  {
   "cell_type": "markdown",
   "metadata": {},
   "source": [
    "#### Let's take the daily column out as a Series ..."
   ]
  },
  {
   "cell_type": "code",
   "execution_count": null,
   "metadata": {},
   "outputs": [],
   "source": []
  },
  {
   "cell_type": "markdown",
   "metadata": {},
   "source": [
    "### Oops, too much data. Let's filter down to top 5 routes. How can we do that in SQL?"
   ]
  },
  {
   "cell_type": "code",
   "execution_count": null,
   "metadata": {},
   "outputs": [],
   "source": [
    "# TODO: add the appropriate SQL clause\n",
    "df = pd.read_sql(\"\"\"\n",
    "SELECT Route, SUM(DailyBoardings) AS daily\n",
    "FROM boarding\n",
    "GROUP BY Route\n",
    "ORDER BY daily DESC\n",
    "\"\"\", conn)\n",
    "df"
   ]
  },
  {
   "cell_type": "markdown",
   "metadata": {},
   "source": [
    "Now, plot this!"
   ]
  },
  {
   "cell_type": "code",
   "execution_count": null,
   "metadata": {},
   "outputs": [],
   "source": []
  },
  {
   "cell_type": "markdown",
   "metadata": {},
   "source": [
    "#### Huh, what exactly is route 0? Where is that coming from?\n",
    "Q: Can you guess where it is coming from? \n",
    "\n",
    "A: It is coming from dataframe row index!"
   ]
  },
  {
   "cell_type": "code",
   "execution_count": null,
   "metadata": {},
   "outputs": [],
   "source": [
    "df"
   ]
  },
  {
   "cell_type": "markdown",
   "metadata": {},
   "source": [
    "#### Let's fix that: we can use df.set_index(...)\n",
    "- set_index returns a brand new DataFrame object instance"
   ]
  },
  {
   "cell_type": "code",
   "execution_count": null,
   "metadata": {},
   "outputs": [],
   "source": [
    "\n",
    "df"
   ]
  },
  {
   "cell_type": "markdown",
   "metadata": {},
   "source": [
    "And now plot this..."
   ]
  },
  {
   "cell_type": "code",
   "execution_count": null,
   "metadata": {},
   "outputs": [],
   "source": [
    "s = df[\"daily\"]\n",
    "s.plot.bar()"
   ]
  },
  {
   "cell_type": "markdown",
   "metadata": {},
   "source": [
    "### Wouldn't it be nice to have an \"other\" bar to represent other routes?\n",
    "- we have to now get rid of LIMIT clause\n",
    "- we have to deal with other routes using pandas"
   ]
  },
  {
   "cell_type": "code",
   "execution_count": null,
   "metadata": {},
   "outputs": [],
   "source": [
    "df = pd.read_sql(\"\"\"\n",
    "SELECT Route, SUM(DailyBoardings) AS daily\n",
    "FROM boarding\n",
    "GROUP BY Route\n",
    "ORDER BY daily DESC\n",
    "\"\"\", conn)\n",
    "\n",
    "df = df.set_index(\"Route\")\n",
    "s = df[\"daily\"]\n",
    "df.head()"
   ]
  },
  {
   "cell_type": "markdown",
   "metadata": {},
   "source": [
    "#### We are back to plotting all route bars ..."
   ]
  },
  {
   "cell_type": "code",
   "execution_count": null,
   "metadata": {},
   "outputs": [],
   "source": [
    "s.plot.bar()"
   ]
  },
  {
   "cell_type": "markdown",
   "metadata": {},
   "source": [
    "### How can we slice a pandas dataframe?\n",
    "- Recall that .iloc allows us to do slicing.\n",
    "- For reproducing previous 5-route plot, we just need to take first 5 route details and populate into a series s.\n",
    "- For the \"other\" part, we want all the rows in dataframe after row 5 summed up together."
   ]
  },
  {
   "cell_type": "code",
   "execution_count": null,
   "metadata": {},
   "outputs": [],
   "source": []
  },
  {
   "cell_type": "code",
   "execution_count": null,
   "metadata": {},
   "outputs": [],
   "source": [
    "s.plot.bar()\n",
    "# Q: Where did the xlabel come from? \n",
    "# A: "
   ]
  },
  {
   "cell_type": "markdown",
   "metadata": {},
   "source": [
    "Let's fix the plot aesthetics."
   ]
  },
  {
   "cell_type": "code",
   "execution_count": null,
   "metadata": {},
   "outputs": [],
   "source": []
  }
 ],
 "metadata": {
  "kernelspec": {
   "display_name": "Python 3 (ipykernel)",
   "language": "python",
   "name": "python3"
  },
  "language_info": {
   "codemirror_mode": {
    "name": "ipython",
    "version": 3
   },
   "file_extension": ".py",
   "mimetype": "text/x-python",
   "name": "python",
   "nbconvert_exporter": "python",
   "pygments_lexer": "ipython3",
   "version": "3.9.7"
  }
 },
 "nbformat": 4,
 "nbformat_minor": 2
}

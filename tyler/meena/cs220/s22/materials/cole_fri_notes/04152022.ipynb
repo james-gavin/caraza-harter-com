{
 "cells": [
  {
   "cell_type": "code",
   "execution_count": null,
   "id": "faa4988a",
   "metadata": {},
   "outputs": [],
   "source": [
    "import pandas"
   ]
  },
  {
   "cell_type": "markdown",
   "id": "7e857787",
   "metadata": {},
   "source": [
    "# Lab Review"
   ]
  },
  {
   "cell_type": "markdown",
   "id": "4b6a6f80",
   "metadata": {},
   "source": [
    "## Segment 1"
   ]
  },
  {
   "cell_type": "code",
   "execution_count": null,
   "id": "7809968e",
   "metadata": {},
   "outputs": [],
   "source": [
    "# Review"
   ]
  },
  {
   "cell_type": "markdown",
   "id": "ab7c1301",
   "metadata": {},
   "source": [
    "## Segment 2"
   ]
  },
  {
   "cell_type": "markdown",
   "id": "595041ef",
   "metadata": {},
   "source": [
    "https://realpython.com/python-thinking-recursively/"
   ]
  },
  {
   "cell_type": "code",
   "execution_count": null,
   "id": "839337a0",
   "metadata": {},
   "outputs": [],
   "source": [
    "# Find the Factorial of a number (iteratively)\n",
    "def fact_itr(n):\n",
    "    pass\n",
    "fact_itr(6)"
   ]
  },
  {
   "cell_type": "code",
   "execution_count": null,
   "id": "f95fb867",
   "metadata": {},
   "outputs": [],
   "source": [
    "# Find the Factorial of a number (recursively)\n",
    "def fact_rec(n):\n",
    "    pass\n",
    "fact_rec(6)"
   ]
  },
  {
   "cell_type": "code",
   "execution_count": null,
   "id": "7ad6ba85",
   "metadata": {},
   "outputs": [],
   "source": [
    "# https://en.wikipedia.org/wiki/Wilson%27s_theorem\n",
    "def is_prime(x):\n",
    "    return fact_itr(x - 1) % x == x - 1"
   ]
  },
  {
   "cell_type": "code",
   "execution_count": null,
   "id": "f27b9af2",
   "metadata": {},
   "outputs": [],
   "source": [
    "def all_prime_numbers_til(n):\n",
    "    pass\n",
    "all_prime_numbers_til(44)"
   ]
  },
  {
   "cell_type": "markdown",
   "id": "2a471b8a",
   "metadata": {},
   "source": [
    "More Examples? Visit https://github.com/tylerharter/caraza-harter-com/tree/master/tyler/meena/cs220/s22/materials/cole_lec_notes/lec_22"
   ]
  },
  {
   "cell_type": "markdown",
   "id": "63819164",
   "metadata": {},
   "source": [
    "## Segment 3"
   ]
  },
  {
   "cell_type": "code",
   "execution_count": null,
   "id": "e18e982b",
   "metadata": {},
   "outputs": [],
   "source": [
    "# This cell should be pasted into your p11 notebook\n",
    "def scatter(x, y, xlabel=\"please label me!\", ylabel=\"please label me!\"):\n",
    "    df = pandas.DataFrame({\"x\":x, \"y\":y})\n",
    "    ax = df.plot.scatter(x=\"x\", y=\"y\", color=\"black\", fontsize=16, ylim=0)\n",
    "    ax.set_ylabel(ylabel, fontsize=16)\n",
    "    ax.set_xlabel(xlabel, fontsize=16)"
   ]
  },
  {
   "cell_type": "code",
   "execution_count": null,
   "id": "b73b57af",
   "metadata": {},
   "outputs": [],
   "source": [
    "students = [\"Bob\", \"Charles\", \"Cindy\", \"Derek\", \"Eleanor\"]\n",
    "grades = [93, 33, 78, 84, 91]"
   ]
  },
  {
   "cell_type": "code",
   "execution_count": null,
   "id": "6d910f2c",
   "metadata": {},
   "outputs": [],
   "source": [
    "# Plot the student's grades using \"students\" and \"grades\" on a Scatter plott.\n"
   ]
  },
  {
   "cell_type": "code",
   "execution_count": null,
   "id": "f81285b3",
   "metadata": {},
   "outputs": [],
   "source": [
    "stud_grades = {\n",
    "    \"Bob\": 93,\n",
    "    \"Charles\": 33,\n",
    "    \"Cindy\": 78,\n",
    "    \"Derek\": 84,\n",
    "    \"Eleanor\": 91\n",
    "}"
   ]
  },
  {
   "cell_type": "code",
   "execution_count": null,
   "id": "72f53511",
   "metadata": {},
   "outputs": [],
   "source": [
    "# Plot the student's grades using \"stud_grades\" on a Scatter plott.\n"
   ]
  },
  {
   "cell_type": "code",
   "execution_count": null,
   "id": "1fbbc5d1",
   "metadata": {},
   "outputs": [],
   "source": [
    "# Create a new dictionary called new_stud_grades\n",
    "# Remove any student who has a score less than 50.\n"
   ]
  },
  {
   "cell_type": "code",
   "execution_count": null,
   "id": "b90e4fae",
   "metadata": {},
   "outputs": [],
   "source": [
    "# Plot new_stud_grades\n"
   ]
  }
 ],
 "metadata": {
  "kernelspec": {
   "display_name": "Python 3 (ipykernel)",
   "language": "python",
   "name": "python3"
  },
  "language_info": {
   "codemirror_mode": {
    "name": "ipython",
    "version": 3
   },
   "file_extension": ".py",
   "mimetype": "text/x-python",
   "name": "python",
   "nbconvert_exporter": "python",
   "pygments_lexer": "ipython3",
   "version": "3.9.7"
  }
 },
 "nbformat": 4,
 "nbformat_minor": 5
}

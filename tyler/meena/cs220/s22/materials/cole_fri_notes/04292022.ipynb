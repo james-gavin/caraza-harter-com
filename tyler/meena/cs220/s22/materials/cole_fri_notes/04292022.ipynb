{
 "cells": [
  {
   "cell_type": "code",
   "execution_count": null,
   "id": "8d3c7872",
   "metadata": {},
   "outputs": [],
   "source": [
    "import sqlite3\n",
    "import pandas as pd\n",
    "import os\n",
    "import requests\n",
    "import math\n",
    "import numpy as np\n",
    "import matplotlib"
   ]
  },
  {
   "cell_type": "markdown",
   "id": "687a238a",
   "metadata": {},
   "source": [
    "# Lab Reviews"
   ]
  },
  {
   "cell_type": "markdown",
   "id": "408df2e8",
   "metadata": {},
   "source": [
    "## Segment 1"
   ]
  },
  {
   "cell_type": "markdown",
   "id": "fce6d348",
   "metadata": {},
   "source": [
    "You could try to download the data from https://archive.ics.uci.edu/ml/machine-learning-databases/iris/iris.data and convert it into a dataframe."
   ]
  },
  {
   "cell_type": "code",
   "execution_count": null,
   "id": "d31033aa",
   "metadata": {},
   "outputs": [],
   "source": [
    "your_df.to_sql(\"your_table_name\", conn, if_exists=\"replace\", index=False)"
   ]
  },
  {
   "cell_type": "markdown",
   "id": "3e85ae44",
   "metadata": {},
   "source": [
    "## Segment 2"
   ]
  },
  {
   "cell_type": "code",
   "execution_count": null,
   "id": "efd5c133",
   "metadata": {},
   "outputs": [],
   "source": [
    "iris_conn = sqlite3.connect(\"iris-flowers.db\")\n",
    "pd.read_sql(\"SELECT * FROM sqlite_master WHERE type='table'\", iris_conn)"
   ]
  },
  {
   "cell_type": "code",
   "execution_count": null,
   "id": "011ee2a7",
   "metadata": {},
   "outputs": [],
   "source": [
    "# How many flowers have a petal length greater than 5.0?\n",
    "pd.read_sql(\"\"\"\n",
    "\n",
    "\"\"\", iris_conn)"
   ]
  },
  {
   "cell_type": "code",
   "execution_count": null,
   "id": "4b2aaf04",
   "metadata": {},
   "outputs": [],
   "source": [
    "# How many flowers have a unique petal width?\n",
    "pd.read_sql(\"\"\"\n",
    "\n",
    "\"\"\", iris_conn)"
   ]
  },
  {
   "cell_type": "code",
   "execution_count": null,
   "id": "10707771",
   "metadata": {},
   "outputs": [],
   "source": [
    "# Using SQL, get the 10 'Iris-setosa' flowers with the longest sepal length.\n",
    "# Break any ties by ordering by the shortest sepal width.\n",
    "\n",
    "pd.read_sql(\"\"\"\n",
    "\n",
    "\"\"\", iris_conn)"
   ]
  },
  {
   "cell_type": "code",
   "execution_count": null,
   "id": "b971e033",
   "metadata": {},
   "outputs": [],
   "source": [
    "# What is the average petal length for each type of flower? Order by petal length.\n",
    "pd.read_sql(\"\"\"\n",
    "\n",
    "\"\"\", iris_conn)"
   ]
  },
  {
   "cell_type": "code",
   "execution_count": null,
   "id": "1b7df8c0",
   "metadata": {},
   "outputs": [],
   "source": [
    "iris_df = pd.read_sql(\"\"\"\n",
    "    SELECT *\n",
    "    FROM iris\n",
    "\"\"\", iris_conn)\n",
    "iris_df"
   ]
  },
  {
   "cell_type": "code",
   "execution_count": null,
   "id": "c29f4f7e",
   "metadata": {},
   "outputs": [],
   "source": [
    "iris.close()"
   ]
  },
  {
   "cell_type": "markdown",
   "id": "dd859517",
   "metadata": {},
   "source": [
    "## Segment 3"
   ]
  },
  {
   "cell_type": "code",
   "execution_count": null,
   "id": "27f54f38",
   "metadata": {},
   "outputs": [],
   "source": [
    "students = pd.DataFrame({\n",
    "    \"name\": [\n",
    "        \"Cole\",\n",
    "        \"Cynthia\",\n",
    "        \"Alice\",\n",
    "        \"Seth\"\n",
    "    ],\n",
    "    \"grade\": [\n",
    "        \"C\",\n",
    "        \"AB\",\n",
    "        \"B\",\n",
    "        \"BC\"\n",
    "    ],\n",
    "    \"gpa\": [\n",
    "        2.0,\n",
    "        3.5,\n",
    "        3.0,\n",
    "        2.5\n",
    "    ],\n",
    "    \"attendance\": [\n",
    "        4,\n",
    "        11,\n",
    "        10,\n",
    "        6\n",
    "    ],\n",
    "    \"height\": [\n",
    "        68,\n",
    "        66,\n",
    "        60,\n",
    "        72\n",
    "    ]\n",
    "})\n",
    "students"
   ]
  },
  {
   "cell_type": "code",
   "execution_count": null,
   "id": "15e87447",
   "metadata": {},
   "outputs": [],
   "source": [
    "# What will this plot?\n",
    "students.plot.bar()"
   ]
  },
  {
   "cell_type": "code",
   "execution_count": null,
   "id": "85b2abce",
   "metadata": {},
   "outputs": [],
   "source": [
    "# Plot the student's name vs their GPA (using x, y -- NOT set_index)\n"
   ]
  },
  {
   "cell_type": "code",
   "execution_count": null,
   "id": "aa663199",
   "metadata": {},
   "outputs": [],
   "source": [
    "# Make a scatter plot of the iris's petal length vs width.\n"
   ]
  },
  {
   "cell_type": "code",
   "execution_count": null,
   "id": "3700abac",
   "metadata": {},
   "outputs": [],
   "source": [
    "# Hardcode in a regression line. Assume the \"rise\" is 2.5 and the \"run\" is 7.0\n"
   ]
  }
 ],
 "metadata": {
  "kernelspec": {
   "display_name": "Python 3 (ipykernel)",
   "language": "python",
   "name": "python3"
  },
  "language_info": {
   "codemirror_mode": {
    "name": "ipython",
    "version": 3
   },
   "file_extension": ".py",
   "mimetype": "text/x-python",
   "name": "python",
   "nbconvert_exporter": "python",
   "pygments_lexer": "ipython3",
   "version": "3.9.7"
  }
 },
 "nbformat": 4,
 "nbformat_minor": 5
}

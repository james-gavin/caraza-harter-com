{
 "cells": [
  {
   "cell_type": "code",
   "execution_count": null,
   "metadata": {},
   "outputs": [],
   "source": [
    "# "
   ]
  },
  {
   "cell_type": "code",
   "execution_count": 5,
   "metadata": {},
   "outputs": [
    {
     "name": "stdout",
     "output_type": "stream",
     "text": [
      "True True False\n",
      "False False False\n",
      "False True True\n",
      "True False True\n",
      "False True True\n"
     ]
    }
   ],
   "source": [
    "# Problem 1\n",
    "print(\"a\" < \"z\", \"ax\" < \"ay\", \"abc\" < \"abCd\")\n",
    "print(\"a\" < \"Z\", \"x2\" < \"x1\", \"zero\" < \"999\")\n",
    "print(\"x\" < \"x\", \"abcX\" < \"abcY\", \"10\" < \"999\")\n",
    "print(\"0\" < \"x\", \"abcX\" < \"aBcY\", \"1000\" < \"999\")\n",
    "print(\"1\" < \"0\", \"abc\" < \"abcd\", \"88888888888\" < \"9\")"
   ]
  },
  {
   "cell_type": "code",
   "execution_count": 13,
   "metadata": {},
   "outputs": [
    {
     "name": "stdout",
     "output_type": "stream",
     "text": [
      "DOG\n",
      "dog\n",
      "paint\n",
      "  paint\n",
      "val: 99%\n",
      "X Y\n",
      "\n",
      "True\n"
     ]
    }
   ],
   "source": [
    "# Problem 2 left column\n",
    "print(\"dog\".upper())\n",
    "print(\"Dog\".lower())\n",
    "print(\"  paint  \".strip())\n",
    "print(\"  paint  \".rstrip())\n",
    "print(\"val: {}%\".format(99))\n",
    "print(\"{} {}\".format(\"X\", \"Y\"))\n"
   ]
  },
  {
   "cell_type": "code",
   "execution_count": 18,
   "metadata": {},
   "outputs": [
    {
     "name": "stdout",
     "output_type": "stream",
     "text": [
      "True\n",
      "False\n",
      "0\n",
      "2\n",
      "-1\n",
      "2\n"
     ]
    }
   ],
   "source": [
    "# Problem 2 right column\n",
    "\n",
    "print(\"abcd\".startswith(\"ab\"))\n",
    "print(\"abcd\".endswith(\"bc\"))\n",
    "print(\"abcd\".find(\"a\"))\n",
    "print(\"abcd\".find(\"c\"))\n",
    "print(\"abcd\".find(\"B\"))\n",
    "print(\"Python\".find(\"th\"))"
   ]
  },
  {
   "cell_type": "code",
   "execution_count": 25,
   "metadata": {},
   "outputs": [
    {
     "name": "stdout",
     "output_type": "stream",
     "text": [
      "a\n",
      "c\n",
      "c\n",
      "o\n",
      "3\n",
      "=\n",
      "um\n"
     ]
    }
   ],
   "source": [
    "# Problem 3\n",
    "msg = \"Hello\"\n",
    "x = \"num= 13\"   # let's assume there is a space after the =\n",
    "\n",
    "print(\"abc\"[0])\n",
    "print(\"abc\"[2])\n",
    "print(\"abc\"[-1])\n",
    "\n",
    "print(msg[4])\n",
    "# other statements in the cells below\n",
    "\n",
    "print(x[len(x) - 1])\n",
    "print(x[3])\n",
    "print(x[1] + x[2])\n"
   ]
  },
  {
   "cell_type": "code",
   "execution_count": 28,
   "metadata": {},
   "outputs": [
    {
     "ename": "IndexError",
     "evalue": "string index out of range",
     "output_type": "error",
     "traceback": [
      "\u001b[0;31m---------------------------------------------------------------------------\u001b[0m",
      "\u001b[0;31mIndexError\u001b[0m                                Traceback (most recent call last)",
      "\u001b[0;32m<ipython-input-28-ef4b4e6f8c3e>\u001b[0m in \u001b[0;36m<module>\u001b[0;34m\u001b[0m\n\u001b[0;32m----> 1\u001b[0;31m \u001b[0mprint\u001b[0m\u001b[0;34m(\u001b[0m\u001b[0mmsg\u001b[0m\u001b[0;34m[\u001b[0m\u001b[0mlen\u001b[0m\u001b[0;34m(\u001b[0m\u001b[0mmsg\u001b[0m\u001b[0;34m)\u001b[0m\u001b[0;34m]\u001b[0m\u001b[0;34m)\u001b[0m\u001b[0;34m\u001b[0m\u001b[0;34m\u001b[0m\u001b[0m\n\u001b[0m",
      "\u001b[0;31mIndexError\u001b[0m: string index out of range"
     ]
    }
   ],
   "source": [
    "print(msg[len(msg)])"
   ]
  },
  {
   "cell_type": "code",
   "execution_count": 29,
   "metadata": {},
   "outputs": [
    {
     "ename": "IndexError",
     "evalue": "string index out of range",
     "output_type": "error",
     "traceback": [
      "\u001b[0;31m---------------------------------------------------------------------------\u001b[0m",
      "\u001b[0;31mIndexError\u001b[0m                                Traceback (most recent call last)",
      "\u001b[0;32m<ipython-input-29-df0e03982621>\u001b[0m in \u001b[0;36m<module>\u001b[0;34m\u001b[0m\n\u001b[0;32m----> 1\u001b[0;31m \u001b[0mprint\u001b[0m\u001b[0;34m(\u001b[0m\u001b[0mmsg\u001b[0m\u001b[0;34m[\u001b[0m\u001b[0;36m5\u001b[0m\u001b[0;34m]\u001b[0m\u001b[0;34m)\u001b[0m\u001b[0;34m\u001b[0m\u001b[0;34m\u001b[0m\u001b[0m\n\u001b[0m",
      "\u001b[0;31mIndexError\u001b[0m: string index out of range"
     ]
    }
   ],
   "source": [
    "print(msg[5])"
   ]
  },
  {
   "cell_type": "code",
   "execution_count": 34,
   "metadata": {},
   "outputs": [
    {
     "name": "stdout",
     "output_type": "stream",
     "text": [
      "ab\n",
      "cde\n",
      "cde\n",
      "He\n",
      "llo\n",
      "lo\n",
      "Hell\n",
      "Hello\n",
      "1\n",
      "ello\n"
     ]
    }
   ],
   "source": [
    "# Problem 4\n",
    "\n",
    "p = \"= \"  \n",
    "\n",
    "print(\"abcde\"[0:2])\n",
    "print(\"abcde\"[2:6])\n",
    "print(\"abcde\"[2:9])\n",
    "\n",
    "print(msg[:2])\n",
    "print(msg[2:])\n",
    "print(msg[-2:])\n",
    "\n",
    "print(msg[:msg.find('=')])\n",
    "print(msg[msg.find(' ')+1:])\n",
    "print(msg.find(p) + len(p))  \n",
    "print(msg[msg.find(p)+len(p):])"
   ]
  },
  {
   "cell_type": "code",
   "execution_count": 7,
   "metadata": {},
   "outputs": [
    {
     "name": "stdout",
     "output_type": "stream",
     "text": [
      "301\n",
      "301\n",
      "301\n",
      "3.0.1.\n",
      "103\n"
     ]
    }
   ],
   "source": [
    "# Problem 5\n",
    "msg = \"301\"\n",
    "A = \"\"\n",
    "B = \"\"\n",
    "\n",
    "for character in msg:\n",
    "    print(msg)\n",
    "    A = A + character + \".\"\n",
    "    B = character + B\n",
    "\n",
    "#What is in A afterwards?\n",
    "print(A)\n",
    "\n",
    "#What is in B afterwards?\n",
    "print(B)\n"
   ]
  },
  {
   "cell_type": "code",
   "execution_count": 6,
   "metadata": {},
   "outputs": [
    {
     "name": "stdout",
     "output_type": "stream",
     "text": [
      "P\n",
      "PY\n",
      "PYT\n",
      "PYTH\n",
      "PYTHO\n",
      "PYTHON\n"
     ]
    }
   ],
   "source": [
    "# Problem 6\n",
    "s = \"PYTHON\"\n",
    "for i in range(len(s)):\n",
    "    print(s[:i+1])\n"
   ]
  },
  {
   "cell_type": "code",
   "execution_count": null,
   "metadata": {},
   "outputs": [],
   "source": []
  }
 ],
 "metadata": {
  "kernelspec": {
   "display_name": "Python 3 (ipykernel)",
   "language": "python",
   "name": "python3"
  },
  "language_info": {
   "codemirror_mode": {
    "name": "ipython",
    "version": 3
   },
   "file_extension": ".py",
   "mimetype": "text/x-python",
   "name": "python",
   "nbconvert_exporter": "python",
   "pygments_lexer": "ipython3",
   "version": "3.9.7"
  }
 },
 "nbformat": 4,
 "nbformat_minor": 4
}

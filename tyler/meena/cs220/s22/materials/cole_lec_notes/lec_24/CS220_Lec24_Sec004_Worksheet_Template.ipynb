{
 "cells": [
  {
   "cell_type": "code",
   "execution_count": null,
   "id": "7c56f9e4",
   "metadata": {},
   "outputs": [],
   "source": [
    "words = [\"pineapple\", \"mango\", \"quince\", \"blueberry\", \"orange\"]"
   ]
  },
  {
   "cell_type": "code",
   "execution_count": null,
   "id": "817f579f",
   "metadata": {},
   "outputs": [],
   "source": [
    "#A.q1 Use comprehension to create a list of the words that contain \"o\"\n"
   ]
  },
  {
   "cell_type": "code",
   "execution_count": null,
   "id": "4dd182dd",
   "metadata": {},
   "outputs": [],
   "source": [
    "#A.q2 Use comprehension to create a list of words that have a length > 7\n"
   ]
  },
  {
   "cell_type": "code",
   "execution_count": null,
   "id": "d3712c7a",
   "metadata": {},
   "outputs": [],
   "source": [
    "#A.q3 Use comprehension to create a list of integers that represent the length of each word\n"
   ]
  },
  {
   "cell_type": "code",
   "execution_count": null,
   "id": "6126ab6e",
   "metadata": {},
   "outputs": [],
   "source": [
    "#A.q4 Use comprehension to create a list of words that end with \"e\"\n"
   ]
  },
  {
   "cell_type": "code",
   "execution_count": null,
   "id": "bcbab6a8",
   "metadata": {},
   "outputs": [],
   "source": [
    "heart_rates = {\"Micah\": [67, 59, 84, 88],\n",
    " \"Briana\": [59, 73, 67, 80, 79],\n",
    " \"Jaren\": [67, 84, 71, 68 , 70]}"
   ]
  },
  {
   "cell_type": "code",
   "execution_count": null,
   "id": "14983b5f",
   "metadata": {},
   "outputs": [],
   "source": [
    "#B.q1 Use comprehension to create a list of the names\n"
   ]
  },
  {
   "cell_type": "code",
   "execution_count": null,
   "id": "f080b33a",
   "metadata": {},
   "outputs": [],
   "source": [
    "#B.q2  Use comprehension to create a dictionary where the key is the same key, but the value is the min of each list\n"
   ]
  },
  {
   "cell_type": "code",
   "execution_count": null,
   "id": "52198994",
   "metadata": {},
   "outputs": [],
   "source": [
    "#B.q3 Use comprehension to create a dictionary where the key is the same key, but the value is the average of each list\n"
   ]
  },
  {
   "cell_type": "code",
   "execution_count": null,
   "id": "b4c58448",
   "metadata": {},
   "outputs": [],
   "source": [
    "player_stats = [\n",
    " {\"name\": \"Rina\", \"goals\": 17, \"position\": \"Midfield\"},\n",
    " {\"name\": \"Charlie\", \"goals\": 6, \"position\": \"Defender\"},\n",
    " {\"name\": \"Heather\", \"goals\": 20, \"position\": \"Midfield\"}\n",
    "]"
   ]
  },
  {
   "cell_type": "code",
   "execution_count": null,
   "id": "cc6b8524",
   "metadata": {},
   "outputs": [],
   "source": [
    "#C.q1 Use comprehension to create a list of names of people who scored >10 goals\n"
   ]
  },
  {
   "cell_type": "code",
   "execution_count": null,
   "id": "58abdf9e",
   "metadata": {},
   "outputs": [],
   "source": [
    "#C.q2 Use comprehension to create a list of all unique positions\n"
   ]
  }
 ],
 "metadata": {
  "kernelspec": {
   "display_name": "Python 3 (ipykernel)",
   "language": "python",
   "name": "python3"
  },
  "language_info": {
   "codemirror_mode": {
    "name": "ipython",
    "version": 3
   },
   "file_extension": ".py",
   "mimetype": "text/x-python",
   "name": "python",
   "nbconvert_exporter": "python",
   "pygments_lexer": "ipython3",
   "version": "3.9.7"
  }
 },
 "nbformat": 4,
 "nbformat_minor": 5
}

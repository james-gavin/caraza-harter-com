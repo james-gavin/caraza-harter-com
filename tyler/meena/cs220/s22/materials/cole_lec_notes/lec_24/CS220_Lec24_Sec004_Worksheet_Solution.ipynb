{
 "cells": [
  {
   "cell_type": "code",
   "execution_count": 1,
   "id": "7c56f9e4",
   "metadata": {},
   "outputs": [],
   "source": [
    "words = [\"pineapple\", \"mango\", \"quince\", \"blueberry\", \"orange\"]"
   ]
  },
  {
   "cell_type": "code",
   "execution_count": 2,
   "id": "15652478",
   "metadata": {},
   "outputs": [],
   "source": [
    "# This is a list of strings."
   ]
  },
  {
   "cell_type": "code",
   "execution_count": 3,
   "id": "817f579f",
   "metadata": {},
   "outputs": [
    {
     "data": {
      "text/plain": [
       "['mango', 'orange']"
      ]
     },
     "execution_count": 3,
     "metadata": {},
     "output_type": "execute_result"
    }
   ],
   "source": [
    "#A.q1 Use comprehension to create a list of the words that contain \"o\"\n",
    "[w for w in words if \"o\" in w]"
   ]
  },
  {
   "cell_type": "code",
   "execution_count": 4,
   "id": "4dd182dd",
   "metadata": {},
   "outputs": [
    {
     "data": {
      "text/plain": [
       "['pineapple', 'blueberry']"
      ]
     },
     "execution_count": 4,
     "metadata": {},
     "output_type": "execute_result"
    }
   ],
   "source": [
    "#A.q2 Use comprehension to create a list of words that have a length > 7\n",
    "[x for x in words if len(x) > 7]"
   ]
  },
  {
   "cell_type": "code",
   "execution_count": 5,
   "id": "d3712c7a",
   "metadata": {},
   "outputs": [
    {
     "data": {
      "text/plain": [
       "[9, 5, 6, 9, 6]"
      ]
     },
     "execution_count": 5,
     "metadata": {},
     "output_type": "execute_result"
    }
   ],
   "source": [
    "#A.q3 Use comprehension to create a list of integers that represent the length of each word\n",
    "[len(word) for word in words]"
   ]
  },
  {
   "cell_type": "code",
   "execution_count": 6,
   "id": "6126ab6e",
   "metadata": {},
   "outputs": [
    {
     "data": {
      "text/plain": [
       "['pineapple', 'quince', 'orange']"
      ]
     },
     "execution_count": 6,
     "metadata": {},
     "output_type": "execute_result"
    }
   ],
   "source": [
    "#A.q4 Use comprehension to create a list of words that end with \"e\"\n",
    "[w for w in words if w.endswith(\"e\")]"
   ]
  },
  {
   "cell_type": "code",
   "execution_count": 7,
   "id": "bcbab6a8",
   "metadata": {},
   "outputs": [],
   "source": [
    "heart_rates = {\"Micah\": [67, 59, 84, 88],\n",
    " \"Briana\": [59, 73, 67, 80, 79],\n",
    " \"Jaren\": [67, 84, 71, 68 , 70]}"
   ]
  },
  {
   "cell_type": "code",
   "execution_count": 8,
   "id": "3dd3b3fc",
   "metadata": {},
   "outputs": [],
   "source": [
    "# This is a dictionary mapping each string to a list of ints."
   ]
  },
  {
   "cell_type": "code",
   "execution_count": 9,
   "id": "14983b5f",
   "metadata": {},
   "outputs": [
    {
     "data": {
      "text/plain": [
       "['Micah', 'Briana', 'Jaren']"
      ]
     },
     "execution_count": 9,
     "metadata": {},
     "output_type": "execute_result"
    }
   ],
   "source": [
    "#B.q1 Use comprehension to create a list of the names\n",
    "[p for p in heart_rates]\n",
    "# or using tuple unpacking\n",
    "# [p for (p, hrs) in heart_rates.items()]"
   ]
  },
  {
   "cell_type": "code",
   "execution_count": 10,
   "id": "f080b33a",
   "metadata": {},
   "outputs": [
    {
     "data": {
      "text/plain": [
       "{'Micah': 59, 'Briana': 59, 'Jaren': 67}"
      ]
     },
     "execution_count": 10,
     "metadata": {},
     "output_type": "execute_result"
    }
   ],
   "source": [
    "#B.q2  Use comprehension to create a dictionary where the key is the same key, but the value is the min of each list\n",
    "{p: min(hrs) for (p, hrs) in heart_rates.items()}\n",
    "# or NOT using tuple unpacking\n",
    "# {p: min(heart_rates[p]) for p in heart_rates}"
   ]
  },
  {
   "cell_type": "code",
   "execution_count": 11,
   "id": "52198994",
   "metadata": {},
   "outputs": [
    {
     "data": {
      "text/plain": [
       "{'Micah': 74.5, 'Briana': 71.6, 'Jaren': 72.0}"
      ]
     },
     "execution_count": 11,
     "metadata": {},
     "output_type": "execute_result"
    }
   ],
   "source": [
    "#B.q3 Use comprehension to create a dictionary where the key is the same key, but the value is the average of each list\n",
    "{p: sum(hrs) / len(hrs) for (p, hrs) in heart_rates.items()}\n",
    "# or NOT using tuple unpacking\n",
    "# {p: sum(heart_rates[p]) / len(heart_rates[p]) for p in heart_rates}"
   ]
  },
  {
   "cell_type": "code",
   "execution_count": 12,
   "id": "b4c58448",
   "metadata": {},
   "outputs": [],
   "source": [
    "player_stats = [\n",
    " {\"name\": \"Rina\", \"goals\": 17, \"position\": \"Midfield\"},\n",
    " {\"name\": \"Charlie\", \"goals\": 6, \"position\": \"Defender\"},\n",
    " {\"name\": \"Heather\", \"goals\": 20, \"position\": \"Midfield\"}\n",
    "]"
   ]
  },
  {
   "cell_type": "code",
   "execution_count": 13,
   "id": "29442f92",
   "metadata": {},
   "outputs": [],
   "source": [
    "# This is a list of dictionaries that map 'name' to a string, 'goals' to an int, and 'position' to a string."
   ]
  },
  {
   "cell_type": "code",
   "execution_count": 14,
   "id": "cc6b8524",
   "metadata": {},
   "outputs": [
    {
     "data": {
      "text/plain": [
       "['Rina', 'Heather']"
      ]
     },
     "execution_count": 14,
     "metadata": {},
     "output_type": "execute_result"
    }
   ],
   "source": [
    "#C.q1 Use comprehension to create a list of names of people who scored >10 goals\n",
    "[person['name'] for person in player_stats if person['goals'] > 10]"
   ]
  },
  {
   "cell_type": "code",
   "execution_count": 15,
   "id": "58abdf9e",
   "metadata": {},
   "outputs": [
    {
     "data": {
      "text/plain": [
       "['Midfield', 'Defender']"
      ]
     },
     "execution_count": 15,
     "metadata": {},
     "output_type": "execute_result"
    }
   ],
   "source": [
    "#C.q2 Use comprehension to create a list of all unique positions\n",
    "# We have list and dict comprehension, but also Set comprehension!\n",
    "list({person['position'] for person in player_stats})"
   ]
  }
 ],
 "metadata": {
  "kernelspec": {
   "display_name": "Python 3 (ipykernel)",
   "language": "python",
   "name": "python3"
  },
  "language_info": {
   "codemirror_mode": {
    "name": "ipython",
    "version": 3
   },
   "file_extension": ".py",
   "mimetype": "text/x-python",
   "name": "python",
   "nbconvert_exporter": "python",
   "pygments_lexer": "ipython3",
   "version": "3.9.7"
  }
 },
 "nbformat": 4,
 "nbformat_minor": 5
}

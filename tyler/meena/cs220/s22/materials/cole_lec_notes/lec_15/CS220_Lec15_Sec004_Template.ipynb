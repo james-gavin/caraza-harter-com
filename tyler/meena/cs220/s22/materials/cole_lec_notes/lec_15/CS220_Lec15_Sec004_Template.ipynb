{
 "cells": [
  {
   "cell_type": "code",
   "execution_count": null,
   "metadata": {},
   "outputs": [],
   "source": [
    "# Warmup #1: Take a look at these list methods \n",
    "# https://www.w3schools.com/python/python_ref_list.asp\n",
    "dairy = [\"milk\", \"ice cream\", \"cheese\", \"yogurt\" ]\n",
    "\n",
    "#use the .index() method to get the index of \"ice cream\"\n",
    "\n"
   ]
  },
  {
   "cell_type": "code",
   "execution_count": null,
   "metadata": {},
   "outputs": [],
   "source": [
    "# Warmup #2:  Because a list is a sequence, we can use the 'in' operator\n",
    "food_shelf = [\"peanut butter\", \"milk\", \"bread\", \"cheese\", \"YOGURT\"]\n",
    "for item in food_shelf:\n",
    "    if ???:\n",
    "        print(item, \"is dairy\")\n",
    "    else:\n",
    "        print(item, \"is not dairy\")"
   ]
  },
  {
   "cell_type": "code",
   "execution_count": null,
   "metadata": {},
   "outputs": [],
   "source": [
    "# Warmup 3\n",
    "# Improve the profanity filter from Monday's lecture on your own!"
   ]
  },
  {
   "cell_type": "markdown",
   "metadata": {},
   "source": [
    "# CS220: Lecture 15\n",
    "\n",
    "\n",
    "## Learning Objectives\n",
    "After this lecture you will be able to...\n",
    "- Open an Excel file and export it to a Comma Separated Value file.\n",
    "\n",
    "- Open a CSV file in TextEditor/Jupyter and connect the elements of the CSV file to the rows and columns in the spreadsheet.\n",
    "\n",
    "- Use pre-written Python code to read a CSV file into a list of lists.\n",
    "\n",
    "- Write Python statements with double list indexing to access any element of a CSV file via a list of lists.\n",
    "\n",
    "- Write code that answers questions about CSV data by writing for loops on lists of lists.\n"
   ]
  },
  {
   "cell_type": "markdown",
   "metadata": {},
   "source": [
    "## Reading a CSV"
   ]
  },
  {
   "cell_type": "code",
   "execution_count": null,
   "metadata": {},
   "outputs": [],
   "source": [
    "# Now lets store the contents of the CSV file into Python lists\n",
    "\n",
    "# copied from https://automatetheboringstuff.com/chapter14/\n",
    "import csv\n",
    "\n",
    "def process_csv(filename):\n",
    "    # open the file, its a text file utf-8\n",
    "    exampleFile = open(filename, encoding=\"utf-8\")  \n",
    "    \n",
    "    # prepare it for reading as a CSV object\n",
    "    exampleReader = csv.reader(exampleFile) \n",
    "    \n",
    "    # use the built-in list function to convert this into a list of lists\n",
    "    exampleData = list(exampleReader)        \n",
    "    \n",
    "    # close the file to tidy up our workspace\n",
    "    exampleFile.close()  \n",
    "    \n",
    "    # return the list of lists\n",
    "    return exampleData\n"
   ]
  },
  {
   "cell_type": "code",
   "execution_count": null,
   "metadata": {},
   "outputs": [],
   "source": [
    "# Call the process_csv function and store the list of lists in cs220_csv\n",
    "cs220_csv = process_csv('cs220_survey_data.csv')\n",
    "cs220_csv"
   ]
  },
  {
   "cell_type": "code",
   "execution_count": null,
   "metadata": {},
   "outputs": [],
   "source": [
    "# Store the header row into cs220_header\n",
    "cs220_header = cs220_csv[0]\n",
    "cs220_header"
   ]
  },
  {
   "cell_type": "code",
   "execution_count": null,
   "metadata": {},
   "outputs": [],
   "source": [
    "# Store all of the data rows into cs220_data\n",
    "cs220_data = cs220_csv[1:]\n",
    "cs220_data"
   ]
  },
  {
   "cell_type": "markdown",
   "metadata": {},
   "source": [
    "## CSVs as a List of Lists"
   ]
  },
  {
   "cell_type": "code",
   "execution_count": null,
   "metadata": {},
   "outputs": [],
   "source": [
    "# Print out the sleeping habit for the 2nd student...by hardcoding its row and column....\n",
    "cs220_data[???][???] # [row][col]"
   ]
  },
  {
   "cell_type": "code",
   "execution_count": null,
   "metadata": {},
   "outputs": [],
   "source": [
    "# Print out the lecture number of the 4th student...by hardcoding its row and column....\n",
    "cs220_data[???][???]"
   ]
  },
  {
   "cell_type": "code",
   "execution_count": null,
   "metadata": {},
   "outputs": [],
   "source": [
    "# Print out how many students completed the survey.\n",
    "len(???)"
   ]
  },
  {
   "cell_type": "code",
   "execution_count": null,
   "metadata": {},
   "outputs": [],
   "source": [
    "# Print out every student's sleep habits and major\n",
    "for i in range(len(cs220_data)):\n",
    "    current_sleep_habit = ???\n",
    "    current_major = ???\n",
    "    print(current_sleep_habit + '\\t\\t' + current_major)"
   ]
  },
  {
   "cell_type": "code",
   "execution_count": null,
   "metadata": {},
   "outputs": [],
   "source": [
    "# FIX: Print out every students' age in 10 years.\n",
    "for i in range(???):\n",
    "    current_age = cs220_data[i][1]\n",
    "    print(current_age + 10)"
   ]
  },
  {
   "cell_type": "markdown",
   "metadata": {},
   "source": [
    "## It would be nice to have a helper function!\n",
    "Let's introduce `cell`"
   ]
  },
  {
   "cell_type": "code",
   "execution_count": null,
   "metadata": {},
   "outputs": [],
   "source": [
    "# Remember creating cs220_header?\n",
    "cs220_header"
   ]
  },
  {
   "cell_type": "code",
   "execution_count": null,
   "metadata": {},
   "outputs": [],
   "source": [
    "# Get the column index of \"Pizza topping\"\n",
    "cs220_header.index(???)"
   ]
  },
  {
   "cell_type": "code",
   "execution_count": null,
   "metadata": {},
   "outputs": [],
   "source": [
    "# We want to invoke something like...\n",
    "# cell(24, \"Pet owner\")\n",
    "# cell(63, \"Zip Code\")\n",
    "def cell(row_idx, col_name):\n",
    "    col_idx = ??? # get the index of col_name\n",
    "    val = ???     # get the value of cs220_data at the specified cell\n",
    "    return val"
   ]
  },
  {
   "cell_type": "code",
   "execution_count": null,
   "metadata": {},
   "outputs": [],
   "source": [
    "# Print out the lecture number of the 4th student... using the cell function\n",
    "cell(???, ???)"
   ]
  },
  {
   "cell_type": "code",
   "execution_count": null,
   "metadata": {},
   "outputs": [],
   "source": [
    "# Print out every student's sleep habits and major using the cell function\n",
    "for i in range(len(cs220_data)):\n",
    "    current_sleep_habit = ???\n",
    "    current_major = ???\n",
    "    print(current_sleep_habit + '\\t\\t' + current_major)"
   ]
  },
  {
   "cell_type": "code",
   "execution_count": null,
   "metadata": {},
   "outputs": [],
   "source": [
    "# Print out every students' age in 10 years using the cell function\n",
    "# ... that didn't really help us here!\n",
    "for i in range(len(cs220_data)):\n",
    "    current_age = cell(i, \"Age\")\n",
    "    if current_age != None:\n",
    "        print(current_age + 10)"
   ]
  },
  {
   "cell_type": "code",
   "execution_count": null,
   "metadata": {},
   "outputs": [],
   "source": [
    "# Improve the cell function so it returns the appropriate type.\n",
    "# If there is nothing in the cell, return None\n",
    "def cell(row_idx, col_name):\n",
    "    col_idx = cs220_header.index(col_name)\n",
    "    val = cs220_data[row_idx][col_idx]\n",
    "    if ???:\n",
    "        return None\n",
    "    elif ???:\n",
    "        return int(val)\n",
    "    else:\n",
    "        return val"
   ]
  },
  {
   "cell_type": "code",
   "execution_count": null,
   "metadata": {},
   "outputs": [],
   "source": [
    "# Print out every students' age in 10 years using the cell function\n",
    "# ... much better!\n",
    "for i in range(len(cs220_data)):\n",
    "    current_age = cell(i, \"Age\")\n",
    "    if current_age != None:\n",
    "        print(current_age + 10)"
   ]
  },
  {
   "cell_type": "markdown",
   "metadata": {},
   "source": [
    "## You try!"
   ]
  },
  {
   "cell_type": "markdown",
   "metadata": {},
   "source": [
    "Complete the challenges below. First try completing the problem directly using the list of lists (e.g. double indexing \\[\\]\\[\\]), then try using the `cell` function!"
   ]
  },
  {
   "cell_type": "code",
   "execution_count": null,
   "metadata": {},
   "outputs": [],
   "source": [
    "# Count how many people are both a procrastinator and a pet owner."
   ]
  },
  {
   "cell_type": "code",
   "execution_count": null,
   "metadata": {},
   "outputs": [],
   "source": [
    "# What percentage of 18-year-olds have their major declared as \"Other\"?"
   ]
  },
  {
   "cell_type": "code",
   "execution_count": null,
   "metadata": {},
   "outputs": [],
   "source": [
    "# How old is the oldest basil/spinach-loving Business major?"
   ]
  }
 ],
 "metadata": {
  "kernelspec": {
   "display_name": "Python 3 (ipykernel)",
   "language": "python",
   "name": "python3"
  },
  "language_info": {
   "codemirror_mode": {
    "name": "ipython",
    "version": 3
   },
   "file_extension": ".py",
   "mimetype": "text/x-python",
   "name": "python",
   "nbconvert_exporter": "python",
   "pygments_lexer": "ipython3",
   "version": "3.9.7"
  }
 },
 "nbformat": 4,
 "nbformat_minor": 4
}

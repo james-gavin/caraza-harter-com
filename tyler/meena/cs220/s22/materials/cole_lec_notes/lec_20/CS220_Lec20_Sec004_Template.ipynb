{
 "cells": [
  {
   "cell_type": "markdown",
   "metadata": {},
   "source": [
    "## Warmups"
   ]
  },
  {
   "cell_type": "code",
   "execution_count": 1,
   "metadata": {},
   "outputs": [],
   "source": [
    "from collections import namedtuple\n",
    "# we are going to learn about this today !"
   ]
  },
  {
   "cell_type": "code",
   "execution_count": 2,
   "metadata": {},
   "outputs": [],
   "source": [
    "# Warmup 1a: How do you make a dictionary?\n"
   ]
  },
  {
   "cell_type": "code",
   "execution_count": 3,
   "metadata": {},
   "outputs": [],
   "source": [
    "# Warmup 1b:  How do you make a set? \n"
   ]
  },
  {
   "cell_type": "code",
   "execution_count": 4,
   "metadata": {},
   "outputs": [],
   "source": [
    "# Warmup 2: Explain what the code below does\n",
    "x = 1"
   ]
  },
  {
   "cell_type": "markdown",
   "metadata": {},
   "source": [
    "# CS220: Lecture 20\n",
    "\n",
    "\n",
    "## Learning Objectives\n",
    "After this lecture you will be able to...\n",
    "- Explain the difference between objects vs references, and stack vs heap.\n",
    "- Determine the side effects that occur when modifying parameters.\n",
    "- Use tuples to store immutable sequences of values.\n",
    "- Use namedtuple (immutable) to store user-defined data objects.\n"
   ]
  },
  {
   "cell_type": "markdown",
   "metadata": {},
   "source": [
    "### Objects vs References & Stack vs Heap\n",
    "\n",
    "- Check out the slides!\n",
    "- Try some of the code in PythonTutor"
   ]
  },
  {
   "cell_type": "code",
   "execution_count": 6,
   "metadata": {},
   "outputs": [],
   "source": [
    "# Warmup 2: Explain what the code below does\n",
    "x = 1"
   ]
  },
  {
   "cell_type": "code",
   "execution_count": 10,
   "metadata": {},
   "outputs": [],
   "source": [
    "# Warmup 2b: Explain what the code below does\n",
    "shelf = [\"sugar\", \"coffee\"]"
   ]
  },
  {
   "cell_type": "markdown",
   "metadata": {},
   "source": [
    "### Determine the side effects that occur when modifying parameters.\n"
   ]
  },
  {
   "cell_type": "markdown",
   "metadata": {},
   "source": [
    "Example 1a [PythonTutor Link](https://pythontutor.com/visualize.html#code=def%20f%28x%29%3A%0A%20%20%20%20x%20*%3D%203%0A%20%20%20%20print%28%22f%3A%22,%20x%29%0A%0Anum%20%3D%2010%0Aprint%28%22before%3A%22,%20num%29%0Af%28num%29%0Aprint%28%22after%3A%22,%20num%29&cumulative=false&curInstr=0&heapPrimitives=nevernest&mode=display&origin=opt-frontend.js&py=3&rawInputLstJSON=%5B%5D&textReferences=false)"
   ]
  },
  {
   "cell_type": "code",
   "execution_count": 14,
   "metadata": {},
   "outputs": [
    {
     "name": "stdout",
     "output_type": "stream",
     "text": [
      "before: 10\n",
      "f: 30\n",
      "after: 10\n"
     ]
    }
   ],
   "source": [
    "def f(x):\n",
    "    x *= 3\n",
    "    print(\"f:\", x)\n",
    "\n",
    "num = 10\n",
    "print(\"before:\", num)\n",
    "f(num)\n",
    "print(\"after:\", num)\n",
    "\n",
    "# Takeaway: What happens when a parameter is reassigned in a function?"
   ]
  },
  {
   "cell_type": "markdown",
   "metadata": {},
   "source": [
    "Example 1b, [PythonTutor Link](https://pythontutor.com/visualize.html#code=def%20f%28items%29%3A%0A%20%20%20%20items.append%28%22donuts%22%29%0A%20%20%20%20print%28%22f%3A%22,%20items%29%0A%0Awords%20%3D%20%5B'sugar',%20'coffee'%5D%0Aprint%28%22before%3A%22,%20words%29%0Af%28words%29%0Aprint%28%22after%3A%22,%20words%29&cumulative=false&curInstr=0&heapPrimitives=nevernest&mode=display&origin=opt-frontend.js&py=3&rawInputLstJSON=%5B%5D&textReferences=false)"
   ]
  },
  {
   "cell_type": "code",
   "execution_count": 15,
   "metadata": {},
   "outputs": [
    {
     "name": "stdout",
     "output_type": "stream",
     "text": [
      "before: ['sugar', 'coffee']\n",
      "f: ['sugar', 'coffee', 'donuts']\n",
      "after: ['sugar', 'coffee', 'donuts']\n"
     ]
    }
   ],
   "source": [
    "def f(items):\n",
    "    items.append(\"donuts\")\n",
    "    print(\"f:\", items)\n",
    "\n",
    "words = ['sugar', 'coffee']\n",
    "print(\"before:\", words)\n",
    "f(words)\n",
    "print(\"after:\", words)\n",
    "\n",
    "# Takeaway: What happens when a list parameter is mutated in a function?"
   ]
  },
  {
   "cell_type": "markdown",
   "metadata": {},
   "source": [
    "Example 1c [PythonTutor Link](https://pythontutor.com/visualize.html#code=def%20f%28items%29%3A%0A%20%20%20%20items%20%3D%20items%20%2B%20%5B%22donuts%22%5D%0A%20%20%20%20print%28%22f%3A%22,%20items%29%0A%0Awords%20%3D%20%5B'sugar',%20'coffee'%5D%0Aprint%28%22before%3A%22,%20words%29%0Af%28words%29%0Aprint%28%22after%3A%22,%20words%29&cumulative=false&curInstr=0&heapPrimitives=nevernest&mode=display&origin=opt-frontend.js&py=3&rawInputLstJSON=%5B%5D&textReferences=false)"
   ]
  },
  {
   "cell_type": "code",
   "execution_count": 16,
   "metadata": {},
   "outputs": [
    {
     "name": "stdout",
     "output_type": "stream",
     "text": [
      "before: ['sugar', 'coffee']\n",
      "f: ['sugar', 'coffee', 'donuts']\n",
      "after: ['sugar', 'coffee']\n"
     ]
    }
   ],
   "source": [
    "def f(items):\n",
    "    items = items + [\"donuts\"]\n",
    "    print(\"f:\", items)\n",
    "\n",
    "words = ['sugar', 'coffee']\n",
    "print(\"before:\", words)\n",
    "f(words)\n",
    "print(\"after:\", words)\n",
    "\n",
    "# Takeaway: What happens when a list parameter is reassigned?"
   ]
  },
  {
   "cell_type": "markdown",
   "metadata": {},
   "source": [
    "Example 1d [PythonTutor Link](https://pythontutor.com/visualize.html#code=def%20first%28items%29%3A%0A%20%20%20%20return%20items%5B0%5D%0A%0Adef%20smallest%28items%29%3A%0A%20%20%20%20items.sort%28%29%0A%20%20%20%20return%20items%5B0%5D%0A%0Anumbers%20%3D%20%5B4,5,3,2,1%5D%0Aprint%28%22first%3A%22,%20first%28numbers%29%29%0Aprint%28%22smallest%3A%22,%20smallest%28numbers%29%29%0Aprint%28%22first%3A%22,%20first%28numbers%29%29&cumulative=false&curInstr=0&heapPrimitives=nevernest&mode=display&origin=opt-frontend.js&py=3&rawInputLstJSON=%5B%5D&textReferences=false)"
   ]
  },
  {
   "cell_type": "code",
   "execution_count": 17,
   "metadata": {},
   "outputs": [
    {
     "name": "stdout",
     "output_type": "stream",
     "text": [
      "first: 4\n",
      "smallest: 1\n",
      "first: 1\n"
     ]
    }
   ],
   "source": [
    "def first(items):\n",
    "    return items[0]\n",
    "\n",
    "def smallest(items):\n",
    "    items.sort()\n",
    "    return items[0]\n",
    "\n",
    "numbers\t= [4,5,3,2,1]\n",
    "print(\"first:\", first(numbers))\n",
    "print(\"smallest:\", smallest(numbers))\n",
    "print(\"first:\", first(numbers))\n",
    "\n",
    "# Takeaway: What happens when a list parameter is sorted \"in place\" using .sort() ?"
   ]
  },
  {
   "cell_type": "markdown",
   "metadata": {},
   "source": [
    "Example 1e [PythonTutor Link](https://pythontutor.com/visualize.html#code=def%20first%28items%29%3A%0A%20%20%20%20return%20items%5B0%5D%0A%0Adef%20smallest%28items%29%3A%0A%20%20%20%20items%20%3D%20sorted%28items%29%0A%20%20%20%20return%20items%5B0%5D%0A%0Anumbers%20%3D%20%5B4,5,3,2,1%5D%0Aprint%28%22first%3A%22,%20first%28numbers%29%29%0Aprint%28%22smallest%3A%22,%20smallest%28numbers%29%29%0Aprint%28%22first%3A%22,%20first%28numbers%29%29&cumulative=false&curInstr=0&heapPrimitives=nevernest&mode=display&origin=opt-frontend.js&py=3&rawInputLstJSON=%5B%5D&textReferences=false)"
   ]
  },
  {
   "cell_type": "code",
   "execution_count": 18,
   "metadata": {},
   "outputs": [
    {
     "name": "stdout",
     "output_type": "stream",
     "text": [
      "first: 4\n",
      "smallest: 1\n",
      "first: 4\n"
     ]
    }
   ],
   "source": [
    "def first(items):\n",
    "    return items[0]\n",
    "\n",
    "def smallest(items):\n",
    "    items = sorted(items)\n",
    "    return items[0]\n",
    "\n",
    "numbers = [4,5,3,2,1]\n",
    "print(\"first:\", first(numbers))\n",
    "print(\"smallest:\", smallest(numbers))\n",
    "print(\"first:\", first(numbers))\n",
    "\n",
    "# Takeaway: What happens when a list parameter is sorted using sorted()? "
   ]
  },
  {
   "cell_type": "code",
   "execution_count": 19,
   "metadata": {},
   "outputs": [],
   "source": [
    "# What can we say about the last two examples?\n"
   ]
  },
  {
   "cell_type": "code",
   "execution_count": 20,
   "metadata": {},
   "outputs": [],
   "source": [
    "# Write one good thing about lists being mutable:\n"
   ]
  },
  {
   "cell_type": "code",
   "execution_count": 21,
   "metadata": {},
   "outputs": [],
   "source": [
    "# Write one bad thing about lists being mutable:\n"
   ]
  },
  {
   "cell_type": "markdown",
   "metadata": {},
   "source": [
    "## Your Turn!"
   ]
  },
  {
   "cell_type": "markdown",
   "metadata": {},
   "source": [
    "Explain how the below code works."
   ]
  },
  {
   "cell_type": "code",
   "execution_count": 22,
   "metadata": {},
   "outputs": [
    {
     "name": "stdout",
     "output_type": "stream",
     "text": [
      "{'Malibu': ['Swimming'], 'San Diego': ['Touring', 'Shopping']}\n",
      "{'Madison': ['Studying'], 'HWY 151': ['Driving'], 'Devils Lake': ['Swimming', 'Kayaking', 'Hiking']}\n",
      "['Touring', 'Shopping']\n",
      "[]\n"
     ]
    }
   ],
   "source": [
    "def add_vacation_plan(itinerary, location, plan):\n",
    "    if location not in itinerary:\n",
    "        itinerary[location] = []\n",
    "    itinerary[location].append(plan)\n",
    "    \n",
    "def get_vacation_plans(itinerary, location):\n",
    "    if location not in itinerary:\n",
    "        return []\n",
    "    return itinerary[location]\n",
    "    \n",
    "alices_vacay = {}\n",
    "bobs_vacay = {}\n",
    "\n",
    "add_vacation_plan(alices_vacay, \"Malibu\", \"Swimming\")\n",
    "add_vacation_plan(alices_vacay, \"San Diego\", \"Touring\")\n",
    "add_vacation_plan(alices_vacay, \"San Diego\", \"Shopping\")\n",
    "\n",
    "add_vacation_plan(bobs_vacay, \"Madison\", \"Studying\")\n",
    "add_vacation_plan(bobs_vacay, \"HWY 151\", \"Driving\")\n",
    "add_vacation_plan(bobs_vacay, \"Devils Lake\", \"Swimming\")\n",
    "add_vacation_plan(bobs_vacay, \"Devils Lake\", \"Kayaking\")\n",
    "add_vacation_plan(bobs_vacay, \"Devils Lake\", \"Hiking\")\n",
    "\n",
    "print(alices_vacay)\n",
    "print(bobs_vacay)\n",
    "print(get_vacation_plans(alices_vacay, 'San Diego'))\n",
    "print(get_vacation_plans(bobs_vacay, 'Seattle'))"
   ]
  },
  {
   "cell_type": "markdown",
   "metadata": {},
   "source": [
    "### Use tuples to store immutable sequences of values.\n",
    "Check out the slides about tuples"
   ]
  },
  {
   "cell_type": "code",
   "execution_count": 23,
   "metadata": {},
   "outputs": [],
   "source": [
    "# Tuples are like lists BUT are IMMUTABLE\n",
    "\n",
    "# practice with tuples\n",
    "scores = [32, 55, 72, 91]   # a list is mutable\n",
    "coordinates = (-3, 4, 7)    # a tuple is not mutable"
   ]
  },
  {
   "cell_type": "code",
   "execution_count": 24,
   "metadata": {},
   "outputs": [
    {
     "name": "stdout",
     "output_type": "stream",
     "text": [
      "[32, 55, 72, 100]\n"
     ]
    }
   ],
   "source": [
    "# show that scores is mutable\n",
    "scores[-1] = 100\n",
    "print(scores)\n",
    "\n",
    "# show that tuples are immutable\n",
    "#coordinates[-1] = 100.   #tuple not mutable\n",
    "#print(coordinates)"
   ]
  },
  {
   "cell_type": "code",
   "execution_count": 25,
   "metadata": {},
   "outputs": [
    {
     "name": "stdout",
     "output_type": "stream",
     "text": [
      "(5, 77, -3)\n"
     ]
    }
   ],
   "source": [
    "coordinates = (5, 77, -3)   # However, re-assignment is OK\n",
    "print(coordinates)"
   ]
  },
  {
   "cell_type": "code",
   "execution_count": 26,
   "metadata": {},
   "outputs": [
    {
     "name": "stdout",
     "output_type": "stream",
     "text": [
      "(32, 55, 72, 100)\n"
     ]
    }
   ],
   "source": [
    "scores_tuple = tuple(scores) # you can convert a list into a tuple\n",
    "print(scores_tuple)"
   ]
  },
  {
   "cell_type": "code",
   "execution_count": 27,
   "metadata": {},
   "outputs": [],
   "source": [
    "# Question:  Can tuples be sorted?\n",
    "# Discuss with your neighbor"
   ]
  },
  {
   "cell_type": "code",
   "execution_count": 28,
   "metadata": {},
   "outputs": [],
   "source": [
    "# reference:  https://www.w3schools.com/python/python_tuples.asp"
   ]
  },
  {
   "cell_type": "code",
   "execution_count": 29,
   "metadata": {},
   "outputs": [
    {
     "ename": "TypeError",
     "evalue": "unhashable type: 'list'",
     "output_type": "error",
     "traceback": [
      "\u001b[1;31m---------------------------------------------------------------------------\u001b[0m",
      "\u001b[1;31mTypeError\u001b[0m                                 Traceback (most recent call last)",
      "\u001b[1;32mC:\\Users\\COLENE~1\\AppData\\Local\\Temp/ipykernel_18196/3672081683.py\u001b[0m in \u001b[0;36m<module>\u001b[1;34m\u001b[0m\n\u001b[0;32m      4\u001b[0m \u001b[1;33m\u001b[0m\u001b[0m\n\u001b[0;32m      5\u001b[0m \u001b[1;31m# Fails with TypeError\u001b[0m\u001b[1;33m\u001b[0m\u001b[1;33m\u001b[0m\u001b[0m\n\u001b[1;32m----> 6\u001b[1;33m buildings = {\n\u001b[0m\u001b[0;32m      7\u001b[0m     \u001b[1;33m[\u001b[0m\u001b[1;36m0\u001b[0m\u001b[1;33m,\u001b[0m\u001b[1;36m0\u001b[0m\u001b[1;33m]\u001b[0m\u001b[1;33m:\u001b[0m \u001b[1;34m\"Comp Sci\"\u001b[0m\u001b[1;33m,\u001b[0m\u001b[1;33m\u001b[0m\u001b[1;33m\u001b[0m\u001b[0m\n\u001b[0;32m      8\u001b[0m     \u001b[1;33m[\u001b[0m\u001b[1;36m0\u001b[0m\u001b[1;33m,\u001b[0m\u001b[1;36m2\u001b[0m\u001b[1;33m]\u001b[0m\u001b[1;33m:\u001b[0m \u001b[1;34m\"Psychology\"\u001b[0m\u001b[1;33m,\u001b[0m\u001b[1;33m\u001b[0m\u001b[1;33m\u001b[0m\u001b[0m\n",
      "\u001b[1;31mTypeError\u001b[0m: unhashable type: 'list'"
     ]
    }
   ],
   "source": [
    "\n",
    "# Why use tuples? \n",
    "#     keys in dictionaries must be immutable types\n",
    "#     some data never changes : GPS coordinates\n",
    "\n",
    "# Fails with TypeError\n",
    "buildings = {\n",
    "    [0,0]: \"Comp Sci\",\n",
    "    [0,2]: \"Psychology\",\n",
    "    [4,0]: \"Noland\",\n",
    "    [1,8]: \"Van Vleck\" }"
   ]
  },
  {
   "cell_type": "code",
   "execution_count": 30,
   "metadata": {},
   "outputs": [
    {
     "data": {
      "text/plain": [
       "'Noland'"
      ]
     },
     "execution_count": 30,
     "metadata": {},
     "output_type": "execute_result"
    }
   ],
   "source": [
    "# Works with tuple as keys\n",
    "buildings = {\n",
    "    (0,0): \"Comp Sci\",\n",
    "    (0,2): \"Psychology\",\n",
    "    (4,0): \"Noland\",\n",
    "    (1,8): \"Van Vleck\" }\n",
    "\n",
    "# find the name of the building at coordinate (4,0)\n"
   ]
  },
  {
   "cell_type": "markdown",
   "metadata": {},
   "source": [
    "### 21.3 Use namedtuple (immutable) to store user-defined data objects.\n",
    "- namedtuple is useful for creating well-defined objects\n",
    "- namedtuple is like a mix of tuples and dictionaries\n",
    "- let's look at the slides\n",
    "\n"
   ]
  },
  {
   "cell_type": "code",
   "execution_count": 31,
   "metadata": {},
   "outputs": [
    {
     "name": "stdout",
     "output_type": "stream",
     "text": [
      "124\n"
     ]
    }
   ],
   "source": [
    "people = []\n",
    "\n",
    "# A namedtuple is like its own kind of type!\n",
    "# its a Python convention to use a Capital letter when naming a namedtuple\n",
    "# define a namedtuple called Person\n",
    "Person = namedtuple(\"Person\", [\"fname\", \"lname\", \"age\"])\n",
    "\n",
    "# make a single person....please don't name it person !!\n",
    "\n",
    "# Add another Person by using keyword arguments \n"
   ]
  },
  {
   "cell_type": "code",
   "execution_count": 32,
   "metadata": {},
   "outputs": [
    {
     "name": "stdout",
     "output_type": "stream",
     "text": [
      "Hello Alice Anderson\n"
     ]
    }
   ],
   "source": [
    "# make a list of Persons\n",
    "people=[\n",
    "    Person(\"Alice\", \"Anderson\", 30),  # positional arguments\n",
    "    Person(\"Bob\", \"Baker\", 31),\n",
    "    # add two more Persons to people\n",
    "    Person(\"Celia\", \"Answer\", 21),\n",
    "    Person(\"Marcus\", \"Carlson\", 33)\n",
    "    \n",
    "]\n",
    "\n",
    "# Print the first person's name.\n"
   ]
  },
  {
   "cell_type": "code",
   "execution_count": 33,
   "metadata": {},
   "outputs": [
    {
     "name": "stdout",
     "output_type": "stream",
     "text": [
      "[Person(fname='Alice', lname='Anderson', age=30), Person(fname='Bob', lname='Baker', age=31), Person(fname='Celia', lname='Answer', age=21), Person(fname='Marcus', lname='Carlson', age=33)]\n",
      "Hello Alice Anderson\n",
      "Hello Bob Baker\n",
      "Hello Celia Answer\n",
      "Hello Marcus Carlson\n"
     ]
    }
   ],
   "source": [
    "# Print out everyone's name!\n"
   ]
  },
  {
   "cell_type": "markdown",
   "metadata": {},
   "source": [
    "Namedtuples have a deeper significance....the namedtuples we create are their own type"
   ]
  },
  {
   "attachments": {
    "namedtuple.png": {
     "image/png": "[encoded data removed]"
    }
   },
   "cell_type": "markdown",
   "metadata": {},
   "source": [
    "![namedtuple.png](attachment:namedtuple.png)"
   ]
  },
  {
   "cell_type": "code",
   "execution_count": 34,
   "metadata": {},
   "outputs": [
    {
     "data": {
      "text/plain": [
       "28.75"
      ]
     },
     "execution_count": 34,
     "metadata": {},
     "output_type": "execute_result"
    }
   ],
   "source": [
    "# Write a function to find the average age of the Persons in people\n",
    "def avg_age(p_list):\n",
    "    # assume p_list is a list of Persons\n",
    "    pass\n",
    "\n",
    "avg_age(people)"
   ]
  }
 ],
 "metadata": {
  "kernelspec": {
   "display_name": "Python 3 (ipykernel)",
   "language": "python",
   "name": "python3"
  },
  "language_info": {
   "codemirror_mode": {
    "name": "ipython",
    "version": 3
   },
   "file_extension": ".py",
   "mimetype": "text/x-python",
   "name": "python",
   "nbconvert_exporter": "python",
   "pygments_lexer": "ipython3",
   "version": "3.9.7"
  }
 },
 "nbformat": 4,
 "nbformat_minor": 4
}

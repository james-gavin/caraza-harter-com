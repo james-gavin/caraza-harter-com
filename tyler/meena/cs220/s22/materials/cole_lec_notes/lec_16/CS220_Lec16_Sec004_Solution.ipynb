{
 "cells": [
  {
   "cell_type": "markdown",
   "metadata": {},
   "source": [
    "# Lists Practice"
   ]
  },
  {
   "cell_type": "markdown",
   "metadata": {},
   "source": [
    "## Warmup"
   ]
  },
  {
   "cell_type": "code",
   "execution_count": 1,
   "metadata": {},
   "outputs": [],
   "source": [
    "# Warmup 1: Hotkeys\n",
    "# We move quickly, it's good to know some hotkeys!\n",
    "\n",
    "# All-around good-to-knows...\n",
    "#  Ctrl+A: Select all the text in a cell.\n",
    "#  Ctrl+C: Copy selected text.\n",
    "#  Ctrl+X: Cut selected text.\n",
    "#  Ctrl+V: Paste text from clipboard.\n",
    "#  Ctrl+S: Save.\n",
    "\n",
    "# Jupyter-specific good-to-knows...\n",
    "#  Ctrl+Enter: Run Cell\n",
    "#  Ctrl+/: Comment/uncomment sections of code.\n",
    "#  Esc->A: Insert cell above\n",
    "#  Esc->B: Insert cell below\n",
    "#  Esc->Shift+L: Toggle line numbers.\n"
   ]
  },
  {
   "cell_type": "code",
   "execution_count": 2,
   "metadata": {},
   "outputs": [
    {
     "name": "stdout",
     "output_type": "stream",
     "text": [
      "[]\n",
      "[]\n"
     ]
    }
   ],
   "source": [
    "# Warmup 2: Empty List\n",
    "\n",
    "weekend_plans = []  # I have no weekend plans :(\n",
    "print(weekend_plans)\n",
    "\n",
    "# add three things to your weekend plans using .append\n",
    "\n",
    "print(weekend_plans)"
   ]
  },
  {
   "cell_type": "markdown",
   "metadata": {},
   "source": [
    "## Restaurants"
   ]
  },
  {
   "cell_type": "code",
   "execution_count": 3,
   "metadata": {},
   "outputs": [
    {
     "data": {
      "text/plain": [
       "[['restaurant_id', 'name', 'x_coord', 'y_coord'],\n",
       " ['MCD_1', 'McDonalds', '-3', '-3'],\n",
       " ['EIN_1', 'Einsteins Bagels', '1', '3'],\n",
       " ['STA_1', 'Starbucks', '0', '1'],\n",
       " ['MCD_2', 'McDonalds', '2', '0'],\n",
       " ['GRE_1', 'Greenbush Donuts', '0', '-3'],\n",
       " ['STA_2', 'Starbucks', '-2', '1'],\n",
       " ['PAN_1', 'Panda Express', '', '']]"
      ]
     },
     "execution_count": 3,
     "metadata": {},
     "output_type": "execute_result"
    }
   ],
   "source": [
    "# Read in the restaurant data\n",
    "import csv\n",
    "\n",
    "# source:  Automate the Boring Stuff with Python Ch 12\n",
    "def process_csv(filename):\n",
    "    exampleFile = open(filename, encoding=\"utf-8\")  \n",
    "    exampleReader = csv.reader(exampleFile) \n",
    "    exampleData = list(exampleReader)        \n",
    "    exampleFile.close()  \n",
    "    return exampleData\n",
    "\n",
    "restaurant_csv = process_csv('restaurants.csv')\n",
    "\n",
    "# TODO: Display restaurant_csv. What do we call this data structure?\n",
    "restaurant_csv"
   ]
  },
  {
   "cell_type": "code",
   "execution_count": 4,
   "metadata": {},
   "outputs": [
    {
     "name": "stdout",
     "output_type": "stream",
     "text": [
      "['restaurant_id', 'name', 'x_coord', 'y_coord']\n",
      "[['MCD_1', 'McDonalds', '-3', '-3'], ['EIN_1', 'Einsteins Bagels', '1', '3'], ['STA_1', 'Starbucks', '0', '1'], ['MCD_2', 'McDonalds', '2', '0'], ['GRE_1', 'Greenbush Donuts', '0', '-3'], ['STA_2', 'Starbucks', '-2', '1'], ['PAN_1', 'Panda Express', '', '']]\n"
     ]
    }
   ],
   "source": [
    "# Seperate the data into 2 parts...\n",
    "# a header row, and a list of data rows\n",
    "restaurant_header = restaurant_csv[0]\n",
    "restaurant_data = restaurant_csv[1:]\n",
    "print(restaurant_header)\n",
    "print(restaurant_data)"
   ]
  },
  {
   "cell_type": "code",
   "execution_count": 5,
   "metadata": {},
   "outputs": [
    {
     "data": {
      "text/plain": [
       "['McDonalds',\n",
       " 'Einsteins Bagels',\n",
       " 'Starbucks',\n",
       " 'McDonalds',\n",
       " 'Greenbush Donuts',\n",
       " 'Starbucks',\n",
       " 'Panda Express']"
      ]
     },
     "execution_count": 5,
     "metadata": {},
     "output_type": "execute_result"
    }
   ],
   "source": [
    "# Make a list of just the names from restaurant_data\n",
    "\n",
    "names = []  # names starts out empty, we will append to it\n",
    "for row in restaurant_data:\n",
    "    names.append(row[1])\n",
    "names"
   ]
  },
  {
   "cell_type": "code",
   "execution_count": 6,
   "metadata": {},
   "outputs": [
    {
     "name": "stdout",
     "output_type": "stream",
     "text": [
      "['McDonalds', 'Einsteins Bagels', 'Starbucks', 'McDonalds', 'Greenbush Donuts', 'Starbucks', 'Panda Express']\n",
      "['Panda Express', 'Greenbush Donuts', 'Starbucks', 'Einsteins Bagels', 'McDonalds']\n"
     ]
    }
   ],
   "source": [
    "# Convert names to a unique list of names\n",
    "print(names)\n",
    "names = list(set(names))\n",
    "print(names)"
   ]
  },
  {
   "cell_type": "code",
   "execution_count": 7,
   "metadata": {},
   "outputs": [
    {
     "name": "stdout",
     "output_type": "stream",
     "text": [
      "['Panda Express', 'Greenbush Donuts', 'Starbucks', 'Einsteins Bagels', 'McDonalds']\n",
      "['Einsteins Bagels', 'Greenbush Donuts', 'McDonalds', 'Panda Express', 'Starbucks']\n"
     ]
    }
   ],
   "source": [
    "# Sorting Option 1\n",
    "print(names)\n",
    "\n",
    "# TODO: Print the sorted list without changing it.\n",
    "print(sorted(names))"
   ]
  },
  {
   "cell_type": "code",
   "execution_count": 8,
   "metadata": {},
   "outputs": [
    {
     "name": "stdout",
     "output_type": "stream",
     "text": [
      "['Panda Express', 'Greenbush Donuts', 'Starbucks', 'Einsteins Bagels', 'McDonalds']\n",
      "['Einsteins Bagels', 'Greenbush Donuts', 'McDonalds', 'Panda Express', 'Starbucks']\n"
     ]
    }
   ],
   "source": [
    "# Sorting Option 2\n",
    "print(names)\n",
    "\n",
    "# TODO: Sort the list and print it\n",
    "names.sort()\n",
    "print(names)"
   ]
  },
  {
   "cell_type": "code",
   "execution_count": 9,
   "metadata": {},
   "outputs": [
    {
     "data": {
      "text/plain": [
       "['restaurant_id', 'name', 'x_coord', 'y_coord']"
      ]
     },
     "execution_count": 9,
     "metadata": {},
     "output_type": "execute_result"
    }
   ],
   "source": [
    "# This is for our debugging sake.\n",
    "restaurant_header"
   ]
  },
  {
   "cell_type": "code",
   "execution_count": 10,
   "metadata": {},
   "outputs": [
    {
     "data": {
      "text/plain": [
       "[['MCD_1', 'McDonalds', '-3', '-3'],\n",
       " ['EIN_1', 'Einsteins Bagels', '1', '3'],\n",
       " ['STA_1', 'Starbucks', '0', '1'],\n",
       " ['MCD_2', 'McDonalds', '2', '0'],\n",
       " ['GRE_1', 'Greenbush Donuts', '0', '-3'],\n",
       " ['STA_2', 'Starbucks', '-2', '1'],\n",
       " ['PAN_1', 'Panda Express', '', '']]"
      ]
     },
     "execution_count": 10,
     "metadata": {},
     "output_type": "execute_result"
    }
   ],
   "source": [
    "# This is for our debugging sake.\n",
    "restaurant_data"
   ]
  },
  {
   "cell_type": "code",
   "execution_count": 11,
   "metadata": {},
   "outputs": [],
   "source": [
    "# Define the cell function.\n",
    "# If there is no data (\"\"), return None\n",
    "# Return x_coord and y_coord as an int.\n",
    "# Return all other data as a string.\n",
    "def cell(row_idx, col_name):\n",
    "    col_idx = restaurant_header.index(col_name)\n",
    "    val = restaurant_data[row_idx][col_idx]\n",
    "    if val == \"\":\n",
    "        return None\n",
    "    elif col_name in ['x_coord', 'y_coord']:\n",
    "        return int(val)\n",
    "    else:\n",
    "        return val"
   ]
  },
  {
   "cell_type": "code",
   "execution_count": 12,
   "metadata": {},
   "outputs": [
    {
     "name": "stdout",
     "output_type": "stream",
     "text": [
      "(0, -3)\n",
      "(2, 0)\n",
      "(2, 0)\n",
      "None\n",
      "None\n"
     ]
    }
   ],
   "source": [
    "# Write a function that is sent the business ID of a\n",
    "# restaurant and returns the x and y coordinates as a string\n",
    "# This should be case-insensitive.\n",
    "def get_coordinates(restaurant_id):\n",
    "    for i in range(len(restaurant_data)):\n",
    "        current_id = cell(i, \"restaurant_id\")\n",
    "        current_x = cell(i, \"x_coord\")\n",
    "        current_y = cell(i, \"y_coord\")\n",
    "                         \n",
    "        if current_id == None or current_x == None or current_y == None:\n",
    "             continue\n",
    "        \n",
    "        if current_id.lower() == restaurant_id.lower():\n",
    "            return \"({}, {})\".format(current_x, current_y)\n",
    "print(get_coordinates(\"GRE_1\")) # should be (0, -3)\n",
    "print(get_coordinates(\"MCD_2\")) # should be (2, 0)\n",
    "print(get_coordinates(\"mcd_2\")) # should be (2, 0)\n",
    "print(get_coordinates(\"PAN_1\")) # should be None\n",
    "print(get_coordinates(\"ZZZ_123\")) # should be None\n"
   ]
  },
  {
   "cell_type": "code",
   "execution_count": 13,
   "metadata": {},
   "outputs": [
    {
     "name": "stdout",
     "output_type": "stream",
     "text": [
      "EIN_1\n",
      "GRE_1\n",
      "None\n"
     ]
    }
   ],
   "source": [
    "# Write a function that is sent x y coordinates (ints)\n",
    "# and returns back the business_id of that restaurant.\n",
    "def get_restaurant_at_coordinates(search_x, search_y):\n",
    "    for i in range(len(restaurant_data)):\n",
    "        current_id = cell(i, \"restaurant_id\")\n",
    "        current_x = cell(i, \"x_coord\")\n",
    "        current_y = cell(i, \"y_coord\")\n",
    "                         \n",
    "        if current_id == None or current_x == None or current_y == None:\n",
    "            continue\n",
    "        \n",
    "        if current_x == search_x and current_y == search_y:\n",
    "            return current_id\n",
    "print(get_restaurant_at_coordinates(1, 3))  # should be EIN_1\n",
    "print(get_restaurant_at_coordinates(0, -3)) # should be GRE_1\n",
    "print(get_restaurant_at_coordinates(2, -3)) # should be None\n"
   ]
  },
  {
   "cell_type": "code",
   "execution_count": 14,
   "metadata": {},
   "outputs": [
    {
     "name": "stdout",
     "output_type": "stream",
     "text": [
      "...|E..\n",
      "...|...\n",
      ".S.S...\n",
      "-----M-\n",
      "...|...\n",
      "...|...\n",
      "M..G...\n"
     ]
    }
   ],
   "source": [
    "# Complete the code to print an X/Y grid of our restaurant map\n",
    "for i in range(3,-4,-1):\n",
    "    for j in range(-3,4,1):\n",
    "        restaurant = get_restaurant_at_coordinates(j, i)\n",
    "        if restaurant != None:\n",
    "            print(restaurant[0], end=\"\")\n",
    "        elif i == 0:\n",
    "            print('-', end=\"\")\n",
    "        elif j == 0:\n",
    "            print('|', end=\"\")\n",
    "        else:\n",
    "            print('.', end=\"\")\n",
    "    print()"
   ]
  },
  {
   "cell_type": "code",
   "execution_count": 15,
   "metadata": {},
   "outputs": [
    {
     "name": "stdout",
     "output_type": "stream",
     "text": [
      "5.0\n",
      "1.4142135623730951\n",
      "13.0\n"
     ]
    }
   ],
   "source": [
    "# Complete this function that computes the distance\n",
    "# between (x1,y1) and (x2,y2)\n",
    "import math\n",
    "def distance(x1, y1, x2, y2):\n",
    "    return math.sqrt((x1 - x2) ** 2 + (y1 - y2) ** 2)\n",
    "\n",
    "print(distance(0, 0, 3, 4)) # should be 5.0\n",
    "print(distance(1, 2, 2, 3)) # should be square root of 2\n",
    "print(distance(-3, 3, 2, -9)) # should be 13.0\n"
   ]
  },
  {
   "cell_type": "code",
   "execution_count": 16,
   "metadata": {},
   "outputs": [
    {
     "name": "stdout",
     "output_type": "stream",
     "text": [
      "Einsteins Bagels\n",
      "Starbucks\n",
      "McDonalds\n",
      "Greenbush Donuts\n"
     ]
    }
   ],
   "source": [
    "# Write a function that is sent x and y coordinates and returns\n",
    "# the name of the closest restaurant to those coordinates\n",
    "# Use the distance formula to calculate distance.\n",
    "\n",
    "def closest_restaurant(source_x, source_y):\n",
    "    '''return the name of the closest restaurant to the parameters given'''\n",
    "    closest_index = None # start with no value, to be clear if no result found\n",
    "    min_dist = None      # why does this have to be None, not just 0?\n",
    "    \n",
    "    for i in range(len(restaurant_data)):\n",
    "        current_x = cell(i, \"x_coord\")\n",
    "        current_y = cell(i, \"y_coord\")\n",
    "        \n",
    "        if current_x == None or current_y == None:\n",
    "            continue\n",
    "        \n",
    "        current_dist = distance(current_x, current_y, source_x, source_y)\n",
    "        \n",
    "        if closest_index == None or current_dist < min_dist:\n",
    "            closest_index = i\n",
    "            min_dist = current_dist\n",
    "    return cell(closest_index, \"name\")\n",
    "\n",
    "print(closest_restaurant(3, 3)) # should be Einsteins Bagels\n",
    "print(closest_restaurant(0, 0)) # should be Starbucks\n",
    "print(closest_restaurant(5, -2)) # should be McDonalds\n",
    "print(closest_restaurant(1, -2)) # should be Greenbush Donuts\n"
   ]
  },
  {
   "cell_type": "markdown",
   "metadata": {},
   "source": [
    "## Other Things to Know about Lists"
   ]
  },
  {
   "cell_type": "code",
   "execution_count": 18,
   "metadata": {},
   "outputs": [
    {
     "name": "stdout",
     "output_type": "stream",
     "text": [
      "APPLE ['apple', 'orange', 'strawberry', 'banana']\n",
      "ORANGE ['apple', 'orange', 'strawberry', 'banana']\n",
      "STRAWBERRY ['apple', 'orange', 'strawberry', 'banana']\n",
      "BANANA ['apple', 'orange', 'strawberry', 'banana']\n",
      "['apple', 'orange', 'strawberry', 'banana']\n"
     ]
    }
   ],
   "source": [
    "# Incorrect way to modify all elements of a list\n",
    "fruits = ['apple', 'orange', 'strawberry', 'banana']\n",
    "\n",
    "# try to change all fruits to upper case\n",
    "for f in fruits:\n",
    "    f = f.upper()\n",
    "    print(f, fruits)\n",
    "print(fruits)\n",
    "# what happened?  Let's try this in Python Tutor"
   ]
  },
  {
   "cell_type": "code",
   "execution_count": 19,
   "metadata": {},
   "outputs": [
    {
     "name": "stdout",
     "output_type": "stream",
     "text": [
      "['BANANA', 'BANANA', 'BANANA', 'BANANA']\n"
     ]
    }
   ],
   "source": [
    "# Correct way?  use indexing....\n",
    "fruits = ['apple', 'orange', 'strawberry', 'banana']\n",
    "for i in range(len(fruits)):\n",
    "    fruits[i] = f.upper() \n",
    "print(fruits)\n",
    "\n",
    "# what is the takeaway? "
   ]
  },
  {
   "cell_type": "code",
   "execution_count": 20,
   "metadata": {},
   "outputs": [
    {
     "name": "stdout",
     "output_type": "stream",
     "text": [
      "[33, 44, 55, 66, 77]\n",
      "2\n"
     ]
    }
   ],
   "source": [
    "# When a list is passed as an argument to a function\n",
    "# the list address is copied into the parameter\n",
    "# and changes to the list persist after the function frame ends\n",
    "# Run this in Python Tutor\n",
    "def remove_last_n_values(some_list, n):\n",
    "    while n > 0:\n",
    "        some_list.pop()\n",
    "        n -= 1\n",
    "        \n",
    "numbers = [33, 44, 55, 66, 77, 88, 99]\n",
    "x = 2\n",
    "remove_last_n_values(numbers, x)\n",
    "print(numbers)      # the changes to numbers persists\n",
    "print(x)            # note that x did not change\n",
    "\n",
    "# what is the takeaway? "
   ]
  },
  {
   "cell_type": "code",
   "execution_count": 21,
   "metadata": {},
   "outputs": [],
   "source": [
    "# To fix this?  make a copy of the list, modify the copy\n",
    "numbers = [33, 44, 55, 66, 77, 88, 99]\n",
    "\n",
    "numbers_copy = numbers.copy()\n"
   ]
  }
 ],
 "metadata": {
  "kernelspec": {
   "display_name": "Python 3 (ipykernel)",
   "language": "python",
   "name": "python3"
  },
  "language_info": {
   "codemirror_mode": {
    "name": "ipython",
    "version": 3
   },
   "file_extension": ".py",
   "mimetype": "text/x-python",
   "name": "python",
   "nbconvert_exporter": "python",
   "pygments_lexer": "ipython3",
   "version": "3.9.7"
  }
 },
 "nbformat": 4,
 "nbformat_minor": 4
}

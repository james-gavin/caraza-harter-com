{
 "cells": [
  {
   "cell_type": "markdown",
   "metadata": {},
   "source": [
    "# Lists Practice"
   ]
  },
  {
   "cell_type": "markdown",
   "metadata": {},
   "source": [
    "## Warmup"
   ]
  },
  {
   "cell_type": "code",
   "execution_count": null,
   "metadata": {},
   "outputs": [],
   "source": [
    "# Warmup 1: Hotkeys\n",
    "# We move quickly, it's good to know some hotkeys!\n",
    "\n",
    "# All-around good-to-knows...\n",
    "#  Ctrl+A: Select all the text in a cell.\n",
    "#  Ctrl+C: Copy selected text.\n",
    "#  Ctrl+X: Cut selected text.\n",
    "#  Ctrl+V: Paste text from clipboard.\n",
    "#  Ctrl+S: Save.\n",
    "\n",
    "# Jupyter-specific good-to-knows...\n",
    "#  Ctrl+Enter: Run Cell\n",
    "#  Ctrl+/: Comment/uncomment sections of code.\n",
    "#  Esc->A: Insert cell above\n",
    "#  Esc->B: Insert cell below\n",
    "#  Esc->Shift+L: Toggle line numbers.\n"
   ]
  },
  {
   "cell_type": "code",
   "execution_count": null,
   "metadata": {},
   "outputs": [],
   "source": [
    "# Warmup 2: Empty List\n",
    "\n",
    "weekend_plans = []  # I have no weekend plans :(\n",
    "print(weekend_plans)\n",
    "\n",
    "# TODO add three things to your weekend plans using .append\n",
    "\n",
    "print(weekend_plans)"
   ]
  },
  {
   "cell_type": "code",
   "execution_count": null,
   "metadata": {},
   "outputs": [],
   "source": [
    "# Warmup 3: Sets\n",
    "# Like a list, a set is another collection.\n",
    "# However, it is unordered and unique.\n",
    "# The function names are also a little different!\n",
    "my_set_of_weekend_plans = set()\n",
    "\n",
    "# .add 4 weekend plans, 1 of which is a duplicate.\n",
    "\n",
    "\n",
    "print(my_set_of_weekend_plans)\n",
    "\n",
    "# We can .pop... but it will remove a random item.\n",
    "# See https://www.w3schools.com/python/trypython.asp?filename=demo_ref_set_pop2\n",
    "\n",
    "\n",
    "print(my_set_of_weekend_plans)\n",
    "\n",
    "# We can .discard a specific item!\n",
    "# Unlike a list's remove, this will not throw an error if DNE.\n",
    "\n",
    "\n",
    "print(my_set_of_weekend_plans)\n",
    "\n",
    "# Bonus: While lists can be mutated, they cannot contain mutable items."
   ]
  },
  {
   "cell_type": "code",
   "execution_count": null,
   "metadata": {},
   "outputs": [],
   "source": [
    "# Warmup 4: Last Time\n",
    "\n",
    "# Read in the restaurant data\n",
    "import csv\n",
    "\n",
    "# source:  Automate the Boring Stuff with Python Ch 12\n",
    "def process_csv(filename):\n",
    "    exampleFile = open(filename, encoding=\"utf-8\")  \n",
    "    exampleReader = csv.reader(exampleFile) \n",
    "    exampleData = list(exampleReader)        \n",
    "    exampleFile.close()  \n",
    "    return exampleData\n",
    "\n",
    "cs220_csv = process_csv('cs220_survey_data.csv')\n",
    "cs220_header = cs220_csv[0]\n",
    "cs220_data = cs220_csv[1:]\n",
    "\n",
    "# How old is the oldest basil/spinach-loving Business major? [][]\n",
    "oldest = 0\n",
    "\n",
    "for i in range(len(cs220_data)):\n",
    "    current_age = cs220_data[i][1]\n",
    "    current_pizza = cs220_data[i][5]\n",
    "    current_major = cs220_data[i][2]\n",
    "    \n",
    "    if current_age == \"\" or current_pizza == \"\" or current_major == \"\":\n",
    "        continue\n",
    "        \n",
    "    current_age = int(current_age)\n",
    "        \n",
    "    if current_pizza == \"basil/spinach\" and current_major.startswith(\"Business\") and current_age > oldest:\n",
    "        oldest = current_age\n",
    "\n",
    "# How do we know this answer is correct?\n",
    "print(oldest)"
   ]
  },
  {
   "cell_type": "markdown",
   "metadata": {},
   "source": [
    "## Restaurants"
   ]
  },
  {
   "cell_type": "code",
   "execution_count": null,
   "metadata": {},
   "outputs": [],
   "source": [
    "restaurant_csv = process_csv('restaurants.csv')\n",
    "\n",
    "# TODO: Display restaurant_csv. What do we call this data structure?\n"
   ]
  },
  {
   "cell_type": "code",
   "execution_count": null,
   "metadata": {},
   "outputs": [],
   "source": [
    "# TODO: Seperate the data into 2 parts...\n",
    "# a header row, and a list of data rows\n"
   ]
  },
  {
   "cell_type": "code",
   "execution_count": null,
   "metadata": {},
   "outputs": [],
   "source": [
    "# TODO: Make a list of just the names from restaurant_data\n",
    "\n",
    "names = []  # names starts out empty, we will append to it\n",
    "for row in restaurant_data:\n",
    "    pass\n",
    "names"
   ]
  },
  {
   "cell_type": "code",
   "execution_count": null,
   "metadata": {},
   "outputs": [],
   "source": [
    "# Convert names to a unique list of names\n",
    "print(names)\n",
    "\n",
    "# TODO Convert to a unique list of names\n",
    "\n",
    "print(names)"
   ]
  },
  {
   "cell_type": "code",
   "execution_count": null,
   "metadata": {},
   "outputs": [],
   "source": [
    "# Sorting Option 1\n",
    "print(names)\n",
    "\n",
    "# TODO: Print the sorted list without changing it.\n"
   ]
  },
  {
   "cell_type": "code",
   "execution_count": null,
   "metadata": {},
   "outputs": [],
   "source": [
    "# Sorting Option 2\n",
    "print(names)\n",
    "\n",
    "# TODO: Sort the list and print it\n"
   ]
  },
  {
   "cell_type": "code",
   "execution_count": null,
   "metadata": {},
   "outputs": [],
   "source": [
    "# This is for our debugging sake.\n",
    "restaurant_header"
   ]
  },
  {
   "cell_type": "code",
   "execution_count": null,
   "metadata": {},
   "outputs": [],
   "source": [
    "# This is for our debugging sake.\n",
    "restaurant_data"
   ]
  },
  {
   "cell_type": "code",
   "execution_count": null,
   "metadata": {},
   "outputs": [],
   "source": [
    "# Define the cell function.\n",
    "# If there is no data (\"\"), return None\n",
    "# Return x_coord and y_coord as an int.\n",
    "# Return all other data as a string.\n",
    "def cell(row_idx, col_name):\n",
    "    col_idx = restaurant_header.index(col_name)\n",
    "    val = restaurant_data[row_idx][col_idx]\n",
    "    if ??:\n",
    "        return None\n",
    "    elif ???:\n",
    "        return int(val)\n",
    "    else:\n",
    "        return val"
   ]
  },
  {
   "cell_type": "code",
   "execution_count": null,
   "metadata": {},
   "outputs": [],
   "source": [
    "# Write a function that is sent x y coordinates (ints)\n",
    "# and returns back the business_id of that restaurant.\n",
    "def get_restaurant_at_coordinates(search_x, search_y):\n",
    "    for i in range(len(restaurant_data)):\n",
    "        ???\n",
    "print(get_restaurant_at_coordinates(1, 3))  # should be EIN_1\n",
    "print(get_restaurant_at_coordinates(0, -3)) # should be GRE_1\n",
    "print(get_restaurant_at_coordinates(2, -3)) # should be None\n"
   ]
  },
  {
   "cell_type": "code",
   "execution_count": null,
   "metadata": {},
   "outputs": [],
   "source": [
    "# Write a function that is sent the business ID of a\n",
    "# restaurant and returns the x and y coordinates as a string\n",
    "# This should be case-insensitive.\n",
    "def get_coordinates(restaurant_id):\n",
    "    for i in range(len(restaurant_data)):\n",
    "        ???\n",
    "print(get_coordinates(\"GRE_1\")) # should be (0, -3)\n",
    "print(get_coordinates(\"MCD_2\")) # should be (2, 0)\n",
    "print(get_coordinates(\"mcd_2\")) # should be (2, 0)\n",
    "print(get_coordinates(\"PAN_1\")) # should be None\n",
    "print(get_coordinates(\"ZZZ_123\")) # should be None\n"
   ]
  },
  {
   "cell_type": "code",
   "execution_count": null,
   "metadata": {},
   "outputs": [],
   "source": [
    "# Complete the code to print an X/Y grid of our restaurant map\n",
    "for i in range(3,-4,-1):\n",
    "    for j in range(-3,4,1):\n",
    "        restaurant = ???\n",
    "        if ???:\n",
    "            # restaurant is a string, prints the first letter\n",
    "            print(restaurant[0], end=\"\")\n",
    "        elif i == 0:\n",
    "            print('-', end=\"\")\n",
    "        elif j == 0:\n",
    "            print('|', end=\"\")\n",
    "        else:\n",
    "            print('.', end=\"\")\n",
    "    print()"
   ]
  },
  {
   "cell_type": "code",
   "execution_count": null,
   "metadata": {},
   "outputs": [],
   "source": [
    "# Complete this function that computes the distance\n",
    "# between (x1,y1) and (x2,y2)\n",
    "import math\n",
    "def distance(x1, y1, x2, y2):\n",
    "    pass\n",
    "\n",
    "print(distance(0, 0, 3, 4)) # should be 5.0\n",
    "print(distance(1, 2, 2, 3)) # should be square root of 2\n",
    "print(distance(-3, 3, 2, -9)) # should be 13.0\n"
   ]
  },
  {
   "cell_type": "code",
   "execution_count": null,
   "metadata": {},
   "outputs": [],
   "source": [
    "# Write a function that is sent x and y coordinates and returns\n",
    "# the name of the closest restaurant to those coordinates\n",
    "# Use the distance formula to calculate distance.\n",
    "\n",
    "def closest_restaurant(source_x, source_y):\n",
    "    '''return the name of the closest restaurant to the parameters given'''\n",
    "    closest_index = None # start with no value, to be clear if no result found\n",
    "    min_dist = None      # why does this have to be None, not just 0?\n",
    "    \n",
    "    for i in range(len(restaurant_data)):\n",
    "        current_x = cell(i, \"x_coord\")\n",
    "        current_y = cell(i, \"y_coord\")\n",
    "        \n",
    "        if ???:\n",
    "            continue\n",
    "        \n",
    "        current_dist = ???\n",
    "        \n",
    "        if ???:\n",
    "            closest_index = i\n",
    "            min_dist = current_dist\n",
    "    \n",
    "    # Why do we use index? Why not just name?\n",
    "    # Pretend that we instead have to get the business id!\n",
    "    return cell(closest_index, \"name\")\n",
    "\n",
    "print(closest_restaurant(3, 3)) # should be Einsteins Bagels\n",
    "print(closest_restaurant(0, 0)) # should be Starbucks\n",
    "print(closest_restaurant(5, -2)) # should be McDonalds\n",
    "print(closest_restaurant(1, -2)) # should be Greenbush Donuts\n"
   ]
  }
 ],
 "metadata": {
  "kernelspec": {
   "display_name": "Python 3 (ipykernel)",
   "language": "python",
   "name": "python3"
  },
  "language_info": {
   "codemirror_mode": {
    "name": "ipython",
    "version": 3
   },
   "file_extension": ".py",
   "mimetype": "text/x-python",
   "name": "python",
   "nbconvert_exporter": "python",
   "pygments_lexer": "ipython3",
   "version": "3.9.7"
  }
 },
 "nbformat": 4,
 "nbformat_minor": 4
}

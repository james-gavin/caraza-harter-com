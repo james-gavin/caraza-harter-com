{
 "cells": [
  {
   "cell_type": "code",
   "execution_count": 1,
   "metadata": {},
   "outputs": [],
   "source": [
    "# Warmup 0: Pandas!\n",
    "import pandas as pd"
   ]
  },
  {
   "cell_type": "code",
   "execution_count": 2,
   "metadata": {},
   "outputs": [],
   "source": [
    "# Warmup 1: What happened last time? Leave this commented out.\n",
    "# user_fruits = []\n",
    "# while(True):\n",
    "#     print(\"Current fruits\", user_fruits)\n",
    "#     try:\n",
    "#         fruit_name = input(\"Enter a name for the fruit... \")\n",
    "#         fruit_seeds = int(input(\"Enter a num_seeds for the fruit... \"))\n",
    "#         fruit_juicy = float(input(\"Enter a juicyness for the fruit... \"))\n",
    "#         user_fruits.append(Fruit(fruit_name, fruit_seeds, fruit_juicy))\n",
    "#     except: # SOMETHING WENT WRONG HERE! We couldn't exit!\n",
    "#         print(\"Name must be a str, num_seeds must be an int, and juicyness must be a float!\")\n",
    "#         print(type(e))\n",
    "\n",
    "# https://docs.python.org/3/library/exceptions.html"
   ]
  },
  {
   "cell_type": "code",
   "execution_count": 3,
   "metadata": {},
   "outputs": [],
   "source": [
    "# Warmup 2: What are your 2 favorite data structures that we have learned so far?"
   ]
  },
  {
   "cell_type": "code",
   "execution_count": 4,
   "metadata": {},
   "outputs": [],
   "source": [
    "# Warmup 3: Find the mean, median, mode, and standard deviation\n",
    "#           of the following list of scores.\n",
    "my_scores = [44, 32, 19, 67, 23, 23, 92, 47, 47, 78, 84]"
   ]
  },
  {
   "cell_type": "markdown",
   "metadata": {},
   "source": [
    "# Pandas"
   ]
  },
  {
   "cell_type": "markdown",
   "metadata": {},
   "source": [
    "**What is Pandas?**\n",
    " - Pandas is a package of tools for doing Data Science\n",
    " - Pandas was installed with Anaconda, so its on your computers\n",
    " - [Learn More](https://en.wikipedia.org/wiki/Pandas_(software))"
   ]
  },
  {
   "cell_type": "markdown",
   "metadata": {},
   "source": [
    "A Pandas Series is like a combination of a list and a dictionary. The word 'index' is used to describe position.\n"
   ]
  },
  {
   "cell_type": "markdown",
   "metadata": {},
   "source": [
    "## Series from a `list`"
   ]
  },
  {
   "cell_type": "code",
   "execution_count": 5,
   "metadata": {},
   "outputs": [
    {
     "data": {
      "text/plain": [
       "0     44\n",
       "1     32\n",
       "2     19\n",
       "3     67\n",
       "4     23\n",
       "5     23\n",
       "6     92\n",
       "7     47\n",
       "8     47\n",
       "9     78\n",
       "10    84\n",
       "dtype: int64"
      ]
     },
     "execution_count": 5,
     "metadata": {},
     "output_type": "execute_result"
    }
   ],
   "source": [
    "scores = pd.Series([44, 32, 19, 67, 23, 23, 92, 47, 47, 78, 84])\n",
    "scores"
   ]
  },
  {
   "cell_type": "markdown",
   "metadata": {},
   "source": [
    "A Pandas series acts a lot like a list; you can index and slice."
   ]
  },
  {
   "cell_type": "code",
   "execution_count": 6,
   "metadata": {},
   "outputs": [
    {
     "data": {
      "text/plain": [
       "67"
      ]
     },
     "execution_count": 6,
     "metadata": {},
     "output_type": "execute_result"
    }
   ],
   "source": [
    "scores[3]"
   ]
  },
  {
   "cell_type": "code",
   "execution_count": 7,
   "metadata": {},
   "outputs": [
    {
     "data": {
      "text/plain": [
       "3    67\n",
       "4    23\n",
       "5    23\n",
       "dtype: int64"
      ]
     },
     "execution_count": 7,
     "metadata": {},
     "output_type": "execute_result"
    }
   ],
   "source": [
    "scores[3:6]"
   ]
  },
  {
   "cell_type": "code",
   "execution_count": 8,
   "metadata": {},
   "outputs": [
    {
     "name": "stdout",
     "output_type": "stream",
     "text": [
      "50.54545454545455\n",
      "47.0\n",
      "26.051347897426098\n"
     ]
    }
   ],
   "source": [
    "## Series calculations\n",
    "## mean, median, mode, quartiles, sd, count\n",
    "print(scores.mean())\n",
    "print(scores.median())\n",
    "print(scores.std())\n"
   ]
  },
  {
   "cell_type": "code",
   "execution_count": 9,
   "metadata": {},
   "outputs": [
    {
     "name": "stdout",
     "output_type": "stream",
     "text": [
      "0    23\n",
      "1    47\n",
      "dtype: int64\n"
     ]
    }
   ],
   "source": [
    "# There could be multiple modes, so mode returns a Series\n",
    "print(scores.mode())"
   ]
  },
  {
   "cell_type": "code",
   "execution_count": 10,
   "metadata": {},
   "outputs": [
    {
     "name": "stdout",
     "output_type": "stream",
     "text": [
      "1.00    92.0\n",
      "0.75    72.5\n",
      "0.50    47.0\n",
      "0.25    27.5\n",
      "0.00    19.0\n",
      "dtype: float64\n"
     ]
    }
   ],
   "source": [
    "# 5-Number summary\n",
    "print(scores.quantile([1.0, 0.75, 0.5, 0.25, 0]))"
   ]
  },
  {
   "cell_type": "code",
   "execution_count": 11,
   "metadata": {},
   "outputs": [
    {
     "name": "stdout",
     "output_type": "stream",
     "text": [
      "0.9    84.0\n",
      "0.1    23.0\n",
      "dtype: float64\n"
     ]
    }
   ],
   "source": [
    "print(scores.quantile([0.9, 0.1]))"
   ]
  },
  {
   "cell_type": "markdown",
   "metadata": {},
   "source": [
    "`value_counts` creates a series where the index is the data, and the value is its count in the series"
   ]
  },
  {
   "cell_type": "code",
   "execution_count": 12,
   "metadata": {},
   "outputs": [
    {
     "data": {
      "text/plain": [
       "20    6\n",
       "19    4\n",
       "21    3\n",
       "18    2\n",
       "23    2\n",
       "17    1\n",
       "24    1\n",
       "25    1\n",
       "35    1\n",
       "22    1\n",
       "dtype: int64"
      ]
     },
     "execution_count": 12,
     "metadata": {},
     "output_type": "execute_result"
    }
   ],
   "source": [
    "ages = pd.Series([18, 19, 20, 20, 20, 17, 18, 24, 25, 35, 22, 20, 21, 21, 20, 23, 23, 19, 19, 19, 20, 21])\n",
    "ages.value_counts()"
   ]
  },
  {
   "cell_type": "markdown",
   "metadata": {},
   "source": [
    "A series can be sorted by index or by values"
   ]
  },
  {
   "cell_type": "code",
   "execution_count": 13,
   "metadata": {},
   "outputs": [
    {
     "data": {
      "text/plain": [
       "17    1\n",
       "18    2\n",
       "19    4\n",
       "20    6\n",
       "21    3\n",
       "22    1\n",
       "23    2\n",
       "24    1\n",
       "25    1\n",
       "35    1\n",
       "dtype: int64"
      ]
     },
     "execution_count": 13,
     "metadata": {},
     "output_type": "execute_result"
    }
   ],
   "source": [
    "ages.value_counts().sort_index()"
   ]
  },
  {
   "cell_type": "code",
   "execution_count": 14,
   "metadata": {},
   "outputs": [
    {
     "data": {
      "text/plain": [
       "20    6\n",
       "19    4\n",
       "21    3\n",
       "18    2\n",
       "23    2\n",
       "17    1\n",
       "24    1\n",
       "25    1\n",
       "35    1\n",
       "22    1\n",
       "dtype: int64"
      ]
     },
     "execution_count": 14,
     "metadata": {},
     "output_type": "execute_result"
    }
   ],
   "source": [
    "ages.value_counts().sort_values(ascending=False)"
   ]
  },
  {
   "cell_type": "markdown",
   "metadata": {},
   "source": [
    "### Plotting"
   ]
  },
  {
   "cell_type": "code",
   "execution_count": 15,
   "metadata": {},
   "outputs": [
    {
     "data": {
      "text/plain": [
       "[Text(0.5, 0, 'age'), Text(0, 0.5, 'count')]"
      ]
     },
     "execution_count": 15,
     "metadata": {},
     "output_type": "execute_result"
    },
    {
     "data": {
      "image/png": "[encoded data removed]",
      "text/plain": [
       "<Figure size 432x288 with 1 Axes>"
      ]
     },
     "metadata": {
      "needs_background": "light"
     },
     "output_type": "display_data"
    }
   ],
   "source": [
    "## Series bar chart\n",
    "age_plot = ages.value_counts().sort_index().plot.bar(color='lightsalmon')\n",
    "age_plot.set(xlabel = \"age\", ylabel = \"count\")"
   ]
  },
  {
   "cell_type": "markdown",
   "metadata": {},
   "source": [
    "### Filtering\n",
    " - & means 'and'\n",
    " - | means 'or'\n",
    " - ~ means 'not'\n",
    " - we must use () for compound boolean expressions"
   ]
  },
  {
   "cell_type": "code",
   "execution_count": 16,
   "metadata": {},
   "outputs": [
    {
     "data": {
      "text/plain": [
       "0     18\n",
       "1     19\n",
       "2     20\n",
       "3     20\n",
       "4     20\n",
       "6     18\n",
       "11    20\n",
       "14    20\n",
       "17    19\n",
       "18    19\n",
       "19    19\n",
       "20    20\n",
       "dtype: int64"
      ]
     },
     "execution_count": 16,
     "metadata": {},
     "output_type": "execute_result"
    }
   ],
   "source": [
    "# What ages are in the range 18 to 20, inclusive?\n",
    "certain_students = ages[(ages >= 18) & (ages <= 20)]\n",
    "certain_students"
   ]
  },
  {
   "cell_type": "code",
   "execution_count": 17,
   "metadata": {},
   "outputs": [
    {
     "data": {
      "text/plain": [
       "0.5454545454545454"
      ]
     },
     "execution_count": 17,
     "metadata": {},
     "output_type": "execute_result"
    }
   ],
   "source": [
    "# What percentage of students are in this age range?\n",
    "len(certain_students) / len(ages)"
   ]
  },
  {
   "cell_type": "code",
   "execution_count": 18,
   "metadata": {},
   "outputs": [
    {
     "data": {
      "text/plain": [
       "0.36363636363636365"
      ]
     },
     "execution_count": 18,
     "metadata": {},
     "output_type": "execute_result"
    }
   ],
   "source": [
    "# What percentage of students are ages 18 OR 21?\n",
    "stu_18_or_21 = ages[(ages == 18) | (ages == 20)]\n",
    "len(stu_18_or_21) / len(ages)"
   ]
  },
  {
   "cell_type": "code",
   "execution_count": 19,
   "metadata": {},
   "outputs": [
    {
     "data": {
      "text/plain": [
       "0.8181818181818182"
      ]
     },
     "execution_count": 19,
     "metadata": {},
     "output_type": "execute_result"
    }
   ],
   "source": [
    "# what percentage of students are NOT 19? \n",
    "stu_not_19 = ages [~(ages==19)]\n",
    "len(stu_not_19) / len(ages)"
   ]
  },
  {
   "cell_type": "code",
   "execution_count": 20,
   "metadata": {},
   "outputs": [
    {
     "name": "stdout",
     "output_type": "stream",
     "text": [
      "20    6\n",
      "19    4\n",
      "21    3\n",
      "18    2\n",
      "23    2\n",
      "17    1\n",
      "24    1\n",
      "25    1\n",
      "35    1\n",
      "22    1\n",
      "dtype: int64\n",
      "21    6\n",
      "20    4\n",
      "22    3\n",
      "19    2\n",
      "24    2\n",
      "18    1\n",
      "25    1\n",
      "26    1\n",
      "36    1\n",
      "23    1\n",
      "dtype: int64\n"
     ]
    }
   ],
   "source": [
    "# One more thing....we can perform an operation on all values in a Series\n",
    "# Let's add 1 to everyone's age\n",
    "print(ages.value_counts())\n",
    "ages = ages + 1\n",
    "print(ages.value_counts())"
   ]
  },
  {
   "cell_type": "code",
   "execution_count": 21,
   "metadata": {},
   "outputs": [
    {
     "name": "stdout",
     "output_type": "stream",
     "text": [
      "886\n"
     ]
    },
    {
     "data": {
      "text/plain": [
       "[['15',\n",
       "  'Pidgey',\n",
       "  '45',\n",
       "  '40',\n",
       "  '40',\n",
       "  'Kanto',\n",
       "  '35',\n",
       "  '35',\n",
       "  '56',\n",
       "  'Normal',\n",
       "  'Flying'],\n",
       " ['16',\n",
       "  'Pidgeotto',\n",
       "  '60',\n",
       "  '55',\n",
       "  '63',\n",
       "  'Kanto',\n",
       "  '50',\n",
       "  '50',\n",
       "  '71',\n",
       "  'Normal',\n",
       "  'Flying'],\n",
       " ['17',\n",
       "  'Pidgeot',\n",
       "  '80',\n",
       "  '75',\n",
       "  '83',\n",
       "  'Kanto',\n",
       "  '70',\n",
       "  '70',\n",
       "  '101',\n",
       "  'Normal',\n",
       "  'Flying']]"
      ]
     },
     "execution_count": 21,
     "metadata": {},
     "output_type": "execute_result"
    }
   ],
   "source": [
    "# Modified from https://automatetheboringstuff.com/chapter14/\n",
    "import csv\n",
    "def process_csv(filename):\n",
    "    example_file = open(filename, encoding=\"utf-8\")\n",
    "    example_reader = csv.reader(example_file)\n",
    "    example_data = list(example_reader)\n",
    "    example_file.close()\n",
    "    return example_data\n",
    "\n",
    "data = process_csv(\"pokemon_stats.csv\")\n",
    "header = data[0]\n",
    "print(len(data))\n",
    "data = data[1:]\n",
    "data[15:18]"
   ]
  },
  {
   "cell_type": "code",
   "execution_count": 22,
   "metadata": {},
   "outputs": [
    {
     "data": {
      "text/plain": [
       "0       Bulbasaur\n",
       "1         Ivysaur\n",
       "2        Venusaur\n",
       "3      Charmander\n",
       "4      Charmeleon\n",
       "          ...    \n",
       "880     Regieleki\n",
       "881     Regidrago\n",
       "882     Glastrier\n",
       "883     Spectrier\n",
       "884       Calyrex\n",
       "Length: 885, dtype: object"
      ]
     },
     "execution_count": 22,
     "metadata": {},
     "output_type": "execute_result"
    }
   ],
   "source": [
    "# Create a Series of all the Pokemon names.\n",
    "pokemon_list = [row[1] for row in data]\n",
    "pokemons = pd.Series(pokemon_list)\n",
    "pokemons"
   ]
  },
  {
   "cell_type": "code",
   "execution_count": 23,
   "metadata": {},
   "outputs": [
    {
     "data": {
      "text/plain": [
       "0       45\n",
       "1       60\n",
       "2       80\n",
       "3       39\n",
       "4       58\n",
       "      ... \n",
       "880     80\n",
       "881    200\n",
       "882    100\n",
       "883    100\n",
       "884    100\n",
       "Length: 885, dtype: int64"
      ]
     },
     "execution_count": 23,
     "metadata": {},
     "output_type": "execute_result"
    }
   ],
   "source": [
    "# Create a Series of all the Pokemon HPs.\n",
    "hp_list = [int(row[4]) for row in data]\n",
    "hps = pd.Series(hp_list)\n",
    "hps"
   ]
  },
  {
   "cell_type": "code",
   "execution_count": 24,
   "metadata": {},
   "outputs": [
    {
     "data": {
      "text/plain": [
       "0    60\n",
       "dtype: int64"
      ]
     },
     "execution_count": 24,
     "metadata": {},
     "output_type": "execute_result"
    }
   ],
   "source": [
    "# Find the most common HP\n",
    "hps.mode()"
   ]
  },
  {
   "cell_type": "code",
   "execution_count": 25,
   "metadata": {},
   "outputs": [
    {
     "data": {
      "text/plain": [
       "74"
      ]
     },
     "execution_count": 25,
     "metadata": {},
     "output_type": "execute_result"
    }
   ],
   "source": [
    "# Find how many pokemon have that most common hp\n",
    "len(hps[hps == hps.mode()[0]])"
   ]
  },
  {
   "cell_type": "code",
   "execution_count": 26,
   "metadata": {},
   "outputs": [
    {
     "data": {
      "text/plain": [
       "427"
      ]
     },
     "execution_count": 26,
     "metadata": {},
     "output_type": "execute_result"
    }
   ],
   "source": [
    "# How many Pokemon have HP between 50 and 75 (inclusive)? \n",
    "len(hps[(hps >= 50) & (hps <= 75)])"
   ]
  },
  {
   "cell_type": "code",
   "execution_count": 27,
   "metadata": {},
   "outputs": [
    {
     "data": {
      "text/plain": [
       "47       Diglett\n",
       "60          Abra\n",
       "78     Magnemite\n",
       "124     Magikarp\n",
       "167        Pichu\n",
       "208      Shuckle\n",
       "275        Ralts\n",
       "287     Shedinja\n",
       "344       Feebas\n",
       "350      Duskull\n",
       "760       Wimpod\n",
       "812      Blipbug\n",
       "871       Dreepy\n",
       "dtype: object"
      ]
     },
     "execution_count": 27,
     "metadata": {},
     "output_type": "execute_result"
    }
   ],
   "source": [
    "# What are the names of weak pokemon (<30 HP)?\n",
    "weak_hps_idx = hps[hps < 30].index\n",
    "pokemons[weak_hps_idx]"
   ]
  },
  {
   "cell_type": "code",
   "execution_count": 28,
   "metadata": {},
   "outputs": [
    {
     "data": {
      "text/plain": [
       "237      Blissey\n",
       "109      Chansey\n",
       "787     Guzzlord\n",
       "881    Regidrago\n",
       "197    Wobbuffet\n",
       "         ...    \n",
       "350      Duskull\n",
       "124     Magikarp\n",
       "208      Shuckle\n",
       "47       Diglett\n",
       "287     Shedinja\n",
       "Length: 885, dtype: object"
      ]
     },
     "execution_count": 28,
     "metadata": {},
     "output_type": "execute_result"
    }
   ],
   "source": [
    "# What are the names of the pokemon from strongest to weakest (using health)?\n",
    "all_hps_desc = hps.sort_values(ascending=False)\n",
    "pokemons[all_hps_desc.index]"
   ]
  },
  {
   "cell_type": "markdown",
   "metadata": {},
   "source": [
    "## Series from a `dict`\n",
    "A Series is a cross between a list and a dict, so we can make a series from a dict as well"
   ]
  },
  {
   "cell_type": "code",
   "execution_count": 29,
   "metadata": {},
   "outputs": [
    {
     "name": "stdout",
     "output_type": "stream",
     "text": [
      "Chris      10\n",
      "Kiara       3\n",
      "Mikayla     7\n",
      "Ann         8\n",
      "Trish       6\n",
      "dtype: int64\n"
     ]
    }
   ],
   "source": [
    "## Series from a dict\n",
    "game1points = pd.Series({\"Chris\": 10, \"Kiara\": 3, \"Mikayla\": 7, \"Ann\": 8, \"Trish\": 6})\n",
    "print(game1points)"
   ]
  },
  {
   "cell_type": "code",
   "execution_count": 30,
   "metadata": {},
   "outputs": [
    {
     "name": "stdout",
     "output_type": "stream",
     "text": [
      "Kiara       7\n",
      "Chris       3\n",
      "Trish      11\n",
      "Mikayla     2\n",
      "Ann         5\n",
      "dtype: int64\n"
     ]
    }
   ],
   "source": [
    "game2points = pd.Series({\"Kiara\": 7, \"Chris\": 3,  \"Trish\": 11, \"Mikayla\": 2, \"Ann\": 5})\n",
    "print(game2points)"
   ]
  },
  {
   "cell_type": "code",
   "execution_count": 31,
   "metadata": {},
   "outputs": [
    {
     "data": {
      "text/plain": [
       "Ann        13\n",
       "Chris      13\n",
       "Kiara      10\n",
       "Mikayla     9\n",
       "Trish      17\n",
       "dtype: int64"
      ]
     },
     "execution_count": 31,
     "metadata": {},
     "output_type": "execute_result"
    }
   ],
   "source": [
    "# Pandas can perform operations on two series by matching up their indices\n",
    "total = game1points  + game2points\n",
    "total"
   ]
  },
  {
   "cell_type": "code",
   "execution_count": 32,
   "metadata": {},
   "outputs": [
    {
     "name": "stdout",
     "output_type": "stream",
     "text": [
      "17\n",
      "Trish\n"
     ]
    }
   ],
   "source": [
    "# Who has the most points?\n",
    "print(total.max())\n",
    "print(total.idxmax())"
   ]
  },
  {
   "cell_type": "code",
   "execution_count": 33,
   "metadata": {},
   "outputs": [
    {
     "name": "stdout",
     "output_type": "stream",
     "text": [
      "10 10\n"
     ]
    }
   ],
   "source": [
    "# We can use [] to name the index or by its sequence number\n",
    "print(total['Kiara'], total[2])"
   ]
  },
  {
   "cell_type": "code",
   "execution_count": 34,
   "metadata": {},
   "outputs": [
    {
     "data": {
      "text/plain": [
       "Chris    13\n",
       "Trish    17\n",
       "dtype: int64"
      ]
     },
     "execution_count": 34,
     "metadata": {},
     "output_type": "execute_result"
    }
   ],
   "source": [
    "# We can have multi-indexing....slightly different from slicing\n",
    "total[[\"Chris\", \"Trish\"]]"
   ]
  },
  {
   "cell_type": "code",
   "execution_count": 35,
   "metadata": {},
   "outputs": [
    {
     "data": {
      "text/plain": [
       "Trish      17\n",
       "Ann        13\n",
       "Chris      13\n",
       "Kiara      10\n",
       "Mikayla     9\n",
       "dtype: int64"
      ]
     },
     "execution_count": 35,
     "metadata": {},
     "output_type": "execute_result"
    }
   ],
   "source": [
    "total_sorted = total.sort_values(ascending=False)\n",
    "total_sorted"
   ]
  },
  {
   "cell_type": "code",
   "execution_count": 36,
   "metadata": {},
   "outputs": [
    {
     "data": {
      "text/plain": [
       "Text(0, 0.5, 'total points')"
      ]
     },
     "execution_count": 36,
     "metadata": {},
     "output_type": "execute_result"
    },
    {
     "data": {
      "image/png": "[encoded data removed]",
      "text/plain": [
       "<Figure size 432x288 with 1 Axes>"
      ]
     },
     "metadata": {
      "needs_background": "light"
     },
     "output_type": "display_data"
    }
   ],
   "source": [
    "ax = total_sorted.plot.bar(color=\"green\", fontsize=16)\n",
    "ax.set_ylabel(\"total points\", fontsize=16)"
   ]
  },
  {
   "cell_type": "markdown",
   "metadata": {},
   "source": [
    "## More things to know about Series\n",
    "Next time, we'll get into more ways to access data using `loc` and `iloc`.\n",
    "\n",
    "We'll also talk about `DataFrame`, which is a series of series (like a spreadsheet!)\n",
    "\n",
    "Feel overwhelmed? Do the required reading & worksheet. Pandas operations are good to put on your notesheet."
   ]
  }
 ],
 "metadata": {
  "kernelspec": {
   "display_name": "Python 3 (ipykernel)",
   "language": "python",
   "name": "python3"
  },
  "language_info": {
   "codemirror_mode": {
    "name": "ipython",
    "version": 3
   },
   "file_extension": ".py",
   "mimetype": "text/x-python",
   "name": "python",
   "nbconvert_exporter": "python",
   "pygments_lexer": "ipython3",
   "version": "3.9.7"
  }
 },
 "nbformat": 4,
 "nbformat_minor": 4
}

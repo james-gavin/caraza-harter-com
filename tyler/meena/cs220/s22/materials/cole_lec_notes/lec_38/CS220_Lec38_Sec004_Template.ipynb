{
 "cells": [
  {
   "cell_type": "code",
   "execution_count": null,
   "metadata": {},
   "outputs": [],
   "source": [
    "# Warmup 0a\n",
    "# Complete the AEFIS Evaluation"
   ]
  },
  {
   "cell_type": "code",
   "execution_count": null,
   "metadata": {},
   "outputs": [],
   "source": [
    "# Warmup 0b\n",
    "import pandas as pd\n",
    "import math\n",
    "import requests\n",
    "import matplotlib\n",
    "from matplotlib import pyplot as plt\n",
    "matplotlib.rcParams[\"font.size\"] = 16"
   ]
  },
  {
   "cell_type": "markdown",
   "metadata": {},
   "source": [
    "### From last time..."
   ]
  },
  {
   "cell_type": "code",
   "execution_count": null,
   "metadata": {},
   "outputs": [],
   "source": [
    "hydrants = pd.read_csv(\"Fire_Hydrants.csv\")\n",
    "hydrants.head()"
   ]
  },
  {
   "cell_type": "markdown",
   "metadata": {},
   "source": [
    "### Compare the decades in which \"Pacer\" hydrants were manufactured versus all other hydrants."
   ]
  },
  {
   "cell_type": "code",
   "execution_count": null,
   "metadata": {},
   "outputs": [],
   "source": [
    "# Save the year_manufactured for \"Pacer\" hydrants to a variable called pacer_years\n",
    "pacer_years = ???\n",
    "pacer_years"
   ]
  },
  {
   "cell_type": "code",
   "execution_count": null,
   "metadata": {},
   "outputs": [],
   "source": [
    "# Save the year_manufactured for all other hydrants to a variable called other_years\n",
    "other_years = ?\n",
    "other_years"
   ]
  },
  {
   "cell_type": "code",
   "execution_count": null,
   "metadata": {},
   "outputs": [],
   "source": [
    "# Copy your code from above, but this time dropping NA values.\n"
   ]
  },
  {
   "cell_type": "code",
   "execution_count": null,
   "metadata": {},
   "outputs": [],
   "source": [
    "# For \"Pacer\" fire hydrants...\n",
    "#  - Convert each year to a decade (e.g. 1983 --> 1980) using the   // 10 * 10   trick\n",
    "#  - Convert each decade to an int using 'astype'\n",
    "#  - Count up the number of each decade using 'value_counts'\n",
    "#  - Sort based on the decade\n",
    "# Save to a variable called pacer_decades\n",
    "pacer_decades = ???\n",
    "pacer_decades"
   ]
  },
  {
   "cell_type": "code",
   "execution_count": null,
   "metadata": {},
   "outputs": [],
   "source": [
    "# Do the same for all other hydrants. Save to a variable called other_decades\n",
    "other_decades = ???\n",
    "other_decades"
   ]
  },
  {
   "cell_type": "code",
   "execution_count": null,
   "metadata": {},
   "outputs": [],
   "source": [
    "# Make a DataFrame out of these two Series.\n",
    "# What is the index? What are the values?\n",
    "style_df = pd.DataFrame({\n",
    "    \"pacer\": pacer_decades,\n",
    "    \"other\": other_decades,\n",
    "})\n",
    "style_df"
   ]
  },
  {
   "cell_type": "code",
   "execution_count": null,
   "metadata": {},
   "outputs": [],
   "source": [
    "# Visualize with a bar plot.\n"
   ]
  },
  {
   "cell_type": "code",
   "execution_count": null,
   "metadata": {},
   "outputs": [],
   "source": [
    "# Visualize since only 1950\n"
   ]
  },
  {
   "cell_type": "code",
   "execution_count": null,
   "metadata": {},
   "outputs": [],
   "source": [
    "# Stack the bar plots rather than making them appear side-by-side.\n"
   ]
  },
  {
   "cell_type": "markdown",
   "metadata": {},
   "source": [
    "# Plotting 4\n",
    "- setting axes limits\n",
    "- logarithms\n",
    "- multiple plots within same figure"
   ]
  },
  {
   "cell_type": "markdown",
   "metadata": {},
   "source": [
    "IRIS dataset: http://archive.ics.uci.edu/ml/datasets/iris"
   ]
  },
  {
   "cell_type": "code",
   "execution_count": null,
   "metadata": {},
   "outputs": [],
   "source": [
    "# Gather the data.\n",
    "resp = requests.get(\"https://archive.ics.uci.edu/ml/machine-learning-databases/iris/iris.data\")\n",
    "resp.raise_for_status()\n",
    "\n",
    "iris_f = open(\"iris.csv\", \"w\")\n",
    "iris_f.write(resp.text)\n",
    "iris_f.close()\n",
    "\n",
    "iris_df = pd.read_csv(\"iris.csv\",\n",
    "                 names = [\"sep-len\", \"sep-wid\", \"pet-len\", \"pet-wid\", \"class\"])\n",
    "iris_df.head()"
   ]
  },
  {
   "cell_type": "code",
   "execution_count": null,
   "metadata": {},
   "outputs": [],
   "source": [
    "# Save all the unique classes to a variable called \"varieties\"\n",
    "varieties = ???\n",
    "varieties"
   ]
  },
  {
   "cell_type": "code",
   "execution_count": null,
   "metadata": {},
   "outputs": [],
   "source": [
    "# Save just the data on \"Iris-virginica\" to a variable called \"virginica_df\"\n",
    "virginica_df = ???\n",
    "virginica_df.head()"
   ]
  },
  {
   "cell_type": "code",
   "execution_count": null,
   "metadata": {},
   "outputs": [],
   "source": [
    "# Plot the petal width vs petal length for Iris-virginica on a scatter plot\n"
   ]
  },
  {
   "cell_type": "markdown",
   "metadata": {},
   "source": [
    "### Let's continue learning about *xlim* and *ylim*\n",
    "- Allows us to set x-axis and y-axis limits\n",
    "- Takes either a single value (LOWER-BOUND) or a tuple containing two values (LOWER-BOUND, UPPER-BOUND)\n",
    "- You need to be careful about setting the bounds"
   ]
  },
  {
   "cell_type": "code",
   "execution_count": null,
   "metadata": {},
   "outputs": [],
   "source": [
    "virginica_df.plot.scatter(x = \"pet-wid\", y = \"pet-len\", xlim = 0, ylim = 0)"
   ]
  },
  {
   "cell_type": "code",
   "execution_count": null,
   "metadata": {},
   "outputs": [],
   "source": [
    "ax = virginica_df.plot.scatter(x = \"pet-wid\", y = \"pet-len\",\n",
    "                    xlim = (0, 6), ylim = (0, 6),\n",
    "                    figsize = (3, 3))"
   ]
  },
  {
   "cell_type": "markdown",
   "metadata": {},
   "source": [
    "What's wrong with the above plot?"
   ]
  },
  {
   "cell_type": "code",
   "execution_count": null,
   "metadata": {},
   "outputs": [],
   "source": [
    "virginica_df[\"pet-len\"].max()"
   ]
  },
  {
   "cell_type": "code",
   "execution_count": null,
   "metadata": {},
   "outputs": [],
   "source": [
    "ax.get_ylim()"
   ]
  },
  {
   "cell_type": "code",
   "execution_count": null,
   "metadata": {},
   "outputs": [],
   "source": [
    "# Let's include assert statements to make sure we don't crop the plot!\n",
    "ax = virginica_df.plot.scatter(x = \"pet-wid\", y = \"pet-len\",\n",
    "                     xlim = (0, 6), ylim = (0, 6),\n",
    "                     figsize = (3, 3))\n",
    "assert virginica_df[\"pet-len\"].max() <= ax.get_ylim()[1]"
   ]
  },
  {
   "cell_type": "code",
   "execution_count": null,
   "metadata": {},
   "outputs": [],
   "source": [
    "# Asserting ALL the data is within the picture.\n",
    "ax = virginica_df.plot.scatter(x = \"pet-wid\", y = \"pet-len\",\n",
    "                     xlim = (0, 7), ylim = (0, 7),\n",
    "                     figsize = (3, 3))\n"
   ]
  },
  {
   "cell_type": "markdown",
   "metadata": {},
   "source": [
    "### Logarithmic scale\n",
    "- math.log(y, base)\n",
    "- find an x, such that 10**x == y\n",
    "    - math.log10(y)"
   ]
  },
  {
   "cell_type": "markdown",
   "metadata": {},
   "source": [
    "https://ourworldindata.org/grapher/population"
   ]
  },
  {
   "cell_type": "code",
   "execution_count": null,
   "metadata": {},
   "outputs": [],
   "source": [
    "# math.log10(1000) # == 3\n",
    "# math.log10(1000000) # == 6\n",
    "\n",
    "# math.log(32, 2) # == 5\n",
    "# math.log(256, 4) # == 4"
   ]
  },
  {
   "cell_type": "code",
   "execution_count": null,
   "metadata": {},
   "outputs": [],
   "source": [
    "populations = pd.Series({\n",
    "        \"China\":1439323776,\n",
    "        \"India\": 1380004385,\n",
    "        \"Mexico\": 128932753,\n",
    "        \"Senegal\":16743927,\n",
    "        \"Bahrain\":1701575,\n",
    "        \"Grenada\":112523,\n",
    "        \"Tuvalu\": 11792\n",
    "})"
   ]
  },
  {
   "cell_type": "code",
   "execution_count": null,
   "metadata": {},
   "outputs": [],
   "source": [
    "# Plot these populations as a bar chart\n"
   ]
  },
  {
   "cell_type": "code",
   "execution_count": null,
   "metadata": {},
   "outputs": [],
   "source": [
    "# Now plot on a logarithmic scale\n"
   ]
  },
  {
   "cell_type": "markdown",
   "metadata": {},
   "source": [
    "### Multiple *axessubplots* in the same plot"
   ]
  },
  {
   "cell_type": "code",
   "execution_count": null,
   "metadata": {},
   "outputs": [],
   "source": [
    "plt.subplots()"
   ]
  },
  {
   "cell_type": "code",
   "execution_count": null,
   "metadata": {},
   "outputs": [],
   "source": [
    "plt.subplots(ncols = 2)"
   ]
  },
  {
   "cell_type": "code",
   "execution_count": null,
   "metadata": {},
   "outputs": [],
   "source": [
    "plt.subplots(nrows = 2)"
   ]
  },
  {
   "cell_type": "code",
   "execution_count": null,
   "metadata": {},
   "outputs": [],
   "source": [
    "plt.subplots(ncols = 2, nrows = 3)"
   ]
  },
  {
   "cell_type": "code",
   "execution_count": null,
   "metadata": {},
   "outputs": [],
   "source": [
    "# What's the issue with the graph below?\n",
    "fig, axes = plt.subplots(ncols = 2)\n",
    "# axes[0] # the area on the left\n",
    "# axes[1] # the area on the right\n",
    "pd.Series([1, 2, 3, 3, 4]).plot.line(ax = axes[0])\n",
    "pd.Series([5, 7, 7, 8]).plot.line(ax = axes[1])"
   ]
  },
  {
   "cell_type": "code",
   "execution_count": null,
   "metadata": {},
   "outputs": [],
   "source": [
    "# How can we fix that?\n"
   ]
  },
  {
   "cell_type": "code",
   "execution_count": null,
   "metadata": {},
   "outputs": [],
   "source": [
    "# Plot the sepal length vs the sepal width for each of the classes of flowers.\n",
    "colors=[\"r\", \"g\", \"b\"]\n",
    "markers=[\".\", \"^\", \"v\"]\n",
    "fig, axes = plt.subplots(ncols = 3, figsize=(12,3))\n",
    "for i in range(len(varieties)):\n",
    "    variety = varieties[i]\n",
    "    ???\n"
   ]
  },
  {
   "cell_type": "code",
   "execution_count": null,
   "metadata": {},
   "outputs": [],
   "source": [
    "# Bonus: Plot the distribution of the sepal/petal length/width on a 4x3 grid.\n",
    "#        This is not content covered by the exam. It shows how useful subplots can be.\n",
    "\n",
    "colors=[\"r\", \"g\", \"b\"]\n",
    "fig, axes = plt.subplots(ncols = 3, nrows = 4, figsize=(9,9))\n",
    "for i in range(len(varieties)):\n",
    "    variety = varieties[i]\n",
    "    ???\n"
   ]
  }
 ],
 "metadata": {
  "kernelspec": {
   "display_name": "Python 3 (ipykernel)",
   "language": "python",
   "name": "python3"
  },
  "language_info": {
   "codemirror_mode": {
    "name": "ipython",
    "version": 3
   },
   "file_extension": ".py",
   "mimetype": "text/x-python",
   "name": "python",
   "nbconvert_exporter": "python",
   "pygments_lexer": "ipython3",
   "version": "3.9.7"
  }
 },
 "nbformat": 4,
 "nbformat_minor": 2
}

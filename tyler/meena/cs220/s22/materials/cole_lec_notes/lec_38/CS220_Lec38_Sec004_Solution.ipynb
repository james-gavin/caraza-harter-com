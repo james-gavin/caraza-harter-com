{
 "cells": [
  {
   "cell_type": "code",
   "execution_count": 1,
   "metadata": {},
   "outputs": [],
   "source": [
    "# Warmup 0\n",
    "import pandas as pd\n",
    "import math\n",
    "import requests\n",
    "import matplotlib\n",
    "from matplotlib import pyplot as plt\n",
    "matplotlib.rcParams[\"font.size\"] = 16"
   ]
  },
  {
   "cell_type": "markdown",
   "metadata": {},
   "source": [
    "### From last time..."
   ]
  },
  {
   "cell_type": "code",
   "execution_count": 2,
   "metadata": {},
   "outputs": [
    {
     "data": {
      "text/html": [
       "<div>\n",
       "<style scoped>\n",
       "    .dataframe tbody tr th:only-of-type {\n",
       "        vertical-align: middle;\n",
       "    }\n",
       "\n",
       "    .dataframe tbody tr th {\n",
       "        vertical-align: top;\n",
       "    }\n",
       "\n",
       "    .dataframe thead th {\n",
       "        text-align: right;\n",
       "    }\n",
       "</style>\n",
       "<table border=\"1\" class=\"dataframe\">\n",
       "  <thead>\n",
       "    <tr style=\"text-align: right;\">\n",
       "      <th></th>\n",
       "      <th>X</th>\n",
       "      <th>Y</th>\n",
       "      <th>OBJECTID</th>\n",
       "      <th>CreatedBy</th>\n",
       "      <th>CreatedDate</th>\n",
       "      <th>LastEditor</th>\n",
       "      <th>LastUpdate</th>\n",
       "      <th>FacilityID</th>\n",
       "      <th>DataSource</th>\n",
       "      <th>ProjectNumber</th>\n",
       "      <th>...</th>\n",
       "      <th>Elevation</th>\n",
       "      <th>Manufacturer</th>\n",
       "      <th>Style</th>\n",
       "      <th>year_manufactured</th>\n",
       "      <th>BarrelDiameter</th>\n",
       "      <th>SeatDiameter</th>\n",
       "      <th>Comments</th>\n",
       "      <th>nozzle_color</th>\n",
       "      <th>MaintainedBy</th>\n",
       "      <th>InstallType</th>\n",
       "    </tr>\n",
       "  </thead>\n",
       "  <tbody>\n",
       "    <tr>\n",
       "      <th>0</th>\n",
       "      <td>-89.519573</td>\n",
       "      <td>43.049308</td>\n",
       "      <td>2536</td>\n",
       "      <td>NaN</td>\n",
       "      <td>NaN</td>\n",
       "      <td>WUJAG</td>\n",
       "      <td>2018-06-07T19:45:53.000Z</td>\n",
       "      <td>HYDR-2360-2</td>\n",
       "      <td>FASB</td>\n",
       "      <td>NaN</td>\n",
       "      <td>...</td>\n",
       "      <td>1138.0</td>\n",
       "      <td>NaN</td>\n",
       "      <td>Pacer</td>\n",
       "      <td>1996.0</td>\n",
       "      <td>5.0</td>\n",
       "      <td>NaN</td>\n",
       "      <td>NaN</td>\n",
       "      <td>blue</td>\n",
       "      <td>MADISON WATER UTILITY</td>\n",
       "      <td>NaN</td>\n",
       "    </tr>\n",
       "    <tr>\n",
       "      <th>1</th>\n",
       "      <td>-89.521988</td>\n",
       "      <td>43.049193</td>\n",
       "      <td>2537</td>\n",
       "      <td>NaN</td>\n",
       "      <td>NaN</td>\n",
       "      <td>WUJAG</td>\n",
       "      <td>2018-06-07T19:45:53.000Z</td>\n",
       "      <td>HYDR-2360-4</td>\n",
       "      <td>FASB</td>\n",
       "      <td>NaN</td>\n",
       "      <td>...</td>\n",
       "      <td>1170.0</td>\n",
       "      <td>NaN</td>\n",
       "      <td>Pacer</td>\n",
       "      <td>1995.0</td>\n",
       "      <td>5.0</td>\n",
       "      <td>NaN</td>\n",
       "      <td>NaN</td>\n",
       "      <td>blue</td>\n",
       "      <td>MADISON WATER UTILITY</td>\n",
       "      <td>NaN</td>\n",
       "    </tr>\n",
       "    <tr>\n",
       "      <th>2</th>\n",
       "      <td>-89.522093</td>\n",
       "      <td>43.048233</td>\n",
       "      <td>2538</td>\n",
       "      <td>NaN</td>\n",
       "      <td>NaN</td>\n",
       "      <td>WUJAG</td>\n",
       "      <td>2018-06-07T19:45:53.000Z</td>\n",
       "      <td>HYDR-2361-19</td>\n",
       "      <td>FASB</td>\n",
       "      <td>NaN</td>\n",
       "      <td>...</td>\n",
       "      <td>1179.0</td>\n",
       "      <td>NaN</td>\n",
       "      <td>Pacer</td>\n",
       "      <td>1996.0</td>\n",
       "      <td>5.0</td>\n",
       "      <td>NaN</td>\n",
       "      <td>NaN</td>\n",
       "      <td>blue</td>\n",
       "      <td>MADISON WATER UTILITY</td>\n",
       "      <td>NaN</td>\n",
       "    </tr>\n",
       "    <tr>\n",
       "      <th>3</th>\n",
       "      <td>-89.521013</td>\n",
       "      <td>43.049033</td>\n",
       "      <td>2539</td>\n",
       "      <td>NaN</td>\n",
       "      <td>NaN</td>\n",
       "      <td>WUJAG</td>\n",
       "      <td>2018-06-07T19:45:53.000Z</td>\n",
       "      <td>HYDR-2360-3</td>\n",
       "      <td>FASB</td>\n",
       "      <td>NaN</td>\n",
       "      <td>...</td>\n",
       "      <td>1163.0</td>\n",
       "      <td>NaN</td>\n",
       "      <td>Pacer</td>\n",
       "      <td>1995.0</td>\n",
       "      <td>5.0</td>\n",
       "      <td>NaN</td>\n",
       "      <td>NaN</td>\n",
       "      <td>blue</td>\n",
       "      <td>MADISON WATER UTILITY</td>\n",
       "      <td>NaN</td>\n",
       "    </tr>\n",
       "    <tr>\n",
       "      <th>4</th>\n",
       "      <td>-89.524782</td>\n",
       "      <td>43.056263</td>\n",
       "      <td>2540</td>\n",
       "      <td>NaN</td>\n",
       "      <td>NaN</td>\n",
       "      <td>WUPTB</td>\n",
       "      <td>2017-08-31T16:19:46.000Z</td>\n",
       "      <td>HYDR-2257-5</td>\n",
       "      <td>NaN</td>\n",
       "      <td>NaN</td>\n",
       "      <td>...</td>\n",
       "      <td>1065.0</td>\n",
       "      <td>NaN</td>\n",
       "      <td>Pacer</td>\n",
       "      <td>1996.0</td>\n",
       "      <td>5.0</td>\n",
       "      <td>NaN</td>\n",
       "      <td>NaN</td>\n",
       "      <td>blue</td>\n",
       "      <td>MADISON WATER UTILITY</td>\n",
       "      <td>NaN</td>\n",
       "    </tr>\n",
       "  </tbody>\n",
       "</table>\n",
       "<p>5 rows × 25 columns</p>\n",
       "</div>"
      ],
      "text/plain": [
       "           X          Y  OBJECTID CreatedBy CreatedDate LastEditor  \\\n",
       "0 -89.519573  43.049308      2536       NaN         NaN      WUJAG   \n",
       "1 -89.521988  43.049193      2537       NaN         NaN      WUJAG   \n",
       "2 -89.522093  43.048233      2538       NaN         NaN      WUJAG   \n",
       "3 -89.521013  43.049033      2539       NaN         NaN      WUJAG   \n",
       "4 -89.524782  43.056263      2540       NaN         NaN      WUPTB   \n",
       "\n",
       "                 LastUpdate    FacilityID DataSource ProjectNumber  ...  \\\n",
       "0  2018-06-07T19:45:53.000Z   HYDR-2360-2       FASB           NaN  ...   \n",
       "1  2018-06-07T19:45:53.000Z   HYDR-2360-4       FASB           NaN  ...   \n",
       "2  2018-06-07T19:45:53.000Z  HYDR-2361-19       FASB           NaN  ...   \n",
       "3  2018-06-07T19:45:53.000Z   HYDR-2360-3       FASB           NaN  ...   \n",
       "4  2017-08-31T16:19:46.000Z   HYDR-2257-5        NaN           NaN  ...   \n",
       "\n",
       "  Elevation Manufacturer  Style  year_manufactured BarrelDiameter  \\\n",
       "0    1138.0          NaN  Pacer             1996.0            5.0   \n",
       "1    1170.0          NaN  Pacer             1995.0            5.0   \n",
       "2    1179.0          NaN  Pacer             1996.0            5.0   \n",
       "3    1163.0          NaN  Pacer             1995.0            5.0   \n",
       "4    1065.0          NaN  Pacer             1996.0            5.0   \n",
       "\n",
       "   SeatDiameter Comments nozzle_color           MaintainedBy  InstallType  \n",
       "0           NaN      NaN         blue  MADISON WATER UTILITY          NaN  \n",
       "1           NaN      NaN         blue  MADISON WATER UTILITY          NaN  \n",
       "2           NaN      NaN         blue  MADISON WATER UTILITY          NaN  \n",
       "3           NaN      NaN         blue  MADISON WATER UTILITY          NaN  \n",
       "4           NaN      NaN         blue  MADISON WATER UTILITY          NaN  \n",
       "\n",
       "[5 rows x 25 columns]"
      ]
     },
     "execution_count": 2,
     "metadata": {},
     "output_type": "execute_result"
    }
   ],
   "source": [
    "hydrants = pd.read_csv(\"Fire_Hydrants.csv\")\n",
    "hydrants.head()"
   ]
  },
  {
   "cell_type": "markdown",
   "metadata": {},
   "source": [
    "### Compare the decades in which \"Pacer\" hydrants were manufactured versus all other hydrants."
   ]
  },
  {
   "cell_type": "code",
   "execution_count": 3,
   "metadata": {},
   "outputs": [
    {
     "data": {
      "text/plain": [
       "0        1996.0\n",
       "1        1995.0\n",
       "2        1996.0\n",
       "3        1995.0\n",
       "4        1996.0\n",
       "          ...  \n",
       "10050    2017.0\n",
       "10051    2017.0\n",
       "10052    2017.0\n",
       "10053    2017.0\n",
       "10054       NaN\n",
       "Name: year_manufactured, Length: 3458, dtype: float64"
      ]
     },
     "execution_count": 3,
     "metadata": {},
     "output_type": "execute_result"
    }
   ],
   "source": [
    "# Save the year_manufactured for \"Pacer\" hydrants to a variable called pacer_years\n",
    "pacer_years = hydrants[hydrants[\"Style\"] == \"Pacer\"][\"year_manufactured\"]\n",
    "pacer_years"
   ]
  },
  {
   "cell_type": "code",
   "execution_count": 4,
   "metadata": {},
   "outputs": [
    {
     "data": {
      "text/plain": [
       "18       1987.0\n",
       "22       1996.0\n",
       "23       1996.0\n",
       "71       1987.0\n",
       "72       1987.0\n",
       "          ...  \n",
       "10104    2018.0\n",
       "10105    2017.0\n",
       "10106    2000.0\n",
       "10107    2017.0\n",
       "10108       NaN\n",
       "Name: year_manufactured, Length: 6651, dtype: float64"
      ]
     },
     "execution_count": 4,
     "metadata": {},
     "output_type": "execute_result"
    }
   ],
   "source": [
    "# Save the year_manufactured for all other hydrants to a variable called other_years\n",
    "other_years = hydrants[hydrants[\"Style\"] != \"Pacer\"][\"year_manufactured\"]\n",
    "other_years"
   ]
  },
  {
   "cell_type": "code",
   "execution_count": 5,
   "metadata": {},
   "outputs": [],
   "source": [
    "# Copy your code from above, but this time dropping NA values.\n",
    "pacer_years = hydrants[hydrants[\"Style\"] == \"Pacer\"][\"year_manufactured\"].dropna()\n",
    "other_years = hydrants[hydrants[\"Style\"] != \"Pacer\"][\"year_manufactured\"].dropna()"
   ]
  },
  {
   "cell_type": "code",
   "execution_count": 6,
   "metadata": {},
   "outputs": [
    {
     "data": {
      "text/plain": [
       "1960       1\n",
       "1980      21\n",
       "1990     846\n",
       "2000    1730\n",
       "2010     503\n",
       "Name: year_manufactured, dtype: int64"
      ]
     },
     "execution_count": 6,
     "metadata": {},
     "output_type": "execute_result"
    }
   ],
   "source": [
    "# For \"Pacer\" fire hydrants...\n",
    "#  - Convert each year to a decade (e.g. 1983 --> 1980) using the   // 10 * 10   trick\n",
    "#  - Convert each decade to an int using 'astype'\n",
    "#  - Count up the number of each decade using 'value_counts'\n",
    "#  - Sort based on the decade\n",
    "# Save to a variable called pacer_decades\n",
    "pacer_decades = (pacer_years // 10 * 10).astype(int).value_counts().sort_index()\n",
    "pacer_decades"
   ]
  },
  {
   "cell_type": "code",
   "execution_count": 7,
   "metadata": {},
   "outputs": [
    {
     "data": {
      "text/plain": [
       "1900       1\n",
       "1930       9\n",
       "1940      68\n",
       "1950     371\n",
       "1960     349\n",
       "1970     578\n",
       "1980     937\n",
       "1990     431\n",
       "2000     215\n",
       "2010    1196\n",
       "Name: year_manufactured, dtype: int64"
      ]
     },
     "execution_count": 7,
     "metadata": {},
     "output_type": "execute_result"
    }
   ],
   "source": [
    "# Do the same for all other hydrants. Save to a variable called other_decades\n",
    "other_decades = (other_years // 10 * 10).astype(int).value_counts().sort_index()\n",
    "other_decades"
   ]
  },
  {
   "cell_type": "code",
   "execution_count": 8,
   "metadata": {},
   "outputs": [
    {
     "data": {
      "text/html": [
       "<div>\n",
       "<style scoped>\n",
       "    .dataframe tbody tr th:only-of-type {\n",
       "        vertical-align: middle;\n",
       "    }\n",
       "\n",
       "    .dataframe tbody tr th {\n",
       "        vertical-align: top;\n",
       "    }\n",
       "\n",
       "    .dataframe thead th {\n",
       "        text-align: right;\n",
       "    }\n",
       "</style>\n",
       "<table border=\"1\" class=\"dataframe\">\n",
       "  <thead>\n",
       "    <tr style=\"text-align: right;\">\n",
       "      <th></th>\n",
       "      <th>pacer</th>\n",
       "      <th>other</th>\n",
       "    </tr>\n",
       "  </thead>\n",
       "  <tbody>\n",
       "    <tr>\n",
       "      <th>1900</th>\n",
       "      <td>NaN</td>\n",
       "      <td>1</td>\n",
       "    </tr>\n",
       "    <tr>\n",
       "      <th>1930</th>\n",
       "      <td>NaN</td>\n",
       "      <td>9</td>\n",
       "    </tr>\n",
       "    <tr>\n",
       "      <th>1940</th>\n",
       "      <td>NaN</td>\n",
       "      <td>68</td>\n",
       "    </tr>\n",
       "    <tr>\n",
       "      <th>1950</th>\n",
       "      <td>NaN</td>\n",
       "      <td>371</td>\n",
       "    </tr>\n",
       "    <tr>\n",
       "      <th>1960</th>\n",
       "      <td>1.0</td>\n",
       "      <td>349</td>\n",
       "    </tr>\n",
       "    <tr>\n",
       "      <th>1970</th>\n",
       "      <td>NaN</td>\n",
       "      <td>578</td>\n",
       "    </tr>\n",
       "    <tr>\n",
       "      <th>1980</th>\n",
       "      <td>21.0</td>\n",
       "      <td>937</td>\n",
       "    </tr>\n",
       "    <tr>\n",
       "      <th>1990</th>\n",
       "      <td>846.0</td>\n",
       "      <td>431</td>\n",
       "    </tr>\n",
       "    <tr>\n",
       "      <th>2000</th>\n",
       "      <td>1730.0</td>\n",
       "      <td>215</td>\n",
       "    </tr>\n",
       "    <tr>\n",
       "      <th>2010</th>\n",
       "      <td>503.0</td>\n",
       "      <td>1196</td>\n",
       "    </tr>\n",
       "  </tbody>\n",
       "</table>\n",
       "</div>"
      ],
      "text/plain": [
       "       pacer  other\n",
       "1900     NaN      1\n",
       "1930     NaN      9\n",
       "1940     NaN     68\n",
       "1950     NaN    371\n",
       "1960     1.0    349\n",
       "1970     NaN    578\n",
       "1980    21.0    937\n",
       "1990   846.0    431\n",
       "2000  1730.0    215\n",
       "2010   503.0   1196"
      ]
     },
     "execution_count": 8,
     "metadata": {},
     "output_type": "execute_result"
    }
   ],
   "source": [
    "# Make a DataFrame out of these two Series.\n",
    "# What is the index? What are the values?\n",
    "# Index: Decade\n",
    "# Values: pacer hydrants made in that decade\n",
    "#         other hydrants made in that decade\n",
    "style_df = pd.DataFrame({\n",
    "    \"pacer\": pacer_decades,\n",
    "    \"other\": other_decades,\n",
    "})\n",
    "style_df"
   ]
  },
  {
   "cell_type": "code",
   "execution_count": 9,
   "metadata": {},
   "outputs": [
    {
     "data": {
      "text/plain": [
       "Text(0, 0.5, 'Hydrant Count')"
      ]
     },
     "execution_count": 9,
     "metadata": {},
     "output_type": "execute_result"
    },
    {
     "data": {
      "image/png": "[encoded data removed]",
      "text/plain": [
       "<Figure size 432x288 with 1 Axes>"
      ]
     },
     "metadata": {
      "needs_background": "light"
     },
     "output_type": "display_data"
    }
   ],
   "source": [
    "# Visualize with a bar plot.\n",
    "ax = style_df.plot.bar()\n",
    "ax.set_xlabel(\"Decade\")\n",
    "ax.set_ylabel(\"Hydrant Count\")"
   ]
  },
  {
   "cell_type": "code",
   "execution_count": 10,
   "metadata": {},
   "outputs": [
    {
     "data": {
      "text/plain": [
       "Text(0, 0.5, 'Hydrant Count')"
      ]
     },
     "execution_count": 10,
     "metadata": {},
     "output_type": "execute_result"
    },
    {
     "data": {
      "image/png": "[encoded data removed]",
      "text/plain": [
       "<Figure size 432x288 with 1 Axes>"
      ]
     },
     "metadata": {
      "needs_background": "light"
     },
     "output_type": "display_data"
    }
   ],
   "source": [
    "# Visualize since only 1950\n",
    "ax = style_df[style_df.index >= 1950].plot.bar()\n",
    "ax.set_xlabel(\"Decade\")\n",
    "ax.set_ylabel(\"Hydrant Count\")"
   ]
  },
  {
   "cell_type": "code",
   "execution_count": 11,
   "metadata": {},
   "outputs": [
    {
     "data": {
      "image/png": "[encoded data removed]",
      "text/plain": [
       "<Figure size 432x288 with 1 Axes>"
      ]
     },
     "metadata": {
      "needs_background": "light"
     },
     "output_type": "display_data"
    }
   ],
   "source": [
    "# Stack the bar plots rather than making them appear side-by-side.\n",
    "ax = style_df[style_df.index >= 1950].plot.bar(stacked = True)\n",
    "ax.set_xlabel(\"Decade\")\n",
    "ax.set_ylabel(\"Hydrant Count\")\n",
    "None"
   ]
  },
  {
   "cell_type": "markdown",
   "metadata": {},
   "source": [
    "# Plotting 4\n",
    "- setting axes limits\n",
    "- logarithms\n",
    "- multiple plots within same figure"
   ]
  },
  {
   "cell_type": "markdown",
   "metadata": {},
   "source": [
    "IRIS dataset: http://archive.ics.uci.edu/ml/datasets/iris"
   ]
  },
  {
   "cell_type": "code",
   "execution_count": 12,
   "metadata": {},
   "outputs": [
    {
     "data": {
      "text/html": [
       "<div>\n",
       "<style scoped>\n",
       "    .dataframe tbody tr th:only-of-type {\n",
       "        vertical-align: middle;\n",
       "    }\n",
       "\n",
       "    .dataframe tbody tr th {\n",
       "        vertical-align: top;\n",
       "    }\n",
       "\n",
       "    .dataframe thead th {\n",
       "        text-align: right;\n",
       "    }\n",
       "</style>\n",
       "<table border=\"1\" class=\"dataframe\">\n",
       "  <thead>\n",
       "    <tr style=\"text-align: right;\">\n",
       "      <th></th>\n",
       "      <th>sep-len</th>\n",
       "      <th>sep-wid</th>\n",
       "      <th>pet-len</th>\n",
       "      <th>pet-wid</th>\n",
       "      <th>class</th>\n",
       "    </tr>\n",
       "  </thead>\n",
       "  <tbody>\n",
       "    <tr>\n",
       "      <th>0</th>\n",
       "      <td>5.1</td>\n",
       "      <td>3.5</td>\n",
       "      <td>1.4</td>\n",
       "      <td>0.2</td>\n",
       "      <td>Iris-setosa</td>\n",
       "    </tr>\n",
       "    <tr>\n",
       "      <th>1</th>\n",
       "      <td>4.9</td>\n",
       "      <td>3.0</td>\n",
       "      <td>1.4</td>\n",
       "      <td>0.2</td>\n",
       "      <td>Iris-setosa</td>\n",
       "    </tr>\n",
       "    <tr>\n",
       "      <th>2</th>\n",
       "      <td>4.7</td>\n",
       "      <td>3.2</td>\n",
       "      <td>1.3</td>\n",
       "      <td>0.2</td>\n",
       "      <td>Iris-setosa</td>\n",
       "    </tr>\n",
       "    <tr>\n",
       "      <th>3</th>\n",
       "      <td>4.6</td>\n",
       "      <td>3.1</td>\n",
       "      <td>1.5</td>\n",
       "      <td>0.2</td>\n",
       "      <td>Iris-setosa</td>\n",
       "    </tr>\n",
       "    <tr>\n",
       "      <th>4</th>\n",
       "      <td>5.0</td>\n",
       "      <td>3.6</td>\n",
       "      <td>1.4</td>\n",
       "      <td>0.2</td>\n",
       "      <td>Iris-setosa</td>\n",
       "    </tr>\n",
       "  </tbody>\n",
       "</table>\n",
       "</div>"
      ],
      "text/plain": [
       "   sep-len  sep-wid  pet-len  pet-wid        class\n",
       "0      5.1      3.5      1.4      0.2  Iris-setosa\n",
       "1      4.9      3.0      1.4      0.2  Iris-setosa\n",
       "2      4.7      3.2      1.3      0.2  Iris-setosa\n",
       "3      4.6      3.1      1.5      0.2  Iris-setosa\n",
       "4      5.0      3.6      1.4      0.2  Iris-setosa"
      ]
     },
     "execution_count": 12,
     "metadata": {},
     "output_type": "execute_result"
    }
   ],
   "source": [
    "# Gather the data.\n",
    "resp = requests.get(\"https://archive.ics.uci.edu/ml/machine-learning-databases/iris/iris.data\")\n",
    "resp.raise_for_status()\n",
    "\n",
    "iris_f = open(\"iris.csv\", \"w\")\n",
    "iris_f.write(resp.text)\n",
    "iris_f.close()\n",
    "\n",
    "iris_df = pd.read_csv(\"iris.csv\",\n",
    "                 names = [\"sep-len\", \"sep-wid\", \"pet-len\", \"pet-wid\", \"class\"])\n",
    "iris_df.head()"
   ]
  },
  {
   "cell_type": "code",
   "execution_count": 13,
   "metadata": {},
   "outputs": [
    {
     "data": {
      "text/plain": [
       "['Iris-virginica', 'Iris-setosa', 'Iris-versicolor']"
      ]
     },
     "execution_count": 13,
     "metadata": {},
     "output_type": "execute_result"
    }
   ],
   "source": [
    "# Save all the unique classes to a variable called \"varieties\"\n",
    "varieties = list(set(iris_df[\"class\"]))\n",
    "varieties"
   ]
  },
  {
   "cell_type": "code",
   "execution_count": 14,
   "metadata": {},
   "outputs": [
    {
     "data": {
      "text/html": [
       "<div>\n",
       "<style scoped>\n",
       "    .dataframe tbody tr th:only-of-type {\n",
       "        vertical-align: middle;\n",
       "    }\n",
       "\n",
       "    .dataframe tbody tr th {\n",
       "        vertical-align: top;\n",
       "    }\n",
       "\n",
       "    .dataframe thead th {\n",
       "        text-align: right;\n",
       "    }\n",
       "</style>\n",
       "<table border=\"1\" class=\"dataframe\">\n",
       "  <thead>\n",
       "    <tr style=\"text-align: right;\">\n",
       "      <th></th>\n",
       "      <th>sep-len</th>\n",
       "      <th>sep-wid</th>\n",
       "      <th>pet-len</th>\n",
       "      <th>pet-wid</th>\n",
       "      <th>class</th>\n",
       "    </tr>\n",
       "  </thead>\n",
       "  <tbody>\n",
       "    <tr>\n",
       "      <th>100</th>\n",
       "      <td>6.3</td>\n",
       "      <td>3.3</td>\n",
       "      <td>6.0</td>\n",
       "      <td>2.5</td>\n",
       "      <td>Iris-virginica</td>\n",
       "    </tr>\n",
       "    <tr>\n",
       "      <th>101</th>\n",
       "      <td>5.8</td>\n",
       "      <td>2.7</td>\n",
       "      <td>5.1</td>\n",
       "      <td>1.9</td>\n",
       "      <td>Iris-virginica</td>\n",
       "    </tr>\n",
       "    <tr>\n",
       "      <th>102</th>\n",
       "      <td>7.1</td>\n",
       "      <td>3.0</td>\n",
       "      <td>5.9</td>\n",
       "      <td>2.1</td>\n",
       "      <td>Iris-virginica</td>\n",
       "    </tr>\n",
       "    <tr>\n",
       "      <th>103</th>\n",
       "      <td>6.3</td>\n",
       "      <td>2.9</td>\n",
       "      <td>5.6</td>\n",
       "      <td>1.8</td>\n",
       "      <td>Iris-virginica</td>\n",
       "    </tr>\n",
       "    <tr>\n",
       "      <th>104</th>\n",
       "      <td>6.5</td>\n",
       "      <td>3.0</td>\n",
       "      <td>5.8</td>\n",
       "      <td>2.2</td>\n",
       "      <td>Iris-virginica</td>\n",
       "    </tr>\n",
       "  </tbody>\n",
       "</table>\n",
       "</div>"
      ],
      "text/plain": [
       "     sep-len  sep-wid  pet-len  pet-wid           class\n",
       "100      6.3      3.3      6.0      2.5  Iris-virginica\n",
       "101      5.8      2.7      5.1      1.9  Iris-virginica\n",
       "102      7.1      3.0      5.9      2.1  Iris-virginica\n",
       "103      6.3      2.9      5.6      1.8  Iris-virginica\n",
       "104      6.5      3.0      5.8      2.2  Iris-virginica"
      ]
     },
     "execution_count": 14,
     "metadata": {},
     "output_type": "execute_result"
    }
   ],
   "source": [
    "# Save just the data on \"Iris-virginica\" to a variable called \"virginica_df\"\n",
    "virginica_df = iris_df[iris_df[\"class\"] == \"Iris-virginica\"]\n",
    "virginica_df.head()"
   ]
  },
  {
   "cell_type": "code",
   "execution_count": 15,
   "metadata": {},
   "outputs": [
    {
     "data": {
      "text/plain": [
       "<AxesSubplot:xlabel='pet-wid', ylabel='pet-len'>"
      ]
     },
     "execution_count": 15,
     "metadata": {},
     "output_type": "execute_result"
    },
    {
     "data": {
      "image/png": "[encoded data removed]",
      "text/plain": [
       "<Figure size 432x288 with 1 Axes>"
      ]
     },
     "metadata": {
      "needs_background": "light"
     },
     "output_type": "display_data"
    }
   ],
   "source": [
    "# Plot the petal width vs petal length for Iris-virginica on a scatter plot\n",
    "virginica_df.plot.scatter(x = \"pet-wid\", y = \"pet-len\")"
   ]
  },
  {
   "cell_type": "markdown",
   "metadata": {},
   "source": [
    "### Let's continue learning about *xlim* and *ylim*\n",
    "- Allows us to set x-axis and y-axis limits\n",
    "- Takes either a single value (LOWER-BOUND) or a tuple containing two values (LOWER-BOUND, UPPER-BOUND)\n",
    "- You need to be careful about setting the bounds"
   ]
  },
  {
   "cell_type": "code",
   "execution_count": 16,
   "metadata": {},
   "outputs": [
    {
     "data": {
      "text/plain": [
       "<AxesSubplot:xlabel='pet-wid', ylabel='pet-len'>"
      ]
     },
     "execution_count": 16,
     "metadata": {},
     "output_type": "execute_result"
    },
    {
     "data": {
      "image/png": "[encoded data removed]",
      "text/plain": [
       "<Figure size 432x288 with 1 Axes>"
      ]
     },
     "metadata": {
      "needs_background": "light"
     },
     "output_type": "display_data"
    }
   ],
   "source": [
    "virginica_df.plot.scatter(x = \"pet-wid\", y = \"pet-len\", xlim = 0, ylim = 0)"
   ]
  },
  {
   "cell_type": "code",
   "execution_count": 17,
   "metadata": {},
   "outputs": [
    {
     "data": {
      "image/png": "[encoded data removed]",
      "text/plain": [
       "<Figure size 216x216 with 1 Axes>"
      ]
     },
     "metadata": {
      "needs_background": "light"
     },
     "output_type": "display_data"
    }
   ],
   "source": [
    "ax = virginica_df.plot.scatter(x = \"pet-wid\", y = \"pet-len\",\n",
    "                    xlim = (0, 6), ylim = (0, 6),\n",
    "                    figsize = (3, 3))"
   ]
  },
  {
   "cell_type": "markdown",
   "metadata": {},
   "source": [
    "What's wrong with the above plot?"
   ]
  },
  {
   "cell_type": "code",
   "execution_count": 18,
   "metadata": {},
   "outputs": [
    {
     "data": {
      "text/plain": [
       "6.9"
      ]
     },
     "execution_count": 18,
     "metadata": {},
     "output_type": "execute_result"
    }
   ],
   "source": [
    "virginica_df[\"pet-len\"].max()"
   ]
  },
  {
   "cell_type": "code",
   "execution_count": 19,
   "metadata": {},
   "outputs": [
    {
     "data": {
      "text/plain": [
       "(0.0, 6.0)"
      ]
     },
     "execution_count": 19,
     "metadata": {},
     "output_type": "execute_result"
    }
   ],
   "source": [
    "ax.get_ylim()"
   ]
  },
  {
   "cell_type": "code",
   "execution_count": 20,
   "metadata": {},
   "outputs": [
    {
     "ename": "AssertionError",
     "evalue": "",
     "output_type": "error",
     "traceback": [
      "\u001b[1;31m---------------------------------------------------------------------------\u001b[0m",
      "\u001b[1;31mAssertionError\u001b[0m                            Traceback (most recent call last)",
      "\u001b[1;32mC:\\Users\\COLENE~1\\AppData\\Local\\Temp/ipykernel_11372/2059761570.py\u001b[0m in \u001b[0;36m<module>\u001b[1;34m\u001b[0m\n\u001b[0;32m      3\u001b[0m                      \u001b[0mxlim\u001b[0m \u001b[1;33m=\u001b[0m \u001b[1;33m(\u001b[0m\u001b[1;36m0\u001b[0m\u001b[1;33m,\u001b[0m \u001b[1;36m6\u001b[0m\u001b[1;33m)\u001b[0m\u001b[1;33m,\u001b[0m \u001b[0mylim\u001b[0m \u001b[1;33m=\u001b[0m \u001b[1;33m(\u001b[0m\u001b[1;36m0\u001b[0m\u001b[1;33m,\u001b[0m \u001b[1;36m6\u001b[0m\u001b[1;33m)\u001b[0m\u001b[1;33m,\u001b[0m\u001b[1;33m\u001b[0m\u001b[1;33m\u001b[0m\u001b[0m\n\u001b[0;32m      4\u001b[0m                      figsize = (3, 3))\n\u001b[1;32m----> 5\u001b[1;33m \u001b[1;32massert\u001b[0m \u001b[0mvirginica_df\u001b[0m\u001b[1;33m[\u001b[0m\u001b[1;34m\"pet-len\"\u001b[0m\u001b[1;33m]\u001b[0m\u001b[1;33m.\u001b[0m\u001b[0mmax\u001b[0m\u001b[1;33m(\u001b[0m\u001b[1;33m)\u001b[0m \u001b[1;33m<=\u001b[0m \u001b[0max\u001b[0m\u001b[1;33m.\u001b[0m\u001b[0mget_ylim\u001b[0m\u001b[1;33m(\u001b[0m\u001b[1;33m)\u001b[0m\u001b[1;33m[\u001b[0m\u001b[1;36m1\u001b[0m\u001b[1;33m]\u001b[0m\u001b[1;33m\u001b[0m\u001b[1;33m\u001b[0m\u001b[0m\n\u001b[0m",
      "\u001b[1;31mAssertionError\u001b[0m: "
     ]
    },
    {
     "data": {
      "image/png": "[encoded data removed]",
      "text/plain": [
       "<Figure size 216x216 with 1 Axes>"
      ]
     },
     "metadata": {
      "needs_background": "light"
     },
     "output_type": "display_data"
    }
   ],
   "source": [
    "# Let's include assert statements to make sure we don't crop the plot!\n",
    "ax = virginica_df.plot.scatter(x = \"pet-wid\", y = \"pet-len\",\n",
    "                     xlim = (0, 6), ylim = (0, 6),\n",
    "                     figsize = (3, 3))\n",
    "assert virginica_df[\"pet-len\"].max() <= ax.get_ylim()[1]"
   ]
  },
  {
   "cell_type": "code",
   "execution_count": 21,
   "metadata": {},
   "outputs": [
    {
     "data": {
      "image/png": "[encoded data removed]",
      "text/plain": [
       "<Figure size 216x216 with 1 Axes>"
      ]
     },
     "metadata": {
      "needs_background": "light"
     },
     "output_type": "display_data"
    }
   ],
   "source": [
    "# Asserting ALL the data is within the picture.\n",
    "ax = virginica_df.plot.scatter(x = \"pet-wid\", y = \"pet-len\",\n",
    "                     xlim = (0, 7), ylim = (0, 7),\n",
    "                     figsize = (3, 3))\n",
    "assert virginica_df[ax.get_xlabel()].min() >= ax.get_xlim()[0]\n",
    "assert virginica_df[ax.get_xlabel()].max() <= ax.get_xlim()[1]\n",
    "assert virginica_df[ax.get_ylabel()].min() >= ax.get_ylim()[0]\n",
    "assert virginica_df[ax.get_ylabel()].max() <= ax.get_ylim()[1]"
   ]
  },
  {
   "cell_type": "markdown",
   "metadata": {},
   "source": [
    "### Logarithmic scale\n",
    "- math.log(y, base)\n",
    "- find an x, such that 10**x == y\n",
    "    - math.log10(y)"
   ]
  },
  {
   "cell_type": "markdown",
   "metadata": {},
   "source": [
    "https://ourworldindata.org/grapher/population"
   ]
  },
  {
   "cell_type": "code",
   "execution_count": 22,
   "metadata": {},
   "outputs": [],
   "source": [
    "# math.log10(1000) # == 3\n",
    "# math.log10(1000000) # == 6\n",
    "\n",
    "# math.log(32, 2) # == 5\n",
    "# math.log(256, 4) # == 4"
   ]
  },
  {
   "cell_type": "code",
   "execution_count": 23,
   "metadata": {},
   "outputs": [],
   "source": [
    "populations = pd.Series({\n",
    "        \"China\":1439323776,\n",
    "        \"India\": 1380004385,\n",
    "        \"Mexico\": 128932753,\n",
    "        \"Senegal\":16743927,\n",
    "        \"Bahrain\":1701575,\n",
    "        \"Grenada\":112523,\n",
    "        \"Tuvalu\": 11792\n",
    "})"
   ]
  },
  {
   "cell_type": "code",
   "execution_count": 24,
   "metadata": {},
   "outputs": [
    {
     "data": {
      "text/plain": [
       "<AxesSubplot:>"
      ]
     },
     "execution_count": 24,
     "metadata": {},
     "output_type": "execute_result"
    },
    {
     "data": {
      "image/png": "[encoded data removed]",
      "text/plain": [
       "<Figure size 432x288 with 1 Axes>"
      ]
     },
     "metadata": {
      "needs_background": "light"
     },
     "output_type": "display_data"
    }
   ],
   "source": [
    "# Plot these populations as a bar chart\n",
    "populations.plot.bar()"
   ]
  },
  {
   "cell_type": "code",
   "execution_count": 25,
   "metadata": {},
   "outputs": [
    {
     "data": {
      "text/plain": [
       "<AxesSubplot:>"
      ]
     },
     "execution_count": 25,
     "metadata": {},
     "output_type": "execute_result"
    },
    {
     "data": {
      "image/png": "[encoded data removed]",
      "text/plain": [
       "<Figure size 432x288 with 1 Axes>"
      ]
     },
     "metadata": {
      "needs_background": "light"
     },
     "output_type": "display_data"
    }
   ],
   "source": [
    "# Now plot on a logarithmic scale\n",
    "populations.plot.bar(logy=True)"
   ]
  },
  {
   "cell_type": "markdown",
   "metadata": {},
   "source": [
    "### Multiple *axessubplots* in the same plot"
   ]
  },
  {
   "cell_type": "code",
   "execution_count": 26,
   "metadata": {},
   "outputs": [
    {
     "data": {
      "text/plain": [
       "(<Figure size 432x288 with 1 Axes>, <AxesSubplot:>)"
      ]
     },
     "execution_count": 26,
     "metadata": {},
     "output_type": "execute_result"
    },
    {
     "data": {
      "image/png": "[encoded data removed]",
      "text/plain": [
       "<Figure size 432x288 with 1 Axes>"
      ]
     },
     "metadata": {
      "needs_background": "light"
     },
     "output_type": "display_data"
    }
   ],
   "source": [
    "plt.subplots()"
   ]
  },
  {
   "cell_type": "code",
   "execution_count": 27,
   "metadata": {},
   "outputs": [
    {
     "data": {
      "text/plain": [
       "(<Figure size 432x288 with 2 Axes>,\n",
       " array([<AxesSubplot:>, <AxesSubplot:>], dtype=object))"
      ]
     },
     "execution_count": 27,
     "metadata": {},
     "output_type": "execute_result"
    },
    {
     "data": {
      "image/png": "[encoded data removed]",
      "text/plain": [
       "<Figure size 432x288 with 2 Axes>"
      ]
     },
     "metadata": {
      "needs_background": "light"
     },
     "output_type": "display_data"
    }
   ],
   "source": [
    "plt.subplots(ncols = 2)"
   ]
  },
  {
   "cell_type": "code",
   "execution_count": 28,
   "metadata": {},
   "outputs": [
    {
     "data": {
      "text/plain": [
       "(<Figure size 432x288 with 2 Axes>,\n",
       " array([<AxesSubplot:>, <AxesSubplot:>], dtype=object))"
      ]
     },
     "execution_count": 28,
     "metadata": {},
     "output_type": "execute_result"
    },
    {
     "data": {
      "image/png": "[encoded data removed]",
      "text/plain": [
       "<Figure size 432x288 with 2 Axes>"
      ]
     },
     "metadata": {
      "needs_background": "light"
     },
     "output_type": "display_data"
    }
   ],
   "source": [
    "plt.subplots(nrows = 2)"
   ]
  },
  {
   "cell_type": "code",
   "execution_count": 29,
   "metadata": {},
   "outputs": [
    {
     "data": {
      "text/plain": [
       "(<Figure size 432x288 with 6 Axes>,\n",
       " array([[<AxesSubplot:>, <AxesSubplot:>],\n",
       "        [<AxesSubplot:>, <AxesSubplot:>],\n",
       "        [<AxesSubplot:>, <AxesSubplot:>]], dtype=object))"
      ]
     },
     "execution_count": 29,
     "metadata": {},
     "output_type": "execute_result"
    },
    {
     "data": {
      "image/png": "[encoded data removed]",
      "text/plain": [
       "<Figure size 432x288 with 6 Axes>"
      ]
     },
     "metadata": {
      "needs_background": "light"
     },
     "output_type": "display_data"
    }
   ],
   "source": [
    "plt.subplots(ncols = 2, nrows = 3)"
   ]
  },
  {
   "cell_type": "code",
   "execution_count": 30,
   "metadata": {},
   "outputs": [
    {
     "data": {
      "text/plain": [
       "<AxesSubplot:>"
      ]
     },
     "execution_count": 30,
     "metadata": {},
     "output_type": "execute_result"
    },
    {
     "data": {
      "image/png": "[encoded data removed]",
      "text/plain": [
       "<Figure size 432x288 with 2 Axes>"
      ]
     },
     "metadata": {
      "needs_background": "light"
     },
     "output_type": "display_data"
    }
   ],
   "source": [
    "# What's the issue with the graph below?\n",
    "# It's decieving! They look the same, but they actually\n",
    "# have very different y-values.\n",
    "fig, axes = plt.subplots(ncols = 2)\n",
    "# axes[0] # the area on the left\n",
    "# axes[1] # the area on the right\n",
    "pd.Series([1, 2, 3, 3, 4]).plot.line(ax = axes[0])\n",
    "pd.Series([5, 7, 7, 8]).plot.line(ax = axes[1])"
   ]
  },
  {
   "cell_type": "code",
   "execution_count": 31,
   "metadata": {},
   "outputs": [
    {
     "data": {
      "text/plain": [
       "<AxesSubplot:>"
      ]
     },
     "execution_count": 31,
     "metadata": {},
     "output_type": "execute_result"
    },
    {
     "data": {
      "image/png": "[encoded data removed]",
      "text/plain": [
       "<Figure size 432x288 with 2 Axes>"
      ]
     },
     "metadata": {
      "needs_background": "light"
     },
     "output_type": "display_data"
    }
   ],
   "source": [
    "# How can we fix that?\n",
    "fig, axes = plt.subplots(ncols = 2, sharey = True)\n",
    "# axes[0] # the area on the left\n",
    "# axes[1] # the area on the right\n",
    "pd.Series([1, 2, 3, 3, 4]).plot.line(ax = axes[0])\n",
    "pd.Series([5, 7, 7, 8]).plot.line(ax = axes[1])"
   ]
  },
  {
   "cell_type": "code",
   "execution_count": 32,
   "metadata": {},
   "outputs": [
    {
     "data": {
      "image/png": "[encoded data removed]",
      "text/plain": [
       "<Figure size 864x216 with 3 Axes>"
      ]
     },
     "metadata": {
      "needs_background": "light"
     },
     "output_type": "display_data"
    }
   ],
   "source": [
    "# Plot the sepal length vs the sepal width for each of the classes of flowers.\n",
    "colors=[\"r\", \"g\", \"b\"]\n",
    "markers=[\".\", \"^\", \"v\"]\n",
    "fig, axes = plt.subplots(ncols = 3, sharex = True, sharey = True, figsize=(12,3))\n",
    "for i in range(len(varieties)):\n",
    "    variety = varieties[i]\n",
    "    specific_iris_data = iris_df[iris_df[\"class\"] == variety]\n",
    "    specific_iris_data.plot.scatter(x=\"sep-len\", y='sep-wid', \\\n",
    "                                    ax=axes[i], color=colors[i], marker=markers[i])\n"
   ]
  },
  {
   "cell_type": "code",
   "execution_count": 33,
   "metadata": {},
   "outputs": [
    {
     "data": {
      "image/png": "[encoded data removed]",
      "text/plain": [
       "<Figure size 648x648 with 12 Axes>"
      ]
     },
     "metadata": {
      "needs_background": "light"
     },
     "output_type": "display_data"
    }
   ],
   "source": [
    "# Bonus: Plot the distribution of the sepal/petal length/width on a 4x3 grid.\n",
    "#        This is not content covered by the exam. It shows how useful subplots can be.\n",
    "\n",
    "colors=[\"r\", \"g\", \"b\"]\n",
    "fig, axes = plt.subplots(ncols = 3, nrows = 4, sharex = True, sharey = True, figsize=(9,9))\n",
    "for i in range(len(varieties)):\n",
    "    variety = varieties[i]\n",
    "    specific_iris_data = iris_df[iris_df[\"class\"] == variety]\n",
    "    specific_iris_data.plot.hist(x=\"class\", y='sep-wid', \\\n",
    "                                    ax=axes[0][i], color=colors[i])\n",
    "    \n",
    "    specific_iris_data.plot.hist(x=\"class\", y='sep-len', \\\n",
    "                                    ax=axes[1][i], color=colors[i])\n",
    "    \n",
    "    specific_iris_data.plot.hist(x=\"class\", y='pet-wid', \\\n",
    "                                    ax=axes[2][i], color=colors[i])\n",
    "    \n",
    "    specific_iris_data.plot.hist(x=\"class\", y='pet-len', \\\n",
    "                                    ax=axes[3][i], color=colors[i])\n",
    "    \n",
    "    # Set x label at bottom to be the variety.\n",
    "    axes[-1][i].set_xlabel(variety)\n"
   ]
  },
  {
   "cell_type": "code",
   "execution_count": null,
   "metadata": {},
   "outputs": [],
   "source": []
  }
 ],
 "metadata": {
  "kernelspec": {
   "display_name": "Python 3 (ipykernel)",
   "language": "python",
   "name": "python3"
  },
  "language_info": {
   "codemirror_mode": {
    "name": "ipython",
    "version": 3
   },
   "file_extension": ".py",
   "mimetype": "text/x-python",
   "name": "python",
   "nbconvert_exporter": "python",
   "pygments_lexer": "ipython3",
   "version": "3.9.7"
  }
 },
 "nbformat": 4,
 "nbformat_minor": 2
}

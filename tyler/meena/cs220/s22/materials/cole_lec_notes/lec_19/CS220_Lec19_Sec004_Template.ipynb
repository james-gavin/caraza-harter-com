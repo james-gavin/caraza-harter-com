{
 "cells": [
  {
   "cell_type": "code",
   "execution_count": null,
   "metadata": {},
   "outputs": [],
   "source": [
    "import csv\n",
    "import json # today's topic!"
   ]
  },
  {
   "cell_type": "code",
   "execution_count": null,
   "metadata": {},
   "outputs": [],
   "source": [
    "# Warmup 0: Recall how to read in the csv data.\n",
    "\n",
    "# source:  Automate the Boring Stuff with Python\n",
    "def process_csv(filename):\n",
    "    exampleFile = open(filename, encoding=\"utf-8\")  \n",
    "    exampleReader = csv.reader(exampleFile) \n",
    "    exampleData = list(exampleReader)        \n",
    "    exampleFile.close()  \n",
    "    return exampleData\n",
    "\n",
    "survey_data = ???\n",
    "header = ???\n",
    "rows = ???"
   ]
  },
  {
   "cell_type": "code",
   "execution_count": null,
   "metadata": {},
   "outputs": [],
   "source": [
    "# Warmup 1: Complete the cell function\n",
    "def cell(row_idx, col_name):\n",
    "    col_idx = ???\n",
    "    val = ???\n",
    "    if val == \"\":\n",
    "        return None\n",
    "    elif col_name in [\"Age\"]:  # used 'in' to allow for easy modification\n",
    "        return int(val)\n",
    "    else:\n",
    "        return val\n",
    "    \n",
    "cell(3, 'Pizza topping')"
   ]
  },
  {
   "cell_type": "code",
   "execution_count": null,
   "metadata": {},
   "outputs": [],
   "source": [
    "# Warmup 2: Put survey_data into buckets by lecture\n",
    "# Make a dictionary of lists\n",
    "#   Key is the lecture\n",
    "#   Value is the list of students\n",
    "\n",
    "lecture_dict = {}\n",
    "for i in range(len(rows)):\n",
    "    current_student = rows[i]\n",
    "    current_lecture = cell(i, 'Lecture')\n",
    "    ???\n",
    "lecture_dict"
   ]
  },
  {
   "cell_type": "code",
   "execution_count": null,
   "metadata": {},
   "outputs": [],
   "source": [
    "# Warmup 3: Find the average, min, and max age for our lecture (LEC004)\n",
    "\n",
    "people_age = []\n",
    "for person in lecture_dict[\"LEC004\"]:\n",
    "    ???"
   ]
  },
  {
   "cell_type": "code",
   "execution_count": null,
   "metadata": {},
   "outputs": [],
   "source": [
    "# Warmup 4: Make a dictionary of each lecture's average age\n",
    "# The key is the lecture name\n",
    "# The value is the average age\n",
    "\n",
    "lec_age_dict = {}\n",
    "for lec in lecture_dict:\n",
    "    ???"
   ]
  },
  {
   "cell_type": "code",
   "execution_count": null,
   "metadata": {},
   "outputs": [],
   "source": [
    "# Warmup 5: Same thing as before except...\n",
    "# The key is the lecture name\n",
    "# The value is a dictionary (nested dictionary!)\n",
    "#  ... with keys 'avg', 'min', and 'max'\n",
    "\n",
    "lec_age_dict = {}\n",
    "for lec in lecture_dict:\n",
    "    ???"
   ]
  },
  {
   "cell_type": "markdown",
   "metadata": {},
   "source": [
    "# CS220: Lecture 19\n",
    "\n",
    "\n",
    "## Learning Objectives\n",
    "After this lecture you will be able to...\n",
    "- Interpret JSON formatted data and recognize differences between JSON and Python\n",
    "- Deserialize data from JSON for use in Python programs (read)\n",
    "- Serialize data into JSON for long term storage (write) "
   ]
  },
  {
   "cell_type": "code",
   "execution_count": null,
   "metadata": {},
   "outputs": [],
   "source": [
    "# We will be looking at lecture slides to understand JSON"
   ]
  },
  {
   "cell_type": "code",
   "execution_count": null,
   "metadata": {},
   "outputs": [],
   "source": [
    "\n",
    "# Deserialize\n",
    "def read_json(path):\n",
    "    with open(path, encoding=\"utf-8\") as f: # f is a variable \n",
    "        return json.load(f)                 # f represents a reference the JSON file\n",
    "    \n",
    "# Serialize\n",
    "def write_json(path, data):\n",
    "    with open(path, 'w', encoding=\"utf-8\") as f:\n",
    "        json.dump(data, f, indent=2)"
   ]
  },
  {
   "cell_type": "code",
   "execution_count": null,
   "metadata": {},
   "outputs": [],
   "source": [
    "# first, let's take a look at the file score_history.json"
   ]
  },
  {
   "cell_type": "code",
   "execution_count": null,
   "metadata": {},
   "outputs": [],
   "source": [
    "# now let's read it in and investigate the data\n",
    "scores_dict = read_json('score_history.json')\n",
    "# print(type(scores_dict))\n",
    "# print(scores_dict.keys())\n",
    "# print(scores_dict['bob'])\n",
    "# print(scores_dict)\n",
    "\n",
    "# scores_dict['cole'] = [50.0, 20.0]\n",
    "print(scores_dict)"
   ]
  },
  {
   "cell_type": "code",
   "execution_count": null,
   "metadata": {},
   "outputs": [],
   "source": [
    "# Let's practice writing to a JSON file\n",
    "# when I'm testing code, I like to name my output file differently from my input file\n",
    "# so that I don't accidentally erase or overwrite my data\n",
    "write_json('score_history2.json', scores_dict)  "
   ]
  },
  {
   "cell_type": "markdown",
   "metadata": {},
   "source": [
    "### We can make JSON files in many varied ways\n",
    "### This makes a list of dictionaries"
   ]
  },
  {
   "cell_type": "code",
   "execution_count": null,
   "metadata": {},
   "outputs": [],
   "source": [
    "# Code from last lecture, \n",
    "# reads in the survey data into a list of dicts\n",
    "table_dict_list = []\n",
    "for i in range(len(rows)):\n",
    "    row = rows[i]\n",
    "    row_dict = {}\n",
    "    for item in header: # iterate through each column name\n",
    "        row_dict[item] = row[header.index(item)] # find the value in the row using .index\n",
    "    \n",
    "    # add row_dict to table_dict_list\n",
    "    ???\n",
    "    \n",
    "table_dict_list # what is this? A list of dictionaries"
   ]
  },
  {
   "cell_type": "code",
   "execution_count": null,
   "metadata": {},
   "outputs": [],
   "source": [
    "# Let's write this list of dictionaries into a JSON file\n",
    "write_json('cs220_as_json_list.json', table_dict_list)  "
   ]
  },
  {
   "cell_type": "code",
   "execution_count": null,
   "metadata": {},
   "outputs": [],
   "source": [
    "# Verify:  can you find this file in your directory? "
   ]
  },
  {
   "cell_type": "code",
   "execution_count": null,
   "metadata": {},
   "outputs": [],
   "source": [
    "# let's write our original dictionary of lists - buckets into a JSON file\n",
    "write_json('cs220_as_json_dict.json', lecture_dict)  "
   ]
  },
  {
   "cell_type": "code",
   "execution_count": null,
   "metadata": {},
   "outputs": [],
   "source": [
    "# Verify: can you find this file in your directory? "
   ]
  },
  {
   "cell_type": "markdown",
   "metadata": {},
   "source": [
    "### Many Web Sites have APIs that allow you to get their data\n",
    "### Kiva.com Micro-lending site\n"
   ]
  },
  {
   "cell_type": "code",
   "execution_count": null,
   "metadata": {},
   "outputs": [],
   "source": [
    "# Take a look at kiva.json\n",
    "\n",
    "# read it into a dictionary\n",
    "kiva_dict = read_json('kiva.json')\n",
    "kiva_dict"
   ]
  },
  {
   "cell_type": "code",
   "execution_count": null,
   "metadata": {},
   "outputs": [],
   "source": [
    "# Plumbing the data\n",
    "loan_list = ??? # this gives us a list of dicts\n",
    "loan_list"
   ]
  },
  {
   "cell_type": "code",
   "execution_count": null,
   "metadata": {},
   "outputs": [],
   "source": [
    "# what can we learn from this data?\n",
    "for loan_dict in loan_list:\n",
    "    print(type(loan_dict))\n",
    "    for key in loan_dict:\n",
    "        print(key)"
   ]
  },
  {
   "cell_type": "code",
   "execution_count": null,
   "metadata": {},
   "outputs": [],
   "source": [
    "# print out all the names\n",
    "for loan_dict in loan_list:\n",
    "    ???"
   ]
  },
  {
   "cell_type": "code",
   "execution_count": null,
   "metadata": {},
   "outputs": [],
   "source": [
    "# print out the total amount to loan\n",
    "for loan_dict in loan_list:\n",
    "    ???"
   ]
  },
  {
   "cell_type": "code",
   "execution_count": null,
   "metadata": {},
   "outputs": [],
   "source": [
    "# print out the min, max, and avg loan amounts\n",
    "loan_amounts = []\n",
    "for loan_dict in loan_list:\n",
    "    ???"
   ]
  },
  {
   "cell_type": "code",
   "execution_count": null,
   "metadata": {},
   "outputs": [],
   "source": [
    "# print out all the country names\n",
    "for loan_dict in loan_list:\n",
    "    ???"
   ]
  },
  {
   "cell_type": "code",
   "execution_count": null,
   "metadata": {},
   "outputs": [],
   "source": [
    "# go to the kiva.com site and experiement with their API\n",
    "# https://www.kiva.org/build"
   ]
  },
  {
   "cell_type": "code",
   "execution_count": null,
   "metadata": {},
   "outputs": [],
   "source": [
    "# more complex APIs...\n",
    "# https://static01.nyt.com/elections-assets/2020/data/api/2020-11-03/state-page/wisconsin.json"
   ]
  },
  {
   "cell_type": "markdown",
   "metadata": {},
   "source": [
    "## After Lecture: Worksheet"
   ]
  },
  {
   "cell_type": "code",
   "execution_count": null,
   "metadata": {},
   "outputs": [],
   "source": []
  }
 ],
 "metadata": {
  "kernelspec": {
   "display_name": "Python 3 (ipykernel)",
   "language": "python",
   "name": "python3"
  },
  "language_info": {
   "codemirror_mode": {
    "name": "ipython",
    "version": 3
   },
   "file_extension": ".py",
   "mimetype": "text/x-python",
   "name": "python",
   "nbconvert_exporter": "python",
   "pygments_lexer": "ipython3",
   "version": "3.9.7"
  }
 },
 "nbformat": 4,
 "nbformat_minor": 4
}

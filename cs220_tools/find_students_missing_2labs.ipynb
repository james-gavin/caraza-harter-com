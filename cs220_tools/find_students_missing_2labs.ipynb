{
 "cells": [
  {
   "cell_type": "markdown",
   "id": "3c336fdd",
   "metadata": {},
   "source": [
    "# Students who missed at least 2 labs\n",
    "\n",
    "- Download canvas roster and save it sa canvas.csv in current directory ex: canvas.csv\n",
    "    - delete irrelevant columns (that is only retain lab attendance columns)\n",
    "    - also delete the 2nd row (the one above the first student)\n",
    "- Writes new csv lab_missing_students.csv"
   ]
  },
  {
   "cell_type": "code",
   "execution_count": 1,
   "id": "d12559d6",
   "metadata": {},
   "outputs": [],
   "source": [
    "import csv"
   ]
  },
  {
   "cell_type": "code",
   "execution_count": 2,
   "id": "af6b2db5",
   "metadata": {},
   "outputs": [],
   "source": [
    "# inspired by https://automatetheboringstuff.com/2e/chapter16/\n",
    "def process_csv(filename):\n",
    "    example_file = open(filename, encoding=\"utf-8\")\n",
    "    example_reader = csv.reader(example_file)\n",
    "    example_data = list(example_reader)\n",
    "    example_file.close()\n",
    "    return example_data"
   ]
  },
  {
   "cell_type": "code",
   "execution_count": 3,
   "id": "7b0a1c13",
   "metadata": {},
   "outputs": [],
   "source": [
    "csv_data = process_csv(\"canvas.csv\")\n",
    "canvas_header = csv_data[0]\n",
    "canvas_data = csv_data[1:]"
   ]
  },
  {
   "cell_type": "code",
   "execution_count": 4,
   "id": "1c23fcc2",
   "metadata": {},
   "outputs": [
    {
     "data": {
      "text/plain": [
       "['Student',\n",
       " 'ID',\n",
       " 'SIS User ID',\n",
       " 'SIS Login ID',\n",
       " 'Section',\n",
       " 'Week 1 Lab (1469414)',\n",
       " 'Week 2 Lab (1469415)',\n",
       " 'Week 3 Lab (1469416)',\n",
       " 'Week 4 Lab (1469417)',\n",
       " 'Week 5 Lab (1509138)',\n",
       " 'Week 6 Lab (1469418)']"
      ]
     },
     "execution_count": 4,
     "metadata": {},
     "output_type": "execute_result"
    }
   ],
   "source": [
    "canvas_header"
   ]
  },
  {
   "cell_type": "code",
   "execution_count": 5,
   "id": "ecae4ee6",
   "metadata": {},
   "outputs": [
    {
     "data": {
      "text/plain": [
       "['Week 1 Lab (1469414)',\n",
       " 'Week 2 Lab (1469415)',\n",
       " 'Week 3 Lab (1469416)',\n",
       " 'Week 4 Lab (1469417)',\n",
       " 'Week 5 Lab (1509138)',\n",
       " 'Week 6 Lab (1469418)']"
      ]
     },
     "execution_count": 5,
     "metadata": {},
     "output_type": "execute_result"
    }
   ],
   "source": [
    "# populates lab column names\n",
    "\n",
    "lab_columns = [val for val in canvas_header if \"lab\" in val.lower()]\n",
    "lab_columns"
   ]
  },
  {
   "cell_type": "code",
   "execution_count": 12,
   "id": "ad2e433d",
   "metadata": {},
   "outputs": [],
   "source": [
    "students_missing_2labs = []\n",
    "students_missing_2labs.append(canvas_header)\n",
    "\n",
    "for row_idx in range(len(canvas_data)):\n",
    "    student_row = canvas_data[row_idx]\n",
    "    section = student_row[canvas_header.index(\"Section\")]\n",
    "    if \"319\" in section:\n",
    "        continue\n",
    "    missing_lab_count = 0\n",
    "    for column in lab_columns:\n",
    "        lab_attendance = student_row[canvas_header.index(column)]\n",
    "        if \"EX\" in lab_attendance.upper():\n",
    "            continue\n",
    "        \n",
    "        lab_attendance = int(lab_attendance)\n",
    "        if lab_attendance == 0:\n",
    "            missing_lab_count += 1\n",
    "    \n",
    "    if missing_lab_count >= 2:\n",
    "        students_missing_2labs.append(student_row)"
   ]
  },
  {
   "cell_type": "code",
   "execution_count": 14,
   "id": "93c547a1",
   "metadata": {},
   "outputs": [
    {
     "data": {
      "text/plain": [
       "92"
      ]
     },
     "execution_count": 14,
     "metadata": {},
     "output_type": "execute_result"
    }
   ],
   "source": [
    "len(students_missing_2labs)"
   ]
  },
  {
   "cell_type": "code",
   "execution_count": 15,
   "id": "8b7f3a94",
   "metadata": {},
   "outputs": [],
   "source": [
    "with open(\"lab_missing_students.csv\", \"w\", newline=\"\") as f:\n",
    "    writer = csv.writer(f)\n",
    "    writer.writerows(students_missing_2labs)"
   ]
  },
  {
   "cell_type": "code",
   "execution_count": null,
   "id": "d99fba59",
   "metadata": {},
   "outputs": [],
   "source": []
  }
 ],
 "metadata": {
  "kernelspec": {
   "display_name": "Python 3 (ipykernel)",
   "language": "python",
   "name": "python3"
  },
  "language_info": {
   "codemirror_mode": {
    "name": "ipython",
    "version": 3
   },
   "file_extension": ".py",
   "mimetype": "text/x-python",
   "name": "python",
   "nbconvert_exporter": "python",
   "pygments_lexer": "ipython3",
   "version": "3.9.7"
  }
 },
 "nbformat": 4,
 "nbformat_minor": 5
}

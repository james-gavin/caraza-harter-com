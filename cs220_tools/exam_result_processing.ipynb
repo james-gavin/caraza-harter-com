{
 "cells": [
  {
   "cell_type": "markdown",
   "id": "422b5e02",
   "metadata": {},
   "source": [
    "# Exam result processing\n",
    "\n",
    "- Copy exam roster csv file (one used for exam check-in tool to cs220_tools ex: exam2_roster.csv)\n",
    "- Download exam result csv and move it to current directory ex: exam2_results.csv\n",
    "- Download canvas roster and save it sa canvas.csv in current directory ex: canvas.csv\n",
    "- Update below section on dropping question(s) if needed\n",
    "- Writes new csv canvas_exam_name.csv ex: canvas_exam2.csv"
   ]
  },
  {
   "cell_type": "code",
   "execution_count": 1,
   "id": "574651ea",
   "metadata": {},
   "outputs": [],
   "source": [
    "import sys\n",
    "import json\n",
    "import boto3\n",
    "import csv"
   ]
  },
  {
   "cell_type": "code",
   "execution_count": 2,
   "id": "a0ae1e48",
   "metadata": {},
   "outputs": [
    {
     "name": "stdout",
     "output_type": "stream",
     "text": [
      "Enter exam name: exam1 or exam2 or final: exam1\n"
     ]
    }
   ],
   "source": [
    "exam_name = input(\"Enter exam name: exam1 or exam2 or final: \")\n",
    "\n",
    "drop_flag = False\n",
    "# KEY: exam version; VALUE: list of questions to drop / regrade\n",
    "drop_questions = {\n",
    "        \"6\": {\"_10\": \"1\"},\n",
    "        \"7\": {\"_20\": \"1\"},\n",
    "        \"8\": {\"_10\": \"1\"},\n",
    "        \"9\": {\"_25\": \"1\"},\n",
    "        }\n",
    "\n",
    "roster_dict = {}\n",
    "backup_roster = {}\n",
    "netid_roster_dict = {}\n",
    "\n",
    "BUCKET = 'caraza-harter-cs301'\n",
    "s3 = boto3.client('s3')"
   ]
  },
  {
   "cell_type": "code",
   "execution_count": 3,
   "id": "332f2229",
   "metadata": {},
   "outputs": [],
   "source": [
    "exam_roster_file = exam_name + \"_roster.csv\"\n",
    "exam_results_file = exam_name + \"_results.csv\""
   ]
  },
  {
   "cell_type": "code",
   "execution_count": 4,
   "id": "78e9149b",
   "metadata": {},
   "outputs": [],
   "source": [
    "# inspired by https://automatetheboringstuff.com/2e/chapter16/\n",
    "def process_csv(filename):\n",
    "    example_file = open(filename, encoding=\"utf-8\")\n",
    "    example_reader = csv.reader(example_file)\n",
    "    example_data = list(example_reader)\n",
    "    example_file.close()\n",
    "    return example_data"
   ]
  },
  {
   "cell_type": "code",
   "execution_count": 5,
   "id": "547c88e4",
   "metadata": {},
   "outputs": [],
   "source": [
    "def convert_roster_to_netid_roster():\n",
    "    for student_id in roster_dict:\n",
    "        net_id = roster_dict[student_id][\"netid\"]\n",
    "        roster_dict[student_id][\"campus id\"] = student_id\n",
    "        netid_roster_dict[net_id] = roster_dict[student_id]"
   ]
  },
  {
   "cell_type": "code",
   "execution_count": 6,
   "id": "e30728fa",
   "metadata": {},
   "outputs": [],
   "source": [
    "def read_roster(exam_roster):\n",
    "    exam_roster_header = exam_roster[0]\n",
    "    exam_roster = exam_roster[1:]\n",
    "    for row in exam_roster:\n",
    "        campus_id = row[exam_roster_header.index(\"id\")]\n",
    "        netid = row[exam_roster_header.index(\"login\")]\n",
    "        lname = row[exam_roster_header.index(\"lname\")].lower().strip()\n",
    "        fname = row[exam_roster_header.index(\"fname\")].lower().strip()\n",
    "        full_name = lname + \",\" + fname\n",
    "        roster_dict[campus_id] = {\n",
    "                \"netid\": netid,\n",
    "                \"lname\": lname,\n",
    "                \"fname\": fname\n",
    "                }\n",
    "        backup_roster[full_name] = {\n",
    "                \"campus id\": campus_id,\n",
    "                \"netid\": netid,\n",
    "                \"lname\": lname,\n",
    "                \"fname\": fname\n",
    "        }"
   ]
  },
  {
   "cell_type": "code",
   "execution_count": 7,
   "id": "440613d4",
   "metadata": {},
   "outputs": [],
   "source": [
    "def gen_email(exam_name):\n",
    "    emails = []\n",
    "    for student_id in roster_dict:\n",
    "        email = {\n",
    "            \"html\":True, \n",
    "            \"subject\": \"CS 220 - \" + exam_name.upper() + \" results\", \n",
    "            \"to\": roster_dict[student_id][\"netid\"] + \"@wisc.edu\"\n",
    "        }\n",
    "        if \"total score\" not in roster_dict[student_id]:\n",
    "            #print(email[\"to\"])\n",
    "            msg = \"\"\"<p>Please see canvas for your exam score and answer choices, \n",
    "                    if you took exam via canvas quiz.</p>\"\"\"\n",
    "            msg += \"\"\"<p>If you took an in-person exam, do not worry that you are seeing this message. \n",
    "                    Please email your instructor.</p>\"\"\"\n",
    "        else:\n",
    "            #print(student_id, roster_dict[student_id])\n",
    "            msg = '<p>Hello, your exam score was: ' + roster_dict[student_id][\"total score\"]\n",
    "            msg += \"<p>Your answers for each question:</p>\"\n",
    "            msg += \"<ol>\"\n",
    "            for qnum in range(len(roster_dict[student_id][\"answers\"])):\n",
    "                msg += \"<li>\" + roster_dict[student_id][\"answers\"][qnum] + \"</li>\"\n",
    "            msg += \"</ol>\"\n",
    "        \n",
    "        email[\"message\"] = msg\n",
    "        emails.append(email)\n",
    "\n",
    "    with open(exam_name + \"_emails.json\", \"w\") as f:\n",
    "        json.dump(emails, f)"
   ]
  },
  {
   "cell_type": "code",
   "execution_count": 8,
   "id": "9ffb9a7b",
   "metadata": {},
   "outputs": [],
   "source": [
    "def update_canvas_score(exam_name, exam_column, exam_honorlock_column):\n",
    "    canvas_data = process_csv(\"canvas.csv\")\n",
    "    header = canvas_data[0]\n",
    "    canvas_data = canvas_data[1:]\n",
    "    for row in canvas_data:\n",
    "        if row[header.index(exam_honorlock_column)] != \"N/A\":\n",
    "            row[header.index(exam_column)] = row[header.index(exam_honorlock_column)]\n",
    "        else:\n",
    "            net_id = row[header.index(\"SIS Login ID\")].lower()\n",
    "            net_id = net_id.replace(\"@wisc.edu\", \"\")\n",
    "            if net_id in netid_roster_dict:\n",
    "                if \"total score\" in netid_roster_dict[net_id]:\n",
    "                    row[header.index(exam_column)] = netid_roster_dict[net_id][\"total score\"]\n",
    "                else:\n",
    "                    if net_id in netid_roster_dict:\n",
    "                        print(netid_roster_dict[net_id])\n",
    "                    else:\n",
    "                        print(\"Couldn't find:\", net_id)\n",
    "                    row[header.index(exam_column)] = 0\n",
    "            else:\n",
    "                if net_id in netid_roster_dict:\n",
    "                    print(netid_roster_dict[net_id])\n",
    "                else:\n",
    "                    print(\"Couldn't find:\", net_id)\n",
    "                row[header.index(exam_column)] = 0\n",
    "\n",
    "    canvas_data.insert(0, header)\n",
    "\n",
    "    with open(\"canvas_\" + exam_name + \".csv\", \"w\", newline=\"\") as f:\n",
    "        writer = csv.writer(f)\n",
    "        writer.writerows(canvas_data)"
   ]
  },
  {
   "cell_type": "code",
   "execution_count": 9,
   "id": "bd24019a",
   "metadata": {},
   "outputs": [],
   "source": [
    "def read_exam_results(exam_results):\n",
    "    exam_results_header = exam_results[0]\n",
    "    exam_results = exam_results[1:]\n",
    "    for row in exam_results:\n",
    "        lname = row[exam_results_header.index(\"LastName\")].lower().strip()\n",
    "        fname = row[exam_results_header.index(\"FirstName\")].lower().strip()\n",
    "        campus_id = row[exam_results_header.index(\"ID\")]\n",
    "        special_codes = row[exam_results_header.index(\"SpecialCodes\")].strip()\n",
    "        codes = special_codes.split(\" \")\n",
    "        cleaned_codes = [code for code in codes if code != \"\"]\n",
    "        if len(cleaned_codes) > 1:\n",
    "            exam_version = cleaned_codes[1]\n",
    "        else:\n",
    "            exam_version = cleaned_codes[0]\n",
    "\n",
    "        full_name = lname + \",\" + fname\n",
    "        if campus_id not in roster_dict:\n",
    "            # Initial check to filter out incorrect campus ID entries on the scantron\n",
    "            # There will inevitably be some incorrect entries!\n",
    "            if full_name in backup_roster:\n",
    "                # Print this and send these students an email :)\n",
    "                print(\"Wrong campus ID: \", end = \"\")\n",
    "                print(backup_roster[full_name][\"netid\"] + \"@wisc.edu\")\n",
    "                campus_id = backup_roster[full_name][\"campus id\"]\n",
    "                roster_dict[campus_id] = backup_roster[full_name]\n",
    "            else:\n",
    "                # Good luck with the manual finding process ;)\n",
    "                print(\"Couldn't find student: \", end = \"\")\n",
    "                print(row)\n",
    "                #pass\n",
    "\n",
    "        # Checks for questions which needs to be dropped\n",
    "        # Gives points to students who chose different answer from\n",
    "        # original answer option\n",
    "        if drop_flag:\n",
    "            drop = drop_questions[exam_version]\n",
    "            for question in drop:\n",
    "                student_answer = row[exam_results_header.index(question)]\n",
    "                if student_answer != drop[question]:\n",
    "                    roster_dict[campus_id][\"total score\"] = str(int(row[exam_results_header.index(\"TotalScore\")]) + 1)\n",
    "                else:\n",
    "                    roster_dict[campus_id][\"total score\"] = row[exam_results_header.index(\"TotalScore\")]\n",
    "        else:\n",
    "            #If all mappings work, this will populate dictionary with total score\n",
    "            roster_dict[campus_id][\"total score\"] = row[exam_results_header.index(\"TotalScore\")]\n",
    "\n",
    "        #Marked answers from scantron\n",
    "        answers = []\n",
    "        for col_idx in range(7, 42):\n",
    "            answers.append(row[col_idx])\n",
    "\n",
    "        roster_dict[campus_id][\"answers\"] = answers"
   ]
  },
  {
   "cell_type": "code",
   "execution_count": 10,
   "id": "f13f4ea6",
   "metadata": {},
   "outputs": [
    {
     "name": "stdout",
     "output_type": "stream",
     "text": [
      "Wrong campus ID: das38@wisc.edu\n",
      "Wrong campus ID: iluitel@wisc.edu\n",
      "Wrong campus ID: oh79@wisc.edu\n",
      "Wrong campus ID: sbreidigan@wisc.edu\n",
      "Wrong campus ID: ewermeling@wisc.edu\n",
      "Wrong campus ID: jberget@wisc.edu\n",
      "Wrong campus ID: ndjefferson@wisc.edu\n"
     ]
    }
   ],
   "source": [
    "exam_roster = process_csv(exam_roster_file)\n",
    "read_roster(exam_roster)\n",
    "\n",
    "exam_results = process_csv(exam_results_file)\n",
    "read_exam_results(exam_results)"
   ]
  },
  {
   "cell_type": "code",
   "execution_count": 11,
   "id": "4b4d4979",
   "metadata": {},
   "outputs": [],
   "source": [
    "gen_email(exam_name)\n",
    "convert_roster_to_netid_roster()"
   ]
  },
  {
   "cell_type": "code",
   "execution_count": 12,
   "id": "3941690a",
   "metadata": {},
   "outputs": [
    {
     "name": "stdout",
     "output_type": "stream",
     "text": [
      "Enter exam canvas column: Exam 1 (1469410)\n",
      "Enter exam canvas honorlock column: Exam 1 Honorlock (1517837)\n",
      "{'netid': 'cmbowe', 'lname': 'bowe', 'fname': 'connor', 'campus id': '9082397432'}\n",
      "{'netid': 'zguo274', 'lname': 'guo wang', 'fname': 'zecheng', 'campus id': '9083540881'}\n",
      "{'netid': 'oqhaas', 'lname': 'haas', 'fname': 'olivia', 'campus id': '9083130949'}\n",
      "{'netid': 'ytang232', 'lname': 'tang', 'fname': 'yuxin', 'campus id': '9081647308'}\n",
      "Couldn't find: 2603481baa70f937120319518be1e0f9abd9d34f\n"
     ]
    }
   ],
   "source": [
    "exam_column = input(\"Enter exam canvas column: \")\n",
    "exam_honorlock_column = input(\"Enter exam canvas honorlock column: \")\n",
    "update_canvas_score(exam_name, exam_column, exam_honorlock_column)"
   ]
  }
 ],
 "metadata": {
  "kernelspec": {
   "display_name": "Python 3 (ipykernel)",
   "language": "python",
   "name": "python3"
  },
  "language_info": {
   "codemirror_mode": {
    "name": "ipython",
    "version": 3
   },
   "file_extension": ".py",
   "mimetype": "text/x-python",
   "name": "python",
   "nbconvert_exporter": "python",
   "pygments_lexer": "ipython3",
   "version": "3.9.7"
  }
 },
 "nbformat": 4,
 "nbformat_minor": 5
}

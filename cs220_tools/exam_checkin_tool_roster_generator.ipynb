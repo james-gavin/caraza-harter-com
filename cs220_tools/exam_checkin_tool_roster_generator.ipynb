{
 "cells": [
  {
   "cell_type": "code",
   "execution_count": 1,
   "id": "e68b8ff1",
   "metadata": {},
   "outputs": [],
   "source": [
    "import csv\n",
    "import json"
   ]
  },
  {
   "cell_type": "code",
   "execution_count": 2,
   "id": "9d83d19c",
   "metadata": {},
   "outputs": [],
   "source": [
    "def process_csv(filename):\n",
    "    fh = open(filename)\n",
    "    reader = csv.reader(fh)\n",
    "    data = list(reader)\n",
    "    return data\n",
    "\n",
    "def write_csv(filename, data):\n",
    "    with open(filename, \"w\") as FH:\n",
    "        writer = csv.writer(FH)\n",
    "        writer.writerows(data) \n",
    "        \n",
    "def read_json(path):\n",
    "    with open(path, encoding = \"utf-8\") as f:\n",
    "        return json.load(f)"
   ]
  },
  {
   "cell_type": "code",
   "execution_count": 3,
   "id": "49869f8a",
   "metadata": {},
   "outputs": [],
   "source": [
    "# cs220.csv - roster file from CSL AFS. Has information for all lectures\n",
    "\n",
    "csl_roster = process_csv(\"cs220.csv\")\n",
    "csl_roster_header = csl_roster[0]\n",
    "csl_roster = csl_roster[1:]"
   ]
  },
  {
   "cell_type": "code",
   "execution_count": 4,
   "id": "6819a767",
   "metadata": {},
   "outputs": [
    {
     "data": {
      "text/plain": [
       "['login',\n",
       " 'netid',\n",
       " 'isis_univid',\n",
       " 'photo_id',\n",
       " 'isis_emplid',\n",
       " 'last_name',\n",
       " 'first_name',\n",
       " 'middle_name',\n",
       " 'campus_email',\n",
       " 'ferpa_flag']"
      ]
     },
     "execution_count": 4,
     "metadata": {},
     "output_type": "execute_result"
    }
   ],
   "source": [
    "csl_roster_header"
   ]
  },
  {
   "cell_type": "code",
   "execution_count": 5,
   "id": "c454adf6",
   "metadata": {},
   "outputs": [],
   "source": [
    "# Read CSL AFS roster and generate netid to campus ID mapping\n",
    "csl_roster_dict = {} # KEY: netid; VALUE: campus ID\n",
    "\n",
    "for row in csl_roster:\n",
    "    netid = row[csl_roster_header.index(\"netid\")].lower()\n",
    "    campus_id = row[csl_roster_header.index(\"isis_univid\")]\n",
    "    if netid not in csl_roster_dict:\n",
    "        csl_roster_dict[netid] = campus_id\n",
    "    else:\n",
    "        print(\"Strange!\", row)"
   ]
  },
  {
   "cell_type": "code",
   "execution_count": 6,
   "id": "cb763686",
   "metadata": {},
   "outputs": [],
   "source": [
    "location_map = {\n",
    "    \"BASCOM 272\": [\"L1\", \"BAS272\", 0],\n",
    "    \"Humanities 3650\": [\"L2\", \"HUM2650\", 0],\n",
    "    \"PSYCHOLOGY 113\": [\"A1\", \"PSY113\", 0],\n",
    "    \"Humanities 2650\": [\"L4\", \"HUM3650\", 0],\n",
    "    \"Ingraham B10\": [\"L3\", \"INGB10\", 0],\n",
    "    \"Comp Sci 1221\": [\"M1\", \"CS1221\", 0]\n",
    "}\n",
    "\n",
    "location_map = {\n",
    "    \"BASCOM 272\": [\"L1\", \"L1\", 0],\n",
    "    \"Humanities 3650\": [\"L2\", \"L2\", 0],\n",
    "    \"PSYCHOLOGY 113\": [\"A1\", \"A1\", 0],\n",
    "    \"Humanities 2650\": [\"L4\", \"L4\", 0],\n",
    "    \"Ingraham B10\": [\"L3\", \"L3\", 0],\n",
    "    \"Comp Sci 1221\": [\"M1\", \"M1\", 0]\n",
    "}"
   ]
  },
  {
   "cell_type": "code",
   "execution_count": 7,
   "id": "3f98a7df",
   "metadata": {},
   "outputs": [
    {
     "name": "stdout",
     "output_type": "stream",
     "text": [
      "Enter the exam name (exam1, exam2, final): exam1\n"
     ]
    }
   ],
   "source": [
    "# Read roster.json\n",
    "\n",
    "roster_dict = {} # Key: netid; VALUE: exam location details\n",
    "exam_name = input(\"Enter the exam name (exam1, exam2, final): \")\n",
    "\n",
    "exam_roster_list = []\n",
    "exam_roster_header = ['id', 'orig', 'venue', 'login', 'lname', 'fname', 'lec', 'lab']\n",
    "exam_roster_list.append(exam_roster_header)\n",
    "\n",
    "total_students = 0\n",
    "\n",
    "roster = read_json(\"../tools/roster.json\")\n",
    "for student_dict in roster:\n",
    "    if student_dict[\"enrolled\"]:\n",
    "        #print(student_dict)\n",
    "        total_students += 1\n",
    "        \n",
    "        if \"Online\".lower() in student_dict[exam_name].lower():\n",
    "            continue\n",
    "        if \"testing center\".lower() in student_dict[exam_name].lower():\n",
    "            continue\n",
    "        \n",
    "        netid = student_dict[\"net_id\"]\n",
    "        if netid not in csl_roster_dict:\n",
    "            print(\"Couldn't find student details:\")\n",
    "            print(student_dict)\n",
    "            \n",
    "            student_list = []\n",
    "            student_list.append(\"00000\")\n",
    "            for loc in location_map:\n",
    "                if loc.lower() in student_dict[exam_name].lower():\n",
    "                    student_list.append(location_map[loc][0])\n",
    "                    student_list.append(location_map[loc][1])\n",
    "                    break\n",
    "            student_list.append(student_dict['net_id'])\n",
    "            lname, fname = student_dict['name'].split(\", \")\n",
    "            student_list.append(lname)\n",
    "            student_list.append(fname)\n",
    "            student_list.append(student_dict['section'])\n",
    "            student_list.append(student_dict['section'])\n",
    "            #print(student_list)\n",
    "            exam_roster_list.append(student_list)\n",
    "            location_map[loc][2] += 1\n",
    "            continue\n",
    "            \n",
    "        campus_id = csl_roster_dict[netid]\n",
    "        exam_details = student_dict[exam_name]\n",
    "        \n",
    "        student_list = []\n",
    "        student_list.append(campus_id)\n",
    "        for loc in location_map:\n",
    "            if loc.lower() in student_dict[exam_name].lower():\n",
    "                student_list.append(location_map[loc][0])\n",
    "                student_list.append(location_map[loc][1])\n",
    "                break\n",
    "        student_list.append(student_dict['net_id'])\n",
    "        lname, fname = student_dict['name'].split(\", \")\n",
    "        student_list.append(lname)\n",
    "        student_list.append(fname)\n",
    "        student_list.append(student_dict['section'])\n",
    "        student_list.append(student_dict['section'])\n",
    "        #print(student_list)\n",
    "        exam_roster_list.append(student_list)\n",
    "        location_map[loc][2] += 1"
   ]
  },
  {
   "cell_type": "code",
   "execution_count": 8,
   "id": "afbe67eb",
   "metadata": {},
   "outputs": [],
   "source": [
    "with open(exam_name + \"_roster.csv\", \"w\", newline=\"\") as f:\n",
    "    writer = csv.writer(f)\n",
    "    writer.writerows(exam_roster_list)"
   ]
  },
  {
   "cell_type": "code",
   "execution_count": 9,
   "id": "d1a173ed",
   "metadata": {},
   "outputs": [
    {
     "data": {
      "text/plain": [
       "681"
      ]
     },
     "execution_count": 9,
     "metadata": {},
     "output_type": "execute_result"
    }
   ],
   "source": [
    "len(exam_roster_list)"
   ]
  },
  {
   "cell_type": "code",
   "execution_count": null,
   "id": "e1cc564d",
   "metadata": {},
   "outputs": [],
   "source": []
  }
 ],
 "metadata": {
  "kernelspec": {
   "display_name": "Python 3 (ipykernel)",
   "language": "python",
   "name": "python3"
  },
  "language_info": {
   "codemirror_mode": {
    "name": "ipython",
    "version": 3
   },
   "file_extension": ".py",
   "mimetype": "text/x-python",
   "name": "python",
   "nbconvert_exporter": "python",
   "pygments_lexer": "ipython3",
   "version": "3.9.7"
  }
 },
 "nbformat": 4,
 "nbformat_minor": 5
}

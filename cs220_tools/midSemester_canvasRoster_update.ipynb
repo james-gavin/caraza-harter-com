{
 "cells": [
  {
   "cell_type": "code",
   "execution_count": 1,
   "id": "d0df75aa",
   "metadata": {},
   "outputs": [],
   "source": [
    "## Download canvas gradebook and save as \"canvas.csv\" in \n",
    "## cs220_tools directory\n",
    "\n",
    "## Reads roster.json in ../tools directory"
   ]
  },
  {
   "cell_type": "code",
   "execution_count": 2,
   "id": "d1065711",
   "metadata": {},
   "outputs": [],
   "source": [
    "import csv\n",
    "import json\n",
    "import os"
   ]
  },
  {
   "cell_type": "code",
   "execution_count": 3,
   "id": "ef47bc82",
   "metadata": {},
   "outputs": [],
   "source": [
    "# inspired by https://automatetheboringstuff.com/2e/chapter16/\n",
    "def process_csv(filename):\n",
    "    example_file = open(filename, encoding=\"utf-8\")\n",
    "    example_reader = csv.reader(example_file)\n",
    "    example_data = list(example_reader)\n",
    "    example_file.close()\n",
    "    return example_data\n",
    "\n",
    "def read_json(path):\n",
    "    with open(path, encoding=\"utf-8\") as f:\n",
    "        return json.load(f) # dict, list, etc\n",
    "    \n",
    "def write_json(path, data):\n",
    "    with open(path, 'w', encoding=\"utf-8\") as f:\n",
    "        json.dump(data, f, indent=2)"
   ]
  },
  {
   "cell_type": "code",
   "execution_count": 4,
   "id": "7d5b0d1d",
   "metadata": {},
   "outputs": [],
   "source": [
    "# read canvas.csv\n",
    "csv_data = process_csv(\"canvas.csv\")\n",
    "canvas_header = csv_data[0]\n",
    "canvas_data = csv_data[2:]"
   ]
  },
  {
   "cell_type": "code",
   "execution_count": 5,
   "id": "949e09de",
   "metadata": {},
   "outputs": [],
   "source": [
    "# read ../tools/roster.json \n",
    "\n",
    "path = os.path.join(\"..\", \"tools\", \"roster.json\")\n",
    "roster_data = read_json(path)"
   ]
  },
  {
   "cell_type": "code",
   "execution_count": 6,
   "id": "5a6d5d0d",
   "metadata": {},
   "outputs": [],
   "source": [
    "# generate canvas dict\n",
    "\n",
    "canvas_dict = {} # key: netid; Value: 1\n",
    "\n",
    "for student in canvas_data:\n",
    "    student_id = student[canvas_header.index(\"SIS Login ID\")].lower()\\\n",
    "    .replace(\"@wisc.edu\", \"\")\n",
    "    canvas_dict[student_id] = 1"
   ]
  },
  {
   "cell_type": "code",
   "execution_count": 7,
   "id": "807b394f",
   "metadata": {},
   "outputs": [
    {
     "name": "stdout",
     "output_type": "stream",
     "text": [
      "adbair dropped the course!\n",
      "esse3 dropped the course!\n",
      "yhe336 dropped the course!\n",
      "sjenkins9 dropped the course!\n",
      "lkerrigan dropped the course!\n",
      "klekas dropped the course!\n",
      "mjknight dropped the course!\n",
      "mrkueppers dropped the course!\n",
      "nlanglois dropped the course!\n",
      "nlesser dropped the course!\n",
      "mjmcnerney dropped the course!\n",
      "arooney3 dropped the course!\n",
      "lschmidtmann dropped the course!\n",
      "esladky dropped the course!\n",
      "asteffensen dropped the course!\n",
      "ytang232 dropped the course!\n",
      "hyu352 dropped the course!\n",
      "dzydek dropped the course!\n",
      "18\n"
     ]
    }
   ],
   "source": [
    "# iterate over roster\n",
    "\n",
    "dropped_count = 0\n",
    "\n",
    "for student_dict in roster_data:\n",
    "    if student_dict[\"enrolled\"]:\n",
    "        netid = student_dict[\"net_id\"]\n",
    "        if netid not in canvas_dict:\n",
    "            print(netid, \"dropped the course!\")\n",
    "            dropped_count += 1\n",
    "            student_dict[\"enrolled\"] = False\n",
    "            \n",
    "print(dropped_count)"
   ]
  },
  {
   "cell_type": "code",
   "execution_count": 8,
   "id": "c7589636",
   "metadata": {},
   "outputs": [],
   "source": [
    "path = \"roster_after_drop.json\"\n",
    "write_json(path, roster_data)"
   ]
  },
  {
   "cell_type": "code",
   "execution_count": null,
   "id": "fca2002f",
   "metadata": {},
   "outputs": [],
   "source": []
  }
 ],
 "metadata": {
  "kernelspec": {
   "display_name": "Python 3 (ipykernel)",
   "language": "python",
   "name": "python3"
  },
  "language_info": {
   "codemirror_mode": {
    "name": "ipython",
    "version": 3
   },
   "file_extension": ".py",
   "mimetype": "text/x-python",
   "name": "python",
   "nbconvert_exporter": "python",
   "pygments_lexer": "ipython3",
   "version": "3.9.7"
  }
 },
 "nbformat": 4,
 "nbformat_minor": 5
}
